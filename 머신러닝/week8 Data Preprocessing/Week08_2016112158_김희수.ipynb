{
 "cells": [
  {
   "cell_type": "markdown",
   "metadata": {},
   "source": [
    "# Week08 Data Preprocessing"
   ]
  },
  {
   "cell_type": "markdown",
   "metadata": {},
   "source": [
    "---\n",
    "p4"
   ]
  },
  {
   "cell_type": "markdown",
   "metadata": {},
   "source": [
    "# 1. Dealing with missing data"
   ]
  },
  {
   "cell_type": "markdown",
   "metadata": {},
   "source": [
    "### Sample data"
   ]
  },
  {
   "cell_type": "code",
   "execution_count": 1,
   "metadata": {},
   "outputs": [
    {
     "output_type": "execute_result",
     "data": {
      "text/plain": [
       "   A    B     C  label\n",
       "0  1  0.1  10.0      0\n",
       "1  2  0.2  20.0      0\n",
       "2  2  0.1   NaN      1\n",
       "3  3  0.3  20.0      1\n",
       "4  2  0.2   NaN      0"
      ],
      "text/html": "<div>\n<style scoped>\n    .dataframe tbody tr th:only-of-type {\n        vertical-align: middle;\n    }\n\n    .dataframe tbody tr th {\n        vertical-align: top;\n    }\n\n    .dataframe thead th {\n        text-align: right;\n    }\n</style>\n<table border=\"1\" class=\"dataframe\">\n  <thead>\n    <tr style=\"text-align: right;\">\n      <th></th>\n      <th>A</th>\n      <th>B</th>\n      <th>C</th>\n      <th>label</th>\n    </tr>\n  </thead>\n  <tbody>\n    <tr>\n      <th>0</th>\n      <td>1</td>\n      <td>0.1</td>\n      <td>10.0</td>\n      <td>0</td>\n    </tr>\n    <tr>\n      <th>1</th>\n      <td>2</td>\n      <td>0.2</td>\n      <td>20.0</td>\n      <td>0</td>\n    </tr>\n    <tr>\n      <th>2</th>\n      <td>2</td>\n      <td>0.1</td>\n      <td>NaN</td>\n      <td>1</td>\n    </tr>\n    <tr>\n      <th>3</th>\n      <td>3</td>\n      <td>0.3</td>\n      <td>20.0</td>\n      <td>1</td>\n    </tr>\n    <tr>\n      <th>4</th>\n      <td>2</td>\n      <td>0.2</td>\n      <td>NaN</td>\n      <td>0</td>\n    </tr>\n  </tbody>\n</table>\n</div>"
     },
     "metadata": {},
     "execution_count": 1
    }
   ],
   "source": [
    "import pandas as pd\n",
    "import numpy as np\n",
    "\n",
    "df = pd.read_csv('sample-missing-data.csv')\n",
    "df"
   ]
  },
  {
   "cell_type": "markdown",
   "metadata": {},
   "source": [
    "### Removing a feature"
   ]
  },
  {
   "cell_type": "code",
   "execution_count": 2,
   "metadata": {},
   "outputs": [
    {
     "output_type": "execute_result",
     "data": {
      "text/plain": [
       "     B     C  label\n",
       "0  0.1  10.0      0\n",
       "1  0.2  20.0      0\n",
       "2  0.1   NaN      1\n",
       "3  0.3  20.0      1\n",
       "4  0.2   NaN      0"
      ],
      "text/html": "<div>\n<style scoped>\n    .dataframe tbody tr th:only-of-type {\n        vertical-align: middle;\n    }\n\n    .dataframe tbody tr th {\n        vertical-align: top;\n    }\n\n    .dataframe thead th {\n        text-align: right;\n    }\n</style>\n<table border=\"1\" class=\"dataframe\">\n  <thead>\n    <tr style=\"text-align: right;\">\n      <th></th>\n      <th>B</th>\n      <th>C</th>\n      <th>label</th>\n    </tr>\n  </thead>\n  <tbody>\n    <tr>\n      <th>0</th>\n      <td>0.1</td>\n      <td>10.0</td>\n      <td>0</td>\n    </tr>\n    <tr>\n      <th>1</th>\n      <td>0.2</td>\n      <td>20.0</td>\n      <td>0</td>\n    </tr>\n    <tr>\n      <th>2</th>\n      <td>0.1</td>\n      <td>NaN</td>\n      <td>1</td>\n    </tr>\n    <tr>\n      <th>3</th>\n      <td>0.3</td>\n      <td>20.0</td>\n      <td>1</td>\n    </tr>\n    <tr>\n      <th>4</th>\n      <td>0.2</td>\n      <td>NaN</td>\n      <td>0</td>\n    </tr>\n  </tbody>\n</table>\n</div>"
     },
     "metadata": {},
     "execution_count": 2
    }
   ],
   "source": [
    "df.drop(\"A\", axis=1)\n",
    "#df.drop([\"PassengerId\", \"Name\", \"Ticket\", \"Cabin\"], axis=1)"
   ]
  },
  {
   "cell_type": "markdown",
   "metadata": {},
   "source": [
    "---\n",
    "p5"
   ]
  },
  {
   "cell_type": "markdown",
   "metadata": {},
   "source": [
    "### Removing data with missing values"
   ]
  },
  {
   "cell_type": "code",
   "execution_count": 3,
   "metadata": {},
   "outputs": [
    {
     "output_type": "execute_result",
     "data": {
      "text/plain": [
       "A        0\n",
       "B        0\n",
       "C        2\n",
       "label    0\n",
       "dtype: int64"
      ]
     },
     "metadata": {},
     "execution_count": 3
    }
   ],
   "source": [
    "# check missing values\n",
    "df.isnull().sum()"
   ]
  },
  {
   "cell_type": "code",
   "execution_count": 5,
   "metadata": {},
   "outputs": [
    {
     "output_type": "execute_result",
     "data": {
      "text/plain": [
       "   A    B     C  label\n",
       "0  1  0.1  10.0      0\n",
       "1  2  0.2  20.0      0\n",
       "3  3  0.3  20.0      1"
      ],
      "text/html": "<div>\n<style scoped>\n    .dataframe tbody tr th:only-of-type {\n        vertical-align: middle;\n    }\n\n    .dataframe tbody tr th {\n        vertical-align: top;\n    }\n\n    .dataframe thead th {\n        text-align: right;\n    }\n</style>\n<table border=\"1\" class=\"dataframe\">\n  <thead>\n    <tr style=\"text-align: right;\">\n      <th></th>\n      <th>A</th>\n      <th>B</th>\n      <th>C</th>\n      <th>label</th>\n    </tr>\n  </thead>\n  <tbody>\n    <tr>\n      <th>0</th>\n      <td>1</td>\n      <td>0.1</td>\n      <td>10.0</td>\n      <td>0</td>\n    </tr>\n    <tr>\n      <th>1</th>\n      <td>2</td>\n      <td>0.2</td>\n      <td>20.0</td>\n      <td>0</td>\n    </tr>\n    <tr>\n      <th>3</th>\n      <td>3</td>\n      <td>0.3</td>\n      <td>20.0</td>\n      <td>1</td>\n    </tr>\n  </tbody>\n</table>\n</div>"
     },
     "metadata": {},
     "execution_count": 5
    }
   ],
   "source": [
    "# remove rows that contain missing values\n",
    "df.dropna(axis=0)"
   ]
  },
  {
   "cell_type": "code",
   "execution_count": 6,
   "metadata": {},
   "outputs": [
    {
     "output_type": "execute_result",
     "data": {
      "text/plain": [
       "   A    B  label\n",
       "0  1  0.1      0\n",
       "1  2  0.2      0\n",
       "2  2  0.1      1\n",
       "3  3  0.3      1\n",
       "4  2  0.2      0"
      ],
      "text/html": "<div>\n<style scoped>\n    .dataframe tbody tr th:only-of-type {\n        vertical-align: middle;\n    }\n\n    .dataframe tbody tr th {\n        vertical-align: top;\n    }\n\n    .dataframe thead th {\n        text-align: right;\n    }\n</style>\n<table border=\"1\" class=\"dataframe\">\n  <thead>\n    <tr style=\"text-align: right;\">\n      <th></th>\n      <th>A</th>\n      <th>B</th>\n      <th>label</th>\n    </tr>\n  </thead>\n  <tbody>\n    <tr>\n      <th>0</th>\n      <td>1</td>\n      <td>0.1</td>\n      <td>0</td>\n    </tr>\n    <tr>\n      <th>1</th>\n      <td>2</td>\n      <td>0.2</td>\n      <td>0</td>\n    </tr>\n    <tr>\n      <th>2</th>\n      <td>2</td>\n      <td>0.1</td>\n      <td>1</td>\n    </tr>\n    <tr>\n      <th>3</th>\n      <td>3</td>\n      <td>0.3</td>\n      <td>1</td>\n    </tr>\n    <tr>\n      <th>4</th>\n      <td>2</td>\n      <td>0.2</td>\n      <td>0</td>\n    </tr>\n  </tbody>\n</table>\n</div>"
     },
     "metadata": {},
     "execution_count": 6
    }
   ],
   "source": [
    "# remove colomns that contain missing values\n",
    "df.dropna(axis=1)"
   ]
  },
  {
   "cell_type": "markdown",
   "metadata": {},
   "source": [
    "---\n",
    "p6"
   ]
  },
  {
   "cell_type": "markdown",
   "metadata": {},
   "source": [
    "### Imputing missing values "
   ]
  },
  {
   "cell_type": "code",
   "execution_count": 7,
   "metadata": {},
   "outputs": [
    {
     "output_type": "execute_result",
     "data": {
      "text/plain": [
       "   A    B          C  label\n",
       "0  1  0.1  10.000000      0\n",
       "1  2  0.2  20.000000      0\n",
       "2  2  0.1  16.666667      1\n",
       "3  3  0.3  20.000000      1\n",
       "4  2  0.2  16.666667      0"
      ],
      "text/html": "<div>\n<style scoped>\n    .dataframe tbody tr th:only-of-type {\n        vertical-align: middle;\n    }\n\n    .dataframe tbody tr th {\n        vertical-align: top;\n    }\n\n    .dataframe thead th {\n        text-align: right;\n    }\n</style>\n<table border=\"1\" class=\"dataframe\">\n  <thead>\n    <tr style=\"text-align: right;\">\n      <th></th>\n      <th>A</th>\n      <th>B</th>\n      <th>C</th>\n      <th>label</th>\n    </tr>\n  </thead>\n  <tbody>\n    <tr>\n      <th>0</th>\n      <td>1</td>\n      <td>0.1</td>\n      <td>10.000000</td>\n      <td>0</td>\n    </tr>\n    <tr>\n      <th>1</th>\n      <td>2</td>\n      <td>0.2</td>\n      <td>20.000000</td>\n      <td>0</td>\n    </tr>\n    <tr>\n      <th>2</th>\n      <td>2</td>\n      <td>0.1</td>\n      <td>16.666667</td>\n      <td>1</td>\n    </tr>\n    <tr>\n      <th>3</th>\n      <td>3</td>\n      <td>0.3</td>\n      <td>20.000000</td>\n      <td>1</td>\n    </tr>\n    <tr>\n      <th>4</th>\n      <td>2</td>\n      <td>0.2</td>\n      <td>16.666667</td>\n      <td>0</td>\n    </tr>\n  </tbody>\n</table>\n</div>"
     },
     "metadata": {},
     "execution_count": 7
    }
   ],
   "source": [
    "# Impute using pandas\n",
    "df.fillna(df.mean())"
   ]
  },
  {
   "cell_type": "markdown",
   "metadata": {},
   "source": [
    "---\n",
    "p7"
   ]
  },
  {
   "cell_type": "code",
   "execution_count": 8,
   "metadata": {},
   "outputs": [
    {
     "output_type": "execute_result",
     "data": {
      "text/plain": [
       "array([[ 1. ,  0.1, 10. ,  0. ],\n",
       "       [ 2. ,  0.2, 20. ,  0. ],\n",
       "       [ 2. ,  0.1,  nan,  1. ],\n",
       "       [ 3. ,  0.3, 20. ,  1. ],\n",
       "       [ 2. ,  0.2,  nan,  0. ]])"
      ]
     },
     "metadata": {},
     "execution_count": 8
    }
   ],
   "source": [
    "df.values"
   ]
  },
  {
   "cell_type": "code",
   "execution_count": 11,
   "metadata": {},
   "outputs": [
    {
     "output_type": "execute_result",
     "data": {
      "text/plain": [
       "array([[ 1.        ,  0.1       , 10.        ,  0.        ],\n",
       "       [ 2.        ,  0.2       , 20.        ,  0.        ],\n",
       "       [ 2.        ,  0.1       , 16.66666667,  1.        ],\n",
       "       [ 3.        ,  0.3       , 20.        ,  1.        ],\n",
       "       [ 2.        ,  0.2       , 16.66666667,  0.        ]])"
      ]
     },
     "metadata": {},
     "execution_count": 11
    }
   ],
   "source": [
    "# Impute using scikit-learn\n",
    "# sklearn v0.18\n",
    "from sklearn.impute import SimpleImputer\n",
    "imr = SimpleImputer(missing_values=np.nan, strategy=\"mean\")\n",
    "\n",
    "# # sklearn >= v0.20\n",
    "# from sklearn.impute import SimpleImputer\n",
    "# imr = None\n",
    "\n",
    "\n",
    "imr = imr.fit(df.values)\n",
    "imputed_data = imr.transform(df.values)\n",
    "imputed_data"
   ]
  },
  {
   "cell_type": "markdown",
   "metadata": {},
   "source": [
    "---\n",
    "p8"
   ]
  },
  {
   "cell_type": "markdown",
   "metadata": {},
   "source": [
    "# 2. Handling categorical feature values"
   ]
  },
  {
   "cell_type": "markdown",
   "metadata": {},
   "source": [
    "### Sample data \n",
    "- color : norminal\n",
    "- size : ordinal  "
   ]
  },
  {
   "cell_type": "code",
   "execution_count": 12,
   "metadata": {},
   "outputs": [
    {
     "output_type": "execute_result",
     "data": {
      "text/plain": [
       "   color size  price classlabel\n",
       "0  green    M   10.1     class1\n",
       "1    red    L   13.5     class1\n",
       "2   blue   XL   15.3     class3\n",
       "3    red    M   14.5     class2"
      ],
      "text/html": "<div>\n<style scoped>\n    .dataframe tbody tr th:only-of-type {\n        vertical-align: middle;\n    }\n\n    .dataframe tbody tr th {\n        vertical-align: top;\n    }\n\n    .dataframe thead th {\n        text-align: right;\n    }\n</style>\n<table border=\"1\" class=\"dataframe\">\n  <thead>\n    <tr style=\"text-align: right;\">\n      <th></th>\n      <th>color</th>\n      <th>size</th>\n      <th>price</th>\n      <th>classlabel</th>\n    </tr>\n  </thead>\n  <tbody>\n    <tr>\n      <th>0</th>\n      <td>green</td>\n      <td>M</td>\n      <td>10.1</td>\n      <td>class1</td>\n    </tr>\n    <tr>\n      <th>1</th>\n      <td>red</td>\n      <td>L</td>\n      <td>13.5</td>\n      <td>class1</td>\n    </tr>\n    <tr>\n      <th>2</th>\n      <td>blue</td>\n      <td>XL</td>\n      <td>15.3</td>\n      <td>class3</td>\n    </tr>\n    <tr>\n      <th>3</th>\n      <td>red</td>\n      <td>M</td>\n      <td>14.5</td>\n      <td>class2</td>\n    </tr>\n  </tbody>\n</table>\n</div>"
     },
     "metadata": {},
     "execution_count": 12
    }
   ],
   "source": [
    "import pandas as pd\n",
    "\n",
    "df = pd.DataFrame([['green', 'M', 10.1, 'class1'],\n",
    "                   ['red', 'L', 13.5, 'class1'],\n",
    "                   ['blue', 'XL', 15.3, 'class3'],\n",
    "                   ['red', 'M', 14.5, 'class2']])\n",
    "\n",
    "df.columns = ['color', 'size', 'price', 'classlabel']\n",
    "df"
   ]
  },
  {
   "cell_type": "markdown",
   "metadata": {},
   "source": [
    "---\n",
    "p9"
   ]
  },
  {
   "cell_type": "markdown",
   "metadata": {},
   "source": [
    "### Encoding class labels - scikit-learn"
   ]
  },
  {
   "cell_type": "code",
   "execution_count": 13,
   "metadata": {},
   "outputs": [
    {
     "output_type": "execute_result",
     "data": {
      "text/plain": [
       "   color size  price  classlabel\n",
       "0  green    M   10.1           0\n",
       "1    red    L   13.5           0\n",
       "2   blue   XL   15.3           2\n",
       "3    red    M   14.5           1"
      ],
      "text/html": "<div>\n<style scoped>\n    .dataframe tbody tr th:only-of-type {\n        vertical-align: middle;\n    }\n\n    .dataframe tbody tr th {\n        vertical-align: top;\n    }\n\n    .dataframe thead th {\n        text-align: right;\n    }\n</style>\n<table border=\"1\" class=\"dataframe\">\n  <thead>\n    <tr style=\"text-align: right;\">\n      <th></th>\n      <th>color</th>\n      <th>size</th>\n      <th>price</th>\n      <th>classlabel</th>\n    </tr>\n  </thead>\n  <tbody>\n    <tr>\n      <th>0</th>\n      <td>green</td>\n      <td>M</td>\n      <td>10.1</td>\n      <td>0</td>\n    </tr>\n    <tr>\n      <th>1</th>\n      <td>red</td>\n      <td>L</td>\n      <td>13.5</td>\n      <td>0</td>\n    </tr>\n    <tr>\n      <th>2</th>\n      <td>blue</td>\n      <td>XL</td>\n      <td>15.3</td>\n      <td>2</td>\n    </tr>\n    <tr>\n      <th>3</th>\n      <td>red</td>\n      <td>M</td>\n      <td>14.5</td>\n      <td>1</td>\n    </tr>\n  </tbody>\n</table>\n</div>"
     },
     "metadata": {},
     "execution_count": 13
    }
   ],
   "source": [
    "from sklearn.preprocessing import LabelEncoder\n",
    "\n",
    "# Label encoding using sklearn\n",
    "le = LabelEncoder()\n",
    "df['classlabel'] = le.fit_transform(df[\"classlabel\"])\n",
    "df"
   ]
  },
  {
   "cell_type": "markdown",
   "metadata": {},
   "source": [
    "---\n",
    "p10"
   ]
  },
  {
   "cell_type": "markdown",
   "metadata": {},
   "source": [
    "### Encoding ordinal features - pandas "
   ]
  },
  {
   "cell_type": "code",
   "execution_count": 14,
   "metadata": {},
   "outputs": [
    {
     "output_type": "execute_result",
     "data": {
      "text/plain": [
       "   color  size  price  classlabel\n",
       "0  green     0   10.1           0\n",
       "1    red     1   13.5           0\n",
       "2   blue     2   15.3           2\n",
       "3    red     0   14.5           1"
      ],
      "text/html": "<div>\n<style scoped>\n    .dataframe tbody tr th:only-of-type {\n        vertical-align: middle;\n    }\n\n    .dataframe tbody tr th {\n        vertical-align: top;\n    }\n\n    .dataframe thead th {\n        text-align: right;\n    }\n</style>\n<table border=\"1\" class=\"dataframe\">\n  <thead>\n    <tr style=\"text-align: right;\">\n      <th></th>\n      <th>color</th>\n      <th>size</th>\n      <th>price</th>\n      <th>classlabel</th>\n    </tr>\n  </thead>\n  <tbody>\n    <tr>\n      <th>0</th>\n      <td>green</td>\n      <td>0</td>\n      <td>10.1</td>\n      <td>0</td>\n    </tr>\n    <tr>\n      <th>1</th>\n      <td>red</td>\n      <td>1</td>\n      <td>13.5</td>\n      <td>0</td>\n    </tr>\n    <tr>\n      <th>2</th>\n      <td>blue</td>\n      <td>2</td>\n      <td>15.3</td>\n      <td>2</td>\n    </tr>\n    <tr>\n      <th>3</th>\n      <td>red</td>\n      <td>0</td>\n      <td>14.5</td>\n      <td>1</td>\n    </tr>\n  </tbody>\n</table>\n</div>"
     },
     "metadata": {},
     "execution_count": 14
    }
   ],
   "source": [
    "# encoding ordinal features using pandas\n",
    "size_mapping = {\"M\":0, \"L\":1, \"XL\":2}\n",
    "df['size'] = df[\"size\"].map(size_mapping)\n",
    "\n",
    "df"
   ]
  },
  {
   "cell_type": "markdown",
   "metadata": {},
   "source": [
    "---\n",
    "p11"
   ]
  },
  {
   "cell_type": "markdown",
   "metadata": {},
   "source": [
    "### One-hot encoding of nominal features - pandas"
   ]
  },
  {
   "cell_type": "code",
   "execution_count": 15,
   "metadata": {},
   "outputs": [
    {
     "output_type": "execute_result",
     "data": {
      "text/plain": [
       "   size  price  classlabel  color_blue  color_green  color_red\n",
       "0     0   10.1           0           0            1          0\n",
       "1     1   13.5           0           0            0          1\n",
       "2     2   15.3           2           1            0          0\n",
       "3     0   14.5           1           0            0          1"
      ],
      "text/html": "<div>\n<style scoped>\n    .dataframe tbody tr th:only-of-type {\n        vertical-align: middle;\n    }\n\n    .dataframe tbody tr th {\n        vertical-align: top;\n    }\n\n    .dataframe thead th {\n        text-align: right;\n    }\n</style>\n<table border=\"1\" class=\"dataframe\">\n  <thead>\n    <tr style=\"text-align: right;\">\n      <th></th>\n      <th>size</th>\n      <th>price</th>\n      <th>classlabel</th>\n      <th>color_blue</th>\n      <th>color_green</th>\n      <th>color_red</th>\n    </tr>\n  </thead>\n  <tbody>\n    <tr>\n      <th>0</th>\n      <td>0</td>\n      <td>10.1</td>\n      <td>0</td>\n      <td>0</td>\n      <td>1</td>\n      <td>0</td>\n    </tr>\n    <tr>\n      <th>1</th>\n      <td>1</td>\n      <td>13.5</td>\n      <td>0</td>\n      <td>0</td>\n      <td>0</td>\n      <td>1</td>\n    </tr>\n    <tr>\n      <th>2</th>\n      <td>2</td>\n      <td>15.3</td>\n      <td>2</td>\n      <td>1</td>\n      <td>0</td>\n      <td>0</td>\n    </tr>\n    <tr>\n      <th>3</th>\n      <td>0</td>\n      <td>14.5</td>\n      <td>1</td>\n      <td>0</td>\n      <td>0</td>\n      <td>1</td>\n    </tr>\n  </tbody>\n</table>\n</div>"
     },
     "metadata": {},
     "execution_count": 15
    }
   ],
   "source": [
    "# one-hot encoding via pandas\n",
    "pd.get_dummies(df,columns=[\"color\"])"
   ]
  },
  {
   "cell_type": "markdown",
   "metadata": {},
   "source": [
    "---\n",
    "p12"
   ]
  },
  {
   "cell_type": "markdown",
   "metadata": {},
   "source": [
    "### One-hot encoding of nominal features - scikit learn"
   ]
  },
  {
   "cell_type": "code",
   "execution_count": 16,
   "metadata": {},
   "outputs": [
    {
     "output_type": "execute_result",
     "data": {
      "text/plain": [
       "array([['green', 0, 10.1],\n",
       "       ['red', 1, 13.5],\n",
       "       ['blue', 2, 15.3],\n",
       "       ['red', 0, 14.5]], dtype=object)"
      ]
     },
     "metadata": {},
     "execution_count": 16
    }
   ],
   "source": [
    "# Convert pd.DataFrame object to np.array object\n",
    "X = df[[\"color\", \"size\",\"price\"]].values\n",
    "X"
   ]
  },
  {
   "cell_type": "markdown",
   "metadata": {},
   "source": [
    "---\n",
    "p13"
   ]
  },
  {
   "cell_type": "markdown",
   "metadata": {},
   "source": [
    "---\n",
    "p14"
   ]
  },
  {
   "cell_type": "code",
   "execution_count": 22,
   "metadata": {},
   "outputs": [
    {
     "output_type": "execute_result",
     "data": {
      "text/plain": [
       "array([[0.0, 1.0, 0.0, 0, 10.1],\n",
       "       [0.0, 0.0, 1.0, 1, 13.5],\n",
       "       [1.0, 0.0, 0.0, 2, 15.3],\n",
       "       [0.0, 0.0, 1.0, 0, 14.5]], dtype=object)"
      ]
     },
     "metadata": {},
     "execution_count": 22
    }
   ],
   "source": [
    "# sklearn >= v0.20\n",
    "from sklearn.preprocessing import OneHotEncoder\n",
    "from sklearn.compose import ColumnTransformer\n",
    "# ColumnTransformer helps you select which column(feature) you want to transform\n",
    "# In sklearn >= v0.20, OneHotEncoder() can directly transform string type features \n",
    " # (\"process name\", transformer, columns(np.array : column idx, pd.DataFrame : column name ))\n",
    "ct = ColumnTransformer([(\"Ohe\", OneHotEncoder(),[0])], remainder=\"passthrough\")\n",
    "X = ct.fit_transform(X)\n",
    "X"
   ]
  },
  {
   "cell_type": "markdown",
   "metadata": {},
   "source": [
    "---\n",
    "p15"
   ]
  },
  {
   "cell_type": "markdown",
   "metadata": {},
   "source": [
    "# 3. Transformation of numerical feature values"
   ]
  },
  {
   "cell_type": "markdown",
   "metadata": {},
   "source": [
    "### Loading Wine Dataset"
   ]
  },
  {
   "cell_type": "code",
   "execution_count": 23,
   "metadata": {},
   "outputs": [
    {
     "output_type": "stream",
     "name": "stdout",
     "text": [
      "Class labels [1 2 3]\n"
     ]
    },
    {
     "output_type": "execute_result",
     "data": {
      "text/plain": [
       "   Class label  Alcohol  Malic acid   Ash  Alcalinity of ash  Magnesium  \\\n",
       "0            1    14.23        1.71  2.43               15.6        127   \n",
       "1            1    13.20        1.78  2.14               11.2        100   \n",
       "2            1    13.16        2.36  2.67               18.6        101   \n",
       "3            1    14.37        1.95  2.50               16.8        113   \n",
       "4            1    13.24        2.59  2.87               21.0        118   \n",
       "\n",
       "   Total phenols  Flavanoids  Nonflavanoid phenols  Proanthocyanins  \\\n",
       "0           2.80        3.06                  0.28             2.29   \n",
       "1           2.65        2.76                  0.26             1.28   \n",
       "2           2.80        3.24                  0.30             2.81   \n",
       "3           3.85        3.49                  0.24             2.18   \n",
       "4           2.80        2.69                  0.39             1.82   \n",
       "\n",
       "   Color intensity   Hue  OD280/OD315 of diluted wines  Proline  \n",
       "0             5.64  1.04                          3.92     1065  \n",
       "1             4.38  1.05                          3.40     1050  \n",
       "2             5.68  1.03                          3.17     1185  \n",
       "3             7.80  0.86                          3.45     1480  \n",
       "4             4.32  1.04                          2.93      735  "
      ],
      "text/html": "<div>\n<style scoped>\n    .dataframe tbody tr th:only-of-type {\n        vertical-align: middle;\n    }\n\n    .dataframe tbody tr th {\n        vertical-align: top;\n    }\n\n    .dataframe thead th {\n        text-align: right;\n    }\n</style>\n<table border=\"1\" class=\"dataframe\">\n  <thead>\n    <tr style=\"text-align: right;\">\n      <th></th>\n      <th>Class label</th>\n      <th>Alcohol</th>\n      <th>Malic acid</th>\n      <th>Ash</th>\n      <th>Alcalinity of ash</th>\n      <th>Magnesium</th>\n      <th>Total phenols</th>\n      <th>Flavanoids</th>\n      <th>Nonflavanoid phenols</th>\n      <th>Proanthocyanins</th>\n      <th>Color intensity</th>\n      <th>Hue</th>\n      <th>OD280/OD315 of diluted wines</th>\n      <th>Proline</th>\n    </tr>\n  </thead>\n  <tbody>\n    <tr>\n      <th>0</th>\n      <td>1</td>\n      <td>14.23</td>\n      <td>1.71</td>\n      <td>2.43</td>\n      <td>15.6</td>\n      <td>127</td>\n      <td>2.80</td>\n      <td>3.06</td>\n      <td>0.28</td>\n      <td>2.29</td>\n      <td>5.64</td>\n      <td>1.04</td>\n      <td>3.92</td>\n      <td>1065</td>\n    </tr>\n    <tr>\n      <th>1</th>\n      <td>1</td>\n      <td>13.20</td>\n      <td>1.78</td>\n      <td>2.14</td>\n      <td>11.2</td>\n      <td>100</td>\n      <td>2.65</td>\n      <td>2.76</td>\n      <td>0.26</td>\n      <td>1.28</td>\n      <td>4.38</td>\n      <td>1.05</td>\n      <td>3.40</td>\n      <td>1050</td>\n    </tr>\n    <tr>\n      <th>2</th>\n      <td>1</td>\n      <td>13.16</td>\n      <td>2.36</td>\n      <td>2.67</td>\n      <td>18.6</td>\n      <td>101</td>\n      <td>2.80</td>\n      <td>3.24</td>\n      <td>0.30</td>\n      <td>2.81</td>\n      <td>5.68</td>\n      <td>1.03</td>\n      <td>3.17</td>\n      <td>1185</td>\n    </tr>\n    <tr>\n      <th>3</th>\n      <td>1</td>\n      <td>14.37</td>\n      <td>1.95</td>\n      <td>2.50</td>\n      <td>16.8</td>\n      <td>113</td>\n      <td>3.85</td>\n      <td>3.49</td>\n      <td>0.24</td>\n      <td>2.18</td>\n      <td>7.80</td>\n      <td>0.86</td>\n      <td>3.45</td>\n      <td>1480</td>\n    </tr>\n    <tr>\n      <th>4</th>\n      <td>1</td>\n      <td>13.24</td>\n      <td>2.59</td>\n      <td>2.87</td>\n      <td>21.0</td>\n      <td>118</td>\n      <td>2.80</td>\n      <td>2.69</td>\n      <td>0.39</td>\n      <td>1.82</td>\n      <td>4.32</td>\n      <td>1.04</td>\n      <td>2.93</td>\n      <td>735</td>\n    </tr>\n  </tbody>\n</table>\n</div>"
     },
     "metadata": {},
     "execution_count": 23
    }
   ],
   "source": [
    "import pandas as pd\n",
    "import numpy as np\n",
    "\n",
    "df_wine = pd.read_csv('https://archive.ics.uci.edu/'\n",
    "                      'ml/machine-learning-databases/wine/wine.data',\n",
    "                      header=None)\n",
    "\n",
    "df_wine.columns = ['Class label', 'Alcohol', 'Malic acid', 'Ash',\n",
    "                   'Alcalinity of ash', 'Magnesium', 'Total phenols',\n",
    "                   'Flavanoids', 'Nonflavanoid phenols', 'Proanthocyanins',\n",
    "                   'Color intensity', 'Hue', 'OD280/OD315 of diluted wines',\n",
    "                   'Proline']\n",
    "\n",
    "print('Class labels', np.unique(df_wine['Class label']))\n",
    "df_wine.head()"
   ]
  },
  {
   "cell_type": "markdown",
   "metadata": {},
   "source": [
    "---\n",
    "p16"
   ]
  },
  {
   "cell_type": "markdown",
   "metadata": {},
   "source": [
    "### Get X and y. Splitting data into 70% training & 30% test "
   ]
  },
  {
   "cell_type": "code",
   "execution_count": 24,
   "metadata": {
    "collapsed": true
   },
   "outputs": [],
   "source": [
    "from sklearn.model_selection import train_test_split\n",
    "\n",
    "X, y = df_wine.iloc[:, 1:].values, df_wine.iloc[:, 0].values\n",
    "X_train, X_test, y_train, y_test = train_test_split(X, y, \n",
    "                     test_size=0.3, \n",
    "                     random_state=0, \n",
    "                     stratify=y)"
   ]
  },
  {
   "cell_type": "code",
   "execution_count": 25,
   "metadata": {},
   "outputs": [
    {
     "output_type": "execute_result",
     "data": {
      "text/plain": [
       "(124, 13)"
      ]
     },
     "metadata": {},
     "execution_count": 25
    }
   ],
   "source": [
    "X_train.shape"
   ]
  },
  {
   "cell_type": "code",
   "execution_count": 26,
   "metadata": {},
   "outputs": [
    {
     "output_type": "execute_result",
     "data": {
      "text/plain": [
       "(124,)"
      ]
     },
     "metadata": {},
     "execution_count": 26
    }
   ],
   "source": [
    "y_train.shape"
   ]
  },
  {
   "cell_type": "markdown",
   "metadata": {},
   "source": [
    "---\n",
    "p17"
   ]
  },
  {
   "cell_type": "markdown",
   "metadata": {},
   "source": [
    "### Normalization"
   ]
  },
  {
   "cell_type": "code",
   "execution_count": 27,
   "metadata": {
    "collapsed": true
   },
   "outputs": [],
   "source": [
    "from sklearn.preprocessing import MinMaxScaler\n",
    "\n",
    "# transform to min 0, max 1\n",
    "mms = MinMaxScaler()\n",
    "X_train_norm = mms.fit_transform(X_train)\n",
    "X_test_norm = mms.transform(X_test)"
   ]
  },
  {
   "cell_type": "code",
   "execution_count": 28,
   "metadata": {},
   "outputs": [
    {
     "output_type": "stream",
     "name": "stdout",
     "text": [
      "[[ 13.62   4.95   2.35  20.    92.  ]\n [ 13.76   1.53   2.7   19.5  132.  ]\n [ 13.73   1.5    2.7   22.5  101.  ]]\nmax[0] = 14.83 \n\n[[0.64619883 0.83201581 0.4248366  0.46236559 0.27160494]\n [0.6871345  0.15612648 0.65359477 0.43548387 0.7654321 ]\n [0.67836257 0.15019763 0.65359477 0.59677419 0.38271605]]\nmax[0] = 1.00 \n\n"
     ]
    }
   ],
   "source": [
    "print(X_train[0:3, 0:5])\n",
    "print('max[0] = %.2f \\n' % X_train[:,0].max())\n",
    "print(X_train_norm[0:3, 0:5])\n",
    "print('max[0] = %.2f \\n' % X_train_norm[:,0].max())"
   ]
  },
  {
   "cell_type": "markdown",
   "metadata": {},
   "source": [
    "---\n",
    "p18"
   ]
  },
  {
   "cell_type": "markdown",
   "metadata": {},
   "source": [
    "### Standardization"
   ]
  },
  {
   "cell_type": "code",
   "execution_count": 29,
   "metadata": {
    "collapsed": true
   },
   "outputs": [],
   "source": [
    "from sklearn.preprocessing import StandardScaler\n",
    "\n",
    "# transform to mean 0, variance 1\n",
    "stdsc = StandardScaler()\n",
    "X_train_std = stdsc.fit_transform(X_train)\n",
    "X_test_std = stdsc.transform(X_test)"
   ]
  },
  {
   "cell_type": "code",
   "execution_count": 30,
   "metadata": {},
   "outputs": [
    {
     "output_type": "stream",
     "name": "stdout",
     "text": [
      "[[ 13.62   4.95   2.35  20.    92.  ]\n [ 13.76   1.53   2.7   19.5  132.  ]\n [ 13.73   1.5    2.7   22.5  101.  ]]\nmean[0] = 13.03 \n\n[[ 0.71225893  2.22048673 -0.13025864  0.05962872 -0.50432733]\n [ 0.88229214 -0.70457155  1.17533605 -0.09065504  2.34147876]\n [ 0.84585645 -0.73022996  1.17533605  0.81104754  0.13597904]]\nmean[0] = 0.00 \n\n"
     ]
    }
   ],
   "source": [
    "print(X_train[0:3, 0:5])\n",
    "print('mean[0] = %.2f \\n' % X_train[:,0].mean())\n",
    "print(X_train_std[0:3, 0:5])\n",
    "print('mean[0] = %.2f \\n' % X_train_std[:,0].mean())"
   ]
  },
  {
   "cell_type": "markdown",
   "metadata": {},
   "source": [
    "---\n",
    "p19"
   ]
  },
  {
   "cell_type": "markdown",
   "metadata": {},
   "source": [
    "# 4. Feature selection"
   ]
  },
  {
   "cell_type": "markdown",
   "metadata": {},
   "source": [
    "### Select Meaningful Features using information gain"
   ]
  },
  {
   "cell_type": "code",
   "execution_count": 31,
   "metadata": {},
   "outputs": [
    {
     "output_type": "stream",
     "name": "stdout",
     "text": [
      "Training accuracy: 1.0\nTest accuracy: 0.9444444444444444\n"
     ]
    }
   ],
   "source": [
    "from sklearn.tree import DecisionTreeClassifier\n",
    "\n",
    "tree = DecisionTreeClassifier(random_state=0)\n",
    "tree.fit(X_train, y_train)\n",
    "\n",
    "print('Training accuracy:', tree.score(X_train, y_train))\n",
    "print('Test accuracy:', tree.score(X_test, y_test))"
   ]
  },
  {
   "cell_type": "code",
   "execution_count": 32,
   "metadata": {},
   "outputs": [
    {
     "output_type": "stream",
     "name": "stdout",
     "text": [
      " 1. Proline                        0.439462\n 2. Flavanoids                     0.397143\n 3. Color intensity                0.105658\n 4. Alcalinity of ash              0.023926\n 5. Alcohol                        0.017451\n 6. Nonflavanoid phenols           0.016360\n 7. OD280/OD315 of diluted wines   0.000000\n 8. Hue                            0.000000\n 9. Proanthocyanins                0.000000\n10. Total phenols                  0.000000\n11. Magnesium                      0.000000\n12. Ash                            0.000000\n13. Malic acid                     0.000000\n"
     ]
    }
   ],
   "source": [
    "feature_labels = df_wine.columns[1:]\n",
    "importances = tree.feature_importances_\n",
    "indices = np.argsort(importances)[::-1]\n",
    "\n",
    "for f in range(X_train.shape[1]):\n",
    "    print(\"%2d. %-30s %f\" % (f+1, \n",
    "                             feature_labels[indices[f]], \n",
    "                             importances[indices[f]]))"
   ]
  },
  {
   "cell_type": "markdown",
   "metadata": {},
   "source": [
    "---\n",
    "p20"
   ]
  },
  {
   "cell_type": "markdown",
   "metadata": {},
   "source": [
    "### Select Meaningful Features using L1 regularization"
   ]
  },
  {
   "cell_type": "code",
   "execution_count": 34,
   "metadata": {},
   "outputs": [
    {
     "output_type": "stream",
     "name": "stdout",
     "text": [
      "Training accuracy: 1.0\nTest accuracy: 1.0\n"
     ]
    }
   ],
   "source": [
    "from sklearn.linear_model import LogisticRegression\n",
    "\n",
    "# Logistic regression with almost no regularization. Lamda = 0.0001\n",
    "# C=inverse of lambda. Note that C=1.0 is the default\n",
    "lr = LogisticRegression(penalty='l1', C=10000, solver='liblinear') \n",
    "lr.fit(X_train_std, y_train)\n",
    "\n",
    "print('Training accuracy:', lr.score(X_train_std, y_train))\n",
    "print('Test accuracy:', lr.score(X_test_std, y_test))"
   ]
  },
  {
   "cell_type": "markdown",
   "metadata": {},
   "source": [
    "---\n",
    "p21"
   ]
  },
  {
   "cell_type": "code",
   "execution_count": 35,
   "metadata": {},
   "outputs": [
    {
     "output_type": "execute_result",
     "data": {
      "text/plain": [
       "array([[  8.65433195,   1.8872048 ,   4.25919691,  -6.65206911,\n",
       "          0.9915907 ,  -0.27375317,   5.98016391,   0.43198562,\n",
       "          1.2329659 ,  -2.10842459,  -2.06345824,   3.8547223 ,\n",
       "          9.10141945],\n",
       "       [ -7.32816232,  -3.23978302,  -8.16376821,   4.34165728,\n",
       "         -1.0888979 ,  -0.29802021,   5.40112419,   2.65079003,\n",
       "         -0.99008371, -19.21147248,   6.34688707,   1.29140026,\n",
       "        -16.86117141],\n",
       "       [  4.73407213,   0.88855653,   3.8811889 ,   0.76973921,\n",
       "         -0.53544162,   0.93525389, -10.94790591,  -2.96309871,\n",
       "         -2.37768496,  10.07611005,  -6.95448098,  -4.0101535 ,\n",
       "          1.87620032]])"
      ]
     },
     "metadata": {},
     "execution_count": 35
    }
   ],
   "source": [
    "lr.coef_"
   ]
  },
  {
   "cell_type": "markdown",
   "metadata": {},
   "source": [
    "---\n",
    "p22"
   ]
  },
  {
   "cell_type": "code",
   "execution_count": 36,
   "metadata": {},
   "outputs": [
    {
     "output_type": "stream",
     "name": "stdout",
     "text": [
      "Training accuracy: 1.0\nTest accuracy: 1.0\n"
     ]
    }
   ],
   "source": [
    "from sklearn.linear_model import LogisticRegression\n",
    "\n",
    "# Logistic regression with L1 regularization. Lamda = 1\n",
    "lr = LogisticRegression(penalty='l1', C=1, solver='liblinear')\n",
    "lr.fit(X_train_std, y_train)\n",
    "\n",
    "print('Training accuracy:', lr.score(X_train_std, y_train))\n",
    "print('Test accuracy:', lr.score(X_test_std, y_test))"
   ]
  },
  {
   "cell_type": "markdown",
   "metadata": {},
   "source": [
    "---\n",
    "p23"
   ]
  },
  {
   "cell_type": "code",
   "execution_count": 37,
   "metadata": {},
   "outputs": [
    {
     "output_type": "execute_result",
     "data": {
      "text/plain": [
       "array([[ 1.24576528,  0.18035605,  0.74516117, -1.16270249,  0.        ,\n",
       "         0.        ,  1.1641798 ,  0.        ,  0.        ,  0.        ,\n",
       "         0.        ,  0.55331473,  2.50957481],\n",
       "       [-1.53795107, -0.38658918, -0.99463381,  0.36396287, -0.05940259,\n",
       "         0.        ,  0.66700103,  0.        ,  0.        , -1.93308357,\n",
       "         1.23616025,  0.        , -2.23296275],\n",
       "       [ 0.13586105,  0.16844427,  0.35725813,  0.        ,  0.        ,\n",
       "         0.        , -2.43820427,  0.        ,  0.        ,  1.563665  ,\n",
       "        -0.81912537, -0.49234664,  0.        ]])"
      ]
     },
     "metadata": {},
     "execution_count": 37
    }
   ],
   "source": [
    "lr.coef_"
   ]
  },
  {
   "cell_type": "code",
   "execution_count": 51,
   "metadata": {},
   "outputs": [
    {
     "data": {
      "text/plain": [
       "(16,)"
      ]
     },
     "execution_count": 51,
     "metadata": {},
     "output_type": "execute_result"
    }
   ],
   "source": [
    "lr.coef_[lr.coef_==0].shape"
   ]
  },
  {
   "cell_type": "markdown",
   "metadata": {},
   "source": [
    "---\n",
    "p25"
   ]
  },
  {
   "cell_type": "markdown",
   "metadata": {},
   "source": [
    "# 5. Dimensionality Reduction"
   ]
  },
  {
   "cell_type": "markdown",
   "metadata": {},
   "source": [
    "### Loading Wine Dataset"
   ]
  },
  {
   "cell_type": "code",
   "execution_count": 38,
   "metadata": {},
   "outputs": [
    {
     "output_type": "execute_result",
     "data": {
      "text/plain": [
       "   Class label  Alcohol  Malic acid   Ash  Alcalinity of ash  Magnesium  \\\n",
       "0            1    14.23        1.71  2.43               15.6        127   \n",
       "1            1    13.20        1.78  2.14               11.2        100   \n",
       "2            1    13.16        2.36  2.67               18.6        101   \n",
       "3            1    14.37        1.95  2.50               16.8        113   \n",
       "4            1    13.24        2.59  2.87               21.0        118   \n",
       "\n",
       "   Total phenols  Flavanoids  Nonflavanoid phenols  Proanthocyanins  \\\n",
       "0           2.80        3.06                  0.28             2.29   \n",
       "1           2.65        2.76                  0.26             1.28   \n",
       "2           2.80        3.24                  0.30             2.81   \n",
       "3           3.85        3.49                  0.24             2.18   \n",
       "4           2.80        2.69                  0.39             1.82   \n",
       "\n",
       "   Color intensity   Hue  OD280/OD315 of diluted wines  Proline  \n",
       "0             5.64  1.04                          3.92     1065  \n",
       "1             4.38  1.05                          3.40     1050  \n",
       "2             5.68  1.03                          3.17     1185  \n",
       "3             7.80  0.86                          3.45     1480  \n",
       "4             4.32  1.04                          2.93      735  "
      ],
      "text/html": "<div>\n<style scoped>\n    .dataframe tbody tr th:only-of-type {\n        vertical-align: middle;\n    }\n\n    .dataframe tbody tr th {\n        vertical-align: top;\n    }\n\n    .dataframe thead th {\n        text-align: right;\n    }\n</style>\n<table border=\"1\" class=\"dataframe\">\n  <thead>\n    <tr style=\"text-align: right;\">\n      <th></th>\n      <th>Class label</th>\n      <th>Alcohol</th>\n      <th>Malic acid</th>\n      <th>Ash</th>\n      <th>Alcalinity of ash</th>\n      <th>Magnesium</th>\n      <th>Total phenols</th>\n      <th>Flavanoids</th>\n      <th>Nonflavanoid phenols</th>\n      <th>Proanthocyanins</th>\n      <th>Color intensity</th>\n      <th>Hue</th>\n      <th>OD280/OD315 of diluted wines</th>\n      <th>Proline</th>\n    </tr>\n  </thead>\n  <tbody>\n    <tr>\n      <th>0</th>\n      <td>1</td>\n      <td>14.23</td>\n      <td>1.71</td>\n      <td>2.43</td>\n      <td>15.6</td>\n      <td>127</td>\n      <td>2.80</td>\n      <td>3.06</td>\n      <td>0.28</td>\n      <td>2.29</td>\n      <td>5.64</td>\n      <td>1.04</td>\n      <td>3.92</td>\n      <td>1065</td>\n    </tr>\n    <tr>\n      <th>1</th>\n      <td>1</td>\n      <td>13.20</td>\n      <td>1.78</td>\n      <td>2.14</td>\n      <td>11.2</td>\n      <td>100</td>\n      <td>2.65</td>\n      <td>2.76</td>\n      <td>0.26</td>\n      <td>1.28</td>\n      <td>4.38</td>\n      <td>1.05</td>\n      <td>3.40</td>\n      <td>1050</td>\n    </tr>\n    <tr>\n      <th>2</th>\n      <td>1</td>\n      <td>13.16</td>\n      <td>2.36</td>\n      <td>2.67</td>\n      <td>18.6</td>\n      <td>101</td>\n      <td>2.80</td>\n      <td>3.24</td>\n      <td>0.30</td>\n      <td>2.81</td>\n      <td>5.68</td>\n      <td>1.03</td>\n      <td>3.17</td>\n      <td>1185</td>\n    </tr>\n    <tr>\n      <th>3</th>\n      <td>1</td>\n      <td>14.37</td>\n      <td>1.95</td>\n      <td>2.50</td>\n      <td>16.8</td>\n      <td>113</td>\n      <td>3.85</td>\n      <td>3.49</td>\n      <td>0.24</td>\n      <td>2.18</td>\n      <td>7.80</td>\n      <td>0.86</td>\n      <td>3.45</td>\n      <td>1480</td>\n    </tr>\n    <tr>\n      <th>4</th>\n      <td>1</td>\n      <td>13.24</td>\n      <td>2.59</td>\n      <td>2.87</td>\n      <td>21.0</td>\n      <td>118</td>\n      <td>2.80</td>\n      <td>2.69</td>\n      <td>0.39</td>\n      <td>1.82</td>\n      <td>4.32</td>\n      <td>1.04</td>\n      <td>2.93</td>\n      <td>735</td>\n    </tr>\n  </tbody>\n</table>\n</div>"
     },
     "metadata": {},
     "execution_count": 38
    }
   ],
   "source": [
    "import pandas as pd\n",
    "\n",
    "df_wine = pd.read_csv('https://archive.ics.uci.edu/ml/'\n",
    "                      'machine-learning-databases/wine/wine.data',\n",
    "                      header=None)\n",
    "\n",
    "df_wine.columns = ['Class label', 'Alcohol', 'Malic acid', 'Ash',\n",
    "                   'Alcalinity of ash', 'Magnesium', 'Total phenols',\n",
    "                   'Flavanoids', 'Nonflavanoid phenols', 'Proanthocyanins',\n",
    "                   'Color intensity', 'Hue',\n",
    "                   'OD280/OD315 of diluted wines', 'Proline']\n",
    "\n",
    "df_wine.head()"
   ]
  },
  {
   "cell_type": "markdown",
   "metadata": {},
   "source": [
    "---\n",
    "p26"
   ]
  },
  {
   "cell_type": "markdown",
   "metadata": {},
   "source": [
    "### Get X and y. Splitting data into 70% training & 30% test "
   ]
  },
  {
   "cell_type": "code",
   "execution_count": 39,
   "metadata": {
    "collapsed": true
   },
   "outputs": [],
   "source": [
    "from sklearn.model_selection import train_test_split\n",
    "\n",
    "X, y = df_wine.iloc[:, 1:].values, df_wine.iloc[:, 0].values\n",
    "X_train, X_test, y_train, y_test = train_test_split(X, y, test_size=0.3, \n",
    "                     stratify=y,\n",
    "                     random_state=0)"
   ]
  },
  {
   "cell_type": "markdown",
   "metadata": {},
   "source": [
    "---\n",
    "p27"
   ]
  },
  {
   "cell_type": "markdown",
   "metadata": {},
   "source": [
    "### Principal Component Analysis using numpy "
   ]
  },
  {
   "cell_type": "code",
   "execution_count": 40,
   "metadata": {
    "collapsed": true
   },
   "outputs": [],
   "source": [
    "from sklearn.preprocessing import StandardScaler\n",
    "\n",
    "sc = StandardScaler()\n",
    "X_train_std = sc.fit_transform(X_train)\n",
    "X_test_std = sc.transform(X_test)"
   ]
  },
  {
   "cell_type": "code",
   "execution_count": 55,
   "metadata": {},
   "outputs": [
    {
     "data": {
      "text/plain": [
       "(124, 13)"
      ]
     },
     "execution_count": 55,
     "metadata": {},
     "output_type": "execute_result"
    }
   ],
   "source": [
    "X_train_std.shape"
   ]
  },
  {
   "cell_type": "code",
   "execution_count": 41,
   "metadata": {},
   "outputs": [
    {
     "output_type": "execute_result",
     "data": {
      "text/plain": [
       "array([[ 1.00813008,  0.06709556,  0.17405351, -0.35439069,  0.26374703,\n",
       "         0.29079481,  0.21835807, -0.08111974,  0.10436705,  0.54282846,\n",
       "         0.05893536, -0.01797029,  0.6415292 ],\n",
       "       [ 0.06709556,  1.00813008,  0.08326463,  0.26356776, -0.11349172,\n",
       "        -0.33735555, -0.41035281,  0.33653916, -0.21602672,  0.17504154,\n",
       "        -0.551593  , -0.40561695, -0.24089991],\n",
       "       [ 0.17405351,  0.08326463,  1.00813008,  0.46420355,  0.29092834,\n",
       "         0.18020384,  0.15537535,  0.15918823, -0.00703776,  0.20549146,\n",
       "         0.00665422,  0.02039019,  0.223495  ],\n",
       "       [-0.35439069,  0.26356776,  0.46420355,  1.00813008, -0.07406447,\n",
       "        -0.28060672, -0.31391899,  0.31581353, -0.24621059, -0.08872685,\n",
       "        -0.22595587, -0.16799906, -0.46393412],\n",
       "       [ 0.26374703, -0.11349172,  0.29092834, -0.07406447,  1.00813008,\n",
       "         0.25667578,  0.21025773, -0.26003426,  0.19601657,  0.20606456,\n",
       "         0.13359768,  0.06633258,  0.41810999],\n",
       "       [ 0.29079481, -0.33735555,  0.18020384, -0.28060672,  0.25667578,\n",
       "         1.00813008,  0.87123661, -0.44979792,  0.62334099, -0.05689854,\n",
       "         0.50664086,  0.71978745,  0.52986924],\n",
       "       [ 0.21835807, -0.41035281,  0.15537535, -0.31391899,  0.21025773,\n",
       "         0.87123661,  1.00813008, -0.54824079,  0.64800868, -0.15864896,\n",
       "         0.60417124,  0.79319622,  0.52836141],\n",
       "       [-0.08111974,  0.33653916,  0.15918823,  0.31581353, -0.26003426,\n",
       "        -0.44979792, -0.54824079,  1.00813008, -0.39989328,  0.19810581,\n",
       "        -0.36629252, -0.57622953, -0.34099709],\n",
       "       [ 0.10436705, -0.21602672, -0.00703776, -0.24621059,  0.19601657,\n",
       "         0.62334099,  0.64800868, -0.39989328,  1.00813008, -0.00330144,\n",
       "         0.32019524,  0.50615495,  0.32976133],\n",
       "       [ 0.54282846,  0.17504154,  0.20549146, -0.08872685,  0.20606456,\n",
       "        -0.05689854, -0.15864896,  0.19810581, -0.00330144,  1.00813008,\n",
       "        -0.45834115, -0.4666752 ,  0.32156154],\n",
       "       [ 0.05893536, -0.551593  ,  0.00665422, -0.22595587,  0.13359768,\n",
       "         0.50664086,  0.60417124, -0.36629252,  0.32019524, -0.45834115,\n",
       "         1.00813008,  0.6435365 ,  0.35356248],\n",
       "       [-0.01797029, -0.40561695,  0.02039019, -0.16799906,  0.06633258,\n",
       "         0.71978745,  0.79319622, -0.57622953,  0.50615495, -0.4666752 ,\n",
       "         0.6435365 ,  1.00813008,  0.26670793],\n",
       "       [ 0.6415292 , -0.24089991,  0.223495  , -0.46393412,  0.41810999,\n",
       "         0.52986924,  0.52836141, -0.34099709,  0.32976133,  0.32156154,\n",
       "         0.35356248,  0.26670793,  1.00813008]])"
      ]
     },
     "metadata": {},
     "execution_count": 41
    }
   ],
   "source": [
    "import numpy as np\n",
    "\n",
    "# covariance matrix of X\n",
    "cov_mat = np.cov(X_train_std.T)\n",
    "cov_mat"
   ]
  },
  {
   "cell_type": "code",
   "execution_count": 42,
   "metadata": {},
   "outputs": [
    {
     "output_type": "execute_result",
     "data": {
      "text/plain": [
       "(13, 13)"
      ]
     },
     "metadata": {},
     "execution_count": 42
    }
   ],
   "source": [
    "cov_mat.shape"
   ]
  },
  {
   "cell_type": "markdown",
   "metadata": {},
   "source": [
    "---\n",
    "p28"
   ]
  },
  {
   "cell_type": "code",
   "execution_count": 43,
   "metadata": {},
   "outputs": [
    {
     "output_type": "stream",
     "name": "stdout",
     "text": [
      "\nEigenvalues \n[4.84274532 2.41602459 1.54845825 0.96120438 0.84166161 0.6620634\n 0.51828472 0.34650377 0.3131368  0.10754642 0.21357215 0.15362835\n 0.1808613 ]\n\nEigenvectors \n[[-1.37242175e-01  5.03034778e-01 -1.37748734e-01 -3.29610003e-03\n  -2.90625226e-01  2.99096847e-01  7.90529293e-02 -3.68176414e-01\n  -3.98377017e-01  9.44869777e-02 -3.74638877e-01 -1.27834515e-01\n   2.62834263e-01]\n [ 2.47243265e-01  1.64871190e-01  9.61503863e-02  5.62646692e-01\n   8.95378697e-02  6.27036396e-01 -2.74002014e-01 -1.25775752e-02\n   1.10458230e-01 -2.63652406e-02  1.37405597e-01  8.06401578e-02\n  -2.66769211e-01]\n [-2.54515927e-02  2.44564761e-01  6.77775667e-01 -1.08977111e-01\n  -1.60834991e-01  3.89128239e-04  1.32328045e-01  1.77578177e-01\n   3.82496856e-01 -1.42747511e-01 -4.61583035e-01  1.67924873e-02\n  -1.15542548e-01]\n [ 2.06945084e-01 -1.13529045e-01  6.25040550e-01  3.38187002e-02\n   5.15873402e-02 -4.05836452e-02  2.23999097e-01 -4.40592110e-01\n  -2.43373853e-01  1.30485780e-01  4.18953989e-01 -1.10845657e-01\n   1.99483410e-01]\n [-1.54365821e-01  2.89745182e-01  1.96135481e-01 -3.67511070e-01\n   6.76487073e-01  6.57772614e-02 -4.05268966e-01  1.16617503e-01\n  -2.58982359e-01  6.76080782e-02 -1.00470630e-02  7.93879562e-02\n   2.89018810e-02]\n [-3.93769523e-01  5.08010391e-02  1.40310572e-01  2.40245127e-01\n  -1.18511144e-01 -5.89776247e-02 -3.47419412e-02  3.50192127e-01\n  -3.42312860e-01 -4.59917661e-01  2.21254241e-01 -4.91459313e-01\n  -6.63868598e-02]\n [-4.17351064e-01 -2.28733792e-02  1.17053859e-01  1.87053299e-01\n  -1.07100349e-01 -3.01103180e-02  4.17835724e-02  2.18718183e-01\n  -3.61231642e-02  8.14583947e-01  4.17513600e-02 -5.03074004e-02\n  -2.13349079e-01]\n [ 3.05728961e-01  9.04888470e-02  1.31217777e-01 -2.29262234e-02\n  -5.07581610e-01 -2.71728086e-01 -6.31145686e-01  1.97129425e-01\n  -1.71436883e-01  9.57480885e-02  8.87569452e-02  1.75328030e-01\n   1.86391279e-01]\n [-3.06683469e-01  8.35232677e-03  3.04309008e-02  4.96262330e-01\n   2.01634619e-01 -4.39997519e-01 -3.23122775e-01 -4.33055871e-01\n   2.44370210e-01 -6.72468934e-02 -1.99921861e-01 -3.67595797e-03\n   1.68082985e-01]\n [ 7.55406578e-02  5.49775805e-01 -7.99299713e-02  1.06482939e-01\n   5.73607091e-03 -4.11743459e-01  2.69082623e-01 -6.68411823e-02\n  -1.55514919e-01 -8.73336218e-02  2.21668868e-01  3.59756535e-01\n  -4.66369031e-01]\n [-3.26132628e-01 -2.07164328e-01  5.30591506e-02 -3.69053747e-01\n  -2.76914216e-01  1.41673377e-01 -3.02640661e-01 -4.59762295e-01\n   2.11961247e-02 -1.29061125e-01  9.84694573e-02  4.04669797e-02\n  -5.32483880e-01]\n [-3.68610222e-01 -2.49025357e-01  1.32391030e-01  1.42016088e-01\n  -6.66275572e-02  1.75842384e-01  1.30540143e-01  1.10827548e-01\n  -2.38089559e-01 -1.87646268e-01 -1.91205783e-02  7.42229543e-01\n   2.37835283e-01]\n [-2.96696514e-01  3.80229423e-01 -7.06502178e-02 -1.67682173e-01\n  -1.28029045e-01  1.38018388e-01  8.11335043e-04  5.60817288e-03\n   5.17278463e-01 -1.21112574e-02  5.42532072e-01  3.87395209e-02\n   3.67763359e-01]]\n"
     ]
    }
   ],
   "source": [
    "# eigenvalues and eigenvectors of covariance matrix\n",
    "eigen_vals, eigen_vecs = np.linalg.eig(cov_mat)\n",
    "\n",
    "print('\\nEigenvalues \\n%s' % eigen_vals)\n",
    "print('\\nEigenvectors \\n%s' % eigen_vecs)"
   ]
  },
  {
   "cell_type": "code",
   "execution_count": 44,
   "metadata": {},
   "outputs": [
    {
     "output_type": "execute_result",
     "data": {
      "text/plain": [
       "(13, 13)"
      ]
     },
     "metadata": {},
     "execution_count": 44
    }
   ],
   "source": [
    "eigen_vecs.shape"
   ]
  },
  {
   "cell_type": "markdown",
   "metadata": {},
   "source": [
    "---\n",
    "p29"
   ]
  },
  {
   "cell_type": "markdown",
   "metadata": {},
   "source": [
    "### projection to new 13 dimensions "
   ]
  },
  {
   "cell_type": "code",
   "execution_count": 45,
   "metadata": {
    "collapsed": true
   },
   "outputs": [],
   "source": [
    "X_train_pca = X_train_std.dot(eigen_vecs)"
   ]
  },
  {
   "cell_type": "code",
   "execution_count": 46,
   "metadata": {},
   "outputs": [
    {
     "output_type": "execute_result",
     "data": {
      "text/plain": [
       "array([ 0.71225893,  2.22048673, -0.13025864,  0.05962872, -0.50432733,\n",
       "       -0.52831584, -1.24000033,  0.84118003, -1.05215112, -0.29218864,\n",
       "       -0.20017028, -0.82164144, -0.62946362])"
      ]
     },
     "metadata": {},
     "execution_count": 46
    }
   ],
   "source": [
    "X_train_std[0]"
   ]
  },
  {
   "cell_type": "code",
   "execution_count": 47,
   "metadata": {},
   "outputs": [
    {
     "output_type": "execute_result",
     "data": {
      "text/plain": [
       "array([ 2.38299011,  0.45458499, -0.22703207,  0.57988399, -0.57994169,\n",
       "        1.73317476, -0.70180475, -0.21617248, -0.23666876, -0.40161994,\n",
       "       -0.16548767, -0.23489704, -0.29726982])"
      ]
     },
     "metadata": {},
     "execution_count": 47
    }
   ],
   "source": [
    "X_train_pca[0]"
   ]
  },
  {
   "cell_type": "markdown",
   "metadata": {},
   "source": [
    "---\n",
    "p30"
   ]
  },
  {
   "cell_type": "markdown",
   "metadata": {},
   "source": [
    "### projection to 2 dimensions corresponding to 2 largest eigenvalues"
   ]
  },
  {
   "cell_type": "code",
   "execution_count": 48,
   "metadata": {
    "scrolled": true
   },
   "outputs": [
    {
     "output_type": "execute_result",
     "data": {
      "text/plain": [
       "array([[-0.13724218,  0.50303478],\n",
       "       [ 0.24724326,  0.16487119],\n",
       "       [-0.02545159,  0.24456476],\n",
       "       [ 0.20694508, -0.11352904],\n",
       "       [-0.15436582,  0.28974518],\n",
       "       [-0.39376952,  0.05080104],\n",
       "       [-0.41735106, -0.02287338],\n",
       "       [ 0.30572896,  0.09048885],\n",
       "       [-0.30668347,  0.00835233],\n",
       "       [ 0.07554066,  0.54977581],\n",
       "       [-0.32613263, -0.20716433],\n",
       "       [-0.36861022, -0.24902536],\n",
       "       [-0.29669651,  0.38022942]])"
      ]
     },
     "metadata": {},
     "execution_count": 48
    }
   ],
   "source": [
    "w = eigen_vecs[:,[0,1]]\n",
    "w"
   ]
  },
  {
   "cell_type": "code",
   "execution_count": 49,
   "metadata": {
    "collapsed": true
   },
   "outputs": [],
   "source": [
    "X_train_pca = X_train_std.dot(w)"
   ]
  },
  {
   "cell_type": "code",
   "execution_count": 50,
   "metadata": {},
   "outputs": [
    {
     "output_type": "execute_result",
     "data": {
      "text/plain": [
       "array([ 0.71225893,  2.22048673, -0.13025864,  0.05962872, -0.50432733,\n",
       "       -0.52831584, -1.24000033,  0.84118003, -1.05215112, -0.29218864,\n",
       "       -0.20017028, -0.82164144, -0.62946362])"
      ]
     },
     "metadata": {},
     "execution_count": 50
    }
   ],
   "source": [
    "X_train_std[0]"
   ]
  },
  {
   "cell_type": "code",
   "execution_count": 51,
   "metadata": {},
   "outputs": [
    {
     "output_type": "execute_result",
     "data": {
      "text/plain": [
       "array([2.38299011, 0.45458499])"
      ]
     },
     "metadata": {},
     "execution_count": 51
    }
   ],
   "source": [
    "X_train_pca[0]"
   ]
  },
  {
   "cell_type": "markdown",
   "metadata": {},
   "source": [
    "---\n",
    "p31"
   ]
  },
  {
   "cell_type": "markdown",
   "metadata": {},
   "source": [
    "### Principal Component Analysis using scikit-learn"
   ]
  },
  {
   "cell_type": "code",
   "execution_count": 52,
   "metadata": {
    "collapsed": true
   },
   "outputs": [],
   "source": [
    "from sklearn.decomposition import PCA\n",
    "\n",
    "pca = PCA()\n",
    "X_train_pca = pca.fit_transform(X_train_std)"
   ]
  },
  {
   "cell_type": "code",
   "execution_count": 53,
   "metadata": {},
   "outputs": [
    {
     "output_type": "execute_result",
     "data": {
      "text/plain": [
       "array([ 0.71225893,  2.22048673, -0.13025864,  0.05962872, -0.50432733,\n",
       "       -0.52831584, -1.24000033,  0.84118003, -1.05215112, -0.29218864,\n",
       "       -0.20017028, -0.82164144, -0.62946362])"
      ]
     },
     "metadata": {},
     "execution_count": 53
    }
   ],
   "source": [
    "X_train_std[0]"
   ]
  },
  {
   "cell_type": "code",
   "execution_count": 54,
   "metadata": {},
   "outputs": [
    {
     "output_type": "execute_result",
     "data": {
      "text/plain": [
       "array([ 2.38299011,  0.45458499, -0.22703207,  0.57988399, -0.57994169,\n",
       "       -1.73317476,  0.70180475,  0.21617248, -0.23666876, -0.16548767,\n",
       "        0.29726982,  0.23489704, -0.40161994])"
      ]
     },
     "metadata": {},
     "execution_count": 54
    }
   ],
   "source": [
    "X_train_pca[0]"
   ]
  },
  {
   "cell_type": "markdown",
   "metadata": {},
   "source": [
    "---\n",
    "p32"
   ]
  },
  {
   "cell_type": "markdown",
   "metadata": {},
   "source": [
    "### Explained variance ratio for each component "
   ]
  },
  {
   "cell_type": "code",
   "execution_count": 55,
   "metadata": {},
   "outputs": [
    {
     "output_type": "execute_result",
     "data": {
      "text/plain": [
       "array([0.36951469, 0.18434927, 0.11815159, 0.07334252, 0.06422108,\n",
       "       0.05051724, 0.03954654, 0.02643918, 0.02389319, 0.01629614,\n",
       "       0.01380021, 0.01172226, 0.00820609])"
      ]
     },
     "metadata": {},
     "execution_count": 55
    }
   ],
   "source": [
    "pca.explained_variance_ratio_"
   ]
  },
  {
   "cell_type": "code",
   "execution_count": 56,
   "metadata": {},
   "outputs": [
    {
     "output_type": "display_data",
     "data": {
      "text/plain": "<Figure size 432x288 with 1 Axes>",
      "image/svg+xml": "<?xml version=\"1.0\" encoding=\"utf-8\" standalone=\"no\"?>\r\n<!DOCTYPE svg PUBLIC \"-//W3C//DTD SVG 1.1//EN\"\r\n  \"http://www.w3.org/Graphics/SVG/1.1/DTD/svg11.dtd\">\r\n<!-- Created with matplotlib (https://matplotlib.org/) -->\r\n<svg height=\"262.19625pt\" version=\"1.1\" viewBox=\"0 0 391.192614 262.19625\" width=\"391.192614pt\" xmlns=\"http://www.w3.org/2000/svg\" xmlns:xlink=\"http://www.w3.org/1999/xlink\">\r\n <metadata>\r\n  <rdf:RDF xmlns:cc=\"http://creativecommons.org/ns#\" xmlns:dc=\"http://purl.org/dc/elements/1.1/\" xmlns:rdf=\"http://www.w3.org/1999/02/22-rdf-syntax-ns#\">\r\n   <cc:Work>\r\n    <dc:type rdf:resource=\"http://purl.org/dc/dcmitype/StillImage\"/>\r\n    <dc:date>2021-04-22T16:52:04.769429</dc:date>\r\n    <dc:format>image/svg+xml</dc:format>\r\n    <dc:creator>\r\n     <cc:Agent>\r\n      <dc:title>Matplotlib v3.3.2, https://matplotlib.org/</dc:title>\r\n     </cc:Agent>\r\n    </dc:creator>\r\n   </cc:Work>\r\n  </rdf:RDF>\r\n </metadata>\r\n <defs>\r\n  <style type=\"text/css\">*{stroke-linecap:butt;stroke-linejoin:round;}</style>\r\n </defs>\r\n <g id=\"figure_1\">\r\n  <g id=\"patch_1\">\r\n   <path d=\"M 0 262.19625 \r\nL 391.192614 262.19625 \r\nL 391.192614 0 \r\nL 0 0 \r\nz\r\n\" style=\"fill:none;\"/>\r\n  </g>\r\n  <g id=\"axes_1\">\r\n   <g id=\"patch_2\">\r\n    <path d=\"M 43.78125 224.64 \r\nL 378.58125 224.64 \r\nL 378.58125 7.2 \r\nL 43.78125 7.2 \r\nz\r\n\" style=\"fill:#ffffff;\"/>\r\n   </g>\r\n   <g id=\"patch_3\">\r\n    <path clip-path=\"url(#pdc064b5123)\" d=\"M 58.999432 224.64 \r\nL 78.022159 224.64 \r\nL 78.022159 148.118787 \r\nL 58.999432 148.118787 \r\nz\r\n\" style=\"fill:#1f77b4;opacity:0.5;\"/>\r\n   </g>\r\n   <g id=\"patch_4\">\r\n    <path clip-path=\"url(#pdc064b5123)\" d=\"M 82.777841 224.64 \r\nL 101.800568 224.64 \r\nL 101.800568 186.4639 \r\nL 82.777841 186.4639 \r\nz\r\n\" style=\"fill:#1f77b4;opacity:0.5;\"/>\r\n   </g>\r\n   <g id=\"patch_5\">\r\n    <path clip-path=\"url(#pdc064b5123)\" d=\"M 106.55625 224.64 \r\nL 125.578977 224.64 \r\nL 125.578977 200.172493 \r\nL 106.55625 200.172493 \r\nz\r\n\" style=\"fill:#1f77b4;opacity:0.5;\"/>\r\n   </g>\r\n   <g id=\"patch_6\">\r\n    <path clip-path=\"url(#pdc064b5123)\" d=\"M 130.334659 224.64 \r\nL 149.357386 224.64 \r\nL 149.357386 209.451812 \r\nL 130.334659 209.451812 \r\nz\r\n\" style=\"fill:#1f77b4;opacity:0.5;\"/>\r\n   </g>\r\n   <g id=\"patch_7\">\r\n    <path clip-path=\"url(#pdc064b5123)\" d=\"M 154.113068 224.64 \r\nL 173.135795 224.64 \r\nL 173.135795 211.340732 \r\nL 154.113068 211.340732 \r\nz\r\n\" style=\"fill:#1f77b4;opacity:0.5;\"/>\r\n   </g>\r\n   <g id=\"patch_8\">\r\n    <path clip-path=\"url(#pdc064b5123)\" d=\"M 177.891477 224.64 \r\nL 196.914205 224.64 \r\nL 196.914205 214.1786 \r\nL 177.891477 214.1786 \r\nz\r\n\" style=\"fill:#1f77b4;opacity:0.5;\"/>\r\n   </g>\r\n   <g id=\"patch_9\">\r\n    <path clip-path=\"url(#pdc064b5123)\" d=\"M 201.669886 224.64 \r\nL 220.692614 224.64 \r\nL 220.692614 216.450477 \r\nL 201.669886 216.450477 \r\nz\r\n\" style=\"fill:#1f77b4;opacity:0.5;\"/>\r\n   </g>\r\n   <g id=\"patch_10\">\r\n    <path clip-path=\"url(#pdc064b5123)\" d=\"M 225.448295 224.64 \r\nL 244.471023 224.64 \r\nL 244.471023 219.164823 \r\nL 225.448295 219.164823 \r\nz\r\n\" style=\"fill:#1f77b4;opacity:0.5;\"/>\r\n   </g>\r\n   <g id=\"patch_11\">\r\n    <path clip-path=\"url(#pdc064b5123)\" d=\"M 249.226705 224.64 \r\nL 268.249432 224.64 \r\nL 268.249432 219.692061 \r\nL 249.226705 219.692061 \r\nz\r\n\" style=\"fill:#1f77b4;opacity:0.5;\"/>\r\n   </g>\r\n   <g id=\"patch_12\">\r\n    <path clip-path=\"url(#pdc064b5123)\" d=\"M 273.005114 224.64 \r\nL 292.027841 224.64 \r\nL 292.027841 221.265303 \r\nL 273.005114 221.265303 \r\nz\r\n\" style=\"fill:#1f77b4;opacity:0.5;\"/>\r\n   </g>\r\n   <g id=\"patch_13\">\r\n    <path clip-path=\"url(#pdc064b5123)\" d=\"M 296.783523 224.64 \r\nL 315.80625 224.64 \r\nL 315.80625 221.782173 \r\nL 296.783523 221.782173 \r\nz\r\n\" style=\"fill:#1f77b4;opacity:0.5;\"/>\r\n   </g>\r\n   <g id=\"patch_14\">\r\n    <path clip-path=\"url(#pdc064b5123)\" d=\"M 320.561932 224.64 \r\nL 339.584659 224.64 \r\nL 339.584659 222.212487 \r\nL 320.561932 222.212487 \r\nz\r\n\" style=\"fill:#1f77b4;opacity:0.5;\"/>\r\n   </g>\r\n   <g id=\"patch_15\">\r\n    <path clip-path=\"url(#pdc064b5123)\" d=\"M 344.340341 224.64 \r\nL 363.363068 224.64 \r\nL 363.363068 222.940637 \r\nL 344.340341 222.940637 \r\nz\r\n\" style=\"fill:#1f77b4;opacity:0.5;\"/>\r\n   </g>\r\n   <g id=\"matplotlib.axis_1\">\r\n    <g id=\"xtick_1\">\r\n     <g id=\"line2d_1\">\r\n      <defs>\r\n       <path d=\"M 0 0 \r\nL 0 3.5 \r\n\" id=\"me3050918f4\" style=\"stroke:#000000;stroke-width:0.8;\"/>\r\n      </defs>\r\n      <g>\r\n       <use style=\"stroke:#000000;stroke-width:0.8;\" x=\"44.732386\" xlink:href=\"#me3050918f4\" y=\"224.64\"/>\r\n      </g>\r\n     </g>\r\n     <g id=\"text_1\">\r\n      <!-- 0 -->\r\n      <g transform=\"translate(41.551136 239.238437)scale(0.1 -0.1)\">\r\n       <defs>\r\n        <path d=\"M 31.78125 66.40625 \r\nQ 24.171875 66.40625 20.328125 58.90625 \r\nQ 16.5 51.421875 16.5 36.375 \r\nQ 16.5 21.390625 20.328125 13.890625 \r\nQ 24.171875 6.390625 31.78125 6.390625 \r\nQ 39.453125 6.390625 43.28125 13.890625 \r\nQ 47.125 21.390625 47.125 36.375 \r\nQ 47.125 51.421875 43.28125 58.90625 \r\nQ 39.453125 66.40625 31.78125 66.40625 \r\nz\r\nM 31.78125 74.21875 \r\nQ 44.046875 74.21875 50.515625 64.515625 \r\nQ 56.984375 54.828125 56.984375 36.375 \r\nQ 56.984375 17.96875 50.515625 8.265625 \r\nQ 44.046875 -1.421875 31.78125 -1.421875 \r\nQ 19.53125 -1.421875 13.0625 8.265625 \r\nQ 6.59375 17.96875 6.59375 36.375 \r\nQ 6.59375 54.828125 13.0625 64.515625 \r\nQ 19.53125 74.21875 31.78125 74.21875 \r\nz\r\n\" id=\"DejaVuSans-48\"/>\r\n       </defs>\r\n       <use xlink:href=\"#DejaVuSans-48\"/>\r\n      </g>\r\n     </g>\r\n    </g>\r\n    <g id=\"xtick_2\">\r\n     <g id=\"line2d_2\">\r\n      <g>\r\n       <use style=\"stroke:#000000;stroke-width:0.8;\" x=\"92.289205\" xlink:href=\"#me3050918f4\" y=\"224.64\"/>\r\n      </g>\r\n     </g>\r\n     <g id=\"text_2\">\r\n      <!-- 2 -->\r\n      <g transform=\"translate(89.107955 239.238437)scale(0.1 -0.1)\">\r\n       <defs>\r\n        <path d=\"M 19.1875 8.296875 \r\nL 53.609375 8.296875 \r\nL 53.609375 0 \r\nL 7.328125 0 \r\nL 7.328125 8.296875 \r\nQ 12.9375 14.109375 22.625 23.890625 \r\nQ 32.328125 33.6875 34.8125 36.53125 \r\nQ 39.546875 41.84375 41.421875 45.53125 \r\nQ 43.3125 49.21875 43.3125 52.78125 \r\nQ 43.3125 58.59375 39.234375 62.25 \r\nQ 35.15625 65.921875 28.609375 65.921875 \r\nQ 23.96875 65.921875 18.8125 64.3125 \r\nQ 13.671875 62.703125 7.8125 59.421875 \r\nL 7.8125 69.390625 \r\nQ 13.765625 71.78125 18.9375 73 \r\nQ 24.125 74.21875 28.421875 74.21875 \r\nQ 39.75 74.21875 46.484375 68.546875 \r\nQ 53.21875 62.890625 53.21875 53.421875 \r\nQ 53.21875 48.921875 51.53125 44.890625 \r\nQ 49.859375 40.875 45.40625 35.40625 \r\nQ 44.1875 33.984375 37.640625 27.21875 \r\nQ 31.109375 20.453125 19.1875 8.296875 \r\nz\r\n\" id=\"DejaVuSans-50\"/>\r\n       </defs>\r\n       <use xlink:href=\"#DejaVuSans-50\"/>\r\n      </g>\r\n     </g>\r\n    </g>\r\n    <g id=\"xtick_3\">\r\n     <g id=\"line2d_3\">\r\n      <g>\r\n       <use style=\"stroke:#000000;stroke-width:0.8;\" x=\"139.846023\" xlink:href=\"#me3050918f4\" y=\"224.64\"/>\r\n      </g>\r\n     </g>\r\n     <g id=\"text_3\">\r\n      <!-- 4 -->\r\n      <g transform=\"translate(136.664773 239.238437)scale(0.1 -0.1)\">\r\n       <defs>\r\n        <path d=\"M 37.796875 64.3125 \r\nL 12.890625 25.390625 \r\nL 37.796875 25.390625 \r\nz\r\nM 35.203125 72.90625 \r\nL 47.609375 72.90625 \r\nL 47.609375 25.390625 \r\nL 58.015625 25.390625 \r\nL 58.015625 17.1875 \r\nL 47.609375 17.1875 \r\nL 47.609375 0 \r\nL 37.796875 0 \r\nL 37.796875 17.1875 \r\nL 4.890625 17.1875 \r\nL 4.890625 26.703125 \r\nz\r\n\" id=\"DejaVuSans-52\"/>\r\n       </defs>\r\n       <use xlink:href=\"#DejaVuSans-52\"/>\r\n      </g>\r\n     </g>\r\n    </g>\r\n    <g id=\"xtick_4\">\r\n     <g id=\"line2d_4\">\r\n      <g>\r\n       <use style=\"stroke:#000000;stroke-width:0.8;\" x=\"187.402841\" xlink:href=\"#me3050918f4\" y=\"224.64\"/>\r\n      </g>\r\n     </g>\r\n     <g id=\"text_4\">\r\n      <!-- 6 -->\r\n      <g transform=\"translate(184.221591 239.238437)scale(0.1 -0.1)\">\r\n       <defs>\r\n        <path d=\"M 33.015625 40.375 \r\nQ 26.375 40.375 22.484375 35.828125 \r\nQ 18.609375 31.296875 18.609375 23.390625 \r\nQ 18.609375 15.53125 22.484375 10.953125 \r\nQ 26.375 6.390625 33.015625 6.390625 \r\nQ 39.65625 6.390625 43.53125 10.953125 \r\nQ 47.40625 15.53125 47.40625 23.390625 \r\nQ 47.40625 31.296875 43.53125 35.828125 \r\nQ 39.65625 40.375 33.015625 40.375 \r\nz\r\nM 52.59375 71.296875 \r\nL 52.59375 62.3125 \r\nQ 48.875 64.0625 45.09375 64.984375 \r\nQ 41.3125 65.921875 37.59375 65.921875 \r\nQ 27.828125 65.921875 22.671875 59.328125 \r\nQ 17.53125 52.734375 16.796875 39.40625 \r\nQ 19.671875 43.65625 24.015625 45.921875 \r\nQ 28.375 48.1875 33.59375 48.1875 \r\nQ 44.578125 48.1875 50.953125 41.515625 \r\nQ 57.328125 34.859375 57.328125 23.390625 \r\nQ 57.328125 12.15625 50.6875 5.359375 \r\nQ 44.046875 -1.421875 33.015625 -1.421875 \r\nQ 20.359375 -1.421875 13.671875 8.265625 \r\nQ 6.984375 17.96875 6.984375 36.375 \r\nQ 6.984375 53.65625 15.1875 63.9375 \r\nQ 23.390625 74.21875 37.203125 74.21875 \r\nQ 40.921875 74.21875 44.703125 73.484375 \r\nQ 48.484375 72.75 52.59375 71.296875 \r\nz\r\n\" id=\"DejaVuSans-54\"/>\r\n       </defs>\r\n       <use xlink:href=\"#DejaVuSans-54\"/>\r\n      </g>\r\n     </g>\r\n    </g>\r\n    <g id=\"xtick_5\">\r\n     <g id=\"line2d_5\">\r\n      <g>\r\n       <use style=\"stroke:#000000;stroke-width:0.8;\" x=\"234.959659\" xlink:href=\"#me3050918f4\" y=\"224.64\"/>\r\n      </g>\r\n     </g>\r\n     <g id=\"text_5\">\r\n      <!-- 8 -->\r\n      <g transform=\"translate(231.778409 239.238437)scale(0.1 -0.1)\">\r\n       <defs>\r\n        <path d=\"M 31.78125 34.625 \r\nQ 24.75 34.625 20.71875 30.859375 \r\nQ 16.703125 27.09375 16.703125 20.515625 \r\nQ 16.703125 13.921875 20.71875 10.15625 \r\nQ 24.75 6.390625 31.78125 6.390625 \r\nQ 38.8125 6.390625 42.859375 10.171875 \r\nQ 46.921875 13.96875 46.921875 20.515625 \r\nQ 46.921875 27.09375 42.890625 30.859375 \r\nQ 38.875 34.625 31.78125 34.625 \r\nz\r\nM 21.921875 38.8125 \r\nQ 15.578125 40.375 12.03125 44.71875 \r\nQ 8.5 49.078125 8.5 55.328125 \r\nQ 8.5 64.0625 14.71875 69.140625 \r\nQ 20.953125 74.21875 31.78125 74.21875 \r\nQ 42.671875 74.21875 48.875 69.140625 \r\nQ 55.078125 64.0625 55.078125 55.328125 \r\nQ 55.078125 49.078125 51.53125 44.71875 \r\nQ 48 40.375 41.703125 38.8125 \r\nQ 48.828125 37.15625 52.796875 32.3125 \r\nQ 56.78125 27.484375 56.78125 20.515625 \r\nQ 56.78125 9.90625 50.3125 4.234375 \r\nQ 43.84375 -1.421875 31.78125 -1.421875 \r\nQ 19.734375 -1.421875 13.25 4.234375 \r\nQ 6.78125 9.90625 6.78125 20.515625 \r\nQ 6.78125 27.484375 10.78125 32.3125 \r\nQ 14.796875 37.15625 21.921875 38.8125 \r\nz\r\nM 18.3125 54.390625 \r\nQ 18.3125 48.734375 21.84375 45.5625 \r\nQ 25.390625 42.390625 31.78125 42.390625 \r\nQ 38.140625 42.390625 41.71875 45.5625 \r\nQ 45.3125 48.734375 45.3125 54.390625 \r\nQ 45.3125 60.0625 41.71875 63.234375 \r\nQ 38.140625 66.40625 31.78125 66.40625 \r\nQ 25.390625 66.40625 21.84375 63.234375 \r\nQ 18.3125 60.0625 18.3125 54.390625 \r\nz\r\n\" id=\"DejaVuSans-56\"/>\r\n       </defs>\r\n       <use xlink:href=\"#DejaVuSans-56\"/>\r\n      </g>\r\n     </g>\r\n    </g>\r\n    <g id=\"xtick_6\">\r\n     <g id=\"line2d_6\">\r\n      <g>\r\n       <use style=\"stroke:#000000;stroke-width:0.8;\" x=\"282.516477\" xlink:href=\"#me3050918f4\" y=\"224.64\"/>\r\n      </g>\r\n     </g>\r\n     <g id=\"text_6\">\r\n      <!-- 10 -->\r\n      <g transform=\"translate(276.153977 239.238437)scale(0.1 -0.1)\">\r\n       <defs>\r\n        <path d=\"M 12.40625 8.296875 \r\nL 28.515625 8.296875 \r\nL 28.515625 63.921875 \r\nL 10.984375 60.40625 \r\nL 10.984375 69.390625 \r\nL 28.421875 72.90625 \r\nL 38.28125 72.90625 \r\nL 38.28125 8.296875 \r\nL 54.390625 8.296875 \r\nL 54.390625 0 \r\nL 12.40625 0 \r\nz\r\n\" id=\"DejaVuSans-49\"/>\r\n       </defs>\r\n       <use xlink:href=\"#DejaVuSans-49\"/>\r\n       <use x=\"63.623047\" xlink:href=\"#DejaVuSans-48\"/>\r\n      </g>\r\n     </g>\r\n    </g>\r\n    <g id=\"xtick_7\">\r\n     <g id=\"line2d_7\">\r\n      <g>\r\n       <use style=\"stroke:#000000;stroke-width:0.8;\" x=\"330.073295\" xlink:href=\"#me3050918f4\" y=\"224.64\"/>\r\n      </g>\r\n     </g>\r\n     <g id=\"text_7\">\r\n      <!-- 12 -->\r\n      <g transform=\"translate(323.710795 239.238437)scale(0.1 -0.1)\">\r\n       <use xlink:href=\"#DejaVuSans-49\"/>\r\n       <use x=\"63.623047\" xlink:href=\"#DejaVuSans-50\"/>\r\n      </g>\r\n     </g>\r\n    </g>\r\n    <g id=\"xtick_8\">\r\n     <g id=\"line2d_8\">\r\n      <g>\r\n       <use style=\"stroke:#000000;stroke-width:0.8;\" x=\"377.630114\" xlink:href=\"#me3050918f4\" y=\"224.64\"/>\r\n      </g>\r\n     </g>\r\n     <g id=\"text_8\">\r\n      <!-- 14 -->\r\n      <g transform=\"translate(371.267614 239.238437)scale(0.1 -0.1)\">\r\n       <use xlink:href=\"#DejaVuSans-49\"/>\r\n       <use x=\"63.623047\" xlink:href=\"#DejaVuSans-52\"/>\r\n      </g>\r\n     </g>\r\n    </g>\r\n    <g id=\"text_9\">\r\n     <!-- Principal components -->\r\n     <g transform=\"translate(157.394531 252.916562)scale(0.1 -0.1)\">\r\n      <defs>\r\n       <path d=\"M 19.671875 64.796875 \r\nL 19.671875 37.40625 \r\nL 32.078125 37.40625 \r\nQ 38.96875 37.40625 42.71875 40.96875 \r\nQ 46.484375 44.53125 46.484375 51.125 \r\nQ 46.484375 57.671875 42.71875 61.234375 \r\nQ 38.96875 64.796875 32.078125 64.796875 \r\nz\r\nM 9.8125 72.90625 \r\nL 32.078125 72.90625 \r\nQ 44.34375 72.90625 50.609375 67.359375 \r\nQ 56.890625 61.8125 56.890625 51.125 \r\nQ 56.890625 40.328125 50.609375 34.8125 \r\nQ 44.34375 29.296875 32.078125 29.296875 \r\nL 19.671875 29.296875 \r\nL 19.671875 0 \r\nL 9.8125 0 \r\nz\r\n\" id=\"DejaVuSans-80\"/>\r\n       <path d=\"M 41.109375 46.296875 \r\nQ 39.59375 47.171875 37.8125 47.578125 \r\nQ 36.03125 48 33.890625 48 \r\nQ 26.265625 48 22.1875 43.046875 \r\nQ 18.109375 38.09375 18.109375 28.8125 \r\nL 18.109375 0 \r\nL 9.078125 0 \r\nL 9.078125 54.6875 \r\nL 18.109375 54.6875 \r\nL 18.109375 46.1875 \r\nQ 20.953125 51.171875 25.484375 53.578125 \r\nQ 30.03125 56 36.53125 56 \r\nQ 37.453125 56 38.578125 55.875 \r\nQ 39.703125 55.765625 41.0625 55.515625 \r\nz\r\n\" id=\"DejaVuSans-114\"/>\r\n       <path d=\"M 9.421875 54.6875 \r\nL 18.40625 54.6875 \r\nL 18.40625 0 \r\nL 9.421875 0 \r\nz\r\nM 9.421875 75.984375 \r\nL 18.40625 75.984375 \r\nL 18.40625 64.59375 \r\nL 9.421875 64.59375 \r\nz\r\n\" id=\"DejaVuSans-105\"/>\r\n       <path d=\"M 54.890625 33.015625 \r\nL 54.890625 0 \r\nL 45.90625 0 \r\nL 45.90625 32.71875 \r\nQ 45.90625 40.484375 42.875 44.328125 \r\nQ 39.84375 48.1875 33.796875 48.1875 \r\nQ 26.515625 48.1875 22.3125 43.546875 \r\nQ 18.109375 38.921875 18.109375 30.90625 \r\nL 18.109375 0 \r\nL 9.078125 0 \r\nL 9.078125 54.6875 \r\nL 18.109375 54.6875 \r\nL 18.109375 46.1875 \r\nQ 21.34375 51.125 25.703125 53.5625 \r\nQ 30.078125 56 35.796875 56 \r\nQ 45.21875 56 50.046875 50.171875 \r\nQ 54.890625 44.34375 54.890625 33.015625 \r\nz\r\n\" id=\"DejaVuSans-110\"/>\r\n       <path d=\"M 48.78125 52.59375 \r\nL 48.78125 44.1875 \r\nQ 44.96875 46.296875 41.140625 47.34375 \r\nQ 37.3125 48.390625 33.40625 48.390625 \r\nQ 24.65625 48.390625 19.8125 42.84375 \r\nQ 14.984375 37.3125 14.984375 27.296875 \r\nQ 14.984375 17.28125 19.8125 11.734375 \r\nQ 24.65625 6.203125 33.40625 6.203125 \r\nQ 37.3125 6.203125 41.140625 7.25 \r\nQ 44.96875 8.296875 48.78125 10.40625 \r\nL 48.78125 2.09375 \r\nQ 45.015625 0.34375 40.984375 -0.53125 \r\nQ 36.96875 -1.421875 32.421875 -1.421875 \r\nQ 20.0625 -1.421875 12.78125 6.34375 \r\nQ 5.515625 14.109375 5.515625 27.296875 \r\nQ 5.515625 40.671875 12.859375 48.328125 \r\nQ 20.21875 56 33.015625 56 \r\nQ 37.15625 56 41.109375 55.140625 \r\nQ 45.0625 54.296875 48.78125 52.59375 \r\nz\r\n\" id=\"DejaVuSans-99\"/>\r\n       <path d=\"M 18.109375 8.203125 \r\nL 18.109375 -20.796875 \r\nL 9.078125 -20.796875 \r\nL 9.078125 54.6875 \r\nL 18.109375 54.6875 \r\nL 18.109375 46.390625 \r\nQ 20.953125 51.265625 25.265625 53.625 \r\nQ 29.59375 56 35.59375 56 \r\nQ 45.5625 56 51.78125 48.09375 \r\nQ 58.015625 40.1875 58.015625 27.296875 \r\nQ 58.015625 14.40625 51.78125 6.484375 \r\nQ 45.5625 -1.421875 35.59375 -1.421875 \r\nQ 29.59375 -1.421875 25.265625 0.953125 \r\nQ 20.953125 3.328125 18.109375 8.203125 \r\nz\r\nM 48.6875 27.296875 \r\nQ 48.6875 37.203125 44.609375 42.84375 \r\nQ 40.53125 48.484375 33.40625 48.484375 \r\nQ 26.265625 48.484375 22.1875 42.84375 \r\nQ 18.109375 37.203125 18.109375 27.296875 \r\nQ 18.109375 17.390625 22.1875 11.75 \r\nQ 26.265625 6.109375 33.40625 6.109375 \r\nQ 40.53125 6.109375 44.609375 11.75 \r\nQ 48.6875 17.390625 48.6875 27.296875 \r\nz\r\n\" id=\"DejaVuSans-112\"/>\r\n       <path d=\"M 34.28125 27.484375 \r\nQ 23.390625 27.484375 19.1875 25 \r\nQ 14.984375 22.515625 14.984375 16.5 \r\nQ 14.984375 11.71875 18.140625 8.90625 \r\nQ 21.296875 6.109375 26.703125 6.109375 \r\nQ 34.1875 6.109375 38.703125 11.40625 \r\nQ 43.21875 16.703125 43.21875 25.484375 \r\nL 43.21875 27.484375 \r\nz\r\nM 52.203125 31.203125 \r\nL 52.203125 0 \r\nL 43.21875 0 \r\nL 43.21875 8.296875 \r\nQ 40.140625 3.328125 35.546875 0.953125 \r\nQ 30.953125 -1.421875 24.3125 -1.421875 \r\nQ 15.921875 -1.421875 10.953125 3.296875 \r\nQ 6 8.015625 6 15.921875 \r\nQ 6 25.140625 12.171875 29.828125 \r\nQ 18.359375 34.515625 30.609375 34.515625 \r\nL 43.21875 34.515625 \r\nL 43.21875 35.40625 \r\nQ 43.21875 41.609375 39.140625 45 \r\nQ 35.0625 48.390625 27.6875 48.390625 \r\nQ 23 48.390625 18.546875 47.265625 \r\nQ 14.109375 46.140625 10.015625 43.890625 \r\nL 10.015625 52.203125 \r\nQ 14.9375 54.109375 19.578125 55.046875 \r\nQ 24.21875 56 28.609375 56 \r\nQ 40.484375 56 46.34375 49.84375 \r\nQ 52.203125 43.703125 52.203125 31.203125 \r\nz\r\n\" id=\"DejaVuSans-97\"/>\r\n       <path d=\"M 9.421875 75.984375 \r\nL 18.40625 75.984375 \r\nL 18.40625 0 \r\nL 9.421875 0 \r\nz\r\n\" id=\"DejaVuSans-108\"/>\r\n       <path id=\"DejaVuSans-32\"/>\r\n       <path d=\"M 30.609375 48.390625 \r\nQ 23.390625 48.390625 19.1875 42.75 \r\nQ 14.984375 37.109375 14.984375 27.296875 \r\nQ 14.984375 17.484375 19.15625 11.84375 \r\nQ 23.34375 6.203125 30.609375 6.203125 \r\nQ 37.796875 6.203125 41.984375 11.859375 \r\nQ 46.1875 17.53125 46.1875 27.296875 \r\nQ 46.1875 37.015625 41.984375 42.703125 \r\nQ 37.796875 48.390625 30.609375 48.390625 \r\nz\r\nM 30.609375 56 \r\nQ 42.328125 56 49.015625 48.375 \r\nQ 55.71875 40.765625 55.71875 27.296875 \r\nQ 55.71875 13.875 49.015625 6.21875 \r\nQ 42.328125 -1.421875 30.609375 -1.421875 \r\nQ 18.84375 -1.421875 12.171875 6.21875 \r\nQ 5.515625 13.875 5.515625 27.296875 \r\nQ 5.515625 40.765625 12.171875 48.375 \r\nQ 18.84375 56 30.609375 56 \r\nz\r\n\" id=\"DejaVuSans-111\"/>\r\n       <path d=\"M 52 44.1875 \r\nQ 55.375 50.25 60.0625 53.125 \r\nQ 64.75 56 71.09375 56 \r\nQ 79.640625 56 84.28125 50.015625 \r\nQ 88.921875 44.046875 88.921875 33.015625 \r\nL 88.921875 0 \r\nL 79.890625 0 \r\nL 79.890625 32.71875 \r\nQ 79.890625 40.578125 77.09375 44.375 \r\nQ 74.3125 48.1875 68.609375 48.1875 \r\nQ 61.625 48.1875 57.5625 43.546875 \r\nQ 53.515625 38.921875 53.515625 30.90625 \r\nL 53.515625 0 \r\nL 44.484375 0 \r\nL 44.484375 32.71875 \r\nQ 44.484375 40.625 41.703125 44.40625 \r\nQ 38.921875 48.1875 33.109375 48.1875 \r\nQ 26.21875 48.1875 22.15625 43.53125 \r\nQ 18.109375 38.875 18.109375 30.90625 \r\nL 18.109375 0 \r\nL 9.078125 0 \r\nL 9.078125 54.6875 \r\nL 18.109375 54.6875 \r\nL 18.109375 46.1875 \r\nQ 21.1875 51.21875 25.484375 53.609375 \r\nQ 29.78125 56 35.6875 56 \r\nQ 41.65625 56 45.828125 52.96875 \r\nQ 50 49.953125 52 44.1875 \r\nz\r\n\" id=\"DejaVuSans-109\"/>\r\n       <path d=\"M 56.203125 29.59375 \r\nL 56.203125 25.203125 \r\nL 14.890625 25.203125 \r\nQ 15.484375 15.921875 20.484375 11.0625 \r\nQ 25.484375 6.203125 34.421875 6.203125 \r\nQ 39.59375 6.203125 44.453125 7.46875 \r\nQ 49.3125 8.734375 54.109375 11.28125 \r\nL 54.109375 2.78125 \r\nQ 49.265625 0.734375 44.1875 -0.34375 \r\nQ 39.109375 -1.421875 33.890625 -1.421875 \r\nQ 20.796875 -1.421875 13.15625 6.1875 \r\nQ 5.515625 13.8125 5.515625 26.8125 \r\nQ 5.515625 40.234375 12.765625 48.109375 \r\nQ 20.015625 56 32.328125 56 \r\nQ 43.359375 56 49.78125 48.890625 \r\nQ 56.203125 41.796875 56.203125 29.59375 \r\nz\r\nM 47.21875 32.234375 \r\nQ 47.125 39.59375 43.09375 43.984375 \r\nQ 39.0625 48.390625 32.421875 48.390625 \r\nQ 24.90625 48.390625 20.390625 44.140625 \r\nQ 15.875 39.890625 15.1875 32.171875 \r\nz\r\n\" id=\"DejaVuSans-101\"/>\r\n       <path d=\"M 18.3125 70.21875 \r\nL 18.3125 54.6875 \r\nL 36.8125 54.6875 \r\nL 36.8125 47.703125 \r\nL 18.3125 47.703125 \r\nL 18.3125 18.015625 \r\nQ 18.3125 11.328125 20.140625 9.421875 \r\nQ 21.96875 7.515625 27.59375 7.515625 \r\nL 36.8125 7.515625 \r\nL 36.8125 0 \r\nL 27.59375 0 \r\nQ 17.1875 0 13.234375 3.875 \r\nQ 9.28125 7.765625 9.28125 18.015625 \r\nL 9.28125 47.703125 \r\nL 2.6875 47.703125 \r\nL 2.6875 54.6875 \r\nL 9.28125 54.6875 \r\nL 9.28125 70.21875 \r\nz\r\n\" id=\"DejaVuSans-116\"/>\r\n       <path d=\"M 44.28125 53.078125 \r\nL 44.28125 44.578125 \r\nQ 40.484375 46.53125 36.375 47.5 \r\nQ 32.28125 48.484375 27.875 48.484375 \r\nQ 21.1875 48.484375 17.84375 46.4375 \r\nQ 14.5 44.390625 14.5 40.28125 \r\nQ 14.5 37.15625 16.890625 35.375 \r\nQ 19.28125 33.59375 26.515625 31.984375 \r\nL 29.59375 31.296875 \r\nQ 39.15625 29.25 43.1875 25.515625 \r\nQ 47.21875 21.78125 47.21875 15.09375 \r\nQ 47.21875 7.46875 41.1875 3.015625 \r\nQ 35.15625 -1.421875 24.609375 -1.421875 \r\nQ 20.21875 -1.421875 15.453125 -0.5625 \r\nQ 10.6875 0.296875 5.421875 2 \r\nL 5.421875 11.28125 \r\nQ 10.40625 8.6875 15.234375 7.390625 \r\nQ 20.0625 6.109375 24.8125 6.109375 \r\nQ 31.15625 6.109375 34.5625 8.28125 \r\nQ 37.984375 10.453125 37.984375 14.40625 \r\nQ 37.984375 18.0625 35.515625 20.015625 \r\nQ 33.0625 21.96875 24.703125 23.78125 \r\nL 21.578125 24.515625 \r\nQ 13.234375 26.265625 9.515625 29.90625 \r\nQ 5.8125 33.546875 5.8125 39.890625 \r\nQ 5.8125 47.609375 11.28125 51.796875 \r\nQ 16.75 56 26.8125 56 \r\nQ 31.78125 56 36.171875 55.265625 \r\nQ 40.578125 54.546875 44.28125 53.078125 \r\nz\r\n\" id=\"DejaVuSans-115\"/>\r\n      </defs>\r\n      <use xlink:href=\"#DejaVuSans-80\"/>\r\n      <use x=\"58.552734\" xlink:href=\"#DejaVuSans-114\"/>\r\n      <use x=\"99.666016\" xlink:href=\"#DejaVuSans-105\"/>\r\n      <use x=\"127.449219\" xlink:href=\"#DejaVuSans-110\"/>\r\n      <use x=\"190.828125\" xlink:href=\"#DejaVuSans-99\"/>\r\n      <use x=\"245.808594\" xlink:href=\"#DejaVuSans-105\"/>\r\n      <use x=\"273.591797\" xlink:href=\"#DejaVuSans-112\"/>\r\n      <use x=\"337.068359\" xlink:href=\"#DejaVuSans-97\"/>\r\n      <use x=\"398.347656\" xlink:href=\"#DejaVuSans-108\"/>\r\n      <use x=\"426.130859\" xlink:href=\"#DejaVuSans-32\"/>\r\n      <use x=\"457.917969\" xlink:href=\"#DejaVuSans-99\"/>\r\n      <use x=\"512.898438\" xlink:href=\"#DejaVuSans-111\"/>\r\n      <use x=\"574.080078\" xlink:href=\"#DejaVuSans-109\"/>\r\n      <use x=\"671.492188\" xlink:href=\"#DejaVuSans-112\"/>\r\n      <use x=\"734.96875\" xlink:href=\"#DejaVuSans-111\"/>\r\n      <use x=\"796.150391\" xlink:href=\"#DejaVuSans-110\"/>\r\n      <use x=\"859.529297\" xlink:href=\"#DejaVuSans-101\"/>\r\n      <use x=\"921.052734\" xlink:href=\"#DejaVuSans-110\"/>\r\n      <use x=\"984.431641\" xlink:href=\"#DejaVuSans-116\"/>\r\n      <use x=\"1023.640625\" xlink:href=\"#DejaVuSans-115\"/>\r\n     </g>\r\n    </g>\r\n   </g>\r\n   <g id=\"matplotlib.axis_2\">\r\n    <g id=\"ytick_1\">\r\n     <g id=\"line2d_9\">\r\n      <defs>\r\n       <path d=\"M 0 0 \r\nL -3.5 0 \r\n\" id=\"m51b16e7d06\" style=\"stroke:#000000;stroke-width:0.8;\"/>\r\n      </defs>\r\n      <g>\r\n       <use style=\"stroke:#000000;stroke-width:0.8;\" x=\"43.78125\" xlink:href=\"#m51b16e7d06\" y=\"224.64\"/>\r\n      </g>\r\n     </g>\r\n     <g id=\"text_10\">\r\n      <!-- 0.0 -->\r\n      <g transform=\"translate(20.878125 228.439219)scale(0.1 -0.1)\">\r\n       <defs>\r\n        <path d=\"M 10.6875 12.40625 \r\nL 21 12.40625 \r\nL 21 0 \r\nL 10.6875 0 \r\nz\r\n\" id=\"DejaVuSans-46\"/>\r\n       </defs>\r\n       <use xlink:href=\"#DejaVuSans-48\"/>\r\n       <use x=\"63.623047\" xlink:href=\"#DejaVuSans-46\"/>\r\n       <use x=\"95.410156\" xlink:href=\"#DejaVuSans-48\"/>\r\n      </g>\r\n     </g>\r\n    </g>\r\n    <g id=\"ytick_2\">\r\n     <g id=\"line2d_10\">\r\n      <g>\r\n       <use style=\"stroke:#000000;stroke-width:0.8;\" x=\"43.78125\" xlink:href=\"#m51b16e7d06\" y=\"183.222857\"/>\r\n      </g>\r\n     </g>\r\n     <g id=\"text_11\">\r\n      <!-- 0.2 -->\r\n      <g transform=\"translate(20.878125 187.022076)scale(0.1 -0.1)\">\r\n       <use xlink:href=\"#DejaVuSans-48\"/>\r\n       <use x=\"63.623047\" xlink:href=\"#DejaVuSans-46\"/>\r\n       <use x=\"95.410156\" xlink:href=\"#DejaVuSans-50\"/>\r\n      </g>\r\n     </g>\r\n    </g>\r\n    <g id=\"ytick_3\">\r\n     <g id=\"line2d_11\">\r\n      <g>\r\n       <use style=\"stroke:#000000;stroke-width:0.8;\" x=\"43.78125\" xlink:href=\"#m51b16e7d06\" y=\"141.805714\"/>\r\n      </g>\r\n     </g>\r\n     <g id=\"text_12\">\r\n      <!-- 0.4 -->\r\n      <g transform=\"translate(20.878125 145.604933)scale(0.1 -0.1)\">\r\n       <use xlink:href=\"#DejaVuSans-48\"/>\r\n       <use x=\"63.623047\" xlink:href=\"#DejaVuSans-46\"/>\r\n       <use x=\"95.410156\" xlink:href=\"#DejaVuSans-52\"/>\r\n      </g>\r\n     </g>\r\n    </g>\r\n    <g id=\"ytick_4\">\r\n     <g id=\"line2d_12\">\r\n      <g>\r\n       <use style=\"stroke:#000000;stroke-width:0.8;\" x=\"43.78125\" xlink:href=\"#m51b16e7d06\" y=\"100.388571\"/>\r\n      </g>\r\n     </g>\r\n     <g id=\"text_13\">\r\n      <!-- 0.6 -->\r\n      <g transform=\"translate(20.878125 104.18779)scale(0.1 -0.1)\">\r\n       <use xlink:href=\"#DejaVuSans-48\"/>\r\n       <use x=\"63.623047\" xlink:href=\"#DejaVuSans-46\"/>\r\n       <use x=\"95.410156\" xlink:href=\"#DejaVuSans-54\"/>\r\n      </g>\r\n     </g>\r\n    </g>\r\n    <g id=\"ytick_5\">\r\n     <g id=\"line2d_13\">\r\n      <g>\r\n       <use style=\"stroke:#000000;stroke-width:0.8;\" x=\"43.78125\" xlink:href=\"#m51b16e7d06\" y=\"58.971429\"/>\r\n      </g>\r\n     </g>\r\n     <g id=\"text_14\">\r\n      <!-- 0.8 -->\r\n      <g transform=\"translate(20.878125 62.770647)scale(0.1 -0.1)\">\r\n       <use xlink:href=\"#DejaVuSans-48\"/>\r\n       <use x=\"63.623047\" xlink:href=\"#DejaVuSans-46\"/>\r\n       <use x=\"95.410156\" xlink:href=\"#DejaVuSans-56\"/>\r\n      </g>\r\n     </g>\r\n    </g>\r\n    <g id=\"ytick_6\">\r\n     <g id=\"line2d_14\">\r\n      <g>\r\n       <use style=\"stroke:#000000;stroke-width:0.8;\" x=\"43.78125\" xlink:href=\"#m51b16e7d06\" y=\"17.554286\"/>\r\n      </g>\r\n     </g>\r\n     <g id=\"text_15\">\r\n      <!-- 1.0 -->\r\n      <g transform=\"translate(20.878125 21.353504)scale(0.1 -0.1)\">\r\n       <use xlink:href=\"#DejaVuSans-49\"/>\r\n       <use x=\"63.623047\" xlink:href=\"#DejaVuSans-46\"/>\r\n       <use x=\"95.410156\" xlink:href=\"#DejaVuSans-48\"/>\r\n      </g>\r\n     </g>\r\n    </g>\r\n    <g id=\"text_16\">\r\n     <!-- Explained variance ratio -->\r\n     <g transform=\"translate(14.798438 176.7075)rotate(-90)scale(0.1 -0.1)\">\r\n      <defs>\r\n       <path d=\"M 9.8125 72.90625 \r\nL 55.90625 72.90625 \r\nL 55.90625 64.59375 \r\nL 19.671875 64.59375 \r\nL 19.671875 43.015625 \r\nL 54.390625 43.015625 \r\nL 54.390625 34.71875 \r\nL 19.671875 34.71875 \r\nL 19.671875 8.296875 \r\nL 56.78125 8.296875 \r\nL 56.78125 0 \r\nL 9.8125 0 \r\nz\r\n\" id=\"DejaVuSans-69\"/>\r\n       <path d=\"M 54.890625 54.6875 \r\nL 35.109375 28.078125 \r\nL 55.90625 0 \r\nL 45.3125 0 \r\nL 29.390625 21.484375 \r\nL 13.484375 0 \r\nL 2.875 0 \r\nL 24.125 28.609375 \r\nL 4.6875 54.6875 \r\nL 15.28125 54.6875 \r\nL 29.78125 35.203125 \r\nL 44.28125 54.6875 \r\nz\r\n\" id=\"DejaVuSans-120\"/>\r\n       <path d=\"M 45.40625 46.390625 \r\nL 45.40625 75.984375 \r\nL 54.390625 75.984375 \r\nL 54.390625 0 \r\nL 45.40625 0 \r\nL 45.40625 8.203125 \r\nQ 42.578125 3.328125 38.25 0.953125 \r\nQ 33.9375 -1.421875 27.875 -1.421875 \r\nQ 17.96875 -1.421875 11.734375 6.484375 \r\nQ 5.515625 14.40625 5.515625 27.296875 \r\nQ 5.515625 40.1875 11.734375 48.09375 \r\nQ 17.96875 56 27.875 56 \r\nQ 33.9375 56 38.25 53.625 \r\nQ 42.578125 51.265625 45.40625 46.390625 \r\nz\r\nM 14.796875 27.296875 \r\nQ 14.796875 17.390625 18.875 11.75 \r\nQ 22.953125 6.109375 30.078125 6.109375 \r\nQ 37.203125 6.109375 41.296875 11.75 \r\nQ 45.40625 17.390625 45.40625 27.296875 \r\nQ 45.40625 37.203125 41.296875 42.84375 \r\nQ 37.203125 48.484375 30.078125 48.484375 \r\nQ 22.953125 48.484375 18.875 42.84375 \r\nQ 14.796875 37.203125 14.796875 27.296875 \r\nz\r\n\" id=\"DejaVuSans-100\"/>\r\n       <path d=\"M 2.984375 54.6875 \r\nL 12.5 54.6875 \r\nL 29.59375 8.796875 \r\nL 46.6875 54.6875 \r\nL 56.203125 54.6875 \r\nL 35.6875 0 \r\nL 23.484375 0 \r\nz\r\n\" id=\"DejaVuSans-118\"/>\r\n      </defs>\r\n      <use xlink:href=\"#DejaVuSans-69\"/>\r\n      <use x=\"63.183594\" xlink:href=\"#DejaVuSans-120\"/>\r\n      <use x=\"122.363281\" xlink:href=\"#DejaVuSans-112\"/>\r\n      <use x=\"185.839844\" xlink:href=\"#DejaVuSans-108\"/>\r\n      <use x=\"213.623047\" xlink:href=\"#DejaVuSans-97\"/>\r\n      <use x=\"274.902344\" xlink:href=\"#DejaVuSans-105\"/>\r\n      <use x=\"302.685547\" xlink:href=\"#DejaVuSans-110\"/>\r\n      <use x=\"366.064453\" xlink:href=\"#DejaVuSans-101\"/>\r\n      <use x=\"427.587891\" xlink:href=\"#DejaVuSans-100\"/>\r\n      <use x=\"491.064453\" xlink:href=\"#DejaVuSans-32\"/>\r\n      <use x=\"522.851562\" xlink:href=\"#DejaVuSans-118\"/>\r\n      <use x=\"582.03125\" xlink:href=\"#DejaVuSans-97\"/>\r\n      <use x=\"643.310547\" xlink:href=\"#DejaVuSans-114\"/>\r\n      <use x=\"684.423828\" xlink:href=\"#DejaVuSans-105\"/>\r\n      <use x=\"712.207031\" xlink:href=\"#DejaVuSans-97\"/>\r\n      <use x=\"773.486328\" xlink:href=\"#DejaVuSans-110\"/>\r\n      <use x=\"836.865234\" xlink:href=\"#DejaVuSans-99\"/>\r\n      <use x=\"891.845703\" xlink:href=\"#DejaVuSans-101\"/>\r\n      <use x=\"953.369141\" xlink:href=\"#DejaVuSans-32\"/>\r\n      <use x=\"985.15625\" xlink:href=\"#DejaVuSans-114\"/>\r\n      <use x=\"1026.269531\" xlink:href=\"#DejaVuSans-97\"/>\r\n      <use x=\"1087.548828\" xlink:href=\"#DejaVuSans-116\"/>\r\n      <use x=\"1126.757812\" xlink:href=\"#DejaVuSans-105\"/>\r\n      <use x=\"1154.541016\" xlink:href=\"#DejaVuSans-111\"/>\r\n     </g>\r\n    </g>\r\n   </g>\r\n   <g id=\"line2d_15\">\r\n    <path clip-path=\"url(#pdc064b5123)\" d=\"M 68.510795 148.118787 \r\nL 80.4 148.118787 \r\nL 80.4 109.942687 \r\nL 104.178409 109.942687 \r\nL 104.178409 85.47518 \r\nL 127.956818 85.47518 \r\nL 127.956818 70.286993 \r\nL 151.735227 70.286993 \r\nL 151.735227 56.987725 \r\nL 175.513636 56.987725 \r\nL 175.513636 46.526325 \r\nL 199.292045 46.526325 \r\nL 199.292045 38.336802 \r\nL 223.070455 38.336802 \r\nL 223.070455 32.861625 \r\nL 246.848864 32.861625 \r\nL 246.848864 27.913686 \r\nL 270.627273 27.913686 \r\nL 270.627273 24.538989 \r\nL 294.405682 24.538989 \r\nL 294.405682 21.681162 \r\nL 318.184091 21.681162 \r\nL 318.184091 19.253649 \r\nL 341.9625 19.253649 \r\nL 341.9625 17.554286 \r\nL 353.851705 17.554286 \r\n\" style=\"fill:none;stroke:#1f77b4;stroke-linecap:square;stroke-width:1.5;\"/>\r\n   </g>\r\n   <g id=\"patch_16\">\r\n    <path d=\"M 43.78125 224.64 \r\nL 43.78125 7.2 \r\n\" style=\"fill:none;stroke:#000000;stroke-linecap:square;stroke-linejoin:miter;stroke-width:0.8;\"/>\r\n   </g>\r\n   <g id=\"patch_17\">\r\n    <path d=\"M 378.58125 224.64 \r\nL 378.58125 7.2 \r\n\" style=\"fill:none;stroke:#000000;stroke-linecap:square;stroke-linejoin:miter;stroke-width:0.8;\"/>\r\n   </g>\r\n   <g id=\"patch_18\">\r\n    <path d=\"M 43.78125 224.64 \r\nL 378.58125 224.64 \r\n\" style=\"fill:none;stroke:#000000;stroke-linecap:square;stroke-linejoin:miter;stroke-width:0.8;\"/>\r\n   </g>\r\n   <g id=\"patch_19\">\r\n    <path d=\"M 43.78125 7.2 \r\nL 378.58125 7.2 \r\n\" style=\"fill:none;stroke:#000000;stroke-linecap:square;stroke-linejoin:miter;stroke-width:0.8;\"/>\r\n   </g>\r\n  </g>\r\n </g>\r\n <defs>\r\n  <clipPath id=\"pdc064b5123\">\r\n   <rect height=\"217.44\" width=\"334.8\" x=\"43.78125\" y=\"7.2\"/>\r\n  </clipPath>\r\n </defs>\r\n</svg>\r\n",
      "image/png": "[encoded data removed]"
     },
     "metadata": {
      "needs_background": "light"
     }
    }
   ],
   "source": [
    "import matplotlib.pyplot as plt\n",
    "\n",
    "plt.bar(range(1, 14), pca.explained_variance_ratio_, alpha=0.5, align='center')\n",
    "plt.step(range(1, 14), np.cumsum(pca.explained_variance_ratio_), where='mid')\n",
    "plt.ylabel('Explained variance ratio')\n",
    "plt.xlabel('Principal components')\n",
    "\n",
    "plt.show()"
   ]
  },
  {
   "cell_type": "markdown",
   "metadata": {},
   "source": [
    "---\n",
    "p33"
   ]
  },
  {
   "cell_type": "markdown",
   "metadata": {},
   "source": [
    "### Projection to 2 dimensions"
   ]
  },
  {
   "cell_type": "code",
   "execution_count": 57,
   "metadata": {
    "collapsed": true
   },
   "outputs": [],
   "source": [
    "pca = PCA(n_components=2)\n",
    "X_train_pca = pca.fit_transform(X_train_std)\n",
    "X_test_pca = pca.transform(X_test_std)"
   ]
  },
  {
   "cell_type": "code",
   "execution_count": 58,
   "metadata": {},
   "outputs": [
    {
     "output_type": "execute_result",
     "data": {
      "text/plain": [
       "array([ 0.71225893,  2.22048673, -0.13025864,  0.05962872, -0.50432733,\n",
       "       -0.52831584, -1.24000033,  0.84118003, -1.05215112, -0.29218864,\n",
       "       -0.20017028, -0.82164144, -0.62946362])"
      ]
     },
     "metadata": {},
     "execution_count": 58
    }
   ],
   "source": [
    "X_train_std[0]"
   ]
  },
  {
   "cell_type": "code",
   "execution_count": 59,
   "metadata": {},
   "outputs": [
    {
     "output_type": "execute_result",
     "data": {
      "text/plain": [
       "array([2.38299011, 0.45458499])"
      ]
     },
     "metadata": {},
     "execution_count": 59
    }
   ],
   "source": [
    "X_train_pca[0]"
   ]
  },
  {
   "cell_type": "markdown",
   "metadata": {},
   "source": [
    "---\n",
    "p34"
   ]
  },
  {
   "cell_type": "markdown",
   "metadata": {},
   "source": [
    "### Visualizing data in 2 dimensions with PC1 and PC2"
   ]
  },
  {
   "cell_type": "code",
   "execution_count": 60,
   "metadata": {},
   "outputs": [
    {
     "output_type": "display_data",
     "data": {
      "text/plain": "<Figure size 432x288 with 1 Axes>",
      "image/svg+xml": "<?xml version=\"1.0\" encoding=\"utf-8\" standalone=\"no\"?>\r\n<!DOCTYPE svg PUBLIC \"-//W3C//DTD SVG 1.1//EN\"\r\n  \"http://www.w3.org/Graphics/SVG/1.1/DTD/svg11.dtd\">\r\n<!-- Created with matplotlib (https://matplotlib.org/) -->\r\n<svg height=\"280.15625pt\" version=\"1.1\" viewBox=\"0 0 424.470312 280.15625\" width=\"424.470312pt\" xmlns=\"http://www.w3.org/2000/svg\" xmlns:xlink=\"http://www.w3.org/1999/xlink\">\r\n <metadata>\r\n  <rdf:RDF xmlns:cc=\"http://creativecommons.org/ns#\" xmlns:dc=\"http://purl.org/dc/elements/1.1/\" xmlns:rdf=\"http://www.w3.org/1999/02/22-rdf-syntax-ns#\">\r\n   <cc:Work>\r\n    <dc:type rdf:resource=\"http://purl.org/dc/dcmitype/StillImage\"/>\r\n    <dc:date>2021-04-22T16:52:30.288074</dc:date>\r\n    <dc:format>image/svg+xml</dc:format>\r\n    <dc:creator>\r\n     <cc:Agent>\r\n      <dc:title>Matplotlib v3.3.2, https://matplotlib.org/</dc:title>\r\n     </cc:Agent>\r\n    </dc:creator>\r\n   </cc:Work>\r\n  </rdf:RDF>\r\n </metadata>\r\n <defs>\r\n  <style type=\"text/css\">*{stroke-linecap:butt;stroke-linejoin:round;}</style>\r\n </defs>\r\n <g id=\"figure_1\">\r\n  <g id=\"patch_1\">\r\n   <path d=\"M 0 280.15625 \r\nL 424.470312 280.15625 \r\nL 424.470312 0 \r\nL 0 0 \r\nz\r\n\" style=\"fill:none;\"/>\r\n  </g>\r\n  <g id=\"axes_1\">\r\n   <g id=\"patch_2\">\r\n    <path d=\"M 42.620313 242.6 \r\nL 417.270312 242.6 \r\nL 417.270312 7.2 \r\nL 42.620313 7.2 \r\nz\r\n\" style=\"fill:#ffffff;\"/>\r\n   </g>\r\n   <g id=\"PathCollection_1\">\r\n    <defs>\r\n     <path d=\"M -3 3 \r\nL 3 3 \r\nL 3 -3 \r\nL -3 -3 \r\nz\r\n\" id=\"m1e5afae4d3\" style=\"stroke:#ff0000;\"/>\r\n    </defs>\r\n    <g clip-path=\"url(#pfc5c0505cb)\">\r\n     <use style=\"fill:#ff0000;stroke:#ff0000;\" x=\"148.807184\" xlink:href=\"#m1e5afae4d3\" y=\"72.252869\"/>\r\n     <use style=\"fill:#ff0000;stroke:#ff0000;\" x=\"125.995274\" xlink:href=\"#m1e5afae4d3\" y=\"92.725761\"/>\r\n     <use style=\"fill:#ff0000;stroke:#ff0000;\" x=\"170.122157\" xlink:href=\"#m1e5afae4d3\" y=\"106.709861\"/>\r\n     <use style=\"fill:#ff0000;stroke:#ff0000;\" x=\"107.508957\" xlink:href=\"#m1e5afae4d3\" y=\"95.440104\"/>\r\n     <use style=\"fill:#ff0000;stroke:#ff0000;\" x=\"182.351606\" xlink:href=\"#m1e5afae4d3\" y=\"121.904662\"/>\r\n     <use style=\"fill:#ff0000;stroke:#ff0000;\" x=\"163.987548\" xlink:href=\"#m1e5afae4d3\" y=\"121.193132\"/>\r\n     <use style=\"fill:#ff0000;stroke:#ff0000;\" x=\"158.810336\" xlink:href=\"#m1e5afae4d3\" y=\"102.939227\"/>\r\n     <use style=\"fill:#ff0000;stroke:#ff0000;\" x=\"144.407262\" xlink:href=\"#m1e5afae4d3\" y=\"78.215555\"/>\r\n     <use style=\"fill:#ff0000;stroke:#ff0000;\" x=\"127.40198\" xlink:href=\"#m1e5afae4d3\" y=\"103.376109\"/>\r\n     <use style=\"fill:#ff0000;stroke:#ff0000;\" x=\"139.70691\" xlink:href=\"#m1e5afae4d3\" y=\"54.790961\"/>\r\n     <use style=\"fill:#ff0000;stroke:#ff0000;\" x=\"182.565243\" xlink:href=\"#m1e5afae4d3\" y=\"109.436294\"/>\r\n     <use style=\"fill:#ff0000;stroke:#ff0000;\" x=\"158.798293\" xlink:href=\"#m1e5afae4d3\" y=\"106.332291\"/>\r\n     <use style=\"fill:#ff0000;stroke:#ff0000;\" x=\"128.114657\" xlink:href=\"#m1e5afae4d3\" y=\"101.269644\"/>\r\n     <use style=\"fill:#ff0000;stroke:#ff0000;\" x=\"131.929845\" xlink:href=\"#m1e5afae4d3\" y=\"90.89973\"/>\r\n     <use style=\"fill:#ff0000;stroke:#ff0000;\" x=\"121.514015\" xlink:href=\"#m1e5afae4d3\" y=\"93.024521\"/>\r\n     <use style=\"fill:#ff0000;stroke:#ff0000;\" x=\"180.603217\" xlink:href=\"#m1e5afae4d3\" y=\"126.292108\"/>\r\n     <use style=\"fill:#ff0000;stroke:#ff0000;\" x=\"128.113619\" xlink:href=\"#m1e5afae4d3\" y=\"133.436283\"/>\r\n     <use style=\"fill:#ff0000;stroke:#ff0000;\" x=\"140.850038\" xlink:href=\"#m1e5afae4d3\" y=\"88.866424\"/>\r\n     <use style=\"fill:#ff0000;stroke:#ff0000;\" x=\"120.871986\" xlink:href=\"#m1e5afae4d3\" y=\"68.793085\"/>\r\n     <use style=\"fill:#ff0000;stroke:#ff0000;\" x=\"120.656701\" xlink:href=\"#m1e5afae4d3\" y=\"81.952942\"/>\r\n     <use style=\"fill:#ff0000;stroke:#ff0000;\" x=\"132.974692\" xlink:href=\"#m1e5afae4d3\" y=\"71.872373\"/>\r\n     <use style=\"fill:#ff0000;stroke:#ff0000;\" x=\"211.440627\" xlink:href=\"#m1e5afae4d3\" y=\"121.947104\"/>\r\n     <use style=\"fill:#ff0000;stroke:#ff0000;\" x=\"108.088857\" xlink:href=\"#m1e5afae4d3\" y=\"55.339716\"/>\r\n     <use style=\"fill:#ff0000;stroke:#ff0000;\" x=\"150.6995\" xlink:href=\"#m1e5afae4d3\" y=\"73.968603\"/>\r\n     <use style=\"fill:#ff0000;stroke:#ff0000;\" x=\"184.828995\" xlink:href=\"#m1e5afae4d3\" y=\"106.773451\"/>\r\n     <use style=\"fill:#ff0000;stroke:#ff0000;\" x=\"95.24585\" xlink:href=\"#m1e5afae4d3\" y=\"80.818814\"/>\r\n     <use style=\"fill:#ff0000;stroke:#ff0000;\" x=\"138.212091\" xlink:href=\"#m1e5afae4d3\" y=\"109.12591\"/>\r\n     <use style=\"fill:#ff0000;stroke:#ff0000;\" x=\"151.83813\" xlink:href=\"#m1e5afae4d3\" y=\"127.894907\"/>\r\n     <use style=\"fill:#ff0000;stroke:#ff0000;\" x=\"104.418972\" xlink:href=\"#m1e5afae4d3\" y=\"74.105393\"/>\r\n     <use style=\"fill:#ff0000;stroke:#ff0000;\" x=\"89.463713\" xlink:href=\"#m1e5afae4d3\" y=\"86.656318\"/>\r\n     <use style=\"fill:#ff0000;stroke:#ff0000;\" x=\"90.407545\" xlink:href=\"#m1e5afae4d3\" y=\"73.632239\"/>\r\n     <use style=\"fill:#ff0000;stroke:#ff0000;\" x=\"59.649858\" xlink:href=\"#m1e5afae4d3\" y=\"54.303352\"/>\r\n     <use style=\"fill:#ff0000;stroke:#ff0000;\" x=\"203.134014\" xlink:href=\"#m1e5afae4d3\" y=\"126.151098\"/>\r\n     <use style=\"fill:#ff0000;stroke:#ff0000;\" x=\"104.361486\" xlink:href=\"#m1e5afae4d3\" y=\"117.181956\"/>\r\n     <use style=\"fill:#ff0000;stroke:#ff0000;\" x=\"104.518333\" xlink:href=\"#m1e5afae4d3\" y=\"103.634886\"/>\r\n     <use style=\"fill:#ff0000;stroke:#ff0000;\" x=\"113.687715\" xlink:href=\"#m1e5afae4d3\" y=\"105.715443\"/>\r\n     <use style=\"fill:#ff0000;stroke:#ff0000;\" x=\"128.909976\" xlink:href=\"#m1e5afae4d3\" y=\"91.235648\"/>\r\n     <use style=\"fill:#ff0000;stroke:#ff0000;\" x=\"140.687907\" xlink:href=\"#m1e5afae4d3\" y=\"120.997755\"/>\r\n     <use style=\"fill:#ff0000;stroke:#ff0000;\" x=\"120.893825\" xlink:href=\"#m1e5afae4d3\" y=\"81.180113\"/>\r\n     <use style=\"fill:#ff0000;stroke:#ff0000;\" x=\"86.476379\" xlink:href=\"#m1e5afae4d3\" y=\"41.927871\"/>\r\n     <use style=\"fill:#ff0000;stroke:#ff0000;\" x=\"148.783507\" xlink:href=\"#m1e5afae4d3\" y=\"87.67533\"/>\r\n    </g>\r\n   </g>\r\n   <g id=\"PathCollection_2\">\r\n    <defs>\r\n     <path d=\"M -3 3 \r\nL 3 -3 \r\nM -3 -3 \r\nL 3 3 \r\n\" id=\"ma30a4475fc\" style=\"stroke:#0000ff;stroke-width:1.5;\"/>\r\n    </defs>\r\n    <g clip-path=\"url(#pfc5c0505cb)\">\r\n     <use style=\"fill:#0000ff;stroke:#0000ff;stroke-width:1.5;\" x=\"247.023841\" xlink:href=\"#ma30a4475fc\" y=\"194.918763\"/>\r\n     <use style=\"fill:#0000ff;stroke:#0000ff;stroke-width:1.5;\" x=\"228.964395\" xlink:href=\"#ma30a4475fc\" y=\"201.024104\"/>\r\n     <use style=\"fill:#0000ff;stroke:#0000ff;stroke-width:1.5;\" x=\"307.365485\" xlink:href=\"#ma30a4475fc\" y=\"170.823723\"/>\r\n     <use style=\"fill:#0000ff;stroke:#0000ff;stroke-width:1.5;\" x=\"256.93299\" xlink:href=\"#ma30a4475fc\" y=\"210.145586\"/>\r\n     <use style=\"fill:#0000ff;stroke:#0000ff;stroke-width:1.5;\" x=\"255.78396\" xlink:href=\"#ma30a4475fc\" y=\"165.25787\"/>\r\n     <use style=\"fill:#0000ff;stroke:#0000ff;stroke-width:1.5;\" x=\"329.496654\" xlink:href=\"#ma30a4475fc\" y=\"161.512222\"/>\r\n     <use style=\"fill:#0000ff;stroke:#0000ff;stroke-width:1.5;\" x=\"197.29684\" xlink:href=\"#ma30a4475fc\" y=\"231.9\"/>\r\n     <use style=\"fill:#0000ff;stroke:#0000ff;stroke-width:1.5;\" x=\"176.080559\" xlink:href=\"#ma30a4475fc\" y=\"183.126781\"/>\r\n     <use style=\"fill:#0000ff;stroke:#0000ff;stroke-width:1.5;\" x=\"165.3355\" xlink:href=\"#ma30a4475fc\" y=\"184.070342\"/>\r\n     <use style=\"fill:#0000ff;stroke:#0000ff;stroke-width:1.5;\" x=\"271.189249\" xlink:href=\"#ma30a4475fc\" y=\"165.938347\"/>\r\n     <use style=\"fill:#0000ff;stroke:#0000ff;stroke-width:1.5;\" x=\"199.528597\" xlink:href=\"#ma30a4475fc\" y=\"182.621579\"/>\r\n     <use style=\"fill:#0000ff;stroke:#0000ff;stroke-width:1.5;\" x=\"144.022159\" xlink:href=\"#ma30a4475fc\" y=\"181.660758\"/>\r\n     <use style=\"fill:#0000ff;stroke:#0000ff;stroke-width:1.5;\" x=\"157.490362\" xlink:href=\"#ma30a4475fc\" y=\"167.695612\"/>\r\n     <use style=\"fill:#0000ff;stroke:#0000ff;stroke-width:1.5;\" x=\"330.254901\" xlink:href=\"#ma30a4475fc\" y=\"129.913638\"/>\r\n     <use style=\"fill:#0000ff;stroke:#0000ff;stroke-width:1.5;\" x=\"191.216912\" xlink:href=\"#ma30a4475fc\" y=\"193.559464\"/>\r\n     <use style=\"fill:#0000ff;stroke:#0000ff;stroke-width:1.5;\" x=\"196.754316\" xlink:href=\"#ma30a4475fc\" y=\"181.386102\"/>\r\n     <use style=\"fill:#0000ff;stroke:#0000ff;stroke-width:1.5;\" x=\"247.935454\" xlink:href=\"#ma30a4475fc\" y=\"196.433263\"/>\r\n     <use style=\"fill:#0000ff;stroke:#0000ff;stroke-width:1.5;\" x=\"271.799066\" xlink:href=\"#ma30a4475fc\" y=\"187.10141\"/>\r\n     <use style=\"fill:#0000ff;stroke:#0000ff;stroke-width:1.5;\" x=\"148.988579\" xlink:href=\"#ma30a4475fc\" y=\"168.603803\"/>\r\n     <use style=\"fill:#0000ff;stroke:#0000ff;stroke-width:1.5;\" x=\"248.703067\" xlink:href=\"#ma30a4475fc\" y=\"161.814307\"/>\r\n     <use style=\"fill:#0000ff;stroke:#0000ff;stroke-width:1.5;\" x=\"196.376403\" xlink:href=\"#ma30a4475fc\" y=\"189.832215\"/>\r\n     <use style=\"fill:#0000ff;stroke:#0000ff;stroke-width:1.5;\" x=\"172.72268\" xlink:href=\"#ma30a4475fc\" y=\"196.44769\"/>\r\n     <use style=\"fill:#0000ff;stroke:#0000ff;stroke-width:1.5;\" x=\"244.361899\" xlink:href=\"#ma30a4475fc\" y=\"210.657396\"/>\r\n     <use style=\"fill:#0000ff;stroke:#0000ff;stroke-width:1.5;\" x=\"302.790256\" xlink:href=\"#ma30a4475fc\" y=\"138.020541\"/>\r\n     <use style=\"fill:#0000ff;stroke:#0000ff;stroke-width:1.5;\" x=\"227.293993\" xlink:href=\"#ma30a4475fc\" y=\"157.370354\"/>\r\n     <use style=\"fill:#0000ff;stroke:#0000ff;stroke-width:1.5;\" x=\"288.123871\" xlink:href=\"#ma30a4475fc\" y=\"175.893055\"/>\r\n     <use style=\"fill:#0000ff;stroke:#0000ff;stroke-width:1.5;\" x=\"249.81973\" xlink:href=\"#ma30a4475fc\" y=\"216.616998\"/>\r\n     <use style=\"fill:#0000ff;stroke:#0000ff;stroke-width:1.5;\" x=\"198.890948\" xlink:href=\"#ma30a4475fc\" y=\"206.353892\"/>\r\n     <use style=\"fill:#0000ff;stroke:#0000ff;stroke-width:1.5;\" x=\"187.393094\" xlink:href=\"#ma30a4475fc\" y=\"174.866961\"/>\r\n     <use style=\"fill:#0000ff;stroke:#0000ff;stroke-width:1.5;\" x=\"117.658671\" xlink:href=\"#ma30a4475fc\" y=\"135.962206\"/>\r\n     <use style=\"fill:#0000ff;stroke:#0000ff;stroke-width:1.5;\" x=\"181.062001\" xlink:href=\"#ma30a4475fc\" y=\"142.925539\"/>\r\n     <use style=\"fill:#0000ff;stroke:#0000ff;stroke-width:1.5;\" x=\"233.633774\" xlink:href=\"#ma30a4475fc\" y=\"200.799281\"/>\r\n     <use style=\"fill:#0000ff;stroke:#0000ff;stroke-width:1.5;\" x=\"213.798713\" xlink:href=\"#ma30a4475fc\" y=\"197.125313\"/>\r\n     <use style=\"fill:#0000ff;stroke:#0000ff;stroke-width:1.5;\" x=\"234.422134\" xlink:href=\"#ma30a4475fc\" y=\"173.792927\"/>\r\n     <use style=\"fill:#0000ff;stroke:#0000ff;stroke-width:1.5;\" x=\"260.675039\" xlink:href=\"#ma30a4475fc\" y=\"120.831435\"/>\r\n     <use style=\"fill:#0000ff;stroke:#0000ff;stroke-width:1.5;\" x=\"244.792414\" xlink:href=\"#ma30a4475fc\" y=\"146.9013\"/>\r\n     <use style=\"fill:#0000ff;stroke:#0000ff;stroke-width:1.5;\" x=\"289.718738\" xlink:href=\"#ma30a4475fc\" y=\"186.198628\"/>\r\n     <use style=\"fill:#0000ff;stroke:#0000ff;stroke-width:1.5;\" x=\"221.439653\" xlink:href=\"#ma30a4475fc\" y=\"204.083703\"/>\r\n     <use style=\"fill:#0000ff;stroke:#0000ff;stroke-width:1.5;\" x=\"299.738065\" xlink:href=\"#ma30a4475fc\" y=\"172.166752\"/>\r\n     <use style=\"fill:#0000ff;stroke:#0000ff;stroke-width:1.5;\" x=\"168.888816\" xlink:href=\"#ma30a4475fc\" y=\"141.685855\"/>\r\n     <use style=\"fill:#0000ff;stroke:#0000ff;stroke-width:1.5;\" x=\"244.947629\" xlink:href=\"#ma30a4475fc\" y=\"198.640723\"/>\r\n     <use style=\"fill:#0000ff;stroke:#0000ff;stroke-width:1.5;\" x=\"263.160397\" xlink:href=\"#ma30a4475fc\" y=\"194.889177\"/>\r\n     <use style=\"fill:#0000ff;stroke:#0000ff;stroke-width:1.5;\" x=\"191.614636\" xlink:href=\"#ma30a4475fc\" y=\"148.71475\"/>\r\n     <use style=\"fill:#0000ff;stroke:#0000ff;stroke-width:1.5;\" x=\"239.907112\" xlink:href=\"#ma30a4475fc\" y=\"194.295753\"/>\r\n     <use style=\"fill:#0000ff;stroke:#0000ff;stroke-width:1.5;\" x=\"239.763577\" xlink:href=\"#ma30a4475fc\" y=\"221.07245\"/>\r\n     <use style=\"fill:#0000ff;stroke:#0000ff;stroke-width:1.5;\" x=\"244.889311\" xlink:href=\"#ma30a4475fc\" y=\"196.873832\"/>\r\n     <use style=\"fill:#0000ff;stroke:#0000ff;stroke-width:1.5;\" x=\"294.171192\" xlink:href=\"#ma30a4475fc\" y=\"170.721513\"/>\r\n     <use style=\"fill:#0000ff;stroke:#0000ff;stroke-width:1.5;\" x=\"244.344926\" xlink:href=\"#ma30a4475fc\" y=\"205.225589\"/>\r\n     <use style=\"fill:#0000ff;stroke:#0000ff;stroke-width:1.5;\" x=\"153.686671\" xlink:href=\"#ma30a4475fc\" y=\"175.838466\"/>\r\n     <use style=\"fill:#0000ff;stroke:#0000ff;stroke-width:1.5;\" x=\"210.768527\" xlink:href=\"#ma30a4475fc\" y=\"168.966587\"/>\r\n    </g>\r\n   </g>\r\n   <g id=\"PathCollection_3\">\r\n    <defs>\r\n     <path d=\"M 0 3 \r\nC 0.795609 3 1.55874 2.683901 2.12132 2.12132 \r\nC 2.683901 1.55874 3 0.795609 3 0 \r\nC 3 -0.795609 2.683901 -1.55874 2.12132 -2.12132 \r\nC 1.55874 -2.683901 0.795609 -3 0 -3 \r\nC -0.795609 -3 -1.55874 -2.683901 -2.12132 -2.12132 \r\nC -2.683901 -1.55874 -3 -0.795609 -3 0 \r\nC -3 0.795609 -2.683901 1.55874 -2.12132 2.12132 \r\nC -1.55874 2.683901 -0.795609 3 0 3 \r\nz\r\n\" id=\"mac29ce0b0a\" style=\"stroke:#008000;\"/>\r\n    </defs>\r\n    <g clip-path=\"url(#pfc5c0505cb)\">\r\n     <use style=\"fill:#008000;stroke:#008000;\" x=\"321.848889\" xlink:href=\"#mac29ce0b0a\" y=\"111.554308\"/>\r\n     <use style=\"fill:#008000;stroke:#008000;\" x=\"352.029604\" xlink:href=\"#mac29ce0b0a\" y=\"104.751688\"/>\r\n     <use style=\"fill:#008000;stroke:#008000;\" x=\"325.664831\" xlink:href=\"#mac29ce0b0a\" y=\"129.272244\"/>\r\n     <use style=\"fill:#008000;stroke:#008000;\" x=\"375.507798\" xlink:href=\"#mac29ce0b0a\" y=\"93.033894\"/>\r\n     <use style=\"fill:#008000;stroke:#008000;\" x=\"340.828307\" xlink:href=\"#mac29ce0b0a\" y=\"51.460518\"/>\r\n     <use style=\"fill:#008000;stroke:#008000;\" x=\"361.873831\" xlink:href=\"#mac29ce0b0a\" y=\"57.120127\"/>\r\n     <use style=\"fill:#008000;stroke:#008000;\" x=\"352.530272\" xlink:href=\"#mac29ce0b0a\" y=\"108.678283\"/>\r\n     <use style=\"fill:#008000;stroke:#008000;\" x=\"342.577756\" xlink:href=\"#mac29ce0b0a\" y=\"62.459543\"/>\r\n     <use style=\"fill:#008000;stroke:#008000;\" x=\"382.862528\" xlink:href=\"#mac29ce0b0a\" y=\"121.164154\"/>\r\n     <use style=\"fill:#008000;stroke:#008000;\" x=\"343.477132\" xlink:href=\"#mac29ce0b0a\" y=\"120.273284\"/>\r\n     <use style=\"fill:#008000;stroke:#008000;\" x=\"344.181434\" xlink:href=\"#mac29ce0b0a\" y=\"82.269934\"/>\r\n     <use style=\"fill:#008000;stroke:#008000;\" x=\"332.029813\" xlink:href=\"#mac29ce0b0a\" y=\"101.782425\"/>\r\n     <use style=\"fill:#008000;stroke:#008000;\" x=\"326.906325\" xlink:href=\"#mac29ce0b0a\" y=\"52.634335\"/>\r\n     <use style=\"fill:#008000;stroke:#008000;\" x=\"372.363114\" xlink:href=\"#mac29ce0b0a\" y=\"69.151519\"/>\r\n     <use style=\"fill:#008000;stroke:#008000;\" x=\"334.541625\" xlink:href=\"#mac29ce0b0a\" y=\"107.943389\"/>\r\n     <use style=\"fill:#008000;stroke:#008000;\" x=\"353.727674\" xlink:href=\"#mac29ce0b0a\" y=\"41.866039\"/>\r\n     <use style=\"fill:#008000;stroke:#008000;\" x=\"343.362856\" xlink:href=\"#mac29ce0b0a\" y=\"112.786127\"/>\r\n     <use style=\"fill:#008000;stroke:#008000;\" x=\"344.88495\" xlink:href=\"#mac29ce0b0a\" y=\"63.825475\"/>\r\n     <use style=\"fill:#008000;stroke:#008000;\" x=\"339.878379\" xlink:href=\"#mac29ce0b0a\" y=\"105.023363\"/>\r\n     <use style=\"fill:#008000;stroke:#008000;\" x=\"269.428776\" xlink:href=\"#mac29ce0b0a\" y=\"17.9\"/>\r\n     <use style=\"fill:#008000;stroke:#008000;\" x=\"311.829094\" xlink:href=\"#mac29ce0b0a\" y=\"64.002355\"/>\r\n     <use style=\"fill:#008000;stroke:#008000;\" x=\"319.002074\" xlink:href=\"#mac29ce0b0a\" y=\"119.664497\"/>\r\n     <use style=\"fill:#008000;stroke:#008000;\" x=\"317.213669\" xlink:href=\"#mac29ce0b0a\" y=\"56.156236\"/>\r\n     <use style=\"fill:#008000;stroke:#008000;\" x=\"280.97977\" xlink:href=\"#mac29ce0b0a\" y=\"115.521698\"/>\r\n     <use style=\"fill:#008000;stroke:#008000;\" x=\"334.264242\" xlink:href=\"#mac29ce0b0a\" y=\"36.482079\"/>\r\n     <use style=\"fill:#008000;stroke:#008000;\" x=\"381.283264\" xlink:href=\"#mac29ce0b0a\" y=\"111.230668\"/>\r\n     <use style=\"fill:#008000;stroke:#008000;\" x=\"314.792258\" xlink:href=\"#mac29ce0b0a\" y=\"84.351155\"/>\r\n     <use style=\"fill:#008000;stroke:#008000;\" x=\"292.68215\" xlink:href=\"#mac29ce0b0a\" y=\"50.021246\"/>\r\n     <use style=\"fill:#008000;stroke:#008000;\" x=\"356.337534\" xlink:href=\"#mac29ce0b0a\" y=\"132.441494\"/>\r\n     <use style=\"fill:#008000;stroke:#008000;\" x=\"328.206802\" xlink:href=\"#mac29ce0b0a\" y=\"64.651155\"/>\r\n     <use style=\"fill:#008000;stroke:#008000;\" x=\"339.109839\" xlink:href=\"#mac29ce0b0a\" y=\"107.986606\"/>\r\n     <use style=\"fill:#008000;stroke:#008000;\" x=\"330.103958\" xlink:href=\"#mac29ce0b0a\" y=\"72.752342\"/>\r\n     <use style=\"fill:#008000;stroke:#008000;\" x=\"400.240767\" xlink:href=\"#mac29ce0b0a\" y=\"104.646465\"/>\r\n    </g>\r\n   </g>\r\n   <g id=\"matplotlib.axis_1\">\r\n    <g id=\"xtick_1\">\r\n     <g id=\"line2d_1\">\r\n      <defs>\r\n       <path d=\"M 0 0 \r\nL 0 3.5 \r\n\" id=\"m628861f02d\" style=\"stroke:#000000;stroke-width:0.8;\"/>\r\n      </defs>\r\n      <g>\r\n       <use style=\"stroke:#000000;stroke-width:0.8;\" x=\"67.86374\" xlink:href=\"#m628861f02d\" y=\"242.6\"/>\r\n      </g>\r\n     </g>\r\n     <g id=\"text_1\">\r\n      <!-- −4 -->\r\n      <g transform=\"translate(60.492647 257.198437)scale(0.1 -0.1)\">\r\n       <defs>\r\n        <path d=\"M 10.59375 35.5 \r\nL 73.1875 35.5 \r\nL 73.1875 27.203125 \r\nL 10.59375 27.203125 \r\nz\r\n\" id=\"DejaVuSans-8722\"/>\r\n        <path d=\"M 37.796875 64.3125 \r\nL 12.890625 25.390625 \r\nL 37.796875 25.390625 \r\nz\r\nM 35.203125 72.90625 \r\nL 47.609375 72.90625 \r\nL 47.609375 25.390625 \r\nL 58.015625 25.390625 \r\nL 58.015625 17.1875 \r\nL 47.609375 17.1875 \r\nL 47.609375 0 \r\nL 37.796875 0 \r\nL 37.796875 17.1875 \r\nL 4.890625 17.1875 \r\nL 4.890625 26.703125 \r\nz\r\n\" id=\"DejaVuSans-52\"/>\r\n       </defs>\r\n       <use xlink:href=\"#DejaVuSans-8722\"/>\r\n       <use x=\"83.789062\" xlink:href=\"#DejaVuSans-52\"/>\r\n      </g>\r\n     </g>\r\n    </g>\r\n    <g id=\"xtick_2\">\r\n     <g id=\"line2d_2\">\r\n      <g>\r\n       <use style=\"stroke:#000000;stroke-width:0.8;\" x=\"147.445612\" xlink:href=\"#m628861f02d\" y=\"242.6\"/>\r\n      </g>\r\n     </g>\r\n     <g id=\"text_2\">\r\n      <!-- −2 -->\r\n      <g transform=\"translate(140.074518 257.198437)scale(0.1 -0.1)\">\r\n       <defs>\r\n        <path d=\"M 19.1875 8.296875 \r\nL 53.609375 8.296875 \r\nL 53.609375 0 \r\nL 7.328125 0 \r\nL 7.328125 8.296875 \r\nQ 12.9375 14.109375 22.625 23.890625 \r\nQ 32.328125 33.6875 34.8125 36.53125 \r\nQ 39.546875 41.84375 41.421875 45.53125 \r\nQ 43.3125 49.21875 43.3125 52.78125 \r\nQ 43.3125 58.59375 39.234375 62.25 \r\nQ 35.15625 65.921875 28.609375 65.921875 \r\nQ 23.96875 65.921875 18.8125 64.3125 \r\nQ 13.671875 62.703125 7.8125 59.421875 \r\nL 7.8125 69.390625 \r\nQ 13.765625 71.78125 18.9375 73 \r\nQ 24.125 74.21875 28.421875 74.21875 \r\nQ 39.75 74.21875 46.484375 68.546875 \r\nQ 53.21875 62.890625 53.21875 53.421875 \r\nQ 53.21875 48.921875 51.53125 44.890625 \r\nQ 49.859375 40.875 45.40625 35.40625 \r\nQ 44.1875 33.984375 37.640625 27.21875 \r\nQ 31.109375 20.453125 19.1875 8.296875 \r\nz\r\n\" id=\"DejaVuSans-50\"/>\r\n       </defs>\r\n       <use xlink:href=\"#DejaVuSans-8722\"/>\r\n       <use x=\"83.789062\" xlink:href=\"#DejaVuSans-50\"/>\r\n      </g>\r\n     </g>\r\n    </g>\r\n    <g id=\"xtick_3\">\r\n     <g id=\"line2d_3\">\r\n      <g>\r\n       <use style=\"stroke:#000000;stroke-width:0.8;\" x=\"227.027483\" xlink:href=\"#m628861f02d\" y=\"242.6\"/>\r\n      </g>\r\n     </g>\r\n     <g id=\"text_3\">\r\n      <!-- 0 -->\r\n      <g transform=\"translate(223.846233 257.198437)scale(0.1 -0.1)\">\r\n       <defs>\r\n        <path d=\"M 31.78125 66.40625 \r\nQ 24.171875 66.40625 20.328125 58.90625 \r\nQ 16.5 51.421875 16.5 36.375 \r\nQ 16.5 21.390625 20.328125 13.890625 \r\nQ 24.171875 6.390625 31.78125 6.390625 \r\nQ 39.453125 6.390625 43.28125 13.890625 \r\nQ 47.125 21.390625 47.125 36.375 \r\nQ 47.125 51.421875 43.28125 58.90625 \r\nQ 39.453125 66.40625 31.78125 66.40625 \r\nz\r\nM 31.78125 74.21875 \r\nQ 44.046875 74.21875 50.515625 64.515625 \r\nQ 56.984375 54.828125 56.984375 36.375 \r\nQ 56.984375 17.96875 50.515625 8.265625 \r\nQ 44.046875 -1.421875 31.78125 -1.421875 \r\nQ 19.53125 -1.421875 13.0625 8.265625 \r\nQ 6.59375 17.96875 6.59375 36.375 \r\nQ 6.59375 54.828125 13.0625 64.515625 \r\nQ 19.53125 74.21875 31.78125 74.21875 \r\nz\r\n\" id=\"DejaVuSans-48\"/>\r\n       </defs>\r\n       <use xlink:href=\"#DejaVuSans-48\"/>\r\n      </g>\r\n     </g>\r\n    </g>\r\n    <g id=\"xtick_4\">\r\n     <g id=\"line2d_4\">\r\n      <g>\r\n       <use style=\"stroke:#000000;stroke-width:0.8;\" x=\"306.609354\" xlink:href=\"#m628861f02d\" y=\"242.6\"/>\r\n      </g>\r\n     </g>\r\n     <g id=\"text_4\">\r\n      <!-- 2 -->\r\n      <g transform=\"translate(303.428104 257.198437)scale(0.1 -0.1)\">\r\n       <use xlink:href=\"#DejaVuSans-50\"/>\r\n      </g>\r\n     </g>\r\n    </g>\r\n    <g id=\"xtick_5\">\r\n     <g id=\"line2d_5\">\r\n      <g>\r\n       <use style=\"stroke:#000000;stroke-width:0.8;\" x=\"386.191225\" xlink:href=\"#m628861f02d\" y=\"242.6\"/>\r\n      </g>\r\n     </g>\r\n     <g id=\"text_5\">\r\n      <!-- 4 -->\r\n      <g transform=\"translate(383.009975 257.198437)scale(0.1 -0.1)\">\r\n       <use xlink:href=\"#DejaVuSans-52\"/>\r\n      </g>\r\n     </g>\r\n    </g>\r\n    <g id=\"text_6\">\r\n     <!-- PC 1 -->\r\n     <g transform=\"translate(218.66875 270.876562)scale(0.1 -0.1)\">\r\n      <defs>\r\n       <path d=\"M 19.671875 64.796875 \r\nL 19.671875 37.40625 \r\nL 32.078125 37.40625 \r\nQ 38.96875 37.40625 42.71875 40.96875 \r\nQ 46.484375 44.53125 46.484375 51.125 \r\nQ 46.484375 57.671875 42.71875 61.234375 \r\nQ 38.96875 64.796875 32.078125 64.796875 \r\nz\r\nM 9.8125 72.90625 \r\nL 32.078125 72.90625 \r\nQ 44.34375 72.90625 50.609375 67.359375 \r\nQ 56.890625 61.8125 56.890625 51.125 \r\nQ 56.890625 40.328125 50.609375 34.8125 \r\nQ 44.34375 29.296875 32.078125 29.296875 \r\nL 19.671875 29.296875 \r\nL 19.671875 0 \r\nL 9.8125 0 \r\nz\r\n\" id=\"DejaVuSans-80\"/>\r\n       <path d=\"M 64.40625 67.28125 \r\nL 64.40625 56.890625 \r\nQ 59.421875 61.53125 53.78125 63.8125 \r\nQ 48.140625 66.109375 41.796875 66.109375 \r\nQ 29.296875 66.109375 22.65625 58.46875 \r\nQ 16.015625 50.828125 16.015625 36.375 \r\nQ 16.015625 21.96875 22.65625 14.328125 \r\nQ 29.296875 6.6875 41.796875 6.6875 \r\nQ 48.140625 6.6875 53.78125 8.984375 \r\nQ 59.421875 11.28125 64.40625 15.921875 \r\nL 64.40625 5.609375 \r\nQ 59.234375 2.09375 53.4375 0.328125 \r\nQ 47.65625 -1.421875 41.21875 -1.421875 \r\nQ 24.65625 -1.421875 15.125 8.703125 \r\nQ 5.609375 18.84375 5.609375 36.375 \r\nQ 5.609375 53.953125 15.125 64.078125 \r\nQ 24.65625 74.21875 41.21875 74.21875 \r\nQ 47.75 74.21875 53.53125 72.484375 \r\nQ 59.328125 70.75 64.40625 67.28125 \r\nz\r\n\" id=\"DejaVuSans-67\"/>\r\n       <path id=\"DejaVuSans-32\"/>\r\n       <path d=\"M 12.40625 8.296875 \r\nL 28.515625 8.296875 \r\nL 28.515625 63.921875 \r\nL 10.984375 60.40625 \r\nL 10.984375 69.390625 \r\nL 28.421875 72.90625 \r\nL 38.28125 72.90625 \r\nL 38.28125 8.296875 \r\nL 54.390625 8.296875 \r\nL 54.390625 0 \r\nL 12.40625 0 \r\nz\r\n\" id=\"DejaVuSans-49\"/>\r\n      </defs>\r\n      <use xlink:href=\"#DejaVuSans-80\"/>\r\n      <use x=\"60.302734\" xlink:href=\"#DejaVuSans-67\"/>\r\n      <use x=\"130.126953\" xlink:href=\"#DejaVuSans-32\"/>\r\n      <use x=\"161.914062\" xlink:href=\"#DejaVuSans-49\"/>\r\n     </g>\r\n    </g>\r\n   </g>\r\n   <g id=\"matplotlib.axis_2\">\r\n    <g id=\"ytick_1\">\r\n     <g id=\"line2d_6\">\r\n      <defs>\r\n       <path d=\"M 0 0 \r\nL -3.5 0 \r\n\" id=\"m018d40a543\" style=\"stroke:#000000;stroke-width:0.8;\"/>\r\n      </defs>\r\n      <g>\r\n       <use style=\"stroke:#000000;stroke-width:0.8;\" x=\"42.620313\" xlink:href=\"#m018d40a543\" y=\"224.77306\"/>\r\n      </g>\r\n     </g>\r\n     <g id=\"text_7\">\r\n      <!-- −3 -->\r\n      <g transform=\"translate(20.878125 228.572279)scale(0.1 -0.1)\">\r\n       <defs>\r\n        <path d=\"M 40.578125 39.3125 \r\nQ 47.65625 37.796875 51.625 33 \r\nQ 55.609375 28.21875 55.609375 21.1875 \r\nQ 55.609375 10.40625 48.1875 4.484375 \r\nQ 40.765625 -1.421875 27.09375 -1.421875 \r\nQ 22.515625 -1.421875 17.65625 -0.515625 \r\nQ 12.796875 0.390625 7.625 2.203125 \r\nL 7.625 11.71875 \r\nQ 11.71875 9.328125 16.59375 8.109375 \r\nQ 21.484375 6.890625 26.8125 6.890625 \r\nQ 36.078125 6.890625 40.9375 10.546875 \r\nQ 45.796875 14.203125 45.796875 21.1875 \r\nQ 45.796875 27.640625 41.28125 31.265625 \r\nQ 36.765625 34.90625 28.71875 34.90625 \r\nL 20.21875 34.90625 \r\nL 20.21875 43.015625 \r\nL 29.109375 43.015625 \r\nQ 36.375 43.015625 40.234375 45.921875 \r\nQ 44.09375 48.828125 44.09375 54.296875 \r\nQ 44.09375 59.90625 40.109375 62.90625 \r\nQ 36.140625 65.921875 28.71875 65.921875 \r\nQ 24.65625 65.921875 20.015625 65.03125 \r\nQ 15.375 64.15625 9.8125 62.3125 \r\nL 9.8125 71.09375 \r\nQ 15.4375 72.65625 20.34375 73.4375 \r\nQ 25.25 74.21875 29.59375 74.21875 \r\nQ 40.828125 74.21875 47.359375 69.109375 \r\nQ 53.90625 64.015625 53.90625 55.328125 \r\nQ 53.90625 49.265625 50.4375 45.09375 \r\nQ 46.96875 40.921875 40.578125 39.3125 \r\nz\r\n\" id=\"DejaVuSans-51\"/>\r\n       </defs>\r\n       <use xlink:href=\"#DejaVuSans-8722\"/>\r\n       <use x=\"83.789062\" xlink:href=\"#DejaVuSans-51\"/>\r\n      </g>\r\n     </g>\r\n    </g>\r\n    <g id=\"ytick_2\">\r\n     <g id=\"line2d_7\">\r\n      <g>\r\n       <use style=\"stroke:#000000;stroke-width:0.8;\" x=\"42.620313\" xlink:href=\"#m018d40a543\" y=\"191.999586\"/>\r\n      </g>\r\n     </g>\r\n     <g id=\"text_8\">\r\n      <!-- −2 -->\r\n      <g transform=\"translate(20.878125 195.798805)scale(0.1 -0.1)\">\r\n       <use xlink:href=\"#DejaVuSans-8722\"/>\r\n       <use x=\"83.789062\" xlink:href=\"#DejaVuSans-50\"/>\r\n      </g>\r\n     </g>\r\n    </g>\r\n    <g id=\"ytick_3\">\r\n     <g id=\"line2d_8\">\r\n      <g>\r\n       <use style=\"stroke:#000000;stroke-width:0.8;\" x=\"42.620313\" xlink:href=\"#m018d40a543\" y=\"159.226112\"/>\r\n      </g>\r\n     </g>\r\n     <g id=\"text_9\">\r\n      <!-- −1 -->\r\n      <g transform=\"translate(20.878125 163.025331)scale(0.1 -0.1)\">\r\n       <use xlink:href=\"#DejaVuSans-8722\"/>\r\n       <use x=\"83.789062\" xlink:href=\"#DejaVuSans-49\"/>\r\n      </g>\r\n     </g>\r\n    </g>\r\n    <g id=\"ytick_4\">\r\n     <g id=\"line2d_9\">\r\n      <g>\r\n       <use style=\"stroke:#000000;stroke-width:0.8;\" x=\"42.620313\" xlink:href=\"#m018d40a543\" y=\"126.452637\"/>\r\n      </g>\r\n     </g>\r\n     <g id=\"text_10\">\r\n      <!-- 0 -->\r\n      <g transform=\"translate(29.257813 130.251856)scale(0.1 -0.1)\">\r\n       <use xlink:href=\"#DejaVuSans-48\"/>\r\n      </g>\r\n     </g>\r\n    </g>\r\n    <g id=\"ytick_5\">\r\n     <g id=\"line2d_10\">\r\n      <g>\r\n       <use style=\"stroke:#000000;stroke-width:0.8;\" x=\"42.620313\" xlink:href=\"#m018d40a543\" y=\"93.679163\"/>\r\n      </g>\r\n     </g>\r\n     <g id=\"text_11\">\r\n      <!-- 1 -->\r\n      <g transform=\"translate(29.257813 97.478382)scale(0.1 -0.1)\">\r\n       <use xlink:href=\"#DejaVuSans-49\"/>\r\n      </g>\r\n     </g>\r\n    </g>\r\n    <g id=\"ytick_6\">\r\n     <g id=\"line2d_11\">\r\n      <g>\r\n       <use style=\"stroke:#000000;stroke-width:0.8;\" x=\"42.620313\" xlink:href=\"#m018d40a543\" y=\"60.905689\"/>\r\n      </g>\r\n     </g>\r\n     <g id=\"text_12\">\r\n      <!-- 2 -->\r\n      <g transform=\"translate(29.257813 64.704908)scale(0.1 -0.1)\">\r\n       <use xlink:href=\"#DejaVuSans-50\"/>\r\n      </g>\r\n     </g>\r\n    </g>\r\n    <g id=\"ytick_7\">\r\n     <g id=\"line2d_12\">\r\n      <g>\r\n       <use style=\"stroke:#000000;stroke-width:0.8;\" x=\"42.620313\" xlink:href=\"#m018d40a543\" y=\"28.132215\"/>\r\n      </g>\r\n     </g>\r\n     <g id=\"text_13\">\r\n      <!-- 3 -->\r\n      <g transform=\"translate(29.257813 31.931433)scale(0.1 -0.1)\">\r\n       <use xlink:href=\"#DejaVuSans-51\"/>\r\n      </g>\r\n     </g>\r\n    </g>\r\n    <g id=\"text_14\">\r\n     <!-- PC 2 -->\r\n     <g transform=\"translate(14.798438 136.176562)rotate(-90)scale(0.1 -0.1)\">\r\n      <use xlink:href=\"#DejaVuSans-80\"/>\r\n      <use x=\"60.302734\" xlink:href=\"#DejaVuSans-67\"/>\r\n      <use x=\"130.126953\" xlink:href=\"#DejaVuSans-32\"/>\r\n      <use x=\"161.914062\" xlink:href=\"#DejaVuSans-50\"/>\r\n     </g>\r\n    </g>\r\n   </g>\r\n   <g id=\"patch_3\">\r\n    <path d=\"M 42.620313 242.6 \r\nL 42.620313 7.2 \r\n\" style=\"fill:none;stroke:#000000;stroke-linecap:square;stroke-linejoin:miter;stroke-width:0.8;\"/>\r\n   </g>\r\n   <g id=\"patch_4\">\r\n    <path d=\"M 417.270312 242.6 \r\nL 417.270312 7.2 \r\n\" style=\"fill:none;stroke:#000000;stroke-linecap:square;stroke-linejoin:miter;stroke-width:0.8;\"/>\r\n   </g>\r\n   <g id=\"patch_5\">\r\n    <path d=\"M 42.620313 242.6 \r\nL 417.270312 242.6 \r\n\" style=\"fill:none;stroke:#000000;stroke-linecap:square;stroke-linejoin:miter;stroke-width:0.8;\"/>\r\n   </g>\r\n   <g id=\"patch_6\">\r\n    <path d=\"M 42.620313 7.2 \r\nL 417.270312 7.2 \r\n\" style=\"fill:none;stroke:#000000;stroke-linecap:square;stroke-linejoin:miter;stroke-width:0.8;\"/>\r\n   </g>\r\n   <g id=\"legend_1\">\r\n    <g id=\"patch_7\">\r\n     <path d=\"M 49.620313 237.6 \r\nL 87.982812 237.6 \r\nQ 89.982812 237.6 89.982812 235.6 \r\nL 89.982812 192.565625 \r\nQ 89.982812 190.565625 87.982812 190.565625 \r\nL 49.620313 190.565625 \r\nQ 47.620313 190.565625 47.620313 192.565625 \r\nL 47.620313 235.6 \r\nQ 47.620313 237.6 49.620313 237.6 \r\nz\r\n\" style=\"fill:#ffffff;opacity:0.8;stroke:#cccccc;stroke-linejoin:miter;\"/>\r\n    </g>\r\n    <g id=\"PathCollection_4\">\r\n     <g>\r\n      <use style=\"fill:#ff0000;stroke:#ff0000;\" x=\"61.620313\" xlink:href=\"#m1e5afae4d3\" y=\"199.539062\"/>\r\n     </g>\r\n    </g>\r\n    <g id=\"text_15\">\r\n     <!-- 1 -->\r\n     <g transform=\"translate(79.620313 202.164062)scale(0.1 -0.1)\">\r\n      <use xlink:href=\"#DejaVuSans-49\"/>\r\n     </g>\r\n    </g>\r\n    <g id=\"PathCollection_5\">\r\n     <g>\r\n      <use style=\"fill:#0000ff;stroke:#0000ff;stroke-width:1.5;\" x=\"61.620313\" xlink:href=\"#ma30a4475fc\" y=\"214.217187\"/>\r\n     </g>\r\n    </g>\r\n    <g id=\"text_16\">\r\n     <!-- 2 -->\r\n     <g transform=\"translate(79.620313 216.842187)scale(0.1 -0.1)\">\r\n      <use xlink:href=\"#DejaVuSans-50\"/>\r\n     </g>\r\n    </g>\r\n    <g id=\"PathCollection_6\">\r\n     <g>\r\n      <use style=\"fill:#008000;stroke:#008000;\" x=\"61.620313\" xlink:href=\"#mac29ce0b0a\" y=\"228.895312\"/>\r\n     </g>\r\n    </g>\r\n    <g id=\"text_17\">\r\n     <!-- 3 -->\r\n     <g transform=\"translate(79.620313 231.520312)scale(0.1 -0.1)\">\r\n      <use xlink:href=\"#DejaVuSans-51\"/>\r\n     </g>\r\n    </g>\r\n   </g>\r\n  </g>\r\n </g>\r\n <defs>\r\n  <clipPath id=\"pfc5c0505cb\">\r\n   <rect height=\"235.4\" width=\"374.65\" x=\"42.620313\" y=\"7.2\"/>\r\n  </clipPath>\r\n </defs>\r\n</svg>\r\n",
      "image/png": "[encoded data removed]"
     },
     "metadata": {
      "needs_background": "light"
     }
    }
   ],
   "source": [
    "colors = ['r', 'b', 'g']\n",
    "markers = ['s', 'x', 'o']\n",
    "\n",
    "for l, c, m in zip(np.unique(y_train), colors, markers):\n",
    "    plt.scatter(X_train_pca[y_train == l, 0], \n",
    "                X_train_pca[y_train == l, 1], \n",
    "                c=c, label=l, marker=m)\n",
    "\n",
    "plt.xlabel('PC 1')\n",
    "plt.ylabel('PC 2')\n",
    "plt.legend(loc='lower left')\n",
    "plt.tight_layout()\n",
    "# plt.savefig('images/05_03.png', dpi=300)\n",
    "plt.show()"
   ]
  },
  {
   "cell_type": "markdown",
   "metadata": {},
   "source": [
    "---\n",
    "p35"
   ]
  },
  {
   "cell_type": "markdown",
   "metadata": {},
   "source": [
    "### Logistic regression with 2 dimensional data"
   ]
  },
  {
   "cell_type": "code",
   "execution_count": 61,
   "metadata": {},
   "outputs": [],
   "source": [
    "from sklearn.linear_model import LogisticRegression\n",
    "\n",
    "lr = LogisticRegression()\n",
    "lr = lr.fit(X_train_pca,y_train)"
   ]
  },
  {
   "cell_type": "code",
   "execution_count": 62,
   "metadata": {},
   "outputs": [
    {
     "output_type": "stream",
     "name": "stdout",
     "text": [
      "Train accuracy : 0.9839\n"
     ]
    }
   ],
   "source": [
    "acc = lr.score(X_train_pca, y_train)\n",
    "print(\"Train accuracy : %.4f\" % acc)"
   ]
  },
  {
   "cell_type": "code",
   "execution_count": 63,
   "metadata": {},
   "outputs": [
    {
     "output_type": "stream",
     "name": "stdout",
     "text": [
      "Test accuracy : 0.9259\n"
     ]
    }
   ],
   "source": [
    "acc = lr.score(X_test_pca, y_test)\n",
    "print(\"Test accuracy : %.4f\" % acc)"
   ]
  },
  {
   "cell_type": "markdown",
   "metadata": {},
   "source": [
    "---\n",
    "p36"
   ]
  },
  {
   "cell_type": "markdown",
   "metadata": {},
   "source": [
    "### Decision boundary"
   ]
  },
  {
   "cell_type": "code",
   "execution_count": 64,
   "metadata": {
    "collapsed": true
   },
   "outputs": [],
   "source": [
    "from matplotlib.colors import ListedColormap\n",
    "\n",
    "def plot_decision_regions(X, y, classifier, resolution=0.02):\n",
    "\n",
    "    # setup marker generator and color map\n",
    "    markers = ('s', 'x', 'o', '^', 'v')\n",
    "    colors = ('red', 'blue', 'lightgreen', 'gray', 'cyan')\n",
    "    cmap = ListedColormap(colors[:len(np.unique(y))])\n",
    "\n",
    "    # plot the decision surface\n",
    "    x1_min, x1_max = X[:, 0].min() - 1, X[:, 0].max() + 1\n",
    "    x2_min, x2_max = X[:, 1].min() - 1, X[:, 1].max() + 1\n",
    "    xx1, xx2 = np.meshgrid(np.arange(x1_min, x1_max, resolution),\n",
    "                           np.arange(x2_min, x2_max, resolution))\n",
    "    Z = classifier.predict(np.array([xx1.ravel(), xx2.ravel()]).T)\n",
    "    Z = Z.reshape(xx1.shape)\n",
    "    plt.contourf(xx1, xx2, Z, alpha=0.4, cmap=cmap)\n",
    "    plt.xlim(xx1.min(), xx1.max())\n",
    "    plt.ylim(xx2.min(), xx2.max())\n",
    "\n",
    "    # plot class samples\n",
    "    for idx, cl in enumerate(np.unique(y)):\n",
    "        plt.scatter(x=X[y == cl, 0], \n",
    "                    y=X[y == cl, 1],\n",
    "                    alpha=0.6, \n",
    "                    c=cmap(idx),\n",
    "                    edgecolor='black',\n",
    "                    marker=markers[idx], \n",
    "                    label=cl)"
   ]
  },
  {
   "cell_type": "code",
   "execution_count": 65,
   "metadata": {},
   "outputs": [
    {
     "output_type": "stream",
     "name": "stderr",
     "text": [
      "*c* argument looks like a single numeric RGB or RGBA sequence, which should be avoided as value-mapping will have precedence in case its length matches with *x* & *y*.  Please use the *color* keyword-argument or provide a 2-D array with a single row if you intend to specify the same RGB or RGBA value for all points.\n",
      "*c* argument looks like a single numeric RGB or RGBA sequence, which should be avoided as value-mapping will have precedence in case its length matches with *x* & *y*.  Please use the *color* keyword-argument or provide a 2-D array with a single row if you intend to specify the same RGB or RGBA value for all points.\n",
      "*c* argument looks like a single numeric RGB or RGBA sequence, which should be avoided as value-mapping will have precedence in case its length matches with *x* & *y*.  Please use the *color* keyword-argument or provide a 2-D array with a single row if you intend to specify the same RGB or RGBA value for all points.\n"
     ]
    },
    {
     "output_type": "display_data",
     "data": {
      "text/plain": "<Figure size 432x288 with 1 Axes>",
      "image/svg+xml": "<?xml version=\"1.0\" encoding=\"utf-8\" standalone=\"no\"?>\r\n<!DOCTYPE svg PUBLIC \"-//W3C//DTD SVG 1.1//EN\"\r\n  \"http://www.w3.org/Graphics/SVG/1.1/DTD/svg11.dtd\">\r\n<!-- Created with matplotlib (https://matplotlib.org/) -->\r\n<svg height=\"280.15625pt\" version=\"1.1\" viewBox=\"0 0 424.470312 280.15625\" width=\"424.470312pt\" xmlns=\"http://www.w3.org/2000/svg\" xmlns:xlink=\"http://www.w3.org/1999/xlink\">\r\n <metadata>\r\n  <rdf:RDF xmlns:cc=\"http://creativecommons.org/ns#\" xmlns:dc=\"http://purl.org/dc/elements/1.1/\" xmlns:rdf=\"http://www.w3.org/1999/02/22-rdf-syntax-ns#\">\r\n   <cc:Work>\r\n    <dc:type rdf:resource=\"http://purl.org/dc/dcmitype/StillImage\"/>\r\n    <dc:date>2021-04-22T16:52:46.456312</dc:date>\r\n    <dc:format>image/svg+xml</dc:format>\r\n    <dc:creator>\r\n     <cc:Agent>\r\n      <dc:title>Matplotlib v3.3.2, https://matplotlib.org/</dc:title>\r\n     </cc:Agent>\r\n    </dc:creator>\r\n   </cc:Work>\r\n  </rdf:RDF>\r\n </metadata>\r\n <defs>\r\n  <style type=\"text/css\">*{stroke-linecap:butt;stroke-linejoin:round;}</style>\r\n </defs>\r\n <g id=\"figure_1\">\r\n  <g id=\"patch_1\">\r\n   <path d=\"M 0 280.15625 \r\nL 424.470312 280.15625 \r\nL 424.470312 0 \r\nL 0 0 \r\nz\r\n\" style=\"fill:none;\"/>\r\n  </g>\r\n  <g id=\"axes_1\">\r\n   <g id=\"patch_2\">\r\n    <path d=\"M 42.620313 242.6 \r\nL 417.270312 242.6 \r\nL 417.270312 7.2 \r\nL 42.620313 7.2 \r\nz\r\n\" style=\"fill:#ffffff;\"/>\r\n   </g>\r\n   <g id=\"PathCollection_1\">\r\n    <path clip-path=\"url(#p55578fd002)\" d=\"M 43.331223 167.586972 \r\nL 43.508951 167.448826 \r\nL 44.042134 167.03439 \r\nL 44.753045 167.03439 \r\nL 45.463956 167.03439 \r\nL 45.641683 166.896244 \r\nL 46.174867 166.481808 \r\nL 46.885777 166.481808 \r\nL 47.596688 166.481808 \r\nL 48.307599 166.481808 \r\nL 48.485327 166.343662 \r\nL 49.01851 165.929225 \r\nL 49.729421 165.929225 \r\nL 50.440331 165.929225 \r\nL 50.618059 165.79108 \r\nL 51.151242 165.376643 \r\nL 51.862153 165.376643 \r\nL 52.573064 165.376643 \r\nL 52.750792 165.238498 \r\nL 53.283975 164.824061 \r\nL 53.994886 164.824061 \r\nL 54.705796 164.824061 \r\nL 54.883524 164.685915 \r\nL 55.416707 164.271479 \r\nL 56.127618 164.271479 \r\nL 56.838529 164.271479 \r\nL 57.016257 164.133333 \r\nL 57.54944 163.718897 \r\nL 58.26035 163.718897 \r\nL 58.971261 163.718897 \r\nL 59.148989 163.580751 \r\nL 59.682172 163.166315 \r\nL 60.393083 163.166315 \r\nL 61.103994 163.166315 \r\nL 61.281721 163.028169 \r\nL 61.814905 162.613732 \r\nL 62.525815 162.613732 \r\nL 63.236726 162.613732 \r\nL 63.947637 162.613732 \r\nL 64.125365 162.475587 \r\nL 64.658548 162.06115 \r\nL 65.369459 162.06115 \r\nL 66.080369 162.06115 \r\nL 66.258097 161.923005 \r\nL 66.79128 161.508568 \r\nL 67.502191 161.508568 \r\nL 68.213102 161.508568 \r\nL 68.39083 161.370423 \r\nL 68.924013 160.955986 \r\nL 69.634924 160.955986 \r\nL 70.345834 160.955986 \r\nL 70.523562 160.81784 \r\nL 71.056745 160.403404 \r\nL 71.767656 160.403404 \r\nL 72.478567 160.403404 \r\nL 72.656294 160.265258 \r\nL 73.189478 159.850822 \r\nL 73.900388 159.850822 \r\nL 74.611299 159.850822 \r\nL 74.789027 159.712676 \r\nL 75.32221 159.298239 \r\nL 76.033121 159.298239 \r\nL 76.744032 159.298239 \r\nL 76.921759 159.160094 \r\nL 77.454942 158.745657 \r\nL 78.165853 158.745657 \r\nL 78.876764 158.745657 \r\nL 79.587675 158.745657 \r\nL 79.765403 158.607512 \r\nL 80.298586 158.193075 \r\nL 81.009497 158.193075 \r\nL 81.720407 158.193075 \r\nL 81.898135 158.05493 \r\nL 82.431318 157.640493 \r\nL 83.142229 157.640493 \r\nL 83.85314 157.640493 \r\nL 84.030868 157.502347 \r\nL 84.564051 157.087911 \r\nL 85.274961 157.087911 \r\nL 85.985872 157.087911 \r\nL 86.1636 156.949765 \r\nL 86.696783 156.535329 \r\nL 87.407694 156.535329 \r\nL 88.118605 156.535329 \r\nL 88.296332 156.397183 \r\nL 88.829516 155.982746 \r\nL 89.540426 155.982746 \r\nL 90.251337 155.982746 \r\nL 90.429065 155.844601 \r\nL 90.962248 155.430164 \r\nL 91.673159 155.430164 \r\nL 92.38407 155.430164 \r\nL 92.561797 155.292019 \r\nL 93.09498 154.877582 \r\nL 93.805891 154.877582 \r\nL 94.516802 154.877582 \r\nL 95.227713 154.877582 \r\nL 95.405441 154.739437 \r\nL 95.938624 154.325 \r\nL 96.649535 154.325 \r\nL 97.360445 154.325 \r\nL 97.538173 154.186854 \r\nL 98.071356 153.772418 \r\nL 98.782267 153.772418 \r\nL 99.493178 153.772418 \r\nL 99.670905 153.634272 \r\nL 100.204089 153.219836 \r\nL 100.914999 153.219836 \r\nL 101.62591 153.219836 \r\nL 101.803638 153.08169 \r\nL 102.336821 152.667254 \r\nL 103.047732 152.667254 \r\nL 103.758643 152.667254 \r\nL 103.93637 152.529108 \r\nL 104.469553 152.114671 \r\nL 105.180464 152.114671 \r\nL 105.891375 152.114671 \r\nL 106.069103 151.976526 \r\nL 106.602286 151.562089 \r\nL 107.313197 151.562089 \r\nL 108.024108 151.562089 \r\nL 108.201835 151.423944 \r\nL 108.735018 151.009507 \r\nL 109.445929 151.009507 \r\nL 110.15684 151.009507 \r\nL 110.867751 151.009507 \r\nL 111.045479 150.871362 \r\nL 111.578662 150.456925 \r\nL 112.289572 150.456925 \r\nL 113.000483 150.456925 \r\nL 113.178211 150.318779 \r\nL 113.711394 149.904343 \r\nL 114.422305 149.904343 \r\nL 115.133216 149.904343 \r\nL 115.310943 149.766197 \r\nL 115.844127 149.351761 \r\nL 116.555037 149.351761 \r\nL 117.265948 149.351761 \r\nL 117.443676 149.213615 \r\nL 117.976859 148.799178 \r\nL 118.68777 148.799178 \r\nL 119.398681 148.799178 \r\nL 119.576408 148.661033 \r\nL 120.109591 148.246596 \r\nL 120.820502 148.246596 \r\nL 121.531413 148.246596 \r\nL 121.709141 148.108451 \r\nL 122.242324 147.694014 \r\nL 122.953235 147.694014 \r\nL 123.664146 147.694014 \r\nL 123.841873 147.555869 \r\nL 124.375056 147.141432 \r\nL 125.085967 147.141432 \r\nL 125.796878 147.141432 \r\nL 126.507789 147.141432 \r\nL 126.685516 147.003286 \r\nL 127.2187 146.58885 \r\nL 127.92961 146.58885 \r\nL 128.640521 146.58885 \r\nL 128.818249 146.450704 \r\nL 129.351432 146.036268 \r\nL 130.062343 146.036268 \r\nL 130.773254 146.036268 \r\nL 130.950981 145.898122 \r\nL 131.484164 145.483685 \r\nL 132.195075 145.483685 \r\nL 132.905986 145.483685 \r\nL 133.083714 145.34554 \r\nL 133.616897 144.931103 \r\nL 134.327808 144.931103 \r\nL 135.038719 144.931103 \r\nL 135.216446 144.792958 \r\nL 135.749629 144.378521 \r\nL 136.46054 144.378521 \r\nL 137.171451 144.378521 \r\nL 137.349179 144.240376 \r\nL 137.882362 143.825939 \r\nL 138.593273 143.825939 \r\nL 139.304183 143.825939 \r\nL 139.481911 143.687793 \r\nL 140.015094 143.273357 \r\nL 140.726005 143.273357 \r\nL 141.436916 143.273357 \r\nL 142.147827 143.273357 \r\nL 142.325554 143.135211 \r\nL 142.858738 142.720775 \r\nL 143.569648 142.720775 \r\nL 144.280559 142.720775 \r\nL 144.458287 142.582629 \r\nL 144.99147 142.168192 \r\nL 145.702381 142.168192 \r\nL 146.413292 142.168192 \r\nL 146.591019 142.030047 \r\nL 147.124202 141.61561 \r\nL 147.835113 141.61561 \r\nL 148.546024 141.61561 \r\nL 148.723752 141.477465 \r\nL 149.256935 141.063028 \r\nL 149.967846 141.063028 \r\nL 150.678757 141.063028 \r\nL 150.856484 140.924883 \r\nL 151.389667 140.510446 \r\nL 152.100578 140.510446 \r\nL 152.811489 140.510446 \r\nL 152.989217 140.3723 \r\nL 153.5224 139.957864 \r\nL 154.233311 139.957864 \r\nL 154.944221 139.957864 \r\nL 155.121949 139.819718 \r\nL 155.655132 139.405282 \r\nL 156.366043 139.405282 \r\nL 157.076954 139.405282 \r\nL 157.787865 139.405282 \r\nL 157.965592 139.267136 \r\nL 158.498775 138.8527 \r\nL 159.209686 138.8527 \r\nL 159.920597 138.8527 \r\nL 160.098325 138.714554 \r\nL 160.631508 138.300117 \r\nL 161.342419 138.300117 \r\nL 162.05333 138.300117 \r\nL 162.231057 138.161972 \r\nL 162.76424 137.747535 \r\nL 163.475151 137.747535 \r\nL 164.186062 137.747535 \r\nL 164.36379 137.60939 \r\nL 164.896973 137.194953 \r\nL 165.607884 137.194953 \r\nL 166.318794 137.194953 \r\nL 166.496522 137.056808 \r\nL 167.029705 136.642371 \r\nL 167.740616 136.642371 \r\nL 168.451527 136.642371 \r\nL 168.629255 136.504225 \r\nL 169.162438 136.089789 \r\nL 169.873349 136.089789 \r\nL 170.584259 136.089789 \r\nL 170.761987 135.951643 \r\nL 171.29517 135.537207 \r\nL 172.006081 135.537207 \r\nL 172.716992 135.537207 \r\nL 173.427903 135.537207 \r\nL 173.60563 135.399061 \r\nL 174.138813 134.984624 \r\nL 174.849724 134.984624 \r\nL 175.560635 134.984624 \r\nL 175.738363 134.846479 \r\nL 176.271546 134.432042 \r\nL 176.982457 134.432042 \r\nL 177.693368 134.432042 \r\nL 177.871095 134.293897 \r\nL 178.404278 133.87946 \r\nL 179.115189 133.87946 \r\nL 179.8261 133.87946 \r\nL 180.003828 133.741315 \r\nL 180.537011 133.326878 \r\nL 181.247922 133.326878 \r\nL 181.958832 133.326878 \r\nL 182.13656 133.188732 \r\nL 182.669743 132.774296 \r\nL 183.380654 132.774296 \r\nL 184.091565 132.774296 \r\nL 184.269293 132.63615 \r\nL 184.802476 132.221714 \r\nL 185.513387 132.221714 \r\nL 186.224297 132.221714 \r\nL 186.402025 132.083568 \r\nL 186.935208 131.669131 \r\nL 187.646119 131.669131 \r\nL 188.35703 131.669131 \r\nL 189.067941 131.669131 \r\nL 189.245668 131.530986 \r\nL 189.778851 131.116549 \r\nL 190.489762 131.116549 \r\nL 191.200673 131.116549 \r\nL 191.378401 130.978404 \r\nL 191.911584 130.563967 \r\nL 192.622495 130.563967 \r\nL 193.333405 130.563967 \r\nL 193.511133 130.425822 \r\nL 194.044316 130.011385 \r\nL 194.755227 130.011385 \r\nL 195.466138 130.011385 \r\nL 195.643866 129.873239 \r\nL 196.177049 129.458803 \r\nL 196.88796 129.458803 \r\nL 197.59887 129.458803 \r\nL 197.776598 129.320657 \r\nL 198.309781 128.906221 \r\nL 199.020692 128.906221 \r\nL 199.731603 128.906221 \r\nL 199.909331 128.768075 \r\nL 200.442514 128.353638 \r\nL 201.153424 128.353638 \r\nL 201.864335 128.353638 \r\nL 202.042063 128.215493 \r\nL 202.575246 127.801056 \r\nL 203.286157 127.801056 \r\nL 203.997068 127.801056 \r\nL 204.707979 127.801056 \r\nL 204.885706 127.662911 \r\nL 205.418889 127.248474 \r\nL 206.1298 127.248474 \r\nL 206.840711 127.248474 \r\nL 207.018439 127.110329 \r\nL 207.551622 126.695892 \r\nL 208.262533 126.695892 \r\nL 208.973443 126.695892 \r\nL 209.151171 126.557746 \r\nL 209.684354 126.14331 \r\nL 210.395265 126.14331 \r\nL 211.106176 126.14331 \r\nL 211.283904 126.005164 \r\nL 211.817087 125.590728 \r\nL 212.527998 125.590728 \r\nL 213.238908 125.590728 \r\nL 213.416636 125.452582 \r\nL 213.949819 125.038146 \r\nL 214.66073 125.038146 \r\nL 215.371641 125.038146 \r\nL 215.549368 124.9 \r\nL 216.082552 124.485563 \r\nL 216.793462 124.485563 \r\nL 217.504373 124.485563 \r\nL 217.682101 124.347418 \r\nL 218.215284 123.932981 \r\nL 218.926195 123.932981 \r\nL 219.637106 123.932981 \r\nL 220.348016 123.932981 \r\nL 220.525744 123.794836 \r\nL 221.058927 123.380399 \r\nL 221.769838 123.380399 \r\nL 222.480749 123.380399 \r\nL 222.658477 123.242254 \r\nL 223.19166 122.827817 \r\nL 223.902571 122.827817 \r\nL 224.613481 122.827817 \r\nL 224.791209 122.689671 \r\nL 225.324392 122.275235 \r\nL 226.035303 122.275235 \r\nL 226.746214 122.275235 \r\nL 226.923942 122.137089 \r\nL 227.457125 121.722653 \r\nL 228.168035 121.722653 \r\nL 228.878946 121.722653 \r\nL 229.056674 121.584507 \r\nL 229.589857 121.17007 \r\nL 230.300768 121.17007 \r\nL 231.011679 121.17007 \r\nL 231.189406 121.031925 \r\nL 231.72259 120.617488 \r\nL 232.4335 120.617488 \r\nL 233.144411 120.617488 \r\nL 233.322139 120.479343 \r\nL 233.855322 120.064906 \r\nL 234.566233 120.064906 \r\nL 235.277144 120.064906 \r\nL 235.988054 120.064906 \r\nL 236.165782 119.926761 \r\nL 236.698965 119.512324 \r\nL 237.409876 119.512324 \r\nL 238.120787 119.512324 \r\nL 238.298515 119.374178 \r\nL 238.831698 118.959742 \r\nL 239.542609 118.959742 \r\nL 240.253519 118.959742 \r\nL 240.431247 118.821596 \r\nL 240.96443 118.40716 \r\nL 241.675341 118.40716 \r\nL 242.386252 118.40716 \r\nL 242.563979 118.269014 \r\nL 243.097163 117.854577 \r\nL 243.808073 117.854577 \r\nL 244.518984 117.854577 \r\nL 244.696712 117.716432 \r\nL 245.229895 117.301995 \r\nL 245.940806 117.301995 \r\nL 246.651717 117.301995 \r\nL 246.829444 117.16385 \r\nL 247.362627 116.749413 \r\nL 248.073538 116.749413 \r\nL 248.784449 116.749413 \r\nL 248.962177 116.611268 \r\nL 249.49536 116.196831 \r\nL 250.206271 116.196831 \r\nL 250.295135 116.058685 \r\nL 250.295135 115.506103 \r\nL 250.206271 115.437031 \r\nL 249.584224 114.953521 \r\nL 249.584224 114.400939 \r\nL 249.584224 113.848357 \r\nL 249.584224 113.295775 \r\nL 249.584224 112.743192 \r\nL 249.584224 112.19061 \r\nL 249.49536 112.121538 \r\nL 248.873313 111.638028 \r\nL 248.873313 111.085446 \r\nL 248.873313 110.532864 \r\nL 248.873313 109.980282 \r\nL 248.873313 109.4277 \r\nL 248.873313 108.875117 \r\nL 248.873313 108.322535 \r\nL 248.784449 108.253462 \r\nL 248.162402 107.769953 \r\nL 248.162402 107.217371 \r\nL 248.162402 106.664789 \r\nL 248.162402 106.112207 \r\nL 248.162402 105.559624 \r\nL 248.162402 105.007042 \r\nL 248.073538 104.937969 \r\nL 247.451491 104.45446 \r\nL 247.451491 103.901878 \r\nL 247.451491 103.349296 \r\nL 247.451491 102.796714 \r\nL 247.451491 102.244131 \r\nL 247.451491 101.691549 \r\nL 247.451491 101.138967 \r\nL 247.362627 101.069894 \r\nL 246.740581 100.586385 \r\nL 246.740581 100.033803 \r\nL 246.740581 99.481221 \r\nL 246.740581 98.928638 \r\nL 246.740581 98.376056 \r\nL 246.740581 97.823474 \r\nL 246.651717 97.754401 \r\nL 246.02967 97.270892 \r\nL 246.02967 96.71831 \r\nL 246.02967 96.165728 \r\nL 246.02967 95.613146 \r\nL 246.02967 95.060563 \r\nL 246.02967 94.507981 \r\nL 246.02967 93.955399 \r\nL 245.940806 93.886326 \r\nL 245.318759 93.402817 \r\nL 245.318759 92.850235 \r\nL 245.318759 92.297653 \r\nL 245.318759 91.74507 \r\nL 245.318759 91.192488 \r\nL 245.318759 90.639906 \r\nL 245.229895 90.570833 \r\nL 244.607848 90.087324 \r\nL 244.607848 89.534742 \r\nL 244.607848 88.98216 \r\nL 244.607848 88.429577 \r\nL 244.607848 87.876995 \r\nL 244.607848 87.324413 \r\nL 244.607848 86.771831 \r\nL 244.518984 86.702758 \r\nL 243.896937 86.219249 \r\nL 243.896937 85.666667 \r\nL 243.896937 85.114085 \r\nL 243.896937 84.561502 \r\nL 243.896937 84.00892 \r\nL 243.896937 83.456338 \r\nL 243.808073 83.387265 \r\nL 243.186026 82.903756 \r\nL 243.186026 82.351174 \r\nL 243.186026 81.798592 \r\nL 243.186026 81.246009 \r\nL 243.186026 80.693427 \r\nL 243.186026 80.140845 \r\nL 243.186026 79.588263 \r\nL 243.097163 79.51919 \r\nL 242.475116 79.035681 \r\nL 242.475116 78.483099 \r\nL 242.475116 77.930516 \r\nL 242.475116 77.377934 \r\nL 242.475116 76.825352 \r\nL 242.475116 76.27277 \r\nL 242.386252 76.203697 \r\nL 241.764205 75.720188 \r\nL 241.764205 75.167606 \r\nL 241.764205 74.615023 \r\nL 241.764205 74.062441 \r\nL 241.764205 73.509859 \r\nL 241.764205 72.957277 \r\nL 241.764205 72.404695 \r\nL 241.675341 72.335622 \r\nL 241.053294 71.852113 \r\nL 241.053294 71.299531 \r\nL 241.053294 70.746948 \r\nL 241.053294 70.194366 \r\nL 241.053294 69.641784 \r\nL 241.053294 69.089202 \r\nL 240.96443 69.020129 \r\nL 240.342383 68.53662 \r\nL 240.342383 67.984038 \r\nL 240.342383 67.431455 \r\nL 240.342383 66.878873 \r\nL 240.342383 66.326291 \r\nL 240.342383 65.773709 \r\nL 240.342383 65.221127 \r\nL 240.253519 65.152054 \r\nL 239.631472 64.668545 \r\nL 239.631472 64.115962 \r\nL 239.631472 63.56338 \r\nL 239.631472 63.010798 \r\nL 239.631472 62.458216 \r\nL 239.631472 61.905634 \r\nL 239.542609 61.836561 \r\nL 238.920562 61.353052 \r\nL 238.920562 60.800469 \r\nL 238.920562 60.247887 \r\nL 238.920562 59.695305 \r\nL 238.920562 59.142723 \r\nL 238.920562 58.590141 \r\nL 238.920562 58.037559 \r\nL 238.831698 57.968486 \r\nL 238.209651 57.484977 \r\nL 238.209651 56.932394 \r\nL 238.209651 56.379812 \r\nL 238.209651 55.82723 \r\nL 238.209651 55.274648 \r\nL 238.209651 54.722066 \r\nL 238.120787 54.652993 \r\nL 237.49874 54.169484 \r\nL 237.49874 53.616901 \r\nL 237.49874 53.064319 \r\nL 237.49874 52.511737 \r\nL 237.49874 51.959155 \r\nL 237.49874 51.406573 \r\nL 237.49874 50.853991 \r\nL 237.409876 50.784918 \r\nL 236.787829 50.301408 \r\nL 236.787829 49.748826 \r\nL 236.787829 49.196244 \r\nL 236.787829 48.643662 \r\nL 236.787829 48.09108 \r\nL 236.787829 47.538498 \r\nL 236.698965 47.469425 \r\nL 236.076918 46.985915 \r\nL 236.076918 46.433333 \r\nL 236.076918 45.880751 \r\nL 236.076918 45.328169 \r\nL 236.076918 44.775587 \r\nL 236.076918 44.223005 \r\nL 236.076918 43.670423 \r\nL 235.988054 43.60135 \r\nL 235.366007 43.11784 \r\nL 235.366007 42.565258 \r\nL 235.366007 42.012676 \r\nL 235.366007 41.460094 \r\nL 235.366007 40.907512 \r\nL 235.366007 40.35493 \r\nL 235.277144 40.285857 \r\nL 234.655097 39.802347 \r\nL 234.655097 39.249765 \r\nL 234.655097 38.697183 \r\nL 234.655097 38.144601 \r\nL 234.655097 37.592019 \r\nL 234.655097 37.039437 \r\nL 234.655097 36.486854 \r\nL 234.566233 36.417782 \r\nL 233.944186 35.934272 \r\nL 233.944186 35.38169 \r\nL 233.944186 34.829108 \r\nL 233.944186 34.276526 \r\nL 233.944186 33.723944 \r\nL 233.944186 33.171362 \r\nL 233.855322 33.102289 \r\nL 233.233275 32.618779 \r\nL 233.233275 32.066197 \r\nL 233.233275 31.513615 \r\nL 233.233275 30.961033 \r\nL 233.233275 30.408451 \r\nL 233.233275 29.855869 \r\nL 233.233275 29.303286 \r\nL 233.144411 29.234214 \r\nL 232.522364 28.750704 \r\nL 232.522364 28.198122 \r\nL 232.522364 27.64554 \r\nL 232.522364 27.092958 \r\nL 232.522364 26.540376 \r\nL 232.522364 25.987793 \r\nL 232.4335 25.918721 \r\nL 231.811453 25.435211 \r\nL 231.811453 24.882629 \r\nL 231.811453 24.330047 \r\nL 231.811453 23.777465 \r\nL 231.811453 23.224883 \r\nL 231.811453 22.6723 \r\nL 231.72259 22.603228 \r\nL 231.100543 22.119718 \r\nL 231.100543 21.567136 \r\nL 231.100543 21.014554 \r\nL 231.100543 20.461972 \r\nL 231.100543 19.90939 \r\nL 231.100543 19.356808 \r\nL 231.100543 18.804225 \r\nL 231.011679 18.735153 \r\nL 230.389632 18.251643 \r\nL 230.389632 17.699061 \r\nL 230.389632 17.146479 \r\nL 230.389632 16.593897 \r\nL 230.389632 16.041315 \r\nL 230.389632 15.488732 \r\nL 230.300768 15.41966 \r\nL 229.678721 14.93615 \r\nL 229.678721 14.383568 \r\nL 229.678721 13.830986 \r\nL 229.678721 13.278404 \r\nL 229.678721 12.725822 \r\nL 229.678721 12.173239 \r\nL 229.678721 11.620657 \r\nL 229.589857 11.551585 \r\nL 228.96781 11.068075 \r\nL 228.96781 10.515493 \r\nL 228.96781 9.962911 \r\nL 228.96781 9.410329 \r\nL 228.96781 8.857746 \r\nL 228.96781 8.305164 \r\nL 228.878946 8.236092 \r\nL 228.256899 7.752582 \r\nL 228.256899 7.2 \r\nL 228.168035 7.2 \r\nL 227.457125 7.2 \r\nL 226.746214 7.2 \r\nL 226.035303 7.2 \r\nL 225.324392 7.2 \r\nL 224.613481 7.2 \r\nL 223.902571 7.2 \r\nL 223.19166 7.2 \r\nL 222.480749 7.2 \r\nL 221.769838 7.2 \r\nL 221.058927 7.2 \r\nL 220.348016 7.2 \r\nL 219.637106 7.2 \r\nL 218.926195 7.2 \r\nL 218.215284 7.2 \r\nL 217.504373 7.2 \r\nL 216.793462 7.2 \r\nL 216.082552 7.2 \r\nL 215.371641 7.2 \r\nL 214.66073 7.2 \r\nL 213.949819 7.2 \r\nL 213.238908 7.2 \r\nL 212.527998 7.2 \r\nL 211.817087 7.2 \r\nL 211.106176 7.2 \r\nL 210.395265 7.2 \r\nL 209.684354 7.2 \r\nL 208.973443 7.2 \r\nL 208.262533 7.2 \r\nL 207.551622 7.2 \r\nL 206.840711 7.2 \r\nL 206.1298 7.2 \r\nL 205.418889 7.2 \r\nL 204.707979 7.2 \r\nL 203.997068 7.2 \r\nL 203.286157 7.2 \r\nL 202.575246 7.2 \r\nL 201.864335 7.2 \r\nL 201.153424 7.2 \r\nL 200.442514 7.2 \r\nL 199.731603 7.2 \r\nL 199.020692 7.2 \r\nL 198.309781 7.2 \r\nL 197.59887 7.2 \r\nL 196.88796 7.2 \r\nL 196.177049 7.2 \r\nL 195.466138 7.2 \r\nL 194.755227 7.2 \r\nL 194.044316 7.2 \r\nL 193.333405 7.2 \r\nL 192.622495 7.2 \r\nL 191.911584 7.2 \r\nL 191.200673 7.2 \r\nL 190.489762 7.2 \r\nL 189.778851 7.2 \r\nL 189.067941 7.2 \r\nL 188.35703 7.2 \r\nL 187.646119 7.2 \r\nL 186.935208 7.2 \r\nL 186.224297 7.2 \r\nL 185.513387 7.2 \r\nL 184.802476 7.2 \r\nL 184.091565 7.2 \r\nL 183.380654 7.2 \r\nL 182.669743 7.2 \r\nL 181.958832 7.2 \r\nL 181.247922 7.2 \r\nL 180.537011 7.2 \r\nL 179.8261 7.2 \r\nL 179.115189 7.2 \r\nL 178.404278 7.2 \r\nL 177.693368 7.2 \r\nL 176.982457 7.2 \r\nL 176.271546 7.2 \r\nL 175.560635 7.2 \r\nL 174.849724 7.2 \r\nL 174.138813 7.2 \r\nL 173.427903 7.2 \r\nL 172.716992 7.2 \r\nL 172.006081 7.2 \r\nL 171.29517 7.2 \r\nL 170.584259 7.2 \r\nL 169.873349 7.2 \r\nL 169.162438 7.2 \r\nL 168.451527 7.2 \r\nL 167.740616 7.2 \r\nL 167.029705 7.2 \r\nL 166.318794 7.2 \r\nL 165.607884 7.2 \r\nL 164.896973 7.2 \r\nL 164.186062 7.2 \r\nL 163.475151 7.2 \r\nL 162.76424 7.2 \r\nL 162.05333 7.2 \r\nL 161.342419 7.2 \r\nL 160.631508 7.2 \r\nL 159.920597 7.2 \r\nL 159.209686 7.2 \r\nL 158.498775 7.2 \r\nL 157.787865 7.2 \r\nL 157.076954 7.2 \r\nL 156.366043 7.2 \r\nL 155.655132 7.2 \r\nL 154.944221 7.2 \r\nL 154.233311 7.2 \r\nL 153.5224 7.2 \r\nL 152.811489 7.2 \r\nL 152.100578 7.2 \r\nL 151.389667 7.2 \r\nL 150.678757 7.2 \r\nL 149.967846 7.2 \r\nL 149.256935 7.2 \r\nL 148.546024 7.2 \r\nL 147.835113 7.2 \r\nL 147.124202 7.2 \r\nL 146.413292 7.2 \r\nL 145.702381 7.2 \r\nL 144.99147 7.2 \r\nL 144.280559 7.2 \r\nL 143.569648 7.2 \r\nL 142.858738 7.2 \r\nL 142.147827 7.2 \r\nL 141.436916 7.2 \r\nL 140.726005 7.2 \r\nL 140.015094 7.2 \r\nL 139.304183 7.2 \r\nL 138.593273 7.2 \r\nL 137.882362 7.2 \r\nL 137.171451 7.2 \r\nL 136.46054 7.2 \r\nL 135.749629 7.2 \r\nL 135.038719 7.2 \r\nL 134.327808 7.2 \r\nL 133.616897 7.2 \r\nL 132.905986 7.2 \r\nL 132.195075 7.2 \r\nL 131.484164 7.2 \r\nL 130.773254 7.2 \r\nL 130.062343 7.2 \r\nL 129.351432 7.2 \r\nL 128.640521 7.2 \r\nL 127.92961 7.2 \r\nL 127.2187 7.2 \r\nL 126.507789 7.2 \r\nL 125.796878 7.2 \r\nL 125.085967 7.2 \r\nL 124.375056 7.2 \r\nL 123.664146 7.2 \r\nL 122.953235 7.2 \r\nL 122.242324 7.2 \r\nL 121.531413 7.2 \r\nL 120.820502 7.2 \r\nL 120.109591 7.2 \r\nL 119.398681 7.2 \r\nL 118.68777 7.2 \r\nL 117.976859 7.2 \r\nL 117.265948 7.2 \r\nL 116.555037 7.2 \r\nL 115.844127 7.2 \r\nL 115.133216 7.2 \r\nL 114.422305 7.2 \r\nL 113.711394 7.2 \r\nL 113.000483 7.2 \r\nL 112.289572 7.2 \r\nL 111.578662 7.2 \r\nL 110.867751 7.2 \r\nL 110.15684 7.2 \r\nL 109.445929 7.2 \r\nL 108.735018 7.2 \r\nL 108.024108 7.2 \r\nL 107.313197 7.2 \r\nL 106.602286 7.2 \r\nL 105.891375 7.2 \r\nL 105.180464 7.2 \r\nL 104.469553 7.2 \r\nL 103.758643 7.2 \r\nL 103.047732 7.2 \r\nL 102.336821 7.2 \r\nL 101.62591 7.2 \r\nL 100.914999 7.2 \r\nL 100.204089 7.2 \r\nL 99.493178 7.2 \r\nL 98.782267 7.2 \r\nL 98.071356 7.2 \r\nL 97.360445 7.2 \r\nL 96.649535 7.2 \r\nL 95.938624 7.2 \r\nL 95.227713 7.2 \r\nL 94.516802 7.2 \r\nL 93.805891 7.2 \r\nL 93.09498 7.2 \r\nL 92.38407 7.2 \r\nL 91.673159 7.2 \r\nL 90.962248 7.2 \r\nL 90.251337 7.2 \r\nL 89.540426 7.2 \r\nL 88.829516 7.2 \r\nL 88.118605 7.2 \r\nL 87.407694 7.2 \r\nL 86.696783 7.2 \r\nL 85.985872 7.2 \r\nL 85.274961 7.2 \r\nL 84.564051 7.2 \r\nL 83.85314 7.2 \r\nL 83.142229 7.2 \r\nL 82.431318 7.2 \r\nL 81.720407 7.2 \r\nL 81.009497 7.2 \r\nL 80.298586 7.2 \r\nL 79.587675 7.2 \r\nL 78.876764 7.2 \r\nL 78.165853 7.2 \r\nL 77.454942 7.2 \r\nL 76.744032 7.2 \r\nL 76.033121 7.2 \r\nL 75.32221 7.2 \r\nL 74.611299 7.2 \r\nL 73.900388 7.2 \r\nL 73.189478 7.2 \r\nL 72.478567 7.2 \r\nL 71.767656 7.2 \r\nL 71.056745 7.2 \r\nL 70.345834 7.2 \r\nL 69.634924 7.2 \r\nL 68.924013 7.2 \r\nL 68.213102 7.2 \r\nL 67.502191 7.2 \r\nL 66.79128 7.2 \r\nL 66.080369 7.2 \r\nL 65.369459 7.2 \r\nL 64.658548 7.2 \r\nL 63.947637 7.2 \r\nL 63.236726 7.2 \r\nL 62.525815 7.2 \r\nL 61.814905 7.2 \r\nL 61.103994 7.2 \r\nL 60.393083 7.2 \r\nL 59.682172 7.2 \r\nL 58.971261 7.2 \r\nL 58.26035 7.2 \r\nL 57.54944 7.2 \r\nL 56.838529 7.2 \r\nL 56.127618 7.2 \r\nL 55.416707 7.2 \r\nL 54.705796 7.2 \r\nL 53.994886 7.2 \r\nL 53.283975 7.2 \r\nL 52.573064 7.2 \r\nL 51.862153 7.2 \r\nL 51.151242 7.2 \r\nL 50.440331 7.2 \r\nL 49.729421 7.2 \r\nL 49.01851 7.2 \r\nL 48.307599 7.2 \r\nL 47.596688 7.2 \r\nL 46.885777 7.2 \r\nL 46.174867 7.2 \r\nL 45.463956 7.2 \r\nL 44.753045 7.2 \r\nL 44.042134 7.2 \r\nL 43.331223 7.2 \r\nL 42.620312 7.2 \r\nL 42.620312 7.752582 \r\nL 42.620312 8.305164 \r\nL 42.620312 8.857746 \r\nL 42.620312 9.410329 \r\nL 42.620312 9.962911 \r\nL 42.620312 10.515493 \r\nL 42.620312 11.068075 \r\nL 42.620312 11.620657 \r\nL 42.620312 12.173239 \r\nL 42.620312 12.725822 \r\nL 42.620312 13.278404 \r\nL 42.620312 13.830986 \r\nL 42.620312 14.383568 \r\nL 42.620312 14.93615 \r\nL 42.620312 15.488732 \r\nL 42.620312 16.041315 \r\nL 42.620312 16.593897 \r\nL 42.620312 17.146479 \r\nL 42.620312 17.699061 \r\nL 42.620312 18.251643 \r\nL 42.620312 18.804225 \r\nL 42.620312 19.356808 \r\nL 42.620312 19.90939 \r\nL 42.620312 20.461972 \r\nL 42.620312 21.014554 \r\nL 42.620312 21.567136 \r\nL 42.620312 22.119718 \r\nL 42.620312 22.6723 \r\nL 42.620312 23.224883 \r\nL 42.620312 23.777465 \r\nL 42.620312 24.330047 \r\nL 42.620312 24.882629 \r\nL 42.620312 25.435211 \r\nL 42.620312 25.987793 \r\nL 42.620312 26.540376 \r\nL 42.620312 27.092958 \r\nL 42.620312 27.64554 \r\nL 42.620312 28.198122 \r\nL 42.620312 28.750704 \r\nL 42.620312 29.303286 \r\nL 42.620312 29.855869 \r\nL 42.620312 30.408451 \r\nL 42.620312 30.961033 \r\nL 42.620312 31.513615 \r\nL 42.620312 32.066197 \r\nL 42.620312 32.618779 \r\nL 42.620312 33.171362 \r\nL 42.620312 33.723944 \r\nL 42.620312 34.276526 \r\nL 42.620312 34.829108 \r\nL 42.620312 35.38169 \r\nL 42.620312 35.934272 \r\nL 42.620312 36.486854 \r\nL 42.620312 37.039437 \r\nL 42.620312 37.592019 \r\nL 42.620312 38.144601 \r\nL 42.620312 38.697183 \r\nL 42.620312 39.249765 \r\nL 42.620312 39.802347 \r\nL 42.620312 40.35493 \r\nL 42.620312 40.907512 \r\nL 42.620312 41.460094 \r\nL 42.620312 42.012676 \r\nL 42.620312 42.565258 \r\nL 42.620312 43.11784 \r\nL 42.620312 43.670423 \r\nL 42.620312 44.223005 \r\nL 42.620312 44.775587 \r\nL 42.620312 45.328169 \r\nL 42.620312 45.880751 \r\nL 42.620312 46.433333 \r\nL 42.620312 46.985915 \r\nL 42.620312 47.538498 \r\nL 42.620312 48.09108 \r\nL 42.620312 48.643662 \r\nL 42.620312 49.196244 \r\nL 42.620312 49.748826 \r\nL 42.620312 50.301408 \r\nL 42.620312 50.853991 \r\nL 42.620312 51.406573 \r\nL 42.620312 51.959155 \r\nL 42.620312 52.511737 \r\nL 42.620312 53.064319 \r\nL 42.620312 53.616901 \r\nL 42.620312 54.169484 \r\nL 42.620312 54.722066 \r\nL 42.620312 55.274648 \r\nL 42.620312 55.82723 \r\nL 42.620312 56.379812 \r\nL 42.620312 56.932394 \r\nL 42.620312 57.484977 \r\nL 42.620312 58.037559 \r\nL 42.620312 58.590141 \r\nL 42.620312 59.142723 \r\nL 42.620312 59.695305 \r\nL 42.620312 60.247887 \r\nL 42.620312 60.800469 \r\nL 42.620312 61.353052 \r\nL 42.620312 61.905634 \r\nL 42.620312 62.458216 \r\nL 42.620312 63.010798 \r\nL 42.620312 63.56338 \r\nL 42.620312 64.115962 \r\nL 42.620312 64.668545 \r\nL 42.620312 65.221127 \r\nL 42.620312 65.773709 \r\nL 42.620312 66.326291 \r\nL 42.620312 66.878873 \r\nL 42.620312 67.431455 \r\nL 42.620312 67.984038 \r\nL 42.620312 68.53662 \r\nL 42.620312 69.089202 \r\nL 42.620312 69.641784 \r\nL 42.620312 70.194366 \r\nL 42.620312 70.746948 \r\nL 42.620312 71.299531 \r\nL 42.620312 71.852113 \r\nL 42.620312 72.404695 \r\nL 42.620312 72.957277 \r\nL 42.620312 73.509859 \r\nL 42.620312 74.062441 \r\nL 42.620312 74.615023 \r\nL 42.620312 75.167606 \r\nL 42.620312 75.720188 \r\nL 42.620312 76.27277 \r\nL 42.620312 76.825352 \r\nL 42.620312 77.377934 \r\nL 42.620312 77.930516 \r\nL 42.620312 78.483099 \r\nL 42.620312 79.035681 \r\nL 42.620312 79.588263 \r\nL 42.620312 80.140845 \r\nL 42.620312 80.693427 \r\nL 42.620312 81.246009 \r\nL 42.620312 81.798592 \r\nL 42.620312 82.351174 \r\nL 42.620312 82.903756 \r\nL 42.620312 83.456338 \r\nL 42.620312 84.00892 \r\nL 42.620312 84.561502 \r\nL 42.620312 85.114085 \r\nL 42.620312 85.666667 \r\nL 42.620312 86.219249 \r\nL 42.620312 86.771831 \r\nL 42.620312 87.324413 \r\nL 42.620312 87.876995 \r\nL 42.620312 88.429577 \r\nL 42.620312 88.98216 \r\nL 42.620312 89.534742 \r\nL 42.620312 90.087324 \r\nL 42.620312 90.639906 \r\nL 42.620312 91.192488 \r\nL 42.620312 91.74507 \r\nL 42.620312 92.297653 \r\nL 42.620312 92.850235 \r\nL 42.620312 93.402817 \r\nL 42.620312 93.955399 \r\nL 42.620312 94.507981 \r\nL 42.620312 95.060563 \r\nL 42.620312 95.613146 \r\nL 42.620312 96.165728 \r\nL 42.620312 96.71831 \r\nL 42.620312 97.270892 \r\nL 42.620312 97.823474 \r\nL 42.620312 98.376056 \r\nL 42.620312 98.928638 \r\nL 42.620312 99.481221 \r\nL 42.620312 100.033803 \r\nL 42.620312 100.586385 \r\nL 42.620312 101.138967 \r\nL 42.620312 101.691549 \r\nL 42.620312 102.244131 \r\nL 42.620312 102.796714 \r\nL 42.620312 103.349296 \r\nL 42.620312 103.901878 \r\nL 42.620312 104.45446 \r\nL 42.620312 105.007042 \r\nL 42.620312 105.559624 \r\nL 42.620312 106.112207 \r\nL 42.620312 106.664789 \r\nL 42.620312 107.217371 \r\nL 42.620312 107.769953 \r\nL 42.620312 108.322535 \r\nL 42.620312 108.875117 \r\nL 42.620312 109.4277 \r\nL 42.620312 109.980282 \r\nL 42.620312 110.532864 \r\nL 42.620312 111.085446 \r\nL 42.620312 111.638028 \r\nL 42.620312 112.19061 \r\nL 42.620312 112.743192 \r\nL 42.620312 113.295775 \r\nL 42.620312 113.848357 \r\nL 42.620312 114.400939 \r\nL 42.620312 114.953521 \r\nL 42.620312 115.506103 \r\nL 42.620312 116.058685 \r\nL 42.620312 116.611268 \r\nL 42.620312 117.16385 \r\nL 42.620312 117.716432 \r\nL 42.620312 118.269014 \r\nL 42.620312 118.821596 \r\nL 42.620312 119.374178 \r\nL 42.620312 119.926761 \r\nL 42.620312 120.479343 \r\nL 42.620312 121.031925 \r\nL 42.620312 121.584507 \r\nL 42.620312 122.137089 \r\nL 42.620312 122.689671 \r\nL 42.620312 123.242254 \r\nL 42.620312 123.794836 \r\nL 42.620312 124.347418 \r\nL 42.620312 124.9 \r\nL 42.620312 125.452582 \r\nL 42.620312 126.005164 \r\nL 42.620312 126.557746 \r\nL 42.620312 127.110329 \r\nL 42.620312 127.662911 \r\nL 42.620312 128.215493 \r\nL 42.620312 128.768075 \r\nL 42.620312 129.320657 \r\nL 42.620312 129.873239 \r\nL 42.620312 130.425822 \r\nL 42.620312 130.978404 \r\nL 42.620312 131.530986 \r\nL 42.620312 132.083568 \r\nL 42.620312 132.63615 \r\nL 42.620312 133.188732 \r\nL 42.620312 133.741315 \r\nL 42.620312 134.293897 \r\nL 42.620312 134.846479 \r\nL 42.620312 135.399061 \r\nL 42.620312 135.951643 \r\nL 42.620312 136.504225 \r\nL 42.620312 137.056808 \r\nL 42.620312 137.60939 \r\nL 42.620312 138.161972 \r\nL 42.620312 138.714554 \r\nL 42.620312 139.267136 \r\nL 42.620312 139.819718 \r\nL 42.620312 140.3723 \r\nL 42.620312 140.924883 \r\nL 42.620312 141.477465 \r\nL 42.620312 142.030047 \r\nL 42.620312 142.582629 \r\nL 42.620312 143.135211 \r\nL 42.620312 143.687793 \r\nL 42.620312 144.240376 \r\nL 42.620312 144.792958 \r\nL 42.620312 145.34554 \r\nL 42.620312 145.898122 \r\nL 42.620312 146.450704 \r\nL 42.620312 147.003286 \r\nL 42.620312 147.555869 \r\nL 42.620312 148.108451 \r\nL 42.620312 148.661033 \r\nL 42.620312 149.213615 \r\nL 42.620312 149.766197 \r\nL 42.620312 150.318779 \r\nL 42.620312 150.871362 \r\nL 42.620312 151.423944 \r\nL 42.620312 151.976526 \r\nL 42.620312 152.529108 \r\nL 42.620312 153.08169 \r\nL 42.620312 153.634272 \r\nL 42.620312 154.186854 \r\nL 42.620312 154.739437 \r\nL 42.620312 155.292019 \r\nL 42.620312 155.844601 \r\nL 42.620312 156.397183 \r\nL 42.620312 156.949765 \r\nL 42.620312 157.502347 \r\nL 42.620312 158.05493 \r\nL 42.620312 158.607512 \r\nL 42.620312 159.160094 \r\nL 42.620312 159.712676 \r\nL 42.620312 160.265258 \r\nL 42.620312 160.81784 \r\nL 42.620312 161.370423 \r\nL 42.620312 161.923005 \r\nL 42.620312 162.475587 \r\nL 42.620312 163.028169 \r\nL 42.620312 163.580751 \r\nL 42.620312 164.133333 \r\nL 42.620312 164.685915 \r\nL 42.620312 165.238498 \r\nL 42.620312 165.79108 \r\nL 42.620312 166.343662 \r\nL 42.620312 166.896244 \r\nL 42.620312 167.448826 \r\nL 42.620312 167.586972 \r\nz\r\n\" style=\"fill:#ff0000;fill-opacity:0.4;\"/>\r\n   </g>\r\n   <g id=\"PathCollection_2\">\r\n    <path clip-path=\"url(#p55578fd002)\" d=\"M 43.331223 167.725117 \r\nL 43.686679 167.448826 \r\nL 44.042134 167.172535 \r\nL 44.753045 167.172535 \r\nL 45.463956 167.172535 \r\nL 45.819411 166.896244 \r\nL 46.174867 166.619953 \r\nL 46.885777 166.619953 \r\nL 47.596688 166.619953 \r\nL 48.307599 166.619953 \r\nL 48.663054 166.343662 \r\nL 49.01851 166.067371 \r\nL 49.729421 166.067371 \r\nL 50.440331 166.067371 \r\nL 50.795787 165.79108 \r\nL 51.151242 165.514789 \r\nL 51.862153 165.514789 \r\nL 52.573064 165.514789 \r\nL 52.928519 165.238498 \r\nL 53.283975 164.962207 \r\nL 53.994886 164.962207 \r\nL 54.705796 164.962207 \r\nL 55.061252 164.685915 \r\nL 55.416707 164.409624 \r\nL 56.127618 164.409624 \r\nL 56.838529 164.409624 \r\nL 57.193984 164.133333 \r\nL 57.54944 163.857042 \r\nL 58.26035 163.857042 \r\nL 58.971261 163.857042 \r\nL 59.326717 163.580751 \r\nL 59.682172 163.30446 \r\nL 60.393083 163.30446 \r\nL 61.103994 163.30446 \r\nL 61.459449 163.028169 \r\nL 61.814905 162.751878 \r\nL 62.525815 162.751878 \r\nL 63.236726 162.751878 \r\nL 63.947637 162.751878 \r\nL 64.303092 162.475587 \r\nL 64.658548 162.199296 \r\nL 65.369459 162.199296 \r\nL 66.080369 162.199296 \r\nL 66.435825 161.923005 \r\nL 66.79128 161.646714 \r\nL 67.502191 161.646714 \r\nL 68.213102 161.646714 \r\nL 68.568557 161.370423 \r\nL 68.924013 161.094131 \r\nL 69.634924 161.094131 \r\nL 70.345834 161.094131 \r\nL 70.70129 160.81784 \r\nL 71.056745 160.541549 \r\nL 71.767656 160.541549 \r\nL 72.478567 160.541549 \r\nL 72.834022 160.265258 \r\nL 73.189478 159.988967 \r\nL 73.900388 159.988967 \r\nL 74.611299 159.988967 \r\nL 74.966755 159.712676 \r\nL 75.32221 159.436385 \r\nL 76.033121 159.436385 \r\nL 76.744032 159.436385 \r\nL 77.099487 159.160094 \r\nL 77.454942 158.883803 \r\nL 78.165853 158.883803 \r\nL 78.876764 158.883803 \r\nL 79.587675 158.883803 \r\nL 79.94313 158.607512 \r\nL 80.298586 158.331221 \r\nL 81.009497 158.331221 \r\nL 81.720407 158.331221 \r\nL 82.075863 158.05493 \r\nL 82.431318 157.778638 \r\nL 83.142229 157.778638 \r\nL 83.85314 157.778638 \r\nL 84.208595 157.502347 \r\nL 84.564051 157.226056 \r\nL 85.274961 157.226056 \r\nL 85.985872 157.226056 \r\nL 86.341328 156.949765 \r\nL 86.696783 156.673474 \r\nL 87.407694 156.673474 \r\nL 88.118605 156.673474 \r\nL 88.47406 156.397183 \r\nL 88.829516 156.120892 \r\nL 89.540426 156.120892 \r\nL 90.251337 156.120892 \r\nL 90.606793 155.844601 \r\nL 90.962248 155.56831 \r\nL 91.673159 155.56831 \r\nL 92.38407 155.56831 \r\nL 92.739525 155.292019 \r\nL 93.09498 155.015728 \r\nL 93.805891 155.015728 \r\nL 94.516802 155.015728 \r\nL 95.227713 155.015728 \r\nL 95.583168 154.739437 \r\nL 95.938624 154.463146 \r\nL 96.649535 154.463146 \r\nL 97.360445 154.463146 \r\nL 97.715901 154.186854 \r\nL 98.071356 153.910563 \r\nL 98.782267 153.910563 \r\nL 99.493178 153.910563 \r\nL 99.848633 153.634272 \r\nL 100.204089 153.357981 \r\nL 100.914999 153.357981 \r\nL 101.62591 153.357981 \r\nL 101.981366 153.08169 \r\nL 102.336821 152.805399 \r\nL 103.047732 152.805399 \r\nL 103.758643 152.805399 \r\nL 104.114098 152.529108 \r\nL 104.469553 152.252817 \r\nL 105.180464 152.252817 \r\nL 105.891375 152.252817 \r\nL 106.246831 151.976526 \r\nL 106.602286 151.700235 \r\nL 107.313197 151.700235 \r\nL 108.024108 151.700235 \r\nL 108.379563 151.423944 \r\nL 108.735018 151.147653 \r\nL 109.445929 151.147653 \r\nL 110.15684 151.147653 \r\nL 110.867751 151.147653 \r\nL 111.223206 150.871362 \r\nL 111.578662 150.59507 \r\nL 112.289572 150.59507 \r\nL 113.000483 150.59507 \r\nL 113.355939 150.318779 \r\nL 113.711394 150.042488 \r\nL 114.422305 150.042488 \r\nL 115.133216 150.042488 \r\nL 115.488671 149.766197 \r\nL 115.844127 149.489906 \r\nL 116.555037 149.489906 \r\nL 117.265948 149.489906 \r\nL 117.621404 149.213615 \r\nL 117.976859 148.937324 \r\nL 118.68777 148.937324 \r\nL 119.398681 148.937324 \r\nL 119.754136 148.661033 \r\nL 120.109591 148.384742 \r\nL 120.820502 148.384742 \r\nL 121.531413 148.384742 \r\nL 121.886868 148.108451 \r\nL 122.242324 147.83216 \r\nL 122.953235 147.83216 \r\nL 123.664146 147.83216 \r\nL 124.019601 147.555869 \r\nL 124.375056 147.279577 \r\nL 125.085967 147.279577 \r\nL 125.796878 147.279577 \r\nL 126.507789 147.279577 \r\nL 126.863244 147.003286 \r\nL 127.2187 146.726995 \r\nL 127.92961 146.726995 \r\nL 128.640521 146.726995 \r\nL 128.995977 146.450704 \r\nL 129.351432 146.174413 \r\nL 130.062343 146.174413 \r\nL 130.773254 146.174413 \r\nL 131.128709 145.898122 \r\nL 131.484164 145.621831 \r\nL 132.195075 145.621831 \r\nL 132.905986 145.621831 \r\nL 133.261442 145.34554 \r\nL 133.616897 145.069249 \r\nL 134.327808 145.069249 \r\nL 135.038719 145.069249 \r\nL 135.394174 144.792958 \r\nL 135.749629 144.516667 \r\nL 136.46054 144.516667 \r\nL 137.171451 144.516667 \r\nL 137.526906 144.240376 \r\nL 137.882362 143.964085 \r\nL 138.593273 143.964085 \r\nL 139.304183 143.964085 \r\nL 139.659639 143.687793 \r\nL 140.015094 143.411502 \r\nL 140.726005 143.411502 \r\nL 141.436916 143.411502 \r\nL 142.147827 143.411502 \r\nL 142.503282 143.135211 \r\nL 142.858738 142.85892 \r\nL 143.569648 142.85892 \r\nL 144.280559 142.85892 \r\nL 144.636015 142.582629 \r\nL 144.99147 142.306338 \r\nL 145.702381 142.306338 \r\nL 146.413292 142.306338 \r\nL 146.768747 142.030047 \r\nL 147.124202 141.753756 \r\nL 147.835113 141.753756 \r\nL 148.546024 141.753756 \r\nL 148.901479 141.477465 \r\nL 149.256935 141.201174 \r\nL 149.967846 141.201174 \r\nL 150.678757 141.201174 \r\nL 151.034212 140.924883 \r\nL 151.389667 140.648592 \r\nL 152.100578 140.648592 \r\nL 152.811489 140.648592 \r\nL 153.166944 140.3723 \r\nL 153.5224 140.096009 \r\nL 154.233311 140.096009 \r\nL 154.944221 140.096009 \r\nL 155.299677 139.819718 \r\nL 155.655132 139.543427 \r\nL 156.366043 139.543427 \r\nL 157.076954 139.543427 \r\nL 157.787865 139.543427 \r\nL 158.14332 139.267136 \r\nL 158.498775 138.990845 \r\nL 159.209686 138.990845 \r\nL 159.920597 138.990845 \r\nL 160.276053 138.714554 \r\nL 160.631508 138.438263 \r\nL 161.342419 138.438263 \r\nL 162.05333 138.438263 \r\nL 162.408785 138.161972 \r\nL 162.76424 137.885681 \r\nL 163.475151 137.885681 \r\nL 164.186062 137.885681 \r\nL 164.541517 137.60939 \r\nL 164.896973 137.333099 \r\nL 165.607884 137.333099 \r\nL 166.318794 137.333099 \r\nL 166.67425 137.056808 \r\nL 167.029705 136.780516 \r\nL 167.740616 136.780516 \r\nL 168.451527 136.780516 \r\nL 168.806982 136.504225 \r\nL 169.162438 136.227934 \r\nL 169.873349 136.227934 \r\nL 170.584259 136.227934 \r\nL 170.939715 135.951643 \r\nL 171.29517 135.675352 \r\nL 172.006081 135.675352 \r\nL 172.716992 135.675352 \r\nL 173.427903 135.675352 \r\nL 173.783358 135.399061 \r\nL 174.138813 135.12277 \r\nL 174.849724 135.12277 \r\nL 175.560635 135.12277 \r\nL 175.91609 134.846479 \r\nL 176.271546 134.570188 \r\nL 176.982457 134.570188 \r\nL 177.693368 134.570188 \r\nL 178.048823 134.293897 \r\nL 178.404278 134.017606 \r\nL 179.115189 134.017606 \r\nL 179.8261 134.017606 \r\nL 180.181555 133.741315 \r\nL 180.537011 133.465023 \r\nL 181.247922 133.465023 \r\nL 181.958832 133.465023 \r\nL 182.314288 133.188732 \r\nL 182.669743 132.912441 \r\nL 183.380654 132.912441 \r\nL 184.091565 132.912441 \r\nL 184.44702 132.63615 \r\nL 184.802476 132.359859 \r\nL 185.513387 132.359859 \r\nL 186.224297 132.359859 \r\nL 186.579753 132.083568 \r\nL 186.935208 131.807277 \r\nL 187.646119 131.807277 \r\nL 188.35703 131.807277 \r\nL 189.067941 131.807277 \r\nL 189.423396 131.530986 \r\nL 189.778851 131.254695 \r\nL 190.489762 131.254695 \r\nL 191.200673 131.254695 \r\nL 191.556128 130.978404 \r\nL 191.911584 130.702113 \r\nL 192.622495 130.702113 \r\nL 193.333405 130.702113 \r\nL 193.688861 130.425822 \r\nL 194.044316 130.149531 \r\nL 194.755227 130.149531 \r\nL 195.466138 130.149531 \r\nL 195.821593 129.873239 \r\nL 196.177049 129.596948 \r\nL 196.88796 129.596948 \r\nL 197.59887 129.596948 \r\nL 197.954326 129.320657 \r\nL 198.309781 129.044366 \r\nL 199.020692 129.044366 \r\nL 199.731603 129.044366 \r\nL 200.087058 128.768075 \r\nL 200.442514 128.491784 \r\nL 201.153424 128.491784 \r\nL 201.864335 128.491784 \r\nL 202.219791 128.215493 \r\nL 202.575246 127.939202 \r\nL 203.286157 127.939202 \r\nL 203.997068 127.939202 \r\nL 204.707979 127.939202 \r\nL 205.063434 127.662911 \r\nL 205.418889 127.38662 \r\nL 206.1298 127.38662 \r\nL 206.840711 127.38662 \r\nL 207.196166 127.110329 \r\nL 207.551622 126.834038 \r\nL 208.262533 126.834038 \r\nL 208.973443 126.834038 \r\nL 209.328899 126.557746 \r\nL 209.684354 126.281455 \r\nL 210.395265 126.281455 \r\nL 211.106176 126.281455 \r\nL 211.461631 126.005164 \r\nL 211.817087 125.728873 \r\nL 212.527998 125.728873 \r\nL 213.238908 125.728873 \r\nL 213.594364 125.452582 \r\nL 213.949819 125.176291 \r\nL 214.66073 125.176291 \r\nL 215.371641 125.176291 \r\nL 215.727096 124.9 \r\nL 216.082552 124.623709 \r\nL 216.793462 124.623709 \r\nL 217.504373 124.623709 \r\nL 217.859829 124.347418 \r\nL 218.215284 124.071127 \r\nL 218.926195 124.071127 \r\nL 219.637106 124.071127 \r\nL 220.348016 124.071127 \r\nL 220.703472 123.794836 \r\nL 221.058927 123.518545 \r\nL 221.769838 123.518545 \r\nL 222.480749 123.518545 \r\nL 222.836204 123.242254 \r\nL 223.19166 122.965962 \r\nL 223.902571 122.965962 \r\nL 224.613481 122.965962 \r\nL 224.968937 122.689671 \r\nL 225.324392 122.41338 \r\nL 226.035303 122.41338 \r\nL 226.746214 122.41338 \r\nL 227.101669 122.137089 \r\nL 227.457125 121.860798 \r\nL 228.168035 121.860798 \r\nL 228.878946 121.860798 \r\nL 229.234402 121.584507 \r\nL 229.589857 121.308216 \r\nL 230.300768 121.308216 \r\nL 231.011679 121.308216 \r\nL 231.367134 121.031925 \r\nL 231.72259 120.755634 \r\nL 232.4335 120.755634 \r\nL 233.144411 120.755634 \r\nL 233.499867 120.479343 \r\nL 233.855322 120.203052 \r\nL 234.566233 120.203052 \r\nL 235.277144 120.203052 \r\nL 235.988054 120.203052 \r\nL 236.34351 119.926761 \r\nL 236.698965 119.650469 \r\nL 237.409876 119.650469 \r\nL 238.120787 119.650469 \r\nL 238.476242 119.374178 \r\nL 238.831698 119.097887 \r\nL 239.542609 119.097887 \r\nL 240.253519 119.097887 \r\nL 240.608975 118.821596 \r\nL 240.96443 118.545305 \r\nL 241.675341 118.545305 \r\nL 242.386252 118.545305 \r\nL 242.741707 118.269014 \r\nL 243.097163 117.992723 \r\nL 243.808073 117.992723 \r\nL 244.518984 117.992723 \r\nL 244.87444 117.716432 \r\nL 245.229895 117.440141 \r\nL 245.940806 117.440141 \r\nL 246.651717 117.440141 \r\nL 247.007172 117.16385 \r\nL 247.362627 116.887559 \r\nL 248.073538 116.887559 \r\nL 248.784449 116.887559 \r\nL 249.139905 116.611268 \r\nL 249.49536 116.334977 \r\nL 250.206271 116.334977 \r\nL 250.383998 116.058685 \r\nL 250.383998 115.506103 \r\nL 250.206271 115.367958 \r\nL 249.673088 114.953521 \r\nL 249.673088 114.400939 \r\nL 249.673088 113.848357 \r\nL 249.673088 113.295775 \r\nL 249.673088 112.743192 \r\nL 249.673088 112.19061 \r\nL 249.49536 112.052465 \r\nL 248.962177 111.638028 \r\nL 248.962177 111.085446 \r\nL 248.962177 110.532864 \r\nL 248.962177 109.980282 \r\nL 248.962177 109.4277 \r\nL 248.962177 108.875117 \r\nL 248.962177 108.322535 \r\nL 248.784449 108.18439 \r\nL 248.251266 107.769953 \r\nL 248.251266 107.217371 \r\nL 248.251266 106.664789 \r\nL 248.251266 106.112207 \r\nL 248.251266 105.559624 \r\nL 248.251266 105.007042 \r\nL 248.073538 104.868897 \r\nL 247.540355 104.45446 \r\nL 247.540355 103.901878 \r\nL 247.540355 103.349296 \r\nL 247.540355 102.796714 \r\nL 247.540355 102.244131 \r\nL 247.540355 101.691549 \r\nL 247.540355 101.138967 \r\nL 247.362627 101.000822 \r\nL 246.829444 100.586385 \r\nL 246.829444 100.033803 \r\nL 246.829444 99.481221 \r\nL 246.829444 98.928638 \r\nL 246.829444 98.376056 \r\nL 246.829444 97.823474 \r\nL 246.651717 97.685329 \r\nL 246.118534 97.270892 \r\nL 246.118534 96.71831 \r\nL 246.118534 96.165728 \r\nL 246.118534 95.613146 \r\nL 246.118534 95.060563 \r\nL 246.118534 94.507981 \r\nL 246.118534 93.955399 \r\nL 245.940806 93.817254 \r\nL 245.407623 93.402817 \r\nL 245.407623 92.850235 \r\nL 245.407623 92.297653 \r\nL 245.407623 91.74507 \r\nL 245.407623 91.192488 \r\nL 245.407623 90.639906 \r\nL 245.229895 90.501761 \r\nL 244.696712 90.087324 \r\nL 244.696712 89.534742 \r\nL 244.696712 88.98216 \r\nL 244.696712 88.429577 \r\nL 244.696712 87.876995 \r\nL 244.696712 87.324413 \r\nL 244.696712 86.771831 \r\nL 244.518984 86.633685 \r\nL 243.985801 86.219249 \r\nL 243.985801 85.666667 \r\nL 243.985801 85.114085 \r\nL 243.985801 84.561502 \r\nL 243.985801 84.00892 \r\nL 243.985801 83.456338 \r\nL 243.808073 83.318192 \r\nL 243.27489 82.903756 \r\nL 243.27489 82.351174 \r\nL 243.27489 81.798592 \r\nL 243.27489 81.246009 \r\nL 243.27489 80.693427 \r\nL 243.27489 80.140845 \r\nL 243.27489 79.588263 \r\nL 243.097163 79.450117 \r\nL 242.563979 79.035681 \r\nL 242.563979 78.483099 \r\nL 242.563979 77.930516 \r\nL 242.563979 77.377934 \r\nL 242.563979 76.825352 \r\nL 242.563979 76.27277 \r\nL 242.386252 76.134624 \r\nL 241.853069 75.720188 \r\nL 241.853069 75.167606 \r\nL 241.853069 74.615023 \r\nL 241.853069 74.062441 \r\nL 241.853069 73.509859 \r\nL 241.853069 72.957277 \r\nL 241.853069 72.404695 \r\nL 241.675341 72.266549 \r\nL 241.142158 71.852113 \r\nL 241.142158 71.299531 \r\nL 241.142158 70.746948 \r\nL 241.142158 70.194366 \r\nL 241.142158 69.641784 \r\nL 241.142158 69.089202 \r\nL 240.96443 68.951056 \r\nL 240.431247 68.53662 \r\nL 240.431247 67.984038 \r\nL 240.431247 67.431455 \r\nL 240.431247 66.878873 \r\nL 240.431247 66.326291 \r\nL 240.431247 65.773709 \r\nL 240.431247 65.221127 \r\nL 240.253519 65.082981 \r\nL 239.720336 64.668545 \r\nL 239.720336 64.115962 \r\nL 239.720336 63.56338 \r\nL 239.720336 63.010798 \r\nL 239.720336 62.458216 \r\nL 239.720336 61.905634 \r\nL 239.542609 61.767488 \r\nL 239.009425 61.353052 \r\nL 239.009425 60.800469 \r\nL 239.009425 60.247887 \r\nL 239.009425 59.695305 \r\nL 239.009425 59.142723 \r\nL 239.009425 58.590141 \r\nL 239.009425 58.037559 \r\nL 238.831698 57.899413 \r\nL 238.298515 57.484977 \r\nL 238.298515 56.932394 \r\nL 238.298515 56.379812 \r\nL 238.298515 55.82723 \r\nL 238.298515 55.274648 \r\nL 238.298515 54.722066 \r\nL 238.120787 54.58392 \r\nL 237.587604 54.169484 \r\nL 237.587604 53.616901 \r\nL 237.587604 53.064319 \r\nL 237.587604 52.511737 \r\nL 237.587604 51.959155 \r\nL 237.587604 51.406573 \r\nL 237.587604 50.853991 \r\nL 237.409876 50.715845 \r\nL 236.876693 50.301408 \r\nL 236.876693 49.748826 \r\nL 236.876693 49.196244 \r\nL 236.876693 48.643662 \r\nL 236.876693 48.09108 \r\nL 236.876693 47.538498 \r\nL 236.698965 47.400352 \r\nL 236.165782 46.985915 \r\nL 236.165782 46.433333 \r\nL 236.165782 45.880751 \r\nL 236.165782 45.328169 \r\nL 236.165782 44.775587 \r\nL 236.165782 44.223005 \r\nL 236.165782 43.670423 \r\nL 235.988054 43.532277 \r\nL 235.454871 43.11784 \r\nL 235.454871 42.565258 \r\nL 235.454871 42.012676 \r\nL 235.454871 41.460094 \r\nL 235.454871 40.907512 \r\nL 235.454871 40.35493 \r\nL 235.277144 40.216784 \r\nL 234.743961 39.802347 \r\nL 234.743961 39.249765 \r\nL 234.743961 38.697183 \r\nL 234.743961 38.144601 \r\nL 234.743961 37.592019 \r\nL 234.743961 37.039437 \r\nL 234.743961 36.486854 \r\nL 234.566233 36.348709 \r\nL 234.03305 35.934272 \r\nL 234.03305 35.38169 \r\nL 234.03305 34.829108 \r\nL 234.03305 34.276526 \r\nL 234.03305 33.723944 \r\nL 234.03305 33.171362 \r\nL 233.855322 33.033216 \r\nL 233.322139 32.618779 \r\nL 233.322139 32.066197 \r\nL 233.322139 31.513615 \r\nL 233.322139 30.961033 \r\nL 233.322139 30.408451 \r\nL 233.322139 29.855869 \r\nL 233.322139 29.303286 \r\nL 233.144411 29.165141 \r\nL 232.611228 28.750704 \r\nL 232.611228 28.198122 \r\nL 232.611228 27.64554 \r\nL 232.611228 27.092958 \r\nL 232.611228 26.540376 \r\nL 232.611228 25.987793 \r\nL 232.4335 25.849648 \r\nL 231.900317 25.435211 \r\nL 231.900317 24.882629 \r\nL 231.900317 24.330047 \r\nL 231.900317 23.777465 \r\nL 231.900317 23.224883 \r\nL 231.900317 22.6723 \r\nL 231.72259 22.534155 \r\nL 231.189406 22.119718 \r\nL 231.189406 21.567136 \r\nL 231.189406 21.014554 \r\nL 231.189406 20.461972 \r\nL 231.189406 19.90939 \r\nL 231.189406 19.356808 \r\nL 231.189406 18.804225 \r\nL 231.011679 18.66608 \r\nL 230.478496 18.251643 \r\nL 230.478496 17.699061 \r\nL 230.478496 17.146479 \r\nL 230.478496 16.593897 \r\nL 230.478496 16.041315 \r\nL 230.478496 15.488732 \r\nL 230.300768 15.350587 \r\nL 229.767585 14.93615 \r\nL 229.767585 14.383568 \r\nL 229.767585 13.830986 \r\nL 229.767585 13.278404 \r\nL 229.767585 12.725822 \r\nL 229.767585 12.173239 \r\nL 229.767585 11.620657 \r\nL 229.589857 11.482512 \r\nL 229.056674 11.068075 \r\nL 229.056674 10.515493 \r\nL 229.056674 9.962911 \r\nL 229.056674 9.410329 \r\nL 229.056674 8.857746 \r\nL 229.056674 8.305164 \r\nL 228.878946 8.167019 \r\nL 228.345763 7.752582 \r\nL 228.345763 7.2 \r\nL 228.256899 7.2 \r\nL 228.256899 7.752582 \r\nL 228.878946 8.236092 \r\nL 228.96781 8.305164 \r\nL 228.96781 8.857746 \r\nL 228.96781 9.410329 \r\nL 228.96781 9.962911 \r\nL 228.96781 10.515493 \r\nL 228.96781 11.068075 \r\nL 229.589857 11.551585 \r\nL 229.678721 11.620657 \r\nL 229.678721 12.173239 \r\nL 229.678721 12.725822 \r\nL 229.678721 13.278404 \r\nL 229.678721 13.830986 \r\nL 229.678721 14.383568 \r\nL 229.678721 14.93615 \r\nL 230.300768 15.41966 \r\nL 230.389632 15.488732 \r\nL 230.389632 16.041315 \r\nL 230.389632 16.593897 \r\nL 230.389632 17.146479 \r\nL 230.389632 17.699061 \r\nL 230.389632 18.251643 \r\nL 231.011679 18.735153 \r\nL 231.100543 18.804225 \r\nL 231.100543 19.356808 \r\nL 231.100543 19.90939 \r\nL 231.100543 20.461972 \r\nL 231.100543 21.014554 \r\nL 231.100543 21.567136 \r\nL 231.100543 22.119718 \r\nL 231.72259 22.603228 \r\nL 231.811453 22.6723 \r\nL 231.811453 23.224883 \r\nL 231.811453 23.777465 \r\nL 231.811453 24.330047 \r\nL 231.811453 24.882629 \r\nL 231.811453 25.435211 \r\nL 232.4335 25.918721 \r\nL 232.522364 25.987793 \r\nL 232.522364 26.540376 \r\nL 232.522364 27.092958 \r\nL 232.522364 27.64554 \r\nL 232.522364 28.198122 \r\nL 232.522364 28.750704 \r\nL 233.144411 29.234214 \r\nL 233.233275 29.303286 \r\nL 233.233275 29.855869 \r\nL 233.233275 30.408451 \r\nL 233.233275 30.961033 \r\nL 233.233275 31.513615 \r\nL 233.233275 32.066197 \r\nL 233.233275 32.618779 \r\nL 233.855322 33.102289 \r\nL 233.944186 33.171362 \r\nL 233.944186 33.723944 \r\nL 233.944186 34.276526 \r\nL 233.944186 34.829108 \r\nL 233.944186 35.38169 \r\nL 233.944186 35.934272 \r\nL 234.566233 36.417782 \r\nL 234.655097 36.486854 \r\nL 234.655097 37.039437 \r\nL 234.655097 37.592019 \r\nL 234.655097 38.144601 \r\nL 234.655097 38.697183 \r\nL 234.655097 39.249765 \r\nL 234.655097 39.802347 \r\nL 235.277144 40.285857 \r\nL 235.366007 40.35493 \r\nL 235.366007 40.907512 \r\nL 235.366007 41.460094 \r\nL 235.366007 42.012676 \r\nL 235.366007 42.565258 \r\nL 235.366007 43.11784 \r\nL 235.988054 43.60135 \r\nL 236.076918 43.670423 \r\nL 236.076918 44.223005 \r\nL 236.076918 44.775587 \r\nL 236.076918 45.328169 \r\nL 236.076918 45.880751 \r\nL 236.076918 46.433333 \r\nL 236.076918 46.985915 \r\nL 236.698965 47.469425 \r\nL 236.787829 47.538498 \r\nL 236.787829 48.09108 \r\nL 236.787829 48.643662 \r\nL 236.787829 49.196244 \r\nL 236.787829 49.748826 \r\nL 236.787829 50.301408 \r\nL 237.409876 50.784918 \r\nL 237.49874 50.853991 \r\nL 237.49874 51.406573 \r\nL 237.49874 51.959155 \r\nL 237.49874 52.511737 \r\nL 237.49874 53.064319 \r\nL 237.49874 53.616901 \r\nL 237.49874 54.169484 \r\nL 238.120787 54.652993 \r\nL 238.209651 54.722066 \r\nL 238.209651 55.274648 \r\nL 238.209651 55.82723 \r\nL 238.209651 56.379812 \r\nL 238.209651 56.932394 \r\nL 238.209651 57.484977 \r\nL 238.831698 57.968486 \r\nL 238.920562 58.037559 \r\nL 238.920562 58.590141 \r\nL 238.920562 59.142723 \r\nL 238.920562 59.695305 \r\nL 238.920562 60.247887 \r\nL 238.920562 60.800469 \r\nL 238.920562 61.353052 \r\nL 239.542609 61.836561 \r\nL 239.631472 61.905634 \r\nL 239.631472 62.458216 \r\nL 239.631472 63.010798 \r\nL 239.631472 63.56338 \r\nL 239.631472 64.115962 \r\nL 239.631472 64.668545 \r\nL 240.253519 65.152054 \r\nL 240.342383 65.221127 \r\nL 240.342383 65.773709 \r\nL 240.342383 66.326291 \r\nL 240.342383 66.878873 \r\nL 240.342383 67.431455 \r\nL 240.342383 67.984038 \r\nL 240.342383 68.53662 \r\nL 240.96443 69.020129 \r\nL 241.053294 69.089202 \r\nL 241.053294 69.641784 \r\nL 241.053294 70.194366 \r\nL 241.053294 70.746948 \r\nL 241.053294 71.299531 \r\nL 241.053294 71.852113 \r\nL 241.675341 72.335622 \r\nL 241.764205 72.404695 \r\nL 241.764205 72.957277 \r\nL 241.764205 73.509859 \r\nL 241.764205 74.062441 \r\nL 241.764205 74.615023 \r\nL 241.764205 75.167606 \r\nL 241.764205 75.720188 \r\nL 242.386252 76.203697 \r\nL 242.475116 76.27277 \r\nL 242.475116 76.825352 \r\nL 242.475116 77.377934 \r\nL 242.475116 77.930516 \r\nL 242.475116 78.483099 \r\nL 242.475116 79.035681 \r\nL 243.097163 79.51919 \r\nL 243.186026 79.588263 \r\nL 243.186026 80.140845 \r\nL 243.186026 80.693427 \r\nL 243.186026 81.246009 \r\nL 243.186026 81.798592 \r\nL 243.186026 82.351174 \r\nL 243.186026 82.903756 \r\nL 243.808073 83.387265 \r\nL 243.896937 83.456338 \r\nL 243.896937 84.00892 \r\nL 243.896937 84.561502 \r\nL 243.896937 85.114085 \r\nL 243.896937 85.666667 \r\nL 243.896937 86.219249 \r\nL 244.518984 86.702758 \r\nL 244.607848 86.771831 \r\nL 244.607848 87.324413 \r\nL 244.607848 87.876995 \r\nL 244.607848 88.429577 \r\nL 244.607848 88.98216 \r\nL 244.607848 89.534742 \r\nL 244.607848 90.087324 \r\nL 245.229895 90.570833 \r\nL 245.318759 90.639906 \r\nL 245.318759 91.192488 \r\nL 245.318759 91.74507 \r\nL 245.318759 92.297653 \r\nL 245.318759 92.850235 \r\nL 245.318759 93.402817 \r\nL 245.940806 93.886326 \r\nL 246.02967 93.955399 \r\nL 246.02967 94.507981 \r\nL 246.02967 95.060563 \r\nL 246.02967 95.613146 \r\nL 246.02967 96.165728 \r\nL 246.02967 96.71831 \r\nL 246.02967 97.270892 \r\nL 246.651717 97.754401 \r\nL 246.740581 97.823474 \r\nL 246.740581 98.376056 \r\nL 246.740581 98.928638 \r\nL 246.740581 99.481221 \r\nL 246.740581 100.033803 \r\nL 246.740581 100.586385 \r\nL 247.362627 101.069894 \r\nL 247.451491 101.138967 \r\nL 247.451491 101.691549 \r\nL 247.451491 102.244131 \r\nL 247.451491 102.796714 \r\nL 247.451491 103.349296 \r\nL 247.451491 103.901878 \r\nL 247.451491 104.45446 \r\nL 248.073538 104.937969 \r\nL 248.162402 105.007042 \r\nL 248.162402 105.559624 \r\nL 248.162402 106.112207 \r\nL 248.162402 106.664789 \r\nL 248.162402 107.217371 \r\nL 248.162402 107.769953 \r\nL 248.784449 108.253462 \r\nL 248.873313 108.322535 \r\nL 248.873313 108.875117 \r\nL 248.873313 109.4277 \r\nL 248.873313 109.980282 \r\nL 248.873313 110.532864 \r\nL 248.873313 111.085446 \r\nL 248.873313 111.638028 \r\nL 249.49536 112.121538 \r\nL 249.584224 112.19061 \r\nL 249.584224 112.743192 \r\nL 249.584224 113.295775 \r\nL 249.584224 113.848357 \r\nL 249.584224 114.400939 \r\nL 249.584224 114.953521 \r\nL 250.206271 115.437031 \r\nL 250.295135 115.506103 \r\nL 250.295135 116.058685 \r\nL 250.206271 116.196831 \r\nL 249.49536 116.196831 \r\nL 248.962177 116.611268 \r\nL 248.784449 116.749413 \r\nL 248.073538 116.749413 \r\nL 247.362627 116.749413 \r\nL 246.829444 117.16385 \r\nL 246.651717 117.301995 \r\nL 245.940806 117.301995 \r\nL 245.229895 117.301995 \r\nL 244.696712 117.716432 \r\nL 244.518984 117.854577 \r\nL 243.808073 117.854577 \r\nL 243.097163 117.854577 \r\nL 242.563979 118.269014 \r\nL 242.386252 118.40716 \r\nL 241.675341 118.40716 \r\nL 240.96443 118.40716 \r\nL 240.431247 118.821596 \r\nL 240.253519 118.959742 \r\nL 239.542609 118.959742 \r\nL 238.831698 118.959742 \r\nL 238.298515 119.374178 \r\nL 238.120787 119.512324 \r\nL 237.409876 119.512324 \r\nL 236.698965 119.512324 \r\nL 236.165782 119.926761 \r\nL 235.988054 120.064906 \r\nL 235.277144 120.064906 \r\nL 234.566233 120.064906 \r\nL 233.855322 120.064906 \r\nL 233.322139 120.479343 \r\nL 233.144411 120.617488 \r\nL 232.4335 120.617488 \r\nL 231.72259 120.617488 \r\nL 231.189406 121.031925 \r\nL 231.011679 121.17007 \r\nL 230.300768 121.17007 \r\nL 229.589857 121.17007 \r\nL 229.056674 121.584507 \r\nL 228.878946 121.722653 \r\nL 228.168035 121.722653 \r\nL 227.457125 121.722653 \r\nL 226.923942 122.137089 \r\nL 226.746214 122.275235 \r\nL 226.035303 122.275235 \r\nL 225.324392 122.275235 \r\nL 224.791209 122.689671 \r\nL 224.613481 122.827817 \r\nL 223.902571 122.827817 \r\nL 223.19166 122.827817 \r\nL 222.658477 123.242254 \r\nL 222.480749 123.380399 \r\nL 221.769838 123.380399 \r\nL 221.058927 123.380399 \r\nL 220.525744 123.794836 \r\nL 220.348016 123.932981 \r\nL 219.637106 123.932981 \r\nL 218.926195 123.932981 \r\nL 218.215284 123.932981 \r\nL 217.682101 124.347418 \r\nL 217.504373 124.485563 \r\nL 216.793462 124.485563 \r\nL 216.082552 124.485563 \r\nL 215.549368 124.9 \r\nL 215.371641 125.038146 \r\nL 214.66073 125.038146 \r\nL 213.949819 125.038146 \r\nL 213.416636 125.452582 \r\nL 213.238908 125.590728 \r\nL 212.527998 125.590728 \r\nL 211.817087 125.590728 \r\nL 211.283904 126.005164 \r\nL 211.106176 126.14331 \r\nL 210.395265 126.14331 \r\nL 209.684354 126.14331 \r\nL 209.151171 126.557746 \r\nL 208.973443 126.695892 \r\nL 208.262533 126.695892 \r\nL 207.551622 126.695892 \r\nL 207.018439 127.110329 \r\nL 206.840711 127.248474 \r\nL 206.1298 127.248474 \r\nL 205.418889 127.248474 \r\nL 204.885706 127.662911 \r\nL 204.707979 127.801056 \r\nL 203.997068 127.801056 \r\nL 203.286157 127.801056 \r\nL 202.575246 127.801056 \r\nL 202.042063 128.215493 \r\nL 201.864335 128.353638 \r\nL 201.153424 128.353638 \r\nL 200.442514 128.353638 \r\nL 199.909331 128.768075 \r\nL 199.731603 128.906221 \r\nL 199.020692 128.906221 \r\nL 198.309781 128.906221 \r\nL 197.776598 129.320657 \r\nL 197.59887 129.458803 \r\nL 196.88796 129.458803 \r\nL 196.177049 129.458803 \r\nL 195.643866 129.873239 \r\nL 195.466138 130.011385 \r\nL 194.755227 130.011385 \r\nL 194.044316 130.011385 \r\nL 193.511133 130.425822 \r\nL 193.333405 130.563967 \r\nL 192.622495 130.563967 \r\nL 191.911584 130.563967 \r\nL 191.378401 130.978404 \r\nL 191.200673 131.116549 \r\nL 190.489762 131.116549 \r\nL 189.778851 131.116549 \r\nL 189.245668 131.530986 \r\nL 189.067941 131.669131 \r\nL 188.35703 131.669131 \r\nL 187.646119 131.669131 \r\nL 186.935208 131.669131 \r\nL 186.402025 132.083568 \r\nL 186.224297 132.221714 \r\nL 185.513387 132.221714 \r\nL 184.802476 132.221714 \r\nL 184.269293 132.63615 \r\nL 184.091565 132.774296 \r\nL 183.380654 132.774296 \r\nL 182.669743 132.774296 \r\nL 182.13656 133.188732 \r\nL 181.958832 133.326878 \r\nL 181.247922 133.326878 \r\nL 180.537011 133.326878 \r\nL 180.003828 133.741315 \r\nL 179.8261 133.87946 \r\nL 179.115189 133.87946 \r\nL 178.404278 133.87946 \r\nL 177.871095 134.293897 \r\nL 177.693368 134.432042 \r\nL 176.982457 134.432042 \r\nL 176.271546 134.432042 \r\nL 175.738363 134.846479 \r\nL 175.560635 134.984624 \r\nL 174.849724 134.984624 \r\nL 174.138813 134.984624 \r\nL 173.60563 135.399061 \r\nL 173.427903 135.537207 \r\nL 172.716992 135.537207 \r\nL 172.006081 135.537207 \r\nL 171.29517 135.537207 \r\nL 170.761987 135.951643 \r\nL 170.584259 136.089789 \r\nL 169.873349 136.089789 \r\nL 169.162438 136.089789 \r\nL 168.629255 136.504225 \r\nL 168.451527 136.642371 \r\nL 167.740616 136.642371 \r\nL 167.029705 136.642371 \r\nL 166.496522 137.056808 \r\nL 166.318794 137.194953 \r\nL 165.607884 137.194953 \r\nL 164.896973 137.194953 \r\nL 164.36379 137.60939 \r\nL 164.186062 137.747535 \r\nL 163.475151 137.747535 \r\nL 162.76424 137.747535 \r\nL 162.231057 138.161972 \r\nL 162.05333 138.300117 \r\nL 161.342419 138.300117 \r\nL 160.631508 138.300117 \r\nL 160.098325 138.714554 \r\nL 159.920597 138.8527 \r\nL 159.209686 138.8527 \r\nL 158.498775 138.8527 \r\nL 157.965592 139.267136 \r\nL 157.787865 139.405282 \r\nL 157.076954 139.405282 \r\nL 156.366043 139.405282 \r\nL 155.655132 139.405282 \r\nL 155.121949 139.819718 \r\nL 154.944221 139.957864 \r\nL 154.233311 139.957864 \r\nL 153.5224 139.957864 \r\nL 152.989217 140.3723 \r\nL 152.811489 140.510446 \r\nL 152.100578 140.510446 \r\nL 151.389667 140.510446 \r\nL 150.856484 140.924883 \r\nL 150.678757 141.063028 \r\nL 149.967846 141.063028 \r\nL 149.256935 141.063028 \r\nL 148.723752 141.477465 \r\nL 148.546024 141.61561 \r\nL 147.835113 141.61561 \r\nL 147.124202 141.61561 \r\nL 146.591019 142.030047 \r\nL 146.413292 142.168192 \r\nL 145.702381 142.168192 \r\nL 144.99147 142.168192 \r\nL 144.458287 142.582629 \r\nL 144.280559 142.720775 \r\nL 143.569648 142.720775 \r\nL 142.858738 142.720775 \r\nL 142.325554 143.135211 \r\nL 142.147827 143.273357 \r\nL 141.436916 143.273357 \r\nL 140.726005 143.273357 \r\nL 140.015094 143.273357 \r\nL 139.481911 143.687793 \r\nL 139.304183 143.825939 \r\nL 138.593273 143.825939 \r\nL 137.882362 143.825939 \r\nL 137.349179 144.240376 \r\nL 137.171451 144.378521 \r\nL 136.46054 144.378521 \r\nL 135.749629 144.378521 \r\nL 135.216446 144.792958 \r\nL 135.038719 144.931103 \r\nL 134.327808 144.931103 \r\nL 133.616897 144.931103 \r\nL 133.083714 145.34554 \r\nL 132.905986 145.483685 \r\nL 132.195075 145.483685 \r\nL 131.484164 145.483685 \r\nL 130.950981 145.898122 \r\nL 130.773254 146.036268 \r\nL 130.062343 146.036268 \r\nL 129.351432 146.036268 \r\nL 128.818249 146.450704 \r\nL 128.640521 146.58885 \r\nL 127.92961 146.58885 \r\nL 127.2187 146.58885 \r\nL 126.685516 147.003286 \r\nL 126.507789 147.141432 \r\nL 125.796878 147.141432 \r\nL 125.085967 147.141432 \r\nL 124.375056 147.141432 \r\nL 123.841873 147.555869 \r\nL 123.664146 147.694014 \r\nL 122.953235 147.694014 \r\nL 122.242324 147.694014 \r\nL 121.709141 148.108451 \r\nL 121.531413 148.246596 \r\nL 120.820502 148.246596 \r\nL 120.109591 148.246596 \r\nL 119.576408 148.661033 \r\nL 119.398681 148.799178 \r\nL 118.68777 148.799178 \r\nL 117.976859 148.799178 \r\nL 117.443676 149.213615 \r\nL 117.265948 149.351761 \r\nL 116.555037 149.351761 \r\nL 115.844127 149.351761 \r\nL 115.310943 149.766197 \r\nL 115.133216 149.904343 \r\nL 114.422305 149.904343 \r\nL 113.711394 149.904343 \r\nL 113.178211 150.318779 \r\nL 113.000483 150.456925 \r\nL 112.289572 150.456925 \r\nL 111.578662 150.456925 \r\nL 111.045479 150.871362 \r\nL 110.867751 151.009507 \r\nL 110.15684 151.009507 \r\nL 109.445929 151.009507 \r\nL 108.735018 151.009507 \r\nL 108.201835 151.423944 \r\nL 108.024108 151.562089 \r\nL 107.313197 151.562089 \r\nL 106.602286 151.562089 \r\nL 106.069103 151.976526 \r\nL 105.891375 152.114671 \r\nL 105.180464 152.114671 \r\nL 104.469553 152.114671 \r\nL 103.93637 152.529108 \r\nL 103.758643 152.667254 \r\nL 103.047732 152.667254 \r\nL 102.336821 152.667254 \r\nL 101.803638 153.08169 \r\nL 101.62591 153.219836 \r\nL 100.914999 153.219836 \r\nL 100.204089 153.219836 \r\nL 99.670905 153.634272 \r\nL 99.493178 153.772418 \r\nL 98.782267 153.772418 \r\nL 98.071356 153.772418 \r\nL 97.538173 154.186854 \r\nL 97.360445 154.325 \r\nL 96.649535 154.325 \r\nL 95.938624 154.325 \r\nL 95.405441 154.739437 \r\nL 95.227713 154.877582 \r\nL 94.516802 154.877582 \r\nL 93.805891 154.877582 \r\nL 93.09498 154.877582 \r\nL 92.561797 155.292019 \r\nL 92.38407 155.430164 \r\nL 91.673159 155.430164 \r\nL 90.962248 155.430164 \r\nL 90.429065 155.844601 \r\nL 90.251337 155.982746 \r\nL 89.540426 155.982746 \r\nL 88.829516 155.982746 \r\nL 88.296332 156.397183 \r\nL 88.118605 156.535329 \r\nL 87.407694 156.535329 \r\nL 86.696783 156.535329 \r\nL 86.1636 156.949765 \r\nL 85.985872 157.087911 \r\nL 85.274961 157.087911 \r\nL 84.564051 157.087911 \r\nL 84.030868 157.502347 \r\nL 83.85314 157.640493 \r\nL 83.142229 157.640493 \r\nL 82.431318 157.640493 \r\nL 81.898135 158.05493 \r\nL 81.720407 158.193075 \r\nL 81.009497 158.193075 \r\nL 80.298586 158.193075 \r\nL 79.765403 158.607512 \r\nL 79.587675 158.745657 \r\nL 78.876764 158.745657 \r\nL 78.165853 158.745657 \r\nL 77.454942 158.745657 \r\nL 76.921759 159.160094 \r\nL 76.744032 159.298239 \r\nL 76.033121 159.298239 \r\nL 75.32221 159.298239 \r\nL 74.789027 159.712676 \r\nL 74.611299 159.850822 \r\nL 73.900388 159.850822 \r\nL 73.189478 159.850822 \r\nL 72.656294 160.265258 \r\nL 72.478567 160.403404 \r\nL 71.767656 160.403404 \r\nL 71.056745 160.403404 \r\nL 70.523562 160.81784 \r\nL 70.345834 160.955986 \r\nL 69.634924 160.955986 \r\nL 68.924013 160.955986 \r\nL 68.39083 161.370423 \r\nL 68.213102 161.508568 \r\nL 67.502191 161.508568 \r\nL 66.79128 161.508568 \r\nL 66.258097 161.923005 \r\nL 66.080369 162.06115 \r\nL 65.369459 162.06115 \r\nL 64.658548 162.06115 \r\nL 64.125365 162.475587 \r\nL 63.947637 162.613732 \r\nL 63.236726 162.613732 \r\nL 62.525815 162.613732 \r\nL 61.814905 162.613732 \r\nL 61.281721 163.028169 \r\nL 61.103994 163.166315 \r\nL 60.393083 163.166315 \r\nL 59.682172 163.166315 \r\nL 59.148989 163.580751 \r\nL 58.971261 163.718897 \r\nL 58.26035 163.718897 \r\nL 57.54944 163.718897 \r\nL 57.016257 164.133333 \r\nL 56.838529 164.271479 \r\nL 56.127618 164.271479 \r\nL 55.416707 164.271479 \r\nL 54.883524 164.685915 \r\nL 54.705796 164.824061 \r\nL 53.994886 164.824061 \r\nL 53.283975 164.824061 \r\nL 52.750792 165.238498 \r\nL 52.573064 165.376643 \r\nL 51.862153 165.376643 \r\nL 51.151242 165.376643 \r\nL 50.618059 165.79108 \r\nL 50.440331 165.929225 \r\nL 49.729421 165.929225 \r\nL 49.01851 165.929225 \r\nL 48.485327 166.343662 \r\nL 48.307599 166.481808 \r\nL 47.596688 166.481808 \r\nL 46.885777 166.481808 \r\nL 46.174867 166.481808 \r\nL 45.641683 166.896244 \r\nL 45.463956 167.03439 \r\nL 44.753045 167.03439 \r\nL 44.042134 167.03439 \r\nL 43.508951 167.448826 \r\nL 43.331223 167.586972 \r\nL 42.620312 167.586972 \r\nL 42.620312 167.725117 \r\nz\r\n\" style=\"fill:#ff0000;fill-opacity:0.4;\"/>\r\n   </g>\r\n   <g id=\"PathCollection_3\">\r\n    <path clip-path=\"url(#p55578fd002)\" d=\"M 43.331223 167.863263 \r\nL 43.864406 167.448826 \r\nL 44.042134 167.310681 \r\nL 44.753045 167.310681 \r\nL 45.463956 167.310681 \r\nL 45.997139 166.896244 \r\nL 46.174867 166.758099 \r\nL 46.885777 166.758099 \r\nL 47.596688 166.758099 \r\nL 48.307599 166.758099 \r\nL 48.840782 166.343662 \r\nL 49.01851 166.205516 \r\nL 49.729421 166.205516 \r\nL 50.440331 166.205516 \r\nL 50.973515 165.79108 \r\nL 51.151242 165.652934 \r\nL 51.862153 165.652934 \r\nL 52.573064 165.652934 \r\nL 53.106247 165.238498 \r\nL 53.283975 165.100352 \r\nL 53.994886 165.100352 \r\nL 54.705796 165.100352 \r\nL 55.238979 164.685915 \r\nL 55.416707 164.54777 \r\nL 56.127618 164.54777 \r\nL 56.838529 164.54777 \r\nL 57.371712 164.133333 \r\nL 57.54944 163.995188 \r\nL 58.26035 163.995188 \r\nL 58.971261 163.995188 \r\nL 59.504444 163.580751 \r\nL 59.682172 163.442606 \r\nL 60.393083 163.442606 \r\nL 61.103994 163.442606 \r\nL 61.637177 163.028169 \r\nL 61.814905 162.890023 \r\nL 62.525815 162.890023 \r\nL 63.236726 162.890023 \r\nL 63.947637 162.890023 \r\nL 64.48082 162.475587 \r\nL 64.658548 162.337441 \r\nL 65.369459 162.337441 \r\nL 66.080369 162.337441 \r\nL 66.613553 161.923005 \r\nL 66.79128 161.784859 \r\nL 67.502191 161.784859 \r\nL 68.213102 161.784859 \r\nL 68.746285 161.370423 \r\nL 68.924013 161.232277 \r\nL 69.634924 161.232277 \r\nL 70.345834 161.232277 \r\nL 70.879017 160.81784 \r\nL 71.056745 160.679695 \r\nL 71.767656 160.679695 \r\nL 72.478567 160.679695 \r\nL 73.01175 160.265258 \r\nL 73.189478 160.127113 \r\nL 73.900388 160.127113 \r\nL 74.611299 160.127113 \r\nL 75.144482 159.712676 \r\nL 75.32221 159.574531 \r\nL 76.033121 159.574531 \r\nL 76.744032 159.574531 \r\nL 77.277215 159.160094 \r\nL 77.454942 159.021948 \r\nL 78.165853 159.021948 \r\nL 78.876764 159.021948 \r\nL 79.587675 159.021948 \r\nL 80.120858 158.607512 \r\nL 80.298586 158.469366 \r\nL 81.009497 158.469366 \r\nL 81.720407 158.469366 \r\nL 82.25359 158.05493 \r\nL 82.431318 157.916784 \r\nL 83.142229 157.916784 \r\nL 83.85314 157.916784 \r\nL 84.386323 157.502347 \r\nL 84.564051 157.364202 \r\nL 85.274961 157.364202 \r\nL 85.985872 157.364202 \r\nL 86.519055 156.949765 \r\nL 86.696783 156.81162 \r\nL 87.407694 156.81162 \r\nL 88.118605 156.81162 \r\nL 88.651788 156.397183 \r\nL 88.829516 156.259038 \r\nL 89.540426 156.259038 \r\nL 90.251337 156.259038 \r\nL 90.78452 155.844601 \r\nL 90.962248 155.706455 \r\nL 91.673159 155.706455 \r\nL 92.38407 155.706455 \r\nL 92.917253 155.292019 \r\nL 93.09498 155.153873 \r\nL 93.805891 155.153873 \r\nL 94.516802 155.153873 \r\nL 95.227713 155.153873 \r\nL 95.760896 154.739437 \r\nL 95.938624 154.601291 \r\nL 96.649535 154.601291 \r\nL 97.360445 154.601291 \r\nL 97.893628 154.186854 \r\nL 98.071356 154.048709 \r\nL 98.782267 154.048709 \r\nL 99.493178 154.048709 \r\nL 100.026361 153.634272 \r\nL 100.204089 153.496127 \r\nL 100.914999 153.496127 \r\nL 101.62591 153.496127 \r\nL 102.159093 153.08169 \r\nL 102.336821 152.943545 \r\nL 103.047732 152.943545 \r\nL 103.758643 152.943545 \r\nL 104.291826 152.529108 \r\nL 104.469553 152.390962 \r\nL 105.180464 152.390962 \r\nL 105.891375 152.390962 \r\nL 106.424558 151.976526 \r\nL 106.602286 151.83838 \r\nL 107.313197 151.83838 \r\nL 108.024108 151.83838 \r\nL 108.557291 151.423944 \r\nL 108.735018 151.285798 \r\nL 109.445929 151.285798 \r\nL 110.15684 151.285798 \r\nL 110.867751 151.285798 \r\nL 111.400934 150.871362 \r\nL 111.578662 150.733216 \r\nL 112.289572 150.733216 \r\nL 113.000483 150.733216 \r\nL 113.533666 150.318779 \r\nL 113.711394 150.180634 \r\nL 114.422305 150.180634 \r\nL 115.133216 150.180634 \r\nL 115.666399 149.766197 \r\nL 115.844127 149.628052 \r\nL 116.555037 149.628052 \r\nL 117.265948 149.628052 \r\nL 117.799131 149.213615 \r\nL 117.976859 149.075469 \r\nL 118.68777 149.075469 \r\nL 119.398681 149.075469 \r\nL 119.931864 148.661033 \r\nL 120.109591 148.522887 \r\nL 120.820502 148.522887 \r\nL 121.531413 148.522887 \r\nL 122.064596 148.108451 \r\nL 122.242324 147.970305 \r\nL 122.953235 147.970305 \r\nL 123.664146 147.970305 \r\nL 124.197329 147.555869 \r\nL 124.375056 147.417723 \r\nL 125.085967 147.417723 \r\nL 125.796878 147.417723 \r\nL 126.507789 147.417723 \r\nL 127.040972 147.003286 \r\nL 127.2187 146.865141 \r\nL 127.92961 146.865141 \r\nL 128.640521 146.865141 \r\nL 129.173704 146.450704 \r\nL 129.351432 146.312559 \r\nL 130.062343 146.312559 \r\nL 130.773254 146.312559 \r\nL 131.306437 145.898122 \r\nL 131.484164 145.759977 \r\nL 132.195075 145.759977 \r\nL 132.905986 145.759977 \r\nL 133.439169 145.34554 \r\nL 133.616897 145.207394 \r\nL 134.327808 145.207394 \r\nL 135.038719 145.207394 \r\nL 135.571902 144.792958 \r\nL 135.749629 144.654812 \r\nL 136.46054 144.654812 \r\nL 137.171451 144.654812 \r\nL 137.704634 144.240376 \r\nL 137.882362 144.10223 \r\nL 138.593273 144.10223 \r\nL 139.304183 144.10223 \r\nL 139.837367 143.687793 \r\nL 140.015094 143.549648 \r\nL 140.726005 143.549648 \r\nL 141.436916 143.549648 \r\nL 142.147827 143.549648 \r\nL 142.68101 143.135211 \r\nL 142.858738 142.997066 \r\nL 143.569648 142.997066 \r\nL 144.280559 142.997066 \r\nL 144.813742 142.582629 \r\nL 144.99147 142.444484 \r\nL 145.702381 142.444484 \r\nL 146.413292 142.444484 \r\nL 146.946475 142.030047 \r\nL 147.124202 141.891901 \r\nL 147.835113 141.891901 \r\nL 148.546024 141.891901 \r\nL 149.079207 141.477465 \r\nL 149.256935 141.339319 \r\nL 149.967846 141.339319 \r\nL 150.678757 141.339319 \r\nL 151.21194 140.924883 \r\nL 151.389667 140.786737 \r\nL 152.100578 140.786737 \r\nL 152.811489 140.786737 \r\nL 153.344672 140.3723 \r\nL 153.5224 140.234155 \r\nL 154.233311 140.234155 \r\nL 154.944221 140.234155 \r\nL 155.477405 139.819718 \r\nL 155.655132 139.681573 \r\nL 156.366043 139.681573 \r\nL 157.076954 139.681573 \r\nL 157.787865 139.681573 \r\nL 158.321048 139.267136 \r\nL 158.498775 139.128991 \r\nL 159.209686 139.128991 \r\nL 159.920597 139.128991 \r\nL 160.45378 138.714554 \r\nL 160.631508 138.576408 \r\nL 161.342419 138.576408 \r\nL 162.05333 138.576408 \r\nL 162.586513 138.161972 \r\nL 162.76424 138.023826 \r\nL 163.475151 138.023826 \r\nL 164.186062 138.023826 \r\nL 164.719245 137.60939 \r\nL 164.896973 137.471244 \r\nL 165.607884 137.471244 \r\nL 166.318794 137.471244 \r\nL 166.851978 137.056808 \r\nL 167.029705 136.918662 \r\nL 167.740616 136.918662 \r\nL 168.451527 136.918662 \r\nL 168.98471 136.504225 \r\nL 169.162438 136.36608 \r\nL 169.873349 136.36608 \r\nL 170.584259 136.36608 \r\nL 171.117442 135.951643 \r\nL 171.29517 135.813498 \r\nL 172.006081 135.813498 \r\nL 172.716992 135.813498 \r\nL 173.427903 135.813498 \r\nL 173.961086 135.399061 \r\nL 174.138813 135.260915 \r\nL 174.849724 135.260915 \r\nL 175.560635 135.260915 \r\nL 176.093818 134.846479 \r\nL 176.271546 134.708333 \r\nL 176.982457 134.708333 \r\nL 177.693368 134.708333 \r\nL 178.226551 134.293897 \r\nL 178.404278 134.155751 \r\nL 179.115189 134.155751 \r\nL 179.8261 134.155751 \r\nL 180.359283 133.741315 \r\nL 180.537011 133.603169 \r\nL 181.247922 133.603169 \r\nL 181.958832 133.603169 \r\nL 182.492016 133.188732 \r\nL 182.669743 133.050587 \r\nL 183.380654 133.050587 \r\nL 184.091565 133.050587 \r\nL 184.624748 132.63615 \r\nL 184.802476 132.498005 \r\nL 185.513387 132.498005 \r\nL 186.224297 132.498005 \r\nL 186.75748 132.083568 \r\nL 186.935208 131.945423 \r\nL 187.646119 131.945423 \r\nL 188.35703 131.945423 \r\nL 189.067941 131.945423 \r\nL 189.601124 131.530986 \r\nL 189.778851 131.39284 \r\nL 190.489762 131.39284 \r\nL 191.200673 131.39284 \r\nL 191.733856 130.978404 \r\nL 191.911584 130.840258 \r\nL 192.622495 130.840258 \r\nL 193.333405 130.840258 \r\nL 193.866589 130.425822 \r\nL 194.044316 130.287676 \r\nL 194.755227 130.287676 \r\nL 195.466138 130.287676 \r\nL 195.999321 129.873239 \r\nL 196.177049 129.735094 \r\nL 196.88796 129.735094 \r\nL 197.59887 129.735094 \r\nL 198.132053 129.320657 \r\nL 198.309781 129.182512 \r\nL 199.020692 129.182512 \r\nL 199.731603 129.182512 \r\nL 200.264786 128.768075 \r\nL 200.442514 128.62993 \r\nL 201.153424 128.62993 \r\nL 201.864335 128.62993 \r\nL 202.397518 128.215493 \r\nL 202.575246 128.077347 \r\nL 203.286157 128.077347 \r\nL 203.997068 128.077347 \r\nL 204.707979 128.077347 \r\nL 205.241162 127.662911 \r\nL 205.418889 127.524765 \r\nL 206.1298 127.524765 \r\nL 206.840711 127.524765 \r\nL 207.373894 127.110329 \r\nL 207.551622 126.972183 \r\nL 208.262533 126.972183 \r\nL 208.973443 126.972183 \r\nL 209.506627 126.557746 \r\nL 209.684354 126.419601 \r\nL 210.395265 126.419601 \r\nL 211.106176 126.419601 \r\nL 211.639359 126.005164 \r\nL 211.817087 125.867019 \r\nL 212.527998 125.867019 \r\nL 213.238908 125.867019 \r\nL 213.772091 125.452582 \r\nL 213.949819 125.314437 \r\nL 214.66073 125.314437 \r\nL 215.371641 125.314437 \r\nL 215.904824 124.9 \r\nL 216.082552 124.761854 \r\nL 216.793462 124.761854 \r\nL 217.504373 124.761854 \r\nL 218.037556 124.347418 \r\nL 218.215284 124.209272 \r\nL 218.926195 124.209272 \r\nL 219.637106 124.209272 \r\nL 220.348016 124.209272 \r\nL 220.8812 123.794836 \r\nL 221.058927 123.65669 \r\nL 221.769838 123.65669 \r\nL 222.480749 123.65669 \r\nL 223.013932 123.242254 \r\nL 223.19166 123.104108 \r\nL 223.902571 123.104108 \r\nL 224.613481 123.104108 \r\nL 225.146664 122.689671 \r\nL 225.324392 122.551526 \r\nL 226.035303 122.551526 \r\nL 226.746214 122.551526 \r\nL 227.279397 122.137089 \r\nL 227.457125 121.998944 \r\nL 228.168035 121.998944 \r\nL 228.878946 121.998944 \r\nL 229.412129 121.584507 \r\nL 229.589857 121.446362 \r\nL 230.300768 121.446362 \r\nL 231.011679 121.446362 \r\nL 231.544862 121.031925 \r\nL 231.72259 120.893779 \r\nL 232.4335 120.893779 \r\nL 233.144411 120.893779 \r\nL 233.677594 120.479343 \r\nL 233.855322 120.341197 \r\nL 234.566233 120.341197 \r\nL 235.277144 120.341197 \r\nL 235.988054 120.341197 \r\nL 236.521238 119.926761 \r\nL 236.698965 119.788615 \r\nL 237.409876 119.788615 \r\nL 238.120787 119.788615 \r\nL 238.65397 119.374178 \r\nL 238.831698 119.236033 \r\nL 239.542609 119.236033 \r\nL 240.253519 119.236033 \r\nL 240.786702 118.821596 \r\nL 240.96443 118.683451 \r\nL 241.675341 118.683451 \r\nL 242.386252 118.683451 \r\nL 242.919435 118.269014 \r\nL 243.097163 118.130869 \r\nL 243.808073 118.130869 \r\nL 244.518984 118.130869 \r\nL 245.052167 117.716432 \r\nL 245.229895 117.578286 \r\nL 245.940806 117.578286 \r\nL 246.651717 117.578286 \r\nL 247.1849 117.16385 \r\nL 247.362627 117.025704 \r\nL 248.073538 117.025704 \r\nL 248.784449 117.025704 \r\nL 249.317632 116.611268 \r\nL 249.49536 116.473122 \r\nL 250.206271 116.473122 \r\nL 250.472862 116.058685 \r\nL 250.472862 115.506103 \r\nL 250.206271 115.298885 \r\nL 249.761951 114.953521 \r\nL 249.761951 114.400939 \r\nL 249.761951 113.848357 \r\nL 249.761951 113.295775 \r\nL 249.761951 112.743192 \r\nL 249.761951 112.19061 \r\nL 249.49536 111.983392 \r\nL 249.051041 111.638028 \r\nL 249.051041 111.085446 \r\nL 249.051041 110.532864 \r\nL 249.051041 109.980282 \r\nL 249.051041 109.4277 \r\nL 249.051041 108.875117 \r\nL 249.051041 108.322535 \r\nL 248.784449 108.115317 \r\nL 248.34013 107.769953 \r\nL 248.34013 107.217371 \r\nL 248.34013 106.664789 \r\nL 248.34013 106.112207 \r\nL 248.34013 105.559624 \r\nL 248.34013 105.007042 \r\nL 248.073538 104.799824 \r\nL 247.629219 104.45446 \r\nL 247.629219 103.901878 \r\nL 247.629219 103.349296 \r\nL 247.629219 102.796714 \r\nL 247.629219 102.244131 \r\nL 247.629219 101.691549 \r\nL 247.629219 101.138967 \r\nL 247.362627 100.931749 \r\nL 246.918308 100.586385 \r\nL 246.918308 100.033803 \r\nL 246.918308 99.481221 \r\nL 246.918308 98.928638 \r\nL 246.918308 98.376056 \r\nL 246.918308 97.823474 \r\nL 246.651717 97.616256 \r\nL 246.207397 97.270892 \r\nL 246.207397 96.71831 \r\nL 246.207397 96.165728 \r\nL 246.207397 95.613146 \r\nL 246.207397 95.060563 \r\nL 246.207397 94.507981 \r\nL 246.207397 93.955399 \r\nL 245.940806 93.748181 \r\nL 245.496487 93.402817 \r\nL 245.496487 92.850235 \r\nL 245.496487 92.297653 \r\nL 245.496487 91.74507 \r\nL 245.496487 91.192488 \r\nL 245.496487 90.639906 \r\nL 245.229895 90.432688 \r\nL 244.785576 90.087324 \r\nL 244.785576 89.534742 \r\nL 244.785576 88.98216 \r\nL 244.785576 88.429577 \r\nL 244.785576 87.876995 \r\nL 244.785576 87.324413 \r\nL 244.785576 86.771831 \r\nL 244.518984 86.564613 \r\nL 244.074665 86.219249 \r\nL 244.074665 85.666667 \r\nL 244.074665 85.114085 \r\nL 244.074665 84.561502 \r\nL 244.074665 84.00892 \r\nL 244.074665 83.456338 \r\nL 243.808073 83.24912 \r\nL 243.363754 82.903756 \r\nL 243.363754 82.351174 \r\nL 243.363754 81.798592 \r\nL 243.363754 81.246009 \r\nL 243.363754 80.693427 \r\nL 243.363754 80.140845 \r\nL 243.363754 79.588263 \r\nL 243.097163 79.381045 \r\nL 242.652843 79.035681 \r\nL 242.652843 78.483099 \r\nL 242.652843 77.930516 \r\nL 242.652843 77.377934 \r\nL 242.652843 76.825352 \r\nL 242.652843 76.27277 \r\nL 242.386252 76.065552 \r\nL 241.941933 75.720188 \r\nL 241.941933 75.167606 \r\nL 241.941933 74.615023 \r\nL 241.941933 74.062441 \r\nL 241.941933 73.509859 \r\nL 241.941933 72.957277 \r\nL 241.941933 72.404695 \r\nL 241.675341 72.197477 \r\nL 241.231022 71.852113 \r\nL 241.231022 71.299531 \r\nL 241.231022 70.746948 \r\nL 241.231022 70.194366 \r\nL 241.231022 69.641784 \r\nL 241.231022 69.089202 \r\nL 240.96443 68.881984 \r\nL 240.520111 68.53662 \r\nL 240.520111 67.984038 \r\nL 240.520111 67.431455 \r\nL 240.520111 66.878873 \r\nL 240.520111 66.326291 \r\nL 240.520111 65.773709 \r\nL 240.520111 65.221127 \r\nL 240.253519 65.013908 \r\nL 239.8092 64.668545 \r\nL 239.8092 64.115962 \r\nL 239.8092 63.56338 \r\nL 239.8092 63.010798 \r\nL 239.8092 62.458216 \r\nL 239.8092 61.905634 \r\nL 239.542609 61.698415 \r\nL 239.098289 61.353052 \r\nL 239.098289 60.800469 \r\nL 239.098289 60.247887 \r\nL 239.098289 59.695305 \r\nL 239.098289 59.142723 \r\nL 239.098289 58.590141 \r\nL 239.098289 58.037559 \r\nL 238.831698 57.83034 \r\nL 238.387378 57.484977 \r\nL 238.387378 56.932394 \r\nL 238.387378 56.379812 \r\nL 238.387378 55.82723 \r\nL 238.387378 55.274648 \r\nL 238.387378 54.722066 \r\nL 238.120787 54.514847 \r\nL 237.676468 54.169484 \r\nL 237.676468 53.616901 \r\nL 237.676468 53.064319 \r\nL 237.676468 52.511737 \r\nL 237.676468 51.959155 \r\nL 237.676468 51.406573 \r\nL 237.676468 50.853991 \r\nL 237.409876 50.646772 \r\nL 236.965557 50.301408 \r\nL 236.965557 49.748826 \r\nL 236.965557 49.196244 \r\nL 236.965557 48.643662 \r\nL 236.965557 48.09108 \r\nL 236.965557 47.538498 \r\nL 236.698965 47.331279 \r\nL 236.254646 46.985915 \r\nL 236.254646 46.433333 \r\nL 236.254646 45.880751 \r\nL 236.254646 45.328169 \r\nL 236.254646 44.775587 \r\nL 236.254646 44.223005 \r\nL 236.254646 43.670423 \r\nL 235.988054 43.463204 \r\nL 235.543735 43.11784 \r\nL 235.543735 42.565258 \r\nL 235.543735 42.012676 \r\nL 235.543735 41.460094 \r\nL 235.543735 40.907512 \r\nL 235.543735 40.35493 \r\nL 235.277144 40.147711 \r\nL 234.832824 39.802347 \r\nL 234.832824 39.249765 \r\nL 234.832824 38.697183 \r\nL 234.832824 38.144601 \r\nL 234.832824 37.592019 \r\nL 234.832824 37.039437 \r\nL 234.832824 36.486854 \r\nL 234.566233 36.279636 \r\nL 234.121914 35.934272 \r\nL 234.121914 35.38169 \r\nL 234.121914 34.829108 \r\nL 234.121914 34.276526 \r\nL 234.121914 33.723944 \r\nL 234.121914 33.171362 \r\nL 233.855322 32.964143 \r\nL 233.411003 32.618779 \r\nL 233.411003 32.066197 \r\nL 233.411003 31.513615 \r\nL 233.411003 30.961033 \r\nL 233.411003 30.408451 \r\nL 233.411003 29.855869 \r\nL 233.411003 29.303286 \r\nL 233.144411 29.096068 \r\nL 232.700092 28.750704 \r\nL 232.700092 28.198122 \r\nL 232.700092 27.64554 \r\nL 232.700092 27.092958 \r\nL 232.700092 26.540376 \r\nL 232.700092 25.987793 \r\nL 232.4335 25.780575 \r\nL 231.989181 25.435211 \r\nL 231.989181 24.882629 \r\nL 231.989181 24.330047 \r\nL 231.989181 23.777465 \r\nL 231.989181 23.224883 \r\nL 231.989181 22.6723 \r\nL 231.72259 22.465082 \r\nL 231.27827 22.119718 \r\nL 231.27827 21.567136 \r\nL 231.27827 21.014554 \r\nL 231.27827 20.461972 \r\nL 231.27827 19.90939 \r\nL 231.27827 19.356808 \r\nL 231.27827 18.804225 \r\nL 231.011679 18.597007 \r\nL 230.567359 18.251643 \r\nL 230.567359 17.699061 \r\nL 230.567359 17.146479 \r\nL 230.567359 16.593897 \r\nL 230.567359 16.041315 \r\nL 230.567359 15.488732 \r\nL 230.300768 15.281514 \r\nL 229.856449 14.93615 \r\nL 229.856449 14.383568 \r\nL 229.856449 13.830986 \r\nL 229.856449 13.278404 \r\nL 229.856449 12.725822 \r\nL 229.856449 12.173239 \r\nL 229.856449 11.620657 \r\nL 229.589857 11.413439 \r\nL 229.145538 11.068075 \r\nL 229.145538 10.515493 \r\nL 229.145538 9.962911 \r\nL 229.145538 9.410329 \r\nL 229.145538 8.857746 \r\nL 229.145538 8.305164 \r\nL 228.878946 8.097946 \r\nL 228.434627 7.752582 \r\nL 228.434627 7.2 \r\nL 228.345763 7.2 \r\nL 228.345763 7.752582 \r\nL 228.878946 8.167019 \r\nL 229.056674 8.305164 \r\nL 229.056674 8.857746 \r\nL 229.056674 9.410329 \r\nL 229.056674 9.962911 \r\nL 229.056674 10.515493 \r\nL 229.056674 11.068075 \r\nL 229.589857 11.482512 \r\nL 229.767585 11.620657 \r\nL 229.767585 12.173239 \r\nL 229.767585 12.725822 \r\nL 229.767585 13.278404 \r\nL 229.767585 13.830986 \r\nL 229.767585 14.383568 \r\nL 229.767585 14.93615 \r\nL 230.300768 15.350587 \r\nL 230.478496 15.488732 \r\nL 230.478496 16.041315 \r\nL 230.478496 16.593897 \r\nL 230.478496 17.146479 \r\nL 230.478496 17.699061 \r\nL 230.478496 18.251643 \r\nL 231.011679 18.66608 \r\nL 231.189406 18.804225 \r\nL 231.189406 19.356808 \r\nL 231.189406 19.90939 \r\nL 231.189406 20.461972 \r\nL 231.189406 21.014554 \r\nL 231.189406 21.567136 \r\nL 231.189406 22.119718 \r\nL 231.72259 22.534155 \r\nL 231.900317 22.6723 \r\nL 231.900317 23.224883 \r\nL 231.900317 23.777465 \r\nL 231.900317 24.330047 \r\nL 231.900317 24.882629 \r\nL 231.900317 25.435211 \r\nL 232.4335 25.849648 \r\nL 232.611228 25.987793 \r\nL 232.611228 26.540376 \r\nL 232.611228 27.092958 \r\nL 232.611228 27.64554 \r\nL 232.611228 28.198122 \r\nL 232.611228 28.750704 \r\nL 233.144411 29.165141 \r\nL 233.322139 29.303286 \r\nL 233.322139 29.855869 \r\nL 233.322139 30.408451 \r\nL 233.322139 30.961033 \r\nL 233.322139 31.513615 \r\nL 233.322139 32.066197 \r\nL 233.322139 32.618779 \r\nL 233.855322 33.033216 \r\nL 234.03305 33.171362 \r\nL 234.03305 33.723944 \r\nL 234.03305 34.276526 \r\nL 234.03305 34.829108 \r\nL 234.03305 35.38169 \r\nL 234.03305 35.934272 \r\nL 234.566233 36.348709 \r\nL 234.743961 36.486854 \r\nL 234.743961 37.039437 \r\nL 234.743961 37.592019 \r\nL 234.743961 38.144601 \r\nL 234.743961 38.697183 \r\nL 234.743961 39.249765 \r\nL 234.743961 39.802347 \r\nL 235.277144 40.216784 \r\nL 235.454871 40.35493 \r\nL 235.454871 40.907512 \r\nL 235.454871 41.460094 \r\nL 235.454871 42.012676 \r\nL 235.454871 42.565258 \r\nL 235.454871 43.11784 \r\nL 235.988054 43.532277 \r\nL 236.165782 43.670423 \r\nL 236.165782 44.223005 \r\nL 236.165782 44.775587 \r\nL 236.165782 45.328169 \r\nL 236.165782 45.880751 \r\nL 236.165782 46.433333 \r\nL 236.165782 46.985915 \r\nL 236.698965 47.400352 \r\nL 236.876693 47.538498 \r\nL 236.876693 48.09108 \r\nL 236.876693 48.643662 \r\nL 236.876693 49.196244 \r\nL 236.876693 49.748826 \r\nL 236.876693 50.301408 \r\nL 237.409876 50.715845 \r\nL 237.587604 50.853991 \r\nL 237.587604 51.406573 \r\nL 237.587604 51.959155 \r\nL 237.587604 52.511737 \r\nL 237.587604 53.064319 \r\nL 237.587604 53.616901 \r\nL 237.587604 54.169484 \r\nL 238.120787 54.58392 \r\nL 238.298515 54.722066 \r\nL 238.298515 55.274648 \r\nL 238.298515 55.82723 \r\nL 238.298515 56.379812 \r\nL 238.298515 56.932394 \r\nL 238.298515 57.484977 \r\nL 238.831698 57.899413 \r\nL 239.009425 58.037559 \r\nL 239.009425 58.590141 \r\nL 239.009425 59.142723 \r\nL 239.009425 59.695305 \r\nL 239.009425 60.247887 \r\nL 239.009425 60.800469 \r\nL 239.009425 61.353052 \r\nL 239.542609 61.767488 \r\nL 239.720336 61.905634 \r\nL 239.720336 62.458216 \r\nL 239.720336 63.010798 \r\nL 239.720336 63.56338 \r\nL 239.720336 64.115962 \r\nL 239.720336 64.668545 \r\nL 240.253519 65.082981 \r\nL 240.431247 65.221127 \r\nL 240.431247 65.773709 \r\nL 240.431247 66.326291 \r\nL 240.431247 66.878873 \r\nL 240.431247 67.431455 \r\nL 240.431247 67.984038 \r\nL 240.431247 68.53662 \r\nL 240.96443 68.951056 \r\nL 241.142158 69.089202 \r\nL 241.142158 69.641784 \r\nL 241.142158 70.194366 \r\nL 241.142158 70.746948 \r\nL 241.142158 71.299531 \r\nL 241.142158 71.852113 \r\nL 241.675341 72.266549 \r\nL 241.853069 72.404695 \r\nL 241.853069 72.957277 \r\nL 241.853069 73.509859 \r\nL 241.853069 74.062441 \r\nL 241.853069 74.615023 \r\nL 241.853069 75.167606 \r\nL 241.853069 75.720188 \r\nL 242.386252 76.134624 \r\nL 242.563979 76.27277 \r\nL 242.563979 76.825352 \r\nL 242.563979 77.377934 \r\nL 242.563979 77.930516 \r\nL 242.563979 78.483099 \r\nL 242.563979 79.035681 \r\nL 243.097163 79.450117 \r\nL 243.27489 79.588263 \r\nL 243.27489 80.140845 \r\nL 243.27489 80.693427 \r\nL 243.27489 81.246009 \r\nL 243.27489 81.798592 \r\nL 243.27489 82.351174 \r\nL 243.27489 82.903756 \r\nL 243.808073 83.318192 \r\nL 243.985801 83.456338 \r\nL 243.985801 84.00892 \r\nL 243.985801 84.561502 \r\nL 243.985801 85.114085 \r\nL 243.985801 85.666667 \r\nL 243.985801 86.219249 \r\nL 244.518984 86.633685 \r\nL 244.696712 86.771831 \r\nL 244.696712 87.324413 \r\nL 244.696712 87.876995 \r\nL 244.696712 88.429577 \r\nL 244.696712 88.98216 \r\nL 244.696712 89.534742 \r\nL 244.696712 90.087324 \r\nL 245.229895 90.501761 \r\nL 245.407623 90.639906 \r\nL 245.407623 91.192488 \r\nL 245.407623 91.74507 \r\nL 245.407623 92.297653 \r\nL 245.407623 92.850235 \r\nL 245.407623 93.402817 \r\nL 245.940806 93.817254 \r\nL 246.118534 93.955399 \r\nL 246.118534 94.507981 \r\nL 246.118534 95.060563 \r\nL 246.118534 95.613146 \r\nL 246.118534 96.165728 \r\nL 246.118534 96.71831 \r\nL 246.118534 97.270892 \r\nL 246.651717 97.685329 \r\nL 246.829444 97.823474 \r\nL 246.829444 98.376056 \r\nL 246.829444 98.928638 \r\nL 246.829444 99.481221 \r\nL 246.829444 100.033803 \r\nL 246.829444 100.586385 \r\nL 247.362627 101.000822 \r\nL 247.540355 101.138967 \r\nL 247.540355 101.691549 \r\nL 247.540355 102.244131 \r\nL 247.540355 102.796714 \r\nL 247.540355 103.349296 \r\nL 247.540355 103.901878 \r\nL 247.540355 104.45446 \r\nL 248.073538 104.868897 \r\nL 248.251266 105.007042 \r\nL 248.251266 105.559624 \r\nL 248.251266 106.112207 \r\nL 248.251266 106.664789 \r\nL 248.251266 107.217371 \r\nL 248.251266 107.769953 \r\nL 248.784449 108.18439 \r\nL 248.962177 108.322535 \r\nL 248.962177 108.875117 \r\nL 248.962177 109.4277 \r\nL 248.962177 109.980282 \r\nL 248.962177 110.532864 \r\nL 248.962177 111.085446 \r\nL 248.962177 111.638028 \r\nL 249.49536 112.052465 \r\nL 249.673088 112.19061 \r\nL 249.673088 112.743192 \r\nL 249.673088 113.295775 \r\nL 249.673088 113.848357 \r\nL 249.673088 114.400939 \r\nL 249.673088 114.953521 \r\nL 250.206271 115.367958 \r\nL 250.383998 115.506103 \r\nL 250.383998 116.058685 \r\nL 250.206271 116.334977 \r\nL 249.49536 116.334977 \r\nL 249.139905 116.611268 \r\nL 248.784449 116.887559 \r\nL 248.073538 116.887559 \r\nL 247.362627 116.887559 \r\nL 247.007172 117.16385 \r\nL 246.651717 117.440141 \r\nL 245.940806 117.440141 \r\nL 245.229895 117.440141 \r\nL 244.87444 117.716432 \r\nL 244.518984 117.992723 \r\nL 243.808073 117.992723 \r\nL 243.097163 117.992723 \r\nL 242.741707 118.269014 \r\nL 242.386252 118.545305 \r\nL 241.675341 118.545305 \r\nL 240.96443 118.545305 \r\nL 240.608975 118.821596 \r\nL 240.253519 119.097887 \r\nL 239.542609 119.097887 \r\nL 238.831698 119.097887 \r\nL 238.476242 119.374178 \r\nL 238.120787 119.650469 \r\nL 237.409876 119.650469 \r\nL 236.698965 119.650469 \r\nL 236.34351 119.926761 \r\nL 235.988054 120.203052 \r\nL 235.277144 120.203052 \r\nL 234.566233 120.203052 \r\nL 233.855322 120.203052 \r\nL 233.499867 120.479343 \r\nL 233.144411 120.755634 \r\nL 232.4335 120.755634 \r\nL 231.72259 120.755634 \r\nL 231.367134 121.031925 \r\nL 231.011679 121.308216 \r\nL 230.300768 121.308216 \r\nL 229.589857 121.308216 \r\nL 229.234402 121.584507 \r\nL 228.878946 121.860798 \r\nL 228.168035 121.860798 \r\nL 227.457125 121.860798 \r\nL 227.101669 122.137089 \r\nL 226.746214 122.41338 \r\nL 226.035303 122.41338 \r\nL 225.324392 122.41338 \r\nL 224.968937 122.689671 \r\nL 224.613481 122.965962 \r\nL 223.902571 122.965962 \r\nL 223.19166 122.965962 \r\nL 222.836204 123.242254 \r\nL 222.480749 123.518545 \r\nL 221.769838 123.518545 \r\nL 221.058927 123.518545 \r\nL 220.703472 123.794836 \r\nL 220.348016 124.071127 \r\nL 219.637106 124.071127 \r\nL 218.926195 124.071127 \r\nL 218.215284 124.071127 \r\nL 217.859829 124.347418 \r\nL 217.504373 124.623709 \r\nL 216.793462 124.623709 \r\nL 216.082552 124.623709 \r\nL 215.727096 124.9 \r\nL 215.371641 125.176291 \r\nL 214.66073 125.176291 \r\nL 213.949819 125.176291 \r\nL 213.594364 125.452582 \r\nL 213.238908 125.728873 \r\nL 212.527998 125.728873 \r\nL 211.817087 125.728873 \r\nL 211.461631 126.005164 \r\nL 211.106176 126.281455 \r\nL 210.395265 126.281455 \r\nL 209.684354 126.281455 \r\nL 209.328899 126.557746 \r\nL 208.973443 126.834038 \r\nL 208.262533 126.834038 \r\nL 207.551622 126.834038 \r\nL 207.196166 127.110329 \r\nL 206.840711 127.38662 \r\nL 206.1298 127.38662 \r\nL 205.418889 127.38662 \r\nL 205.063434 127.662911 \r\nL 204.707979 127.939202 \r\nL 203.997068 127.939202 \r\nL 203.286157 127.939202 \r\nL 202.575246 127.939202 \r\nL 202.219791 128.215493 \r\nL 201.864335 128.491784 \r\nL 201.153424 128.491784 \r\nL 200.442514 128.491784 \r\nL 200.087058 128.768075 \r\nL 199.731603 129.044366 \r\nL 199.020692 129.044366 \r\nL 198.309781 129.044366 \r\nL 197.954326 129.320657 \r\nL 197.59887 129.596948 \r\nL 196.88796 129.596948 \r\nL 196.177049 129.596948 \r\nL 195.821593 129.873239 \r\nL 195.466138 130.149531 \r\nL 194.755227 130.149531 \r\nL 194.044316 130.149531 \r\nL 193.688861 130.425822 \r\nL 193.333405 130.702113 \r\nL 192.622495 130.702113 \r\nL 191.911584 130.702113 \r\nL 191.556128 130.978404 \r\nL 191.200673 131.254695 \r\nL 190.489762 131.254695 \r\nL 189.778851 131.254695 \r\nL 189.423396 131.530986 \r\nL 189.067941 131.807277 \r\nL 188.35703 131.807277 \r\nL 187.646119 131.807277 \r\nL 186.935208 131.807277 \r\nL 186.579753 132.083568 \r\nL 186.224297 132.359859 \r\nL 185.513387 132.359859 \r\nL 184.802476 132.359859 \r\nL 184.44702 132.63615 \r\nL 184.091565 132.912441 \r\nL 183.380654 132.912441 \r\nL 182.669743 132.912441 \r\nL 182.314288 133.188732 \r\nL 181.958832 133.465023 \r\nL 181.247922 133.465023 \r\nL 180.537011 133.465023 \r\nL 180.181555 133.741315 \r\nL 179.8261 134.017606 \r\nL 179.115189 134.017606 \r\nL 178.404278 134.017606 \r\nL 178.048823 134.293897 \r\nL 177.693368 134.570188 \r\nL 176.982457 134.570188 \r\nL 176.271546 134.570188 \r\nL 175.91609 134.846479 \r\nL 175.560635 135.12277 \r\nL 174.849724 135.12277 \r\nL 174.138813 135.12277 \r\nL 173.783358 135.399061 \r\nL 173.427903 135.675352 \r\nL 172.716992 135.675352 \r\nL 172.006081 135.675352 \r\nL 171.29517 135.675352 \r\nL 170.939715 135.951643 \r\nL 170.584259 136.227934 \r\nL 169.873349 136.227934 \r\nL 169.162438 136.227934 \r\nL 168.806982 136.504225 \r\nL 168.451527 136.780516 \r\nL 167.740616 136.780516 \r\nL 167.029705 136.780516 \r\nL 166.67425 137.056808 \r\nL 166.318794 137.333099 \r\nL 165.607884 137.333099 \r\nL 164.896973 137.333099 \r\nL 164.541517 137.60939 \r\nL 164.186062 137.885681 \r\nL 163.475151 137.885681 \r\nL 162.76424 137.885681 \r\nL 162.408785 138.161972 \r\nL 162.05333 138.438263 \r\nL 161.342419 138.438263 \r\nL 160.631508 138.438263 \r\nL 160.276053 138.714554 \r\nL 159.920597 138.990845 \r\nL 159.209686 138.990845 \r\nL 158.498775 138.990845 \r\nL 158.14332 139.267136 \r\nL 157.787865 139.543427 \r\nL 157.076954 139.543427 \r\nL 156.366043 139.543427 \r\nL 155.655132 139.543427 \r\nL 155.299677 139.819718 \r\nL 154.944221 140.096009 \r\nL 154.233311 140.096009 \r\nL 153.5224 140.096009 \r\nL 153.166944 140.3723 \r\nL 152.811489 140.648592 \r\nL 152.100578 140.648592 \r\nL 151.389667 140.648592 \r\nL 151.034212 140.924883 \r\nL 150.678757 141.201174 \r\nL 149.967846 141.201174 \r\nL 149.256935 141.201174 \r\nL 148.901479 141.477465 \r\nL 148.546024 141.753756 \r\nL 147.835113 141.753756 \r\nL 147.124202 141.753756 \r\nL 146.768747 142.030047 \r\nL 146.413292 142.306338 \r\nL 145.702381 142.306338 \r\nL 144.99147 142.306338 \r\nL 144.636015 142.582629 \r\nL 144.280559 142.85892 \r\nL 143.569648 142.85892 \r\nL 142.858738 142.85892 \r\nL 142.503282 143.135211 \r\nL 142.147827 143.411502 \r\nL 141.436916 143.411502 \r\nL 140.726005 143.411502 \r\nL 140.015094 143.411502 \r\nL 139.659639 143.687793 \r\nL 139.304183 143.964085 \r\nL 138.593273 143.964085 \r\nL 137.882362 143.964085 \r\nL 137.526906 144.240376 \r\nL 137.171451 144.516667 \r\nL 136.46054 144.516667 \r\nL 135.749629 144.516667 \r\nL 135.394174 144.792958 \r\nL 135.038719 145.069249 \r\nL 134.327808 145.069249 \r\nL 133.616897 145.069249 \r\nL 133.261442 145.34554 \r\nL 132.905986 145.621831 \r\nL 132.195075 145.621831 \r\nL 131.484164 145.621831 \r\nL 131.128709 145.898122 \r\nL 130.773254 146.174413 \r\nL 130.062343 146.174413 \r\nL 129.351432 146.174413 \r\nL 128.995977 146.450704 \r\nL 128.640521 146.726995 \r\nL 127.92961 146.726995 \r\nL 127.2187 146.726995 \r\nL 126.863244 147.003286 \r\nL 126.507789 147.279577 \r\nL 125.796878 147.279577 \r\nL 125.085967 147.279577 \r\nL 124.375056 147.279577 \r\nL 124.019601 147.555869 \r\nL 123.664146 147.83216 \r\nL 122.953235 147.83216 \r\nL 122.242324 147.83216 \r\nL 121.886868 148.108451 \r\nL 121.531413 148.384742 \r\nL 120.820502 148.384742 \r\nL 120.109591 148.384742 \r\nL 119.754136 148.661033 \r\nL 119.398681 148.937324 \r\nL 118.68777 148.937324 \r\nL 117.976859 148.937324 \r\nL 117.621404 149.213615 \r\nL 117.265948 149.489906 \r\nL 116.555037 149.489906 \r\nL 115.844127 149.489906 \r\nL 115.488671 149.766197 \r\nL 115.133216 150.042488 \r\nL 114.422305 150.042488 \r\nL 113.711394 150.042488 \r\nL 113.355939 150.318779 \r\nL 113.000483 150.59507 \r\nL 112.289572 150.59507 \r\nL 111.578662 150.59507 \r\nL 111.223206 150.871362 \r\nL 110.867751 151.147653 \r\nL 110.15684 151.147653 \r\nL 109.445929 151.147653 \r\nL 108.735018 151.147653 \r\nL 108.379563 151.423944 \r\nL 108.024108 151.700235 \r\nL 107.313197 151.700235 \r\nL 106.602286 151.700235 \r\nL 106.246831 151.976526 \r\nL 105.891375 152.252817 \r\nL 105.180464 152.252817 \r\nL 104.469553 152.252817 \r\nL 104.114098 152.529108 \r\nL 103.758643 152.805399 \r\nL 103.047732 152.805399 \r\nL 102.336821 152.805399 \r\nL 101.981366 153.08169 \r\nL 101.62591 153.357981 \r\nL 100.914999 153.357981 \r\nL 100.204089 153.357981 \r\nL 99.848633 153.634272 \r\nL 99.493178 153.910563 \r\nL 98.782267 153.910563 \r\nL 98.071356 153.910563 \r\nL 97.715901 154.186854 \r\nL 97.360445 154.463146 \r\nL 96.649535 154.463146 \r\nL 95.938624 154.463146 \r\nL 95.583168 154.739437 \r\nL 95.227713 155.015728 \r\nL 94.516802 155.015728 \r\nL 93.805891 155.015728 \r\nL 93.09498 155.015728 \r\nL 92.739525 155.292019 \r\nL 92.38407 155.56831 \r\nL 91.673159 155.56831 \r\nL 90.962248 155.56831 \r\nL 90.606793 155.844601 \r\nL 90.251337 156.120892 \r\nL 89.540426 156.120892 \r\nL 88.829516 156.120892 \r\nL 88.47406 156.397183 \r\nL 88.118605 156.673474 \r\nL 87.407694 156.673474 \r\nL 86.696783 156.673474 \r\nL 86.341328 156.949765 \r\nL 85.985872 157.226056 \r\nL 85.274961 157.226056 \r\nL 84.564051 157.226056 \r\nL 84.208595 157.502347 \r\nL 83.85314 157.778638 \r\nL 83.142229 157.778638 \r\nL 82.431318 157.778638 \r\nL 82.075863 158.05493 \r\nL 81.720407 158.331221 \r\nL 81.009497 158.331221 \r\nL 80.298586 158.331221 \r\nL 79.94313 158.607512 \r\nL 79.587675 158.883803 \r\nL 78.876764 158.883803 \r\nL 78.165853 158.883803 \r\nL 77.454942 158.883803 \r\nL 77.099487 159.160094 \r\nL 76.744032 159.436385 \r\nL 76.033121 159.436385 \r\nL 75.32221 159.436385 \r\nL 74.966755 159.712676 \r\nL 74.611299 159.988967 \r\nL 73.900388 159.988967 \r\nL 73.189478 159.988967 \r\nL 72.834022 160.265258 \r\nL 72.478567 160.541549 \r\nL 71.767656 160.541549 \r\nL 71.056745 160.541549 \r\nL 70.70129 160.81784 \r\nL 70.345834 161.094131 \r\nL 69.634924 161.094131 \r\nL 68.924013 161.094131 \r\nL 68.568557 161.370423 \r\nL 68.213102 161.646714 \r\nL 67.502191 161.646714 \r\nL 66.79128 161.646714 \r\nL 66.435825 161.923005 \r\nL 66.080369 162.199296 \r\nL 65.369459 162.199296 \r\nL 64.658548 162.199296 \r\nL 64.303092 162.475587 \r\nL 63.947637 162.751878 \r\nL 63.236726 162.751878 \r\nL 62.525815 162.751878 \r\nL 61.814905 162.751878 \r\nL 61.459449 163.028169 \r\nL 61.103994 163.30446 \r\nL 60.393083 163.30446 \r\nL 59.682172 163.30446 \r\nL 59.326717 163.580751 \r\nL 58.971261 163.857042 \r\nL 58.26035 163.857042 \r\nL 57.54944 163.857042 \r\nL 57.193984 164.133333 \r\nL 56.838529 164.409624 \r\nL 56.127618 164.409624 \r\nL 55.416707 164.409624 \r\nL 55.061252 164.685915 \r\nL 54.705796 164.962207 \r\nL 53.994886 164.962207 \r\nL 53.283975 164.962207 \r\nL 52.928519 165.238498 \r\nL 52.573064 165.514789 \r\nL 51.862153 165.514789 \r\nL 51.151242 165.514789 \r\nL 50.795787 165.79108 \r\nL 50.440331 166.067371 \r\nL 49.729421 166.067371 \r\nL 49.01851 166.067371 \r\nL 48.663054 166.343662 \r\nL 48.307599 166.619953 \r\nL 47.596688 166.619953 \r\nL 46.885777 166.619953 \r\nL 46.174867 166.619953 \r\nL 45.819411 166.896244 \r\nL 45.463956 167.172535 \r\nL 44.753045 167.172535 \r\nL 44.042134 167.172535 \r\nL 43.686679 167.448826 \r\nL 43.331223 167.725117 \r\nL 42.620312 167.725117 \r\nL 42.620312 167.863263 \r\nz\r\n\" style=\"fill:#ff0000;fill-opacity:0.4;\"/>\r\n   </g>\r\n   <g id=\"PathCollection_4\">\r\n    <path clip-path=\"url(#p55578fd002)\" d=\"M 43.331223 242.6 \r\nL 44.042134 242.6 \r\nL 44.753045 242.6 \r\nL 45.463956 242.6 \r\nL 46.174867 242.6 \r\nL 46.885777 242.6 \r\nL 47.596688 242.6 \r\nL 48.307599 242.6 \r\nL 49.01851 242.6 \r\nL 49.729421 242.6 \r\nL 50.440331 242.6 \r\nL 51.151242 242.6 \r\nL 51.862153 242.6 \r\nL 52.573064 242.6 \r\nL 53.283975 242.6 \r\nL 53.994886 242.6 \r\nL 54.705796 242.6 \r\nL 55.416707 242.6 \r\nL 56.127618 242.6 \r\nL 56.838529 242.6 \r\nL 57.54944 242.6 \r\nL 58.26035 242.6 \r\nL 58.971261 242.6 \r\nL 59.682172 242.6 \r\nL 60.393083 242.6 \r\nL 61.103994 242.6 \r\nL 61.814905 242.6 \r\nL 62.525815 242.6 \r\nL 63.236726 242.6 \r\nL 63.947637 242.6 \r\nL 64.658548 242.6 \r\nL 65.369459 242.6 \r\nL 66.080369 242.6 \r\nL 66.79128 242.6 \r\nL 67.502191 242.6 \r\nL 68.213102 242.6 \r\nL 68.924013 242.6 \r\nL 69.634924 242.6 \r\nL 70.345834 242.6 \r\nL 71.056745 242.6 \r\nL 71.767656 242.6 \r\nL 72.478567 242.6 \r\nL 73.189478 242.6 \r\nL 73.900388 242.6 \r\nL 74.611299 242.6 \r\nL 75.32221 242.6 \r\nL 76.033121 242.6 \r\nL 76.744032 242.6 \r\nL 77.454942 242.6 \r\nL 78.165853 242.6 \r\nL 78.876764 242.6 \r\nL 79.587675 242.6 \r\nL 80.298586 242.6 \r\nL 81.009497 242.6 \r\nL 81.720407 242.6 \r\nL 82.431318 242.6 \r\nL 83.142229 242.6 \r\nL 83.85314 242.6 \r\nL 84.564051 242.6 \r\nL 85.274961 242.6 \r\nL 85.985872 242.6 \r\nL 86.696783 242.6 \r\nL 87.407694 242.6 \r\nL 88.118605 242.6 \r\nL 88.829516 242.6 \r\nL 89.540426 242.6 \r\nL 90.251337 242.6 \r\nL 90.962248 242.6 \r\nL 91.673159 242.6 \r\nL 92.38407 242.6 \r\nL 93.09498 242.6 \r\nL 93.805891 242.6 \r\nL 94.516802 242.6 \r\nL 95.227713 242.6 \r\nL 95.938624 242.6 \r\nL 96.649535 242.6 \r\nL 97.360445 242.6 \r\nL 98.071356 242.6 \r\nL 98.782267 242.6 \r\nL 99.493178 242.6 \r\nL 100.204089 242.6 \r\nL 100.914999 242.6 \r\nL 101.62591 242.6 \r\nL 102.336821 242.6 \r\nL 103.047732 242.6 \r\nL 103.758643 242.6 \r\nL 104.469553 242.6 \r\nL 105.180464 242.6 \r\nL 105.891375 242.6 \r\nL 106.602286 242.6 \r\nL 107.313197 242.6 \r\nL 108.024108 242.6 \r\nL 108.735018 242.6 \r\nL 109.445929 242.6 \r\nL 110.15684 242.6 \r\nL 110.867751 242.6 \r\nL 111.578662 242.6 \r\nL 112.289572 242.6 \r\nL 113.000483 242.6 \r\nL 113.711394 242.6 \r\nL 114.422305 242.6 \r\nL 115.133216 242.6 \r\nL 115.844127 242.6 \r\nL 116.555037 242.6 \r\nL 117.265948 242.6 \r\nL 117.976859 242.6 \r\nL 118.68777 242.6 \r\nL 119.398681 242.6 \r\nL 120.109591 242.6 \r\nL 120.820502 242.6 \r\nL 121.531413 242.6 \r\nL 122.242324 242.6 \r\nL 122.953235 242.6 \r\nL 123.664146 242.6 \r\nL 124.375056 242.6 \r\nL 125.085967 242.6 \r\nL 125.796878 242.6 \r\nL 126.507789 242.6 \r\nL 127.2187 242.6 \r\nL 127.92961 242.6 \r\nL 128.640521 242.6 \r\nL 129.351432 242.6 \r\nL 130.062343 242.6 \r\nL 130.773254 242.6 \r\nL 131.484164 242.6 \r\nL 132.195075 242.6 \r\nL 132.905986 242.6 \r\nL 133.616897 242.6 \r\nL 134.327808 242.6 \r\nL 135.038719 242.6 \r\nL 135.749629 242.6 \r\nL 136.46054 242.6 \r\nL 137.171451 242.6 \r\nL 137.882362 242.6 \r\nL 138.593273 242.6 \r\nL 139.304183 242.6 \r\nL 140.015094 242.6 \r\nL 140.726005 242.6 \r\nL 141.436916 242.6 \r\nL 142.147827 242.6 \r\nL 142.858738 242.6 \r\nL 143.569648 242.6 \r\nL 144.280559 242.6 \r\nL 144.99147 242.6 \r\nL 145.702381 242.6 \r\nL 146.413292 242.6 \r\nL 147.124202 242.6 \r\nL 147.835113 242.6 \r\nL 148.546024 242.6 \r\nL 149.256935 242.6 \r\nL 149.967846 242.6 \r\nL 150.678757 242.6 \r\nL 151.389667 242.6 \r\nL 152.100578 242.6 \r\nL 152.811489 242.6 \r\nL 153.5224 242.6 \r\nL 154.233311 242.6 \r\nL 154.944221 242.6 \r\nL 155.655132 242.6 \r\nL 156.366043 242.6 \r\nL 157.076954 242.6 \r\nL 157.787865 242.6 \r\nL 158.498775 242.6 \r\nL 159.209686 242.6 \r\nL 159.920597 242.6 \r\nL 160.631508 242.6 \r\nL 161.342419 242.6 \r\nL 162.05333 242.6 \r\nL 162.76424 242.6 \r\nL 163.475151 242.6 \r\nL 164.186062 242.6 \r\nL 164.896973 242.6 \r\nL 165.607884 242.6 \r\nL 166.318794 242.6 \r\nL 167.029705 242.6 \r\nL 167.740616 242.6 \r\nL 168.451527 242.6 \r\nL 169.162438 242.6 \r\nL 169.873349 242.6 \r\nL 170.584259 242.6 \r\nL 171.29517 242.6 \r\nL 172.006081 242.6 \r\nL 172.716992 242.6 \r\nL 173.427903 242.6 \r\nL 174.138813 242.6 \r\nL 174.849724 242.6 \r\nL 175.560635 242.6 \r\nL 176.271546 242.6 \r\nL 176.982457 242.6 \r\nL 177.693368 242.6 \r\nL 178.404278 242.6 \r\nL 179.115189 242.6 \r\nL 179.8261 242.6 \r\nL 180.537011 242.6 \r\nL 181.247922 242.6 \r\nL 181.958832 242.6 \r\nL 182.669743 242.6 \r\nL 183.380654 242.6 \r\nL 184.091565 242.6 \r\nL 184.802476 242.6 \r\nL 185.513387 242.6 \r\nL 186.224297 242.6 \r\nL 186.935208 242.6 \r\nL 187.646119 242.6 \r\nL 188.35703 242.6 \r\nL 189.067941 242.6 \r\nL 189.778851 242.6 \r\nL 190.489762 242.6 \r\nL 191.200673 242.6 \r\nL 191.911584 242.6 \r\nL 192.622495 242.6 \r\nL 193.333405 242.6 \r\nL 194.044316 242.6 \r\nL 194.755227 242.6 \r\nL 195.466138 242.6 \r\nL 196.177049 242.6 \r\nL 196.88796 242.6 \r\nL 197.59887 242.6 \r\nL 198.309781 242.6 \r\nL 199.020692 242.6 \r\nL 199.731603 242.6 \r\nL 200.442514 242.6 \r\nL 201.153424 242.6 \r\nL 201.864335 242.6 \r\nL 202.575246 242.6 \r\nL 203.286157 242.6 \r\nL 203.997068 242.6 \r\nL 204.707979 242.6 \r\nL 205.418889 242.6 \r\nL 206.1298 242.6 \r\nL 206.840711 242.6 \r\nL 207.551622 242.6 \r\nL 208.262533 242.6 \r\nL 208.973443 242.6 \r\nL 209.684354 242.6 \r\nL 210.395265 242.6 \r\nL 211.106176 242.6 \r\nL 211.817087 242.6 \r\nL 212.527998 242.6 \r\nL 213.238908 242.6 \r\nL 213.949819 242.6 \r\nL 214.66073 242.6 \r\nL 215.371641 242.6 \r\nL 216.082552 242.6 \r\nL 216.793462 242.6 \r\nL 217.504373 242.6 \r\nL 218.215284 242.6 \r\nL 218.926195 242.6 \r\nL 219.637106 242.6 \r\nL 220.348016 242.6 \r\nL 221.058927 242.6 \r\nL 221.769838 242.6 \r\nL 222.480749 242.6 \r\nL 223.19166 242.6 \r\nL 223.902571 242.6 \r\nL 224.613481 242.6 \r\nL 225.324392 242.6 \r\nL 226.035303 242.6 \r\nL 226.746214 242.6 \r\nL 227.457125 242.6 \r\nL 228.168035 242.6 \r\nL 228.878946 242.6 \r\nL 229.589857 242.6 \r\nL 230.300768 242.6 \r\nL 231.011679 242.6 \r\nL 231.72259 242.6 \r\nL 232.4335 242.6 \r\nL 233.144411 242.6 \r\nL 233.855322 242.6 \r\nL 234.566233 242.6 \r\nL 235.277144 242.6 \r\nL 235.988054 242.6 \r\nL 236.698965 242.6 \r\nL 237.409876 242.6 \r\nL 238.120787 242.6 \r\nL 238.831698 242.6 \r\nL 239.542609 242.6 \r\nL 240.253519 242.6 \r\nL 240.96443 242.6 \r\nL 241.675341 242.6 \r\nL 242.386252 242.6 \r\nL 243.097163 242.6 \r\nL 243.808073 242.6 \r\nL 244.518984 242.6 \r\nL 245.229895 242.6 \r\nL 245.940806 242.6 \r\nL 246.651717 242.6 \r\nL 247.362627 242.6 \r\nL 248.073538 242.6 \r\nL 248.784449 242.6 \r\nL 249.49536 242.6 \r\nL 250.206271 242.6 \r\nL 250.917182 242.6 \r\nL 251.628092 242.6 \r\nL 252.339003 242.6 \r\nL 253.049914 242.6 \r\nL 253.760825 242.6 \r\nL 254.471736 242.6 \r\nL 255.182646 242.6 \r\nL 255.893557 242.6 \r\nL 256.604468 242.6 \r\nL 257.315379 242.6 \r\nL 258.02629 242.6 \r\nL 258.737201 242.6 \r\nL 259.448111 242.6 \r\nL 260.159022 242.6 \r\nL 260.869933 242.6 \r\nL 261.580844 242.6 \r\nL 262.291755 242.6 \r\nL 263.002665 242.6 \r\nL 263.713576 242.6 \r\nL 264.424487 242.6 \r\nL 265.135398 242.6 \r\nL 265.846309 242.6 \r\nL 266.55722 242.6 \r\nL 267.26813 242.6 \r\nL 267.979041 242.6 \r\nL 268.689952 242.6 \r\nL 269.400863 242.6 \r\nL 270.111774 242.6 \r\nL 270.822684 242.6 \r\nL 271.533595 242.6 \r\nL 272.244506 242.6 \r\nL 272.955417 242.6 \r\nL 273.666328 242.6 \r\nL 274.377238 242.6 \r\nL 275.088149 242.6 \r\nL 275.79906 242.6 \r\nL 276.509971 242.6 \r\nL 277.220882 242.6 \r\nL 277.931793 242.6 \r\nL 278.642703 242.6 \r\nL 279.353614 242.6 \r\nL 280.064525 242.6 \r\nL 280.775436 242.6 \r\nL 281.486347 242.6 \r\nL 282.197257 242.6 \r\nL 282.908168 242.6 \r\nL 283.619079 242.6 \r\nL 284.32999 242.6 \r\nL 285.040901 242.6 \r\nL 285.751812 242.6 \r\nL 286.462722 242.6 \r\nL 287.173633 242.6 \r\nL 287.884544 242.6 \r\nL 288.595455 242.6 \r\nL 289.306366 242.6 \r\nL 290.017276 242.6 \r\nL 290.728187 242.6 \r\nL 291.439098 242.6 \r\nL 292.150009 242.6 \r\nL 292.86092 242.6 \r\nL 293.571831 242.6 \r\nL 294.282741 242.6 \r\nL 294.993652 242.6 \r\nL 295.704563 242.6 \r\nL 296.415474 242.6 \r\nL 297.126385 242.6 \r\nL 297.837295 242.6 \r\nL 298.548206 242.6 \r\nL 299.259117 242.6 \r\nL 299.970028 242.6 \r\nL 300.680939 242.6 \r\nL 301.39185 242.6 \r\nL 302.10276 242.6 \r\nL 302.813671 242.6 \r\nL 303.524582 242.6 \r\nL 304.235493 242.6 \r\nL 304.946404 242.6 \r\nL 305.657314 242.6 \r\nL 306.368225 242.6 \r\nL 307.079136 242.6 \r\nL 307.790047 242.6 \r\nL 308.500958 242.6 \r\nL 309.211868 242.6 \r\nL 309.922779 242.6 \r\nL 310.63369 242.6 \r\nL 311.344601 242.6 \r\nL 312.055512 242.6 \r\nL 312.766423 242.6 \r\nL 313.477333 242.6 \r\nL 314.188244 242.6 \r\nL 314.899155 242.6 \r\nL 315.610066 242.6 \r\nL 316.320977 242.6 \r\nL 317.031887 242.6 \r\nL 317.742798 242.6 \r\nL 318.453709 242.6 \r\nL 319.16462 242.6 \r\nL 319.875531 242.6 \r\nL 320.586442 242.6 \r\nL 321.297352 242.6 \r\nL 322.008263 242.6 \r\nL 322.719174 242.6 \r\nL 323.430085 242.6 \r\nL 324.140996 242.6 \r\nL 324.851906 242.6 \r\nL 325.562817 242.6 \r\nL 326.273728 242.6 \r\nL 326.984639 242.6 \r\nL 327.69555 242.6 \r\nL 328.406461 242.6 \r\nL 329.117371 242.6 \r\nL 329.828282 242.6 \r\nL 330.539193 242.6 \r\nL 331.250104 242.6 \r\nL 331.961015 242.6 \r\nL 332.671925 242.6 \r\nL 333.382836 242.6 \r\nL 334.093747 242.6 \r\nL 334.804658 242.6 \r\nL 335.515569 242.6 \r\nL 336.226479 242.6 \r\nL 336.93739 242.6 \r\nL 337.648301 242.6 \r\nL 338.359212 242.6 \r\nL 339.070123 242.6 \r\nL 339.781034 242.6 \r\nL 340.491944 242.6 \r\nL 341.202855 242.6 \r\nL 341.913766 242.6 \r\nL 342.624677 242.6 \r\nL 343.335588 242.6 \r\nL 344.046498 242.6 \r\nL 344.757409 242.6 \r\nL 345.46832 242.6 \r\nL 346.179231 242.6 \r\nL 346.890142 242.6 \r\nL 347.601053 242.6 \r\nL 348.311963 242.6 \r\nL 349.022874 242.6 \r\nL 349.733785 242.6 \r\nL 350.444696 242.6 \r\nL 351.155607 242.6 \r\nL 351.866517 242.6 \r\nL 352.577428 242.6 \r\nL 353.288339 242.6 \r\nL 353.99925 242.6 \r\nL 354.710161 242.6 \r\nL 355.421072 242.6 \r\nL 356.131982 242.6 \r\nL 356.842893 242.6 \r\nL 357.553804 242.6 \r\nL 358.264715 242.6 \r\nL 358.975626 242.6 \r\nL 359.686536 242.6 \r\nL 360.397447 242.6 \r\nL 361.108358 242.6 \r\nL 361.819269 242.6 \r\nL 362.53018 242.6 \r\nL 363.24109 242.6 \r\nL 363.952001 242.6 \r\nL 364.662912 242.6 \r\nL 365.373823 242.6 \r\nL 366.084734 242.6 \r\nL 366.795645 242.6 \r\nL 367.506555 242.6 \r\nL 368.217466 242.6 \r\nL 368.928377 242.6 \r\nL 369.639288 242.6 \r\nL 370.350199 242.6 \r\nL 371.061109 242.6 \r\nL 371.77202 242.6 \r\nL 372.482931 242.6 \r\nL 373.193842 242.6 \r\nL 373.904753 242.6 \r\nL 374.615664 242.6 \r\nL 375.326574 242.6 \r\nL 376.037485 242.6 \r\nL 376.748396 242.6 \r\nL 377.459307 242.6 \r\nL 378.170218 242.6 \r\nL 378.881128 242.6 \r\nL 379.592039 242.6 \r\nL 380.30295 242.6 \r\nL 381.013861 242.6 \r\nL 381.724772 242.6 \r\nL 382.435683 242.6 \r\nL 383.146593 242.6 \r\nL 383.857504 242.6 \r\nL 384.568415 242.6 \r\nL 385.279326 242.6 \r\nL 385.990237 242.6 \r\nL 386.701147 242.6 \r\nL 387.412058 242.6 \r\nL 388.122969 242.6 \r\nL 388.83388 242.6 \r\nL 389.544791 242.6 \r\nL 390.255701 242.6 \r\nL 390.966612 242.6 \r\nL 391.677523 242.6 \r\nL 392.388434 242.6 \r\nL 393.099345 242.6 \r\nL 393.810256 242.6 \r\nL 394.521166 242.6 \r\nL 395.232077 242.6 \r\nL 395.942988 242.6 \r\nL 396.653899 242.6 \r\nL 397.36481 242.6 \r\nL 398.07572 242.6 \r\nL 398.786631 242.6 \r\nL 399.497542 242.6 \r\nL 400.208453 242.6 \r\nL 400.919364 242.6 \r\nL 401.630275 242.6 \r\nL 402.341185 242.6 \r\nL 403.052096 242.6 \r\nL 403.763007 242.6 \r\nL 404.473918 242.6 \r\nL 405.184829 242.6 \r\nL 405.895739 242.6 \r\nL 406.60665 242.6 \r\nL 407.317561 242.6 \r\nL 408.028472 242.6 \r\nL 408.739383 242.6 \r\nL 409.450294 242.6 \r\nL 410.161204 242.6 \r\nL 410.872115 242.6 \r\nL 411.583026 242.6 \r\nL 412.293937 242.6 \r\nL 413.004848 242.6 \r\nL 413.715758 242.6 \r\nL 414.426669 242.6 \r\nL 415.13758 242.6 \r\nL 415.848491 242.6 \r\nL 416.559402 242.6 \r\nL 417.270312 242.6 \r\nL 417.270312 242.047418 \r\nL 417.270312 241.494836 \r\nL 417.270312 240.942254 \r\nL 417.270312 240.389671 \r\nL 417.270312 239.837089 \r\nL 417.270312 239.284507 \r\nL 417.270312 238.731925 \r\nL 417.270312 238.179343 \r\nL 417.270312 237.626761 \r\nL 417.270312 237.074178 \r\nL 417.270312 236.521596 \r\nL 417.270312 235.969014 \r\nL 417.270312 235.416432 \r\nL 417.270312 234.86385 \r\nL 417.270312 234.311268 \r\nL 417.270312 233.758685 \r\nL 417.270312 233.206103 \r\nL 417.270312 232.653521 \r\nL 417.270312 232.100939 \r\nL 417.270312 231.548357 \r\nL 417.270312 230.995775 \r\nL 417.270312 230.443192 \r\nL 417.270312 229.89061 \r\nL 417.270312 229.338028 \r\nL 417.270312 228.785446 \r\nL 417.270312 228.232864 \r\nL 417.270312 227.680282 \r\nL 417.270312 227.1277 \r\nL 417.270312 226.575117 \r\nL 417.270312 226.022535 \r\nL 417.270312 225.469953 \r\nL 417.270312 224.917371 \r\nL 417.270312 224.364789 \r\nL 417.270312 223.812207 \r\nL 417.270312 223.259624 \r\nL 417.270312 222.707042 \r\nL 417.270312 222.15446 \r\nL 417.270312 221.601878 \r\nL 417.270312 221.049296 \r\nL 417.270312 220.496714 \r\nL 417.270312 219.944131 \r\nL 417.270312 219.391549 \r\nL 417.270312 218.838967 \r\nL 417.270312 218.286385 \r\nL 417.270312 217.733803 \r\nL 417.270312 217.181221 \r\nL 417.270312 216.628638 \r\nL 417.270312 216.076056 \r\nL 417.270312 215.523474 \r\nL 417.270312 214.970892 \r\nL 417.270312 214.41831 \r\nL 417.270312 213.865728 \r\nL 417.270312 213.313146 \r\nL 417.270312 212.760563 \r\nL 417.270312 212.207981 \r\nL 417.270312 211.655399 \r\nL 417.270312 211.102817 \r\nL 417.270312 210.550235 \r\nL 417.270312 209.997653 \r\nL 417.270312 209.44507 \r\nL 417.270312 208.892488 \r\nL 417.270312 208.339906 \r\nL 417.270312 207.787324 \r\nL 417.270312 207.234742 \r\nL 417.270312 206.68216 \r\nL 417.270312 206.129577 \r\nL 417.270312 205.576995 \r\nL 417.270312 205.024413 \r\nL 417.270312 204.471831 \r\nL 417.270312 203.919249 \r\nL 417.270312 203.366667 \r\nL 417.270312 202.814085 \r\nL 417.270312 202.261502 \r\nL 417.270312 201.70892 \r\nL 417.270312 201.156338 \r\nL 417.270312 200.603756 \r\nL 417.270312 200.051174 \r\nL 417.270312 199.498592 \r\nL 417.270312 198.946009 \r\nL 417.270312 198.393427 \r\nL 417.270312 197.840845 \r\nL 417.270312 197.288263 \r\nL 417.270312 196.735681 \r\nL 417.270312 196.183099 \r\nL 417.270312 195.630516 \r\nL 417.270312 195.077934 \r\nL 417.270312 194.525352 \r\nL 417.270312 193.97277 \r\nL 417.270312 193.420188 \r\nL 417.270312 192.867606 \r\nL 417.270312 192.315023 \r\nL 417.270312 191.762441 \r\nL 417.270312 191.209859 \r\nL 417.270312 190.657277 \r\nL 417.270312 190.104695 \r\nL 417.270312 189.552113 \r\nL 417.270312 188.999531 \r\nL 417.270312 188.446948 \r\nL 417.270312 187.894366 \r\nL 417.270312 187.341784 \r\nL 417.270312 186.789202 \r\nL 417.270312 186.23662 \r\nL 417.270312 185.684038 \r\nL 417.270312 185.131455 \r\nL 417.270312 184.578873 \r\nL 417.270312 184.026291 \r\nL 417.270312 183.473709 \r\nL 417.270312 182.921127 \r\nL 417.270312 182.368545 \r\nL 417.270312 181.815962 \r\nL 417.270312 181.26338 \r\nL 417.270312 180.710798 \r\nL 417.270312 180.158216 \r\nL 417.270312 179.605634 \r\nL 417.270312 179.053052 \r\nL 417.270312 178.500469 \r\nL 417.270312 177.947887 \r\nL 417.270312 177.395305 \r\nL 417.270312 176.842723 \r\nL 417.270312 176.290141 \r\nL 417.270312 175.737559 \r\nL 417.270312 175.184977 \r\nL 417.270312 174.632394 \r\nL 417.270312 174.079812 \r\nL 417.270312 173.52723 \r\nL 417.270312 172.974648 \r\nL 417.270312 172.422066 \r\nL 417.270312 171.869484 \r\nL 417.270312 171.316901 \r\nL 417.270312 170.764319 \r\nL 417.270312 170.211737 \r\nL 417.270312 169.659155 \r\nL 417.270312 169.106573 \r\nL 417.270312 168.553991 \r\nL 417.270312 168.001408 \r\nL 417.270312 167.448826 \r\nL 417.270312 166.896244 \r\nL 417.270312 166.343662 \r\nL 417.270312 165.79108 \r\nL 417.270312 165.238498 \r\nL 416.559402 165.238498 \r\nL 415.848491 165.238498 \r\nL 415.13758 164.685915 \r\nL 414.426669 164.685915 \r\nL 413.715758 164.133333 \r\nL 413.004848 164.133333 \r\nL 412.293937 164.133333 \r\nL 411.583026 163.580751 \r\nL 410.872115 163.580751 \r\nL 410.161204 163.580751 \r\nL 409.450294 163.028169 \r\nL 408.739383 163.028169 \r\nL 408.028472 162.475587 \r\nL 407.317561 162.475587 \r\nL 406.60665 162.475587 \r\nL 405.895739 161.923005 \r\nL 405.184829 161.923005 \r\nL 404.473918 161.923005 \r\nL 403.763007 161.370423 \r\nL 403.052096 161.370423 \r\nL 402.341185 160.81784 \r\nL 401.630275 160.81784 \r\nL 400.919364 160.81784 \r\nL 400.208453 160.265258 \r\nL 399.497542 160.265258 \r\nL 398.786631 160.265258 \r\nL 398.07572 159.712676 \r\nL 397.36481 159.712676 \r\nL 396.653899 159.160094 \r\nL 395.942988 159.160094 \r\nL 395.232077 159.160094 \r\nL 394.521166 158.607512 \r\nL 393.810256 158.607512 \r\nL 393.099345 158.607512 \r\nL 392.388434 158.05493 \r\nL 391.677523 158.05493 \r\nL 390.966612 157.502347 \r\nL 390.255701 157.502347 \r\nL 389.544791 157.502347 \r\nL 388.83388 156.949765 \r\nL 388.122969 156.949765 \r\nL 387.412058 156.949765 \r\nL 386.701147 156.397183 \r\nL 385.990237 156.397183 \r\nL 385.279326 155.844601 \r\nL 384.568415 155.844601 \r\nL 383.857504 155.844601 \r\nL 383.146593 155.292019 \r\nL 382.435683 155.292019 \r\nL 381.724772 155.292019 \r\nL 381.013861 154.739437 \r\nL 380.30295 154.739437 \r\nL 379.592039 154.186854 \r\nL 378.881128 154.186854 \r\nL 378.170218 154.186854 \r\nL 377.459307 153.634272 \r\nL 376.748396 153.634272 \r\nL 376.037485 153.634272 \r\nL 375.326574 153.08169 \r\nL 374.615664 153.08169 \r\nL 373.904753 152.529108 \r\nL 373.193842 152.529108 \r\nL 372.482931 152.529108 \r\nL 371.77202 151.976526 \r\nL 371.061109 151.976526 \r\nL 370.350199 151.976526 \r\nL 369.639288 151.423944 \r\nL 368.928377 151.423944 \r\nL 368.217466 150.871362 \r\nL 367.506555 150.871362 \r\nL 366.795645 150.871362 \r\nL 366.084734 150.318779 \r\nL 365.373823 150.318779 \r\nL 364.662912 150.318779 \r\nL 363.952001 149.766197 \r\nL 363.24109 149.766197 \r\nL 362.53018 149.213615 \r\nL 361.819269 149.213615 \r\nL 361.108358 149.213615 \r\nL 360.397447 148.661033 \r\nL 359.686536 148.661033 \r\nL 358.975626 148.661033 \r\nL 358.264715 148.108451 \r\nL 357.553804 148.108451 \r\nL 356.842893 147.555869 \r\nL 356.131982 147.555869 \r\nL 355.421072 147.555869 \r\nL 354.710161 147.003286 \r\nL 353.99925 147.003286 \r\nL 353.288339 147.003286 \r\nL 352.577428 146.450704 \r\nL 351.866517 146.450704 \r\nL 351.155607 145.898122 \r\nL 350.444696 145.898122 \r\nL 349.733785 145.898122 \r\nL 349.022874 145.34554 \r\nL 348.311963 145.34554 \r\nL 347.601053 145.34554 \r\nL 346.890142 144.792958 \r\nL 346.179231 144.792958 \r\nL 345.46832 144.240376 \r\nL 344.757409 144.240376 \r\nL 344.046498 144.240376 \r\nL 343.335588 143.687793 \r\nL 342.624677 143.687793 \r\nL 341.913766 143.687793 \r\nL 341.202855 143.135211 \r\nL 340.491944 143.135211 \r\nL 339.781034 142.582629 \r\nL 339.070123 142.582629 \r\nL 338.359212 142.582629 \r\nL 337.648301 142.030047 \r\nL 336.93739 142.030047 \r\nL 336.226479 141.477465 \r\nL 335.515569 141.477465 \r\nL 334.804658 141.477465 \r\nL 334.093747 140.924883 \r\nL 333.382836 140.924883 \r\nL 332.671925 140.924883 \r\nL 331.961015 140.3723 \r\nL 331.250104 140.3723 \r\nL 330.539193 139.819718 \r\nL 329.828282 139.819718 \r\nL 329.117371 139.819718 \r\nL 328.406461 139.267136 \r\nL 327.69555 139.267136 \r\nL 326.984639 139.267136 \r\nL 326.273728 138.714554 \r\nL 325.562817 138.714554 \r\nL 324.851906 138.161972 \r\nL 324.140996 138.161972 \r\nL 323.430085 138.161972 \r\nL 322.719174 137.60939 \r\nL 322.008263 137.60939 \r\nL 321.297352 137.60939 \r\nL 320.586442 137.056808 \r\nL 319.875531 137.056808 \r\nL 319.16462 136.504225 \r\nL 318.453709 136.504225 \r\nL 317.742798 136.504225 \r\nL 317.031887 135.951643 \r\nL 316.320977 135.951643 \r\nL 315.610066 135.951643 \r\nL 314.899155 135.399061 \r\nL 314.188244 135.399061 \r\nL 313.477333 134.846479 \r\nL 312.766423 134.846479 \r\nL 312.055512 134.846479 \r\nL 311.344601 134.293897 \r\nL 310.63369 134.293897 \r\nL 309.922779 134.293897 \r\nL 309.211868 133.741315 \r\nL 308.500958 133.741315 \r\nL 307.790047 133.188732 \r\nL 307.079136 133.188732 \r\nL 306.368225 133.188732 \r\nL 305.657314 132.63615 \r\nL 304.946404 132.63615 \r\nL 304.235493 132.63615 \r\nL 303.524582 132.083568 \r\nL 302.813671 132.083568 \r\nL 302.10276 131.530986 \r\nL 301.39185 131.530986 \r\nL 300.680939 131.530986 \r\nL 299.970028 130.978404 \r\nL 299.259117 130.978404 \r\nL 298.548206 130.978404 \r\nL 297.837295 130.425822 \r\nL 297.126385 130.425822 \r\nL 296.415474 129.873239 \r\nL 295.704563 129.873239 \r\nL 294.993652 129.873239 \r\nL 294.282741 129.320657 \r\nL 293.571831 129.320657 \r\nL 292.86092 129.320657 \r\nL 292.150009 128.768075 \r\nL 291.439098 128.768075 \r\nL 290.728187 128.215493 \r\nL 290.017276 128.215493 \r\nL 289.306366 128.215493 \r\nL 288.595455 127.662911 \r\nL 287.884544 127.662911 \r\nL 287.173633 127.662911 \r\nL 286.462722 127.110329 \r\nL 285.751812 127.110329 \r\nL 285.040901 126.557746 \r\nL 284.32999 126.557746 \r\nL 283.619079 126.557746 \r\nL 282.908168 126.005164 \r\nL 282.197257 126.005164 \r\nL 281.486347 126.005164 \r\nL 280.775436 125.452582 \r\nL 280.064525 125.452582 \r\nL 279.353614 124.9 \r\nL 278.642703 124.9 \r\nL 277.931793 124.9 \r\nL 277.220882 124.347418 \r\nL 276.509971 124.347418 \r\nL 275.79906 124.347418 \r\nL 275.088149 123.794836 \r\nL 274.377238 123.794836 \r\nL 273.666328 123.242254 \r\nL 272.955417 123.242254 \r\nL 272.244506 123.242254 \r\nL 271.533595 122.689671 \r\nL 270.822684 122.689671 \r\nL 270.111774 122.689671 \r\nL 269.400863 122.137089 \r\nL 268.689952 122.137089 \r\nL 267.979041 121.584507 \r\nL 267.26813 121.584507 \r\nL 266.55722 121.584507 \r\nL 265.846309 121.031925 \r\nL 265.135398 121.031925 \r\nL 264.424487 121.031925 \r\nL 263.713576 120.479343 \r\nL 263.002665 120.479343 \r\nL 262.291755 119.926761 \r\nL 261.580844 119.926761 \r\nL 260.869933 119.926761 \r\nL 260.159022 119.374178 \r\nL 259.448111 119.374178 \r\nL 258.737201 119.374178 \r\nL 258.02629 118.821596 \r\nL 257.315379 118.821596 \r\nL 256.604468 118.269014 \r\nL 255.893557 118.269014 \r\nL 255.182646 118.269014 \r\nL 254.471736 117.716432 \r\nL 253.760825 117.716432 \r\nL 253.049914 117.16385 \r\nL 252.339003 117.16385 \r\nL 251.628092 117.16385 \r\nL 250.917182 116.611268 \r\nL 250.561726 116.058685 \r\nL 250.561726 115.506103 \r\nL 250.206271 115.229812 \r\nL 249.850815 114.953521 \r\nL 249.850815 114.400939 \r\nL 249.850815 113.848357 \r\nL 249.850815 113.295775 \r\nL 249.850815 112.743192 \r\nL 249.850815 112.19061 \r\nL 249.49536 111.914319 \r\nL 249.139905 111.638028 \r\nL 249.139905 111.085446 \r\nL 249.139905 110.532864 \r\nL 249.139905 109.980282 \r\nL 249.139905 109.4277 \r\nL 249.139905 108.875117 \r\nL 249.139905 108.322535 \r\nL 248.784449 108.046244 \r\nL 248.428994 107.769953 \r\nL 248.428994 107.217371 \r\nL 248.428994 106.664789 \r\nL 248.428994 106.112207 \r\nL 248.428994 105.559624 \r\nL 248.428994 105.007042 \r\nL 248.073538 104.730751 \r\nL 247.718083 104.45446 \r\nL 247.718083 103.901878 \r\nL 247.718083 103.349296 \r\nL 247.718083 102.796714 \r\nL 247.718083 102.244131 \r\nL 247.718083 101.691549 \r\nL 247.718083 101.138967 \r\nL 247.362627 100.862676 \r\nL 247.007172 100.586385 \r\nL 247.007172 100.033803 \r\nL 247.007172 99.481221 \r\nL 247.007172 98.928638 \r\nL 247.007172 98.376056 \r\nL 247.007172 97.823474 \r\nL 246.651717 97.547183 \r\nL 246.296261 97.270892 \r\nL 246.296261 96.71831 \r\nL 246.296261 96.165728 \r\nL 246.296261 95.613146 \r\nL 246.296261 95.060563 \r\nL 246.296261 94.507981 \r\nL 246.296261 93.955399 \r\nL 245.940806 93.679108 \r\nL 245.58535 93.402817 \r\nL 245.58535 92.850235 \r\nL 245.58535 92.297653 \r\nL 245.58535 91.74507 \r\nL 245.58535 91.192488 \r\nL 245.58535 90.639906 \r\nL 245.229895 90.363615 \r\nL 244.87444 90.087324 \r\nL 244.87444 89.534742 \r\nL 244.87444 88.98216 \r\nL 244.87444 88.429577 \r\nL 244.87444 87.876995 \r\nL 244.87444 87.324413 \r\nL 244.87444 86.771831 \r\nL 244.518984 86.49554 \r\nL 244.163529 86.219249 \r\nL 244.163529 85.666667 \r\nL 244.163529 85.114085 \r\nL 244.163529 84.561502 \r\nL 244.163529 84.00892 \r\nL 244.163529 83.456338 \r\nL 243.808073 83.180047 \r\nL 243.452618 82.903756 \r\nL 243.452618 82.351174 \r\nL 243.452618 81.798592 \r\nL 243.452618 81.246009 \r\nL 243.452618 80.693427 \r\nL 243.452618 80.140845 \r\nL 243.452618 79.588263 \r\nL 243.097163 79.311972 \r\nL 242.741707 79.035681 \r\nL 242.741707 78.483099 \r\nL 242.741707 77.930516 \r\nL 242.741707 77.377934 \r\nL 242.741707 76.825352 \r\nL 242.741707 76.27277 \r\nL 242.386252 75.996479 \r\nL 242.030796 75.720188 \r\nL 242.030796 75.167606 \r\nL 242.030796 74.615023 \r\nL 242.030796 74.062441 \r\nL 242.030796 73.509859 \r\nL 242.030796 72.957277 \r\nL 242.030796 72.404695 \r\nL 241.675341 72.128404 \r\nL 241.319886 71.852113 \r\nL 241.319886 71.299531 \r\nL 241.319886 70.746948 \r\nL 241.319886 70.194366 \r\nL 241.319886 69.641784 \r\nL 241.319886 69.089202 \r\nL 240.96443 68.812911 \r\nL 240.608975 68.53662 \r\nL 240.608975 67.984038 \r\nL 240.608975 67.431455 \r\nL 240.608975 66.878873 \r\nL 240.608975 66.326291 \r\nL 240.608975 65.773709 \r\nL 240.608975 65.221127 \r\nL 240.253519 64.944836 \r\nL 239.898064 64.668545 \r\nL 239.898064 64.115962 \r\nL 239.898064 63.56338 \r\nL 239.898064 63.010798 \r\nL 239.898064 62.458216 \r\nL 239.898064 61.905634 \r\nL 239.542609 61.629343 \r\nL 239.187153 61.353052 \r\nL 239.187153 60.800469 \r\nL 239.187153 60.247887 \r\nL 239.187153 59.695305 \r\nL 239.187153 59.142723 \r\nL 239.187153 58.590141 \r\nL 239.187153 58.037559 \r\nL 238.831698 57.761268 \r\nL 238.476242 57.484977 \r\nL 238.476242 56.932394 \r\nL 238.476242 56.379812 \r\nL 238.476242 55.82723 \r\nL 238.476242 55.274648 \r\nL 238.476242 54.722066 \r\nL 238.120787 54.445775 \r\nL 237.765331 54.169484 \r\nL 237.765331 53.616901 \r\nL 237.765331 53.064319 \r\nL 237.765331 52.511737 \r\nL 237.765331 51.959155 \r\nL 237.765331 51.406573 \r\nL 237.765331 50.853991 \r\nL 237.409876 50.5777 \r\nL 237.054421 50.301408 \r\nL 237.054421 49.748826 \r\nL 237.054421 49.196244 \r\nL 237.054421 48.643662 \r\nL 237.054421 48.09108 \r\nL 237.054421 47.538498 \r\nL 236.698965 47.262207 \r\nL 236.34351 46.985915 \r\nL 236.34351 46.433333 \r\nL 236.34351 45.880751 \r\nL 236.34351 45.328169 \r\nL 236.34351 44.775587 \r\nL 236.34351 44.223005 \r\nL 236.34351 43.670423 \r\nL 235.988054 43.394131 \r\nL 235.632599 43.11784 \r\nL 235.632599 42.565258 \r\nL 235.632599 42.012676 \r\nL 235.632599 41.460094 \r\nL 235.632599 40.907512 \r\nL 235.632599 40.35493 \r\nL 235.277144 40.078638 \r\nL 234.921688 39.802347 \r\nL 234.921688 39.249765 \r\nL 234.921688 38.697183 \r\nL 234.921688 38.144601 \r\nL 234.921688 37.592019 \r\nL 234.921688 37.039437 \r\nL 234.921688 36.486854 \r\nL 234.566233 36.210563 \r\nL 234.210777 35.934272 \r\nL 234.210777 35.38169 \r\nL 234.210777 34.829108 \r\nL 234.210777 34.276526 \r\nL 234.210777 33.723944 \r\nL 234.210777 33.171362 \r\nL 233.855322 32.89507 \r\nL 233.499867 32.618779 \r\nL 233.499867 32.066197 \r\nL 233.499867 31.513615 \r\nL 233.499867 30.961033 \r\nL 233.499867 30.408451 \r\nL 233.499867 29.855869 \r\nL 233.499867 29.303286 \r\nL 233.144411 29.026995 \r\nL 232.788956 28.750704 \r\nL 232.788956 28.198122 \r\nL 232.788956 27.64554 \r\nL 232.788956 27.092958 \r\nL 232.788956 26.540376 \r\nL 232.788956 25.987793 \r\nL 232.4335 25.711502 \r\nL 232.078045 25.435211 \r\nL 232.078045 24.882629 \r\nL 232.078045 24.330047 \r\nL 232.078045 23.777465 \r\nL 232.078045 23.224883 \r\nL 232.078045 22.6723 \r\nL 231.72259 22.396009 \r\nL 231.367134 22.119718 \r\nL 231.367134 21.567136 \r\nL 231.367134 21.014554 \r\nL 231.367134 20.461972 \r\nL 231.367134 19.90939 \r\nL 231.367134 19.356808 \r\nL 231.367134 18.804225 \r\nL 231.011679 18.527934 \r\nL 230.656223 18.251643 \r\nL 230.656223 17.699061 \r\nL 230.656223 17.146479 \r\nL 230.656223 16.593897 \r\nL 230.656223 16.041315 \r\nL 230.656223 15.488732 \r\nL 230.300768 15.212441 \r\nL 229.945312 14.93615 \r\nL 229.945312 14.383568 \r\nL 229.945312 13.830986 \r\nL 229.945312 13.278404 \r\nL 229.945312 12.725822 \r\nL 229.945312 12.173239 \r\nL 229.945312 11.620657 \r\nL 229.589857 11.344366 \r\nL 229.234402 11.068075 \r\nL 229.234402 10.515493 \r\nL 229.234402 9.962911 \r\nL 229.234402 9.410329 \r\nL 229.234402 8.857746 \r\nL 229.234402 8.305164 \r\nL 228.878946 8.028873 \r\nL 228.523491 7.752582 \r\nL 228.523491 7.2 \r\nL 228.434627 7.2 \r\nL 228.434627 7.752582 \r\nL 228.878946 8.097946 \r\nL 229.145538 8.305164 \r\nL 229.145538 8.857746 \r\nL 229.145538 9.410329 \r\nL 229.145538 9.962911 \r\nL 229.145538 10.515493 \r\nL 229.145538 11.068075 \r\nL 229.589857 11.413439 \r\nL 229.856449 11.620657 \r\nL 229.856449 12.173239 \r\nL 229.856449 12.725822 \r\nL 229.856449 13.278404 \r\nL 229.856449 13.830986 \r\nL 229.856449 14.383568 \r\nL 229.856449 14.93615 \r\nL 230.300768 15.281514 \r\nL 230.567359 15.488732 \r\nL 230.567359 16.041315 \r\nL 230.567359 16.593897 \r\nL 230.567359 17.146479 \r\nL 230.567359 17.699061 \r\nL 230.567359 18.251643 \r\nL 231.011679 18.597007 \r\nL 231.27827 18.804225 \r\nL 231.27827 19.356808 \r\nL 231.27827 19.90939 \r\nL 231.27827 20.461972 \r\nL 231.27827 21.014554 \r\nL 231.27827 21.567136 \r\nL 231.27827 22.119718 \r\nL 231.72259 22.465082 \r\nL 231.989181 22.6723 \r\nL 231.989181 23.224883 \r\nL 231.989181 23.777465 \r\nL 231.989181 24.330047 \r\nL 231.989181 24.882629 \r\nL 231.989181 25.435211 \r\nL 232.4335 25.780575 \r\nL 232.700092 25.987793 \r\nL 232.700092 26.540376 \r\nL 232.700092 27.092958 \r\nL 232.700092 27.64554 \r\nL 232.700092 28.198122 \r\nL 232.700092 28.750704 \r\nL 233.144411 29.096068 \r\nL 233.411003 29.303286 \r\nL 233.411003 29.855869 \r\nL 233.411003 30.408451 \r\nL 233.411003 30.961033 \r\nL 233.411003 31.513615 \r\nL 233.411003 32.066197 \r\nL 233.411003 32.618779 \r\nL 233.855322 32.964143 \r\nL 234.121914 33.171362 \r\nL 234.121914 33.723944 \r\nL 234.121914 34.276526 \r\nL 234.121914 34.829108 \r\nL 234.121914 35.38169 \r\nL 234.121914 35.934272 \r\nL 234.566233 36.279636 \r\nL 234.832824 36.486854 \r\nL 234.832824 37.039437 \r\nL 234.832824 37.592019 \r\nL 234.832824 38.144601 \r\nL 234.832824 38.697183 \r\nL 234.832824 39.249765 \r\nL 234.832824 39.802347 \r\nL 235.277144 40.147711 \r\nL 235.543735 40.35493 \r\nL 235.543735 40.907512 \r\nL 235.543735 41.460094 \r\nL 235.543735 42.012676 \r\nL 235.543735 42.565258 \r\nL 235.543735 43.11784 \r\nL 235.988054 43.463204 \r\nL 236.254646 43.670423 \r\nL 236.254646 44.223005 \r\nL 236.254646 44.775587 \r\nL 236.254646 45.328169 \r\nL 236.254646 45.880751 \r\nL 236.254646 46.433333 \r\nL 236.254646 46.985915 \r\nL 236.698965 47.331279 \r\nL 236.965557 47.538498 \r\nL 236.965557 48.09108 \r\nL 236.965557 48.643662 \r\nL 236.965557 49.196244 \r\nL 236.965557 49.748826 \r\nL 236.965557 50.301408 \r\nL 237.409876 50.646772 \r\nL 237.676468 50.853991 \r\nL 237.676468 51.406573 \r\nL 237.676468 51.959155 \r\nL 237.676468 52.511737 \r\nL 237.676468 53.064319 \r\nL 237.676468 53.616901 \r\nL 237.676468 54.169484 \r\nL 238.120787 54.514847 \r\nL 238.387378 54.722066 \r\nL 238.387378 55.274648 \r\nL 238.387378 55.82723 \r\nL 238.387378 56.379812 \r\nL 238.387378 56.932394 \r\nL 238.387378 57.484977 \r\nL 238.831698 57.83034 \r\nL 239.098289 58.037559 \r\nL 239.098289 58.590141 \r\nL 239.098289 59.142723 \r\nL 239.098289 59.695305 \r\nL 239.098289 60.247887 \r\nL 239.098289 60.800469 \r\nL 239.098289 61.353052 \r\nL 239.542609 61.698415 \r\nL 239.8092 61.905634 \r\nL 239.8092 62.458216 \r\nL 239.8092 63.010798 \r\nL 239.8092 63.56338 \r\nL 239.8092 64.115962 \r\nL 239.8092 64.668545 \r\nL 240.253519 65.013908 \r\nL 240.520111 65.221127 \r\nL 240.520111 65.773709 \r\nL 240.520111 66.326291 \r\nL 240.520111 66.878873 \r\nL 240.520111 67.431455 \r\nL 240.520111 67.984038 \r\nL 240.520111 68.53662 \r\nL 240.96443 68.881984 \r\nL 241.231022 69.089202 \r\nL 241.231022 69.641784 \r\nL 241.231022 70.194366 \r\nL 241.231022 70.746948 \r\nL 241.231022 71.299531 \r\nL 241.231022 71.852113 \r\nL 241.675341 72.197477 \r\nL 241.941933 72.404695 \r\nL 241.941933 72.957277 \r\nL 241.941933 73.509859 \r\nL 241.941933 74.062441 \r\nL 241.941933 74.615023 \r\nL 241.941933 75.167606 \r\nL 241.941933 75.720188 \r\nL 242.386252 76.065552 \r\nL 242.652843 76.27277 \r\nL 242.652843 76.825352 \r\nL 242.652843 77.377934 \r\nL 242.652843 77.930516 \r\nL 242.652843 78.483099 \r\nL 242.652843 79.035681 \r\nL 243.097163 79.381045 \r\nL 243.363754 79.588263 \r\nL 243.363754 80.140845 \r\nL 243.363754 80.693427 \r\nL 243.363754 81.246009 \r\nL 243.363754 81.798592 \r\nL 243.363754 82.351174 \r\nL 243.363754 82.903756 \r\nL 243.808073 83.24912 \r\nL 244.074665 83.456338 \r\nL 244.074665 84.00892 \r\nL 244.074665 84.561502 \r\nL 244.074665 85.114085 \r\nL 244.074665 85.666667 \r\nL 244.074665 86.219249 \r\nL 244.518984 86.564613 \r\nL 244.785576 86.771831 \r\nL 244.785576 87.324413 \r\nL 244.785576 87.876995 \r\nL 244.785576 88.429577 \r\nL 244.785576 88.98216 \r\nL 244.785576 89.534742 \r\nL 244.785576 90.087324 \r\nL 245.229895 90.432688 \r\nL 245.496487 90.639906 \r\nL 245.496487 91.192488 \r\nL 245.496487 91.74507 \r\nL 245.496487 92.297653 \r\nL 245.496487 92.850235 \r\nL 245.496487 93.402817 \r\nL 245.940806 93.748181 \r\nL 246.207397 93.955399 \r\nL 246.207397 94.507981 \r\nL 246.207397 95.060563 \r\nL 246.207397 95.613146 \r\nL 246.207397 96.165728 \r\nL 246.207397 96.71831 \r\nL 246.207397 97.270892 \r\nL 246.651717 97.616256 \r\nL 246.918308 97.823474 \r\nL 246.918308 98.376056 \r\nL 246.918308 98.928638 \r\nL 246.918308 99.481221 \r\nL 246.918308 100.033803 \r\nL 246.918308 100.586385 \r\nL 247.362627 100.931749 \r\nL 247.629219 101.138967 \r\nL 247.629219 101.691549 \r\nL 247.629219 102.244131 \r\nL 247.629219 102.796714 \r\nL 247.629219 103.349296 \r\nL 247.629219 103.901878 \r\nL 247.629219 104.45446 \r\nL 248.073538 104.799824 \r\nL 248.34013 105.007042 \r\nL 248.34013 105.559624 \r\nL 248.34013 106.112207 \r\nL 248.34013 106.664789 \r\nL 248.34013 107.217371 \r\nL 248.34013 107.769953 \r\nL 248.784449 108.115317 \r\nL 249.051041 108.322535 \r\nL 249.051041 108.875117 \r\nL 249.051041 109.4277 \r\nL 249.051041 109.980282 \r\nL 249.051041 110.532864 \r\nL 249.051041 111.085446 \r\nL 249.051041 111.638028 \r\nL 249.49536 111.983392 \r\nL 249.761951 112.19061 \r\nL 249.761951 112.743192 \r\nL 249.761951 113.295775 \r\nL 249.761951 113.848357 \r\nL 249.761951 114.400939 \r\nL 249.761951 114.953521 \r\nL 250.206271 115.298885 \r\nL 250.472862 115.506103 \r\nL 250.472862 116.058685 \r\nL 250.206271 116.473122 \r\nL 249.49536 116.473122 \r\nL 249.317632 116.611268 \r\nL 248.784449 117.025704 \r\nL 248.073538 117.025704 \r\nL 247.362627 117.025704 \r\nL 247.1849 117.16385 \r\nL 246.651717 117.578286 \r\nL 245.940806 117.578286 \r\nL 245.229895 117.578286 \r\nL 245.052167 117.716432 \r\nL 244.518984 118.130869 \r\nL 243.808073 118.130869 \r\nL 243.097163 118.130869 \r\nL 242.919435 118.269014 \r\nL 242.386252 118.683451 \r\nL 241.675341 118.683451 \r\nL 240.96443 118.683451 \r\nL 240.786702 118.821596 \r\nL 240.253519 119.236033 \r\nL 239.542609 119.236033 \r\nL 238.831698 119.236033 \r\nL 238.65397 119.374178 \r\nL 238.120787 119.788615 \r\nL 237.409876 119.788615 \r\nL 236.698965 119.788615 \r\nL 236.521238 119.926761 \r\nL 235.988054 120.341197 \r\nL 235.277144 120.341197 \r\nL 234.566233 120.341197 \r\nL 233.855322 120.341197 \r\nL 233.677594 120.479343 \r\nL 233.144411 120.893779 \r\nL 232.4335 120.893779 \r\nL 231.72259 120.893779 \r\nL 231.544862 121.031925 \r\nL 231.011679 121.446362 \r\nL 230.300768 121.446362 \r\nL 229.589857 121.446362 \r\nL 229.412129 121.584507 \r\nL 228.878946 121.998944 \r\nL 228.168035 121.998944 \r\nL 227.457125 121.998944 \r\nL 227.279397 122.137089 \r\nL 226.746214 122.551526 \r\nL 226.035303 122.551526 \r\nL 225.324392 122.551526 \r\nL 225.146664 122.689671 \r\nL 224.613481 123.104108 \r\nL 223.902571 123.104108 \r\nL 223.19166 123.104108 \r\nL 223.013932 123.242254 \r\nL 222.480749 123.65669 \r\nL 221.769838 123.65669 \r\nL 221.058927 123.65669 \r\nL 220.8812 123.794836 \r\nL 220.348016 124.209272 \r\nL 219.637106 124.209272 \r\nL 218.926195 124.209272 \r\nL 218.215284 124.209272 \r\nL 218.037556 124.347418 \r\nL 217.504373 124.761854 \r\nL 216.793462 124.761854 \r\nL 216.082552 124.761854 \r\nL 215.904824 124.9 \r\nL 215.371641 125.314437 \r\nL 214.66073 125.314437 \r\nL 213.949819 125.314437 \r\nL 213.772091 125.452582 \r\nL 213.238908 125.867019 \r\nL 212.527998 125.867019 \r\nL 211.817087 125.867019 \r\nL 211.639359 126.005164 \r\nL 211.106176 126.419601 \r\nL 210.395265 126.419601 \r\nL 209.684354 126.419601 \r\nL 209.506627 126.557746 \r\nL 208.973443 126.972183 \r\nL 208.262533 126.972183 \r\nL 207.551622 126.972183 \r\nL 207.373894 127.110329 \r\nL 206.840711 127.524765 \r\nL 206.1298 127.524765 \r\nL 205.418889 127.524765 \r\nL 205.241162 127.662911 \r\nL 204.707979 128.077347 \r\nL 203.997068 128.077347 \r\nL 203.286157 128.077347 \r\nL 202.575246 128.077347 \r\nL 202.397518 128.215493 \r\nL 201.864335 128.62993 \r\nL 201.153424 128.62993 \r\nL 200.442514 128.62993 \r\nL 200.264786 128.768075 \r\nL 199.731603 129.182512 \r\nL 199.020692 129.182512 \r\nL 198.309781 129.182512 \r\nL 198.132053 129.320657 \r\nL 197.59887 129.735094 \r\nL 196.88796 129.735094 \r\nL 196.177049 129.735094 \r\nL 195.999321 129.873239 \r\nL 195.466138 130.287676 \r\nL 194.755227 130.287676 \r\nL 194.044316 130.287676 \r\nL 193.866589 130.425822 \r\nL 193.333405 130.840258 \r\nL 192.622495 130.840258 \r\nL 191.911584 130.840258 \r\nL 191.733856 130.978404 \r\nL 191.200673 131.39284 \r\nL 190.489762 131.39284 \r\nL 189.778851 131.39284 \r\nL 189.601124 131.530986 \r\nL 189.067941 131.945423 \r\nL 188.35703 131.945423 \r\nL 187.646119 131.945423 \r\nL 186.935208 131.945423 \r\nL 186.75748 132.083568 \r\nL 186.224297 132.498005 \r\nL 185.513387 132.498005 \r\nL 184.802476 132.498005 \r\nL 184.624748 132.63615 \r\nL 184.091565 133.050587 \r\nL 183.380654 133.050587 \r\nL 182.669743 133.050587 \r\nL 182.492016 133.188732 \r\nL 181.958832 133.603169 \r\nL 181.247922 133.603169 \r\nL 180.537011 133.603169 \r\nL 180.359283 133.741315 \r\nL 179.8261 134.155751 \r\nL 179.115189 134.155751 \r\nL 178.404278 134.155751 \r\nL 178.226551 134.293897 \r\nL 177.693368 134.708333 \r\nL 176.982457 134.708333 \r\nL 176.271546 134.708333 \r\nL 176.093818 134.846479 \r\nL 175.560635 135.260915 \r\nL 174.849724 135.260915 \r\nL 174.138813 135.260915 \r\nL 173.961086 135.399061 \r\nL 173.427903 135.813498 \r\nL 172.716992 135.813498 \r\nL 172.006081 135.813498 \r\nL 171.29517 135.813498 \r\nL 171.117442 135.951643 \r\nL 170.584259 136.36608 \r\nL 169.873349 136.36608 \r\nL 169.162438 136.36608 \r\nL 168.98471 136.504225 \r\nL 168.451527 136.918662 \r\nL 167.740616 136.918662 \r\nL 167.029705 136.918662 \r\nL 166.851978 137.056808 \r\nL 166.318794 137.471244 \r\nL 165.607884 137.471244 \r\nL 164.896973 137.471244 \r\nL 164.719245 137.60939 \r\nL 164.186062 138.023826 \r\nL 163.475151 138.023826 \r\nL 162.76424 138.023826 \r\nL 162.586513 138.161972 \r\nL 162.05333 138.576408 \r\nL 161.342419 138.576408 \r\nL 160.631508 138.576408 \r\nL 160.45378 138.714554 \r\nL 159.920597 139.128991 \r\nL 159.209686 139.128991 \r\nL 158.498775 139.128991 \r\nL 158.321048 139.267136 \r\nL 157.787865 139.681573 \r\nL 157.076954 139.681573 \r\nL 156.366043 139.681573 \r\nL 155.655132 139.681573 \r\nL 155.477405 139.819718 \r\nL 154.944221 140.234155 \r\nL 154.233311 140.234155 \r\nL 153.5224 140.234155 \r\nL 153.344672 140.3723 \r\nL 152.811489 140.786737 \r\nL 152.100578 140.786737 \r\nL 151.389667 140.786737 \r\nL 151.21194 140.924883 \r\nL 150.678757 141.339319 \r\nL 149.967846 141.339319 \r\nL 149.256935 141.339319 \r\nL 149.079207 141.477465 \r\nL 148.546024 141.891901 \r\nL 147.835113 141.891901 \r\nL 147.124202 141.891901 \r\nL 146.946475 142.030047 \r\nL 146.413292 142.444484 \r\nL 145.702381 142.444484 \r\nL 144.99147 142.444484 \r\nL 144.813742 142.582629 \r\nL 144.280559 142.997066 \r\nL 143.569648 142.997066 \r\nL 142.858738 142.997066 \r\nL 142.68101 143.135211 \r\nL 142.147827 143.549648 \r\nL 141.436916 143.549648 \r\nL 140.726005 143.549648 \r\nL 140.015094 143.549648 \r\nL 139.837367 143.687793 \r\nL 139.304183 144.10223 \r\nL 138.593273 144.10223 \r\nL 137.882362 144.10223 \r\nL 137.704634 144.240376 \r\nL 137.171451 144.654812 \r\nL 136.46054 144.654812 \r\nL 135.749629 144.654812 \r\nL 135.571902 144.792958 \r\nL 135.038719 145.207394 \r\nL 134.327808 145.207394 \r\nL 133.616897 145.207394 \r\nL 133.439169 145.34554 \r\nL 132.905986 145.759977 \r\nL 132.195075 145.759977 \r\nL 131.484164 145.759977 \r\nL 131.306437 145.898122 \r\nL 130.773254 146.312559 \r\nL 130.062343 146.312559 \r\nL 129.351432 146.312559 \r\nL 129.173704 146.450704 \r\nL 128.640521 146.865141 \r\nL 127.92961 146.865141 \r\nL 127.2187 146.865141 \r\nL 127.040972 147.003286 \r\nL 126.507789 147.417723 \r\nL 125.796878 147.417723 \r\nL 125.085967 147.417723 \r\nL 124.375056 147.417723 \r\nL 124.197329 147.555869 \r\nL 123.664146 147.970305 \r\nL 122.953235 147.970305 \r\nL 122.242324 147.970305 \r\nL 122.064596 148.108451 \r\nL 121.531413 148.522887 \r\nL 120.820502 148.522887 \r\nL 120.109591 148.522887 \r\nL 119.931864 148.661033 \r\nL 119.398681 149.075469 \r\nL 118.68777 149.075469 \r\nL 117.976859 149.075469 \r\nL 117.799131 149.213615 \r\nL 117.265948 149.628052 \r\nL 116.555037 149.628052 \r\nL 115.844127 149.628052 \r\nL 115.666399 149.766197 \r\nL 115.133216 150.180634 \r\nL 114.422305 150.180634 \r\nL 113.711394 150.180634 \r\nL 113.533666 150.318779 \r\nL 113.000483 150.733216 \r\nL 112.289572 150.733216 \r\nL 111.578662 150.733216 \r\nL 111.400934 150.871362 \r\nL 110.867751 151.285798 \r\nL 110.15684 151.285798 \r\nL 109.445929 151.285798 \r\nL 108.735018 151.285798 \r\nL 108.557291 151.423944 \r\nL 108.024108 151.83838 \r\nL 107.313197 151.83838 \r\nL 106.602286 151.83838 \r\nL 106.424558 151.976526 \r\nL 105.891375 152.390962 \r\nL 105.180464 152.390962 \r\nL 104.469553 152.390962 \r\nL 104.291826 152.529108 \r\nL 103.758643 152.943545 \r\nL 103.047732 152.943545 \r\nL 102.336821 152.943545 \r\nL 102.159093 153.08169 \r\nL 101.62591 153.496127 \r\nL 100.914999 153.496127 \r\nL 100.204089 153.496127 \r\nL 100.026361 153.634272 \r\nL 99.493178 154.048709 \r\nL 98.782267 154.048709 \r\nL 98.071356 154.048709 \r\nL 97.893628 154.186854 \r\nL 97.360445 154.601291 \r\nL 96.649535 154.601291 \r\nL 95.938624 154.601291 \r\nL 95.760896 154.739437 \r\nL 95.227713 155.153873 \r\nL 94.516802 155.153873 \r\nL 93.805891 155.153873 \r\nL 93.09498 155.153873 \r\nL 92.917253 155.292019 \r\nL 92.38407 155.706455 \r\nL 91.673159 155.706455 \r\nL 90.962248 155.706455 \r\nL 90.78452 155.844601 \r\nL 90.251337 156.259038 \r\nL 89.540426 156.259038 \r\nL 88.829516 156.259038 \r\nL 88.651788 156.397183 \r\nL 88.118605 156.81162 \r\nL 87.407694 156.81162 \r\nL 86.696783 156.81162 \r\nL 86.519055 156.949765 \r\nL 85.985872 157.364202 \r\nL 85.274961 157.364202 \r\nL 84.564051 157.364202 \r\nL 84.386323 157.502347 \r\nL 83.85314 157.916784 \r\nL 83.142229 157.916784 \r\nL 82.431318 157.916784 \r\nL 82.25359 158.05493 \r\nL 81.720407 158.469366 \r\nL 81.009497 158.469366 \r\nL 80.298586 158.469366 \r\nL 80.120858 158.607512 \r\nL 79.587675 159.021948 \r\nL 78.876764 159.021948 \r\nL 78.165853 159.021948 \r\nL 77.454942 159.021948 \r\nL 77.277215 159.160094 \r\nL 76.744032 159.574531 \r\nL 76.033121 159.574531 \r\nL 75.32221 159.574531 \r\nL 75.144482 159.712676 \r\nL 74.611299 160.127113 \r\nL 73.900388 160.127113 \r\nL 73.189478 160.127113 \r\nL 73.01175 160.265258 \r\nL 72.478567 160.679695 \r\nL 71.767656 160.679695 \r\nL 71.056745 160.679695 \r\nL 70.879017 160.81784 \r\nL 70.345834 161.232277 \r\nL 69.634924 161.232277 \r\nL 68.924013 161.232277 \r\nL 68.746285 161.370423 \r\nL 68.213102 161.784859 \r\nL 67.502191 161.784859 \r\nL 66.79128 161.784859 \r\nL 66.613553 161.923005 \r\nL 66.080369 162.337441 \r\nL 65.369459 162.337441 \r\nL 64.658548 162.337441 \r\nL 64.48082 162.475587 \r\nL 63.947637 162.890023 \r\nL 63.236726 162.890023 \r\nL 62.525815 162.890023 \r\nL 61.814905 162.890023 \r\nL 61.637177 163.028169 \r\nL 61.103994 163.442606 \r\nL 60.393083 163.442606 \r\nL 59.682172 163.442606 \r\nL 59.504444 163.580751 \r\nL 58.971261 163.995188 \r\nL 58.26035 163.995188 \r\nL 57.54944 163.995188 \r\nL 57.371712 164.133333 \r\nL 56.838529 164.54777 \r\nL 56.127618 164.54777 \r\nL 55.416707 164.54777 \r\nL 55.238979 164.685915 \r\nL 54.705796 165.100352 \r\nL 53.994886 165.100352 \r\nL 53.283975 165.100352 \r\nL 53.106247 165.238498 \r\nL 52.573064 165.652934 \r\nL 51.862153 165.652934 \r\nL 51.151242 165.652934 \r\nL 50.973515 165.79108 \r\nL 50.440331 166.205516 \r\nL 49.729421 166.205516 \r\nL 49.01851 166.205516 \r\nL 48.840782 166.343662 \r\nL 48.307599 166.758099 \r\nL 47.596688 166.758099 \r\nL 46.885777 166.758099 \r\nL 46.174867 166.758099 \r\nL 45.997139 166.896244 \r\nL 45.463956 167.310681 \r\nL 44.753045 167.310681 \r\nL 44.042134 167.310681 \r\nL 43.864406 167.448826 \r\nL 43.331223 167.863263 \r\nL 42.620312 167.863263 \r\nL 42.620312 168.001408 \r\nL 42.620312 168.553991 \r\nL 42.620312 169.106573 \r\nL 42.620312 169.659155 \r\nL 42.620312 170.211737 \r\nL 42.620312 170.764319 \r\nL 42.620312 171.316901 \r\nL 42.620312 171.869484 \r\nL 42.620312 172.422066 \r\nL 42.620312 172.974648 \r\nL 42.620312 173.52723 \r\nL 42.620312 174.079812 \r\nL 42.620312 174.632394 \r\nL 42.620312 175.184977 \r\nL 42.620312 175.737559 \r\nL 42.620312 176.290141 \r\nL 42.620312 176.842723 \r\nL 42.620312 177.395305 \r\nL 42.620312 177.947887 \r\nL 42.620312 178.500469 \r\nL 42.620312 179.053052 \r\nL 42.620312 179.605634 \r\nL 42.620312 180.158216 \r\nL 42.620312 180.710798 \r\nL 42.620312 181.26338 \r\nL 42.620312 181.815962 \r\nL 42.620312 182.368545 \r\nL 42.620312 182.921127 \r\nL 42.620312 183.473709 \r\nL 42.620312 184.026291 \r\nL 42.620312 184.578873 \r\nL 42.620312 185.131455 \r\nL 42.620312 185.684038 \r\nL 42.620312 186.23662 \r\nL 42.620312 186.789202 \r\nL 42.620312 187.341784 \r\nL 42.620312 187.894366 \r\nL 42.620312 188.446948 \r\nL 42.620312 188.999531 \r\nL 42.620312 189.552113 \r\nL 42.620312 190.104695 \r\nL 42.620312 190.657277 \r\nL 42.620312 191.209859 \r\nL 42.620312 191.762441 \r\nL 42.620312 192.315023 \r\nL 42.620312 192.867606 \r\nL 42.620312 193.420188 \r\nL 42.620312 193.97277 \r\nL 42.620312 194.525352 \r\nL 42.620312 195.077934 \r\nL 42.620312 195.630516 \r\nL 42.620312 196.183099 \r\nL 42.620312 196.735681 \r\nL 42.620312 197.288263 \r\nL 42.620312 197.840845 \r\nL 42.620312 198.393427 \r\nL 42.620312 198.946009 \r\nL 42.620312 199.498592 \r\nL 42.620312 200.051174 \r\nL 42.620312 200.603756 \r\nL 42.620312 201.156338 \r\nL 42.620312 201.70892 \r\nL 42.620312 202.261502 \r\nL 42.620312 202.814085 \r\nL 42.620312 203.366667 \r\nL 42.620312 203.919249 \r\nL 42.620312 204.471831 \r\nL 42.620312 205.024413 \r\nL 42.620312 205.576995 \r\nL 42.620312 206.129577 \r\nL 42.620312 206.68216 \r\nL 42.620312 207.234742 \r\nL 42.620312 207.787324 \r\nL 42.620312 208.339906 \r\nL 42.620312 208.892488 \r\nL 42.620312 209.44507 \r\nL 42.620312 209.997653 \r\nL 42.620312 210.550235 \r\nL 42.620312 211.102817 \r\nL 42.620312 211.655399 \r\nL 42.620312 212.207981 \r\nL 42.620312 212.760563 \r\nL 42.620312 213.313146 \r\nL 42.620312 213.865728 \r\nL 42.620312 214.41831 \r\nL 42.620312 214.970892 \r\nL 42.620312 215.523474 \r\nL 42.620312 216.076056 \r\nL 42.620312 216.628638 \r\nL 42.620312 217.181221 \r\nL 42.620312 217.733803 \r\nL 42.620312 218.286385 \r\nL 42.620312 218.838967 \r\nL 42.620312 219.391549 \r\nL 42.620312 219.944131 \r\nL 42.620312 220.496714 \r\nL 42.620312 221.049296 \r\nL 42.620312 221.601878 \r\nL 42.620312 222.15446 \r\nL 42.620312 222.707042 \r\nL 42.620312 223.259624 \r\nL 42.620312 223.812207 \r\nL 42.620312 224.364789 \r\nL 42.620312 224.917371 \r\nL 42.620312 225.469953 \r\nL 42.620312 226.022535 \r\nL 42.620312 226.575117 \r\nL 42.620312 227.1277 \r\nL 42.620312 227.680282 \r\nL 42.620312 228.232864 \r\nL 42.620312 228.785446 \r\nL 42.620312 229.338028 \r\nL 42.620312 229.89061 \r\nL 42.620312 230.443192 \r\nL 42.620312 230.995775 \r\nL 42.620312 231.548357 \r\nL 42.620312 232.100939 \r\nL 42.620312 232.653521 \r\nL 42.620312 233.206103 \r\nL 42.620312 233.758685 \r\nL 42.620312 234.311268 \r\nL 42.620312 234.86385 \r\nL 42.620312 235.416432 \r\nL 42.620312 235.969014 \r\nL 42.620312 236.521596 \r\nL 42.620312 237.074178 \r\nL 42.620312 237.626761 \r\nL 42.620312 238.179343 \r\nL 42.620312 238.731925 \r\nL 42.620312 239.284507 \r\nL 42.620312 239.837089 \r\nL 42.620312 240.389671 \r\nL 42.620312 240.942254 \r\nL 42.620312 241.494836 \r\nL 42.620312 242.047418 \r\nL 42.620312 242.6 \r\nz\r\n\" style=\"fill:#0000ff;fill-opacity:0.4;\"/>\r\n   </g>\r\n   <g id=\"PathCollection_5\">\r\n    <path clip-path=\"url(#p55578fd002)\" d=\"M 415.848491 165.238498 \r\nL 416.559402 165.238498 \r\nL 417.270312 165.238498 \r\nL 417.270312 165.100352 \r\nL 416.559402 165.100352 \r\nL 415.848491 165.100352 \r\nL 415.315308 164.685915 \r\nL 415.13758 164.54777 \r\nL 414.426669 164.54777 \r\nL 413.893486 164.133333 \r\nL 413.715758 163.995188 \r\nL 413.004848 163.995188 \r\nL 412.293937 163.995188 \r\nL 411.760754 163.580751 \r\nL 411.583026 163.442606 \r\nL 410.872115 163.442606 \r\nL 410.161204 163.442606 \r\nL 409.628021 163.028169 \r\nL 409.450294 162.890023 \r\nL 408.739383 162.890023 \r\nL 408.2062 162.475587 \r\nL 408.028472 162.337441 \r\nL 407.317561 162.337441 \r\nL 406.60665 162.337441 \r\nL 406.073467 161.923005 \r\nL 405.895739 161.784859 \r\nL 405.184829 161.784859 \r\nL 404.473918 161.784859 \r\nL 403.940735 161.370423 \r\nL 403.763007 161.232277 \r\nL 403.052096 161.232277 \r\nL 402.518913 160.81784 \r\nL 402.341185 160.679695 \r\nL 401.630275 160.679695 \r\nL 400.919364 160.679695 \r\nL 400.386181 160.265258 \r\nL 400.208453 160.127113 \r\nL 399.497542 160.127113 \r\nL 398.786631 160.127113 \r\nL 398.253448 159.712676 \r\nL 398.07572 159.574531 \r\nL 397.36481 159.574531 \r\nL 396.831627 159.160094 \r\nL 396.653899 159.021948 \r\nL 395.942988 159.021948 \r\nL 395.232077 159.021948 \r\nL 394.698894 158.607512 \r\nL 394.521166 158.469366 \r\nL 393.810256 158.469366 \r\nL 393.099345 158.469366 \r\nL 392.566162 158.05493 \r\nL 392.388434 157.916784 \r\nL 391.677523 157.916784 \r\nL 391.14434 157.502347 \r\nL 390.966612 157.364202 \r\nL 390.255701 157.364202 \r\nL 389.544791 157.364202 \r\nL 389.011608 156.949765 \r\nL 388.83388 156.81162 \r\nL 388.122969 156.81162 \r\nL 387.412058 156.81162 \r\nL 386.878875 156.397183 \r\nL 386.701147 156.259038 \r\nL 385.990237 156.259038 \r\nL 385.457053 155.844601 \r\nL 385.279326 155.706455 \r\nL 384.568415 155.706455 \r\nL 383.857504 155.706455 \r\nL 383.324321 155.292019 \r\nL 383.146593 155.153873 \r\nL 382.435683 155.153873 \r\nL 381.724772 155.153873 \r\nL 381.191589 154.739437 \r\nL 381.013861 154.601291 \r\nL 380.30295 154.601291 \r\nL 379.769767 154.186854 \r\nL 379.592039 154.048709 \r\nL 378.881128 154.048709 \r\nL 378.170218 154.048709 \r\nL 377.637035 153.634272 \r\nL 377.459307 153.496127 \r\nL 376.748396 153.496127 \r\nL 376.037485 153.496127 \r\nL 375.504302 153.08169 \r\nL 375.326574 152.943545 \r\nL 374.615664 152.943545 \r\nL 374.08248 152.529108 \r\nL 373.904753 152.390962 \r\nL 373.193842 152.390962 \r\nL 372.482931 152.390962 \r\nL 371.949748 151.976526 \r\nL 371.77202 151.83838 \r\nL 371.061109 151.83838 \r\nL 370.350199 151.83838 \r\nL 369.817016 151.423944 \r\nL 369.639288 151.285798 \r\nL 368.928377 151.285798 \r\nL 368.395194 150.871362 \r\nL 368.217466 150.733216 \r\nL 367.506555 150.733216 \r\nL 366.795645 150.733216 \r\nL 366.262461 150.318779 \r\nL 366.084734 150.180634 \r\nL 365.373823 150.180634 \r\nL 364.662912 150.180634 \r\nL 364.129729 149.766197 \r\nL 363.952001 149.628052 \r\nL 363.24109 149.628052 \r\nL 362.707907 149.213615 \r\nL 362.53018 149.075469 \r\nL 361.819269 149.075469 \r\nL 361.108358 149.075469 \r\nL 360.575175 148.661033 \r\nL 360.397447 148.522887 \r\nL 359.686536 148.522887 \r\nL 358.975626 148.522887 \r\nL 358.442442 148.108451 \r\nL 358.264715 147.970305 \r\nL 357.553804 147.970305 \r\nL 357.020621 147.555869 \r\nL 356.842893 147.417723 \r\nL 356.131982 147.417723 \r\nL 355.421072 147.417723 \r\nL 354.887888 147.003286 \r\nL 354.710161 146.865141 \r\nL 353.99925 146.865141 \r\nL 353.288339 146.865141 \r\nL 352.755156 146.450704 \r\nL 352.577428 146.312559 \r\nL 351.866517 146.312559 \r\nL 351.333334 145.898122 \r\nL 351.155607 145.759977 \r\nL 350.444696 145.759977 \r\nL 349.733785 145.759977 \r\nL 349.200602 145.34554 \r\nL 349.022874 145.207394 \r\nL 348.311963 145.207394 \r\nL 347.601053 145.207394 \r\nL 347.067869 144.792958 \r\nL 346.890142 144.654812 \r\nL 346.179231 144.654812 \r\nL 345.646048 144.240376 \r\nL 345.46832 144.10223 \r\nL 344.757409 144.10223 \r\nL 344.046498 144.10223 \r\nL 343.513315 143.687793 \r\nL 343.335588 143.549648 \r\nL 342.624677 143.549648 \r\nL 341.913766 143.549648 \r\nL 341.380583 143.135211 \r\nL 341.202855 142.997066 \r\nL 340.491944 142.997066 \r\nL 339.958761 142.582629 \r\nL 339.781034 142.444484 \r\nL 339.070123 142.444484 \r\nL 338.359212 142.444484 \r\nL 337.826029 142.030047 \r\nL 337.648301 141.891901 \r\nL 336.93739 141.891901 \r\nL 336.404207 141.477465 \r\nL 336.226479 141.339319 \r\nL 335.515569 141.339319 \r\nL 334.804658 141.339319 \r\nL 334.271475 140.924883 \r\nL 334.093747 140.786737 \r\nL 333.382836 140.786737 \r\nL 332.671925 140.786737 \r\nL 332.138742 140.3723 \r\nL 331.961015 140.234155 \r\nL 331.250104 140.234155 \r\nL 330.716921 139.819718 \r\nL 330.539193 139.681573 \r\nL 329.828282 139.681573 \r\nL 329.117371 139.681573 \r\nL 328.584188 139.267136 \r\nL 328.406461 139.128991 \r\nL 327.69555 139.128991 \r\nL 326.984639 139.128991 \r\nL 326.451456 138.714554 \r\nL 326.273728 138.576408 \r\nL 325.562817 138.576408 \r\nL 325.029634 138.161972 \r\nL 324.851906 138.023826 \r\nL 324.140996 138.023826 \r\nL 323.430085 138.023826 \r\nL 322.896902 137.60939 \r\nL 322.719174 137.471244 \r\nL 322.008263 137.471244 \r\nL 321.297352 137.471244 \r\nL 320.764169 137.056808 \r\nL 320.586442 136.918662 \r\nL 319.875531 136.918662 \r\nL 319.342348 136.504225 \r\nL 319.16462 136.36608 \r\nL 318.453709 136.36608 \r\nL 317.742798 136.36608 \r\nL 317.209615 135.951643 \r\nL 317.031887 135.813498 \r\nL 316.320977 135.813498 \r\nL 315.610066 135.813498 \r\nL 315.076883 135.399061 \r\nL 314.899155 135.260915 \r\nL 314.188244 135.260915 \r\nL 313.655061 134.846479 \r\nL 313.477333 134.708333 \r\nL 312.766423 134.708333 \r\nL 312.055512 134.708333 \r\nL 311.522329 134.293897 \r\nL 311.344601 134.155751 \r\nL 310.63369 134.155751 \r\nL 309.922779 134.155751 \r\nL 309.389596 133.741315 \r\nL 309.211868 133.603169 \r\nL 308.500958 133.603169 \r\nL 307.967775 133.188732 \r\nL 307.790047 133.050587 \r\nL 307.079136 133.050587 \r\nL 306.368225 133.050587 \r\nL 305.835042 132.63615 \r\nL 305.657314 132.498005 \r\nL 304.946404 132.498005 \r\nL 304.235493 132.498005 \r\nL 303.70231 132.083568 \r\nL 303.524582 131.945423 \r\nL 302.813671 131.945423 \r\nL 302.280488 131.530986 \r\nL 302.10276 131.39284 \r\nL 301.39185 131.39284 \r\nL 300.680939 131.39284 \r\nL 300.147756 130.978404 \r\nL 299.970028 130.840258 \r\nL 299.259117 130.840258 \r\nL 298.548206 130.840258 \r\nL 298.015023 130.425822 \r\nL 297.837295 130.287676 \r\nL 297.126385 130.287676 \r\nL 296.593201 129.873239 \r\nL 296.415474 129.735094 \r\nL 295.704563 129.735094 \r\nL 294.993652 129.735094 \r\nL 294.460469 129.320657 \r\nL 294.282741 129.182512 \r\nL 293.571831 129.182512 \r\nL 292.86092 129.182512 \r\nL 292.327737 128.768075 \r\nL 292.150009 128.62993 \r\nL 291.439098 128.62993 \r\nL 290.905915 128.215493 \r\nL 290.728187 128.077347 \r\nL 290.017276 128.077347 \r\nL 289.306366 128.077347 \r\nL 288.773183 127.662911 \r\nL 288.595455 127.524765 \r\nL 287.884544 127.524765 \r\nL 287.173633 127.524765 \r\nL 286.64045 127.110329 \r\nL 286.462722 126.972183 \r\nL 285.751812 126.972183 \r\nL 285.218628 126.557746 \r\nL 285.040901 126.419601 \r\nL 284.32999 126.419601 \r\nL 283.619079 126.419601 \r\nL 283.085896 126.005164 \r\nL 282.908168 125.867019 \r\nL 282.197257 125.867019 \r\nL 281.486347 125.867019 \r\nL 280.953164 125.452582 \r\nL 280.775436 125.314437 \r\nL 280.064525 125.314437 \r\nL 279.531342 124.9 \r\nL 279.353614 124.761854 \r\nL 278.642703 124.761854 \r\nL 277.931793 124.761854 \r\nL 277.398609 124.347418 \r\nL 277.220882 124.209272 \r\nL 276.509971 124.209272 \r\nL 275.79906 124.209272 \r\nL 275.265877 123.794836 \r\nL 275.088149 123.65669 \r\nL 274.377238 123.65669 \r\nL 273.844055 123.242254 \r\nL 273.666328 123.104108 \r\nL 272.955417 123.104108 \r\nL 272.244506 123.104108 \r\nL 271.711323 122.689671 \r\nL 271.533595 122.551526 \r\nL 270.822684 122.551526 \r\nL 270.111774 122.551526 \r\nL 269.57859 122.137089 \r\nL 269.400863 121.998944 \r\nL 268.689952 121.998944 \r\nL 268.156769 121.584507 \r\nL 267.979041 121.446362 \r\nL 267.26813 121.446362 \r\nL 266.55722 121.446362 \r\nL 266.024036 121.031925 \r\nL 265.846309 120.893779 \r\nL 265.135398 120.893779 \r\nL 264.424487 120.893779 \r\nL 263.891304 120.479343 \r\nL 263.713576 120.341197 \r\nL 263.002665 120.341197 \r\nL 262.469482 119.926761 \r\nL 262.291755 119.788615 \r\nL 261.580844 119.788615 \r\nL 260.869933 119.788615 \r\nL 260.33675 119.374178 \r\nL 260.159022 119.236033 \r\nL 259.448111 119.236033 \r\nL 258.737201 119.236033 \r\nL 258.204017 118.821596 \r\nL 258.02629 118.683451 \r\nL 257.315379 118.683451 \r\nL 256.782196 118.269014 \r\nL 256.604468 118.130869 \r\nL 255.893557 118.130869 \r\nL 255.182646 118.130869 \r\nL 254.649463 117.716432 \r\nL 254.471736 117.578286 \r\nL 253.760825 117.578286 \r\nL 253.227642 117.16385 \r\nL 253.049914 117.025704 \r\nL 252.339003 117.025704 \r\nL 251.628092 117.025704 \r\nL 251.094909 116.611268 \r\nL 250.917182 116.473122 \r\nL 250.65059 116.058685 \r\nL 250.65059 115.506103 \r\nL 250.206271 115.160739 \r\nL 249.939679 114.953521 \r\nL 249.939679 114.400939 \r\nL 249.939679 113.848357 \r\nL 249.939679 113.295775 \r\nL 249.939679 112.743192 \r\nL 249.939679 112.19061 \r\nL 249.49536 111.845246 \r\nL 249.228768 111.638028 \r\nL 249.228768 111.085446 \r\nL 249.228768 110.532864 \r\nL 249.228768 109.980282 \r\nL 249.228768 109.4277 \r\nL 249.228768 108.875117 \r\nL 249.228768 108.322535 \r\nL 248.784449 107.977171 \r\nL 248.517858 107.769953 \r\nL 248.517858 107.217371 \r\nL 248.517858 106.664789 \r\nL 248.517858 106.112207 \r\nL 248.517858 105.559624 \r\nL 248.517858 105.007042 \r\nL 248.073538 104.661678 \r\nL 247.806947 104.45446 \r\nL 247.806947 103.901878 \r\nL 247.806947 103.349296 \r\nL 247.806947 102.796714 \r\nL 247.806947 102.244131 \r\nL 247.806947 101.691549 \r\nL 247.806947 101.138967 \r\nL 247.362627 100.793603 \r\nL 247.096036 100.586385 \r\nL 247.096036 100.033803 \r\nL 247.096036 99.481221 \r\nL 247.096036 98.928638 \r\nL 247.096036 98.376056 \r\nL 247.096036 97.823474 \r\nL 246.651717 97.47811 \r\nL 246.385125 97.270892 \r\nL 246.385125 96.71831 \r\nL 246.385125 96.165728 \r\nL 246.385125 95.613146 \r\nL 246.385125 95.060563 \r\nL 246.385125 94.507981 \r\nL 246.385125 93.955399 \r\nL 245.940806 93.610035 \r\nL 245.674214 93.402817 \r\nL 245.674214 92.850235 \r\nL 245.674214 92.297653 \r\nL 245.674214 91.74507 \r\nL 245.674214 91.192488 \r\nL 245.674214 90.639906 \r\nL 245.229895 90.294542 \r\nL 244.963303 90.087324 \r\nL 244.963303 89.534742 \r\nL 244.963303 88.98216 \r\nL 244.963303 88.429577 \r\nL 244.963303 87.876995 \r\nL 244.963303 87.324413 \r\nL 244.963303 86.771831 \r\nL 244.518984 86.426467 \r\nL 244.252393 86.219249 \r\nL 244.252393 85.666667 \r\nL 244.252393 85.114085 \r\nL 244.252393 84.561502 \r\nL 244.252393 84.00892 \r\nL 244.252393 83.456338 \r\nL 243.808073 83.110974 \r\nL 243.541482 82.903756 \r\nL 243.541482 82.351174 \r\nL 243.541482 81.798592 \r\nL 243.541482 81.246009 \r\nL 243.541482 80.693427 \r\nL 243.541482 80.140845 \r\nL 243.541482 79.588263 \r\nL 243.097163 79.242899 \r\nL 242.830571 79.035681 \r\nL 242.830571 78.483099 \r\nL 242.830571 77.930516 \r\nL 242.830571 77.377934 \r\nL 242.830571 76.825352 \r\nL 242.830571 76.27277 \r\nL 242.386252 75.927406 \r\nL 242.11966 75.720188 \r\nL 242.11966 75.167606 \r\nL 242.11966 74.615023 \r\nL 242.11966 74.062441 \r\nL 242.11966 73.509859 \r\nL 242.11966 72.957277 \r\nL 242.11966 72.404695 \r\nL 241.675341 72.059331 \r\nL 241.408749 71.852113 \r\nL 241.408749 71.299531 \r\nL 241.408749 70.746948 \r\nL 241.408749 70.194366 \r\nL 241.408749 69.641784 \r\nL 241.408749 69.089202 \r\nL 240.96443 68.743838 \r\nL 240.697839 68.53662 \r\nL 240.697839 67.984038 \r\nL 240.697839 67.431455 \r\nL 240.697839 66.878873 \r\nL 240.697839 66.326291 \r\nL 240.697839 65.773709 \r\nL 240.697839 65.221127 \r\nL 240.253519 64.875763 \r\nL 239.986928 64.668545 \r\nL 239.986928 64.115962 \r\nL 239.986928 63.56338 \r\nL 239.986928 63.010798 \r\nL 239.986928 62.458216 \r\nL 239.986928 61.905634 \r\nL 239.542609 61.56027 \r\nL 239.276017 61.353052 \r\nL 239.276017 60.800469 \r\nL 239.276017 60.247887 \r\nL 239.276017 59.695305 \r\nL 239.276017 59.142723 \r\nL 239.276017 58.590141 \r\nL 239.276017 58.037559 \r\nL 238.831698 57.692195 \r\nL 238.565106 57.484977 \r\nL 238.565106 56.932394 \r\nL 238.565106 56.379812 \r\nL 238.565106 55.82723 \r\nL 238.565106 55.274648 \r\nL 238.565106 54.722066 \r\nL 238.120787 54.376702 \r\nL 237.854195 54.169484 \r\nL 237.854195 53.616901 \r\nL 237.854195 53.064319 \r\nL 237.854195 52.511737 \r\nL 237.854195 51.959155 \r\nL 237.854195 51.406573 \r\nL 237.854195 50.853991 \r\nL 237.409876 50.508627 \r\nL 237.143285 50.301408 \r\nL 237.143285 49.748826 \r\nL 237.143285 49.196244 \r\nL 237.143285 48.643662 \r\nL 237.143285 48.09108 \r\nL 237.143285 47.538498 \r\nL 236.698965 47.193134 \r\nL 236.432374 46.985915 \r\nL 236.432374 46.433333 \r\nL 236.432374 45.880751 \r\nL 236.432374 45.328169 \r\nL 236.432374 44.775587 \r\nL 236.432374 44.223005 \r\nL 236.432374 43.670423 \r\nL 235.988054 43.325059 \r\nL 235.721463 43.11784 \r\nL 235.721463 42.565258 \r\nL 235.721463 42.012676 \r\nL 235.721463 41.460094 \r\nL 235.721463 40.907512 \r\nL 235.721463 40.35493 \r\nL 235.277144 40.009566 \r\nL 235.010552 39.802347 \r\nL 235.010552 39.249765 \r\nL 235.010552 38.697183 \r\nL 235.010552 38.144601 \r\nL 235.010552 37.592019 \r\nL 235.010552 37.039437 \r\nL 235.010552 36.486854 \r\nL 234.566233 36.141491 \r\nL 234.299641 35.934272 \r\nL 234.299641 35.38169 \r\nL 234.299641 34.829108 \r\nL 234.299641 34.276526 \r\nL 234.299641 33.723944 \r\nL 234.299641 33.171362 \r\nL 233.855322 32.825998 \r\nL 233.58873 32.618779 \r\nL 233.58873 32.066197 \r\nL 233.58873 31.513615 \r\nL 233.58873 30.961033 \r\nL 233.58873 30.408451 \r\nL 233.58873 29.855869 \r\nL 233.58873 29.303286 \r\nL 233.144411 28.957923 \r\nL 232.87782 28.750704 \r\nL 232.87782 28.198122 \r\nL 232.87782 27.64554 \r\nL 232.87782 27.092958 \r\nL 232.87782 26.540376 \r\nL 232.87782 25.987793 \r\nL 232.4335 25.64243 \r\nL 232.166909 25.435211 \r\nL 232.166909 24.882629 \r\nL 232.166909 24.330047 \r\nL 232.166909 23.777465 \r\nL 232.166909 23.224883 \r\nL 232.166909 22.6723 \r\nL 231.72259 22.326937 \r\nL 231.455998 22.119718 \r\nL 231.455998 21.567136 \r\nL 231.455998 21.014554 \r\nL 231.455998 20.461972 \r\nL 231.455998 19.90939 \r\nL 231.455998 19.356808 \r\nL 231.455998 18.804225 \r\nL 231.011679 18.458862 \r\nL 230.745087 18.251643 \r\nL 230.745087 17.699061 \r\nL 230.745087 17.146479 \r\nL 230.745087 16.593897 \r\nL 230.745087 16.041315 \r\nL 230.745087 15.488732 \r\nL 230.300768 15.143369 \r\nL 230.034176 14.93615 \r\nL 230.034176 14.383568 \r\nL 230.034176 13.830986 \r\nL 230.034176 13.278404 \r\nL 230.034176 12.725822 \r\nL 230.034176 12.173239 \r\nL 230.034176 11.620657 \r\nL 229.589857 11.275293 \r\nL 229.323266 11.068075 \r\nL 229.323266 10.515493 \r\nL 229.323266 9.962911 \r\nL 229.323266 9.410329 \r\nL 229.323266 8.857746 \r\nL 229.323266 8.305164 \r\nL 228.878946 7.9598 \r\nL 228.612355 7.752582 \r\nL 228.612355 7.2 \r\nL 228.523491 7.2 \r\nL 228.523491 7.752582 \r\nL 228.878946 8.028873 \r\nL 229.234402 8.305164 \r\nL 229.234402 8.857746 \r\nL 229.234402 9.410329 \r\nL 229.234402 9.962911 \r\nL 229.234402 10.515493 \r\nL 229.234402 11.068075 \r\nL 229.589857 11.344366 \r\nL 229.945312 11.620657 \r\nL 229.945312 12.173239 \r\nL 229.945312 12.725822 \r\nL 229.945312 13.278404 \r\nL 229.945312 13.830986 \r\nL 229.945312 14.383568 \r\nL 229.945312 14.93615 \r\nL 230.300768 15.212441 \r\nL 230.656223 15.488732 \r\nL 230.656223 16.041315 \r\nL 230.656223 16.593897 \r\nL 230.656223 17.146479 \r\nL 230.656223 17.699061 \r\nL 230.656223 18.251643 \r\nL 231.011679 18.527934 \r\nL 231.367134 18.804225 \r\nL 231.367134 19.356808 \r\nL 231.367134 19.90939 \r\nL 231.367134 20.461972 \r\nL 231.367134 21.014554 \r\nL 231.367134 21.567136 \r\nL 231.367134 22.119718 \r\nL 231.72259 22.396009 \r\nL 232.078045 22.6723 \r\nL 232.078045 23.224883 \r\nL 232.078045 23.777465 \r\nL 232.078045 24.330047 \r\nL 232.078045 24.882629 \r\nL 232.078045 25.435211 \r\nL 232.4335 25.711502 \r\nL 232.788956 25.987793 \r\nL 232.788956 26.540376 \r\nL 232.788956 27.092958 \r\nL 232.788956 27.64554 \r\nL 232.788956 28.198122 \r\nL 232.788956 28.750704 \r\nL 233.144411 29.026995 \r\nL 233.499867 29.303286 \r\nL 233.499867 29.855869 \r\nL 233.499867 30.408451 \r\nL 233.499867 30.961033 \r\nL 233.499867 31.513615 \r\nL 233.499867 32.066197 \r\nL 233.499867 32.618779 \r\nL 233.855322 32.89507 \r\nL 234.210777 33.171362 \r\nL 234.210777 33.723944 \r\nL 234.210777 34.276526 \r\nL 234.210777 34.829108 \r\nL 234.210777 35.38169 \r\nL 234.210777 35.934272 \r\nL 234.566233 36.210563 \r\nL 234.921688 36.486854 \r\nL 234.921688 37.039437 \r\nL 234.921688 37.592019 \r\nL 234.921688 38.144601 \r\nL 234.921688 38.697183 \r\nL 234.921688 39.249765 \r\nL 234.921688 39.802347 \r\nL 235.277144 40.078638 \r\nL 235.632599 40.35493 \r\nL 235.632599 40.907512 \r\nL 235.632599 41.460094 \r\nL 235.632599 42.012676 \r\nL 235.632599 42.565258 \r\nL 235.632599 43.11784 \r\nL 235.988054 43.394131 \r\nL 236.34351 43.670423 \r\nL 236.34351 44.223005 \r\nL 236.34351 44.775587 \r\nL 236.34351 45.328169 \r\nL 236.34351 45.880751 \r\nL 236.34351 46.433333 \r\nL 236.34351 46.985915 \r\nL 236.698965 47.262207 \r\nL 237.054421 47.538498 \r\nL 237.054421 48.09108 \r\nL 237.054421 48.643662 \r\nL 237.054421 49.196244 \r\nL 237.054421 49.748826 \r\nL 237.054421 50.301408 \r\nL 237.409876 50.5777 \r\nL 237.765331 50.853991 \r\nL 237.765331 51.406573 \r\nL 237.765331 51.959155 \r\nL 237.765331 52.511737 \r\nL 237.765331 53.064319 \r\nL 237.765331 53.616901 \r\nL 237.765331 54.169484 \r\nL 238.120787 54.445775 \r\nL 238.476242 54.722066 \r\nL 238.476242 55.274648 \r\nL 238.476242 55.82723 \r\nL 238.476242 56.379812 \r\nL 238.476242 56.932394 \r\nL 238.476242 57.484977 \r\nL 238.831698 57.761268 \r\nL 239.187153 58.037559 \r\nL 239.187153 58.590141 \r\nL 239.187153 59.142723 \r\nL 239.187153 59.695305 \r\nL 239.187153 60.247887 \r\nL 239.187153 60.800469 \r\nL 239.187153 61.353052 \r\nL 239.542609 61.629343 \r\nL 239.898064 61.905634 \r\nL 239.898064 62.458216 \r\nL 239.898064 63.010798 \r\nL 239.898064 63.56338 \r\nL 239.898064 64.115962 \r\nL 239.898064 64.668545 \r\nL 240.253519 64.944836 \r\nL 240.608975 65.221127 \r\nL 240.608975 65.773709 \r\nL 240.608975 66.326291 \r\nL 240.608975 66.878873 \r\nL 240.608975 67.431455 \r\nL 240.608975 67.984038 \r\nL 240.608975 68.53662 \r\nL 240.96443 68.812911 \r\nL 241.319886 69.089202 \r\nL 241.319886 69.641784 \r\nL 241.319886 70.194366 \r\nL 241.319886 70.746948 \r\nL 241.319886 71.299531 \r\nL 241.319886 71.852113 \r\nL 241.675341 72.128404 \r\nL 242.030796 72.404695 \r\nL 242.030796 72.957277 \r\nL 242.030796 73.509859 \r\nL 242.030796 74.062441 \r\nL 242.030796 74.615023 \r\nL 242.030796 75.167606 \r\nL 242.030796 75.720188 \r\nL 242.386252 75.996479 \r\nL 242.741707 76.27277 \r\nL 242.741707 76.825352 \r\nL 242.741707 77.377934 \r\nL 242.741707 77.930516 \r\nL 242.741707 78.483099 \r\nL 242.741707 79.035681 \r\nL 243.097163 79.311972 \r\nL 243.452618 79.588263 \r\nL 243.452618 80.140845 \r\nL 243.452618 80.693427 \r\nL 243.452618 81.246009 \r\nL 243.452618 81.798592 \r\nL 243.452618 82.351174 \r\nL 243.452618 82.903756 \r\nL 243.808073 83.180047 \r\nL 244.163529 83.456338 \r\nL 244.163529 84.00892 \r\nL 244.163529 84.561502 \r\nL 244.163529 85.114085 \r\nL 244.163529 85.666667 \r\nL 244.163529 86.219249 \r\nL 244.518984 86.49554 \r\nL 244.87444 86.771831 \r\nL 244.87444 87.324413 \r\nL 244.87444 87.876995 \r\nL 244.87444 88.429577 \r\nL 244.87444 88.98216 \r\nL 244.87444 89.534742 \r\nL 244.87444 90.087324 \r\nL 245.229895 90.363615 \r\nL 245.58535 90.639906 \r\nL 245.58535 91.192488 \r\nL 245.58535 91.74507 \r\nL 245.58535 92.297653 \r\nL 245.58535 92.850235 \r\nL 245.58535 93.402817 \r\nL 245.940806 93.679108 \r\nL 246.296261 93.955399 \r\nL 246.296261 94.507981 \r\nL 246.296261 95.060563 \r\nL 246.296261 95.613146 \r\nL 246.296261 96.165728 \r\nL 246.296261 96.71831 \r\nL 246.296261 97.270892 \r\nL 246.651717 97.547183 \r\nL 247.007172 97.823474 \r\nL 247.007172 98.376056 \r\nL 247.007172 98.928638 \r\nL 247.007172 99.481221 \r\nL 247.007172 100.033803 \r\nL 247.007172 100.586385 \r\nL 247.362627 100.862676 \r\nL 247.718083 101.138967 \r\nL 247.718083 101.691549 \r\nL 247.718083 102.244131 \r\nL 247.718083 102.796714 \r\nL 247.718083 103.349296 \r\nL 247.718083 103.901878 \r\nL 247.718083 104.45446 \r\nL 248.073538 104.730751 \r\nL 248.428994 105.007042 \r\nL 248.428994 105.559624 \r\nL 248.428994 106.112207 \r\nL 248.428994 106.664789 \r\nL 248.428994 107.217371 \r\nL 248.428994 107.769953 \r\nL 248.784449 108.046244 \r\nL 249.139905 108.322535 \r\nL 249.139905 108.875117 \r\nL 249.139905 109.4277 \r\nL 249.139905 109.980282 \r\nL 249.139905 110.532864 \r\nL 249.139905 111.085446 \r\nL 249.139905 111.638028 \r\nL 249.49536 111.914319 \r\nL 249.850815 112.19061 \r\nL 249.850815 112.743192 \r\nL 249.850815 113.295775 \r\nL 249.850815 113.848357 \r\nL 249.850815 114.400939 \r\nL 249.850815 114.953521 \r\nL 250.206271 115.229812 \r\nL 250.561726 115.506103 \r\nL 250.561726 116.058685 \r\nL 250.917182 116.611268 \r\nL 251.628092 117.16385 \r\nL 252.339003 117.16385 \r\nL 253.049914 117.16385 \r\nL 253.760825 117.716432 \r\nL 254.471736 117.716432 \r\nL 255.182646 118.269014 \r\nL 255.893557 118.269014 \r\nL 256.604468 118.269014 \r\nL 257.315379 118.821596 \r\nL 258.02629 118.821596 \r\nL 258.737201 119.374178 \r\nL 259.448111 119.374178 \r\nL 260.159022 119.374178 \r\nL 260.869933 119.926761 \r\nL 261.580844 119.926761 \r\nL 262.291755 119.926761 \r\nL 263.002665 120.479343 \r\nL 263.713576 120.479343 \r\nL 264.424487 121.031925 \r\nL 265.135398 121.031925 \r\nL 265.846309 121.031925 \r\nL 266.55722 121.584507 \r\nL 267.26813 121.584507 \r\nL 267.979041 121.584507 \r\nL 268.689952 122.137089 \r\nL 269.400863 122.137089 \r\nL 270.111774 122.689671 \r\nL 270.822684 122.689671 \r\nL 271.533595 122.689671 \r\nL 272.244506 123.242254 \r\nL 272.955417 123.242254 \r\nL 273.666328 123.242254 \r\nL 274.377238 123.794836 \r\nL 275.088149 123.794836 \r\nL 275.79906 124.347418 \r\nL 276.509971 124.347418 \r\nL 277.220882 124.347418 \r\nL 277.931793 124.9 \r\nL 278.642703 124.9 \r\nL 279.353614 124.9 \r\nL 280.064525 125.452582 \r\nL 280.775436 125.452582 \r\nL 281.486347 126.005164 \r\nL 282.197257 126.005164 \r\nL 282.908168 126.005164 \r\nL 283.619079 126.557746 \r\nL 284.32999 126.557746 \r\nL 285.040901 126.557746 \r\nL 285.751812 127.110329 \r\nL 286.462722 127.110329 \r\nL 287.173633 127.662911 \r\nL 287.884544 127.662911 \r\nL 288.595455 127.662911 \r\nL 289.306366 128.215493 \r\nL 290.017276 128.215493 \r\nL 290.728187 128.215493 \r\nL 291.439098 128.768075 \r\nL 292.150009 128.768075 \r\nL 292.86092 129.320657 \r\nL 293.571831 129.320657 \r\nL 294.282741 129.320657 \r\nL 294.993652 129.873239 \r\nL 295.704563 129.873239 \r\nL 296.415474 129.873239 \r\nL 297.126385 130.425822 \r\nL 297.837295 130.425822 \r\nL 298.548206 130.978404 \r\nL 299.259117 130.978404 \r\nL 299.970028 130.978404 \r\nL 300.680939 131.530986 \r\nL 301.39185 131.530986 \r\nL 302.10276 131.530986 \r\nL 302.813671 132.083568 \r\nL 303.524582 132.083568 \r\nL 304.235493 132.63615 \r\nL 304.946404 132.63615 \r\nL 305.657314 132.63615 \r\nL 306.368225 133.188732 \r\nL 307.079136 133.188732 \r\nL 307.790047 133.188732 \r\nL 308.500958 133.741315 \r\nL 309.211868 133.741315 \r\nL 309.922779 134.293897 \r\nL 310.63369 134.293897 \r\nL 311.344601 134.293897 \r\nL 312.055512 134.846479 \r\nL 312.766423 134.846479 \r\nL 313.477333 134.846479 \r\nL 314.188244 135.399061 \r\nL 314.899155 135.399061 \r\nL 315.610066 135.951643 \r\nL 316.320977 135.951643 \r\nL 317.031887 135.951643 \r\nL 317.742798 136.504225 \r\nL 318.453709 136.504225 \r\nL 319.16462 136.504225 \r\nL 319.875531 137.056808 \r\nL 320.586442 137.056808 \r\nL 321.297352 137.60939 \r\nL 322.008263 137.60939 \r\nL 322.719174 137.60939 \r\nL 323.430085 138.161972 \r\nL 324.140996 138.161972 \r\nL 324.851906 138.161972 \r\nL 325.562817 138.714554 \r\nL 326.273728 138.714554 \r\nL 326.984639 139.267136 \r\nL 327.69555 139.267136 \r\nL 328.406461 139.267136 \r\nL 329.117371 139.819718 \r\nL 329.828282 139.819718 \r\nL 330.539193 139.819718 \r\nL 331.250104 140.3723 \r\nL 331.961015 140.3723 \r\nL 332.671925 140.924883 \r\nL 333.382836 140.924883 \r\nL 334.093747 140.924883 \r\nL 334.804658 141.477465 \r\nL 335.515569 141.477465 \r\nL 336.226479 141.477465 \r\nL 336.93739 142.030047 \r\nL 337.648301 142.030047 \r\nL 338.359212 142.582629 \r\nL 339.070123 142.582629 \r\nL 339.781034 142.582629 \r\nL 340.491944 143.135211 \r\nL 341.202855 143.135211 \r\nL 341.913766 143.687793 \r\nL 342.624677 143.687793 \r\nL 343.335588 143.687793 \r\nL 344.046498 144.240376 \r\nL 344.757409 144.240376 \r\nL 345.46832 144.240376 \r\nL 346.179231 144.792958 \r\nL 346.890142 144.792958 \r\nL 347.601053 145.34554 \r\nL 348.311963 145.34554 \r\nL 349.022874 145.34554 \r\nL 349.733785 145.898122 \r\nL 350.444696 145.898122 \r\nL 351.155607 145.898122 \r\nL 351.866517 146.450704 \r\nL 352.577428 146.450704 \r\nL 353.288339 147.003286 \r\nL 353.99925 147.003286 \r\nL 354.710161 147.003286 \r\nL 355.421072 147.555869 \r\nL 356.131982 147.555869 \r\nL 356.842893 147.555869 \r\nL 357.553804 148.108451 \r\nL 358.264715 148.108451 \r\nL 358.975626 148.661033 \r\nL 359.686536 148.661033 \r\nL 360.397447 148.661033 \r\nL 361.108358 149.213615 \r\nL 361.819269 149.213615 \r\nL 362.53018 149.213615 \r\nL 363.24109 149.766197 \r\nL 363.952001 149.766197 \r\nL 364.662912 150.318779 \r\nL 365.373823 150.318779 \r\nL 366.084734 150.318779 \r\nL 366.795645 150.871362 \r\nL 367.506555 150.871362 \r\nL 368.217466 150.871362 \r\nL 368.928377 151.423944 \r\nL 369.639288 151.423944 \r\nL 370.350199 151.976526 \r\nL 371.061109 151.976526 \r\nL 371.77202 151.976526 \r\nL 372.482931 152.529108 \r\nL 373.193842 152.529108 \r\nL 373.904753 152.529108 \r\nL 374.615664 153.08169 \r\nL 375.326574 153.08169 \r\nL 376.037485 153.634272 \r\nL 376.748396 153.634272 \r\nL 377.459307 153.634272 \r\nL 378.170218 154.186854 \r\nL 378.881128 154.186854 \r\nL 379.592039 154.186854 \r\nL 380.30295 154.739437 \r\nL 381.013861 154.739437 \r\nL 381.724772 155.292019 \r\nL 382.435683 155.292019 \r\nL 383.146593 155.292019 \r\nL 383.857504 155.844601 \r\nL 384.568415 155.844601 \r\nL 385.279326 155.844601 \r\nL 385.990237 156.397183 \r\nL 386.701147 156.397183 \r\nL 387.412058 156.949765 \r\nL 388.122969 156.949765 \r\nL 388.83388 156.949765 \r\nL 389.544791 157.502347 \r\nL 390.255701 157.502347 \r\nL 390.966612 157.502347 \r\nL 391.677523 158.05493 \r\nL 392.388434 158.05493 \r\nL 393.099345 158.607512 \r\nL 393.810256 158.607512 \r\nL 394.521166 158.607512 \r\nL 395.232077 159.160094 \r\nL 395.942988 159.160094 \r\nL 396.653899 159.160094 \r\nL 397.36481 159.712676 \r\nL 398.07572 159.712676 \r\nL 398.786631 160.265258 \r\nL 399.497542 160.265258 \r\nL 400.208453 160.265258 \r\nL 400.919364 160.81784 \r\nL 401.630275 160.81784 \r\nL 402.341185 160.81784 \r\nL 403.052096 161.370423 \r\nL 403.763007 161.370423 \r\nL 404.473918 161.923005 \r\nL 405.184829 161.923005 \r\nL 405.895739 161.923005 \r\nL 406.60665 162.475587 \r\nL 407.317561 162.475587 \r\nL 408.028472 162.475587 \r\nL 408.739383 163.028169 \r\nL 409.450294 163.028169 \r\nL 410.161204 163.580751 \r\nL 410.872115 163.580751 \r\nL 411.583026 163.580751 \r\nL 412.293937 164.133333 \r\nL 413.004848 164.133333 \r\nL 413.715758 164.133333 \r\nL 414.426669 164.685915 \r\nL 415.13758 164.685915 \r\nz\r\n\" style=\"fill:#0000ff;fill-opacity:0.4;\"/>\r\n   </g>\r\n   <g id=\"PathCollection_6\">\r\n    <path clip-path=\"url(#p55578fd002)\" d=\"M 415.848491 165.100352 \r\nL 416.559402 165.100352 \r\nL 417.270312 165.100352 \r\nL 417.270312 164.962207 \r\nL 416.559402 164.962207 \r\nL 415.848491 164.962207 \r\nL 415.493035 164.685915 \r\nL 415.13758 164.409624 \r\nL 414.426669 164.409624 \r\nL 414.071214 164.133333 \r\nL 413.715758 163.857042 \r\nL 413.004848 163.857042 \r\nL 412.293937 163.857042 \r\nL 411.938481 163.580751 \r\nL 411.583026 163.30446 \r\nL 410.872115 163.30446 \r\nL 410.161204 163.30446 \r\nL 409.805749 163.028169 \r\nL 409.450294 162.751878 \r\nL 408.739383 162.751878 \r\nL 408.383927 162.475587 \r\nL 408.028472 162.199296 \r\nL 407.317561 162.199296 \r\nL 406.60665 162.199296 \r\nL 406.251195 161.923005 \r\nL 405.895739 161.646714 \r\nL 405.184829 161.646714 \r\nL 404.473918 161.646714 \r\nL 404.118462 161.370423 \r\nL 403.763007 161.094131 \r\nL 403.052096 161.094131 \r\nL 402.696641 160.81784 \r\nL 402.341185 160.541549 \r\nL 401.630275 160.541549 \r\nL 400.919364 160.541549 \r\nL 400.563908 160.265258 \r\nL 400.208453 159.988967 \r\nL 399.497542 159.988967 \r\nL 398.786631 159.988967 \r\nL 398.431176 159.712676 \r\nL 398.07572 159.436385 \r\nL 397.36481 159.436385 \r\nL 397.009354 159.160094 \r\nL 396.653899 158.883803 \r\nL 395.942988 158.883803 \r\nL 395.232077 158.883803 \r\nL 394.876622 158.607512 \r\nL 394.521166 158.331221 \r\nL 393.810256 158.331221 \r\nL 393.099345 158.331221 \r\nL 392.743889 158.05493 \r\nL 392.388434 157.778638 \r\nL 391.677523 157.778638 \r\nL 391.322068 157.502347 \r\nL 390.966612 157.226056 \r\nL 390.255701 157.226056 \r\nL 389.544791 157.226056 \r\nL 389.189335 156.949765 \r\nL 388.83388 156.673474 \r\nL 388.122969 156.673474 \r\nL 387.412058 156.673474 \r\nL 387.056603 156.397183 \r\nL 386.701147 156.120892 \r\nL 385.990237 156.120892 \r\nL 385.634781 155.844601 \r\nL 385.279326 155.56831 \r\nL 384.568415 155.56831 \r\nL 383.857504 155.56831 \r\nL 383.502049 155.292019 \r\nL 383.146593 155.015728 \r\nL 382.435683 155.015728 \r\nL 381.724772 155.015728 \r\nL 381.369316 154.739437 \r\nL 381.013861 154.463146 \r\nL 380.30295 154.463146 \r\nL 379.947495 154.186854 \r\nL 379.592039 153.910563 \r\nL 378.881128 153.910563 \r\nL 378.170218 153.910563 \r\nL 377.814762 153.634272 \r\nL 377.459307 153.357981 \r\nL 376.748396 153.357981 \r\nL 376.037485 153.357981 \r\nL 375.68203 153.08169 \r\nL 375.326574 152.805399 \r\nL 374.615664 152.805399 \r\nL 374.260208 152.529108 \r\nL 373.904753 152.252817 \r\nL 373.193842 152.252817 \r\nL 372.482931 152.252817 \r\nL 372.127476 151.976526 \r\nL 371.77202 151.700235 \r\nL 371.061109 151.700235 \r\nL 370.350199 151.700235 \r\nL 369.994743 151.423944 \r\nL 369.639288 151.147653 \r\nL 368.928377 151.147653 \r\nL 368.572922 150.871362 \r\nL 368.217466 150.59507 \r\nL 367.506555 150.59507 \r\nL 366.795645 150.59507 \r\nL 366.440189 150.318779 \r\nL 366.084734 150.042488 \r\nL 365.373823 150.042488 \r\nL 364.662912 150.042488 \r\nL 364.307457 149.766197 \r\nL 363.952001 149.489906 \r\nL 363.24109 149.489906 \r\nL 362.885635 149.213615 \r\nL 362.53018 148.937324 \r\nL 361.819269 148.937324 \r\nL 361.108358 148.937324 \r\nL 360.752903 148.661033 \r\nL 360.397447 148.384742 \r\nL 359.686536 148.384742 \r\nL 358.975626 148.384742 \r\nL 358.62017 148.108451 \r\nL 358.264715 147.83216 \r\nL 357.553804 147.83216 \r\nL 357.198349 147.555869 \r\nL 356.842893 147.279577 \r\nL 356.131982 147.279577 \r\nL 355.421072 147.279577 \r\nL 355.065616 147.003286 \r\nL 354.710161 146.726995 \r\nL 353.99925 146.726995 \r\nL 353.288339 146.726995 \r\nL 352.932884 146.450704 \r\nL 352.577428 146.174413 \r\nL 351.866517 146.174413 \r\nL 351.511062 145.898122 \r\nL 351.155607 145.621831 \r\nL 350.444696 145.621831 \r\nL 349.733785 145.621831 \r\nL 349.37833 145.34554 \r\nL 349.022874 145.069249 \r\nL 348.311963 145.069249 \r\nL 347.601053 145.069249 \r\nL 347.245597 144.792958 \r\nL 346.890142 144.516667 \r\nL 346.179231 144.516667 \r\nL 345.823775 144.240376 \r\nL 345.46832 143.964085 \r\nL 344.757409 143.964085 \r\nL 344.046498 143.964085 \r\nL 343.691043 143.687793 \r\nL 343.335588 143.411502 \r\nL 342.624677 143.411502 \r\nL 341.913766 143.411502 \r\nL 341.558311 143.135211 \r\nL 341.202855 142.85892 \r\nL 340.491944 142.85892 \r\nL 340.136489 142.582629 \r\nL 339.781034 142.306338 \r\nL 339.070123 142.306338 \r\nL 338.359212 142.306338 \r\nL 338.003757 142.030047 \r\nL 337.648301 141.753756 \r\nL 336.93739 141.753756 \r\nL 336.581935 141.477465 \r\nL 336.226479 141.201174 \r\nL 335.515569 141.201174 \r\nL 334.804658 141.201174 \r\nL 334.449202 140.924883 \r\nL 334.093747 140.648592 \r\nL 333.382836 140.648592 \r\nL 332.671925 140.648592 \r\nL 332.31647 140.3723 \r\nL 331.961015 140.096009 \r\nL 331.250104 140.096009 \r\nL 330.894648 139.819718 \r\nL 330.539193 139.543427 \r\nL 329.828282 139.543427 \r\nL 329.117371 139.543427 \r\nL 328.761916 139.267136 \r\nL 328.406461 138.990845 \r\nL 327.69555 138.990845 \r\nL 326.984639 138.990845 \r\nL 326.629183 138.714554 \r\nL 326.273728 138.438263 \r\nL 325.562817 138.438263 \r\nL 325.207362 138.161972 \r\nL 324.851906 137.885681 \r\nL 324.140996 137.885681 \r\nL 323.430085 137.885681 \r\nL 323.074629 137.60939 \r\nL 322.719174 137.333099 \r\nL 322.008263 137.333099 \r\nL 321.297352 137.333099 \r\nL 320.941897 137.056808 \r\nL 320.586442 136.780516 \r\nL 319.875531 136.780516 \r\nL 319.520075 136.504225 \r\nL 319.16462 136.227934 \r\nL 318.453709 136.227934 \r\nL 317.742798 136.227934 \r\nL 317.387343 135.951643 \r\nL 317.031887 135.675352 \r\nL 316.320977 135.675352 \r\nL 315.610066 135.675352 \r\nL 315.25461 135.399061 \r\nL 314.899155 135.12277 \r\nL 314.188244 135.12277 \r\nL 313.832789 134.846479 \r\nL 313.477333 134.570188 \r\nL 312.766423 134.570188 \r\nL 312.055512 134.570188 \r\nL 311.700056 134.293897 \r\nL 311.344601 134.017606 \r\nL 310.63369 134.017606 \r\nL 309.922779 134.017606 \r\nL 309.567324 133.741315 \r\nL 309.211868 133.465023 \r\nL 308.500958 133.465023 \r\nL 308.145502 133.188732 \r\nL 307.790047 132.912441 \r\nL 307.079136 132.912441 \r\nL 306.368225 132.912441 \r\nL 306.01277 132.63615 \r\nL 305.657314 132.359859 \r\nL 304.946404 132.359859 \r\nL 304.235493 132.359859 \r\nL 303.880037 132.083568 \r\nL 303.524582 131.807277 \r\nL 302.813671 131.807277 \r\nL 302.458216 131.530986 \r\nL 302.10276 131.254695 \r\nL 301.39185 131.254695 \r\nL 300.680939 131.254695 \r\nL 300.325483 130.978404 \r\nL 299.970028 130.702113 \r\nL 299.259117 130.702113 \r\nL 298.548206 130.702113 \r\nL 298.192751 130.425822 \r\nL 297.837295 130.149531 \r\nL 297.126385 130.149531 \r\nL 296.770929 129.873239 \r\nL 296.415474 129.596948 \r\nL 295.704563 129.596948 \r\nL 294.993652 129.596948 \r\nL 294.638197 129.320657 \r\nL 294.282741 129.044366 \r\nL 293.571831 129.044366 \r\nL 292.86092 129.044366 \r\nL 292.505464 128.768075 \r\nL 292.150009 128.491784 \r\nL 291.439098 128.491784 \r\nL 291.083643 128.215493 \r\nL 290.728187 127.939202 \r\nL 290.017276 127.939202 \r\nL 289.306366 127.939202 \r\nL 288.95091 127.662911 \r\nL 288.595455 127.38662 \r\nL 287.884544 127.38662 \r\nL 287.173633 127.38662 \r\nL 286.818178 127.110329 \r\nL 286.462722 126.834038 \r\nL 285.751812 126.834038 \r\nL 285.396356 126.557746 \r\nL 285.040901 126.281455 \r\nL 284.32999 126.281455 \r\nL 283.619079 126.281455 \r\nL 283.263624 126.005164 \r\nL 282.908168 125.728873 \r\nL 282.197257 125.728873 \r\nL 281.486347 125.728873 \r\nL 281.130891 125.452582 \r\nL 280.775436 125.176291 \r\nL 280.064525 125.176291 \r\nL 279.70907 124.9 \r\nL 279.353614 124.623709 \r\nL 278.642703 124.623709 \r\nL 277.931793 124.623709 \r\nL 277.576337 124.347418 \r\nL 277.220882 124.071127 \r\nL 276.509971 124.071127 \r\nL 275.79906 124.071127 \r\nL 275.443605 123.794836 \r\nL 275.088149 123.518545 \r\nL 274.377238 123.518545 \r\nL 274.021783 123.242254 \r\nL 273.666328 122.965962 \r\nL 272.955417 122.965962 \r\nL 272.244506 122.965962 \r\nL 271.889051 122.689671 \r\nL 271.533595 122.41338 \r\nL 270.822684 122.41338 \r\nL 270.111774 122.41338 \r\nL 269.756318 122.137089 \r\nL 269.400863 121.860798 \r\nL 268.689952 121.860798 \r\nL 268.334497 121.584507 \r\nL 267.979041 121.308216 \r\nL 267.26813 121.308216 \r\nL 266.55722 121.308216 \r\nL 266.201764 121.031925 \r\nL 265.846309 120.755634 \r\nL 265.135398 120.755634 \r\nL 264.424487 120.755634 \r\nL 264.069032 120.479343 \r\nL 263.713576 120.203052 \r\nL 263.002665 120.203052 \r\nL 262.64721 119.926761 \r\nL 262.291755 119.650469 \r\nL 261.580844 119.650469 \r\nL 260.869933 119.650469 \r\nL 260.514478 119.374178 \r\nL 260.159022 119.097887 \r\nL 259.448111 119.097887 \r\nL 258.737201 119.097887 \r\nL 258.381745 118.821596 \r\nL 258.02629 118.545305 \r\nL 257.315379 118.545305 \r\nL 256.959924 118.269014 \r\nL 256.604468 117.992723 \r\nL 255.893557 117.992723 \r\nL 255.182646 117.992723 \r\nL 254.827191 117.716432 \r\nL 254.471736 117.440141 \r\nL 253.760825 117.440141 \r\nL 253.405369 117.16385 \r\nL 253.049914 116.887559 \r\nL 252.339003 116.887559 \r\nL 251.628092 116.887559 \r\nL 251.272637 116.611268 \r\nL 250.917182 116.334977 \r\nL 250.739454 116.058685 \r\nL 250.739454 115.506103 \r\nL 250.206271 115.091667 \r\nL 250.028543 114.953521 \r\nL 250.028543 114.400939 \r\nL 250.028543 113.848357 \r\nL 250.028543 113.295775 \r\nL 250.028543 112.743192 \r\nL 250.028543 112.19061 \r\nL 249.49536 111.776174 \r\nL 249.317632 111.638028 \r\nL 249.317632 111.085446 \r\nL 249.317632 110.532864 \r\nL 249.317632 109.980282 \r\nL 249.317632 109.4277 \r\nL 249.317632 108.875117 \r\nL 249.317632 108.322535 \r\nL 248.784449 107.908099 \r\nL 248.606721 107.769953 \r\nL 248.606721 107.217371 \r\nL 248.606721 106.664789 \r\nL 248.606721 106.112207 \r\nL 248.606721 105.559624 \r\nL 248.606721 105.007042 \r\nL 248.073538 104.592606 \r\nL 247.895811 104.45446 \r\nL 247.895811 103.901878 \r\nL 247.895811 103.349296 \r\nL 247.895811 102.796714 \r\nL 247.895811 102.244131 \r\nL 247.895811 101.691549 \r\nL 247.895811 101.138967 \r\nL 247.362627 100.724531 \r\nL 247.1849 100.586385 \r\nL 247.1849 100.033803 \r\nL 247.1849 99.481221 \r\nL 247.1849 98.928638 \r\nL 247.1849 98.376056 \r\nL 247.1849 97.823474 \r\nL 246.651717 97.409038 \r\nL 246.473989 97.270892 \r\nL 246.473989 96.71831 \r\nL 246.473989 96.165728 \r\nL 246.473989 95.613146 \r\nL 246.473989 95.060563 \r\nL 246.473989 94.507981 \r\nL 246.473989 93.955399 \r\nL 245.940806 93.540962 \r\nL 245.763078 93.402817 \r\nL 245.763078 92.850235 \r\nL 245.763078 92.297653 \r\nL 245.763078 91.74507 \r\nL 245.763078 91.192488 \r\nL 245.763078 90.639906 \r\nL 245.229895 90.225469 \r\nL 245.052167 90.087324 \r\nL 245.052167 89.534742 \r\nL 245.052167 88.98216 \r\nL 245.052167 88.429577 \r\nL 245.052167 87.876995 \r\nL 245.052167 87.324413 \r\nL 245.052167 86.771831 \r\nL 244.518984 86.357394 \r\nL 244.341257 86.219249 \r\nL 244.341257 85.666667 \r\nL 244.341257 85.114085 \r\nL 244.341257 84.561502 \r\nL 244.341257 84.00892 \r\nL 244.341257 83.456338 \r\nL 243.808073 83.041901 \r\nL 243.630346 82.903756 \r\nL 243.630346 82.351174 \r\nL 243.630346 81.798592 \r\nL 243.630346 81.246009 \r\nL 243.630346 80.693427 \r\nL 243.630346 80.140845 \r\nL 243.630346 79.588263 \r\nL 243.097163 79.173826 \r\nL 242.919435 79.035681 \r\nL 242.919435 78.483099 \r\nL 242.919435 77.930516 \r\nL 242.919435 77.377934 \r\nL 242.919435 76.825352 \r\nL 242.919435 76.27277 \r\nL 242.386252 75.858333 \r\nL 242.208524 75.720188 \r\nL 242.208524 75.167606 \r\nL 242.208524 74.615023 \r\nL 242.208524 74.062441 \r\nL 242.208524 73.509859 \r\nL 242.208524 72.957277 \r\nL 242.208524 72.404695 \r\nL 241.675341 71.990258 \r\nL 241.497613 71.852113 \r\nL 241.497613 71.299531 \r\nL 241.497613 70.746948 \r\nL 241.497613 70.194366 \r\nL 241.497613 69.641784 \r\nL 241.497613 69.089202 \r\nL 240.96443 68.674765 \r\nL 240.786702 68.53662 \r\nL 240.786702 67.984038 \r\nL 240.786702 67.431455 \r\nL 240.786702 66.878873 \r\nL 240.786702 66.326291 \r\nL 240.786702 65.773709 \r\nL 240.786702 65.221127 \r\nL 240.253519 64.80669 \r\nL 240.075792 64.668545 \r\nL 240.075792 64.115962 \r\nL 240.075792 63.56338 \r\nL 240.075792 63.010798 \r\nL 240.075792 62.458216 \r\nL 240.075792 61.905634 \r\nL 239.542609 61.491197 \r\nL 239.364881 61.353052 \r\nL 239.364881 60.800469 \r\nL 239.364881 60.247887 \r\nL 239.364881 59.695305 \r\nL 239.364881 59.142723 \r\nL 239.364881 58.590141 \r\nL 239.364881 58.037559 \r\nL 238.831698 57.623122 \r\nL 238.65397 57.484977 \r\nL 238.65397 56.932394 \r\nL 238.65397 56.379812 \r\nL 238.65397 55.82723 \r\nL 238.65397 55.274648 \r\nL 238.65397 54.722066 \r\nL 238.120787 54.307629 \r\nL 237.943059 54.169484 \r\nL 237.943059 53.616901 \r\nL 237.943059 53.064319 \r\nL 237.943059 52.511737 \r\nL 237.943059 51.959155 \r\nL 237.943059 51.406573 \r\nL 237.943059 50.853991 \r\nL 237.409876 50.439554 \r\nL 237.232148 50.301408 \r\nL 237.232148 49.748826 \r\nL 237.232148 49.196244 \r\nL 237.232148 48.643662 \r\nL 237.232148 48.09108 \r\nL 237.232148 47.538498 \r\nL 236.698965 47.124061 \r\nL 236.521238 46.985915 \r\nL 236.521238 46.433333 \r\nL 236.521238 45.880751 \r\nL 236.521238 45.328169 \r\nL 236.521238 44.775587 \r\nL 236.521238 44.223005 \r\nL 236.521238 43.670423 \r\nL 235.988054 43.255986 \r\nL 235.810327 43.11784 \r\nL 235.810327 42.565258 \r\nL 235.810327 42.012676 \r\nL 235.810327 41.460094 \r\nL 235.810327 40.907512 \r\nL 235.810327 40.35493 \r\nL 235.277144 39.940493 \r\nL 235.099416 39.802347 \r\nL 235.099416 39.249765 \r\nL 235.099416 38.697183 \r\nL 235.099416 38.144601 \r\nL 235.099416 37.592019 \r\nL 235.099416 37.039437 \r\nL 235.099416 36.486854 \r\nL 234.566233 36.072418 \r\nL 234.388505 35.934272 \r\nL 234.388505 35.38169 \r\nL 234.388505 34.829108 \r\nL 234.388505 34.276526 \r\nL 234.388505 33.723944 \r\nL 234.388505 33.171362 \r\nL 233.855322 32.756925 \r\nL 233.677594 32.618779 \r\nL 233.677594 32.066197 \r\nL 233.677594 31.513615 \r\nL 233.677594 30.961033 \r\nL 233.677594 30.408451 \r\nL 233.677594 29.855869 \r\nL 233.677594 29.303286 \r\nL 233.144411 28.88885 \r\nL 232.966683 28.750704 \r\nL 232.966683 28.198122 \r\nL 232.966683 27.64554 \r\nL 232.966683 27.092958 \r\nL 232.966683 26.540376 \r\nL 232.966683 25.987793 \r\nL 232.4335 25.573357 \r\nL 232.255773 25.435211 \r\nL 232.255773 24.882629 \r\nL 232.255773 24.330047 \r\nL 232.255773 23.777465 \r\nL 232.255773 23.224883 \r\nL 232.255773 22.6723 \r\nL 231.72259 22.257864 \r\nL 231.544862 22.119718 \r\nL 231.544862 21.567136 \r\nL 231.544862 21.014554 \r\nL 231.544862 20.461972 \r\nL 231.544862 19.90939 \r\nL 231.544862 19.356808 \r\nL 231.544862 18.804225 \r\nL 231.011679 18.389789 \r\nL 230.833951 18.251643 \r\nL 230.833951 17.699061 \r\nL 230.833951 17.146479 \r\nL 230.833951 16.593897 \r\nL 230.833951 16.041315 \r\nL 230.833951 15.488732 \r\nL 230.300768 15.074296 \r\nL 230.12304 14.93615 \r\nL 230.12304 14.383568 \r\nL 230.12304 13.830986 \r\nL 230.12304 13.278404 \r\nL 230.12304 12.725822 \r\nL 230.12304 12.173239 \r\nL 230.12304 11.620657 \r\nL 229.589857 11.206221 \r\nL 229.412129 11.068075 \r\nL 229.412129 10.515493 \r\nL 229.412129 9.962911 \r\nL 229.412129 9.410329 \r\nL 229.412129 8.857746 \r\nL 229.412129 8.305164 \r\nL 228.878946 7.890728 \r\nL 228.701219 7.752582 \r\nL 228.701219 7.2 \r\nL 228.612355 7.2 \r\nL 228.612355 7.752582 \r\nL 228.878946 7.9598 \r\nL 229.323266 8.305164 \r\nL 229.323266 8.857746 \r\nL 229.323266 9.410329 \r\nL 229.323266 9.962911 \r\nL 229.323266 10.515493 \r\nL 229.323266 11.068075 \r\nL 229.589857 11.275293 \r\nL 230.034176 11.620657 \r\nL 230.034176 12.173239 \r\nL 230.034176 12.725822 \r\nL 230.034176 13.278404 \r\nL 230.034176 13.830986 \r\nL 230.034176 14.383568 \r\nL 230.034176 14.93615 \r\nL 230.300768 15.143369 \r\nL 230.745087 15.488732 \r\nL 230.745087 16.041315 \r\nL 230.745087 16.593897 \r\nL 230.745087 17.146479 \r\nL 230.745087 17.699061 \r\nL 230.745087 18.251643 \r\nL 231.011679 18.458862 \r\nL 231.455998 18.804225 \r\nL 231.455998 19.356808 \r\nL 231.455998 19.90939 \r\nL 231.455998 20.461972 \r\nL 231.455998 21.014554 \r\nL 231.455998 21.567136 \r\nL 231.455998 22.119718 \r\nL 231.72259 22.326937 \r\nL 232.166909 22.6723 \r\nL 232.166909 23.224883 \r\nL 232.166909 23.777465 \r\nL 232.166909 24.330047 \r\nL 232.166909 24.882629 \r\nL 232.166909 25.435211 \r\nL 232.4335 25.64243 \r\nL 232.87782 25.987793 \r\nL 232.87782 26.540376 \r\nL 232.87782 27.092958 \r\nL 232.87782 27.64554 \r\nL 232.87782 28.198122 \r\nL 232.87782 28.750704 \r\nL 233.144411 28.957923 \r\nL 233.58873 29.303286 \r\nL 233.58873 29.855869 \r\nL 233.58873 30.408451 \r\nL 233.58873 30.961033 \r\nL 233.58873 31.513615 \r\nL 233.58873 32.066197 \r\nL 233.58873 32.618779 \r\nL 233.855322 32.825998 \r\nL 234.299641 33.171362 \r\nL 234.299641 33.723944 \r\nL 234.299641 34.276526 \r\nL 234.299641 34.829108 \r\nL 234.299641 35.38169 \r\nL 234.299641 35.934272 \r\nL 234.566233 36.141491 \r\nL 235.010552 36.486854 \r\nL 235.010552 37.039437 \r\nL 235.010552 37.592019 \r\nL 235.010552 38.144601 \r\nL 235.010552 38.697183 \r\nL 235.010552 39.249765 \r\nL 235.010552 39.802347 \r\nL 235.277144 40.009566 \r\nL 235.721463 40.35493 \r\nL 235.721463 40.907512 \r\nL 235.721463 41.460094 \r\nL 235.721463 42.012676 \r\nL 235.721463 42.565258 \r\nL 235.721463 43.11784 \r\nL 235.988054 43.325059 \r\nL 236.432374 43.670423 \r\nL 236.432374 44.223005 \r\nL 236.432374 44.775587 \r\nL 236.432374 45.328169 \r\nL 236.432374 45.880751 \r\nL 236.432374 46.433333 \r\nL 236.432374 46.985915 \r\nL 236.698965 47.193134 \r\nL 237.143285 47.538498 \r\nL 237.143285 48.09108 \r\nL 237.143285 48.643662 \r\nL 237.143285 49.196244 \r\nL 237.143285 49.748826 \r\nL 237.143285 50.301408 \r\nL 237.409876 50.508627 \r\nL 237.854195 50.853991 \r\nL 237.854195 51.406573 \r\nL 237.854195 51.959155 \r\nL 237.854195 52.511737 \r\nL 237.854195 53.064319 \r\nL 237.854195 53.616901 \r\nL 237.854195 54.169484 \r\nL 238.120787 54.376702 \r\nL 238.565106 54.722066 \r\nL 238.565106 55.274648 \r\nL 238.565106 55.82723 \r\nL 238.565106 56.379812 \r\nL 238.565106 56.932394 \r\nL 238.565106 57.484977 \r\nL 238.831698 57.692195 \r\nL 239.276017 58.037559 \r\nL 239.276017 58.590141 \r\nL 239.276017 59.142723 \r\nL 239.276017 59.695305 \r\nL 239.276017 60.247887 \r\nL 239.276017 60.800469 \r\nL 239.276017 61.353052 \r\nL 239.542609 61.56027 \r\nL 239.986928 61.905634 \r\nL 239.986928 62.458216 \r\nL 239.986928 63.010798 \r\nL 239.986928 63.56338 \r\nL 239.986928 64.115962 \r\nL 239.986928 64.668545 \r\nL 240.253519 64.875763 \r\nL 240.697839 65.221127 \r\nL 240.697839 65.773709 \r\nL 240.697839 66.326291 \r\nL 240.697839 66.878873 \r\nL 240.697839 67.431455 \r\nL 240.697839 67.984038 \r\nL 240.697839 68.53662 \r\nL 240.96443 68.743838 \r\nL 241.408749 69.089202 \r\nL 241.408749 69.641784 \r\nL 241.408749 70.194366 \r\nL 241.408749 70.746948 \r\nL 241.408749 71.299531 \r\nL 241.408749 71.852113 \r\nL 241.675341 72.059331 \r\nL 242.11966 72.404695 \r\nL 242.11966 72.957277 \r\nL 242.11966 73.509859 \r\nL 242.11966 74.062441 \r\nL 242.11966 74.615023 \r\nL 242.11966 75.167606 \r\nL 242.11966 75.720188 \r\nL 242.386252 75.927406 \r\nL 242.830571 76.27277 \r\nL 242.830571 76.825352 \r\nL 242.830571 77.377934 \r\nL 242.830571 77.930516 \r\nL 242.830571 78.483099 \r\nL 242.830571 79.035681 \r\nL 243.097163 79.242899 \r\nL 243.541482 79.588263 \r\nL 243.541482 80.140845 \r\nL 243.541482 80.693427 \r\nL 243.541482 81.246009 \r\nL 243.541482 81.798592 \r\nL 243.541482 82.351174 \r\nL 243.541482 82.903756 \r\nL 243.808073 83.110974 \r\nL 244.252393 83.456338 \r\nL 244.252393 84.00892 \r\nL 244.252393 84.561502 \r\nL 244.252393 85.114085 \r\nL 244.252393 85.666667 \r\nL 244.252393 86.219249 \r\nL 244.518984 86.426467 \r\nL 244.963303 86.771831 \r\nL 244.963303 87.324413 \r\nL 244.963303 87.876995 \r\nL 244.963303 88.429577 \r\nL 244.963303 88.98216 \r\nL 244.963303 89.534742 \r\nL 244.963303 90.087324 \r\nL 245.229895 90.294542 \r\nL 245.674214 90.639906 \r\nL 245.674214 91.192488 \r\nL 245.674214 91.74507 \r\nL 245.674214 92.297653 \r\nL 245.674214 92.850235 \r\nL 245.674214 93.402817 \r\nL 245.940806 93.610035 \r\nL 246.385125 93.955399 \r\nL 246.385125 94.507981 \r\nL 246.385125 95.060563 \r\nL 246.385125 95.613146 \r\nL 246.385125 96.165728 \r\nL 246.385125 96.71831 \r\nL 246.385125 97.270892 \r\nL 246.651717 97.47811 \r\nL 247.096036 97.823474 \r\nL 247.096036 98.376056 \r\nL 247.096036 98.928638 \r\nL 247.096036 99.481221 \r\nL 247.096036 100.033803 \r\nL 247.096036 100.586385 \r\nL 247.362627 100.793603 \r\nL 247.806947 101.138967 \r\nL 247.806947 101.691549 \r\nL 247.806947 102.244131 \r\nL 247.806947 102.796714 \r\nL 247.806947 103.349296 \r\nL 247.806947 103.901878 \r\nL 247.806947 104.45446 \r\nL 248.073538 104.661678 \r\nL 248.517858 105.007042 \r\nL 248.517858 105.559624 \r\nL 248.517858 106.112207 \r\nL 248.517858 106.664789 \r\nL 248.517858 107.217371 \r\nL 248.517858 107.769953 \r\nL 248.784449 107.977171 \r\nL 249.228768 108.322535 \r\nL 249.228768 108.875117 \r\nL 249.228768 109.4277 \r\nL 249.228768 109.980282 \r\nL 249.228768 110.532864 \r\nL 249.228768 111.085446 \r\nL 249.228768 111.638028 \r\nL 249.49536 111.845246 \r\nL 249.939679 112.19061 \r\nL 249.939679 112.743192 \r\nL 249.939679 113.295775 \r\nL 249.939679 113.848357 \r\nL 249.939679 114.400939 \r\nL 249.939679 114.953521 \r\nL 250.206271 115.160739 \r\nL 250.65059 115.506103 \r\nL 250.65059 116.058685 \r\nL 250.917182 116.473122 \r\nL 251.094909 116.611268 \r\nL 251.628092 117.025704 \r\nL 252.339003 117.025704 \r\nL 253.049914 117.025704 \r\nL 253.227642 117.16385 \r\nL 253.760825 117.578286 \r\nL 254.471736 117.578286 \r\nL 254.649463 117.716432 \r\nL 255.182646 118.130869 \r\nL 255.893557 118.130869 \r\nL 256.604468 118.130869 \r\nL 256.782196 118.269014 \r\nL 257.315379 118.683451 \r\nL 258.02629 118.683451 \r\nL 258.204017 118.821596 \r\nL 258.737201 119.236033 \r\nL 259.448111 119.236033 \r\nL 260.159022 119.236033 \r\nL 260.33675 119.374178 \r\nL 260.869933 119.788615 \r\nL 261.580844 119.788615 \r\nL 262.291755 119.788615 \r\nL 262.469482 119.926761 \r\nL 263.002665 120.341197 \r\nL 263.713576 120.341197 \r\nL 263.891304 120.479343 \r\nL 264.424487 120.893779 \r\nL 265.135398 120.893779 \r\nL 265.846309 120.893779 \r\nL 266.024036 121.031925 \r\nL 266.55722 121.446362 \r\nL 267.26813 121.446362 \r\nL 267.979041 121.446362 \r\nL 268.156769 121.584507 \r\nL 268.689952 121.998944 \r\nL 269.400863 121.998944 \r\nL 269.57859 122.137089 \r\nL 270.111774 122.551526 \r\nL 270.822684 122.551526 \r\nL 271.533595 122.551526 \r\nL 271.711323 122.689671 \r\nL 272.244506 123.104108 \r\nL 272.955417 123.104108 \r\nL 273.666328 123.104108 \r\nL 273.844055 123.242254 \r\nL 274.377238 123.65669 \r\nL 275.088149 123.65669 \r\nL 275.265877 123.794836 \r\nL 275.79906 124.209272 \r\nL 276.509971 124.209272 \r\nL 277.220882 124.209272 \r\nL 277.398609 124.347418 \r\nL 277.931793 124.761854 \r\nL 278.642703 124.761854 \r\nL 279.353614 124.761854 \r\nL 279.531342 124.9 \r\nL 280.064525 125.314437 \r\nL 280.775436 125.314437 \r\nL 280.953164 125.452582 \r\nL 281.486347 125.867019 \r\nL 282.197257 125.867019 \r\nL 282.908168 125.867019 \r\nL 283.085896 126.005164 \r\nL 283.619079 126.419601 \r\nL 284.32999 126.419601 \r\nL 285.040901 126.419601 \r\nL 285.218628 126.557746 \r\nL 285.751812 126.972183 \r\nL 286.462722 126.972183 \r\nL 286.64045 127.110329 \r\nL 287.173633 127.524765 \r\nL 287.884544 127.524765 \r\nL 288.595455 127.524765 \r\nL 288.773183 127.662911 \r\nL 289.306366 128.077347 \r\nL 290.017276 128.077347 \r\nL 290.728187 128.077347 \r\nL 290.905915 128.215493 \r\nL 291.439098 128.62993 \r\nL 292.150009 128.62993 \r\nL 292.327737 128.768075 \r\nL 292.86092 129.182512 \r\nL 293.571831 129.182512 \r\nL 294.282741 129.182512 \r\nL 294.460469 129.320657 \r\nL 294.993652 129.735094 \r\nL 295.704563 129.735094 \r\nL 296.415474 129.735094 \r\nL 296.593201 129.873239 \r\nL 297.126385 130.287676 \r\nL 297.837295 130.287676 \r\nL 298.015023 130.425822 \r\nL 298.548206 130.840258 \r\nL 299.259117 130.840258 \r\nL 299.970028 130.840258 \r\nL 300.147756 130.978404 \r\nL 300.680939 131.39284 \r\nL 301.39185 131.39284 \r\nL 302.10276 131.39284 \r\nL 302.280488 131.530986 \r\nL 302.813671 131.945423 \r\nL 303.524582 131.945423 \r\nL 303.70231 132.083568 \r\nL 304.235493 132.498005 \r\nL 304.946404 132.498005 \r\nL 305.657314 132.498005 \r\nL 305.835042 132.63615 \r\nL 306.368225 133.050587 \r\nL 307.079136 133.050587 \r\nL 307.790047 133.050587 \r\nL 307.967775 133.188732 \r\nL 308.500958 133.603169 \r\nL 309.211868 133.603169 \r\nL 309.389596 133.741315 \r\nL 309.922779 134.155751 \r\nL 310.63369 134.155751 \r\nL 311.344601 134.155751 \r\nL 311.522329 134.293897 \r\nL 312.055512 134.708333 \r\nL 312.766423 134.708333 \r\nL 313.477333 134.708333 \r\nL 313.655061 134.846479 \r\nL 314.188244 135.260915 \r\nL 314.899155 135.260915 \r\nL 315.076883 135.399061 \r\nL 315.610066 135.813498 \r\nL 316.320977 135.813498 \r\nL 317.031887 135.813498 \r\nL 317.209615 135.951643 \r\nL 317.742798 136.36608 \r\nL 318.453709 136.36608 \r\nL 319.16462 136.36608 \r\nL 319.342348 136.504225 \r\nL 319.875531 136.918662 \r\nL 320.586442 136.918662 \r\nL 320.764169 137.056808 \r\nL 321.297352 137.471244 \r\nL 322.008263 137.471244 \r\nL 322.719174 137.471244 \r\nL 322.896902 137.60939 \r\nL 323.430085 138.023826 \r\nL 324.140996 138.023826 \r\nL 324.851906 138.023826 \r\nL 325.029634 138.161972 \r\nL 325.562817 138.576408 \r\nL 326.273728 138.576408 \r\nL 326.451456 138.714554 \r\nL 326.984639 139.128991 \r\nL 327.69555 139.128991 \r\nL 328.406461 139.128991 \r\nL 328.584188 139.267136 \r\nL 329.117371 139.681573 \r\nL 329.828282 139.681573 \r\nL 330.539193 139.681573 \r\nL 330.716921 139.819718 \r\nL 331.250104 140.234155 \r\nL 331.961015 140.234155 \r\nL 332.138742 140.3723 \r\nL 332.671925 140.786737 \r\nL 333.382836 140.786737 \r\nL 334.093747 140.786737 \r\nL 334.271475 140.924883 \r\nL 334.804658 141.339319 \r\nL 335.515569 141.339319 \r\nL 336.226479 141.339319 \r\nL 336.404207 141.477465 \r\nL 336.93739 141.891901 \r\nL 337.648301 141.891901 \r\nL 337.826029 142.030047 \r\nL 338.359212 142.444484 \r\nL 339.070123 142.444484 \r\nL 339.781034 142.444484 \r\nL 339.958761 142.582629 \r\nL 340.491944 142.997066 \r\nL 341.202855 142.997066 \r\nL 341.380583 143.135211 \r\nL 341.913766 143.549648 \r\nL 342.624677 143.549648 \r\nL 343.335588 143.549648 \r\nL 343.513315 143.687793 \r\nL 344.046498 144.10223 \r\nL 344.757409 144.10223 \r\nL 345.46832 144.10223 \r\nL 345.646048 144.240376 \r\nL 346.179231 144.654812 \r\nL 346.890142 144.654812 \r\nL 347.067869 144.792958 \r\nL 347.601053 145.207394 \r\nL 348.311963 145.207394 \r\nL 349.022874 145.207394 \r\nL 349.200602 145.34554 \r\nL 349.733785 145.759977 \r\nL 350.444696 145.759977 \r\nL 351.155607 145.759977 \r\nL 351.333334 145.898122 \r\nL 351.866517 146.312559 \r\nL 352.577428 146.312559 \r\nL 352.755156 146.450704 \r\nL 353.288339 146.865141 \r\nL 353.99925 146.865141 \r\nL 354.710161 146.865141 \r\nL 354.887888 147.003286 \r\nL 355.421072 147.417723 \r\nL 356.131982 147.417723 \r\nL 356.842893 147.417723 \r\nL 357.020621 147.555869 \r\nL 357.553804 147.970305 \r\nL 358.264715 147.970305 \r\nL 358.442442 148.108451 \r\nL 358.975626 148.522887 \r\nL 359.686536 148.522887 \r\nL 360.397447 148.522887 \r\nL 360.575175 148.661033 \r\nL 361.108358 149.075469 \r\nL 361.819269 149.075469 \r\nL 362.53018 149.075469 \r\nL 362.707907 149.213615 \r\nL 363.24109 149.628052 \r\nL 363.952001 149.628052 \r\nL 364.129729 149.766197 \r\nL 364.662912 150.180634 \r\nL 365.373823 150.180634 \r\nL 366.084734 150.180634 \r\nL 366.262461 150.318779 \r\nL 366.795645 150.733216 \r\nL 367.506555 150.733216 \r\nL 368.217466 150.733216 \r\nL 368.395194 150.871362 \r\nL 368.928377 151.285798 \r\nL 369.639288 151.285798 \r\nL 369.817016 151.423944 \r\nL 370.350199 151.83838 \r\nL 371.061109 151.83838 \r\nL 371.77202 151.83838 \r\nL 371.949748 151.976526 \r\nL 372.482931 152.390962 \r\nL 373.193842 152.390962 \r\nL 373.904753 152.390962 \r\nL 374.08248 152.529108 \r\nL 374.615664 152.943545 \r\nL 375.326574 152.943545 \r\nL 375.504302 153.08169 \r\nL 376.037485 153.496127 \r\nL 376.748396 153.496127 \r\nL 377.459307 153.496127 \r\nL 377.637035 153.634272 \r\nL 378.170218 154.048709 \r\nL 378.881128 154.048709 \r\nL 379.592039 154.048709 \r\nL 379.769767 154.186854 \r\nL 380.30295 154.601291 \r\nL 381.013861 154.601291 \r\nL 381.191589 154.739437 \r\nL 381.724772 155.153873 \r\nL 382.435683 155.153873 \r\nL 383.146593 155.153873 \r\nL 383.324321 155.292019 \r\nL 383.857504 155.706455 \r\nL 384.568415 155.706455 \r\nL 385.279326 155.706455 \r\nL 385.457053 155.844601 \r\nL 385.990237 156.259038 \r\nL 386.701147 156.259038 \r\nL 386.878875 156.397183 \r\nL 387.412058 156.81162 \r\nL 388.122969 156.81162 \r\nL 388.83388 156.81162 \r\nL 389.011608 156.949765 \r\nL 389.544791 157.364202 \r\nL 390.255701 157.364202 \r\nL 390.966612 157.364202 \r\nL 391.14434 157.502347 \r\nL 391.677523 157.916784 \r\nL 392.388434 157.916784 \r\nL 392.566162 158.05493 \r\nL 393.099345 158.469366 \r\nL 393.810256 158.469366 \r\nL 394.521166 158.469366 \r\nL 394.698894 158.607512 \r\nL 395.232077 159.021948 \r\nL 395.942988 159.021948 \r\nL 396.653899 159.021948 \r\nL 396.831627 159.160094 \r\nL 397.36481 159.574531 \r\nL 398.07572 159.574531 \r\nL 398.253448 159.712676 \r\nL 398.786631 160.127113 \r\nL 399.497542 160.127113 \r\nL 400.208453 160.127113 \r\nL 400.386181 160.265258 \r\nL 400.919364 160.679695 \r\nL 401.630275 160.679695 \r\nL 402.341185 160.679695 \r\nL 402.518913 160.81784 \r\nL 403.052096 161.232277 \r\nL 403.763007 161.232277 \r\nL 403.940735 161.370423 \r\nL 404.473918 161.784859 \r\nL 405.184829 161.784859 \r\nL 405.895739 161.784859 \r\nL 406.073467 161.923005 \r\nL 406.60665 162.337441 \r\nL 407.317561 162.337441 \r\nL 408.028472 162.337441 \r\nL 408.2062 162.475587 \r\nL 408.739383 162.890023 \r\nL 409.450294 162.890023 \r\nL 409.628021 163.028169 \r\nL 410.161204 163.442606 \r\nL 410.872115 163.442606 \r\nL 411.583026 163.442606 \r\nL 411.760754 163.580751 \r\nL 412.293937 163.995188 \r\nL 413.004848 163.995188 \r\nL 413.715758 163.995188 \r\nL 413.893486 164.133333 \r\nL 414.426669 164.54777 \r\nL 415.13758 164.54777 \r\nL 415.315308 164.685915 \r\nz\r\n\" style=\"fill:#90ee90;fill-opacity:0.4;\"/>\r\n   </g>\r\n   <g id=\"PathCollection_7\">\r\n    <path clip-path=\"url(#p55578fd002)\" d=\"M 415.848491 164.962207 \r\nL 416.559402 164.962207 \r\nL 417.270312 164.962207 \r\nL 417.270312 164.824061 \r\nL 416.559402 164.824061 \r\nL 415.848491 164.824061 \r\nL 415.670763 164.685915 \r\nL 415.13758 164.271479 \r\nL 414.426669 164.271479 \r\nL 414.248942 164.133333 \r\nL 413.715758 163.718897 \r\nL 413.004848 163.718897 \r\nL 412.293937 163.718897 \r\nL 412.116209 163.580751 \r\nL 411.583026 163.166315 \r\nL 410.872115 163.166315 \r\nL 410.161204 163.166315 \r\nL 409.983477 163.028169 \r\nL 409.450294 162.613732 \r\nL 408.739383 162.613732 \r\nL 408.561655 162.475587 \r\nL 408.028472 162.06115 \r\nL 407.317561 162.06115 \r\nL 406.60665 162.06115 \r\nL 406.428923 161.923005 \r\nL 405.895739 161.508568 \r\nL 405.184829 161.508568 \r\nL 404.473918 161.508568 \r\nL 404.29619 161.370423 \r\nL 403.763007 160.955986 \r\nL 403.052096 160.955986 \r\nL 402.874368 160.81784 \r\nL 402.341185 160.403404 \r\nL 401.630275 160.403404 \r\nL 400.919364 160.403404 \r\nL 400.741636 160.265258 \r\nL 400.208453 159.850822 \r\nL 399.497542 159.850822 \r\nL 398.786631 159.850822 \r\nL 398.608904 159.712676 \r\nL 398.07572 159.298239 \r\nL 397.36481 159.298239 \r\nL 397.187082 159.160094 \r\nL 396.653899 158.745657 \r\nL 395.942988 158.745657 \r\nL 395.232077 158.745657 \r\nL 395.05435 158.607512 \r\nL 394.521166 158.193075 \r\nL 393.810256 158.193075 \r\nL 393.099345 158.193075 \r\nL 392.921617 158.05493 \r\nL 392.388434 157.640493 \r\nL 391.677523 157.640493 \r\nL 391.499795 157.502347 \r\nL 390.966612 157.087911 \r\nL 390.255701 157.087911 \r\nL 389.544791 157.087911 \r\nL 389.367063 156.949765 \r\nL 388.83388 156.535329 \r\nL 388.122969 156.535329 \r\nL 387.412058 156.535329 \r\nL 387.234331 156.397183 \r\nL 386.701147 155.982746 \r\nL 385.990237 155.982746 \r\nL 385.812509 155.844601 \r\nL 385.279326 155.430164 \r\nL 384.568415 155.430164 \r\nL 383.857504 155.430164 \r\nL 383.679776 155.292019 \r\nL 383.146593 154.877582 \r\nL 382.435683 154.877582 \r\nL 381.724772 154.877582 \r\nL 381.547044 154.739437 \r\nL 381.013861 154.325 \r\nL 380.30295 154.325 \r\nL 380.125222 154.186854 \r\nL 379.592039 153.772418 \r\nL 378.881128 153.772418 \r\nL 378.170218 153.772418 \r\nL 377.99249 153.634272 \r\nL 377.459307 153.219836 \r\nL 376.748396 153.219836 \r\nL 376.037485 153.219836 \r\nL 375.859757 153.08169 \r\nL 375.326574 152.667254 \r\nL 374.615664 152.667254 \r\nL 374.437936 152.529108 \r\nL 373.904753 152.114671 \r\nL 373.193842 152.114671 \r\nL 372.482931 152.114671 \r\nL 372.305203 151.976526 \r\nL 371.77202 151.562089 \r\nL 371.061109 151.562089 \r\nL 370.350199 151.562089 \r\nL 370.172471 151.423944 \r\nL 369.639288 151.009507 \r\nL 368.928377 151.009507 \r\nL 368.750649 150.871362 \r\nL 368.217466 150.456925 \r\nL 367.506555 150.456925 \r\nL 366.795645 150.456925 \r\nL 366.617917 150.318779 \r\nL 366.084734 149.904343 \r\nL 365.373823 149.904343 \r\nL 364.662912 149.904343 \r\nL 364.485184 149.766197 \r\nL 363.952001 149.351761 \r\nL 363.24109 149.351761 \r\nL 363.063363 149.213615 \r\nL 362.53018 148.799178 \r\nL 361.819269 148.799178 \r\nL 361.108358 148.799178 \r\nL 360.93063 148.661033 \r\nL 360.397447 148.246596 \r\nL 359.686536 148.246596 \r\nL 358.975626 148.246596 \r\nL 358.797898 148.108451 \r\nL 358.264715 147.694014 \r\nL 357.553804 147.694014 \r\nL 357.376076 147.555869 \r\nL 356.842893 147.141432 \r\nL 356.131982 147.141432 \r\nL 355.421072 147.141432 \r\nL 355.243344 147.003286 \r\nL 354.710161 146.58885 \r\nL 353.99925 146.58885 \r\nL 353.288339 146.58885 \r\nL 353.110611 146.450704 \r\nL 352.577428 146.036268 \r\nL 351.866517 146.036268 \r\nL 351.68879 145.898122 \r\nL 351.155607 145.483685 \r\nL 350.444696 145.483685 \r\nL 349.733785 145.483685 \r\nL 349.556057 145.34554 \r\nL 349.022874 144.931103 \r\nL 348.311963 144.931103 \r\nL 347.601053 144.931103 \r\nL 347.423325 144.792958 \r\nL 346.890142 144.378521 \r\nL 346.179231 144.378521 \r\nL 346.001503 144.240376 \r\nL 345.46832 143.825939 \r\nL 344.757409 143.825939 \r\nL 344.046498 143.825939 \r\nL 343.868771 143.687793 \r\nL 343.335588 143.273357 \r\nL 342.624677 143.273357 \r\nL 341.913766 143.273357 \r\nL 341.736038 143.135211 \r\nL 341.202855 142.720775 \r\nL 340.491944 142.720775 \r\nL 340.314217 142.582629 \r\nL 339.781034 142.168192 \r\nL 339.070123 142.168192 \r\nL 338.359212 142.168192 \r\nL 338.181484 142.030047 \r\nL 337.648301 141.61561 \r\nL 336.93739 141.61561 \r\nL 336.759663 141.477465 \r\nL 336.226479 141.063028 \r\nL 335.515569 141.063028 \r\nL 334.804658 141.063028 \r\nL 334.62693 140.924883 \r\nL 334.093747 140.510446 \r\nL 333.382836 140.510446 \r\nL 332.671925 140.510446 \r\nL 332.494198 140.3723 \r\nL 331.961015 139.957864 \r\nL 331.250104 139.957864 \r\nL 331.072376 139.819718 \r\nL 330.539193 139.405282 \r\nL 329.828282 139.405282 \r\nL 329.117371 139.405282 \r\nL 328.939644 139.267136 \r\nL 328.406461 138.8527 \r\nL 327.69555 138.8527 \r\nL 326.984639 138.8527 \r\nL 326.806911 138.714554 \r\nL 326.273728 138.300117 \r\nL 325.562817 138.300117 \r\nL 325.38509 138.161972 \r\nL 324.851906 137.747535 \r\nL 324.140996 137.747535 \r\nL 323.430085 137.747535 \r\nL 323.252357 137.60939 \r\nL 322.719174 137.194953 \r\nL 322.008263 137.194953 \r\nL 321.297352 137.194953 \r\nL 321.119625 137.056808 \r\nL 320.586442 136.642371 \r\nL 319.875531 136.642371 \r\nL 319.697803 136.504225 \r\nL 319.16462 136.089789 \r\nL 318.453709 136.089789 \r\nL 317.742798 136.089789 \r\nL 317.565071 135.951643 \r\nL 317.031887 135.537207 \r\nL 316.320977 135.537207 \r\nL 315.610066 135.537207 \r\nL 315.432338 135.399061 \r\nL 314.899155 134.984624 \r\nL 314.188244 134.984624 \r\nL 314.010516 134.846479 \r\nL 313.477333 134.432042 \r\nL 312.766423 134.432042 \r\nL 312.055512 134.432042 \r\nL 311.877784 134.293897 \r\nL 311.344601 133.87946 \r\nL 310.63369 133.87946 \r\nL 309.922779 133.87946 \r\nL 309.745052 133.741315 \r\nL 309.211868 133.326878 \r\nL 308.500958 133.326878 \r\nL 308.32323 133.188732 \r\nL 307.790047 132.774296 \r\nL 307.079136 132.774296 \r\nL 306.368225 132.774296 \r\nL 306.190498 132.63615 \r\nL 305.657314 132.221714 \r\nL 304.946404 132.221714 \r\nL 304.235493 132.221714 \r\nL 304.057765 132.083568 \r\nL 303.524582 131.669131 \r\nL 302.813671 131.669131 \r\nL 302.635943 131.530986 \r\nL 302.10276 131.116549 \r\nL 301.39185 131.116549 \r\nL 300.680939 131.116549 \r\nL 300.503211 130.978404 \r\nL 299.970028 130.563967 \r\nL 299.259117 130.563967 \r\nL 298.548206 130.563967 \r\nL 298.370479 130.425822 \r\nL 297.837295 130.011385 \r\nL 297.126385 130.011385 \r\nL 296.948657 129.873239 \r\nL 296.415474 129.458803 \r\nL 295.704563 129.458803 \r\nL 294.993652 129.458803 \r\nL 294.815924 129.320657 \r\nL 294.282741 128.906221 \r\nL 293.571831 128.906221 \r\nL 292.86092 128.906221 \r\nL 292.683192 128.768075 \r\nL 292.150009 128.353638 \r\nL 291.439098 128.353638 \r\nL 291.26137 128.215493 \r\nL 290.728187 127.801056 \r\nL 290.017276 127.801056 \r\nL 289.306366 127.801056 \r\nL 289.128638 127.662911 \r\nL 288.595455 127.248474 \r\nL 287.884544 127.248474 \r\nL 287.173633 127.248474 \r\nL 286.995905 127.110329 \r\nL 286.462722 126.695892 \r\nL 285.751812 126.695892 \r\nL 285.574084 126.557746 \r\nL 285.040901 126.14331 \r\nL 284.32999 126.14331 \r\nL 283.619079 126.14331 \r\nL 283.441351 126.005164 \r\nL 282.908168 125.590728 \r\nL 282.197257 125.590728 \r\nL 281.486347 125.590728 \r\nL 281.308619 125.452582 \r\nL 280.775436 125.038146 \r\nL 280.064525 125.038146 \r\nL 279.886797 124.9 \r\nL 279.353614 124.485563 \r\nL 278.642703 124.485563 \r\nL 277.931793 124.485563 \r\nL 277.754065 124.347418 \r\nL 277.220882 123.932981 \r\nL 276.509971 123.932981 \r\nL 275.79906 123.932981 \r\nL 275.621332 123.794836 \r\nL 275.088149 123.380399 \r\nL 274.377238 123.380399 \r\nL 274.199511 123.242254 \r\nL 273.666328 122.827817 \r\nL 272.955417 122.827817 \r\nL 272.244506 122.827817 \r\nL 272.066778 122.689671 \r\nL 271.533595 122.275235 \r\nL 270.822684 122.275235 \r\nL 270.111774 122.275235 \r\nL 269.934046 122.137089 \r\nL 269.400863 121.722653 \r\nL 268.689952 121.722653 \r\nL 268.512224 121.584507 \r\nL 267.979041 121.17007 \r\nL 267.26813 121.17007 \r\nL 266.55722 121.17007 \r\nL 266.379492 121.031925 \r\nL 265.846309 120.617488 \r\nL 265.135398 120.617488 \r\nL 264.424487 120.617488 \r\nL 264.246759 120.479343 \r\nL 263.713576 120.064906 \r\nL 263.002665 120.064906 \r\nL 262.824938 119.926761 \r\nL 262.291755 119.512324 \r\nL 261.580844 119.512324 \r\nL 260.869933 119.512324 \r\nL 260.692205 119.374178 \r\nL 260.159022 118.959742 \r\nL 259.448111 118.959742 \r\nL 258.737201 118.959742 \r\nL 258.559473 118.821596 \r\nL 258.02629 118.40716 \r\nL 257.315379 118.40716 \r\nL 257.137651 118.269014 \r\nL 256.604468 117.854577 \r\nL 255.893557 117.854577 \r\nL 255.182646 117.854577 \r\nL 255.004919 117.716432 \r\nL 254.471736 117.301995 \r\nL 253.760825 117.301995 \r\nL 253.583097 117.16385 \r\nL 253.049914 116.749413 \r\nL 252.339003 116.749413 \r\nL 251.628092 116.749413 \r\nL 251.450365 116.611268 \r\nL 250.917182 116.196831 \r\nL 250.828318 116.058685 \r\nL 250.828318 115.506103 \r\nL 250.206271 115.022594 \r\nL 250.117407 114.953521 \r\nL 250.117407 114.400939 \r\nL 250.117407 113.848357 \r\nL 250.117407 113.295775 \r\nL 250.117407 112.743192 \r\nL 250.117407 112.19061 \r\nL 249.49536 111.707101 \r\nL 249.406496 111.638028 \r\nL 249.406496 111.085446 \r\nL 249.406496 110.532864 \r\nL 249.406496 109.980282 \r\nL 249.406496 109.4277 \r\nL 249.406496 108.875117 \r\nL 249.406496 108.322535 \r\nL 248.784449 107.839026 \r\nL 248.695585 107.769953 \r\nL 248.695585 107.217371 \r\nL 248.695585 106.664789 \r\nL 248.695585 106.112207 \r\nL 248.695585 105.559624 \r\nL 248.695585 105.007042 \r\nL 248.073538 104.523533 \r\nL 247.984674 104.45446 \r\nL 247.984674 103.901878 \r\nL 247.984674 103.349296 \r\nL 247.984674 102.796714 \r\nL 247.984674 102.244131 \r\nL 247.984674 101.691549 \r\nL 247.984674 101.138967 \r\nL 247.362627 100.655458 \r\nL 247.273764 100.586385 \r\nL 247.273764 100.033803 \r\nL 247.273764 99.481221 \r\nL 247.273764 98.928638 \r\nL 247.273764 98.376056 \r\nL 247.273764 97.823474 \r\nL 246.651717 97.339965 \r\nL 246.562853 97.270892 \r\nL 246.562853 96.71831 \r\nL 246.562853 96.165728 \r\nL 246.562853 95.613146 \r\nL 246.562853 95.060563 \r\nL 246.562853 94.507981 \r\nL 246.562853 93.955399 \r\nL 245.940806 93.47189 \r\nL 245.851942 93.402817 \r\nL 245.851942 92.850235 \r\nL 245.851942 92.297653 \r\nL 245.851942 91.74507 \r\nL 245.851942 91.192488 \r\nL 245.851942 90.639906 \r\nL 245.229895 90.156397 \r\nL 245.141031 90.087324 \r\nL 245.141031 89.534742 \r\nL 245.141031 88.98216 \r\nL 245.141031 88.429577 \r\nL 245.141031 87.876995 \r\nL 245.141031 87.324413 \r\nL 245.141031 86.771831 \r\nL 244.518984 86.288322 \r\nL 244.43012 86.219249 \r\nL 244.43012 85.666667 \r\nL 244.43012 85.114085 \r\nL 244.43012 84.561502 \r\nL 244.43012 84.00892 \r\nL 244.43012 83.456338 \r\nL 243.808073 82.972829 \r\nL 243.71921 82.903756 \r\nL 243.71921 82.351174 \r\nL 243.71921 81.798592 \r\nL 243.71921 81.246009 \r\nL 243.71921 80.693427 \r\nL 243.71921 80.140845 \r\nL 243.71921 79.588263 \r\nL 243.097163 79.104754 \r\nL 243.008299 79.035681 \r\nL 243.008299 78.483099 \r\nL 243.008299 77.930516 \r\nL 243.008299 77.377934 \r\nL 243.008299 76.825352 \r\nL 243.008299 76.27277 \r\nL 242.386252 75.789261 \r\nL 242.297388 75.720188 \r\nL 242.297388 75.167606 \r\nL 242.297388 74.615023 \r\nL 242.297388 74.062441 \r\nL 242.297388 73.509859 \r\nL 242.297388 72.957277 \r\nL 242.297388 72.404695 \r\nL 241.675341 71.921185 \r\nL 241.586477 71.852113 \r\nL 241.586477 71.299531 \r\nL 241.586477 70.746948 \r\nL 241.586477 70.194366 \r\nL 241.586477 69.641784 \r\nL 241.586477 69.089202 \r\nL 240.96443 68.605692 \r\nL 240.875566 68.53662 \r\nL 240.875566 67.984038 \r\nL 240.875566 67.431455 \r\nL 240.875566 66.878873 \r\nL 240.875566 66.326291 \r\nL 240.875566 65.773709 \r\nL 240.875566 65.221127 \r\nL 240.253519 64.737617 \r\nL 240.164655 64.668545 \r\nL 240.164655 64.115962 \r\nL 240.164655 63.56338 \r\nL 240.164655 63.010798 \r\nL 240.164655 62.458216 \r\nL 240.164655 61.905634 \r\nL 239.542609 61.422124 \r\nL 239.453745 61.353052 \r\nL 239.453745 60.800469 \r\nL 239.453745 60.247887 \r\nL 239.453745 59.695305 \r\nL 239.453745 59.142723 \r\nL 239.453745 58.590141 \r\nL 239.453745 58.037559 \r\nL 238.831698 57.554049 \r\nL 238.742834 57.484977 \r\nL 238.742834 56.932394 \r\nL 238.742834 56.379812 \r\nL 238.742834 55.82723 \r\nL 238.742834 55.274648 \r\nL 238.742834 54.722066 \r\nL 238.120787 54.238556 \r\nL 238.031923 54.169484 \r\nL 238.031923 53.616901 \r\nL 238.031923 53.064319 \r\nL 238.031923 52.511737 \r\nL 238.031923 51.959155 \r\nL 238.031923 51.406573 \r\nL 238.031923 50.853991 \r\nL 237.409876 50.370481 \r\nL 237.321012 50.301408 \r\nL 237.321012 49.748826 \r\nL 237.321012 49.196244 \r\nL 237.321012 48.643662 \r\nL 237.321012 48.09108 \r\nL 237.321012 47.538498 \r\nL 236.698965 47.054988 \r\nL 236.610101 46.985915 \r\nL 236.610101 46.433333 \r\nL 236.610101 45.880751 \r\nL 236.610101 45.328169 \r\nL 236.610101 44.775587 \r\nL 236.610101 44.223005 \r\nL 236.610101 43.670423 \r\nL 235.988054 43.186913 \r\nL 235.899191 43.11784 \r\nL 235.899191 42.565258 \r\nL 235.899191 42.012676 \r\nL 235.899191 41.460094 \r\nL 235.899191 40.907512 \r\nL 235.899191 40.35493 \r\nL 235.277144 39.87142 \r\nL 235.18828 39.802347 \r\nL 235.18828 39.249765 \r\nL 235.18828 38.697183 \r\nL 235.18828 38.144601 \r\nL 235.18828 37.592019 \r\nL 235.18828 37.039437 \r\nL 235.18828 36.486854 \r\nL 234.566233 36.003345 \r\nL 234.477369 35.934272 \r\nL 234.477369 35.38169 \r\nL 234.477369 34.829108 \r\nL 234.477369 34.276526 \r\nL 234.477369 33.723944 \r\nL 234.477369 33.171362 \r\nL 233.855322 32.687852 \r\nL 233.766458 32.618779 \r\nL 233.766458 32.066197 \r\nL 233.766458 31.513615 \r\nL 233.766458 30.961033 \r\nL 233.766458 30.408451 \r\nL 233.766458 29.855869 \r\nL 233.766458 29.303286 \r\nL 233.144411 28.819777 \r\nL 233.055547 28.750704 \r\nL 233.055547 28.198122 \r\nL 233.055547 27.64554 \r\nL 233.055547 27.092958 \r\nL 233.055547 26.540376 \r\nL 233.055547 25.987793 \r\nL 232.4335 25.504284 \r\nL 232.344637 25.435211 \r\nL 232.344637 24.882629 \r\nL 232.344637 24.330047 \r\nL 232.344637 23.777465 \r\nL 232.344637 23.224883 \r\nL 232.344637 22.6723 \r\nL 231.72259 22.188791 \r\nL 231.633726 22.119718 \r\nL 231.633726 21.567136 \r\nL 231.633726 21.014554 \r\nL 231.633726 20.461972 \r\nL 231.633726 19.90939 \r\nL 231.633726 19.356808 \r\nL 231.633726 18.804225 \r\nL 231.011679 18.320716 \r\nL 230.922815 18.251643 \r\nL 230.922815 17.699061 \r\nL 230.922815 17.146479 \r\nL 230.922815 16.593897 \r\nL 230.922815 16.041315 \r\nL 230.922815 15.488732 \r\nL 230.300768 15.005223 \r\nL 230.211904 14.93615 \r\nL 230.211904 14.383568 \r\nL 230.211904 13.830986 \r\nL 230.211904 13.278404 \r\nL 230.211904 12.725822 \r\nL 230.211904 12.173239 \r\nL 230.211904 11.620657 \r\nL 229.589857 11.137148 \r\nL 229.500993 11.068075 \r\nL 229.500993 10.515493 \r\nL 229.500993 9.962911 \r\nL 229.500993 9.410329 \r\nL 229.500993 8.857746 \r\nL 229.500993 8.305164 \r\nL 228.878946 7.821655 \r\nL 228.790082 7.752582 \r\nL 228.790082 7.2 \r\nL 228.701219 7.2 \r\nL 228.701219 7.752582 \r\nL 228.878946 7.890728 \r\nL 229.412129 8.305164 \r\nL 229.412129 8.857746 \r\nL 229.412129 9.410329 \r\nL 229.412129 9.962911 \r\nL 229.412129 10.515493 \r\nL 229.412129 11.068075 \r\nL 229.589857 11.206221 \r\nL 230.12304 11.620657 \r\nL 230.12304 12.173239 \r\nL 230.12304 12.725822 \r\nL 230.12304 13.278404 \r\nL 230.12304 13.830986 \r\nL 230.12304 14.383568 \r\nL 230.12304 14.93615 \r\nL 230.300768 15.074296 \r\nL 230.833951 15.488732 \r\nL 230.833951 16.041315 \r\nL 230.833951 16.593897 \r\nL 230.833951 17.146479 \r\nL 230.833951 17.699061 \r\nL 230.833951 18.251643 \r\nL 231.011679 18.389789 \r\nL 231.544862 18.804225 \r\nL 231.544862 19.356808 \r\nL 231.544862 19.90939 \r\nL 231.544862 20.461972 \r\nL 231.544862 21.014554 \r\nL 231.544862 21.567136 \r\nL 231.544862 22.119718 \r\nL 231.72259 22.257864 \r\nL 232.255773 22.6723 \r\nL 232.255773 23.224883 \r\nL 232.255773 23.777465 \r\nL 232.255773 24.330047 \r\nL 232.255773 24.882629 \r\nL 232.255773 25.435211 \r\nL 232.4335 25.573357 \r\nL 232.966683 25.987793 \r\nL 232.966683 26.540376 \r\nL 232.966683 27.092958 \r\nL 232.966683 27.64554 \r\nL 232.966683 28.198122 \r\nL 232.966683 28.750704 \r\nL 233.144411 28.88885 \r\nL 233.677594 29.303286 \r\nL 233.677594 29.855869 \r\nL 233.677594 30.408451 \r\nL 233.677594 30.961033 \r\nL 233.677594 31.513615 \r\nL 233.677594 32.066197 \r\nL 233.677594 32.618779 \r\nL 233.855322 32.756925 \r\nL 234.388505 33.171362 \r\nL 234.388505 33.723944 \r\nL 234.388505 34.276526 \r\nL 234.388505 34.829108 \r\nL 234.388505 35.38169 \r\nL 234.388505 35.934272 \r\nL 234.566233 36.072418 \r\nL 235.099416 36.486854 \r\nL 235.099416 37.039437 \r\nL 235.099416 37.592019 \r\nL 235.099416 38.144601 \r\nL 235.099416 38.697183 \r\nL 235.099416 39.249765 \r\nL 235.099416 39.802347 \r\nL 235.277144 39.940493 \r\nL 235.810327 40.35493 \r\nL 235.810327 40.907512 \r\nL 235.810327 41.460094 \r\nL 235.810327 42.012676 \r\nL 235.810327 42.565258 \r\nL 235.810327 43.11784 \r\nL 235.988054 43.255986 \r\nL 236.521238 43.670423 \r\nL 236.521238 44.223005 \r\nL 236.521238 44.775587 \r\nL 236.521238 45.328169 \r\nL 236.521238 45.880751 \r\nL 236.521238 46.433333 \r\nL 236.521238 46.985915 \r\nL 236.698965 47.124061 \r\nL 237.232148 47.538498 \r\nL 237.232148 48.09108 \r\nL 237.232148 48.643662 \r\nL 237.232148 49.196244 \r\nL 237.232148 49.748826 \r\nL 237.232148 50.301408 \r\nL 237.409876 50.439554 \r\nL 237.943059 50.853991 \r\nL 237.943059 51.406573 \r\nL 237.943059 51.959155 \r\nL 237.943059 52.511737 \r\nL 237.943059 53.064319 \r\nL 237.943059 53.616901 \r\nL 237.943059 54.169484 \r\nL 238.120787 54.307629 \r\nL 238.65397 54.722066 \r\nL 238.65397 55.274648 \r\nL 238.65397 55.82723 \r\nL 238.65397 56.379812 \r\nL 238.65397 56.932394 \r\nL 238.65397 57.484977 \r\nL 238.831698 57.623122 \r\nL 239.364881 58.037559 \r\nL 239.364881 58.590141 \r\nL 239.364881 59.142723 \r\nL 239.364881 59.695305 \r\nL 239.364881 60.247887 \r\nL 239.364881 60.800469 \r\nL 239.364881 61.353052 \r\nL 239.542609 61.491197 \r\nL 240.075792 61.905634 \r\nL 240.075792 62.458216 \r\nL 240.075792 63.010798 \r\nL 240.075792 63.56338 \r\nL 240.075792 64.115962 \r\nL 240.075792 64.668545 \r\nL 240.253519 64.80669 \r\nL 240.786702 65.221127 \r\nL 240.786702 65.773709 \r\nL 240.786702 66.326291 \r\nL 240.786702 66.878873 \r\nL 240.786702 67.431455 \r\nL 240.786702 67.984038 \r\nL 240.786702 68.53662 \r\nL 240.96443 68.674765 \r\nL 241.497613 69.089202 \r\nL 241.497613 69.641784 \r\nL 241.497613 70.194366 \r\nL 241.497613 70.746948 \r\nL 241.497613 71.299531 \r\nL 241.497613 71.852113 \r\nL 241.675341 71.990258 \r\nL 242.208524 72.404695 \r\nL 242.208524 72.957277 \r\nL 242.208524 73.509859 \r\nL 242.208524 74.062441 \r\nL 242.208524 74.615023 \r\nL 242.208524 75.167606 \r\nL 242.208524 75.720188 \r\nL 242.386252 75.858333 \r\nL 242.919435 76.27277 \r\nL 242.919435 76.825352 \r\nL 242.919435 77.377934 \r\nL 242.919435 77.930516 \r\nL 242.919435 78.483099 \r\nL 242.919435 79.035681 \r\nL 243.097163 79.173826 \r\nL 243.630346 79.588263 \r\nL 243.630346 80.140845 \r\nL 243.630346 80.693427 \r\nL 243.630346 81.246009 \r\nL 243.630346 81.798592 \r\nL 243.630346 82.351174 \r\nL 243.630346 82.903756 \r\nL 243.808073 83.041901 \r\nL 244.341257 83.456338 \r\nL 244.341257 84.00892 \r\nL 244.341257 84.561502 \r\nL 244.341257 85.114085 \r\nL 244.341257 85.666667 \r\nL 244.341257 86.219249 \r\nL 244.518984 86.357394 \r\nL 245.052167 86.771831 \r\nL 245.052167 87.324413 \r\nL 245.052167 87.876995 \r\nL 245.052167 88.429577 \r\nL 245.052167 88.98216 \r\nL 245.052167 89.534742 \r\nL 245.052167 90.087324 \r\nL 245.229895 90.225469 \r\nL 245.763078 90.639906 \r\nL 245.763078 91.192488 \r\nL 245.763078 91.74507 \r\nL 245.763078 92.297653 \r\nL 245.763078 92.850235 \r\nL 245.763078 93.402817 \r\nL 245.940806 93.540962 \r\nL 246.473989 93.955399 \r\nL 246.473989 94.507981 \r\nL 246.473989 95.060563 \r\nL 246.473989 95.613146 \r\nL 246.473989 96.165728 \r\nL 246.473989 96.71831 \r\nL 246.473989 97.270892 \r\nL 246.651717 97.409038 \r\nL 247.1849 97.823474 \r\nL 247.1849 98.376056 \r\nL 247.1849 98.928638 \r\nL 247.1849 99.481221 \r\nL 247.1849 100.033803 \r\nL 247.1849 100.586385 \r\nL 247.362627 100.724531 \r\nL 247.895811 101.138967 \r\nL 247.895811 101.691549 \r\nL 247.895811 102.244131 \r\nL 247.895811 102.796714 \r\nL 247.895811 103.349296 \r\nL 247.895811 103.901878 \r\nL 247.895811 104.45446 \r\nL 248.073538 104.592606 \r\nL 248.606721 105.007042 \r\nL 248.606721 105.559624 \r\nL 248.606721 106.112207 \r\nL 248.606721 106.664789 \r\nL 248.606721 107.217371 \r\nL 248.606721 107.769953 \r\nL 248.784449 107.908099 \r\nL 249.317632 108.322535 \r\nL 249.317632 108.875117 \r\nL 249.317632 109.4277 \r\nL 249.317632 109.980282 \r\nL 249.317632 110.532864 \r\nL 249.317632 111.085446 \r\nL 249.317632 111.638028 \r\nL 249.49536 111.776174 \r\nL 250.028543 112.19061 \r\nL 250.028543 112.743192 \r\nL 250.028543 113.295775 \r\nL 250.028543 113.848357 \r\nL 250.028543 114.400939 \r\nL 250.028543 114.953521 \r\nL 250.206271 115.091667 \r\nL 250.739454 115.506103 \r\nL 250.739454 116.058685 \r\nL 250.917182 116.334977 \r\nL 251.272637 116.611268 \r\nL 251.628092 116.887559 \r\nL 252.339003 116.887559 \r\nL 253.049914 116.887559 \r\nL 253.405369 117.16385 \r\nL 253.760825 117.440141 \r\nL 254.471736 117.440141 \r\nL 254.827191 117.716432 \r\nL 255.182646 117.992723 \r\nL 255.893557 117.992723 \r\nL 256.604468 117.992723 \r\nL 256.959924 118.269014 \r\nL 257.315379 118.545305 \r\nL 258.02629 118.545305 \r\nL 258.381745 118.821596 \r\nL 258.737201 119.097887 \r\nL 259.448111 119.097887 \r\nL 260.159022 119.097887 \r\nL 260.514478 119.374178 \r\nL 260.869933 119.650469 \r\nL 261.580844 119.650469 \r\nL 262.291755 119.650469 \r\nL 262.64721 119.926761 \r\nL 263.002665 120.203052 \r\nL 263.713576 120.203052 \r\nL 264.069032 120.479343 \r\nL 264.424487 120.755634 \r\nL 265.135398 120.755634 \r\nL 265.846309 120.755634 \r\nL 266.201764 121.031925 \r\nL 266.55722 121.308216 \r\nL 267.26813 121.308216 \r\nL 267.979041 121.308216 \r\nL 268.334497 121.584507 \r\nL 268.689952 121.860798 \r\nL 269.400863 121.860798 \r\nL 269.756318 122.137089 \r\nL 270.111774 122.41338 \r\nL 270.822684 122.41338 \r\nL 271.533595 122.41338 \r\nL 271.889051 122.689671 \r\nL 272.244506 122.965962 \r\nL 272.955417 122.965962 \r\nL 273.666328 122.965962 \r\nL 274.021783 123.242254 \r\nL 274.377238 123.518545 \r\nL 275.088149 123.518545 \r\nL 275.443605 123.794836 \r\nL 275.79906 124.071127 \r\nL 276.509971 124.071127 \r\nL 277.220882 124.071127 \r\nL 277.576337 124.347418 \r\nL 277.931793 124.623709 \r\nL 278.642703 124.623709 \r\nL 279.353614 124.623709 \r\nL 279.70907 124.9 \r\nL 280.064525 125.176291 \r\nL 280.775436 125.176291 \r\nL 281.130891 125.452582 \r\nL 281.486347 125.728873 \r\nL 282.197257 125.728873 \r\nL 282.908168 125.728873 \r\nL 283.263624 126.005164 \r\nL 283.619079 126.281455 \r\nL 284.32999 126.281455 \r\nL 285.040901 126.281455 \r\nL 285.396356 126.557746 \r\nL 285.751812 126.834038 \r\nL 286.462722 126.834038 \r\nL 286.818178 127.110329 \r\nL 287.173633 127.38662 \r\nL 287.884544 127.38662 \r\nL 288.595455 127.38662 \r\nL 288.95091 127.662911 \r\nL 289.306366 127.939202 \r\nL 290.017276 127.939202 \r\nL 290.728187 127.939202 \r\nL 291.083643 128.215493 \r\nL 291.439098 128.491784 \r\nL 292.150009 128.491784 \r\nL 292.505464 128.768075 \r\nL 292.86092 129.044366 \r\nL 293.571831 129.044366 \r\nL 294.282741 129.044366 \r\nL 294.638197 129.320657 \r\nL 294.993652 129.596948 \r\nL 295.704563 129.596948 \r\nL 296.415474 129.596948 \r\nL 296.770929 129.873239 \r\nL 297.126385 130.149531 \r\nL 297.837295 130.149531 \r\nL 298.192751 130.425822 \r\nL 298.548206 130.702113 \r\nL 299.259117 130.702113 \r\nL 299.970028 130.702113 \r\nL 300.325483 130.978404 \r\nL 300.680939 131.254695 \r\nL 301.39185 131.254695 \r\nL 302.10276 131.254695 \r\nL 302.458216 131.530986 \r\nL 302.813671 131.807277 \r\nL 303.524582 131.807277 \r\nL 303.880037 132.083568 \r\nL 304.235493 132.359859 \r\nL 304.946404 132.359859 \r\nL 305.657314 132.359859 \r\nL 306.01277 132.63615 \r\nL 306.368225 132.912441 \r\nL 307.079136 132.912441 \r\nL 307.790047 132.912441 \r\nL 308.145502 133.188732 \r\nL 308.500958 133.465023 \r\nL 309.211868 133.465023 \r\nL 309.567324 133.741315 \r\nL 309.922779 134.017606 \r\nL 310.63369 134.017606 \r\nL 311.344601 134.017606 \r\nL 311.700056 134.293897 \r\nL 312.055512 134.570188 \r\nL 312.766423 134.570188 \r\nL 313.477333 134.570188 \r\nL 313.832789 134.846479 \r\nL 314.188244 135.12277 \r\nL 314.899155 135.12277 \r\nL 315.25461 135.399061 \r\nL 315.610066 135.675352 \r\nL 316.320977 135.675352 \r\nL 317.031887 135.675352 \r\nL 317.387343 135.951643 \r\nL 317.742798 136.227934 \r\nL 318.453709 136.227934 \r\nL 319.16462 136.227934 \r\nL 319.520075 136.504225 \r\nL 319.875531 136.780516 \r\nL 320.586442 136.780516 \r\nL 320.941897 137.056808 \r\nL 321.297352 137.333099 \r\nL 322.008263 137.333099 \r\nL 322.719174 137.333099 \r\nL 323.074629 137.60939 \r\nL 323.430085 137.885681 \r\nL 324.140996 137.885681 \r\nL 324.851906 137.885681 \r\nL 325.207362 138.161972 \r\nL 325.562817 138.438263 \r\nL 326.273728 138.438263 \r\nL 326.629183 138.714554 \r\nL 326.984639 138.990845 \r\nL 327.69555 138.990845 \r\nL 328.406461 138.990845 \r\nL 328.761916 139.267136 \r\nL 329.117371 139.543427 \r\nL 329.828282 139.543427 \r\nL 330.539193 139.543427 \r\nL 330.894648 139.819718 \r\nL 331.250104 140.096009 \r\nL 331.961015 140.096009 \r\nL 332.31647 140.3723 \r\nL 332.671925 140.648592 \r\nL 333.382836 140.648592 \r\nL 334.093747 140.648592 \r\nL 334.449202 140.924883 \r\nL 334.804658 141.201174 \r\nL 335.515569 141.201174 \r\nL 336.226479 141.201174 \r\nL 336.581935 141.477465 \r\nL 336.93739 141.753756 \r\nL 337.648301 141.753756 \r\nL 338.003757 142.030047 \r\nL 338.359212 142.306338 \r\nL 339.070123 142.306338 \r\nL 339.781034 142.306338 \r\nL 340.136489 142.582629 \r\nL 340.491944 142.85892 \r\nL 341.202855 142.85892 \r\nL 341.558311 143.135211 \r\nL 341.913766 143.411502 \r\nL 342.624677 143.411502 \r\nL 343.335588 143.411502 \r\nL 343.691043 143.687793 \r\nL 344.046498 143.964085 \r\nL 344.757409 143.964085 \r\nL 345.46832 143.964085 \r\nL 345.823775 144.240376 \r\nL 346.179231 144.516667 \r\nL 346.890142 144.516667 \r\nL 347.245597 144.792958 \r\nL 347.601053 145.069249 \r\nL 348.311963 145.069249 \r\nL 349.022874 145.069249 \r\nL 349.37833 145.34554 \r\nL 349.733785 145.621831 \r\nL 350.444696 145.621831 \r\nL 351.155607 145.621831 \r\nL 351.511062 145.898122 \r\nL 351.866517 146.174413 \r\nL 352.577428 146.174413 \r\nL 352.932884 146.450704 \r\nL 353.288339 146.726995 \r\nL 353.99925 146.726995 \r\nL 354.710161 146.726995 \r\nL 355.065616 147.003286 \r\nL 355.421072 147.279577 \r\nL 356.131982 147.279577 \r\nL 356.842893 147.279577 \r\nL 357.198349 147.555869 \r\nL 357.553804 147.83216 \r\nL 358.264715 147.83216 \r\nL 358.62017 148.108451 \r\nL 358.975626 148.384742 \r\nL 359.686536 148.384742 \r\nL 360.397447 148.384742 \r\nL 360.752903 148.661033 \r\nL 361.108358 148.937324 \r\nL 361.819269 148.937324 \r\nL 362.53018 148.937324 \r\nL 362.885635 149.213615 \r\nL 363.24109 149.489906 \r\nL 363.952001 149.489906 \r\nL 364.307457 149.766197 \r\nL 364.662912 150.042488 \r\nL 365.373823 150.042488 \r\nL 366.084734 150.042488 \r\nL 366.440189 150.318779 \r\nL 366.795645 150.59507 \r\nL 367.506555 150.59507 \r\nL 368.217466 150.59507 \r\nL 368.572922 150.871362 \r\nL 368.928377 151.147653 \r\nL 369.639288 151.147653 \r\nL 369.994743 151.423944 \r\nL 370.350199 151.700235 \r\nL 371.061109 151.700235 \r\nL 371.77202 151.700235 \r\nL 372.127476 151.976526 \r\nL 372.482931 152.252817 \r\nL 373.193842 152.252817 \r\nL 373.904753 152.252817 \r\nL 374.260208 152.529108 \r\nL 374.615664 152.805399 \r\nL 375.326574 152.805399 \r\nL 375.68203 153.08169 \r\nL 376.037485 153.357981 \r\nL 376.748396 153.357981 \r\nL 377.459307 153.357981 \r\nL 377.814762 153.634272 \r\nL 378.170218 153.910563 \r\nL 378.881128 153.910563 \r\nL 379.592039 153.910563 \r\nL 379.947495 154.186854 \r\nL 380.30295 154.463146 \r\nL 381.013861 154.463146 \r\nL 381.369316 154.739437 \r\nL 381.724772 155.015728 \r\nL 382.435683 155.015728 \r\nL 383.146593 155.015728 \r\nL 383.502049 155.292019 \r\nL 383.857504 155.56831 \r\nL 384.568415 155.56831 \r\nL 385.279326 155.56831 \r\nL 385.634781 155.844601 \r\nL 385.990237 156.120892 \r\nL 386.701147 156.120892 \r\nL 387.056603 156.397183 \r\nL 387.412058 156.673474 \r\nL 388.122969 156.673474 \r\nL 388.83388 156.673474 \r\nL 389.189335 156.949765 \r\nL 389.544791 157.226056 \r\nL 390.255701 157.226056 \r\nL 390.966612 157.226056 \r\nL 391.322068 157.502347 \r\nL 391.677523 157.778638 \r\nL 392.388434 157.778638 \r\nL 392.743889 158.05493 \r\nL 393.099345 158.331221 \r\nL 393.810256 158.331221 \r\nL 394.521166 158.331221 \r\nL 394.876622 158.607512 \r\nL 395.232077 158.883803 \r\nL 395.942988 158.883803 \r\nL 396.653899 158.883803 \r\nL 397.009354 159.160094 \r\nL 397.36481 159.436385 \r\nL 398.07572 159.436385 \r\nL 398.431176 159.712676 \r\nL 398.786631 159.988967 \r\nL 399.497542 159.988967 \r\nL 400.208453 159.988967 \r\nL 400.563908 160.265258 \r\nL 400.919364 160.541549 \r\nL 401.630275 160.541549 \r\nL 402.341185 160.541549 \r\nL 402.696641 160.81784 \r\nL 403.052096 161.094131 \r\nL 403.763007 161.094131 \r\nL 404.118462 161.370423 \r\nL 404.473918 161.646714 \r\nL 405.184829 161.646714 \r\nL 405.895739 161.646714 \r\nL 406.251195 161.923005 \r\nL 406.60665 162.199296 \r\nL 407.317561 162.199296 \r\nL 408.028472 162.199296 \r\nL 408.383927 162.475587 \r\nL 408.739383 162.751878 \r\nL 409.450294 162.751878 \r\nL 409.805749 163.028169 \r\nL 410.161204 163.30446 \r\nL 410.872115 163.30446 \r\nL 411.583026 163.30446 \r\nL 411.938481 163.580751 \r\nL 412.293937 163.857042 \r\nL 413.004848 163.857042 \r\nL 413.715758 163.857042 \r\nL 414.071214 164.133333 \r\nL 414.426669 164.409624 \r\nL 415.13758 164.409624 \r\nL 415.493035 164.685915 \r\nz\r\n\" style=\"fill:#90ee90;fill-opacity:0.4;\"/>\r\n   </g>\r\n   <g id=\"PathCollection_8\">\r\n    <path clip-path=\"url(#p55578fd002)\" d=\"M 415.848491 164.824061 \r\nL 416.559402 164.824061 \r\nL 417.270312 164.824061 \r\nL 417.270312 164.685915 \r\nL 417.270312 164.133333 \r\nL 417.270312 163.580751 \r\nL 417.270312 163.028169 \r\nL 417.270312 162.475587 \r\nL 417.270312 161.923005 \r\nL 417.270312 161.370423 \r\nL 417.270312 160.81784 \r\nL 417.270312 160.265258 \r\nL 417.270312 159.712676 \r\nL 417.270312 159.160094 \r\nL 417.270312 158.607512 \r\nL 417.270312 158.05493 \r\nL 417.270312 157.502347 \r\nL 417.270312 156.949765 \r\nL 417.270312 156.397183 \r\nL 417.270312 155.844601 \r\nL 417.270312 155.292019 \r\nL 417.270312 154.739437 \r\nL 417.270312 154.186854 \r\nL 417.270312 153.634272 \r\nL 417.270312 153.08169 \r\nL 417.270312 152.529108 \r\nL 417.270312 151.976526 \r\nL 417.270312 151.423944 \r\nL 417.270312 150.871362 \r\nL 417.270312 150.318779 \r\nL 417.270312 149.766197 \r\nL 417.270312 149.213615 \r\nL 417.270312 148.661033 \r\nL 417.270312 148.108451 \r\nL 417.270312 147.555869 \r\nL 417.270312 147.003286 \r\nL 417.270312 146.450704 \r\nL 417.270312 145.898122 \r\nL 417.270312 145.34554 \r\nL 417.270312 144.792958 \r\nL 417.270312 144.240376 \r\nL 417.270312 143.687793 \r\nL 417.270312 143.135211 \r\nL 417.270312 142.582629 \r\nL 417.270312 142.030047 \r\nL 417.270312 141.477465 \r\nL 417.270312 140.924883 \r\nL 417.270312 140.3723 \r\nL 417.270312 139.819718 \r\nL 417.270312 139.267136 \r\nL 417.270312 138.714554 \r\nL 417.270312 138.161972 \r\nL 417.270312 137.60939 \r\nL 417.270312 137.056808 \r\nL 417.270312 136.504225 \r\nL 417.270312 135.951643 \r\nL 417.270312 135.399061 \r\nL 417.270312 134.846479 \r\nL 417.270312 134.293897 \r\nL 417.270312 133.741315 \r\nL 417.270312 133.188732 \r\nL 417.270312 132.63615 \r\nL 417.270312 132.083568 \r\nL 417.270312 131.530986 \r\nL 417.270312 130.978404 \r\nL 417.270312 130.425822 \r\nL 417.270312 129.873239 \r\nL 417.270312 129.320657 \r\nL 417.270312 128.768075 \r\nL 417.270312 128.215493 \r\nL 417.270312 127.662911 \r\nL 417.270312 127.110329 \r\nL 417.270312 126.557746 \r\nL 417.270312 126.005164 \r\nL 417.270312 125.452582 \r\nL 417.270312 124.9 \r\nL 417.270312 124.347418 \r\nL 417.270312 123.794836 \r\nL 417.270312 123.242254 \r\nL 417.270312 122.689671 \r\nL 417.270312 122.137089 \r\nL 417.270312 121.584507 \r\nL 417.270312 121.031925 \r\nL 417.270312 120.479343 \r\nL 417.270312 119.926761 \r\nL 417.270312 119.374178 \r\nL 417.270312 118.821596 \r\nL 417.270312 118.269014 \r\nL 417.270312 117.716432 \r\nL 417.270312 117.16385 \r\nL 417.270312 116.611268 \r\nL 417.270312 116.058685 \r\nL 417.270312 115.506103 \r\nL 417.270312 114.953521 \r\nL 417.270312 114.400939 \r\nL 417.270312 113.848357 \r\nL 417.270312 113.295775 \r\nL 417.270312 112.743192 \r\nL 417.270312 112.19061 \r\nL 417.270312 111.638028 \r\nL 417.270312 111.085446 \r\nL 417.270312 110.532864 \r\nL 417.270312 109.980282 \r\nL 417.270312 109.4277 \r\nL 417.270312 108.875117 \r\nL 417.270312 108.322535 \r\nL 417.270312 107.769953 \r\nL 417.270312 107.217371 \r\nL 417.270312 106.664789 \r\nL 417.270312 106.112207 \r\nL 417.270312 105.559624 \r\nL 417.270312 105.007042 \r\nL 417.270312 104.45446 \r\nL 417.270312 103.901878 \r\nL 417.270312 103.349296 \r\nL 417.270312 102.796714 \r\nL 417.270312 102.244131 \r\nL 417.270312 101.691549 \r\nL 417.270312 101.138967 \r\nL 417.270312 100.586385 \r\nL 417.270312 100.033803 \r\nL 417.270312 99.481221 \r\nL 417.270312 98.928638 \r\nL 417.270312 98.376056 \r\nL 417.270312 97.823474 \r\nL 417.270312 97.270892 \r\nL 417.270312 96.71831 \r\nL 417.270312 96.165728 \r\nL 417.270312 95.613146 \r\nL 417.270312 95.060563 \r\nL 417.270312 94.507981 \r\nL 417.270312 93.955399 \r\nL 417.270312 93.402817 \r\nL 417.270312 92.850235 \r\nL 417.270312 92.297653 \r\nL 417.270312 91.74507 \r\nL 417.270312 91.192488 \r\nL 417.270312 90.639906 \r\nL 417.270312 90.087324 \r\nL 417.270312 89.534742 \r\nL 417.270312 88.98216 \r\nL 417.270312 88.429577 \r\nL 417.270312 87.876995 \r\nL 417.270312 87.324413 \r\nL 417.270312 86.771831 \r\nL 417.270312 86.219249 \r\nL 417.270312 85.666667 \r\nL 417.270312 85.114085 \r\nL 417.270312 84.561502 \r\nL 417.270312 84.00892 \r\nL 417.270312 83.456338 \r\nL 417.270312 82.903756 \r\nL 417.270312 82.351174 \r\nL 417.270312 81.798592 \r\nL 417.270312 81.246009 \r\nL 417.270312 80.693427 \r\nL 417.270312 80.140845 \r\nL 417.270312 79.588263 \r\nL 417.270312 79.035681 \r\nL 417.270312 78.483099 \r\nL 417.270312 77.930516 \r\nL 417.270312 77.377934 \r\nL 417.270312 76.825352 \r\nL 417.270312 76.27277 \r\nL 417.270312 75.720188 \r\nL 417.270312 75.167606 \r\nL 417.270312 74.615023 \r\nL 417.270312 74.062441 \r\nL 417.270312 73.509859 \r\nL 417.270312 72.957277 \r\nL 417.270312 72.404695 \r\nL 417.270312 71.852113 \r\nL 417.270312 71.299531 \r\nL 417.270312 70.746948 \r\nL 417.270312 70.194366 \r\nL 417.270312 69.641784 \r\nL 417.270312 69.089202 \r\nL 417.270312 68.53662 \r\nL 417.270312 67.984038 \r\nL 417.270312 67.431455 \r\nL 417.270312 66.878873 \r\nL 417.270312 66.326291 \r\nL 417.270312 65.773709 \r\nL 417.270312 65.221127 \r\nL 417.270312 64.668545 \r\nL 417.270312 64.115962 \r\nL 417.270312 63.56338 \r\nL 417.270312 63.010798 \r\nL 417.270312 62.458216 \r\nL 417.270312 61.905634 \r\nL 417.270312 61.353052 \r\nL 417.270312 60.800469 \r\nL 417.270312 60.247887 \r\nL 417.270312 59.695305 \r\nL 417.270312 59.142723 \r\nL 417.270312 58.590141 \r\nL 417.270312 58.037559 \r\nL 417.270312 57.484977 \r\nL 417.270312 56.932394 \r\nL 417.270312 56.379812 \r\nL 417.270312 55.82723 \r\nL 417.270312 55.274648 \r\nL 417.270312 54.722066 \r\nL 417.270312 54.169484 \r\nL 417.270312 53.616901 \r\nL 417.270312 53.064319 \r\nL 417.270312 52.511737 \r\nL 417.270312 51.959155 \r\nL 417.270312 51.406573 \r\nL 417.270312 50.853991 \r\nL 417.270312 50.301408 \r\nL 417.270312 49.748826 \r\nL 417.270312 49.196244 \r\nL 417.270312 48.643662 \r\nL 417.270312 48.09108 \r\nL 417.270312 47.538498 \r\nL 417.270312 46.985915 \r\nL 417.270312 46.433333 \r\nL 417.270312 45.880751 \r\nL 417.270312 45.328169 \r\nL 417.270312 44.775587 \r\nL 417.270312 44.223005 \r\nL 417.270312 43.670423 \r\nL 417.270312 43.11784 \r\nL 417.270312 42.565258 \r\nL 417.270312 42.012676 \r\nL 417.270312 41.460094 \r\nL 417.270312 40.907512 \r\nL 417.270312 40.35493 \r\nL 417.270312 39.802347 \r\nL 417.270312 39.249765 \r\nL 417.270312 38.697183 \r\nL 417.270312 38.144601 \r\nL 417.270312 37.592019 \r\nL 417.270312 37.039437 \r\nL 417.270312 36.486854 \r\nL 417.270312 35.934272 \r\nL 417.270312 35.38169 \r\nL 417.270312 34.829108 \r\nL 417.270312 34.276526 \r\nL 417.270312 33.723944 \r\nL 417.270312 33.171362 \r\nL 417.270312 32.618779 \r\nL 417.270312 32.066197 \r\nL 417.270312 31.513615 \r\nL 417.270312 30.961033 \r\nL 417.270312 30.408451 \r\nL 417.270312 29.855869 \r\nL 417.270312 29.303286 \r\nL 417.270312 28.750704 \r\nL 417.270312 28.198122 \r\nL 417.270312 27.64554 \r\nL 417.270312 27.092958 \r\nL 417.270312 26.540376 \r\nL 417.270312 25.987793 \r\nL 417.270312 25.435211 \r\nL 417.270312 24.882629 \r\nL 417.270312 24.330047 \r\nL 417.270312 23.777465 \r\nL 417.270312 23.224883 \r\nL 417.270312 22.6723 \r\nL 417.270312 22.119718 \r\nL 417.270312 21.567136 \r\nL 417.270312 21.014554 \r\nL 417.270312 20.461972 \r\nL 417.270312 19.90939 \r\nL 417.270312 19.356808 \r\nL 417.270312 18.804225 \r\nL 417.270312 18.251643 \r\nL 417.270312 17.699061 \r\nL 417.270312 17.146479 \r\nL 417.270312 16.593897 \r\nL 417.270312 16.041315 \r\nL 417.270312 15.488732 \r\nL 417.270312 14.93615 \r\nL 417.270312 14.383568 \r\nL 417.270312 13.830986 \r\nL 417.270312 13.278404 \r\nL 417.270312 12.725822 \r\nL 417.270312 12.173239 \r\nL 417.270312 11.620657 \r\nL 417.270312 11.068075 \r\nL 417.270312 10.515493 \r\nL 417.270312 9.962911 \r\nL 417.270312 9.410329 \r\nL 417.270312 8.857746 \r\nL 417.270312 8.305164 \r\nL 417.270312 7.752582 \r\nL 417.270312 7.2 \r\nL 416.559402 7.2 \r\nL 415.848491 7.2 \r\nL 415.13758 7.2 \r\nL 414.426669 7.2 \r\nL 413.715758 7.2 \r\nL 413.004848 7.2 \r\nL 412.293937 7.2 \r\nL 411.583026 7.2 \r\nL 410.872115 7.2 \r\nL 410.161204 7.2 \r\nL 409.450294 7.2 \r\nL 408.739383 7.2 \r\nL 408.028472 7.2 \r\nL 407.317561 7.2 \r\nL 406.60665 7.2 \r\nL 405.895739 7.2 \r\nL 405.184829 7.2 \r\nL 404.473918 7.2 \r\nL 403.763007 7.2 \r\nL 403.052096 7.2 \r\nL 402.341185 7.2 \r\nL 401.630275 7.2 \r\nL 400.919364 7.2 \r\nL 400.208453 7.2 \r\nL 399.497542 7.2 \r\nL 398.786631 7.2 \r\nL 398.07572 7.2 \r\nL 397.36481 7.2 \r\nL 396.653899 7.2 \r\nL 395.942988 7.2 \r\nL 395.232077 7.2 \r\nL 394.521166 7.2 \r\nL 393.810256 7.2 \r\nL 393.099345 7.2 \r\nL 392.388434 7.2 \r\nL 391.677523 7.2 \r\nL 390.966612 7.2 \r\nL 390.255701 7.2 \r\nL 389.544791 7.2 \r\nL 388.83388 7.2 \r\nL 388.122969 7.2 \r\nL 387.412058 7.2 \r\nL 386.701147 7.2 \r\nL 385.990237 7.2 \r\nL 385.279326 7.2 \r\nL 384.568415 7.2 \r\nL 383.857504 7.2 \r\nL 383.146593 7.2 \r\nL 382.435683 7.2 \r\nL 381.724772 7.2 \r\nL 381.013861 7.2 \r\nL 380.30295 7.2 \r\nL 379.592039 7.2 \r\nL 378.881128 7.2 \r\nL 378.170218 7.2 \r\nL 377.459307 7.2 \r\nL 376.748396 7.2 \r\nL 376.037485 7.2 \r\nL 375.326574 7.2 \r\nL 374.615664 7.2 \r\nL 373.904753 7.2 \r\nL 373.193842 7.2 \r\nL 372.482931 7.2 \r\nL 371.77202 7.2 \r\nL 371.061109 7.2 \r\nL 370.350199 7.2 \r\nL 369.639288 7.2 \r\nL 368.928377 7.2 \r\nL 368.217466 7.2 \r\nL 367.506555 7.2 \r\nL 366.795645 7.2 \r\nL 366.084734 7.2 \r\nL 365.373823 7.2 \r\nL 364.662912 7.2 \r\nL 363.952001 7.2 \r\nL 363.24109 7.2 \r\nL 362.53018 7.2 \r\nL 361.819269 7.2 \r\nL 361.108358 7.2 \r\nL 360.397447 7.2 \r\nL 359.686536 7.2 \r\nL 358.975626 7.2 \r\nL 358.264715 7.2 \r\nL 357.553804 7.2 \r\nL 356.842893 7.2 \r\nL 356.131982 7.2 \r\nL 355.421072 7.2 \r\nL 354.710161 7.2 \r\nL 353.99925 7.2 \r\nL 353.288339 7.2 \r\nL 352.577428 7.2 \r\nL 351.866517 7.2 \r\nL 351.155607 7.2 \r\nL 350.444696 7.2 \r\nL 349.733785 7.2 \r\nL 349.022874 7.2 \r\nL 348.311963 7.2 \r\nL 347.601053 7.2 \r\nL 346.890142 7.2 \r\nL 346.179231 7.2 \r\nL 345.46832 7.2 \r\nL 344.757409 7.2 \r\nL 344.046498 7.2 \r\nL 343.335588 7.2 \r\nL 342.624677 7.2 \r\nL 341.913766 7.2 \r\nL 341.202855 7.2 \r\nL 340.491944 7.2 \r\nL 339.781034 7.2 \r\nL 339.070123 7.2 \r\nL 338.359212 7.2 \r\nL 337.648301 7.2 \r\nL 336.93739 7.2 \r\nL 336.226479 7.2 \r\nL 335.515569 7.2 \r\nL 334.804658 7.2 \r\nL 334.093747 7.2 \r\nL 333.382836 7.2 \r\nL 332.671925 7.2 \r\nL 331.961015 7.2 \r\nL 331.250104 7.2 \r\nL 330.539193 7.2 \r\nL 329.828282 7.2 \r\nL 329.117371 7.2 \r\nL 328.406461 7.2 \r\nL 327.69555 7.2 \r\nL 326.984639 7.2 \r\nL 326.273728 7.2 \r\nL 325.562817 7.2 \r\nL 324.851906 7.2 \r\nL 324.140996 7.2 \r\nL 323.430085 7.2 \r\nL 322.719174 7.2 \r\nL 322.008263 7.2 \r\nL 321.297352 7.2 \r\nL 320.586442 7.2 \r\nL 319.875531 7.2 \r\nL 319.16462 7.2 \r\nL 318.453709 7.2 \r\nL 317.742798 7.2 \r\nL 317.031887 7.2 \r\nL 316.320977 7.2 \r\nL 315.610066 7.2 \r\nL 314.899155 7.2 \r\nL 314.188244 7.2 \r\nL 313.477333 7.2 \r\nL 312.766423 7.2 \r\nL 312.055512 7.2 \r\nL 311.344601 7.2 \r\nL 310.63369 7.2 \r\nL 309.922779 7.2 \r\nL 309.211868 7.2 \r\nL 308.500958 7.2 \r\nL 307.790047 7.2 \r\nL 307.079136 7.2 \r\nL 306.368225 7.2 \r\nL 305.657314 7.2 \r\nL 304.946404 7.2 \r\nL 304.235493 7.2 \r\nL 303.524582 7.2 \r\nL 302.813671 7.2 \r\nL 302.10276 7.2 \r\nL 301.39185 7.2 \r\nL 300.680939 7.2 \r\nL 299.970028 7.2 \r\nL 299.259117 7.2 \r\nL 298.548206 7.2 \r\nL 297.837295 7.2 \r\nL 297.126385 7.2 \r\nL 296.415474 7.2 \r\nL 295.704563 7.2 \r\nL 294.993652 7.2 \r\nL 294.282741 7.2 \r\nL 293.571831 7.2 \r\nL 292.86092 7.2 \r\nL 292.150009 7.2 \r\nL 291.439098 7.2 \r\nL 290.728187 7.2 \r\nL 290.017276 7.2 \r\nL 289.306366 7.2 \r\nL 288.595455 7.2 \r\nL 287.884544 7.2 \r\nL 287.173633 7.2 \r\nL 286.462722 7.2 \r\nL 285.751812 7.2 \r\nL 285.040901 7.2 \r\nL 284.32999 7.2 \r\nL 283.619079 7.2 \r\nL 282.908168 7.2 \r\nL 282.197257 7.2 \r\nL 281.486347 7.2 \r\nL 280.775436 7.2 \r\nL 280.064525 7.2 \r\nL 279.353614 7.2 \r\nL 278.642703 7.2 \r\nL 277.931793 7.2 \r\nL 277.220882 7.2 \r\nL 276.509971 7.2 \r\nL 275.79906 7.2 \r\nL 275.088149 7.2 \r\nL 274.377238 7.2 \r\nL 273.666328 7.2 \r\nL 272.955417 7.2 \r\nL 272.244506 7.2 \r\nL 271.533595 7.2 \r\nL 270.822684 7.2 \r\nL 270.111774 7.2 \r\nL 269.400863 7.2 \r\nL 268.689952 7.2 \r\nL 267.979041 7.2 \r\nL 267.26813 7.2 \r\nL 266.55722 7.2 \r\nL 265.846309 7.2 \r\nL 265.135398 7.2 \r\nL 264.424487 7.2 \r\nL 263.713576 7.2 \r\nL 263.002665 7.2 \r\nL 262.291755 7.2 \r\nL 261.580844 7.2 \r\nL 260.869933 7.2 \r\nL 260.159022 7.2 \r\nL 259.448111 7.2 \r\nL 258.737201 7.2 \r\nL 258.02629 7.2 \r\nL 257.315379 7.2 \r\nL 256.604468 7.2 \r\nL 255.893557 7.2 \r\nL 255.182646 7.2 \r\nL 254.471736 7.2 \r\nL 253.760825 7.2 \r\nL 253.049914 7.2 \r\nL 252.339003 7.2 \r\nL 251.628092 7.2 \r\nL 250.917182 7.2 \r\nL 250.206271 7.2 \r\nL 249.49536 7.2 \r\nL 248.784449 7.2 \r\nL 248.073538 7.2 \r\nL 247.362627 7.2 \r\nL 246.651717 7.2 \r\nL 245.940806 7.2 \r\nL 245.229895 7.2 \r\nL 244.518984 7.2 \r\nL 243.808073 7.2 \r\nL 243.097163 7.2 \r\nL 242.386252 7.2 \r\nL 241.675341 7.2 \r\nL 240.96443 7.2 \r\nL 240.253519 7.2 \r\nL 239.542609 7.2 \r\nL 238.831698 7.2 \r\nL 238.120787 7.2 \r\nL 237.409876 7.2 \r\nL 236.698965 7.2 \r\nL 235.988054 7.2 \r\nL 235.277144 7.2 \r\nL 234.566233 7.2 \r\nL 233.855322 7.2 \r\nL 233.144411 7.2 \r\nL 232.4335 7.2 \r\nL 231.72259 7.2 \r\nL 231.011679 7.2 \r\nL 230.300768 7.2 \r\nL 229.589857 7.2 \r\nL 228.878946 7.2 \r\nL 228.790082 7.2 \r\nL 228.790082 7.752582 \r\nL 228.878946 7.821655 \r\nL 229.500993 8.305164 \r\nL 229.500993 8.857746 \r\nL 229.500993 9.410329 \r\nL 229.500993 9.962911 \r\nL 229.500993 10.515493 \r\nL 229.500993 11.068075 \r\nL 229.589857 11.137148 \r\nL 230.211904 11.620657 \r\nL 230.211904 12.173239 \r\nL 230.211904 12.725822 \r\nL 230.211904 13.278404 \r\nL 230.211904 13.830986 \r\nL 230.211904 14.383568 \r\nL 230.211904 14.93615 \r\nL 230.300768 15.005223 \r\nL 230.922815 15.488732 \r\nL 230.922815 16.041315 \r\nL 230.922815 16.593897 \r\nL 230.922815 17.146479 \r\nL 230.922815 17.699061 \r\nL 230.922815 18.251643 \r\nL 231.011679 18.320716 \r\nL 231.633726 18.804225 \r\nL 231.633726 19.356808 \r\nL 231.633726 19.90939 \r\nL 231.633726 20.461972 \r\nL 231.633726 21.014554 \r\nL 231.633726 21.567136 \r\nL 231.633726 22.119718 \r\nL 231.72259 22.188791 \r\nL 232.344637 22.6723 \r\nL 232.344637 23.224883 \r\nL 232.344637 23.777465 \r\nL 232.344637 24.330047 \r\nL 232.344637 24.882629 \r\nL 232.344637 25.435211 \r\nL 232.4335 25.504284 \r\nL 233.055547 25.987793 \r\nL 233.055547 26.540376 \r\nL 233.055547 27.092958 \r\nL 233.055547 27.64554 \r\nL 233.055547 28.198122 \r\nL 233.055547 28.750704 \r\nL 233.144411 28.819777 \r\nL 233.766458 29.303286 \r\nL 233.766458 29.855869 \r\nL 233.766458 30.408451 \r\nL 233.766458 30.961033 \r\nL 233.766458 31.513615 \r\nL 233.766458 32.066197 \r\nL 233.766458 32.618779 \r\nL 233.855322 32.687852 \r\nL 234.477369 33.171362 \r\nL 234.477369 33.723944 \r\nL 234.477369 34.276526 \r\nL 234.477369 34.829108 \r\nL 234.477369 35.38169 \r\nL 234.477369 35.934272 \r\nL 234.566233 36.003345 \r\nL 235.18828 36.486854 \r\nL 235.18828 37.039437 \r\nL 235.18828 37.592019 \r\nL 235.18828 38.144601 \r\nL 235.18828 38.697183 \r\nL 235.18828 39.249765 \r\nL 235.18828 39.802347 \r\nL 235.277144 39.87142 \r\nL 235.899191 40.35493 \r\nL 235.899191 40.907512 \r\nL 235.899191 41.460094 \r\nL 235.899191 42.012676 \r\nL 235.899191 42.565258 \r\nL 235.899191 43.11784 \r\nL 235.988054 43.186913 \r\nL 236.610101 43.670423 \r\nL 236.610101 44.223005 \r\nL 236.610101 44.775587 \r\nL 236.610101 45.328169 \r\nL 236.610101 45.880751 \r\nL 236.610101 46.433333 \r\nL 236.610101 46.985915 \r\nL 236.698965 47.054988 \r\nL 237.321012 47.538498 \r\nL 237.321012 48.09108 \r\nL 237.321012 48.643662 \r\nL 237.321012 49.196244 \r\nL 237.321012 49.748826 \r\nL 237.321012 50.301408 \r\nL 237.409876 50.370481 \r\nL 238.031923 50.853991 \r\nL 238.031923 51.406573 \r\nL 238.031923 51.959155 \r\nL 238.031923 52.511737 \r\nL 238.031923 53.064319 \r\nL 238.031923 53.616901 \r\nL 238.031923 54.169484 \r\nL 238.120787 54.238556 \r\nL 238.742834 54.722066 \r\nL 238.742834 55.274648 \r\nL 238.742834 55.82723 \r\nL 238.742834 56.379812 \r\nL 238.742834 56.932394 \r\nL 238.742834 57.484977 \r\nL 238.831698 57.554049 \r\nL 239.453745 58.037559 \r\nL 239.453745 58.590141 \r\nL 239.453745 59.142723 \r\nL 239.453745 59.695305 \r\nL 239.453745 60.247887 \r\nL 239.453745 60.800469 \r\nL 239.453745 61.353052 \r\nL 239.542609 61.422124 \r\nL 240.164655 61.905634 \r\nL 240.164655 62.458216 \r\nL 240.164655 63.010798 \r\nL 240.164655 63.56338 \r\nL 240.164655 64.115962 \r\nL 240.164655 64.668545 \r\nL 240.253519 64.737617 \r\nL 240.875566 65.221127 \r\nL 240.875566 65.773709 \r\nL 240.875566 66.326291 \r\nL 240.875566 66.878873 \r\nL 240.875566 67.431455 \r\nL 240.875566 67.984038 \r\nL 240.875566 68.53662 \r\nL 240.96443 68.605692 \r\nL 241.586477 69.089202 \r\nL 241.586477 69.641784 \r\nL 241.586477 70.194366 \r\nL 241.586477 70.746948 \r\nL 241.586477 71.299531 \r\nL 241.586477 71.852113 \r\nL 241.675341 71.921185 \r\nL 242.297388 72.404695 \r\nL 242.297388 72.957277 \r\nL 242.297388 73.509859 \r\nL 242.297388 74.062441 \r\nL 242.297388 74.615023 \r\nL 242.297388 75.167606 \r\nL 242.297388 75.720188 \r\nL 242.386252 75.789261 \r\nL 243.008299 76.27277 \r\nL 243.008299 76.825352 \r\nL 243.008299 77.377934 \r\nL 243.008299 77.930516 \r\nL 243.008299 78.483099 \r\nL 243.008299 79.035681 \r\nL 243.097163 79.104754 \r\nL 243.71921 79.588263 \r\nL 243.71921 80.140845 \r\nL 243.71921 80.693427 \r\nL 243.71921 81.246009 \r\nL 243.71921 81.798592 \r\nL 243.71921 82.351174 \r\nL 243.71921 82.903756 \r\nL 243.808073 82.972829 \r\nL 244.43012 83.456338 \r\nL 244.43012 84.00892 \r\nL 244.43012 84.561502 \r\nL 244.43012 85.114085 \r\nL 244.43012 85.666667 \r\nL 244.43012 86.219249 \r\nL 244.518984 86.288322 \r\nL 245.141031 86.771831 \r\nL 245.141031 87.324413 \r\nL 245.141031 87.876995 \r\nL 245.141031 88.429577 \r\nL 245.141031 88.98216 \r\nL 245.141031 89.534742 \r\nL 245.141031 90.087324 \r\nL 245.229895 90.156397 \r\nL 245.851942 90.639906 \r\nL 245.851942 91.192488 \r\nL 245.851942 91.74507 \r\nL 245.851942 92.297653 \r\nL 245.851942 92.850235 \r\nL 245.851942 93.402817 \r\nL 245.940806 93.47189 \r\nL 246.562853 93.955399 \r\nL 246.562853 94.507981 \r\nL 246.562853 95.060563 \r\nL 246.562853 95.613146 \r\nL 246.562853 96.165728 \r\nL 246.562853 96.71831 \r\nL 246.562853 97.270892 \r\nL 246.651717 97.339965 \r\nL 247.273764 97.823474 \r\nL 247.273764 98.376056 \r\nL 247.273764 98.928638 \r\nL 247.273764 99.481221 \r\nL 247.273764 100.033803 \r\nL 247.273764 100.586385 \r\nL 247.362627 100.655458 \r\nL 247.984674 101.138967 \r\nL 247.984674 101.691549 \r\nL 247.984674 102.244131 \r\nL 247.984674 102.796714 \r\nL 247.984674 103.349296 \r\nL 247.984674 103.901878 \r\nL 247.984674 104.45446 \r\nL 248.073538 104.523533 \r\nL 248.695585 105.007042 \r\nL 248.695585 105.559624 \r\nL 248.695585 106.112207 \r\nL 248.695585 106.664789 \r\nL 248.695585 107.217371 \r\nL 248.695585 107.769953 \r\nL 248.784449 107.839026 \r\nL 249.406496 108.322535 \r\nL 249.406496 108.875117 \r\nL 249.406496 109.4277 \r\nL 249.406496 109.980282 \r\nL 249.406496 110.532864 \r\nL 249.406496 111.085446 \r\nL 249.406496 111.638028 \r\nL 249.49536 111.707101 \r\nL 250.117407 112.19061 \r\nL 250.117407 112.743192 \r\nL 250.117407 113.295775 \r\nL 250.117407 113.848357 \r\nL 250.117407 114.400939 \r\nL 250.117407 114.953521 \r\nL 250.206271 115.022594 \r\nL 250.828318 115.506103 \r\nL 250.828318 116.058685 \r\nL 250.917182 116.196831 \r\nL 251.450365 116.611268 \r\nL 251.628092 116.749413 \r\nL 252.339003 116.749413 \r\nL 253.049914 116.749413 \r\nL 253.583097 117.16385 \r\nL 253.760825 117.301995 \r\nL 254.471736 117.301995 \r\nL 255.004919 117.716432 \r\nL 255.182646 117.854577 \r\nL 255.893557 117.854577 \r\nL 256.604468 117.854577 \r\nL 257.137651 118.269014 \r\nL 257.315379 118.40716 \r\nL 258.02629 118.40716 \r\nL 258.559473 118.821596 \r\nL 258.737201 118.959742 \r\nL 259.448111 118.959742 \r\nL 260.159022 118.959742 \r\nL 260.692205 119.374178 \r\nL 260.869933 119.512324 \r\nL 261.580844 119.512324 \r\nL 262.291755 119.512324 \r\nL 262.824938 119.926761 \r\nL 263.002665 120.064906 \r\nL 263.713576 120.064906 \r\nL 264.246759 120.479343 \r\nL 264.424487 120.617488 \r\nL 265.135398 120.617488 \r\nL 265.846309 120.617488 \r\nL 266.379492 121.031925 \r\nL 266.55722 121.17007 \r\nL 267.26813 121.17007 \r\nL 267.979041 121.17007 \r\nL 268.512224 121.584507 \r\nL 268.689952 121.722653 \r\nL 269.400863 121.722653 \r\nL 269.934046 122.137089 \r\nL 270.111774 122.275235 \r\nL 270.822684 122.275235 \r\nL 271.533595 122.275235 \r\nL 272.066778 122.689671 \r\nL 272.244506 122.827817 \r\nL 272.955417 122.827817 \r\nL 273.666328 122.827817 \r\nL 274.199511 123.242254 \r\nL 274.377238 123.380399 \r\nL 275.088149 123.380399 \r\nL 275.621332 123.794836 \r\nL 275.79906 123.932981 \r\nL 276.509971 123.932981 \r\nL 277.220882 123.932981 \r\nL 277.754065 124.347418 \r\nL 277.931793 124.485563 \r\nL 278.642703 124.485563 \r\nL 279.353614 124.485563 \r\nL 279.886797 124.9 \r\nL 280.064525 125.038146 \r\nL 280.775436 125.038146 \r\nL 281.308619 125.452582 \r\nL 281.486347 125.590728 \r\nL 282.197257 125.590728 \r\nL 282.908168 125.590728 \r\nL 283.441351 126.005164 \r\nL 283.619079 126.14331 \r\nL 284.32999 126.14331 \r\nL 285.040901 126.14331 \r\nL 285.574084 126.557746 \r\nL 285.751812 126.695892 \r\nL 286.462722 126.695892 \r\nL 286.995905 127.110329 \r\nL 287.173633 127.248474 \r\nL 287.884544 127.248474 \r\nL 288.595455 127.248474 \r\nL 289.128638 127.662911 \r\nL 289.306366 127.801056 \r\nL 290.017276 127.801056 \r\nL 290.728187 127.801056 \r\nL 291.26137 128.215493 \r\nL 291.439098 128.353638 \r\nL 292.150009 128.353638 \r\nL 292.683192 128.768075 \r\nL 292.86092 128.906221 \r\nL 293.571831 128.906221 \r\nL 294.282741 128.906221 \r\nL 294.815924 129.320657 \r\nL 294.993652 129.458803 \r\nL 295.704563 129.458803 \r\nL 296.415474 129.458803 \r\nL 296.948657 129.873239 \r\nL 297.126385 130.011385 \r\nL 297.837295 130.011385 \r\nL 298.370479 130.425822 \r\nL 298.548206 130.563967 \r\nL 299.259117 130.563967 \r\nL 299.970028 130.563967 \r\nL 300.503211 130.978404 \r\nL 300.680939 131.116549 \r\nL 301.39185 131.116549 \r\nL 302.10276 131.116549 \r\nL 302.635943 131.530986 \r\nL 302.813671 131.669131 \r\nL 303.524582 131.669131 \r\nL 304.057765 132.083568 \r\nL 304.235493 132.221714 \r\nL 304.946404 132.221714 \r\nL 305.657314 132.221714 \r\nL 306.190498 132.63615 \r\nL 306.368225 132.774296 \r\nL 307.079136 132.774296 \r\nL 307.790047 132.774296 \r\nL 308.32323 133.188732 \r\nL 308.500958 133.326878 \r\nL 309.211868 133.326878 \r\nL 309.745052 133.741315 \r\nL 309.922779 133.87946 \r\nL 310.63369 133.87946 \r\nL 311.344601 133.87946 \r\nL 311.877784 134.293897 \r\nL 312.055512 134.432042 \r\nL 312.766423 134.432042 \r\nL 313.477333 134.432042 \r\nL 314.010516 134.846479 \r\nL 314.188244 134.984624 \r\nL 314.899155 134.984624 \r\nL 315.432338 135.399061 \r\nL 315.610066 135.537207 \r\nL 316.320977 135.537207 \r\nL 317.031887 135.537207 \r\nL 317.565071 135.951643 \r\nL 317.742798 136.089789 \r\nL 318.453709 136.089789 \r\nL 319.16462 136.089789 \r\nL 319.697803 136.504225 \r\nL 319.875531 136.642371 \r\nL 320.586442 136.642371 \r\nL 321.119625 137.056808 \r\nL 321.297352 137.194953 \r\nL 322.008263 137.194953 \r\nL 322.719174 137.194953 \r\nL 323.252357 137.60939 \r\nL 323.430085 137.747535 \r\nL 324.140996 137.747535 \r\nL 324.851906 137.747535 \r\nL 325.38509 138.161972 \r\nL 325.562817 138.300117 \r\nL 326.273728 138.300117 \r\nL 326.806911 138.714554 \r\nL 326.984639 138.8527 \r\nL 327.69555 138.8527 \r\nL 328.406461 138.8527 \r\nL 328.939644 139.267136 \r\nL 329.117371 139.405282 \r\nL 329.828282 139.405282 \r\nL 330.539193 139.405282 \r\nL 331.072376 139.819718 \r\nL 331.250104 139.957864 \r\nL 331.961015 139.957864 \r\nL 332.494198 140.3723 \r\nL 332.671925 140.510446 \r\nL 333.382836 140.510446 \r\nL 334.093747 140.510446 \r\nL 334.62693 140.924883 \r\nL 334.804658 141.063028 \r\nL 335.515569 141.063028 \r\nL 336.226479 141.063028 \r\nL 336.759663 141.477465 \r\nL 336.93739 141.61561 \r\nL 337.648301 141.61561 \r\nL 338.181484 142.030047 \r\nL 338.359212 142.168192 \r\nL 339.070123 142.168192 \r\nL 339.781034 142.168192 \r\nL 340.314217 142.582629 \r\nL 340.491944 142.720775 \r\nL 341.202855 142.720775 \r\nL 341.736038 143.135211 \r\nL 341.913766 143.273357 \r\nL 342.624677 143.273357 \r\nL 343.335588 143.273357 \r\nL 343.868771 143.687793 \r\nL 344.046498 143.825939 \r\nL 344.757409 143.825939 \r\nL 345.46832 143.825939 \r\nL 346.001503 144.240376 \r\nL 346.179231 144.378521 \r\nL 346.890142 144.378521 \r\nL 347.423325 144.792958 \r\nL 347.601053 144.931103 \r\nL 348.311963 144.931103 \r\nL 349.022874 144.931103 \r\nL 349.556057 145.34554 \r\nL 349.733785 145.483685 \r\nL 350.444696 145.483685 \r\nL 351.155607 145.483685 \r\nL 351.68879 145.898122 \r\nL 351.866517 146.036268 \r\nL 352.577428 146.036268 \r\nL 353.110611 146.450704 \r\nL 353.288339 146.58885 \r\nL 353.99925 146.58885 \r\nL 354.710161 146.58885 \r\nL 355.243344 147.003286 \r\nL 355.421072 147.141432 \r\nL 356.131982 147.141432 \r\nL 356.842893 147.141432 \r\nL 357.376076 147.555869 \r\nL 357.553804 147.694014 \r\nL 358.264715 147.694014 \r\nL 358.797898 148.108451 \r\nL 358.975626 148.246596 \r\nL 359.686536 148.246596 \r\nL 360.397447 148.246596 \r\nL 360.93063 148.661033 \r\nL 361.108358 148.799178 \r\nL 361.819269 148.799178 \r\nL 362.53018 148.799178 \r\nL 363.063363 149.213615 \r\nL 363.24109 149.351761 \r\nL 363.952001 149.351761 \r\nL 364.485184 149.766197 \r\nL 364.662912 149.904343 \r\nL 365.373823 149.904343 \r\nL 366.084734 149.904343 \r\nL 366.617917 150.318779 \r\nL 366.795645 150.456925 \r\nL 367.506555 150.456925 \r\nL 368.217466 150.456925 \r\nL 368.750649 150.871362 \r\nL 368.928377 151.009507 \r\nL 369.639288 151.009507 \r\nL 370.172471 151.423944 \r\nL 370.350199 151.562089 \r\nL 371.061109 151.562089 \r\nL 371.77202 151.562089 \r\nL 372.305203 151.976526 \r\nL 372.482931 152.114671 \r\nL 373.193842 152.114671 \r\nL 373.904753 152.114671 \r\nL 374.437936 152.529108 \r\nL 374.615664 152.667254 \r\nL 375.326574 152.667254 \r\nL 375.859757 153.08169 \r\nL 376.037485 153.219836 \r\nL 376.748396 153.219836 \r\nL 377.459307 153.219836 \r\nL 377.99249 153.634272 \r\nL 378.170218 153.772418 \r\nL 378.881128 153.772418 \r\nL 379.592039 153.772418 \r\nL 380.125222 154.186854 \r\nL 380.30295 154.325 \r\nL 381.013861 154.325 \r\nL 381.547044 154.739437 \r\nL 381.724772 154.877582 \r\nL 382.435683 154.877582 \r\nL 383.146593 154.877582 \r\nL 383.679776 155.292019 \r\nL 383.857504 155.430164 \r\nL 384.568415 155.430164 \r\nL 385.279326 155.430164 \r\nL 385.812509 155.844601 \r\nL 385.990237 155.982746 \r\nL 386.701147 155.982746 \r\nL 387.234331 156.397183 \r\nL 387.412058 156.535329 \r\nL 388.122969 156.535329 \r\nL 388.83388 156.535329 \r\nL 389.367063 156.949765 \r\nL 389.544791 157.087911 \r\nL 390.255701 157.087911 \r\nL 390.966612 157.087911 \r\nL 391.499795 157.502347 \r\nL 391.677523 157.640493 \r\nL 392.388434 157.640493 \r\nL 392.921617 158.05493 \r\nL 393.099345 158.193075 \r\nL 393.810256 158.193075 \r\nL 394.521166 158.193075 \r\nL 395.05435 158.607512 \r\nL 395.232077 158.745657 \r\nL 395.942988 158.745657 \r\nL 396.653899 158.745657 \r\nL 397.187082 159.160094 \r\nL 397.36481 159.298239 \r\nL 398.07572 159.298239 \r\nL 398.608904 159.712676 \r\nL 398.786631 159.850822 \r\nL 399.497542 159.850822 \r\nL 400.208453 159.850822 \r\nL 400.741636 160.265258 \r\nL 400.919364 160.403404 \r\nL 401.630275 160.403404 \r\nL 402.341185 160.403404 \r\nL 402.874368 160.81784 \r\nL 403.052096 160.955986 \r\nL 403.763007 160.955986 \r\nL 404.29619 161.370423 \r\nL 404.473918 161.508568 \r\nL 405.184829 161.508568 \r\nL 405.895739 161.508568 \r\nL 406.428923 161.923005 \r\nL 406.60665 162.06115 \r\nL 407.317561 162.06115 \r\nL 408.028472 162.06115 \r\nL 408.561655 162.475587 \r\nL 408.739383 162.613732 \r\nL 409.450294 162.613732 \r\nL 409.983477 163.028169 \r\nL 410.161204 163.166315 \r\nL 410.872115 163.166315 \r\nL 411.583026 163.166315 \r\nL 412.116209 163.580751 \r\nL 412.293937 163.718897 \r\nL 413.004848 163.718897 \r\nL 413.715758 163.718897 \r\nL 414.248942 164.133333 \r\nL 414.426669 164.271479 \r\nL 415.13758 164.271479 \r\nL 415.670763 164.685915 \r\nz\r\n\" style=\"fill:#90ee90;fill-opacity:0.4;\"/>\r\n   </g>\r\n   <g id=\"PathCollection_9\">\r\n    <defs>\r\n     <path d=\"M -3 3 \r\nL 3 3 \r\nL 3 -3 \r\nL -3 -3 \r\nz\r\n\" id=\"me42a4bf603\" style=\"stroke:#000000;stroke-opacity:0.6;\"/>\r\n    </defs>\r\n    <g clip-path=\"url(#p55578fd002)\">\r\n     <use style=\"fill:#ff0000;fill-opacity:0.6;stroke:#000000;stroke-opacity:0.6;\" x=\"157.810761\" xlink:href=\"#me42a4bf603\" y=\"80.383152\"/>\r\n     <use style=\"fill:#ff0000;fill-opacity:0.6;stroke:#000000;stroke-opacity:0.6;\" x=\"137.43271\" xlink:href=\"#me42a4bf603\" y=\"97.642469\"/>\r\n     <use style=\"fill:#ff0000;fill-opacity:0.6;stroke:#000000;stroke-opacity:0.6;\" x=\"176.851585\" xlink:href=\"#me42a4bf603\" y=\"109.431521\"/>\r\n     <use style=\"fill:#ff0000;fill-opacity:0.6;stroke:#000000;stroke-opacity:0.6;\" x=\"120.918745\" xlink:href=\"#me42a4bf603\" y=\"99.930748\"/>\r\n     <use style=\"fill:#ff0000;fill-opacity:0.6;stroke:#000000;stroke-opacity:0.6;\" x=\"187.776243\" xlink:href=\"#me42a4bf603\" y=\"122.241234\"/>\r\n     <use style=\"fill:#ff0000;fill-opacity:0.6;stroke:#000000;stroke-opacity:0.6;\" x=\"171.371493\" xlink:href=\"#me42a4bf603\" y=\"121.641391\"/>\r\n     <use style=\"fill:#ff0000;fill-opacity:0.6;stroke:#000000;stroke-opacity:0.6;\" x=\"166.746651\" xlink:href=\"#me42a4bf603\" y=\"106.252753\"/>\r\n     <use style=\"fill:#ff0000;fill-opacity:0.6;stroke:#000000;stroke-opacity:0.6;\" x=\"153.880277\" xlink:href=\"#me42a4bf603\" y=\"85.409892\"/>\r\n     <use style=\"fill:#ff0000;fill-opacity:0.6;stroke:#000000;stroke-opacity:0.6;\" x=\"138.689331\" xlink:href=\"#me42a4bf603\" y=\"106.62106\"/>\r\n     <use style=\"fill:#ff0000;fill-opacity:0.6;stroke:#000000;stroke-opacity:0.6;\" x=\"149.681418\" xlink:href=\"#me42a4bf603\" y=\"65.662194\"/>\r\n     <use style=\"fill:#ff0000;fill-opacity:0.6;stroke:#000000;stroke-opacity:0.6;\" x=\"187.967087\" xlink:href=\"#me42a4bf603\" y=\"111.729993\"/>\r\n     <use style=\"fill:#ff0000;fill-opacity:0.6;stroke:#000000;stroke-opacity:0.6;\" x=\"166.735893\" xlink:href=\"#me42a4bf603\" y=\"109.113217\"/>\r\n     <use style=\"fill:#ff0000;fill-opacity:0.6;stroke:#000000;stroke-opacity:0.6;\" x=\"139.325971\" xlink:href=\"#me42a4bf603\" y=\"104.84524\"/>\r\n     <use style=\"fill:#ff0000;fill-opacity:0.6;stroke:#000000;stroke-opacity:0.6;\" x=\"142.734107\" xlink:href=\"#me42a4bf603\" y=\"96.103065\"/>\r\n     <use style=\"fill:#ff0000;fill-opacity:0.6;stroke:#000000;stroke-opacity:0.6;\" x=\"133.429568\" xlink:href=\"#me42a4bf603\" y=\"97.894333\"/>\r\n     <use style=\"fill:#ff0000;fill-opacity:0.6;stroke:#000000;stroke-opacity:0.6;\" x=\"186.214395\" xlink:href=\"#me42a4bf603\" y=\"125.939994\"/>\r\n     <use style=\"fill:#ff0000;fill-opacity:0.6;stroke:#000000;stroke-opacity:0.6;\" x=\"139.325044\" xlink:href=\"#me42a4bf603\" y=\"131.962767\"/>\r\n     <use style=\"fill:#ff0000;fill-opacity:0.6;stroke:#000000;stroke-opacity:0.6;\" x=\"150.702582\" xlink:href=\"#me42a4bf603\" y=\"94.388922\"/>\r\n     <use style=\"fill:#ff0000;fill-opacity:0.6;stroke:#000000;stroke-opacity:0.6;\" x=\"132.856039\" xlink:href=\"#me42a4bf603\" y=\"77.466442\"/>\r\n     <use style=\"fill:#ff0000;fill-opacity:0.6;stroke:#000000;stroke-opacity:0.6;\" x=\"132.663723\" xlink:href=\"#me42a4bf603\" y=\"88.560631\"/>\r\n     <use style=\"fill:#ff0000;fill-opacity:0.6;stroke:#000000;stroke-opacity:0.6;\" x=\"143.667476\" xlink:href=\"#me42a4bf603\" y=\"80.062382\"/>\r\n     <use style=\"fill:#ff0000;fill-opacity:0.6;stroke:#000000;stroke-opacity:0.6;\" x=\"213.761684\" xlink:href=\"#me42a4bf603\" y=\"122.277014\"/>\r\n     <use style=\"fill:#ff0000;fill-opacity:0.6;stroke:#000000;stroke-opacity:0.6;\" x=\"121.436774\" xlink:href=\"#me42a4bf603\" y=\"66.124813\"/>\r\n     <use style=\"fill:#ff0000;fill-opacity:0.6;stroke:#000000;stroke-opacity:0.6;\" x=\"159.50118\" xlink:href=\"#me42a4bf603\" y=\"81.829572\"/>\r\n     <use style=\"fill:#ff0000;fill-opacity:0.6;stroke:#000000;stroke-opacity:0.6;\" x=\"189.989314\" xlink:href=\"#me42a4bf603\" y=\"109.485129\"/>\r\n     <use style=\"fill:#ff0000;fill-opacity:0.6;stroke:#000000;stroke-opacity:0.6;\" x=\"109.96402\" xlink:href=\"#me42a4bf603\" y=\"87.604524\"/>\r\n     <use style=\"fill:#ff0000;fill-opacity:0.6;stroke:#000000;stroke-opacity:0.6;\" x=\"148.346084\" xlink:href=\"#me42a4bf603\" y=\"111.468329\"/>\r\n     <use style=\"fill:#ff0000;fill-opacity:0.6;stroke:#000000;stroke-opacity:0.6;\" x=\"160.518327\" xlink:href=\"#me42a4bf603\" y=\"127.291206\"/>\r\n     <use style=\"fill:#ff0000;fill-opacity:0.6;stroke:#000000;stroke-opacity:0.6;\" x=\"118.158438\" xlink:href=\"#me42a4bf603\" y=\"81.944891\"/>\r\n     <use style=\"fill:#ff0000;fill-opacity:0.6;stroke:#000000;stroke-opacity:0.6;\" x=\"104.798793\" xlink:href=\"#me42a4bf603\" y=\"92.52573\"/>\r\n     <use style=\"fill:#ff0000;fill-opacity:0.6;stroke:#000000;stroke-opacity:0.6;\" x=\"105.641926\" xlink:href=\"#me42a4bf603\" y=\"81.546006\"/>\r\n     <use style=\"fill:#ff0000;fill-opacity:0.6;stroke:#000000;stroke-opacity:0.6;\" x=\"78.165853\" xlink:href=\"#me42a4bf603\" y=\"65.251125\"/>\r\n     <use style=\"fill:#ff0000;fill-opacity:0.6;stroke:#000000;stroke-opacity:0.6;\" x=\"206.341325\" xlink:href=\"#me42a4bf603\" y=\"125.821118\"/>\r\n     <use style=\"fill:#ff0000;fill-opacity:0.6;stroke:#000000;stroke-opacity:0.6;\" x=\"118.107086\" xlink:href=\"#me42a4bf603\" y=\"118.259839\"/>\r\n     <use style=\"fill:#ff0000;fill-opacity:0.6;stroke:#000000;stroke-opacity:0.6;\" x=\"118.247198\" xlink:href=\"#me42a4bf603\" y=\"106.839216\"/>\r\n     <use style=\"fill:#ff0000;fill-opacity:0.6;stroke:#000000;stroke-opacity:0.6;\" x=\"126.438276\" xlink:href=\"#me42a4bf603\" y=\"108.593194\"/>\r\n     <use style=\"fill:#ff0000;fill-opacity:0.6;stroke:#000000;stroke-opacity:0.6;\" x=\"140.036435\" xlink:href=\"#me42a4bf603\" y=\"96.386255\"/>\r\n     <use style=\"fill:#ff0000;fill-opacity:0.6;stroke:#000000;stroke-opacity:0.6;\" x=\"150.557749\" xlink:href=\"#me42a4bf603\" y=\"121.476682\"/>\r\n     <use style=\"fill:#ff0000;fill-opacity:0.6;stroke:#000000;stroke-opacity:0.6;\" x=\"132.875548\" xlink:href=\"#me42a4bf603\" y=\"87.909111\"/>\r\n     <use style=\"fill:#ff0000;fill-opacity:0.6;stroke:#000000;stroke-opacity:0.6;\" x=\"102.130185\" xlink:href=\"#me42a4bf603\" y=\"54.81819\"/>\r\n     <use style=\"fill:#ff0000;fill-opacity:0.6;stroke:#000000;stroke-opacity:0.6;\" x=\"157.78961\" xlink:href=\"#me42a4bf603\" y=\"93.38479\"/>\r\n    </g>\r\n   </g>\r\n   <g id=\"PathCollection_10\">\r\n    <defs>\r\n     <path d=\"M -3 3 \r\nL 3 -3 \r\nM -3 -3 \r\nL 3 3 \r\n\" id=\"m48c304d1a4\" style=\"stroke:#0000ff;stroke-opacity:0.6;stroke-width:1.5;\"/>\r\n    </defs>\r\n    <g clip-path=\"url(#p55578fd002)\">\r\n     <use style=\"fill:#0000ff;fill-opacity:0.6;stroke:#0000ff;stroke-opacity:0.6;stroke-width:1.5;\" x=\"245.548436\" xlink:href=\"#m48c304d1a4\" y=\"183.794502\"/>\r\n     <use style=\"fill:#0000ff;fill-opacity:0.6;stroke:#0000ff;stroke-opacity:0.6;stroke-width:1.5;\" x=\"229.415797\" xlink:href=\"#m48c304d1a4\" y=\"188.941505\"/>\r\n     <use style=\"fill:#0000ff;fill-opacity:0.6;stroke:#0000ff;stroke-opacity:0.6;stroke-width:1.5;\" x=\"299.452078\" xlink:href=\"#m48c304d1a4\" y=\"163.481598\"/>\r\n     <use style=\"fill:#0000ff;fill-opacity:0.6;stroke:#0000ff;stroke-opacity:0.6;stroke-width:1.5;\" x=\"254.400353\" xlink:href=\"#m48c304d1a4\" y=\"196.631211\"/>\r\n     <use style=\"fill:#0000ff;fill-opacity:0.6;stroke:#0000ff;stroke-opacity:0.6;stroke-width:1.5;\" x=\"253.373916\" xlink:href=\"#m48c304d1a4\" y=\"158.789402\"/>\r\n     <use style=\"fill:#0000ff;fill-opacity:0.6;stroke:#0000ff;stroke-opacity:0.6;stroke-width:1.5;\" x=\"319.222017\" xlink:href=\"#m48c304d1a4\" y=\"155.631699\"/>\r\n     <use style=\"fill:#0000ff;fill-opacity:0.6;stroke:#0000ff;stroke-opacity:0.6;stroke-width:1.5;\" x=\"201.126933\" xlink:href=\"#m48c304d1a4\" y=\"214.970892\"/>\r\n     <use style=\"fill:#0000ff;fill-opacity:0.6;stroke:#0000ff;stroke-opacity:0.6;stroke-width:1.5;\" x=\"182.174271\" xlink:href=\"#m48c304d1a4\" y=\"173.853477\"/>\r\n     <use style=\"fill:#0000ff;fill-opacity:0.6;stroke:#0000ff;stroke-opacity:0.6;stroke-width:1.5;\" x=\"172.575629\" xlink:href=\"#m48c304d1a4\" y=\"174.64893\"/>\r\n     <use style=\"fill:#0000ff;fill-opacity:0.6;stroke:#0000ff;stroke-opacity:0.6;stroke-width:1.5;\" x=\"267.135576\" xlink:href=\"#m48c304d1a4\" y=\"159.363066\"/>\r\n     <use style=\"fill:#0000ff;fill-opacity:0.6;stroke:#0000ff;stroke-opacity:0.6;stroke-width:1.5;\" x=\"203.120578\" xlink:href=\"#m48c304d1a4\" y=\"173.427576\"/>\r\n     <use style=\"fill:#0000ff;fill-opacity:0.6;stroke:#0000ff;stroke-opacity:0.6;stroke-width:1.5;\" x=\"153.536261\" xlink:href=\"#m48c304d1a4\" y=\"172.617572\"/>\r\n     <use style=\"fill:#0000ff;fill-opacity:0.6;stroke:#0000ff;stroke-opacity:0.6;stroke-width:1.5;\" x=\"165.567508\" xlink:href=\"#m48c304d1a4\" y=\"160.844498\"/>\r\n     <use style=\"fill:#0000ff;fill-opacity:0.6;stroke:#0000ff;stroke-opacity:0.6;stroke-width:1.5;\" x=\"319.899365\" xlink:href=\"#m48c304d1a4\" y=\"128.993062\"/>\r\n     <use style=\"fill:#0000ff;fill-opacity:0.6;stroke:#0000ff;stroke-opacity:0.6;stroke-width:1.5;\" x=\"195.695688\" xlink:href=\"#m48c304d1a4\" y=\"182.64857\"/>\r\n     <use style=\"fill:#0000ff;fill-opacity:0.6;stroke:#0000ff;stroke-opacity:0.6;stroke-width:1.5;\" x=\"200.642292\" xlink:href=\"#m48c304d1a4\" y=\"172.386028\"/>\r\n     <use style=\"fill:#0000ff;fill-opacity:0.6;stroke:#0000ff;stroke-opacity:0.6;stroke-width:1.5;\" x=\"246.362787\" xlink:href=\"#m48c304d1a4\" y=\"185.071276\"/>\r\n     <use style=\"fill:#0000ff;fill-opacity:0.6;stroke:#0000ff;stroke-opacity:0.6;stroke-width:1.5;\" x=\"267.68033\" xlink:href=\"#m48c304d1a4\" y=\"177.204219\"/>\r\n     <use style=\"fill:#0000ff;fill-opacity:0.6;stroke:#0000ff;stroke-opacity:0.6;stroke-width:1.5;\" x=\"157.972802\" xlink:href=\"#m48c304d1a4\" y=\"161.610133\"/>\r\n     <use style=\"fill:#0000ff;fill-opacity:0.6;stroke:#0000ff;stroke-opacity:0.6;stroke-width:1.5;\" x=\"247.048501\" xlink:href=\"#m48c304d1a4\" y=\"155.886367\"/>\r\n     <use style=\"fill:#0000ff;fill-opacity:0.6;stroke:#0000ff;stroke-opacity:0.6;stroke-width:1.5;\" x=\"200.3047\" xlink:href=\"#m48c304d1a4\" y=\"179.506377\"/>\r\n     <use style=\"fill:#0000ff;fill-opacity:0.6;stroke:#0000ff;stroke-opacity:0.6;stroke-width:1.5;\" x=\"179.174652\" xlink:href=\"#m48c304d1a4\" y=\"185.083438\"/>\r\n     <use style=\"fill:#0000ff;fill-opacity:0.6;stroke:#0000ff;stroke-opacity:0.6;stroke-width:1.5;\" x=\"243.170503\" xlink:href=\"#m48c304d1a4\" y=\"197.062684\"/>\r\n     <use style=\"fill:#0000ff;fill-opacity:0.6;stroke:#0000ff;stroke-opacity:0.6;stroke-width:1.5;\" x=\"295.364991\" xlink:href=\"#m48c304d1a4\" y=\"135.827445\"/>\r\n     <use style=\"fill:#0000ff;fill-opacity:0.6;stroke:#0000ff;stroke-opacity:0.6;stroke-width:1.5;\" x=\"227.923615\" xlink:href=\"#m48c304d1a4\" y=\"152.139969\"/>\r\n     <use style=\"fill:#0000ff;fill-opacity:0.6;stroke:#0000ff;stroke-opacity:0.6;stroke-width:1.5;\" x=\"282.263401\" xlink:href=\"#m48c304d1a4\" y=\"167.755211\"/>\r\n     <use style=\"fill:#0000ff;fill-opacity:0.6;stroke:#0000ff;stroke-opacity:0.6;stroke-width:1.5;\" x=\"248.046024\" xlink:href=\"#m48c304d1a4\" y=\"202.086823\"/>\r\n     <use style=\"fill:#0000ff;fill-opacity:0.6;stroke:#0000ff;stroke-opacity:0.6;stroke-width:1.5;\" x=\"202.550962\" xlink:href=\"#m48c304d1a4\" y=\"193.43469\"/>\r\n     <use style=\"fill:#0000ff;fill-opacity:0.6;stroke:#0000ff;stroke-opacity:0.6;stroke-width:1.5;\" x=\"192.279843\" xlink:href=\"#m48c304d1a4\" y=\"166.890179\"/>\r\n     <use style=\"fill:#0000ff;fill-opacity:0.6;stroke:#0000ff;stroke-opacity:0.6;stroke-width:1.5;\" x=\"129.98556\" xlink:href=\"#m48c304d1a4\" y=\"134.092202\"/>\r\n     <use style=\"fill:#0000ff;fill-opacity:0.6;stroke:#0000ff;stroke-opacity:0.6;stroke-width:1.5;\" x=\"186.62423\" xlink:href=\"#m48c304d1a4\" y=\"139.962519\"/>\r\n     <use style=\"fill:#0000ff;fill-opacity:0.6;stroke:#0000ff;stroke-opacity:0.6;stroke-width:1.5;\" x=\"233.586989\" xlink:href=\"#m48c304d1a4\" y=\"188.751971\"/>\r\n     <use style=\"fill:#0000ff;fill-opacity:0.6;stroke:#0000ff;stroke-opacity:0.6;stroke-width:1.5;\" x=\"215.86818\" xlink:href=\"#m48c304d1a4\" y=\"185.654697\"/>\r\n     <use style=\"fill:#0000ff;fill-opacity:0.6;stroke:#0000ff;stroke-opacity:0.6;stroke-width:1.5;\" x=\"234.291236\" xlink:href=\"#m48c304d1a4\" y=\"165.984734\"/>\r\n     <use style=\"fill:#0000ff;fill-opacity:0.6;stroke:#0000ff;stroke-opacity:0.6;stroke-width:1.5;\" x=\"257.743153\" xlink:href=\"#m48c304d1a4\" y=\"121.336468\"/>\r\n     <use style=\"fill:#0000ff;fill-opacity:0.6;stroke:#0000ff;stroke-opacity:0.6;stroke-width:1.5;\" x=\"243.555085\" xlink:href=\"#m48c304d1a4\" y=\"143.314216\"/>\r\n     <use style=\"fill:#0000ff;fill-opacity:0.6;stroke:#0000ff;stroke-opacity:0.6;stroke-width:1.5;\" x=\"283.688107\" xlink:href=\"#m48c304d1a4\" y=\"176.443145\"/>\r\n     <use style=\"fill:#0000ff;fill-opacity:0.6;stroke:#0000ff;stroke-opacity:0.6;stroke-width:1.5;\" x=\"222.693889\" xlink:href=\"#m48c304d1a4\" y=\"191.520846\"/>\r\n     <use style=\"fill:#0000ff;fill-opacity:0.6;stroke:#0000ff;stroke-opacity:0.6;stroke-width:1.5;\" x=\"292.638446\" xlink:href=\"#m48c304d1a4\" y=\"164.613815\"/>\r\n     <use style=\"fill:#0000ff;fill-opacity:0.6;stroke:#0000ff;stroke-opacity:0.6;stroke-width:1.5;\" x=\"175.749832\" xlink:href=\"#m48c304d1a4\" y=\"138.917424\"/>\r\n     <use style=\"fill:#0000ff;fill-opacity:0.6;stroke:#0000ff;stroke-opacity:0.6;stroke-width:1.5;\" x=\"243.69374\" xlink:href=\"#m48c304d1a4\" y=\"186.932236\"/>\r\n     <use style=\"fill:#0000ff;fill-opacity:0.6;stroke:#0000ff;stroke-opacity:0.6;stroke-width:1.5;\" x=\"259.963342\" xlink:href=\"#m48c304d1a4\" y=\"183.769561\"/>\r\n     <use style=\"fill:#0000ff;fill-opacity:0.6;stroke:#0000ff;stroke-opacity:0.6;stroke-width:1.5;\" x=\"196.050978\" xlink:href=\"#m48c304d1a4\" y=\"144.843012\"/>\r\n     <use style=\"fill:#0000ff;fill-opacity:0.6;stroke:#0000ff;stroke-opacity:0.6;stroke-width:1.5;\" x=\"239.191008\" xlink:href=\"#m48c304d1a4\" y=\"183.269285\"/>\r\n     <use style=\"fill:#0000ff;fill-opacity:0.6;stroke:#0000ff;stroke-opacity:0.6;stroke-width:1.5;\" x=\"239.062788\" xlink:href=\"#m48c304d1a4\" y=\"205.842914\"/>\r\n     <use style=\"fill:#0000ff;fill-opacity:0.6;stroke:#0000ff;stroke-opacity:0.6;stroke-width:1.5;\" x=\"243.641644\" xlink:href=\"#m48c304d1a4\" y=\"185.442689\"/>\r\n     <use style=\"fill:#0000ff;fill-opacity:0.6;stroke:#0000ff;stroke-opacity:0.6;stroke-width:1.5;\" x=\"287.665517\" xlink:href=\"#m48c304d1a4\" y=\"163.395432\"/>\r\n     <use style=\"fill:#0000ff;fill-opacity:0.6;stroke:#0000ff;stroke-opacity:0.6;stroke-width:1.5;\" x=\"243.155341\" xlink:href=\"#m48c304d1a4\" y=\"192.483494\"/>\r\n     <use style=\"fill:#0000ff;fill-opacity:0.6;stroke:#0000ff;stroke-opacity:0.6;stroke-width:1.5;\" x=\"162.169643\" xlink:href=\"#m48c304d1a4\" y=\"167.70919\"/>\r\n     <use style=\"fill:#0000ff;fill-opacity:0.6;stroke:#0000ff;stroke-opacity:0.6;stroke-width:1.5;\" x=\"213.161292\" xlink:href=\"#m48c304d1a4\" y=\"161.915972\"/>\r\n    </g>\r\n   </g>\r\n   <g id=\"PathCollection_11\">\r\n    <defs>\r\n     <path d=\"M 0 3 \r\nC 0.795609 3 1.55874 2.683901 2.12132 2.12132 \r\nC 2.683901 1.55874 3 0.795609 3 0 \r\nC 3 -0.795609 2.683901 -1.55874 2.12132 -2.12132 \r\nC 1.55874 -2.683901 0.795609 -3 0 -3 \r\nC -0.795609 -3 -1.55874 -2.683901 -2.12132 -2.12132 \r\nC -2.683901 -1.55874 -3 -0.795609 -3 0 \r\nC -3 0.795609 -2.683901 1.55874 -2.12132 2.12132 \r\nC -1.55874 2.683901 -0.795609 3 0 3 \r\nz\r\n\" id=\"m9591edd387\" style=\"stroke:#000000;stroke-opacity:0.6;\"/>\r\n    </defs>\r\n    <g clip-path=\"url(#p55578fd002)\">\r\n     <use style=\"fill:#90ee90;fill-opacity:0.6;stroke:#000000;stroke-opacity:0.6;\" x=\"312.390211\" xlink:href=\"#m9591edd387\" y=\"113.515548\"/>\r\n     <use style=\"fill:#90ee90;fill-opacity:0.6;stroke:#000000;stroke-opacity:0.6;\" x=\"339.35087\" xlink:href=\"#m9591edd387\" y=\"107.780717\"/>\r\n     <use style=\"fill:#90ee90;fill-opacity:0.6;stroke:#000000;stroke-opacity:0.6;\" x=\"315.799021\" xlink:href=\"#m9591edd387\" y=\"128.452346\"/>\r\n     <use style=\"fill:#90ee90;fill-opacity:0.6;stroke:#000000;stroke-opacity:0.6;\" x=\"360.324117\" xlink:href=\"#m9591edd387\" y=\"97.902235\"/>\r\n     <use style=\"fill:#90ee90;fill-opacity:0.6;stroke:#000000;stroke-opacity:0.6;\" x=\"329.344667\" xlink:href=\"#m9591edd387\" y=\"62.854523\"/>\r\n     <use style=\"fill:#90ee90;fill-opacity:0.6;stroke:#000000;stroke-opacity:0.6;\" x=\"348.144792\" xlink:href=\"#m9591edd387\" y=\"67.625757\"/>\r\n     <use style=\"fill:#90ee90;fill-opacity:0.6;stroke:#000000;stroke-opacity:0.6;\" x=\"339.79812\" xlink:href=\"#m9591edd387\" y=\"111.090964\"/>\r\n     <use style=\"fill:#90ee90;fill-opacity:0.6;stroke:#000000;stroke-opacity:0.6;\" x=\"330.907463\" xlink:href=\"#m9591edd387\" y=\"72.127059\"/>\r\n     <use style=\"fill:#90ee90;fill-opacity:0.6;stroke:#000000;stroke-opacity:0.6;\" x=\"366.894152\" xlink:href=\"#m9591edd387\" y=\"121.616961\"/>\r\n     <use style=\"fill:#90ee90;fill-opacity:0.6;stroke:#000000;stroke-opacity:0.6;\" x=\"331.710883\" xlink:href=\"#m9591edd387\" y=\"120.865929\"/>\r\n     <use style=\"fill:#90ee90;fill-opacity:0.6;stroke:#000000;stroke-opacity:0.6;\" x=\"332.340041\" xlink:href=\"#m9591edd387\" y=\"88.827865\"/>\r\n     <use style=\"fill:#90ee90;fill-opacity:0.6;stroke:#000000;stroke-opacity:0.6;\" x=\"321.484907\" xlink:href=\"#m9591edd387\" y=\"105.277532\"/>\r\n     <use style=\"fill:#90ee90;fill-opacity:0.6;stroke:#000000;stroke-opacity:0.6;\" x=\"316.908057\" xlink:href=\"#m9591edd387\" y=\"63.844088\"/>\r\n     <use style=\"fill:#90ee90;fill-opacity:0.6;stroke:#000000;stroke-opacity:0.6;\" x=\"357.514947\" xlink:href=\"#m9591edd387\" y=\"77.768614\"/>\r\n     <use style=\"fill:#90ee90;fill-opacity:0.6;stroke:#000000;stroke-opacity:0.6;\" x=\"323.728728\" xlink:href=\"#m9591edd387\" y=\"110.471426\"/>\r\n     <use style=\"fill:#90ee90;fill-opacity:0.6;stroke:#000000;stroke-opacity:0.6;\" x=\"340.867769\" xlink:href=\"#m9591edd387\" y=\"54.766063\"/>\r\n     <use style=\"fill:#90ee90;fill-opacity:0.6;stroke:#000000;stroke-opacity:0.6;\" x=\"331.608799\" xlink:href=\"#m9591edd387\" y=\"114.554011\"/>\r\n     <use style=\"fill:#90ee90;fill-opacity:0.6;stroke:#000000;stroke-opacity:0.6;\" x=\"332.968497\" xlink:href=\"#m9591edd387\" y=\"73.278584\"/>\r\n     <use style=\"fill:#90ee90;fill-opacity:0.6;stroke:#000000;stroke-opacity:0.6;\" x=\"328.49609\" xlink:href=\"#m9591edd387\" y=\"108.009748\"/>\r\n     <use style=\"fill:#90ee90;fill-opacity:0.6;stroke:#000000;stroke-opacity:0.6;\" x=\"265.562932\" xlink:href=\"#m9591edd387\" y=\"34.561911\"/>\r\n     <use style=\"fill:#90ee90;fill-opacity:0.6;stroke:#000000;stroke-opacity:0.6;\" x=\"303.439453\" xlink:href=\"#m9591edd387\" y=\"73.4277\"/>\r\n     <use style=\"fill:#90ee90;fill-opacity:0.6;stroke:#000000;stroke-opacity:0.6;\" x=\"309.84713\" xlink:href=\"#m9591edd387\" y=\"120.352702\"/>\r\n     <use style=\"fill:#90ee90;fill-opacity:0.6;stroke:#000000;stroke-opacity:0.6;\" x=\"308.249535\" xlink:href=\"#m9591edd387\" y=\"66.813166\"/>\r\n     <use style=\"fill:#90ee90;fill-opacity:0.6;stroke:#000000;stroke-opacity:0.6;\" x=\"275.881521\" xlink:href=\"#m9591edd387\" y=\"116.860187\"/>\r\n     <use style=\"fill:#90ee90;fill-opacity:0.6;stroke:#000000;stroke-opacity:0.6;\" x=\"323.480939\" xlink:href=\"#m9591edd387\" y=\"50.22721\"/>\r\n     <use style=\"fill:#90ee90;fill-opacity:0.6;stroke:#000000;stroke-opacity:0.6;\" x=\"365.483383\" xlink:href=\"#m9591edd387\" y=\"113.242709\"/>\r\n     <use style=\"fill:#90ee90;fill-opacity:0.6;stroke:#000000;stroke-opacity:0.6;\" x=\"306.08647\" xlink:href=\"#m9591edd387\" y=\"90.582403\"/>\r\n     <use style=\"fill:#90ee90;fill-opacity:0.6;stroke:#000000;stroke-opacity:0.6;\" x=\"286.335345\" xlink:href=\"#m9591edd387\" y=\"61.64117\"/>\r\n     <use style=\"fill:#90ee90;fill-opacity:0.6;stroke:#000000;stroke-opacity:0.6;\" x=\"343.199176\" xlink:href=\"#m9591edd387\" y=\"131.124127\"/>\r\n     <use style=\"fill:#90ee90;fill-opacity:0.6;stroke:#000000;stroke-opacity:0.6;\" x=\"318.069783\" xlink:href=\"#m9591edd387\" y=\"73.97466\"/>\r\n     <use style=\"fill:#90ee90;fill-opacity:0.6;stroke:#000000;stroke-opacity:0.6;\" x=\"327.809548\" xlink:href=\"#m9591edd387\" y=\"110.507858\"/>\r\n     <use style=\"fill:#90ee90;fill-opacity:0.6;stroke:#000000;stroke-opacity:0.6;\" x=\"319.764526\" xlink:href=\"#m9591edd387\" y=\"80.804225\"/>\r\n     <use style=\"fill:#90ee90;fill-opacity:0.6;stroke:#000000;stroke-opacity:0.6;\" x=\"382.418263\" xlink:href=\"#m9591edd387\" y=\"107.692011\"/>\r\n    </g>\r\n   </g>\r\n   <g id=\"matplotlib.axis_1\">\r\n    <g id=\"xtick_1\">\r\n     <g id=\"line2d_1\">\r\n      <defs>\r\n       <path d=\"M 0 0 \r\nL 0 3.5 \r\n\" id=\"m2b29f8ae25\" style=\"stroke:#000000;stroke-width:0.8;\"/>\r\n      </defs>\r\n      <g>\r\n       <use style=\"stroke:#000000;stroke-width:0.8;\" x=\"85.503376\" xlink:href=\"#m2b29f8ae25\" y=\"242.6\"/>\r\n      </g>\r\n     </g>\r\n     <g id=\"text_1\">\r\n      <!-- −4 -->\r\n      <g transform=\"translate(78.132282 257.198437)scale(0.1 -0.1)\">\r\n       <defs>\r\n        <path d=\"M 10.59375 35.5 \r\nL 73.1875 35.5 \r\nL 73.1875 27.203125 \r\nL 10.59375 27.203125 \r\nz\r\n\" id=\"DejaVuSans-8722\"/>\r\n        <path d=\"M 37.796875 64.3125 \r\nL 12.890625 25.390625 \r\nL 37.796875 25.390625 \r\nz\r\nM 35.203125 72.90625 \r\nL 47.609375 72.90625 \r\nL 47.609375 25.390625 \r\nL 58.015625 25.390625 \r\nL 58.015625 17.1875 \r\nL 47.609375 17.1875 \r\nL 47.609375 0 \r\nL 37.796875 0 \r\nL 37.796875 17.1875 \r\nL 4.890625 17.1875 \r\nL 4.890625 26.703125 \r\nz\r\n\" id=\"DejaVuSans-52\"/>\r\n       </defs>\r\n       <use xlink:href=\"#DejaVuSans-8722\"/>\r\n       <use x=\"83.789062\" xlink:href=\"#DejaVuSans-52\"/>\r\n      </g>\r\n     </g>\r\n    </g>\r\n    <g id=\"xtick_2\">\r\n     <g id=\"line2d_2\">\r\n      <g>\r\n       <use style=\"stroke:#000000;stroke-width:0.8;\" x=\"156.594457\" xlink:href=\"#m2b29f8ae25\" y=\"242.6\"/>\r\n      </g>\r\n     </g>\r\n     <g id=\"text_2\">\r\n      <!-- −2 -->\r\n      <g transform=\"translate(149.223364 257.198437)scale(0.1 -0.1)\">\r\n       <defs>\r\n        <path d=\"M 19.1875 8.296875 \r\nL 53.609375 8.296875 \r\nL 53.609375 0 \r\nL 7.328125 0 \r\nL 7.328125 8.296875 \r\nQ 12.9375 14.109375 22.625 23.890625 \r\nQ 32.328125 33.6875 34.8125 36.53125 \r\nQ 39.546875 41.84375 41.421875 45.53125 \r\nQ 43.3125 49.21875 43.3125 52.78125 \r\nQ 43.3125 58.59375 39.234375 62.25 \r\nQ 35.15625 65.921875 28.609375 65.921875 \r\nQ 23.96875 65.921875 18.8125 64.3125 \r\nQ 13.671875 62.703125 7.8125 59.421875 \r\nL 7.8125 69.390625 \r\nQ 13.765625 71.78125 18.9375 73 \r\nQ 24.125 74.21875 28.421875 74.21875 \r\nQ 39.75 74.21875 46.484375 68.546875 \r\nQ 53.21875 62.890625 53.21875 53.421875 \r\nQ 53.21875 48.921875 51.53125 44.890625 \r\nQ 49.859375 40.875 45.40625 35.40625 \r\nQ 44.1875 33.984375 37.640625 27.21875 \r\nQ 31.109375 20.453125 19.1875 8.296875 \r\nz\r\n\" id=\"DejaVuSans-50\"/>\r\n       </defs>\r\n       <use xlink:href=\"#DejaVuSans-8722\"/>\r\n       <use x=\"83.789062\" xlink:href=\"#DejaVuSans-50\"/>\r\n      </g>\r\n     </g>\r\n    </g>\r\n    <g id=\"xtick_3\">\r\n     <g id=\"line2d_3\">\r\n      <g>\r\n       <use style=\"stroke:#000000;stroke-width:0.8;\" x=\"227.685539\" xlink:href=\"#m2b29f8ae25\" y=\"242.6\"/>\r\n      </g>\r\n     </g>\r\n     <g id=\"text_3\">\r\n      <!-- 0 -->\r\n      <g transform=\"translate(224.504289 257.198437)scale(0.1 -0.1)\">\r\n       <defs>\r\n        <path d=\"M 31.78125 66.40625 \r\nQ 24.171875 66.40625 20.328125 58.90625 \r\nQ 16.5 51.421875 16.5 36.375 \r\nQ 16.5 21.390625 20.328125 13.890625 \r\nQ 24.171875 6.390625 31.78125 6.390625 \r\nQ 39.453125 6.390625 43.28125 13.890625 \r\nQ 47.125 21.390625 47.125 36.375 \r\nQ 47.125 51.421875 43.28125 58.90625 \r\nQ 39.453125 66.40625 31.78125 66.40625 \r\nz\r\nM 31.78125 74.21875 \r\nQ 44.046875 74.21875 50.515625 64.515625 \r\nQ 56.984375 54.828125 56.984375 36.375 \r\nQ 56.984375 17.96875 50.515625 8.265625 \r\nQ 44.046875 -1.421875 31.78125 -1.421875 \r\nQ 19.53125 -1.421875 13.0625 8.265625 \r\nQ 6.59375 17.96875 6.59375 36.375 \r\nQ 6.59375 54.828125 13.0625 64.515625 \r\nQ 19.53125 74.21875 31.78125 74.21875 \r\nz\r\n\" id=\"DejaVuSans-48\"/>\r\n       </defs>\r\n       <use xlink:href=\"#DejaVuSans-48\"/>\r\n      </g>\r\n     </g>\r\n    </g>\r\n    <g id=\"xtick_4\">\r\n     <g id=\"line2d_4\">\r\n      <g>\r\n       <use style=\"stroke:#000000;stroke-width:0.8;\" x=\"298.776621\" xlink:href=\"#m2b29f8ae25\" y=\"242.6\"/>\r\n      </g>\r\n     </g>\r\n     <g id=\"text_4\">\r\n      <!-- 2 -->\r\n      <g transform=\"translate(295.595371 257.198437)scale(0.1 -0.1)\">\r\n       <use xlink:href=\"#DejaVuSans-50\"/>\r\n      </g>\r\n     </g>\r\n    </g>\r\n    <g id=\"xtick_5\">\r\n     <g id=\"line2d_5\">\r\n      <g>\r\n       <use style=\"stroke:#000000;stroke-width:0.8;\" x=\"369.867702\" xlink:href=\"#m2b29f8ae25\" y=\"242.6\"/>\r\n      </g>\r\n     </g>\r\n     <g id=\"text_5\">\r\n      <!-- 4 -->\r\n      <g transform=\"translate(366.686452 257.198437)scale(0.1 -0.1)\">\r\n       <use xlink:href=\"#DejaVuSans-52\"/>\r\n      </g>\r\n     </g>\r\n    </g>\r\n    <g id=\"text_6\">\r\n     <!-- PC 1 -->\r\n     <g transform=\"translate(218.66875 270.876562)scale(0.1 -0.1)\">\r\n      <defs>\r\n       <path d=\"M 19.671875 64.796875 \r\nL 19.671875 37.40625 \r\nL 32.078125 37.40625 \r\nQ 38.96875 37.40625 42.71875 40.96875 \r\nQ 46.484375 44.53125 46.484375 51.125 \r\nQ 46.484375 57.671875 42.71875 61.234375 \r\nQ 38.96875 64.796875 32.078125 64.796875 \r\nz\r\nM 9.8125 72.90625 \r\nL 32.078125 72.90625 \r\nQ 44.34375 72.90625 50.609375 67.359375 \r\nQ 56.890625 61.8125 56.890625 51.125 \r\nQ 56.890625 40.328125 50.609375 34.8125 \r\nQ 44.34375 29.296875 32.078125 29.296875 \r\nL 19.671875 29.296875 \r\nL 19.671875 0 \r\nL 9.8125 0 \r\nz\r\n\" id=\"DejaVuSans-80\"/>\r\n       <path d=\"M 64.40625 67.28125 \r\nL 64.40625 56.890625 \r\nQ 59.421875 61.53125 53.78125 63.8125 \r\nQ 48.140625 66.109375 41.796875 66.109375 \r\nQ 29.296875 66.109375 22.65625 58.46875 \r\nQ 16.015625 50.828125 16.015625 36.375 \r\nQ 16.015625 21.96875 22.65625 14.328125 \r\nQ 29.296875 6.6875 41.796875 6.6875 \r\nQ 48.140625 6.6875 53.78125 8.984375 \r\nQ 59.421875 11.28125 64.40625 15.921875 \r\nL 64.40625 5.609375 \r\nQ 59.234375 2.09375 53.4375 0.328125 \r\nQ 47.65625 -1.421875 41.21875 -1.421875 \r\nQ 24.65625 -1.421875 15.125 8.703125 \r\nQ 5.609375 18.84375 5.609375 36.375 \r\nQ 5.609375 53.953125 15.125 64.078125 \r\nQ 24.65625 74.21875 41.21875 74.21875 \r\nQ 47.75 74.21875 53.53125 72.484375 \r\nQ 59.328125 70.75 64.40625 67.28125 \r\nz\r\n\" id=\"DejaVuSans-67\"/>\r\n       <path id=\"DejaVuSans-32\"/>\r\n       <path d=\"M 12.40625 8.296875 \r\nL 28.515625 8.296875 \r\nL 28.515625 63.921875 \r\nL 10.984375 60.40625 \r\nL 10.984375 69.390625 \r\nL 28.421875 72.90625 \r\nL 38.28125 72.90625 \r\nL 38.28125 8.296875 \r\nL 54.390625 8.296875 \r\nL 54.390625 0 \r\nL 12.40625 0 \r\nz\r\n\" id=\"DejaVuSans-49\"/>\r\n      </defs>\r\n      <use xlink:href=\"#DejaVuSans-80\"/>\r\n      <use x=\"60.302734\" xlink:href=\"#DejaVuSans-67\"/>\r\n      <use x=\"130.126953\" xlink:href=\"#DejaVuSans-32\"/>\r\n      <use x=\"161.914062\" xlink:href=\"#DejaVuSans-49\"/>\r\n     </g>\r\n    </g>\r\n   </g>\r\n   <g id=\"matplotlib.axis_2\">\r\n    <g id=\"ytick_1\">\r\n     <g id=\"line2d_6\">\r\n      <defs>\r\n       <path d=\"M 0 0 \r\nL -3.5 0 \r\n\" id=\"m7a87966fca\" style=\"stroke:#000000;stroke-width:0.8;\"/>\r\n      </defs>\r\n      <g>\r\n       <use style=\"stroke:#000000;stroke-width:0.8;\" x=\"42.620313\" xlink:href=\"#m7a87966fca\" y=\"236.591757\"/>\r\n      </g>\r\n     </g>\r\n     <g id=\"text_7\">\r\n      <!-- −4 -->\r\n      <g transform=\"translate(20.878125 240.390976)scale(0.1 -0.1)\">\r\n       <use xlink:href=\"#DejaVuSans-8722\"/>\r\n       <use x=\"83.789062\" xlink:href=\"#DejaVuSans-52\"/>\r\n      </g>\r\n     </g>\r\n    </g>\r\n    <g id=\"ytick_2\">\r\n     <g id=\"line2d_7\">\r\n      <g>\r\n       <use style=\"stroke:#000000;stroke-width:0.8;\" x=\"42.620313\" xlink:href=\"#m7a87966fca\" y=\"208.962649\"/>\r\n      </g>\r\n     </g>\r\n     <g id=\"text_8\">\r\n      <!-- −3 -->\r\n      <g transform=\"translate(20.878125 212.761868)scale(0.1 -0.1)\">\r\n       <defs>\r\n        <path d=\"M 40.578125 39.3125 \r\nQ 47.65625 37.796875 51.625 33 \r\nQ 55.609375 28.21875 55.609375 21.1875 \r\nQ 55.609375 10.40625 48.1875 4.484375 \r\nQ 40.765625 -1.421875 27.09375 -1.421875 \r\nQ 22.515625 -1.421875 17.65625 -0.515625 \r\nQ 12.796875 0.390625 7.625 2.203125 \r\nL 7.625 11.71875 \r\nQ 11.71875 9.328125 16.59375 8.109375 \r\nQ 21.484375 6.890625 26.8125 6.890625 \r\nQ 36.078125 6.890625 40.9375 10.546875 \r\nQ 45.796875 14.203125 45.796875 21.1875 \r\nQ 45.796875 27.640625 41.28125 31.265625 \r\nQ 36.765625 34.90625 28.71875 34.90625 \r\nL 20.21875 34.90625 \r\nL 20.21875 43.015625 \r\nL 29.109375 43.015625 \r\nQ 36.375 43.015625 40.234375 45.921875 \r\nQ 44.09375 48.828125 44.09375 54.296875 \r\nQ 44.09375 59.90625 40.109375 62.90625 \r\nQ 36.140625 65.921875 28.71875 65.921875 \r\nQ 24.65625 65.921875 20.015625 65.03125 \r\nQ 15.375 64.15625 9.8125 62.3125 \r\nL 9.8125 71.09375 \r\nQ 15.4375 72.65625 20.34375 73.4375 \r\nQ 25.25 74.21875 29.59375 74.21875 \r\nQ 40.828125 74.21875 47.359375 69.109375 \r\nQ 53.90625 64.015625 53.90625 55.328125 \r\nQ 53.90625 49.265625 50.4375 45.09375 \r\nQ 46.96875 40.921875 40.578125 39.3125 \r\nz\r\n\" id=\"DejaVuSans-51\"/>\r\n       </defs>\r\n       <use xlink:href=\"#DejaVuSans-8722\"/>\r\n       <use x=\"83.789062\" xlink:href=\"#DejaVuSans-51\"/>\r\n      </g>\r\n     </g>\r\n    </g>\r\n    <g id=\"ytick_3\">\r\n     <g id=\"line2d_8\">\r\n      <g>\r\n       <use style=\"stroke:#000000;stroke-width:0.8;\" x=\"42.620313\" xlink:href=\"#m7a87966fca\" y=\"181.333541\"/>\r\n      </g>\r\n     </g>\r\n     <g id=\"text_9\">\r\n      <!-- −2 -->\r\n      <g transform=\"translate(20.878125 185.13276)scale(0.1 -0.1)\">\r\n       <use xlink:href=\"#DejaVuSans-8722\"/>\r\n       <use x=\"83.789062\" xlink:href=\"#DejaVuSans-50\"/>\r\n      </g>\r\n     </g>\r\n    </g>\r\n    <g id=\"ytick_4\">\r\n     <g id=\"line2d_9\">\r\n      <g>\r\n       <use style=\"stroke:#000000;stroke-width:0.8;\" x=\"42.620313\" xlink:href=\"#m7a87966fca\" y=\"153.704434\"/>\r\n      </g>\r\n     </g>\r\n     <g id=\"text_10\">\r\n      <!-- −1 -->\r\n      <g transform=\"translate(20.878125 157.503652)scale(0.1 -0.1)\">\r\n       <use xlink:href=\"#DejaVuSans-8722\"/>\r\n       <use x=\"83.789062\" xlink:href=\"#DejaVuSans-49\"/>\r\n      </g>\r\n     </g>\r\n    </g>\r\n    <g id=\"ytick_5\">\r\n     <g id=\"line2d_10\">\r\n      <g>\r\n       <use style=\"stroke:#000000;stroke-width:0.8;\" x=\"42.620313\" xlink:href=\"#m7a87966fca\" y=\"126.075326\"/>\r\n      </g>\r\n     </g>\r\n     <g id=\"text_11\">\r\n      <!-- 0 -->\r\n      <g transform=\"translate(29.257813 129.874544)scale(0.1 -0.1)\">\r\n       <use xlink:href=\"#DejaVuSans-48\"/>\r\n      </g>\r\n     </g>\r\n    </g>\r\n    <g id=\"ytick_6\">\r\n     <g id=\"line2d_11\">\r\n      <g>\r\n       <use style=\"stroke:#000000;stroke-width:0.8;\" x=\"42.620313\" xlink:href=\"#m7a87966fca\" y=\"98.446218\"/>\r\n      </g>\r\n     </g>\r\n     <g id=\"text_12\">\r\n      <!-- 1 -->\r\n      <g transform=\"translate(29.257813 102.245436)scale(0.1 -0.1)\">\r\n       <use xlink:href=\"#DejaVuSans-49\"/>\r\n      </g>\r\n     </g>\r\n    </g>\r\n    <g id=\"ytick_7\">\r\n     <g id=\"line2d_12\">\r\n      <g>\r\n       <use style=\"stroke:#000000;stroke-width:0.8;\" x=\"42.620313\" xlink:href=\"#m7a87966fca\" y=\"70.81711\"/>\r\n      </g>\r\n     </g>\r\n     <g id=\"text_13\">\r\n      <!-- 2 -->\r\n      <g transform=\"translate(29.257813 74.616328)scale(0.1 -0.1)\">\r\n       <use xlink:href=\"#DejaVuSans-50\"/>\r\n      </g>\r\n     </g>\r\n    </g>\r\n    <g id=\"ytick_8\">\r\n     <g id=\"line2d_13\">\r\n      <g>\r\n       <use style=\"stroke:#000000;stroke-width:0.8;\" x=\"42.620313\" xlink:href=\"#m7a87966fca\" y=\"43.188002\"/>\r\n      </g>\r\n     </g>\r\n     <g id=\"text_14\">\r\n      <!-- 3 -->\r\n      <g transform=\"translate(29.257813 46.98722)scale(0.1 -0.1)\">\r\n       <use xlink:href=\"#DejaVuSans-51\"/>\r\n      </g>\r\n     </g>\r\n    </g>\r\n    <g id=\"ytick_9\">\r\n     <g id=\"line2d_14\">\r\n      <g>\r\n       <use style=\"stroke:#000000;stroke-width:0.8;\" x=\"42.620313\" xlink:href=\"#m7a87966fca\" y=\"15.558894\"/>\r\n      </g>\r\n     </g>\r\n     <g id=\"text_15\">\r\n      <!-- 4 -->\r\n      <g transform=\"translate(29.257813 19.358112)scale(0.1 -0.1)\">\r\n       <use xlink:href=\"#DejaVuSans-52\"/>\r\n      </g>\r\n     </g>\r\n    </g>\r\n    <g id=\"text_16\">\r\n     <!-- PC 2 -->\r\n     <g transform=\"translate(14.798438 136.176562)rotate(-90)scale(0.1 -0.1)\">\r\n      <use xlink:href=\"#DejaVuSans-80\"/>\r\n      <use x=\"60.302734\" xlink:href=\"#DejaVuSans-67\"/>\r\n      <use x=\"130.126953\" xlink:href=\"#DejaVuSans-32\"/>\r\n      <use x=\"161.914062\" xlink:href=\"#DejaVuSans-50\"/>\r\n     </g>\r\n    </g>\r\n   </g>\r\n   <g id=\"patch_3\">\r\n    <path d=\"M 42.620313 242.6 \r\nL 42.620313 7.2 \r\n\" style=\"fill:none;stroke:#000000;stroke-linecap:square;stroke-linejoin:miter;stroke-width:0.8;\"/>\r\n   </g>\r\n   <g id=\"patch_4\">\r\n    <path d=\"M 417.270312 242.6 \r\nL 417.270312 7.2 \r\n\" style=\"fill:none;stroke:#000000;stroke-linecap:square;stroke-linejoin:miter;stroke-width:0.8;\"/>\r\n   </g>\r\n   <g id=\"patch_5\">\r\n    <path d=\"M 42.620312 242.6 \r\nL 417.270312 242.6 \r\n\" style=\"fill:none;stroke:#000000;stroke-linecap:square;stroke-linejoin:miter;stroke-width:0.8;\"/>\r\n   </g>\r\n   <g id=\"patch_6\">\r\n    <path d=\"M 42.620312 7.2 \r\nL 417.270312 7.2 \r\n\" style=\"fill:none;stroke:#000000;stroke-linecap:square;stroke-linejoin:miter;stroke-width:0.8;\"/>\r\n   </g>\r\n   <g id=\"legend_1\">\r\n    <g id=\"patch_7\">\r\n     <path d=\"M 49.620313 237.6 \r\nL 87.982812 237.6 \r\nQ 89.982812 237.6 89.982812 235.6 \r\nL 89.982812 192.565625 \r\nQ 89.982812 190.565625 87.982812 190.565625 \r\nL 49.620313 190.565625 \r\nQ 47.620313 190.565625 47.620313 192.565625 \r\nL 47.620313 235.6 \r\nQ 47.620313 237.6 49.620313 237.6 \r\nz\r\n\" style=\"fill:#ffffff;opacity:0.8;stroke:#cccccc;stroke-linejoin:miter;\"/>\r\n    </g>\r\n    <g id=\"PathCollection_12\">\r\n     <g>\r\n      <use style=\"fill:#ff0000;fill-opacity:0.6;stroke:#000000;stroke-opacity:0.6;\" x=\"61.620313\" xlink:href=\"#me42a4bf603\" y=\"199.539062\"/>\r\n     </g>\r\n    </g>\r\n    <g id=\"text_17\">\r\n     <!-- 1 -->\r\n     <g transform=\"translate(79.620313 202.164062)scale(0.1 -0.1)\">\r\n      <use xlink:href=\"#DejaVuSans-49\"/>\r\n     </g>\r\n    </g>\r\n    <g id=\"PathCollection_13\">\r\n     <g>\r\n      <use style=\"fill:#0000ff;fill-opacity:0.6;stroke:#0000ff;stroke-opacity:0.6;stroke-width:1.5;\" x=\"61.620313\" xlink:href=\"#m48c304d1a4\" y=\"214.217187\"/>\r\n     </g>\r\n    </g>\r\n    <g id=\"text_18\">\r\n     <!-- 2 -->\r\n     <g transform=\"translate(79.620313 216.842187)scale(0.1 -0.1)\">\r\n      <use xlink:href=\"#DejaVuSans-50\"/>\r\n     </g>\r\n    </g>\r\n    <g id=\"PathCollection_14\">\r\n     <g>\r\n      <use style=\"fill:#90ee90;fill-opacity:0.6;stroke:#000000;stroke-opacity:0.6;\" x=\"61.620313\" xlink:href=\"#m9591edd387\" y=\"228.895312\"/>\r\n     </g>\r\n    </g>\r\n    <g id=\"text_19\">\r\n     <!-- 3 -->\r\n     <g transform=\"translate(79.620313 231.520312)scale(0.1 -0.1)\">\r\n      <use xlink:href=\"#DejaVuSans-51\"/>\r\n     </g>\r\n    </g>\r\n   </g>\r\n  </g>\r\n </g>\r\n <defs>\r\n  <clipPath id=\"p55578fd002\">\r\n   <rect height=\"235.4\" width=\"374.65\" x=\"42.620313\" y=\"7.2\"/>\r\n  </clipPath>\r\n </defs>\r\n</svg>\r\n",
      "image/png": "[encoded data removed]"
     },
     "metadata": {
      "needs_background": "light"
     }
    }
   ],
   "source": [
    "plot_decision_regions(X_train_pca, y_train, classifier=lr)\n",
    "plt.xlabel('PC 1')\n",
    "plt.ylabel('PC 2')\n",
    "plt.legend(loc='lower left')\n",
    "plt.tight_layout()\n",
    "\n",
    "plt.show()"
   ]
  },
  {
   "cell_type": "markdown",
   "metadata": {},
   "source": [
    "---\n",
    "p37"
   ]
  },
  {
   "cell_type": "markdown",
   "metadata": {},
   "source": [
    "# Submit\n",
    "- To make sure if you have completed this practice, Submit your practice file(Week08_givencode.ipynb) to e-class.\n",
    "- **Deadline : tomorrow 11:59pm**\n",
    "- Modify your ipynb file name as **“Week08_StudentNum_Name.ipynb”**\n",
    "  - ```Ex) Week08_2020123456_홍길동.ipynb``` \n",
    "- You can upload this file without taking the quiz, but **homework is provided like a quiz every three weeks**, so it is recommended to take the quiz as well."
   ]
  },
  {
   "cell_type": "markdown",
   "metadata": {},
   "source": [
    "# Quiz : Kaggle Tutorial Competition\n",
    "### Predict survival on the Titanic\n",
    "- Data Preprocessing\n",
    "    1. Remove irrelavant features\n",
    "    2. Convert categorical features to numerical \n",
    "    3. Impute missing data\n",
    "    4. Standardize numerical features\n",
    "    5. Dimensionality Reduction by PCA on numerical features  \n",
    "    \n",
    "    \n",
    "- Build and Evaluate Models\n",
    "    - Logistic Regression\n",
    "    - Decision Tree\n",
    "    - Gaussian Naïve Bayes\n",
    "    - K-Nearest Neighbors\n",
    "    - Multilayer Neural Network\n",
    "    \n",
    "    \n",
    "- Data Dictionary (891 samples)\n",
    "  - **Pclass** : Ticket class : 1 = 1st, 2 = 2nd, 3 = 3rd\n",
    "  - **Sex** : 'male', 'female'\n",
    "  - **Age** : Age in years\n",
    "  - **SibSp** : Number of Siblings / Spouses aboard the Titanic\n",
    "  - **Parch** : Number of Parents / Children aboard the Titanic\n",
    "  - **Ticket** : Ticker Number\n",
    "  - **Fare** : Passenger fare\n",
    "  - **Cabin** : Cabin number\n",
    "  - **Embarked** : Port of Embarkation : C = Cherbourg, Q = Queentown, S = Southampton\n",
    "- target : **Survived** : 0 = No, 1 = Yes\n",
    "- https://www.kaggle.com/c/titanic/data![image.png](attachment:image.png)![image.png](attachment:image.png)"
   ]
  },
  {
   "cell_type": "code",
   "execution_count": 24,
   "metadata": {
    "collapsed": true
   },
   "outputs": [],
   "source": [
    "import pandas as pd\n",
    "import numpy as np\n",
    "import matplotlib.pyplot as plt"
   ]
  },
  {
   "cell_type": "markdown",
   "metadata": {},
   "source": [
    "### Load Dataset"
   ]
  },
  {
   "cell_type": "code",
   "execution_count": 25,
   "metadata": {},
   "outputs": [
    {
     "output_type": "execute_result",
     "data": {
      "text/plain": [
       "   PassengerId  Survived  Pclass  \\\n",
       "0            1         0       3   \n",
       "1            2         1       1   \n",
       "2            3         1       3   \n",
       "3            4         1       1   \n",
       "4            5         0       3   \n",
       "\n",
       "                                                Name     Sex   Age  SibSp  \\\n",
       "0                            Braund, Mr. Owen Harris    male  22.0      1   \n",
       "1  Cumings, Mrs. John Bradley (Florence Briggs Th...  female  38.0      1   \n",
       "2                             Heikkinen, Miss. Laina  female  26.0      0   \n",
       "3       Futrelle, Mrs. Jacques Heath (Lily May Peel)  female  35.0      1   \n",
       "4                           Allen, Mr. William Henry    male  35.0      0   \n",
       "\n",
       "   Parch            Ticket     Fare Cabin Embarked  \n",
       "0      0         A/5 21171   7.2500   NaN        S  \n",
       "1      0          PC 17599  71.2833   C85        C  \n",
       "2      0  STON/O2. 3101282   7.9250   NaN        S  \n",
       "3      0            113803  53.1000  C123        S  \n",
       "4      0            373450   8.0500   NaN        S  "
      ],
      "text/html": "<div>\n<style scoped>\n    .dataframe tbody tr th:only-of-type {\n        vertical-align: middle;\n    }\n\n    .dataframe tbody tr th {\n        vertical-align: top;\n    }\n\n    .dataframe thead th {\n        text-align: right;\n    }\n</style>\n<table border=\"1\" class=\"dataframe\">\n  <thead>\n    <tr style=\"text-align: right;\">\n      <th></th>\n      <th>PassengerId</th>\n      <th>Survived</th>\n      <th>Pclass</th>\n      <th>Name</th>\n      <th>Sex</th>\n      <th>Age</th>\n      <th>SibSp</th>\n      <th>Parch</th>\n      <th>Ticket</th>\n      <th>Fare</th>\n      <th>Cabin</th>\n      <th>Embarked</th>\n    </tr>\n  </thead>\n  <tbody>\n    <tr>\n      <th>0</th>\n      <td>1</td>\n      <td>0</td>\n      <td>3</td>\n      <td>Braund, Mr. Owen Harris</td>\n      <td>male</td>\n      <td>22.0</td>\n      <td>1</td>\n      <td>0</td>\n      <td>A/5 21171</td>\n      <td>7.2500</td>\n      <td>NaN</td>\n      <td>S</td>\n    </tr>\n    <tr>\n      <th>1</th>\n      <td>2</td>\n      <td>1</td>\n      <td>1</td>\n      <td>Cumings, Mrs. John Bradley (Florence Briggs Th...</td>\n      <td>female</td>\n      <td>38.0</td>\n      <td>1</td>\n      <td>0</td>\n      <td>PC 17599</td>\n      <td>71.2833</td>\n      <td>C85</td>\n      <td>C</td>\n    </tr>\n    <tr>\n      <th>2</th>\n      <td>3</td>\n      <td>1</td>\n      <td>3</td>\n      <td>Heikkinen, Miss. Laina</td>\n      <td>female</td>\n      <td>26.0</td>\n      <td>0</td>\n      <td>0</td>\n      <td>STON/O2. 3101282</td>\n      <td>7.9250</td>\n      <td>NaN</td>\n      <td>S</td>\n    </tr>\n    <tr>\n      <th>3</th>\n      <td>4</td>\n      <td>1</td>\n      <td>1</td>\n      <td>Futrelle, Mrs. Jacques Heath (Lily May Peel)</td>\n      <td>female</td>\n      <td>35.0</td>\n      <td>1</td>\n      <td>0</td>\n      <td>113803</td>\n      <td>53.1000</td>\n      <td>C123</td>\n      <td>S</td>\n    </tr>\n    <tr>\n      <th>4</th>\n      <td>5</td>\n      <td>0</td>\n      <td>3</td>\n      <td>Allen, Mr. William Henry</td>\n      <td>male</td>\n      <td>35.0</td>\n      <td>0</td>\n      <td>0</td>\n      <td>373450</td>\n      <td>8.0500</td>\n      <td>NaN</td>\n      <td>S</td>\n    </tr>\n  </tbody>\n</table>\n</div>"
     },
     "metadata": {},
     "execution_count": 25
    }
   ],
   "source": [
    "# read titanic.csv\n",
    "df = pd.read_csv(\"titanic.csv\")\n",
    "df.head()"
   ]
  },
  {
   "cell_type": "code",
   "execution_count": 26,
   "metadata": {},
   "outputs": [
    {
     "output_type": "stream",
     "name": "stdout",
     "text": [
      "<class 'pandas.core.frame.DataFrame'>\nRangeIndex: 891 entries, 0 to 890\nData columns (total 12 columns):\n #   Column       Non-Null Count  Dtype  \n---  ------       --------------  -----  \n 0   PassengerId  891 non-null    int64  \n 1   Survived     891 non-null    int64  \n 2   Pclass       891 non-null    int64  \n 3   Name         891 non-null    object \n 4   Sex          891 non-null    object \n 5   Age          714 non-null    float64\n 6   SibSp        891 non-null    int64  \n 7   Parch        891 non-null    int64  \n 8   Ticket       891 non-null    object \n 9   Fare         891 non-null    float64\n 10  Cabin        204 non-null    object \n 11  Embarked     889 non-null    object \ndtypes: float64(2), int64(5), object(5)\nmemory usage: 83.7+ KB\n"
     ]
    }
   ],
   "source": [
    "# Check dataset info\n",
    "df.info()"
   ]
  },
  {
   "cell_type": "markdown",
   "metadata": {},
   "source": [
    "### Removing irrelavant features\n",
    "   - PassengerId, Name, Ticket, Cabin"
   ]
  },
  {
   "cell_type": "code",
   "execution_count": 27,
   "metadata": {},
   "outputs": [
    {
     "output_type": "execute_result",
     "data": {
      "text/plain": [
       "   Survived  Pclass     Sex   Age  SibSp  Parch     Fare Embarked\n",
       "0         0       3    male  22.0      1      0   7.2500        S\n",
       "1         1       1  female  38.0      1      0  71.2833        C\n",
       "2         1       3  female  26.0      0      0   7.9250        S"
      ],
      "text/html": "<div>\n<style scoped>\n    .dataframe tbody tr th:only-of-type {\n        vertical-align: middle;\n    }\n\n    .dataframe tbody tr th {\n        vertical-align: top;\n    }\n\n    .dataframe thead th {\n        text-align: right;\n    }\n</style>\n<table border=\"1\" class=\"dataframe\">\n  <thead>\n    <tr style=\"text-align: right;\">\n      <th></th>\n      <th>Survived</th>\n      <th>Pclass</th>\n      <th>Sex</th>\n      <th>Age</th>\n      <th>SibSp</th>\n      <th>Parch</th>\n      <th>Fare</th>\n      <th>Embarked</th>\n    </tr>\n  </thead>\n  <tbody>\n    <tr>\n      <th>0</th>\n      <td>0</td>\n      <td>3</td>\n      <td>male</td>\n      <td>22.0</td>\n      <td>1</td>\n      <td>0</td>\n      <td>7.2500</td>\n      <td>S</td>\n    </tr>\n    <tr>\n      <th>1</th>\n      <td>1</td>\n      <td>1</td>\n      <td>female</td>\n      <td>38.0</td>\n      <td>1</td>\n      <td>0</td>\n      <td>71.2833</td>\n      <td>C</td>\n    </tr>\n    <tr>\n      <th>2</th>\n      <td>1</td>\n      <td>3</td>\n      <td>female</td>\n      <td>26.0</td>\n      <td>0</td>\n      <td>0</td>\n      <td>7.9250</td>\n      <td>S</td>\n    </tr>\n  </tbody>\n</table>\n</div>"
     },
     "metadata": {},
     "execution_count": 27
    }
   ],
   "source": [
    "# remove irrelavant feafures\n",
    "df_select = df.drop([\"PassengerId\", \"Name\",\"Ticket\",\"Cabin\"], axis=1)\n",
    "df_select.head(3)"
   ]
  },
  {
   "cell_type": "markdown",
   "metadata": {},
   "source": [
    "### Handling categorical features\n",
    "- Nominal feature :  \n",
    "   - Sex : encode to 0, 1  \n",
    "   - Embarked : one-hot encoding  \n",
    "- Ordinal feature : \n",
    "    - Pclass(already mapped(integer vlaue))"
   ]
  },
  {
   "cell_type": "code",
   "execution_count": 28,
   "metadata": {},
   "outputs": [
    {
     "output_type": "execute_result",
     "data": {
      "text/plain": [
       "   Survived  Pclass  Sex   Age  SibSp  Parch     Fare Embarked\n",
       "0         0       3    1  22.0      1      0   7.2500        S\n",
       "1         1       1    0  38.0      1      0  71.2833        C\n",
       "2         1       3    0  26.0      0      0   7.9250        S"
      ],
      "text/html": "<div>\n<style scoped>\n    .dataframe tbody tr th:only-of-type {\n        vertical-align: middle;\n    }\n\n    .dataframe tbody tr th {\n        vertical-align: top;\n    }\n\n    .dataframe thead th {\n        text-align: right;\n    }\n</style>\n<table border=\"1\" class=\"dataframe\">\n  <thead>\n    <tr style=\"text-align: right;\">\n      <th></th>\n      <th>Survived</th>\n      <th>Pclass</th>\n      <th>Sex</th>\n      <th>Age</th>\n      <th>SibSp</th>\n      <th>Parch</th>\n      <th>Fare</th>\n      <th>Embarked</th>\n    </tr>\n  </thead>\n  <tbody>\n    <tr>\n      <th>0</th>\n      <td>0</td>\n      <td>3</td>\n      <td>1</td>\n      <td>22.0</td>\n      <td>1</td>\n      <td>0</td>\n      <td>7.2500</td>\n      <td>S</td>\n    </tr>\n    <tr>\n      <th>1</th>\n      <td>1</td>\n      <td>1</td>\n      <td>0</td>\n      <td>38.0</td>\n      <td>1</td>\n      <td>0</td>\n      <td>71.2833</td>\n      <td>C</td>\n    </tr>\n    <tr>\n      <th>2</th>\n      <td>1</td>\n      <td>3</td>\n      <td>0</td>\n      <td>26.0</td>\n      <td>0</td>\n      <td>0</td>\n      <td>7.9250</td>\n      <td>S</td>\n    </tr>\n  </tbody>\n</table>\n</div>"
     },
     "metadata": {},
     "execution_count": 28
    }
   ],
   "source": [
    "from sklearn.preprocessing import LabelEncoder\n",
    "\n",
    "# label encoding \"Sex\"\n",
    "le = LabelEncoder()\n",
    "df_select[\"Sex\"] = le.fit_transform(df_select[\"Sex\"])\n",
    "df_select.head(3)"
   ]
  },
  {
   "cell_type": "code",
   "execution_count": 29,
   "metadata": {},
   "outputs": [
    {
     "output_type": "execute_result",
     "data": {
      "text/plain": [
       "   Survived  Pclass  Sex   Age  SibSp  Parch     Fare  Embarked_C  Embarked_Q  \\\n",
       "0         0       3    1  22.0      1      0   7.2500           0           0   \n",
       "1         1       1    0  38.0      1      0  71.2833           1           0   \n",
       "2         1       3    0  26.0      0      0   7.9250           0           0   \n",
       "\n",
       "   Embarked_S  \n",
       "0           1  \n",
       "1           0  \n",
       "2           1  "
      ],
      "text/html": "<div>\n<style scoped>\n    .dataframe tbody tr th:only-of-type {\n        vertical-align: middle;\n    }\n\n    .dataframe tbody tr th {\n        vertical-align: top;\n    }\n\n    .dataframe thead th {\n        text-align: right;\n    }\n</style>\n<table border=\"1\" class=\"dataframe\">\n  <thead>\n    <tr style=\"text-align: right;\">\n      <th></th>\n      <th>Survived</th>\n      <th>Pclass</th>\n      <th>Sex</th>\n      <th>Age</th>\n      <th>SibSp</th>\n      <th>Parch</th>\n      <th>Fare</th>\n      <th>Embarked_C</th>\n      <th>Embarked_Q</th>\n      <th>Embarked_S</th>\n    </tr>\n  </thead>\n  <tbody>\n    <tr>\n      <th>0</th>\n      <td>0</td>\n      <td>3</td>\n      <td>1</td>\n      <td>22.0</td>\n      <td>1</td>\n      <td>0</td>\n      <td>7.2500</td>\n      <td>0</td>\n      <td>0</td>\n      <td>1</td>\n    </tr>\n    <tr>\n      <th>1</th>\n      <td>1</td>\n      <td>1</td>\n      <td>0</td>\n      <td>38.0</td>\n      <td>1</td>\n      <td>0</td>\n      <td>71.2833</td>\n      <td>1</td>\n      <td>0</td>\n      <td>0</td>\n    </tr>\n    <tr>\n      <th>2</th>\n      <td>1</td>\n      <td>3</td>\n      <td>0</td>\n      <td>26.0</td>\n      <td>0</td>\n      <td>0</td>\n      <td>7.9250</td>\n      <td>0</td>\n      <td>0</td>\n      <td>1</td>\n    </tr>\n  </tbody>\n</table>\n</div>"
     },
     "metadata": {},
     "execution_count": 29
    }
   ],
   "source": [
    "# one-hot encoding \"Embarked\"\n",
    "df_select = pd.get_dummies(df_select, columns=[\"Embarked\"])\n",
    "df_select.head(3)"
   ]
  },
  {
   "cell_type": "markdown",
   "metadata": {},
   "source": [
    "### Handling missing values\n",
    "- Impute mmissing values\n",
    "    - Age"
   ]
  },
  {
   "cell_type": "code",
   "execution_count": 30,
   "metadata": {},
   "outputs": [
    {
     "output_type": "execute_result",
     "data": {
      "text/plain": [
       "Survived      0.000000\n",
       "Pclass        0.000000\n",
       "Sex           0.000000\n",
       "Age           0.198653\n",
       "SibSp         0.000000\n",
       "Parch         0.000000\n",
       "Fare          0.000000\n",
       "Embarked_C    0.000000\n",
       "Embarked_Q    0.000000\n",
       "Embarked_S    0.000000\n",
       "dtype: float64"
      ]
     },
     "metadata": {},
     "execution_count": 30
    }
   ],
   "source": [
    "# Check missing value ratio\n",
    "df_select.isnull().sum() / len(df[\"Age\"])"
   ]
  },
  {
   "cell_type": "code",
   "execution_count": 31,
   "metadata": {},
   "outputs": [
    {
     "output_type": "execute_result",
     "data": {
      "text/plain": [
       "Survived      0.0\n",
       "Pclass        0.0\n",
       "Sex           0.0\n",
       "Age           0.0\n",
       "SibSp         0.0\n",
       "Parch         0.0\n",
       "Fare          0.0\n",
       "Embarked_C    0.0\n",
       "Embarked_Q    0.0\n",
       "Embarked_S    0.0\n",
       "dtype: float64"
      ]
     },
     "metadata": {},
     "execution_count": 31
    }
   ],
   "source": [
    "df_select = df_select.fillna(df_select.mean())\n",
    "df_select.isnull().sum() / len(df[\"Age\"])"
   ]
  },
  {
   "cell_type": "markdown",
   "metadata": {},
   "source": [
    "### Standardizing numerical features\n",
    "- Age, SibSp, Parch, Fare\n",
    "- Standardize based on training set"
   ]
  },
  {
   "cell_type": "code",
   "execution_count": 32,
   "metadata": {
    "collapsed": true
   },
   "outputs": [],
   "source": [
    "from sklearn.model_selection import train_test_split\n",
    "\n",
    "# split the dataset by index\n",
    "idx = df_select.index \n",
    "train_idx, test_idx = train_test_split(idx, test_size=0.3, random_state=0, stratify=df_select[\"Survived\"])"
   ]
  },
  {
   "cell_type": "code",
   "execution_count": 33,
   "metadata": {},
   "outputs": [
    {
     "output_type": "execute_result",
     "data": {
      "text/plain": [
       "           Age  SibSp  Parch     Fare\n",
       "231  29.000000      0      0   7.7750\n",
       "836  21.000000      0      0   8.6625\n",
       "639  29.699118      1      0  16.1000\n",
       "389  17.000000      0      0  12.0000\n",
       "597  49.000000      0      0   0.0000\n",
       "..         ...    ...    ...      ...\n",
       "131  20.000000      0      0   7.0500\n",
       "490  29.699118      1      0  19.9667\n",
       "838  32.000000      0      0  56.4958\n",
       "48   29.699118      2      0  21.6792\n",
       "80   22.000000      0      0   9.0000\n",
       "\n",
       "[623 rows x 4 columns]"
      ],
      "text/html": "<div>\n<style scoped>\n    .dataframe tbody tr th:only-of-type {\n        vertical-align: middle;\n    }\n\n    .dataframe tbody tr th {\n        vertical-align: top;\n    }\n\n    .dataframe thead th {\n        text-align: right;\n    }\n</style>\n<table border=\"1\" class=\"dataframe\">\n  <thead>\n    <tr style=\"text-align: right;\">\n      <th></th>\n      <th>Age</th>\n      <th>SibSp</th>\n      <th>Parch</th>\n      <th>Fare</th>\n    </tr>\n  </thead>\n  <tbody>\n    <tr>\n      <th>231</th>\n      <td>29.000000</td>\n      <td>0</td>\n      <td>0</td>\n      <td>7.7750</td>\n    </tr>\n    <tr>\n      <th>836</th>\n      <td>21.000000</td>\n      <td>0</td>\n      <td>0</td>\n      <td>8.6625</td>\n    </tr>\n    <tr>\n      <th>639</th>\n      <td>29.699118</td>\n      <td>1</td>\n      <td>0</td>\n      <td>16.1000</td>\n    </tr>\n    <tr>\n      <th>389</th>\n      <td>17.000000</td>\n      <td>0</td>\n      <td>0</td>\n      <td>12.0000</td>\n    </tr>\n    <tr>\n      <th>597</th>\n      <td>49.000000</td>\n      <td>0</td>\n      <td>0</td>\n      <td>0.0000</td>\n    </tr>\n    <tr>\n      <th>...</th>\n      <td>...</td>\n      <td>...</td>\n      <td>...</td>\n      <td>...</td>\n    </tr>\n    <tr>\n      <th>131</th>\n      <td>20.000000</td>\n      <td>0</td>\n      <td>0</td>\n      <td>7.0500</td>\n    </tr>\n    <tr>\n      <th>490</th>\n      <td>29.699118</td>\n      <td>1</td>\n      <td>0</td>\n      <td>19.9667</td>\n    </tr>\n    <tr>\n      <th>838</th>\n      <td>32.000000</td>\n      <td>0</td>\n      <td>0</td>\n      <td>56.4958</td>\n    </tr>\n    <tr>\n      <th>48</th>\n      <td>29.699118</td>\n      <td>2</td>\n      <td>0</td>\n      <td>21.6792</td>\n    </tr>\n    <tr>\n      <th>80</th>\n      <td>22.000000</td>\n      <td>0</td>\n      <td>0</td>\n      <td>9.0000</td>\n    </tr>\n  </tbody>\n</table>\n<p>623 rows × 4 columns</p>\n</div>"
     },
     "metadata": {},
     "execution_count": 33
    }
   ],
   "source": [
    "df_select[[\"Age\",\"SibSp\",\"Parch\",\"Fare\"]].loc[train_idx]"
   ]
  },
  {
   "cell_type": "code",
   "execution_count": 34,
   "metadata": {},
   "outputs": [
    {
     "output_type": "execute_result",
     "data": {
      "text/plain": [
       "   Survived  Pclass  Sex       Age     SibSp     Parch      Fare  Embarked_C  \\\n",
       "0         0       3    1 -0.588800  0.449557 -0.479735 -0.488829           0   \n",
       "1         1       1    0  0.657119  0.449557 -0.479735  0.695553           1   \n",
       "2         1       3    0 -0.277320 -0.480922 -0.479735 -0.476344           0   \n",
       "\n",
       "   Embarked_Q  Embarked_S  \n",
       "0           0           1  \n",
       "1           0           0  \n",
       "2           0           1  "
      ],
      "text/html": "<div>\n<style scoped>\n    .dataframe tbody tr th:only-of-type {\n        vertical-align: middle;\n    }\n\n    .dataframe tbody tr th {\n        vertical-align: top;\n    }\n\n    .dataframe thead th {\n        text-align: right;\n    }\n</style>\n<table border=\"1\" class=\"dataframe\">\n  <thead>\n    <tr style=\"text-align: right;\">\n      <th></th>\n      <th>Survived</th>\n      <th>Pclass</th>\n      <th>Sex</th>\n      <th>Age</th>\n      <th>SibSp</th>\n      <th>Parch</th>\n      <th>Fare</th>\n      <th>Embarked_C</th>\n      <th>Embarked_Q</th>\n      <th>Embarked_S</th>\n    </tr>\n  </thead>\n  <tbody>\n    <tr>\n      <th>0</th>\n      <td>0</td>\n      <td>3</td>\n      <td>1</td>\n      <td>-0.588800</td>\n      <td>0.449557</td>\n      <td>-0.479735</td>\n      <td>-0.488829</td>\n      <td>0</td>\n      <td>0</td>\n      <td>1</td>\n    </tr>\n    <tr>\n      <th>1</th>\n      <td>1</td>\n      <td>1</td>\n      <td>0</td>\n      <td>0.657119</td>\n      <td>0.449557</td>\n      <td>-0.479735</td>\n      <td>0.695553</td>\n      <td>1</td>\n      <td>0</td>\n      <td>0</td>\n    </tr>\n    <tr>\n      <th>2</th>\n      <td>1</td>\n      <td>3</td>\n      <td>0</td>\n      <td>-0.277320</td>\n      <td>-0.480922</td>\n      <td>-0.479735</td>\n      <td>-0.476344</td>\n      <td>0</td>\n      <td>0</td>\n      <td>1</td>\n    </tr>\n  </tbody>\n</table>\n</div>"
     },
     "metadata": {},
     "execution_count": 34
    }
   ],
   "source": [
    "from sklearn.preprocessing import StandardScaler\n",
    "\n",
    "sc = StandardScaler()\n",
    "# fit to train set\n",
    "sc.fit(df_select[[\"Age\",\"SibSp\",\"Parch\",\"Fare\"]].loc[train_idx])\n",
    "\n",
    "# transform entire data set using train set info(mean, std)\n",
    "df_select[[\"Age\",\"SibSp\",\"Parch\",\"Fare\"]] = sc.transform(df_select[[\"Age\",\"SibSp\",\"Parch\",\"Fare\"]])\n",
    "df_select.head(3)"
   ]
  },
  {
   "cell_type": "markdown",
   "metadata": {},
   "source": [
    "### Dimensionality reduction by PCA\n",
    "- Apply PCA to numerical features \n",
    "- Use training data"
   ]
  },
  {
   "cell_type": "code",
   "execution_count": 35,
   "metadata": {},
   "outputs": [
    {
     "output_type": "execute_result",
     "data": {
      "text/plain": [
       "PCA()"
      ]
     },
     "metadata": {},
     "execution_count": 35
    }
   ],
   "source": [
    "from sklearn.decomposition import PCA\n",
    "\n",
    "# PCA\n",
    "pca = PCA()\n",
    "# Note : Fit to train set\n",
    "pca.fit(df_select[[\"Age\",\"SibSp\",\"Parch\",\"Fare\"]],df_select[\"Survived\"])"
   ]
  },
  {
   "cell_type": "code",
   "execution_count": 36,
   "metadata": {},
   "outputs": [
    {
     "output_type": "execute_result",
     "data": {
      "text/plain": [
       "array([0.42681187, 0.68277732, 0.8450816 , 1.        ])"
      ]
     },
     "metadata": {},
     "execution_count": 36
    }
   ],
   "source": [
    "# check explained variance \n",
    "np.cumsum(pca.explained_variance_ratio_)"
   ]
  },
  {
   "cell_type": "code",
   "execution_count": 37,
   "metadata": {},
   "outputs": [
    {
     "output_type": "execute_result",
     "data": {
      "text/plain": [
       "        PC1       PC2\n",
       "0  0.063487 -0.841400\n",
       "1 -0.124231  0.828371\n",
       "2 -0.626014 -0.603816\n",
       "3 -0.114985  0.447129\n",
       "4 -0.882405 -0.060635"
      ],
      "text/html": "<div>\n<style scoped>\n    .dataframe tbody tr th:only-of-type {\n        vertical-align: middle;\n    }\n\n    .dataframe tbody tr th {\n        vertical-align: top;\n    }\n\n    .dataframe thead th {\n        text-align: right;\n    }\n</style>\n<table border=\"1\" class=\"dataframe\">\n  <thead>\n    <tr style=\"text-align: right;\">\n      <th></th>\n      <th>PC1</th>\n      <th>PC2</th>\n    </tr>\n  </thead>\n  <tbody>\n    <tr>\n      <th>0</th>\n      <td>0.063487</td>\n      <td>-0.841400</td>\n    </tr>\n    <tr>\n      <th>1</th>\n      <td>-0.124231</td>\n      <td>0.828371</td>\n    </tr>\n    <tr>\n      <th>2</th>\n      <td>-0.626014</td>\n      <td>-0.603816</td>\n    </tr>\n    <tr>\n      <th>3</th>\n      <td>-0.114985</td>\n      <td>0.447129</td>\n    </tr>\n    <tr>\n      <th>4</th>\n      <td>-0.882405</td>\n      <td>-0.060635</td>\n    </tr>\n  </tbody>\n</table>\n</div>"
     },
     "metadata": {},
     "execution_count": 37
    }
   ],
   "source": [
    "pc12 = pca.transform(df_select[[\"Age\",\"SibSp\",\"Parch\",\"Fare\"]])[:,:2]\n",
    "df_pc12 = pd.DataFrame(pc12, columns=[\"PC1\", \"PC2\"])\n",
    "df_pc12.head()"
   ]
  },
  {
   "cell_type": "code",
   "execution_count": 47,
   "metadata": {},
   "outputs": [
    {
     "output_type": "execute_result",
     "data": {
      "text/plain": [
       "     Survived  Pclass  Sex  Embarked_C  Embarked_Q  Embarked_S\n",
       "0           0       3    1           0           0           1\n",
       "1           1       1    0           1           0           0\n",
       "2           1       3    0           0           0           1\n",
       "3           1       1    0           0           0           1\n",
       "4           0       3    1           0           0           1\n",
       "..        ...     ...  ...         ...         ...         ...\n",
       "886         0       2    1           0           0           1\n",
       "887         1       1    0           0           0           1\n",
       "888         0       3    0           0           0           1\n",
       "889         1       1    1           1           0           0\n",
       "890         0       3    1           0           1           0\n",
       "\n",
       "[891 rows x 6 columns]"
      ],
      "text/html": "<div>\n<style scoped>\n    .dataframe tbody tr th:only-of-type {\n        vertical-align: middle;\n    }\n\n    .dataframe tbody tr th {\n        vertical-align: top;\n    }\n\n    .dataframe thead th {\n        text-align: right;\n    }\n</style>\n<table border=\"1\" class=\"dataframe\">\n  <thead>\n    <tr style=\"text-align: right;\">\n      <th></th>\n      <th>Survived</th>\n      <th>Pclass</th>\n      <th>Sex</th>\n      <th>Embarked_C</th>\n      <th>Embarked_Q</th>\n      <th>Embarked_S</th>\n    </tr>\n  </thead>\n  <tbody>\n    <tr>\n      <th>0</th>\n      <td>0</td>\n      <td>3</td>\n      <td>1</td>\n      <td>0</td>\n      <td>0</td>\n      <td>1</td>\n    </tr>\n    <tr>\n      <th>1</th>\n      <td>1</td>\n      <td>1</td>\n      <td>0</td>\n      <td>1</td>\n      <td>0</td>\n      <td>0</td>\n    </tr>\n    <tr>\n      <th>2</th>\n      <td>1</td>\n      <td>3</td>\n      <td>0</td>\n      <td>0</td>\n      <td>0</td>\n      <td>1</td>\n    </tr>\n    <tr>\n      <th>3</th>\n      <td>1</td>\n      <td>1</td>\n      <td>0</td>\n      <td>0</td>\n      <td>0</td>\n      <td>1</td>\n    </tr>\n    <tr>\n      <th>4</th>\n      <td>0</td>\n      <td>3</td>\n      <td>1</td>\n      <td>0</td>\n      <td>0</td>\n      <td>1</td>\n    </tr>\n    <tr>\n      <th>...</th>\n      <td>...</td>\n      <td>...</td>\n      <td>...</td>\n      <td>...</td>\n      <td>...</td>\n      <td>...</td>\n    </tr>\n    <tr>\n      <th>886</th>\n      <td>0</td>\n      <td>2</td>\n      <td>1</td>\n      <td>0</td>\n      <td>0</td>\n      <td>1</td>\n    </tr>\n    <tr>\n      <th>887</th>\n      <td>1</td>\n      <td>1</td>\n      <td>0</td>\n      <td>0</td>\n      <td>0</td>\n      <td>1</td>\n    </tr>\n    <tr>\n      <th>888</th>\n      <td>0</td>\n      <td>3</td>\n      <td>0</td>\n      <td>0</td>\n      <td>0</td>\n      <td>1</td>\n    </tr>\n    <tr>\n      <th>889</th>\n      <td>1</td>\n      <td>1</td>\n      <td>1</td>\n      <td>1</td>\n      <td>0</td>\n      <td>0</td>\n    </tr>\n    <tr>\n      <th>890</th>\n      <td>0</td>\n      <td>3</td>\n      <td>1</td>\n      <td>0</td>\n      <td>1</td>\n      <td>0</td>\n    </tr>\n  </tbody>\n</table>\n<p>891 rows × 6 columns</p>\n</div>"
     },
     "metadata": {},
     "execution_count": 47
    }
   ],
   "source": [
    "df_select2 = df_select.copy().drop([\"Age\",\"Parch\",\"Fare\",\"SibSp\"],axis=1)\n",
    "df_select2"
   ]
  },
  {
   "cell_type": "code",
   "execution_count": null,
   "metadata": {},
   "outputs": [],
   "source": []
  },
  {
   "cell_type": "code",
   "execution_count": 50,
   "metadata": {},
   "outputs": [
    {
     "output_type": "execute_result",
     "data": {
      "text/plain": [
       "   Survived  Pclass  Sex       Age     SibSp     Parch      Fare  Embarked_C  \\\n",
       "0         0       3    1 -0.588800  0.449557 -0.479735 -0.488829           0   \n",
       "1         1       1    0  0.657119  0.449557 -0.479735  0.695553           1   \n",
       "2         1       3    0 -0.277320 -0.480922 -0.479735 -0.476344           0   \n",
       "3         1       1    0  0.423509  0.449557 -0.479735  0.359228           0   \n",
       "4         0       3    1  0.423509 -0.480922 -0.479735 -0.474032           0   \n",
       "\n",
       "   Embarked_Q  Embarked_S       PC1       PC2  \n",
       "0           0           1  0.063487 -0.841400  \n",
       "1           0           0 -0.124231  0.828371  \n",
       "2           0           1 -0.626014 -0.603816  \n",
       "3           0           1 -0.114985  0.447129  \n",
       "4           0           1 -0.882405 -0.060635  "
      ],
      "text/html": "<div>\n<style scoped>\n    .dataframe tbody tr th:only-of-type {\n        vertical-align: middle;\n    }\n\n    .dataframe tbody tr th {\n        vertical-align: top;\n    }\n\n    .dataframe thead th {\n        text-align: right;\n    }\n</style>\n<table border=\"1\" class=\"dataframe\">\n  <thead>\n    <tr style=\"text-align: right;\">\n      <th></th>\n      <th>Survived</th>\n      <th>Pclass</th>\n      <th>Sex</th>\n      <th>Age</th>\n      <th>SibSp</th>\n      <th>Parch</th>\n      <th>Fare</th>\n      <th>Embarked_C</th>\n      <th>Embarked_Q</th>\n      <th>Embarked_S</th>\n      <th>PC1</th>\n      <th>PC2</th>\n    </tr>\n  </thead>\n  <tbody>\n    <tr>\n      <th>0</th>\n      <td>0</td>\n      <td>3</td>\n      <td>1</td>\n      <td>-0.588800</td>\n      <td>0.449557</td>\n      <td>-0.479735</td>\n      <td>-0.488829</td>\n      <td>0</td>\n      <td>0</td>\n      <td>1</td>\n      <td>0.063487</td>\n      <td>-0.841400</td>\n    </tr>\n    <tr>\n      <th>1</th>\n      <td>1</td>\n      <td>1</td>\n      <td>0</td>\n      <td>0.657119</td>\n      <td>0.449557</td>\n      <td>-0.479735</td>\n      <td>0.695553</td>\n      <td>1</td>\n      <td>0</td>\n      <td>0</td>\n      <td>-0.124231</td>\n      <td>0.828371</td>\n    </tr>\n    <tr>\n      <th>2</th>\n      <td>1</td>\n      <td>3</td>\n      <td>0</td>\n      <td>-0.277320</td>\n      <td>-0.480922</td>\n      <td>-0.479735</td>\n      <td>-0.476344</td>\n      <td>0</td>\n      <td>0</td>\n      <td>1</td>\n      <td>-0.626014</td>\n      <td>-0.603816</td>\n    </tr>\n    <tr>\n      <th>3</th>\n      <td>1</td>\n      <td>1</td>\n      <td>0</td>\n      <td>0.423509</td>\n      <td>0.449557</td>\n      <td>-0.479735</td>\n      <td>0.359228</td>\n      <td>0</td>\n      <td>0</td>\n      <td>1</td>\n      <td>-0.114985</td>\n      <td>0.447129</td>\n    </tr>\n    <tr>\n      <th>4</th>\n      <td>0</td>\n      <td>3</td>\n      <td>1</td>\n      <td>0.423509</td>\n      <td>-0.480922</td>\n      <td>-0.479735</td>\n      <td>-0.474032</td>\n      <td>0</td>\n      <td>0</td>\n      <td>1</td>\n      <td>-0.882405</td>\n      <td>-0.060635</td>\n    </tr>\n  </tbody>\n</table>\n</div>"
     },
     "metadata": {},
     "execution_count": 50
    }
   ],
   "source": [
    "# Concat dataframe with PC1, PC2\n",
    "df_reduced = pd.concat([df_select, df_pc12],axis=1)\n",
    "df_reduced.head()"
   ]
  },
  {
   "cell_type": "markdown",
   "metadata": {},
   "source": [
    "### Get X and y"
   ]
  },
  {
   "cell_type": "code",
   "execution_count": 51,
   "metadata": {},
   "outputs": [
    {
     "output_type": "execute_result",
     "data": {
      "text/plain": [
       "(623, 11)"
      ]
     },
     "metadata": {},
     "execution_count": 51
    }
   ],
   "source": [
    "# Train set / Test set \n",
    "y_train = df_reduced.loc[train_idx].values[:,0]\n",
    "y_test = df_reduced.loc[test_idx].values[:,0]\n",
    "\n",
    "X_train = df_reduced.loc[train_idx].values[:,1:]\n",
    "X_test = df_reduced.loc[test_idx].values[:,1:]\n",
    "\n",
    "X_train.shape"
   ]
  },
  {
   "cell_type": "markdown",
   "metadata": {},
   "source": [
    "### Model : Logistic Regression"
   ]
  },
  {
   "cell_type": "code",
   "execution_count": 52,
   "metadata": {},
   "outputs": [
    {
     "output_type": "execute_result",
     "data": {
      "text/plain": [
       "LogisticRegression(C=1000, penalty='l1', solver='liblinear')"
      ]
     },
     "metadata": {},
     "execution_count": 52
    }
   ],
   "source": [
    "from sklearn.linear_model import LogisticRegression\n",
    "lr = LogisticRegression(C=1000,penalty=\"l1\",solver=\"liblinear\")\n",
    "lr.fit(X_train, y_train)"
   ]
  },
  {
   "cell_type": "code",
   "execution_count": 53,
   "metadata": {},
   "outputs": [
    {
     "output_type": "stream",
     "name": "stdout",
     "text": [
      "Train accuracy : 0.7929\nTest accuracy : 0.8060\n"
     ]
    }
   ],
   "source": [
    "print(\"Train accuracy : %.4f\" % lr.score(X_train, y_train))\n",
    "print(\"Test accuracy : %.4f\" % lr.score(X_test, y_test))"
   ]
  },
  {
   "cell_type": "markdown",
   "metadata": {},
   "source": [
    "### Model : Decision Tree Classifier"
   ]
  },
  {
   "cell_type": "code",
   "execution_count": 153,
   "metadata": {},
   "outputs": [
    {
     "data": {
      "text/plain": [
       "DecisionTreeClassifier(ccp_alpha=0.0, class_weight=None, criterion='gini',\n",
       "                       max_depth=3, max_features=None, max_leaf_nodes=None,\n",
       "                       min_impurity_decrease=0.0, min_impurity_split=None,\n",
       "                       min_samples_leaf=1, min_samples_split=2,\n",
       "                       min_weight_fraction_leaf=0.0, presort='deprecated',\n",
       "                       random_state=None, splitter='best')"
      ]
     },
     "execution_count": 153,
     "metadata": {},
     "output_type": "execute_result"
    }
   ],
   "source": [
    "from sklearn.tree import DecisionTreeClassifier\n",
    "tree = DecisionTreeClassifier()\n",
    "tree.fit(X_train, y_train)"
   ]
  },
  {
   "cell_type": "code",
   "execution_count": 59,
   "metadata": {},
   "outputs": [
    {
     "output_type": "stream",
     "name": "stdout",
     "text": [
      "Train accuracy : 0.8363\nTest accuracy : 0.8060\n"
     ]
    }
   ],
   "source": [
    "print(\"Train accuracy : %.4f\" % tree.score(X_train, y_train))\n",
    "print(\"Test accuracy : %.4f\" % tree.score(X_test, y_test))"
   ]
  },
  {
   "cell_type": "markdown",
   "metadata": {},
   "source": [
    "### Model : Gausssian Naive Bayes"
   ]
  },
  {
   "cell_type": "code",
   "execution_count": 61,
   "metadata": {},
   "outputs": [
    {
     "output_type": "execute_result",
     "data": {
      "text/plain": [
       "GaussianNB()"
      ]
     },
     "metadata": {},
     "execution_count": 61
    }
   ],
   "source": [
    "from sklearn.naive_bayes import GaussianNB\n",
    "gnb = GaussianNB(var_smoothing=1e-09)\n",
    "gnb.fit(X_train, y_train)"
   ]
  },
  {
   "cell_type": "code",
   "execution_count": 62,
   "metadata": {},
   "outputs": [
    {
     "output_type": "stream",
     "name": "stdout",
     "text": [
      "Train accuracy : 0.7673\nTest accuracy : 0.7948\n"
     ]
    }
   ],
   "source": [
    "print(\"Train accuracy : %.4f\" % gnb.score(X_train, y_train))\n",
    "print(\"Test accuracy : %.4f\" % gnb.score(X_test, y_test))"
   ]
  },
  {
   "cell_type": "markdown",
   "metadata": {},
   "source": [
    "### Model : K-Nearest Neighbors"
   ]
  },
  {
   "cell_type": "code",
   "execution_count": 63,
   "metadata": {},
   "outputs": [
    {
     "output_type": "execute_result",
     "data": {
      "text/plain": [
       "KNeighborsClassifier()"
      ]
     },
     "metadata": {},
     "execution_count": 63
    }
   ],
   "source": [
    "from sklearn.neighbors import KNeighborsClassifier\n",
    "knn = KNeighborsClassifier(metric=\"minkowski\", n_neighbors=5)\n",
    "knn.fit(X_train, y_train)"
   ]
  },
  {
   "cell_type": "code",
   "execution_count": 64,
   "metadata": {},
   "outputs": [
    {
     "output_type": "stream",
     "name": "stdout",
     "text": [
      "Train accuracy : 0.8523\nTest accuracy : 0.8097\n"
     ]
    }
   ],
   "source": [
    "print(\"Train accuracy : %.4f\" % knn.score(X_train, y_train))\n",
    "print(\"Test accuracy : %.4f\" % knn.score(X_test, y_test))"
   ]
  },
  {
   "cell_type": "markdown",
   "metadata": {},
   "source": [
    "### Model : Multilyaer Neural Network"
   ]
  },
  {
   "cell_type": "code",
   "execution_count": 65,
   "metadata": {},
   "outputs": [
    {
     "output_type": "execute_result",
     "data": {
      "text/plain": [
       "MLPClassifier(hidden_layer_sizes=(10, 10), learning_rate_init=0.01,\n",
       "              max_iter=500, random_state=1, solver='sgd', tol=1e-05)"
      ]
     },
     "metadata": {},
     "execution_count": 65
    }
   ],
   "source": [
    "from sklearn.neural_network import MLPClassifier\n",
    "mlp = MLPClassifier(alpha=0.0001, hidden_layer_sizes=(10,10), learning_rate_init=0.01, max_iter=500, random_state=1,solver=\"sgd\",tol=1e-05)\n",
    "mlp.fit(X_train, y_train)"
   ]
  },
  {
   "cell_type": "code",
   "execution_count": 66,
   "metadata": {},
   "outputs": [
    {
     "output_type": "stream",
     "name": "stdout",
     "text": [
      "Train accuracy : 0.8299\nTest accuracy : 0.8134\n"
     ]
    }
   ],
   "source": [
    "print(\"Train accuracy : %.4f\" % mlp.score(X_train, y_train))\n",
    "print(\"Test accuracy : %.4f\" % mlp.score(X_test, y_test))"
   ]
  },
  {
   "cell_type": "markdown",
   "metadata": {},
   "source": [
    "### Model Evaluation"
   ]
  },
  {
   "cell_type": "code",
   "execution_count": 67,
   "metadata": {
    "collapsed": true
   },
   "outputs": [],
   "source": [
    "# get the accuracy of 5 models\n",
    "models = [lr, tree, gnb, knn, mlp]\n",
    "train_acc = []\n",
    "test_acc = []\n",
    "for m in models:\n",
    "    train_acc.append(m.score(X_train, y_train))\n",
    "    test_acc.append(m.score(X_test, y_test))"
   ]
  },
  {
   "cell_type": "code",
   "execution_count": 68,
   "metadata": {},
   "outputs": [
    {
     "output_type": "display_data",
     "data": {
      "text/plain": "<Figure size 432x288 with 1 Axes>",
      "image/svg+xml": "<?xml version=\"1.0\" encoding=\"utf-8\" standalone=\"no\"?>\r\n<!DOCTYPE svg PUBLIC \"-//W3C//DTD SVG 1.1//EN\"\r\n  \"http://www.w3.org/Graphics/SVG/1.1/DTD/svg11.dtd\">\r\n<!-- Created with matplotlib (https://matplotlib.org/) -->\r\n<svg height=\"277.314375pt\" version=\"1.1\" viewBox=\"0 0 398.50625 277.314375\" width=\"398.50625pt\" xmlns=\"http://www.w3.org/2000/svg\" xmlns:xlink=\"http://www.w3.org/1999/xlink\">\r\n <metadata>\r\n  <rdf:RDF xmlns:cc=\"http://creativecommons.org/ns#\" xmlns:dc=\"http://purl.org/dc/elements/1.1/\" xmlns:rdf=\"http://www.w3.org/1999/02/22-rdf-syntax-ns#\">\r\n   <cc:Work>\r\n    <dc:type rdf:resource=\"http://purl.org/dc/dcmitype/StillImage\"/>\r\n    <dc:date>2021-04-22T18:55:04.468879</dc:date>\r\n    <dc:format>image/svg+xml</dc:format>\r\n    <dc:creator>\r\n     <cc:Agent>\r\n      <dc:title>Matplotlib v3.3.2, https://matplotlib.org/</dc:title>\r\n     </cc:Agent>\r\n    </dc:creator>\r\n   </cc:Work>\r\n  </rdf:RDF>\r\n </metadata>\r\n <defs>\r\n  <style type=\"text/css\">*{stroke-linecap:butt;stroke-linejoin:round;}</style>\r\n </defs>\r\n <g id=\"figure_1\">\r\n  <g id=\"patch_1\">\r\n   <path d=\"M 0 277.314375 \r\nL 398.50625 277.314375 \r\nL 398.50625 0 \r\nL 0 0 \r\nz\r\n\" style=\"fill:none;\"/>\r\n  </g>\r\n  <g id=\"axes_1\">\r\n   <g id=\"patch_2\">\r\n    <path d=\"M 56.50625 239.758125 \r\nL 391.30625 239.758125 \r\nL 391.30625 22.318125 \r\nL 56.50625 22.318125 \r\nz\r\n\" style=\"fill:#ffffff;\"/>\r\n   </g>\r\n   <g id=\"patch_3\">\r\n    <path clip-path=\"url(#pcadd11308c)\" d=\"M 71.724432 1000.798125 \r\nL 97.088068 1000.798125 \r\nL 97.088068 138.716584 \r\nL 71.724432 138.716584 \r\nz\r\n\" style=\"fill:#ff0000;\"/>\r\n   </g>\r\n   <g id=\"patch_4\">\r\n    <path clip-path=\"url(#pcadd11308c)\" d=\"M 135.133523 1000.798125 \r\nL 160.497159 1000.798125 \r\nL 160.497159 91.598767 \r\nL 135.133523 91.598767 \r\nz\r\n\" style=\"fill:#ff0000;\"/>\r\n   </g>\r\n   <g id=\"patch_5\">\r\n    <path clip-path=\"url(#pcadd11308c)\" d=\"M 198.542614 1000.798125 \r\nL 223.90625 1000.798125 \r\nL 223.90625 166.638253 \r\nL 198.542614 166.638253 \r\nz\r\n\" style=\"fill:#ff0000;\"/>\r\n   </g>\r\n   <g id=\"patch_6\">\r\n    <path clip-path=\"url(#pcadd11308c)\" d=\"M 261.951705 1000.798125 \r\nL 287.315341 1000.798125 \r\nL 287.315341 74.147724 \r\nL 261.951705 74.147724 \r\nz\r\n\" style=\"fill:#ff0000;\"/>\r\n   </g>\r\n   <g id=\"patch_7\">\r\n    <path clip-path=\"url(#pcadd11308c)\" d=\"M 325.360795 1000.798125 \r\nL 350.724432 1000.798125 \r\nL 350.724432 98.579184 \r\nL 325.360795 98.579184 \r\nz\r\n\" style=\"fill:#ff0000;\"/>\r\n   </g>\r\n   <g id=\"patch_8\">\r\n    <path clip-path=\"url(#pcadd11308c)\" d=\"M 97.088068 1000.798125 \r\nL 122.451705 1000.798125 \r\nL 122.451705 124.547379 \r\nL 97.088068 124.547379 \r\nz\r\n\" style=\"fill:#0000ff;\"/>\r\n   </g>\r\n   <g id=\"patch_9\">\r\n    <path clip-path=\"url(#pcadd11308c)\" d=\"M 160.497159 1000.798125 \r\nL 185.860795 1000.798125 \r\nL 185.860795 124.547379 \r\nL 160.497159 124.547379 \r\nz\r\n\" style=\"fill:#0000ff;\"/>\r\n   </g>\r\n   <g id=\"patch_10\">\r\n    <path clip-path=\"url(#pcadd11308c)\" d=\"M 223.90625 1000.798125 \r\nL 249.269886 1000.798125 \r\nL 249.269886 136.717528 \r\nL 223.90625 136.717528 \r\nz\r\n\" style=\"fill:#0000ff;\"/>\r\n   </g>\r\n   <g id=\"patch_11\">\r\n    <path clip-path=\"url(#pcadd11308c)\" d=\"M 287.315341 1000.798125 \r\nL 312.678977 1000.798125 \r\nL 312.678977 120.490662 \r\nL 287.315341 120.490662 \r\nz\r\n\" style=\"fill:#0000ff;\"/>\r\n   </g>\r\n   <g id=\"patch_12\">\r\n    <path clip-path=\"url(#pcadd11308c)\" d=\"M 350.724432 1000.798125 \r\nL 376.088068 1000.798125 \r\nL 376.088068 116.433946 \r\nL 350.724432 116.433946 \r\nz\r\n\" style=\"fill:#0000ff;\"/>\r\n   </g>\r\n   <g id=\"matplotlib.axis_1\">\r\n    <g id=\"xtick_1\">\r\n     <g id=\"line2d_1\">\r\n      <path clip-path=\"url(#pcadd11308c)\" d=\"M 97.088068 239.758125 \r\nL 97.088068 22.318125 \r\n\" style=\"fill:none;stroke:#b0b0b0;stroke-linecap:square;stroke-width:0.8;\"/>\r\n     </g>\r\n     <g id=\"line2d_2\">\r\n      <defs>\r\n       <path d=\"M 0 0 \r\nL 0 3.5 \r\n\" id=\"mbe341ece2d\" style=\"stroke:#000000;stroke-width:0.8;\"/>\r\n      </defs>\r\n      <g>\r\n       <use style=\"stroke:#000000;stroke-width:0.8;\" x=\"97.088068\" xlink:href=\"#mbe341ece2d\" y=\"239.758125\"/>\r\n      </g>\r\n     </g>\r\n     <g id=\"text_1\">\r\n      <!-- LR -->\r\n      <g transform=\"translate(90.827912 254.356562)scale(0.1 -0.1)\">\r\n       <defs>\r\n        <path d=\"M 9.8125 72.90625 \r\nL 19.671875 72.90625 \r\nL 19.671875 8.296875 \r\nL 55.171875 8.296875 \r\nL 55.171875 0 \r\nL 9.8125 0 \r\nz\r\n\" id=\"DejaVuSans-76\"/>\r\n        <path d=\"M 44.390625 34.1875 \r\nQ 47.5625 33.109375 50.5625 29.59375 \r\nQ 53.5625 26.078125 56.59375 19.921875 \r\nL 66.609375 0 \r\nL 56 0 \r\nL 46.6875 18.703125 \r\nQ 43.0625 26.03125 39.671875 28.421875 \r\nQ 36.28125 30.8125 30.421875 30.8125 \r\nL 19.671875 30.8125 \r\nL 19.671875 0 \r\nL 9.8125 0 \r\nL 9.8125 72.90625 \r\nL 32.078125 72.90625 \r\nQ 44.578125 72.90625 50.734375 67.671875 \r\nQ 56.890625 62.453125 56.890625 51.90625 \r\nQ 56.890625 45.015625 53.6875 40.46875 \r\nQ 50.484375 35.9375 44.390625 34.1875 \r\nz\r\nM 19.671875 64.796875 \r\nL 19.671875 38.921875 \r\nL 32.078125 38.921875 \r\nQ 39.203125 38.921875 42.84375 42.21875 \r\nQ 46.484375 45.515625 46.484375 51.90625 \r\nQ 46.484375 58.296875 42.84375 61.546875 \r\nQ 39.203125 64.796875 32.078125 64.796875 \r\nz\r\n\" id=\"DejaVuSans-82\"/>\r\n       </defs>\r\n       <use xlink:href=\"#DejaVuSans-76\"/>\r\n       <use x=\"55.712891\" xlink:href=\"#DejaVuSans-82\"/>\r\n      </g>\r\n     </g>\r\n    </g>\r\n    <g id=\"xtick_2\">\r\n     <g id=\"line2d_3\">\r\n      <path clip-path=\"url(#pcadd11308c)\" d=\"M 160.497159 239.758125 \r\nL 160.497159 22.318125 \r\n\" style=\"fill:none;stroke:#b0b0b0;stroke-linecap:square;stroke-width:0.8;\"/>\r\n     </g>\r\n     <g id=\"line2d_4\">\r\n      <g>\r\n       <use style=\"stroke:#000000;stroke-width:0.8;\" x=\"160.497159\" xlink:href=\"#mbe341ece2d\" y=\"239.758125\"/>\r\n      </g>\r\n     </g>\r\n     <g id=\"text_2\">\r\n      <!-- DT -->\r\n      <g transform=\"translate(153.593253 254.356562)scale(0.1 -0.1)\">\r\n       <defs>\r\n        <path d=\"M 19.671875 64.796875 \r\nL 19.671875 8.109375 \r\nL 31.59375 8.109375 \r\nQ 46.6875 8.109375 53.6875 14.9375 \r\nQ 60.6875 21.78125 60.6875 36.53125 \r\nQ 60.6875 51.171875 53.6875 57.984375 \r\nQ 46.6875 64.796875 31.59375 64.796875 \r\nz\r\nM 9.8125 72.90625 \r\nL 30.078125 72.90625 \r\nQ 51.265625 72.90625 61.171875 64.09375 \r\nQ 71.09375 55.28125 71.09375 36.53125 \r\nQ 71.09375 17.671875 61.125 8.828125 \r\nQ 51.171875 0 30.078125 0 \r\nL 9.8125 0 \r\nz\r\n\" id=\"DejaVuSans-68\"/>\r\n        <path d=\"M -0.296875 72.90625 \r\nL 61.375 72.90625 \r\nL 61.375 64.59375 \r\nL 35.5 64.59375 \r\nL 35.5 0 \r\nL 25.59375 0 \r\nL 25.59375 64.59375 \r\nL -0.296875 64.59375 \r\nz\r\n\" id=\"DejaVuSans-84\"/>\r\n       </defs>\r\n       <use xlink:href=\"#DejaVuSans-68\"/>\r\n       <use x=\"77.001953\" xlink:href=\"#DejaVuSans-84\"/>\r\n      </g>\r\n     </g>\r\n    </g>\r\n    <g id=\"xtick_3\">\r\n     <g id=\"line2d_5\">\r\n      <path clip-path=\"url(#pcadd11308c)\" d=\"M 223.90625 239.758125 \r\nL 223.90625 22.318125 \r\n\" style=\"fill:none;stroke:#b0b0b0;stroke-linecap:square;stroke-width:0.8;\"/>\r\n     </g>\r\n     <g id=\"line2d_6\">\r\n      <g>\r\n       <use style=\"stroke:#000000;stroke-width:0.8;\" x=\"223.90625\" xlink:href=\"#mbe341ece2d\" y=\"239.758125\"/>\r\n      </g>\r\n     </g>\r\n     <g id=\"text_3\">\r\n      <!-- GNB -->\r\n      <g transform=\"translate(212.860938 254.356562)scale(0.1 -0.1)\">\r\n       <defs>\r\n        <path d=\"M 59.515625 10.40625 \r\nL 59.515625 29.984375 \r\nL 43.40625 29.984375 \r\nL 43.40625 38.09375 \r\nL 69.28125 38.09375 \r\nL 69.28125 6.78125 \r\nQ 63.578125 2.734375 56.6875 0.65625 \r\nQ 49.8125 -1.421875 42 -1.421875 \r\nQ 24.90625 -1.421875 15.25 8.5625 \r\nQ 5.609375 18.5625 5.609375 36.375 \r\nQ 5.609375 54.25 15.25 64.234375 \r\nQ 24.90625 74.21875 42 74.21875 \r\nQ 49.125 74.21875 55.546875 72.453125 \r\nQ 61.96875 70.703125 67.390625 67.28125 \r\nL 67.390625 56.78125 \r\nQ 61.921875 61.421875 55.765625 63.765625 \r\nQ 49.609375 66.109375 42.828125 66.109375 \r\nQ 29.4375 66.109375 22.71875 58.640625 \r\nQ 16.015625 51.171875 16.015625 36.375 \r\nQ 16.015625 21.625 22.71875 14.15625 \r\nQ 29.4375 6.6875 42.828125 6.6875 \r\nQ 48.046875 6.6875 52.140625 7.59375 \r\nQ 56.25 8.5 59.515625 10.40625 \r\nz\r\n\" id=\"DejaVuSans-71\"/>\r\n        <path d=\"M 9.8125 72.90625 \r\nL 23.09375 72.90625 \r\nL 55.421875 11.921875 \r\nL 55.421875 72.90625 \r\nL 64.984375 72.90625 \r\nL 64.984375 0 \r\nL 51.703125 0 \r\nL 19.390625 60.984375 \r\nL 19.390625 0 \r\nL 9.8125 0 \r\nz\r\n\" id=\"DejaVuSans-78\"/>\r\n        <path d=\"M 19.671875 34.8125 \r\nL 19.671875 8.109375 \r\nL 35.5 8.109375 \r\nQ 43.453125 8.109375 47.28125 11.40625 \r\nQ 51.125 14.703125 51.125 21.484375 \r\nQ 51.125 28.328125 47.28125 31.5625 \r\nQ 43.453125 34.8125 35.5 34.8125 \r\nz\r\nM 19.671875 64.796875 \r\nL 19.671875 42.828125 \r\nL 34.28125 42.828125 \r\nQ 41.5 42.828125 45.03125 45.53125 \r\nQ 48.578125 48.25 48.578125 53.8125 \r\nQ 48.578125 59.328125 45.03125 62.0625 \r\nQ 41.5 64.796875 34.28125 64.796875 \r\nz\r\nM 9.8125 72.90625 \r\nL 35.015625 72.90625 \r\nQ 46.296875 72.90625 52.390625 68.21875 \r\nQ 58.5 63.53125 58.5 54.890625 \r\nQ 58.5 48.1875 55.375 44.234375 \r\nQ 52.25 40.28125 46.1875 39.3125 \r\nQ 53.46875 37.75 57.5 32.78125 \r\nQ 61.53125 27.828125 61.53125 20.40625 \r\nQ 61.53125 10.640625 54.890625 5.3125 \r\nQ 48.25 0 35.984375 0 \r\nL 9.8125 0 \r\nz\r\n\" id=\"DejaVuSans-66\"/>\r\n       </defs>\r\n       <use xlink:href=\"#DejaVuSans-71\"/>\r\n       <use x=\"77.490234\" xlink:href=\"#DejaVuSans-78\"/>\r\n       <use x=\"152.294922\" xlink:href=\"#DejaVuSans-66\"/>\r\n      </g>\r\n     </g>\r\n    </g>\r\n    <g id=\"xtick_4\">\r\n     <g id=\"line2d_7\">\r\n      <path clip-path=\"url(#pcadd11308c)\" d=\"M 287.315341 239.758125 \r\nL 287.315341 22.318125 \r\n\" style=\"fill:none;stroke:#b0b0b0;stroke-linecap:square;stroke-width:0.8;\"/>\r\n     </g>\r\n     <g id=\"line2d_8\">\r\n      <g>\r\n       <use style=\"stroke:#000000;stroke-width:0.8;\" x=\"287.315341\" xlink:href=\"#mbe341ece2d\" y=\"239.758125\"/>\r\n      </g>\r\n     </g>\r\n     <g id=\"text_4\">\r\n      <!-- KNN -->\r\n      <g transform=\"translate(276.555185 254.356562)scale(0.1 -0.1)\">\r\n       <defs>\r\n        <path d=\"M 9.8125 72.90625 \r\nL 19.671875 72.90625 \r\nL 19.671875 42.09375 \r\nL 52.390625 72.90625 \r\nL 65.09375 72.90625 \r\nL 28.90625 38.921875 \r\nL 67.671875 0 \r\nL 54.6875 0 \r\nL 19.671875 35.109375 \r\nL 19.671875 0 \r\nL 9.8125 0 \r\nz\r\n\" id=\"DejaVuSans-75\"/>\r\n       </defs>\r\n       <use xlink:href=\"#DejaVuSans-75\"/>\r\n       <use x=\"65.576172\" xlink:href=\"#DejaVuSans-78\"/>\r\n       <use x=\"140.380859\" xlink:href=\"#DejaVuSans-78\"/>\r\n      </g>\r\n     </g>\r\n    </g>\r\n    <g id=\"xtick_5\">\r\n     <g id=\"line2d_9\">\r\n      <path clip-path=\"url(#pcadd11308c)\" d=\"M 350.724432 239.758125 \r\nL 350.724432 22.318125 \r\n\" style=\"fill:none;stroke:#b0b0b0;stroke-linecap:square;stroke-width:0.8;\"/>\r\n     </g>\r\n     <g id=\"line2d_10\">\r\n      <g>\r\n       <use style=\"stroke:#000000;stroke-width:0.8;\" x=\"350.724432\" xlink:href=\"#mbe341ece2d\" y=\"239.758125\"/>\r\n      </g>\r\n     </g>\r\n     <g id=\"text_5\">\r\n      <!-- MLP -->\r\n      <g transform=\"translate(340.609588 254.356562)scale(0.1 -0.1)\">\r\n       <defs>\r\n        <path d=\"M 9.8125 72.90625 \r\nL 24.515625 72.90625 \r\nL 43.109375 23.296875 \r\nL 61.8125 72.90625 \r\nL 76.515625 72.90625 \r\nL 76.515625 0 \r\nL 66.890625 0 \r\nL 66.890625 64.015625 \r\nL 48.09375 14.015625 \r\nL 38.1875 14.015625 \r\nL 19.390625 64.015625 \r\nL 19.390625 0 \r\nL 9.8125 0 \r\nz\r\n\" id=\"DejaVuSans-77\"/>\r\n        <path d=\"M 19.671875 64.796875 \r\nL 19.671875 37.40625 \r\nL 32.078125 37.40625 \r\nQ 38.96875 37.40625 42.71875 40.96875 \r\nQ 46.484375 44.53125 46.484375 51.125 \r\nQ 46.484375 57.671875 42.71875 61.234375 \r\nQ 38.96875 64.796875 32.078125 64.796875 \r\nz\r\nM 9.8125 72.90625 \r\nL 32.078125 72.90625 \r\nQ 44.34375 72.90625 50.609375 67.359375 \r\nQ 56.890625 61.8125 56.890625 51.125 \r\nQ 56.890625 40.328125 50.609375 34.8125 \r\nQ 44.34375 29.296875 32.078125 29.296875 \r\nL 19.671875 29.296875 \r\nL 19.671875 0 \r\nL 9.8125 0 \r\nz\r\n\" id=\"DejaVuSans-80\"/>\r\n       </defs>\r\n       <use xlink:href=\"#DejaVuSans-77\"/>\r\n       <use x=\"86.279297\" xlink:href=\"#DejaVuSans-76\"/>\r\n       <use x=\"141.992188\" xlink:href=\"#DejaVuSans-80\"/>\r\n      </g>\r\n     </g>\r\n    </g>\r\n    <g id=\"text_6\">\r\n     <!-- Models -->\r\n     <g transform=\"translate(206.288281 268.034687)scale(0.1 -0.1)\">\r\n      <defs>\r\n       <path d=\"M 30.609375 48.390625 \r\nQ 23.390625 48.390625 19.1875 42.75 \r\nQ 14.984375 37.109375 14.984375 27.296875 \r\nQ 14.984375 17.484375 19.15625 11.84375 \r\nQ 23.34375 6.203125 30.609375 6.203125 \r\nQ 37.796875 6.203125 41.984375 11.859375 \r\nQ 46.1875 17.53125 46.1875 27.296875 \r\nQ 46.1875 37.015625 41.984375 42.703125 \r\nQ 37.796875 48.390625 30.609375 48.390625 \r\nz\r\nM 30.609375 56 \r\nQ 42.328125 56 49.015625 48.375 \r\nQ 55.71875 40.765625 55.71875 27.296875 \r\nQ 55.71875 13.875 49.015625 6.21875 \r\nQ 42.328125 -1.421875 30.609375 -1.421875 \r\nQ 18.84375 -1.421875 12.171875 6.21875 \r\nQ 5.515625 13.875 5.515625 27.296875 \r\nQ 5.515625 40.765625 12.171875 48.375 \r\nQ 18.84375 56 30.609375 56 \r\nz\r\n\" id=\"DejaVuSans-111\"/>\r\n       <path d=\"M 45.40625 46.390625 \r\nL 45.40625 75.984375 \r\nL 54.390625 75.984375 \r\nL 54.390625 0 \r\nL 45.40625 0 \r\nL 45.40625 8.203125 \r\nQ 42.578125 3.328125 38.25 0.953125 \r\nQ 33.9375 -1.421875 27.875 -1.421875 \r\nQ 17.96875 -1.421875 11.734375 6.484375 \r\nQ 5.515625 14.40625 5.515625 27.296875 \r\nQ 5.515625 40.1875 11.734375 48.09375 \r\nQ 17.96875 56 27.875 56 \r\nQ 33.9375 56 38.25 53.625 \r\nQ 42.578125 51.265625 45.40625 46.390625 \r\nz\r\nM 14.796875 27.296875 \r\nQ 14.796875 17.390625 18.875 11.75 \r\nQ 22.953125 6.109375 30.078125 6.109375 \r\nQ 37.203125 6.109375 41.296875 11.75 \r\nQ 45.40625 17.390625 45.40625 27.296875 \r\nQ 45.40625 37.203125 41.296875 42.84375 \r\nQ 37.203125 48.484375 30.078125 48.484375 \r\nQ 22.953125 48.484375 18.875 42.84375 \r\nQ 14.796875 37.203125 14.796875 27.296875 \r\nz\r\n\" id=\"DejaVuSans-100\"/>\r\n       <path d=\"M 56.203125 29.59375 \r\nL 56.203125 25.203125 \r\nL 14.890625 25.203125 \r\nQ 15.484375 15.921875 20.484375 11.0625 \r\nQ 25.484375 6.203125 34.421875 6.203125 \r\nQ 39.59375 6.203125 44.453125 7.46875 \r\nQ 49.3125 8.734375 54.109375 11.28125 \r\nL 54.109375 2.78125 \r\nQ 49.265625 0.734375 44.1875 -0.34375 \r\nQ 39.109375 -1.421875 33.890625 -1.421875 \r\nQ 20.796875 -1.421875 13.15625 6.1875 \r\nQ 5.515625 13.8125 5.515625 26.8125 \r\nQ 5.515625 40.234375 12.765625 48.109375 \r\nQ 20.015625 56 32.328125 56 \r\nQ 43.359375 56 49.78125 48.890625 \r\nQ 56.203125 41.796875 56.203125 29.59375 \r\nz\r\nM 47.21875 32.234375 \r\nQ 47.125 39.59375 43.09375 43.984375 \r\nQ 39.0625 48.390625 32.421875 48.390625 \r\nQ 24.90625 48.390625 20.390625 44.140625 \r\nQ 15.875 39.890625 15.1875 32.171875 \r\nz\r\n\" id=\"DejaVuSans-101\"/>\r\n       <path d=\"M 9.421875 75.984375 \r\nL 18.40625 75.984375 \r\nL 18.40625 0 \r\nL 9.421875 0 \r\nz\r\n\" id=\"DejaVuSans-108\"/>\r\n       <path d=\"M 44.28125 53.078125 \r\nL 44.28125 44.578125 \r\nQ 40.484375 46.53125 36.375 47.5 \r\nQ 32.28125 48.484375 27.875 48.484375 \r\nQ 21.1875 48.484375 17.84375 46.4375 \r\nQ 14.5 44.390625 14.5 40.28125 \r\nQ 14.5 37.15625 16.890625 35.375 \r\nQ 19.28125 33.59375 26.515625 31.984375 \r\nL 29.59375 31.296875 \r\nQ 39.15625 29.25 43.1875 25.515625 \r\nQ 47.21875 21.78125 47.21875 15.09375 \r\nQ 47.21875 7.46875 41.1875 3.015625 \r\nQ 35.15625 -1.421875 24.609375 -1.421875 \r\nQ 20.21875 -1.421875 15.453125 -0.5625 \r\nQ 10.6875 0.296875 5.421875 2 \r\nL 5.421875 11.28125 \r\nQ 10.40625 8.6875 15.234375 7.390625 \r\nQ 20.0625 6.109375 24.8125 6.109375 \r\nQ 31.15625 6.109375 34.5625 8.28125 \r\nQ 37.984375 10.453125 37.984375 14.40625 \r\nQ 37.984375 18.0625 35.515625 20.015625 \r\nQ 33.0625 21.96875 24.703125 23.78125 \r\nL 21.578125 24.515625 \r\nQ 13.234375 26.265625 9.515625 29.90625 \r\nQ 5.8125 33.546875 5.8125 39.890625 \r\nQ 5.8125 47.609375 11.28125 51.796875 \r\nQ 16.75 56 26.8125 56 \r\nQ 31.78125 56 36.171875 55.265625 \r\nQ 40.578125 54.546875 44.28125 53.078125 \r\nz\r\n\" id=\"DejaVuSans-115\"/>\r\n      </defs>\r\n      <use xlink:href=\"#DejaVuSans-77\"/>\r\n      <use x=\"86.279297\" xlink:href=\"#DejaVuSans-111\"/>\r\n      <use x=\"147.460938\" xlink:href=\"#DejaVuSans-100\"/>\r\n      <use x=\"210.9375\" xlink:href=\"#DejaVuSans-101\"/>\r\n      <use x=\"272.460938\" xlink:href=\"#DejaVuSans-108\"/>\r\n      <use x=\"300.244141\" xlink:href=\"#DejaVuSans-115\"/>\r\n     </g>\r\n    </g>\r\n   </g>\r\n   <g id=\"matplotlib.axis_2\">\r\n    <g id=\"ytick_1\">\r\n     <g id=\"line2d_11\">\r\n      <path clip-path=\"url(#pcadd11308c)\" d=\"M 56.50625 239.758125 \r\nL 391.30625 239.758125 \r\n\" style=\"fill:none;stroke:#b0b0b0;stroke-linecap:square;stroke-width:0.8;\"/>\r\n     </g>\r\n     <g id=\"line2d_12\">\r\n      <defs>\r\n       <path d=\"M 0 0 \r\nL -3.5 0 \r\n\" id=\"m91165a770b\" style=\"stroke:#000000;stroke-width:0.8;\"/>\r\n      </defs>\r\n      <g>\r\n       <use style=\"stroke:#000000;stroke-width:0.8;\" x=\"56.50625\" xlink:href=\"#m91165a770b\" y=\"239.758125\"/>\r\n      </g>\r\n     </g>\r\n     <g id=\"text_7\">\r\n      <!-- 0.700 -->\r\n      <g transform=\"translate(20.878125 243.557344)scale(0.1 -0.1)\">\r\n       <defs>\r\n        <path d=\"M 31.78125 66.40625 \r\nQ 24.171875 66.40625 20.328125 58.90625 \r\nQ 16.5 51.421875 16.5 36.375 \r\nQ 16.5 21.390625 20.328125 13.890625 \r\nQ 24.171875 6.390625 31.78125 6.390625 \r\nQ 39.453125 6.390625 43.28125 13.890625 \r\nQ 47.125 21.390625 47.125 36.375 \r\nQ 47.125 51.421875 43.28125 58.90625 \r\nQ 39.453125 66.40625 31.78125 66.40625 \r\nz\r\nM 31.78125 74.21875 \r\nQ 44.046875 74.21875 50.515625 64.515625 \r\nQ 56.984375 54.828125 56.984375 36.375 \r\nQ 56.984375 17.96875 50.515625 8.265625 \r\nQ 44.046875 -1.421875 31.78125 -1.421875 \r\nQ 19.53125 -1.421875 13.0625 8.265625 \r\nQ 6.59375 17.96875 6.59375 36.375 \r\nQ 6.59375 54.828125 13.0625 64.515625 \r\nQ 19.53125 74.21875 31.78125 74.21875 \r\nz\r\n\" id=\"DejaVuSans-48\"/>\r\n        <path d=\"M 10.6875 12.40625 \r\nL 21 12.40625 \r\nL 21 0 \r\nL 10.6875 0 \r\nz\r\n\" id=\"DejaVuSans-46\"/>\r\n        <path d=\"M 8.203125 72.90625 \r\nL 55.078125 72.90625 \r\nL 55.078125 68.703125 \r\nL 28.609375 0 \r\nL 18.3125 0 \r\nL 43.21875 64.59375 \r\nL 8.203125 64.59375 \r\nz\r\n\" id=\"DejaVuSans-55\"/>\r\n       </defs>\r\n       <use xlink:href=\"#DejaVuSans-48\"/>\r\n       <use x=\"63.623047\" xlink:href=\"#DejaVuSans-46\"/>\r\n       <use x=\"95.410156\" xlink:href=\"#DejaVuSans-55\"/>\r\n       <use x=\"159.033203\" xlink:href=\"#DejaVuSans-48\"/>\r\n       <use x=\"222.65625\" xlink:href=\"#DejaVuSans-48\"/>\r\n      </g>\r\n     </g>\r\n    </g>\r\n    <g id=\"ytick_2\">\r\n     <g id=\"line2d_13\">\r\n      <path clip-path=\"url(#pcadd11308c)\" d=\"M 56.50625 212.578125 \r\nL 391.30625 212.578125 \r\n\" style=\"fill:none;stroke:#b0b0b0;stroke-linecap:square;stroke-width:0.8;\"/>\r\n     </g>\r\n     <g id=\"line2d_14\">\r\n      <g>\r\n       <use style=\"stroke:#000000;stroke-width:0.8;\" x=\"56.50625\" xlink:href=\"#m91165a770b\" y=\"212.578125\"/>\r\n      </g>\r\n     </g>\r\n     <g id=\"text_8\">\r\n      <!-- 0.725 -->\r\n      <g transform=\"translate(20.878125 216.377344)scale(0.1 -0.1)\">\r\n       <defs>\r\n        <path d=\"M 19.1875 8.296875 \r\nL 53.609375 8.296875 \r\nL 53.609375 0 \r\nL 7.328125 0 \r\nL 7.328125 8.296875 \r\nQ 12.9375 14.109375 22.625 23.890625 \r\nQ 32.328125 33.6875 34.8125 36.53125 \r\nQ 39.546875 41.84375 41.421875 45.53125 \r\nQ 43.3125 49.21875 43.3125 52.78125 \r\nQ 43.3125 58.59375 39.234375 62.25 \r\nQ 35.15625 65.921875 28.609375 65.921875 \r\nQ 23.96875 65.921875 18.8125 64.3125 \r\nQ 13.671875 62.703125 7.8125 59.421875 \r\nL 7.8125 69.390625 \r\nQ 13.765625 71.78125 18.9375 73 \r\nQ 24.125 74.21875 28.421875 74.21875 \r\nQ 39.75 74.21875 46.484375 68.546875 \r\nQ 53.21875 62.890625 53.21875 53.421875 \r\nQ 53.21875 48.921875 51.53125 44.890625 \r\nQ 49.859375 40.875 45.40625 35.40625 \r\nQ 44.1875 33.984375 37.640625 27.21875 \r\nQ 31.109375 20.453125 19.1875 8.296875 \r\nz\r\n\" id=\"DejaVuSans-50\"/>\r\n        <path d=\"M 10.796875 72.90625 \r\nL 49.515625 72.90625 \r\nL 49.515625 64.59375 \r\nL 19.828125 64.59375 \r\nL 19.828125 46.734375 \r\nQ 21.96875 47.46875 24.109375 47.828125 \r\nQ 26.265625 48.1875 28.421875 48.1875 \r\nQ 40.625 48.1875 47.75 41.5 \r\nQ 54.890625 34.8125 54.890625 23.390625 \r\nQ 54.890625 11.625 47.5625 5.09375 \r\nQ 40.234375 -1.421875 26.90625 -1.421875 \r\nQ 22.3125 -1.421875 17.546875 -0.640625 \r\nQ 12.796875 0.140625 7.71875 1.703125 \r\nL 7.71875 11.625 \r\nQ 12.109375 9.234375 16.796875 8.0625 \r\nQ 21.484375 6.890625 26.703125 6.890625 \r\nQ 35.15625 6.890625 40.078125 11.328125 \r\nQ 45.015625 15.765625 45.015625 23.390625 \r\nQ 45.015625 31 40.078125 35.4375 \r\nQ 35.15625 39.890625 26.703125 39.890625 \r\nQ 22.75 39.890625 18.8125 39.015625 \r\nQ 14.890625 38.140625 10.796875 36.28125 \r\nz\r\n\" id=\"DejaVuSans-53\"/>\r\n       </defs>\r\n       <use xlink:href=\"#DejaVuSans-48\"/>\r\n       <use x=\"63.623047\" xlink:href=\"#DejaVuSans-46\"/>\r\n       <use x=\"95.410156\" xlink:href=\"#DejaVuSans-55\"/>\r\n       <use x=\"159.033203\" xlink:href=\"#DejaVuSans-50\"/>\r\n       <use x=\"222.65625\" xlink:href=\"#DejaVuSans-53\"/>\r\n      </g>\r\n     </g>\r\n    </g>\r\n    <g id=\"ytick_3\">\r\n     <g id=\"line2d_15\">\r\n      <path clip-path=\"url(#pcadd11308c)\" d=\"M 56.50625 185.398125 \r\nL 391.30625 185.398125 \r\n\" style=\"fill:none;stroke:#b0b0b0;stroke-linecap:square;stroke-width:0.8;\"/>\r\n     </g>\r\n     <g id=\"line2d_16\">\r\n      <g>\r\n       <use style=\"stroke:#000000;stroke-width:0.8;\" x=\"56.50625\" xlink:href=\"#m91165a770b\" y=\"185.398125\"/>\r\n      </g>\r\n     </g>\r\n     <g id=\"text_9\">\r\n      <!-- 0.750 -->\r\n      <g transform=\"translate(20.878125 189.197344)scale(0.1 -0.1)\">\r\n       <use xlink:href=\"#DejaVuSans-48\"/>\r\n       <use x=\"63.623047\" xlink:href=\"#DejaVuSans-46\"/>\r\n       <use x=\"95.410156\" xlink:href=\"#DejaVuSans-55\"/>\r\n       <use x=\"159.033203\" xlink:href=\"#DejaVuSans-53\"/>\r\n       <use x=\"222.65625\" xlink:href=\"#DejaVuSans-48\"/>\r\n      </g>\r\n     </g>\r\n    </g>\r\n    <g id=\"ytick_4\">\r\n     <g id=\"line2d_17\">\r\n      <path clip-path=\"url(#pcadd11308c)\" d=\"M 56.50625 158.218125 \r\nL 391.30625 158.218125 \r\n\" style=\"fill:none;stroke:#b0b0b0;stroke-linecap:square;stroke-width:0.8;\"/>\r\n     </g>\r\n     <g id=\"line2d_18\">\r\n      <g>\r\n       <use style=\"stroke:#000000;stroke-width:0.8;\" x=\"56.50625\" xlink:href=\"#m91165a770b\" y=\"158.218125\"/>\r\n      </g>\r\n     </g>\r\n     <g id=\"text_10\">\r\n      <!-- 0.775 -->\r\n      <g transform=\"translate(20.878125 162.017344)scale(0.1 -0.1)\">\r\n       <use xlink:href=\"#DejaVuSans-48\"/>\r\n       <use x=\"63.623047\" xlink:href=\"#DejaVuSans-46\"/>\r\n       <use x=\"95.410156\" xlink:href=\"#DejaVuSans-55\"/>\r\n       <use x=\"159.033203\" xlink:href=\"#DejaVuSans-55\"/>\r\n       <use x=\"222.65625\" xlink:href=\"#DejaVuSans-53\"/>\r\n      </g>\r\n     </g>\r\n    </g>\r\n    <g id=\"ytick_5\">\r\n     <g id=\"line2d_19\">\r\n      <path clip-path=\"url(#pcadd11308c)\" d=\"M 56.50625 131.038125 \r\nL 391.30625 131.038125 \r\n\" style=\"fill:none;stroke:#b0b0b0;stroke-linecap:square;stroke-width:0.8;\"/>\r\n     </g>\r\n     <g id=\"line2d_20\">\r\n      <g>\r\n       <use style=\"stroke:#000000;stroke-width:0.8;\" x=\"56.50625\" xlink:href=\"#m91165a770b\" y=\"131.038125\"/>\r\n      </g>\r\n     </g>\r\n     <g id=\"text_11\">\r\n      <!-- 0.800 -->\r\n      <g transform=\"translate(20.878125 134.837344)scale(0.1 -0.1)\">\r\n       <defs>\r\n        <path d=\"M 31.78125 34.625 \r\nQ 24.75 34.625 20.71875 30.859375 \r\nQ 16.703125 27.09375 16.703125 20.515625 \r\nQ 16.703125 13.921875 20.71875 10.15625 \r\nQ 24.75 6.390625 31.78125 6.390625 \r\nQ 38.8125 6.390625 42.859375 10.171875 \r\nQ 46.921875 13.96875 46.921875 20.515625 \r\nQ 46.921875 27.09375 42.890625 30.859375 \r\nQ 38.875 34.625 31.78125 34.625 \r\nz\r\nM 21.921875 38.8125 \r\nQ 15.578125 40.375 12.03125 44.71875 \r\nQ 8.5 49.078125 8.5 55.328125 \r\nQ 8.5 64.0625 14.71875 69.140625 \r\nQ 20.953125 74.21875 31.78125 74.21875 \r\nQ 42.671875 74.21875 48.875 69.140625 \r\nQ 55.078125 64.0625 55.078125 55.328125 \r\nQ 55.078125 49.078125 51.53125 44.71875 \r\nQ 48 40.375 41.703125 38.8125 \r\nQ 48.828125 37.15625 52.796875 32.3125 \r\nQ 56.78125 27.484375 56.78125 20.515625 \r\nQ 56.78125 9.90625 50.3125 4.234375 \r\nQ 43.84375 -1.421875 31.78125 -1.421875 \r\nQ 19.734375 -1.421875 13.25 4.234375 \r\nQ 6.78125 9.90625 6.78125 20.515625 \r\nQ 6.78125 27.484375 10.78125 32.3125 \r\nQ 14.796875 37.15625 21.921875 38.8125 \r\nz\r\nM 18.3125 54.390625 \r\nQ 18.3125 48.734375 21.84375 45.5625 \r\nQ 25.390625 42.390625 31.78125 42.390625 \r\nQ 38.140625 42.390625 41.71875 45.5625 \r\nQ 45.3125 48.734375 45.3125 54.390625 \r\nQ 45.3125 60.0625 41.71875 63.234375 \r\nQ 38.140625 66.40625 31.78125 66.40625 \r\nQ 25.390625 66.40625 21.84375 63.234375 \r\nQ 18.3125 60.0625 18.3125 54.390625 \r\nz\r\n\" id=\"DejaVuSans-56\"/>\r\n       </defs>\r\n       <use xlink:href=\"#DejaVuSans-48\"/>\r\n       <use x=\"63.623047\" xlink:href=\"#DejaVuSans-46\"/>\r\n       <use x=\"95.410156\" xlink:href=\"#DejaVuSans-56\"/>\r\n       <use x=\"159.033203\" xlink:href=\"#DejaVuSans-48\"/>\r\n       <use x=\"222.65625\" xlink:href=\"#DejaVuSans-48\"/>\r\n      </g>\r\n     </g>\r\n    </g>\r\n    <g id=\"ytick_6\">\r\n     <g id=\"line2d_21\">\r\n      <path clip-path=\"url(#pcadd11308c)\" d=\"M 56.50625 103.858125 \r\nL 391.30625 103.858125 \r\n\" style=\"fill:none;stroke:#b0b0b0;stroke-linecap:square;stroke-width:0.8;\"/>\r\n     </g>\r\n     <g id=\"line2d_22\">\r\n      <g>\r\n       <use style=\"stroke:#000000;stroke-width:0.8;\" x=\"56.50625\" xlink:href=\"#m91165a770b\" y=\"103.858125\"/>\r\n      </g>\r\n     </g>\r\n     <g id=\"text_12\">\r\n      <!-- 0.825 -->\r\n      <g transform=\"translate(20.878125 107.657344)scale(0.1 -0.1)\">\r\n       <use xlink:href=\"#DejaVuSans-48\"/>\r\n       <use x=\"63.623047\" xlink:href=\"#DejaVuSans-46\"/>\r\n       <use x=\"95.410156\" xlink:href=\"#DejaVuSans-56\"/>\r\n       <use x=\"159.033203\" xlink:href=\"#DejaVuSans-50\"/>\r\n       <use x=\"222.65625\" xlink:href=\"#DejaVuSans-53\"/>\r\n      </g>\r\n     </g>\r\n    </g>\r\n    <g id=\"ytick_7\">\r\n     <g id=\"line2d_23\">\r\n      <path clip-path=\"url(#pcadd11308c)\" d=\"M 56.50625 76.678125 \r\nL 391.30625 76.678125 \r\n\" style=\"fill:none;stroke:#b0b0b0;stroke-linecap:square;stroke-width:0.8;\"/>\r\n     </g>\r\n     <g id=\"line2d_24\">\r\n      <g>\r\n       <use style=\"stroke:#000000;stroke-width:0.8;\" x=\"56.50625\" xlink:href=\"#m91165a770b\" y=\"76.678125\"/>\r\n      </g>\r\n     </g>\r\n     <g id=\"text_13\">\r\n      <!-- 0.850 -->\r\n      <g transform=\"translate(20.878125 80.477344)scale(0.1 -0.1)\">\r\n       <use xlink:href=\"#DejaVuSans-48\"/>\r\n       <use x=\"63.623047\" xlink:href=\"#DejaVuSans-46\"/>\r\n       <use x=\"95.410156\" xlink:href=\"#DejaVuSans-56\"/>\r\n       <use x=\"159.033203\" xlink:href=\"#DejaVuSans-53\"/>\r\n       <use x=\"222.65625\" xlink:href=\"#DejaVuSans-48\"/>\r\n      </g>\r\n     </g>\r\n    </g>\r\n    <g id=\"ytick_8\">\r\n     <g id=\"line2d_25\">\r\n      <path clip-path=\"url(#pcadd11308c)\" d=\"M 56.50625 49.498125 \r\nL 391.30625 49.498125 \r\n\" style=\"fill:none;stroke:#b0b0b0;stroke-linecap:square;stroke-width:0.8;\"/>\r\n     </g>\r\n     <g id=\"line2d_26\">\r\n      <g>\r\n       <use style=\"stroke:#000000;stroke-width:0.8;\" x=\"56.50625\" xlink:href=\"#m91165a770b\" y=\"49.498125\"/>\r\n      </g>\r\n     </g>\r\n     <g id=\"text_14\">\r\n      <!-- 0.875 -->\r\n      <g transform=\"translate(20.878125 53.297344)scale(0.1 -0.1)\">\r\n       <use xlink:href=\"#DejaVuSans-48\"/>\r\n       <use x=\"63.623047\" xlink:href=\"#DejaVuSans-46\"/>\r\n       <use x=\"95.410156\" xlink:href=\"#DejaVuSans-56\"/>\r\n       <use x=\"159.033203\" xlink:href=\"#DejaVuSans-55\"/>\r\n       <use x=\"222.65625\" xlink:href=\"#DejaVuSans-53\"/>\r\n      </g>\r\n     </g>\r\n    </g>\r\n    <g id=\"ytick_9\">\r\n     <g id=\"line2d_27\">\r\n      <path clip-path=\"url(#pcadd11308c)\" d=\"M 56.50625 22.318125 \r\nL 391.30625 22.318125 \r\n\" style=\"fill:none;stroke:#b0b0b0;stroke-linecap:square;stroke-width:0.8;\"/>\r\n     </g>\r\n     <g id=\"line2d_28\">\r\n      <g>\r\n       <use style=\"stroke:#000000;stroke-width:0.8;\" x=\"56.50625\" xlink:href=\"#m91165a770b\" y=\"22.318125\"/>\r\n      </g>\r\n     </g>\r\n     <g id=\"text_15\">\r\n      <!-- 0.900 -->\r\n      <g transform=\"translate(20.878125 26.117344)scale(0.1 -0.1)\">\r\n       <defs>\r\n        <path d=\"M 10.984375 1.515625 \r\nL 10.984375 10.5 \r\nQ 14.703125 8.734375 18.5 7.8125 \r\nQ 22.3125 6.890625 25.984375 6.890625 \r\nQ 35.75 6.890625 40.890625 13.453125 \r\nQ 46.046875 20.015625 46.78125 33.40625 \r\nQ 43.953125 29.203125 39.59375 26.953125 \r\nQ 35.25 24.703125 29.984375 24.703125 \r\nQ 19.046875 24.703125 12.671875 31.3125 \r\nQ 6.296875 37.9375 6.296875 49.421875 \r\nQ 6.296875 60.640625 12.9375 67.421875 \r\nQ 19.578125 74.21875 30.609375 74.21875 \r\nQ 43.265625 74.21875 49.921875 64.515625 \r\nQ 56.59375 54.828125 56.59375 36.375 \r\nQ 56.59375 19.140625 48.40625 8.859375 \r\nQ 40.234375 -1.421875 26.421875 -1.421875 \r\nQ 22.703125 -1.421875 18.890625 -0.6875 \r\nQ 15.09375 0.046875 10.984375 1.515625 \r\nz\r\nM 30.609375 32.421875 \r\nQ 37.25 32.421875 41.125 36.953125 \r\nQ 45.015625 41.5 45.015625 49.421875 \r\nQ 45.015625 57.28125 41.125 61.84375 \r\nQ 37.25 66.40625 30.609375 66.40625 \r\nQ 23.96875 66.40625 20.09375 61.84375 \r\nQ 16.21875 57.28125 16.21875 49.421875 \r\nQ 16.21875 41.5 20.09375 36.953125 \r\nQ 23.96875 32.421875 30.609375 32.421875 \r\nz\r\n\" id=\"DejaVuSans-57\"/>\r\n       </defs>\r\n       <use xlink:href=\"#DejaVuSans-48\"/>\r\n       <use x=\"63.623047\" xlink:href=\"#DejaVuSans-46\"/>\r\n       <use x=\"95.410156\" xlink:href=\"#DejaVuSans-57\"/>\r\n       <use x=\"159.033203\" xlink:href=\"#DejaVuSans-48\"/>\r\n       <use x=\"222.65625\" xlink:href=\"#DejaVuSans-48\"/>\r\n      </g>\r\n     </g>\r\n    </g>\r\n    <g id=\"text_16\">\r\n     <!-- Accuracy -->\r\n     <g transform=\"translate(14.798437 153.86625)rotate(-90)scale(0.1 -0.1)\">\r\n      <defs>\r\n       <path d=\"M 34.1875 63.1875 \r\nL 20.796875 26.90625 \r\nL 47.609375 26.90625 \r\nz\r\nM 28.609375 72.90625 \r\nL 39.796875 72.90625 \r\nL 67.578125 0 \r\nL 57.328125 0 \r\nL 50.6875 18.703125 \r\nL 17.828125 18.703125 \r\nL 11.1875 0 \r\nL 0.78125 0 \r\nz\r\n\" id=\"DejaVuSans-65\"/>\r\n       <path d=\"M 48.78125 52.59375 \r\nL 48.78125 44.1875 \r\nQ 44.96875 46.296875 41.140625 47.34375 \r\nQ 37.3125 48.390625 33.40625 48.390625 \r\nQ 24.65625 48.390625 19.8125 42.84375 \r\nQ 14.984375 37.3125 14.984375 27.296875 \r\nQ 14.984375 17.28125 19.8125 11.734375 \r\nQ 24.65625 6.203125 33.40625 6.203125 \r\nQ 37.3125 6.203125 41.140625 7.25 \r\nQ 44.96875 8.296875 48.78125 10.40625 \r\nL 48.78125 2.09375 \r\nQ 45.015625 0.34375 40.984375 -0.53125 \r\nQ 36.96875 -1.421875 32.421875 -1.421875 \r\nQ 20.0625 -1.421875 12.78125 6.34375 \r\nQ 5.515625 14.109375 5.515625 27.296875 \r\nQ 5.515625 40.671875 12.859375 48.328125 \r\nQ 20.21875 56 33.015625 56 \r\nQ 37.15625 56 41.109375 55.140625 \r\nQ 45.0625 54.296875 48.78125 52.59375 \r\nz\r\n\" id=\"DejaVuSans-99\"/>\r\n       <path d=\"M 8.5 21.578125 \r\nL 8.5 54.6875 \r\nL 17.484375 54.6875 \r\nL 17.484375 21.921875 \r\nQ 17.484375 14.15625 20.5 10.265625 \r\nQ 23.53125 6.390625 29.59375 6.390625 \r\nQ 36.859375 6.390625 41.078125 11.03125 \r\nQ 45.3125 15.671875 45.3125 23.6875 \r\nL 45.3125 54.6875 \r\nL 54.296875 54.6875 \r\nL 54.296875 0 \r\nL 45.3125 0 \r\nL 45.3125 8.40625 \r\nQ 42.046875 3.421875 37.71875 1 \r\nQ 33.40625 -1.421875 27.6875 -1.421875 \r\nQ 18.265625 -1.421875 13.375 4.4375 \r\nQ 8.5 10.296875 8.5 21.578125 \r\nz\r\nM 31.109375 56 \r\nz\r\n\" id=\"DejaVuSans-117\"/>\r\n       <path d=\"M 41.109375 46.296875 \r\nQ 39.59375 47.171875 37.8125 47.578125 \r\nQ 36.03125 48 33.890625 48 \r\nQ 26.265625 48 22.1875 43.046875 \r\nQ 18.109375 38.09375 18.109375 28.8125 \r\nL 18.109375 0 \r\nL 9.078125 0 \r\nL 9.078125 54.6875 \r\nL 18.109375 54.6875 \r\nL 18.109375 46.1875 \r\nQ 20.953125 51.171875 25.484375 53.578125 \r\nQ 30.03125 56 36.53125 56 \r\nQ 37.453125 56 38.578125 55.875 \r\nQ 39.703125 55.765625 41.0625 55.515625 \r\nz\r\n\" id=\"DejaVuSans-114\"/>\r\n       <path d=\"M 34.28125 27.484375 \r\nQ 23.390625 27.484375 19.1875 25 \r\nQ 14.984375 22.515625 14.984375 16.5 \r\nQ 14.984375 11.71875 18.140625 8.90625 \r\nQ 21.296875 6.109375 26.703125 6.109375 \r\nQ 34.1875 6.109375 38.703125 11.40625 \r\nQ 43.21875 16.703125 43.21875 25.484375 \r\nL 43.21875 27.484375 \r\nz\r\nM 52.203125 31.203125 \r\nL 52.203125 0 \r\nL 43.21875 0 \r\nL 43.21875 8.296875 \r\nQ 40.140625 3.328125 35.546875 0.953125 \r\nQ 30.953125 -1.421875 24.3125 -1.421875 \r\nQ 15.921875 -1.421875 10.953125 3.296875 \r\nQ 6 8.015625 6 15.921875 \r\nQ 6 25.140625 12.171875 29.828125 \r\nQ 18.359375 34.515625 30.609375 34.515625 \r\nL 43.21875 34.515625 \r\nL 43.21875 35.40625 \r\nQ 43.21875 41.609375 39.140625 45 \r\nQ 35.0625 48.390625 27.6875 48.390625 \r\nQ 23 48.390625 18.546875 47.265625 \r\nQ 14.109375 46.140625 10.015625 43.890625 \r\nL 10.015625 52.203125 \r\nQ 14.9375 54.109375 19.578125 55.046875 \r\nQ 24.21875 56 28.609375 56 \r\nQ 40.484375 56 46.34375 49.84375 \r\nQ 52.203125 43.703125 52.203125 31.203125 \r\nz\r\n\" id=\"DejaVuSans-97\"/>\r\n       <path d=\"M 32.171875 -5.078125 \r\nQ 28.375 -14.84375 24.75 -17.8125 \r\nQ 21.140625 -20.796875 15.09375 -20.796875 \r\nL 7.90625 -20.796875 \r\nL 7.90625 -13.28125 \r\nL 13.1875 -13.28125 \r\nQ 16.890625 -13.28125 18.9375 -11.515625 \r\nQ 21 -9.765625 23.484375 -3.21875 \r\nL 25.09375 0.875 \r\nL 2.984375 54.6875 \r\nL 12.5 54.6875 \r\nL 29.59375 11.921875 \r\nL 46.6875 54.6875 \r\nL 56.203125 54.6875 \r\nz\r\n\" id=\"DejaVuSans-121\"/>\r\n      </defs>\r\n      <use xlink:href=\"#DejaVuSans-65\"/>\r\n      <use x=\"66.658203\" xlink:href=\"#DejaVuSans-99\"/>\r\n      <use x=\"121.638672\" xlink:href=\"#DejaVuSans-99\"/>\r\n      <use x=\"176.619141\" xlink:href=\"#DejaVuSans-117\"/>\r\n      <use x=\"239.998047\" xlink:href=\"#DejaVuSans-114\"/>\r\n      <use x=\"281.111328\" xlink:href=\"#DejaVuSans-97\"/>\r\n      <use x=\"342.390625\" xlink:href=\"#DejaVuSans-99\"/>\r\n      <use x=\"397.371094\" xlink:href=\"#DejaVuSans-121\"/>\r\n     </g>\r\n    </g>\r\n   </g>\r\n   <g id=\"patch_13\">\r\n    <path d=\"M 56.50625 239.758125 \r\nL 56.50625 22.318125 \r\n\" style=\"fill:none;stroke:#000000;stroke-linecap:square;stroke-linejoin:miter;stroke-width:0.8;\"/>\r\n   </g>\r\n   <g id=\"patch_14\">\r\n    <path d=\"M 391.30625 239.758125 \r\nL 391.30625 22.318125 \r\n\" style=\"fill:none;stroke:#000000;stroke-linecap:square;stroke-linejoin:miter;stroke-width:0.8;\"/>\r\n   </g>\r\n   <g id=\"patch_15\">\r\n    <path d=\"M 56.50625 239.758125 \r\nL 391.30625 239.758125 \r\n\" style=\"fill:none;stroke:#000000;stroke-linecap:square;stroke-linejoin:miter;stroke-width:0.8;\"/>\r\n   </g>\r\n   <g id=\"patch_16\">\r\n    <path d=\"M 56.50625 22.318125 \r\nL 391.30625 22.318125 \r\n\" style=\"fill:none;stroke:#000000;stroke-linecap:square;stroke-linejoin:miter;stroke-width:0.8;\"/>\r\n   </g>\r\n   <g id=\"text_17\">\r\n    <!-- Predict survival on the Titanic -->\r\n    <g transform=\"translate(134.845625 16.318125)scale(0.12 -0.12)\">\r\n     <defs>\r\n      <path d=\"M 9.421875 54.6875 \r\nL 18.40625 54.6875 \r\nL 18.40625 0 \r\nL 9.421875 0 \r\nz\r\nM 9.421875 75.984375 \r\nL 18.40625 75.984375 \r\nL 18.40625 64.59375 \r\nL 9.421875 64.59375 \r\nz\r\n\" id=\"DejaVuSans-105\"/>\r\n      <path d=\"M 18.3125 70.21875 \r\nL 18.3125 54.6875 \r\nL 36.8125 54.6875 \r\nL 36.8125 47.703125 \r\nL 18.3125 47.703125 \r\nL 18.3125 18.015625 \r\nQ 18.3125 11.328125 20.140625 9.421875 \r\nQ 21.96875 7.515625 27.59375 7.515625 \r\nL 36.8125 7.515625 \r\nL 36.8125 0 \r\nL 27.59375 0 \r\nQ 17.1875 0 13.234375 3.875 \r\nQ 9.28125 7.765625 9.28125 18.015625 \r\nL 9.28125 47.703125 \r\nL 2.6875 47.703125 \r\nL 2.6875 54.6875 \r\nL 9.28125 54.6875 \r\nL 9.28125 70.21875 \r\nz\r\n\" id=\"DejaVuSans-116\"/>\r\n      <path id=\"DejaVuSans-32\"/>\r\n      <path d=\"M 2.984375 54.6875 \r\nL 12.5 54.6875 \r\nL 29.59375 8.796875 \r\nL 46.6875 54.6875 \r\nL 56.203125 54.6875 \r\nL 35.6875 0 \r\nL 23.484375 0 \r\nz\r\n\" id=\"DejaVuSans-118\"/>\r\n      <path d=\"M 54.890625 33.015625 \r\nL 54.890625 0 \r\nL 45.90625 0 \r\nL 45.90625 32.71875 \r\nQ 45.90625 40.484375 42.875 44.328125 \r\nQ 39.84375 48.1875 33.796875 48.1875 \r\nQ 26.515625 48.1875 22.3125 43.546875 \r\nQ 18.109375 38.921875 18.109375 30.90625 \r\nL 18.109375 0 \r\nL 9.078125 0 \r\nL 9.078125 54.6875 \r\nL 18.109375 54.6875 \r\nL 18.109375 46.1875 \r\nQ 21.34375 51.125 25.703125 53.5625 \r\nQ 30.078125 56 35.796875 56 \r\nQ 45.21875 56 50.046875 50.171875 \r\nQ 54.890625 44.34375 54.890625 33.015625 \r\nz\r\n\" id=\"DejaVuSans-110\"/>\r\n      <path d=\"M 54.890625 33.015625 \r\nL 54.890625 0 \r\nL 45.90625 0 \r\nL 45.90625 32.71875 \r\nQ 45.90625 40.484375 42.875 44.328125 \r\nQ 39.84375 48.1875 33.796875 48.1875 \r\nQ 26.515625 48.1875 22.3125 43.546875 \r\nQ 18.109375 38.921875 18.109375 30.90625 \r\nL 18.109375 0 \r\nL 9.078125 0 \r\nL 9.078125 75.984375 \r\nL 18.109375 75.984375 \r\nL 18.109375 46.1875 \r\nQ 21.34375 51.125 25.703125 53.5625 \r\nQ 30.078125 56 35.796875 56 \r\nQ 45.21875 56 50.046875 50.171875 \r\nQ 54.890625 44.34375 54.890625 33.015625 \r\nz\r\n\" id=\"DejaVuSans-104\"/>\r\n     </defs>\r\n     <use xlink:href=\"#DejaVuSans-80\"/>\r\n     <use x=\"58.552734\" xlink:href=\"#DejaVuSans-114\"/>\r\n     <use x=\"97.416016\" xlink:href=\"#DejaVuSans-101\"/>\r\n     <use x=\"158.939453\" xlink:href=\"#DejaVuSans-100\"/>\r\n     <use x=\"222.416016\" xlink:href=\"#DejaVuSans-105\"/>\r\n     <use x=\"250.199219\" xlink:href=\"#DejaVuSans-99\"/>\r\n     <use x=\"305.179688\" xlink:href=\"#DejaVuSans-116\"/>\r\n     <use x=\"344.388672\" xlink:href=\"#DejaVuSans-32\"/>\r\n     <use x=\"376.175781\" xlink:href=\"#DejaVuSans-115\"/>\r\n     <use x=\"428.275391\" xlink:href=\"#DejaVuSans-117\"/>\r\n     <use x=\"491.654297\" xlink:href=\"#DejaVuSans-114\"/>\r\n     <use x=\"532.767578\" xlink:href=\"#DejaVuSans-118\"/>\r\n     <use x=\"591.947266\" xlink:href=\"#DejaVuSans-105\"/>\r\n     <use x=\"619.730469\" xlink:href=\"#DejaVuSans-118\"/>\r\n     <use x=\"678.910156\" xlink:href=\"#DejaVuSans-97\"/>\r\n     <use x=\"740.189453\" xlink:href=\"#DejaVuSans-108\"/>\r\n     <use x=\"767.972656\" xlink:href=\"#DejaVuSans-32\"/>\r\n     <use x=\"799.759766\" xlink:href=\"#DejaVuSans-111\"/>\r\n     <use x=\"860.941406\" xlink:href=\"#DejaVuSans-110\"/>\r\n     <use x=\"924.320312\" xlink:href=\"#DejaVuSans-32\"/>\r\n     <use x=\"956.107422\" xlink:href=\"#DejaVuSans-116\"/>\r\n     <use x=\"995.316406\" xlink:href=\"#DejaVuSans-104\"/>\r\n     <use x=\"1058.695312\" xlink:href=\"#DejaVuSans-101\"/>\r\n     <use x=\"1120.21875\" xlink:href=\"#DejaVuSans-32\"/>\r\n     <use x=\"1152.005859\" xlink:href=\"#DejaVuSans-84\"/>\r\n     <use x=\"1209.964844\" xlink:href=\"#DejaVuSans-105\"/>\r\n     <use x=\"1237.748047\" xlink:href=\"#DejaVuSans-116\"/>\r\n     <use x=\"1276.957031\" xlink:href=\"#DejaVuSans-97\"/>\r\n     <use x=\"1338.236328\" xlink:href=\"#DejaVuSans-110\"/>\r\n     <use x=\"1401.615234\" xlink:href=\"#DejaVuSans-105\"/>\r\n     <use x=\"1429.398438\" xlink:href=\"#DejaVuSans-99\"/>\r\n    </g>\r\n   </g>\r\n   <g id=\"legend_1\">\r\n    <g id=\"patch_17\">\r\n     <path d=\"M 328.31875 59.674375 \r\nL 384.30625 59.674375 \r\nQ 386.30625 59.674375 386.30625 57.674375 \r\nL 386.30625 29.318125 \r\nQ 386.30625 27.318125 384.30625 27.318125 \r\nL 328.31875 27.318125 \r\nQ 326.31875 27.318125 326.31875 29.318125 \r\nL 326.31875 57.674375 \r\nQ 326.31875 59.674375 328.31875 59.674375 \r\nz\r\n\" style=\"fill:#ffffff;opacity:0.8;stroke:#cccccc;stroke-linejoin:miter;\"/>\r\n    </g>\r\n    <g id=\"patch_18\">\r\n     <path d=\"M 330.31875 38.916562 \r\nL 350.31875 38.916562 \r\nL 350.31875 31.916562 \r\nL 330.31875 31.916562 \r\nz\r\n\" style=\"fill:#ff0000;\"/>\r\n    </g>\r\n    <g id=\"text_18\">\r\n     <!-- Train -->\r\n     <g transform=\"translate(358.31875 38.916562)scale(0.1 -0.1)\">\r\n      <use xlink:href=\"#DejaVuSans-84\"/>\r\n      <use x=\"46.333984\" xlink:href=\"#DejaVuSans-114\"/>\r\n      <use x=\"87.447266\" xlink:href=\"#DejaVuSans-97\"/>\r\n      <use x=\"148.726562\" xlink:href=\"#DejaVuSans-105\"/>\r\n      <use x=\"176.509766\" xlink:href=\"#DejaVuSans-110\"/>\r\n     </g>\r\n    </g>\r\n    <g id=\"patch_19\">\r\n     <path d=\"M 330.31875 53.594687 \r\nL 350.31875 53.594687 \r\nL 350.31875 46.594687 \r\nL 330.31875 46.594687 \r\nz\r\n\" style=\"fill:#0000ff;\"/>\r\n    </g>\r\n    <g id=\"text_19\">\r\n     <!-- Test -->\r\n     <g transform=\"translate(358.31875 53.594687)scale(0.1 -0.1)\">\r\n      <use xlink:href=\"#DejaVuSans-84\"/>\r\n      <use x=\"44.083984\" xlink:href=\"#DejaVuSans-101\"/>\r\n      <use x=\"105.607422\" xlink:href=\"#DejaVuSans-115\"/>\r\n      <use x=\"157.707031\" xlink:href=\"#DejaVuSans-116\"/>\r\n     </g>\r\n    </g>\r\n   </g>\r\n  </g>\r\n </g>\r\n <defs>\r\n  <clipPath id=\"pcadd11308c\">\r\n   <rect height=\"217.44\" width=\"334.8\" x=\"56.50625\" y=\"22.318125\"/>\r\n  </clipPath>\r\n </defs>\r\n</svg>\r\n",
      "image/png": "[encoded data removed]"
     },
     "metadata": {
      "needs_background": "light"
     }
    }
   ],
   "source": [
    "model_names = [\"LR\", \"DT\", \"GNB\", \"KNN\", \"MLP\"]\n",
    "# note that it is 'a range' to position it nicely on x axis\n",
    "ypos=np.arange(len(model_names))\n",
    "\n",
    "# plot the accuracy of 5 models as bar chart\n",
    "plt.bar(ypos-0.2, train_acc, width=0.4, label='Train', color='red')\n",
    "plt.bar(ypos+0.2, test_acc, width=0.4, label='Test', color='blue')\n",
    "\n",
    "plt.title('Predict survival on the Titanic')\n",
    "plt.xticks(ypos, model_names)\n",
    "plt.xlabel('Models')\n",
    "plt.ylabel('Accuracy')\n",
    "plt.legend()\n",
    "plt.ylim(0.7, 0.9)\n",
    "plt.grid()\n",
    "\n",
    "plt.show()"
   ]
  },
  {
   "cell_type": "code",
   "execution_count": null,
   "metadata": {},
   "outputs": [],
   "source": []
  }
 ],
 "metadata": {
  "kernelspec": {
   "name": "python373jvsc74a57bd0b3ba2566441a7c06988d0923437866b63cedc61552a5af99d1f4fb67d367b25f",
   "display_name": "Python 3.7.3 64-bit (conda)"
  },
  "language_info": {
   "codemirror_mode": {
    "name": "ipython",
    "version": 3
   },
   "file_extension": ".py",
   "mimetype": "text/x-python",
   "name": "python",
   "nbconvert_exporter": "python",
   "pygments_lexer": "ipython3",
   "version": "3.7.3-final"
  }
 },
 "nbformat": 4,
 "nbformat_minor": 4
}