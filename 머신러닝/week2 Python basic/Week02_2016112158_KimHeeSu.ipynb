{
 "cells": [
  {
   "cell_type": "markdown",
   "metadata": {},
   "source": [
    "# Week2 : Python Programming Basic"
   ]
  },
  {
   "cell_type": "markdown",
   "metadata": {},
   "source": [
    "---\n",
    "p3"
   ]
  },
  {
   "cell_type": "markdown",
   "metadata": {},
   "source": [
    "# Comments\n",
    "- Some sentences to explain the codes\n",
    "- Comments are not included in the codes"
   ]
  },
  {
   "cell_type": "code",
   "execution_count": 1,
   "metadata": {},
   "outputs": [
    {
     "name": "stdout",
     "output_type": "stream",
     "text": [
      "hello\n"
     ]
    }
   ],
   "source": [
    "# Type Comments\n",
    "\n",
    "print(\"hello\") "
   ]
  },
  {
   "cell_type": "markdown",
   "metadata": {},
   "source": [
    "---\n",
    "p4"
   ]
  },
  {
   "cell_type": "markdown",
   "metadata": {},
   "source": [
    "# Constants\n",
    "* **Fixed values**(unchangeable numbers, strings etc)\n",
    "* **Datatypes**"
   ]
  },
  {
   "cell_type": "markdown",
   "metadata": {},
   "source": [
    "**1. Numbers**\n",
    "   - Integer: -2, 0, 100\n",
    "   - Real numbers: -2.5, 0.0, 99.9"
   ]
  },
  {
   "cell_type": "code",
   "execution_count": 29,
   "metadata": {
    "jupyter": {
     "outputs_hidden": false
    }
   },
   "outputs": [
    {
     "name": "stdout",
     "output_type": "stream",
     "text": [
      "3\n",
      "0.3333333333333333\n"
     ]
    }
   ],
   "source": [
    "print(1+2) # integer\n",
    "print(1.0/3.0) # real number(float)"
   ]
  },
  {
   "cell_type": "markdown",
   "metadata": {},
   "source": [
    "**2. String**  \n",
    "  - Single/double quotation marks(' or \")\n",
    "  - ‘hello’, “hello” "
   ]
  },
  {
   "cell_type": "code",
   "execution_count": 30,
   "metadata": {
    "jupyter": {
     "outputs_hidden": false
    }
   },
   "outputs": [
    {
     "name": "stdout",
     "output_type": "stream",
     "text": [
      "Machine Learning\n"
     ]
    }
   ],
   "source": [
    "# print string \"Machine\", \"Learning\"\n",
    "print(\"Machine\", \"Learning\")"
   ]
  },
  {
   "cell_type": "markdown",
   "metadata": {},
   "source": [
    "**3. Logical**  \n",
    "  - True, False"
   ]
  },
  {
   "cell_type": "code",
   "execution_count": 31,
   "metadata": {},
   "outputs": [
    {
     "name": "stdout",
     "output_type": "stream",
     "text": [
      "True True\n"
     ]
    }
   ],
   "source": [
    "# Boolean\n",
    "print(True, True)"
   ]
  },
  {
   "cell_type": "markdown",
   "metadata": {},
   "source": [
    "**4. Special**\n",
    "  - None"
   ]
  },
  {
   "cell_type": "code",
   "execution_count": 32,
   "metadata": {
    "jupyter": {
     "outputs_hidden": false
    },
    "scrolled": true
   },
   "outputs": [
    {
     "name": "stdout",
     "output_type": "stream",
     "text": [
      "None\n"
     ]
    }
   ],
   "source": [
    "# Special\n",
    "print(None)"
   ]
  },
  {
   "cell_type": "markdown",
   "metadata": {},
   "source": [
    "---\n",
    "p5"
   ]
  },
  {
   "cell_type": "markdown",
   "metadata": {},
   "source": [
    "* **Data Type Check : type()**"
   ]
  },
  {
   "cell_type": "code",
   "execution_count": 33,
   "metadata": {},
   "outputs": [
    {
     "data": {
      "text/plain": [
       "int"
      ]
     },
     "execution_count": 33,
     "metadata": {},
     "output_type": "execute_result"
    }
   ],
   "source": [
    "# int\n",
    "type(100)"
   ]
  },
  {
   "cell_type": "code",
   "execution_count": 34,
   "metadata": {},
   "outputs": [
    {
     "data": {
      "text/plain": [
       "str"
      ]
     },
     "execution_count": 34,
     "metadata": {},
     "output_type": "execute_result"
    }
   ],
   "source": [
    "# str\n",
    "type(\"Machine Learning\")"
   ]
  },
  {
   "cell_type": "markdown",
   "metadata": {},
   "source": [
    "* **Casting**"
   ]
  },
  {
   "cell_type": "code",
   "execution_count": 10,
   "metadata": {},
   "outputs": [
    {
     "data": {
      "text/plain": [
       "10"
      ]
     },
     "execution_count": 10,
     "metadata": {},
     "output_type": "execute_result"
    }
   ],
   "source": [
    "# float to int \n",
    "int(10.4)"
   ]
  },
  {
   "cell_type": "code",
   "execution_count": 11,
   "metadata": {},
   "outputs": [
    {
     "data": {
      "text/plain": [
       "'10.4'"
      ]
     },
     "execution_count": 11,
     "metadata": {},
     "output_type": "execute_result"
    }
   ],
   "source": [
    "# float to string\n",
    "str(10.4)"
   ]
  },
  {
   "cell_type": "markdown",
   "metadata": {},
   "source": [
    "- **Dynamic Typing** "
   ]
  },
  {
   "cell_type": "code",
   "execution_count": 12,
   "metadata": {},
   "outputs": [
    {
     "data": {
      "text/plain": [
       "float"
      ]
     },
     "execution_count": 12,
     "metadata": {},
     "output_type": "execute_result"
    }
   ],
   "source": [
    "# Operation\n",
    "type(10 + 0.1)"
   ]
  },
  {
   "cell_type": "code",
   "execution_count": 13,
   "metadata": {},
   "outputs": [
    {
     "data": {
      "text/plain": [
       "True"
      ]
     },
     "execution_count": 13,
     "metadata": {},
     "output_type": "execute_result"
    }
   ],
   "source": [
    "# Comparison\n",
    "10 == 10.0"
   ]
  },
  {
   "cell_type": "markdown",
   "metadata": {},
   "source": [
    "---\n",
    "p6"
   ]
  },
  {
   "cell_type": "markdown",
   "metadata": {},
   "source": [
    "# Variables\n",
    "- **Named memory to store values**\n",
    "  - Name consist of alpha-numeric characters and underscores (A-z, 0-9, and _ )\n",
    "  - Name cannot start with a number"
   ]
  },
  {
   "cell_type": "code",
   "execution_count": 17,
   "metadata": {
    "jupyter": {
     "outputs_hidden": false
    }
   },
   "outputs": [
    {
     "name": "stdout",
     "output_type": "stream",
     "text": [
      "50\n",
      "<class 'int'>\n"
     ]
    }
   ],
   "source": [
    "x = 30\n",
    "y = 20\n",
    "z = x + y\n",
    "\n",
    "\n",
    "\n",
    "print(z) # print z\n",
    "print(type(z)) # data type of z"
   ]
  },
  {
   "cell_type": "code",
   "execution_count": 21,
   "metadata": {},
   "outputs": [
    {
     "name": "stdout",
     "output_type": "stream",
     "text": [
      "Helloworld!\n"
     ]
    },
    {
     "data": {
      "text/plain": [
       "str"
      ]
     },
     "execution_count": 21,
     "metadata": {},
     "output_type": "execute_result"
    }
   ],
   "source": [
    "s1 = \"Hello\"\n",
    "s2 = \"world!\"\n",
    "\n",
    "\n",
    "\n",
    "print(s1+s2) # print s1 + s2\n",
    "type(s1+s2) # data type of z"
   ]
  },
  {
   "cell_type": "markdown",
   "metadata": {},
   "source": [
    "---\n",
    "p7"
   ]
  },
  {
   "cell_type": "markdown",
   "metadata": {},
   "source": [
    "* **Basic opeartion of string**"
   ]
  },
  {
   "cell_type": "code",
   "execution_count": 19,
   "metadata": {},
   "outputs": [
    {
     "name": "stdout",
     "output_type": "stream",
     "text": [
      "====================\n"
     ]
    }
   ],
   "source": [
    "# string multiplication\n",
    "line = \"=\" * 20\n",
    "print(line)"
   ]
  },
  {
   "cell_type": "code",
   "execution_count": 20,
   "metadata": {},
   "outputs": [
    {
     "name": "stdout",
     "output_type": "stream",
     "text": [
      "M\n",
      "g\n"
     ]
    }
   ],
   "source": [
    "# Indexing\n",
    "m1 = \"Machine Learning\"\n",
    "print(m1[0])\n",
    "print(m1[-1])"
   ]
  },
  {
   "cell_type": "code",
   "execution_count": 22,
   "metadata": {},
   "outputs": [
    {
     "name": "stdout",
     "output_type": "stream",
     "text": [
      "16\n"
     ]
    }
   ],
   "source": [
    "# len()\n",
    "print(len(m1))"
   ]
  },
  {
   "cell_type": "code",
   "execution_count": 23,
   "metadata": {},
   "outputs": [
    {
     "name": "stdout",
     "output_type": "stream",
     "text": [
      "['Machine', 'Learning']\n"
     ]
    }
   ],
   "source": [
    "# .split()\n",
    "m1_list = m1.split()\n",
    "print(m1_list)"
   ]
  },
  {
   "cell_type": "markdown",
   "metadata": {},
   "source": [
    "---\n",
    "p8"
   ]
  },
  {
   "cell_type": "markdown",
   "metadata": {},
   "source": [
    "# Conditional Statements\n",
    "\n",
    "* **If**  \n",
    "  - If statement is control flow statements which helps us to run a particular code only when a certain condition is satisfied.\n",
    "\n",
    "\n",
    ">**Note**\n",
    ">- In Python, **blocks are marked as indentations** in functions, iteration statements and conditional statements, etc.\n",
    ">- It is strongly recommended that **you do not use the tab** (system-specific but high probability output an error). The PEP-8 is the official coding guide recommends **four spaces with space bar**. However, various IDEs such as Jupyter lab, Pycham, and others automatically do identation."
   ]
  },
  {
   "cell_type": "code",
   "execution_count": 24,
   "metadata": {},
   "outputs": [
    {
     "name": "stdout",
     "output_type": "stream",
     "text": [
      "large\n"
     ]
    }
   ],
   "source": [
    "# Convert user input to integer\n",
    "x = int(input())\n",
    "\n",
    "# Conditional statements\n",
    "if x < 5:\n",
    "    print(\"small\")\n",
    "elif x < 15:\n",
    "    print(\"medium\")\n",
    "else:\n",
    "    print(\"large\")"
   ]
  },
  {
   "cell_type": "markdown",
   "metadata": {},
   "source": [
    "---\n",
    "p9"
   ]
  },
  {
   "cell_type": "markdown",
   "metadata": {},
   "source": [
    "* **Boolean Operator**"
   ]
  },
  {
   "cell_type": "markdown",
   "metadata": {},
   "source": [
    "**1. and (&)**"
   ]
  },
  {
   "cell_type": "code",
   "execution_count": 25,
   "metadata": {},
   "outputs": [
    {
     "data": {
      "text/plain": [
       "False"
      ]
     },
     "execution_count": 25,
     "metadata": {},
     "output_type": "execute_result"
    }
   ],
   "source": [
    "# and\n",
    "(1==1) and (1==0)"
   ]
  },
  {
   "cell_type": "markdown",
   "metadata": {},
   "source": [
    "**2. or(|)**"
   ]
  },
  {
   "cell_type": "code",
   "execution_count": 26,
   "metadata": {},
   "outputs": [
    {
     "data": {
      "text/plain": [
       "True"
      ]
     },
     "execution_count": 26,
     "metadata": {},
     "output_type": "execute_result"
    }
   ],
   "source": [
    "# or\n",
    "(1 == 1) or (1==0)"
   ]
  },
  {
   "cell_type": "markdown",
   "metadata": {},
   "source": [
    "**3. not**"
   ]
  },
  {
   "cell_type": "code",
   "execution_count": 28,
   "metadata": {},
   "outputs": [
    {
     "data": {
      "text/plain": [
       "True"
      ]
     },
     "execution_count": 28,
     "metadata": {},
     "output_type": "execute_result"
    }
   ],
   "source": [
    "# not\n",
    "not (1==0)"
   ]
  },
  {
   "cell_type": "markdown",
   "metadata": {},
   "source": [
    "---\n",
    "p10"
   ]
  },
  {
   "cell_type": "markdown",
   "metadata": {},
   "source": [
    "# Iteration Statements"
   ]
  },
  {
   "cell_type": "markdown",
   "metadata": {},
   "source": [
    "## while\n",
    "  - The while statement enables the execution of a body of statements multiple times in a loop while a certain condition is true."
   ]
  },
  {
   "cell_type": "code",
   "execution_count": 35,
   "metadata": {
    "jupyter": {
     "outputs_hidden": false
    }
   },
   "outputs": [
    {
     "name": "stdout",
     "output_type": "stream",
     "text": [
      "5\n",
      "4\n",
      "3\n",
      "2\n",
      "1\n"
     ]
    }
   ],
   "source": [
    "# while statement\n",
    "n = 5\n",
    "while n>0:\n",
    "    print(n)\n",
    "    n-=1"
   ]
  },
  {
   "cell_type": "code",
   "execution_count": 36,
   "metadata": {
    "jupyter": {
     "outputs_hidden": false
    }
   },
   "outputs": [
    {
     "name": "stdout",
     "output_type": "stream",
     "text": [
      "5\n",
      "4\n",
      "3\n",
      "2\n",
      "1\n"
     ]
    }
   ],
   "source": [
    "# infinite Loop with break statement\n",
    "n = 5\n",
    "while True:\n",
    "    if n<=0:\n",
    "        break\n",
    "    print(n)\n",
    "    n -= 1"
   ]
  },
  {
   "cell_type": "markdown",
   "metadata": {},
   "source": [
    "---\n",
    "p11"
   ]
  },
  {
   "cell_type": "markdown",
   "metadata": {},
   "source": [
    "## for\n",
    "- for statement iterates over the items of any sequence (a list or a string), in the order that they appear in the sequence.\n",
    "- **list** : a compound data types like an array in C (will be addressed)"
   ]
  },
  {
   "cell_type": "code",
   "execution_count": 54,
   "metadata": {
    "jupyter": {
     "outputs_hidden": false
    }
   },
   "outputs": [
    {
     "name": "stdout",
     "output_type": "stream",
     "text": [
      "55\n"
     ]
    }
   ],
   "source": [
    "# sum of all numbers from 1 to 10\n",
    "sum_all = 0\n",
    "mylist = [1,2,3,4,5,6,7,8,9,10]\n",
    "\n",
    "for i in mylist:\n",
    "    sum_all += i\n",
    "\n",
    "print(sum_all)"
   ]
  },
  {
   "cell_type": "markdown",
   "metadata": {},
   "source": [
    "- **range(n)** : it returns a list of the numbers that consists 0 to n-1\n"
   ]
  },
  {
   "cell_type": "code",
   "execution_count": 55,
   "metadata": {
    "jupyter": {
     "outputs_hidden": false
    }
   },
   "outputs": [
    {
     "name": "stdout",
     "output_type": "stream",
     "text": [
      "45\n"
     ]
    }
   ],
   "source": [
    "# sum of all numbers from 0 to 9\n",
    "sum_all = 0\n",
    "for i in range(10):\n",
    "    sum_all += i\n",
    "print(sum_all)"
   ]
  },
  {
   "cell_type": "markdown",
   "metadata": {},
   "source": [
    "---\n",
    "p12"
   ]
  },
  {
   "cell_type": "markdown",
   "metadata": {},
   "source": [
    "# Function\n",
    "- **A named section of a program that performs a specific task. It can takes some parameters. It is reusable code**\n",
    "  - **Built-in function(refer to the link below)**\n",
    "    - print(), input(), ...\n",
    "    - https://docs.python.org/3/library/functions.html\n",
    "  - **User-defined function**\n",
    "    > ```python\n",
    "    def function_name(arg_1, arg_2, …) :\n",
    "         # algorithms\n",
    "         return something\n",
    "  ```"
   ]
  },
  {
   "cell_type": "code",
   "execution_count": 1,
   "metadata": {
    "jupyter": {
     "outputs_hidden": false
    }
   },
   "outputs": [
    {
     "name": "stdout",
     "output_type": "stream",
     "text": [
      "Enter the distance in km scale.\n",
      "Input km : 42\n",
      "It is  26.25 mile\n"
     ]
    }
   ],
   "source": [
    "# Function to convert km to mile\n",
    "def km_to_mile(km):\n",
    "    mile = km / 1.6\n",
    "    return mile\n",
    "\n",
    "print(\"Enter the distance in km scale.\")\n",
    "km = float(input(\"Input km : \"))\n",
    "print(\"It is \", km_to_mile(km), \"mile\")"
   ]
  },
  {
   "cell_type": "markdown",
   "metadata": {},
   "source": [
    "---\n",
    "p13"
   ]
  },
  {
   "cell_type": "markdown",
   "metadata": {},
   "source": [
    "# Container : List, Dict, Tuple, Set"
   ]
  },
  {
   "cell_type": "markdown",
   "metadata": {},
   "source": [
    "* **Container**\n",
    "  - Data structure for storing variables\n",
    "* **In python there are four data structures - lists, dict, tuple, and set**\n",
    "   - **list          [ , ]**\n",
    "   - **dict         { , }**\n",
    "   - **tuple      ( , )**\n",
    "   - **set          { , }**\n",
    "- When programming in python, it is important to understand the characteristics of the four containers and write the appropriate data structures for your situation"
   ]
  },
  {
   "cell_type": "markdown",
   "metadata": {},
   "source": [
    "---\n",
    "p14"
   ]
  },
  {
   "cell_type": "markdown",
   "metadata": {},
   "source": [
    "## List\n",
    "- **A list is a data structure that stores ordered sequence of items**\n",
    "  - It can be initialized as **[item1, item2, …]**\n",
    "  - It can be initialized by the function **‘list()’** and then append new item by the function **‘list.append(item)’**"
   ]
  },
  {
   "cell_type": "code",
   "execution_count": 2,
   "metadata": {
    "jupyter": {
     "outputs_hidden": false
    }
   },
   "outputs": [
    {
     "data": {
      "text/plain": [
       "'apple'"
      ]
     },
     "execution_count": 2,
     "metadata": {},
     "output_type": "execute_result"
    }
   ],
   "source": [
    "# make the list named 'fruits'\n",
    "fruits = [\"apple\", \"banana\", \"orange\"]\n",
    "fruits[0]"
   ]
  },
  {
   "cell_type": "code",
   "execution_count": 4,
   "metadata": {},
   "outputs": [
    {
     "data": {
      "text/plain": [
       "['apple', 'banana', 'orange', 'kiwi', 'kiwi']"
      ]
     },
     "execution_count": 4,
     "metadata": {},
     "output_type": "execute_result"
    }
   ],
   "source": [
    "# append 'kiwi' to the list named 'fruits' \n",
    "fruits.append(\"kiwi\")\n",
    "fruits"
   ]
  },
  {
   "cell_type": "markdown",
   "metadata": {},
   "source": [
    "---\n",
    "p15"
   ]
  },
  {
   "cell_type": "markdown",
   "metadata": {},
   "source": [
    "- **Index of list**\n",
    "  - n:m : it means from 'n' to 'm-1'\n",
    "  - n:m:s : it means from 'n' to 'm-1' with step size 's'"
   ]
  },
  {
   "cell_type": "code",
   "execution_count": 5,
   "metadata": {},
   "outputs": [
    {
     "name": "stdout",
     "output_type": "stream",
     "text": [
      "20\n",
      "[20, 30]\n",
      "[10, 20, 30]\n",
      "[40, 50]\n"
     ]
    }
   ],
   "source": [
    "# Indexing & Slicing (1)\n",
    "mylist = [10,20,30,40,50]\n",
    "print(mylist[1])\n",
    "print(mylist[1:3])\n",
    "print(mylist[:3])\n",
    "print(mylist[3:])"
   ]
  },
  {
   "cell_type": "code",
   "execution_count": 8,
   "metadata": {},
   "outputs": [
    {
     "name": "stdout",
     "output_type": "stream",
     "text": [
      "50\n",
      "[10, 30, 50]\n",
      "[50, 40, 30, 20, 10]\n"
     ]
    }
   ],
   "source": [
    "# Indexing & Slicing (2)\n",
    "print(mylist[-1])\n",
    "print(mylist[::2])\n",
    "print(mylist[::-1])"
   ]
  },
  {
   "cell_type": "markdown",
   "metadata": {},
   "source": [
    "* **Functions with the list as a parameter and methods of the list**\n",
    " - Find other functions : https://docs.python.org/3/tutorial/datastructures.html"
   ]
  },
  {
   "cell_type": "code",
   "execution_count": 9,
   "metadata": {
    "jupyter": {
     "outputs_hidden": false
    }
   },
   "outputs": [
    {
     "name": "stdout",
     "output_type": "stream",
     "text": [
      "5\n",
      "50\n",
      "10\n",
      "150\n",
      "[10, 20, 30, 40, 50]\n"
     ]
    }
   ],
   "source": [
    "# functions & methods\n",
    "numbers = [20,50,10,40,30]\n",
    "print(len(numbers))\n",
    "print(max(numbers))\n",
    "print(min(numbers))\n",
    "print(sum(numbers))\n",
    "numbers.sort()\n",
    "print(numbers)"
   ]
  },
  {
   "cell_type": "markdown",
   "metadata": {},
   "source": [
    "---\n",
    "p16"
   ]
  },
  {
   "cell_type": "markdown",
   "metadata": {},
   "source": [
    "* **List with for statement**"
   ]
  },
  {
   "cell_type": "code",
   "execution_count": 10,
   "metadata": {},
   "outputs": [
    {
     "name": "stdout",
     "output_type": "stream",
     "text": [
      "[0, 2, 4, 6, 8]\n"
     ]
    }
   ],
   "source": [
    "# make a list with all even numbers from 0 to 9 (1)\n",
    "even_numbers = []\n",
    "for i in range(10):\n",
    "    if i % 2 ==0:\n",
    "        even_numbers.append(i)\n",
    "print(even_numbers)"
   ]
  },
  {
   "cell_type": "markdown",
   "metadata": {},
   "source": [
    "* **List comprehension**"
   ]
  },
  {
   "cell_type": "code",
   "execution_count": 12,
   "metadata": {},
   "outputs": [
    {
     "name": "stdout",
     "output_type": "stream",
     "text": [
      "[0, 2, 4, 6, 8]\n"
     ]
    }
   ],
   "source": [
    "# make a list with all even numbers from 0 to 9 (2)\n",
    "even_numbers = [i for i in range(10) if i % 2 == 0]\n",
    "print(even_numbers)"
   ]
  },
  {
   "cell_type": "code",
   "execution_count": 13,
   "metadata": {},
   "outputs": [
    {
     "name": "stdout",
     "output_type": "stream",
     "text": [
      "[1, 3, 5, 7, 9, 11, 13, 15, 17, 19]\n"
     ]
    }
   ],
   "source": [
    "# List comprehension & function\n",
    "def trans(x):\n",
    "    y = 2*x+1\n",
    "    return y\n",
    "\n",
    "trans_numbers = [trans(i) for i in range(10)]\n",
    "print(trans_numbers)"
   ]
  },
  {
   "cell_type": "markdown",
   "metadata": {},
   "source": [
    "---\n",
    "p17"
   ]
  },
  {
   "cell_type": "markdown",
   "metadata": {},
   "source": [
    "* **Nested list**"
   ]
  },
  {
   "cell_type": "code",
   "execution_count": 14,
   "metadata": {},
   "outputs": [
    {
     "name": "stdout",
     "output_type": "stream",
     "text": [
      "[[1, 3, 5, 7, 9], [0, 2, 4, 6, 8]]\n"
     ]
    }
   ],
   "source": [
    "# Nested list\n",
    "odd_numbers = [i for i in range(10) if i % 2 == 1]\n",
    "even_numbers = [i for i in range(10) if i % 2 == 0]\n",
    "nested_list =[odd_numbers, even_numbers]\n",
    "print(nested_list)"
   ]
  },
  {
   "cell_type": "code",
   "execution_count": 15,
   "metadata": {},
   "outputs": [
    {
     "name": "stdout",
     "output_type": "stream",
     "text": [
      "[1, 3, 5, 7, 9]\n",
      "[0, 2, 4, 6, 8]\n",
      "1\n",
      "4\n"
     ]
    }
   ],
   "source": [
    "# Index of nested list\n",
    "print(nested_list[0])\n",
    "print(nested_list[1])\n",
    "print(nested_list[0][0])\n",
    "print(nested_list[1][2])\n"
   ]
  },
  {
   "cell_type": "markdown",
   "metadata": {},
   "source": [
    "---\n",
    "p18"
   ]
  },
  {
   "cell_type": "markdown",
   "metadata": {},
   "source": [
    "## Dictionary\n",
    "- **A dictionary is a data structure that stores unordered `<key : value>` pairs**\n",
    "    - It can be initialized as **{  key : value , key : value , …  }** or\n",
    "    - Make empty dictionary using **‘dict()’**, and then insert the new (key, value) pair\n",
    "    - List : items are **indexed by location(integer)**\n",
    "    - Dictionary : values are **indexed by keys**"
   ]
  },
  {
   "cell_type": "code",
   "execution_count": 16,
   "metadata": {
    "jupyter": {
     "outputs_hidden": false
    }
   },
   "outputs": [
    {
     "name": "stdout",
     "output_type": "stream",
     "text": [
      "20\n"
     ]
    }
   ],
   "source": [
    "# List\n",
    "num_list = [30, 10, 20]\n",
    "print(num_list[2])"
   ]
  },
  {
   "cell_type": "code",
   "execution_count": 17,
   "metadata": {},
   "outputs": [
    {
     "name": "stdout",
     "output_type": "stream",
     "text": [
      "30\n",
      "{'red': 30, 'blue': 10, 'yellow': 20, 'green': 5}\n"
     ]
    }
   ],
   "source": [
    "# Dictionary\n",
    "word_count = {\"red\":30, \"blue\":10, \"yellow\":20}\n",
    "print(word_count[\"red\"])\n",
    "\n",
    "word_count[\"green\"] = 5\n",
    "print(word_count)"
   ]
  },
  {
   "cell_type": "markdown",
   "metadata": {},
   "source": [
    "---\n",
    "p19"
   ]
  },
  {
   "cell_type": "markdown",
   "metadata": {},
   "source": [
    "* **methods of dictionary**  "
   ]
  },
  {
   "cell_type": "markdown",
   "metadata": {},
   "source": [
    "**1 .items()**"
   ]
  },
  {
   "cell_type": "code",
   "execution_count": 18,
   "metadata": {},
   "outputs": [
    {
     "data": {
      "text/plain": [
       "dict_items([('red', 30), ('blue', 10), ('yellow', 20), ('green', 5)])"
      ]
     },
     "execution_count": 18,
     "metadata": {},
     "output_type": "execute_result"
    }
   ],
   "source": [
    "word_count.items()"
   ]
  },
  {
   "cell_type": "markdown",
   "metadata": {},
   "source": [
    "**2. .keys()**"
   ]
  },
  {
   "cell_type": "code",
   "execution_count": 19,
   "metadata": {},
   "outputs": [
    {
     "data": {
      "text/plain": [
       "dict_keys(['red', 'blue', 'yellow', 'green'])"
      ]
     },
     "execution_count": 19,
     "metadata": {},
     "output_type": "execute_result"
    }
   ],
   "source": [
    "word_count.keys()"
   ]
  },
  {
   "cell_type": "markdown",
   "metadata": {},
   "source": [
    "**3. .values()**"
   ]
  },
  {
   "cell_type": "code",
   "execution_count": 20,
   "metadata": {},
   "outputs": [
    {
     "data": {
      "text/plain": [
       "dict_values([30, 10, 20, 5])"
      ]
     },
     "execution_count": 20,
     "metadata": {},
     "output_type": "execute_result"
    }
   ],
   "source": [
    "word_count.values()"
   ]
  },
  {
   "cell_type": "markdown",
   "metadata": {},
   "source": [
    "---\n",
    "p20"
   ]
  },
  {
   "cell_type": "markdown",
   "metadata": {},
   "source": [
    "* **list vs. dictionary**"
   ]
  },
  {
   "cell_type": "code",
   "execution_count": 21,
   "metadata": {
    "jupyter": {
     "outputs_hidden": false
    }
   },
   "outputs": [
    {
     "name": "stdout",
     "output_type": "stream",
     "text": [
      "[185, 78]\n",
      "185\n"
     ]
    }
   ],
   "source": [
    "# List\n",
    "lst = list()\n",
    "lst.append(185)\n",
    "lst.append(78)\n",
    "print(lst)\n",
    "print(lst[0])"
   ]
  },
  {
   "cell_type": "code",
   "execution_count": 22,
   "metadata": {},
   "outputs": [
    {
     "name": "stdout",
     "output_type": "stream",
     "text": [
      "{'height': 185, 'weight': 78}\n",
      "185\n"
     ]
    }
   ],
   "source": [
    "# Dictionary\n",
    "my_dict = dict()\n",
    "my_dict[\"height\"] = 185\n",
    "my_dict[\"weight\"] = 78\n",
    "print(my_dict)\n",
    "print(my_dict[\"height\"])"
   ]
  },
  {
   "cell_type": "markdown",
   "metadata": {},
   "source": [
    "---\n",
    "p21"
   ]
  },
  {
   "cell_type": "markdown",
   "metadata": {},
   "source": [
    "* **Dictionary with for statement**"
   ]
  },
  {
   "cell_type": "code",
   "execution_count": 23,
   "metadata": {},
   "outputs": [
    {
     "name": "stdout",
     "output_type": "stream",
     "text": [
      "{0: 'Life', 1: 'is', 2: 'like', 3: 'a', 4: 'box', 5: 'of', 6: 'chocolates'}\n"
     ]
    }
   ],
   "source": [
    "# make 'vocab' dictionary from a sentence (1)\n",
    "vocab_list = \"Life is like a box of chocolates\".split()\n",
    "vocab = {}\n",
    "for i, v in enumerate(vocab_list):\n",
    "    vocab[i] = v\n",
    "print(vocab)"
   ]
  },
  {
   "cell_type": "markdown",
   "metadata": {},
   "source": [
    "* **Dictionary comprehension**"
   ]
  },
  {
   "cell_type": "code",
   "execution_count": 24,
   "metadata": {},
   "outputs": [
    {
     "name": "stdout",
     "output_type": "stream",
     "text": [
      "{0: 'Life', 1: 'is', 2: 'like', 3: 'a', 4: 'box', 5: 'of', 6: 'chocolates'}\n"
     ]
    }
   ],
   "source": [
    "# make 'vocab' dictionary from a sentence (2)\n",
    "vocab = {k : v for k,v in enumerate(vocab_list)}\n",
    "print(vocab)"
   ]
  },
  {
   "cell_type": "markdown",
   "metadata": {},
   "source": [
    "---\n",
    "p22"
   ]
  },
  {
   "cell_type": "markdown",
   "metadata": {},
   "source": [
    "## Tuple\n",
    "- A tuple is a collection of items which is ordered and **unchangeable**. \n",
    "  - It is more simple and efficient because the tuple is saved with the condition not to be changed in the future \n",
    "  - ‘items()’ method of dictionary returns list of **(key, value)** tuples"
   ]
  },
  {
   "cell_type": "code",
   "execution_count": 25,
   "metadata": {
    "jupyter": {
     "outputs_hidden": false
    }
   },
   "outputs": [
    {
     "name": "stdout",
     "output_type": "stream",
     "text": [
      "(20, 30)\n",
      "(20,)\n"
     ]
    }
   ],
   "source": [
    "# tuple\n",
    "x = (20, 30)\n",
    "y= (20,)\n",
    "\n",
    "print(x)\n",
    "print(y)"
   ]
  },
  {
   "cell_type": "code",
   "execution_count": 26,
   "metadata": {},
   "outputs": [
    {
     "name": "stdout",
     "output_type": "stream",
     "text": [
      "tom 1234\n",
      "john 5678\n",
      "dict_items([('tom', 1234), ('john', 5678)])\n"
     ]
    }
   ],
   "source": [
    "# tuple and dictionary\n",
    "ids = dict()\n",
    "ids[\"tom\"] = 1234\n",
    "ids[\"john\"] = 5678\n",
    "\n",
    "for (key,val) in ids.items():\n",
    "    print(key,val)\n",
    "    \n",
    "print(ids.items())"
   ]
  },
  {
   "cell_type": "markdown",
   "metadata": {},
   "source": [
    "---\n",
    "p23"
   ]
  },
  {
   "cell_type": "markdown",
   "metadata": {},
   "source": [
    "## Set\n",
    "- A set is an unordered collection of items with no duplicates\n",
    "   - It can be initialized as **{  item1, item2, …  }** or\n",
    "   - It can be defined by the function **‘set()’**"
   ]
  },
  {
   "cell_type": "code",
   "execution_count": 28,
   "metadata": {
    "jupyter": {
     "outputs_hidden": false
    }
   },
   "outputs": [
    {
     "name": "stdout",
     "output_type": "stream",
     "text": [
      "{1, 2, 3}\n",
      "{1, 2, 3, 4}\n",
      "{'o', 'l', 'H', 'e'}\n"
     ]
    }
   ],
   "source": [
    "# Set\n",
    "s = {1,2,3}\n",
    "print(s)\n",
    "\n",
    "# Ignore duplicates\n",
    "lst = [1,2,2,3,3,4]\n",
    "set1 = set(lst)\n",
    "print(set1)\n",
    "\n",
    "# Ignore order\n",
    "strings = \"Hello\"\n",
    "set2 = set(strings)\n",
    "print(set2)"
   ]
  },
  {
   "cell_type": "markdown",
   "metadata": {},
   "source": [
    "---\n",
    "p24"
   ]
  },
  {
   "cell_type": "markdown",
   "metadata": {},
   "source": [
    "- **Set operations**\n",
    "  - **.intersection()**   (&)\n",
    "  - **.union()**            (|)\n",
    "  - **.difference()**     (-)"
   ]
  },
  {
   "cell_type": "code",
   "execution_count": 29,
   "metadata": {
    "jupyter": {
     "outputs_hidden": false
    }
   },
   "outputs": [
    {
     "name": "stdout",
     "output_type": "stream",
     "text": [
      "{2, 4}\n",
      "{2, 4}\n",
      "{1, 2, 3, 4, 6, 8}\n",
      "{1, 2, 3, 4, 6, 8}\n",
      "{1, 3}\n",
      "{1, 3}\n"
     ]
    }
   ],
   "source": [
    "# intersection, union, difference\n",
    "set1 = set([1,2,3,4])\n",
    "set2 = set([2,4,6,8])\n",
    "\n",
    "# intersection\n",
    "print(set1 & set2) # using &\n",
    "print(set1.intersection(set2)) # using intersection function \n",
    "\n",
    "# union\n",
    "print(set1 | set2) # using |\n",
    "print(set1.union(set2)) # using union function\n",
    "\n",
    "# difference\n",
    "print(set1 - set2) # using using -\n",
    "print(set1.difference(set2)) # using difference function"
   ]
  },
  {
   "cell_type": "markdown",
   "metadata": {},
   "source": [
    "---\n",
    "p25"
   ]
  },
  {
   "cell_type": "markdown",
   "metadata": {},
   "source": [
    "# File processing"
   ]
  },
  {
   "cell_type": "markdown",
   "metadata": {},
   "source": [
    "- **Opening the file**\n",
    "  - open() – it returns the handle used to manipulate the file\n",
    "  - The file handle is a sequence of each line of the file"
   ]
  },
  {
   "cell_type": "code",
   "execution_count": 32,
   "metadata": {
    "jupyter": {
     "outputs_hidden": false
    }
   },
   "outputs": [
    {
     "name": "stdout",
     "output_type": "stream",
     "text": [
      "<_io.TextIOWrapper name='sample.txt' mode='r' encoding='cp949'>\n",
      "27\n"
     ]
    }
   ],
   "source": [
    "# Open 'sample.txt' file and count lines\n",
    "fhand = open(\"sample.txt\")\n",
    "count = 0\n",
    "for line in fhand:\n",
    "    count += 1\n",
    "\n",
    "fhand.close()\n",
    "print(count)"
   ]
  },
  {
   "cell_type": "markdown",
   "metadata": {},
   "source": [
    "- **Read all contents of the file**\n",
    "  - .read() – it reads all contents in the file and returns it as a sequence of a string"
   ]
  },
  {
   "cell_type": "code",
   "execution_count": 33,
   "metadata": {
    "jupyter": {
     "outputs_hidden": false
    }
   },
   "outputs": [
    {
     "name": "stdout",
     "output_type": "stream",
     "text": [
      "9483\n"
     ]
    }
   ],
   "source": [
    "# Open & close\n",
    "fhand = open(\"sample.txt\")\n",
    "mfile = fhand.read()\n",
    "print(len(mfile))\n",
    "\n",
    "fhand.close()"
   ]
  },
  {
   "cell_type": "code",
   "execution_count": 34,
   "metadata": {},
   "outputs": [
    {
     "name": "stdout",
     "output_type": "stream",
     "text": [
      "9483\n"
     ]
    }
   ],
   "source": [
    "# Open & with\n",
    "with open(\"sample.txt\") as f:\n",
    "    mfile = f.read()\n",
    "    \n",
    "print(len(mfile))"
   ]
  },
  {
   "cell_type": "markdown",
   "metadata": {},
   "source": [
    "---\n",
    "p26"
   ]
  },
  {
   "cell_type": "markdown",
   "metadata": {},
   "source": [
    "# Class\n",
    "- **Object = Attribute + Method**  \n",
    "  - Classes provide a means of bundling data and functionality together \n",
    "  - Creating a new class creates a new type of object, allowing new instances of that type to be made\n",
    "  - Class, Object and Instance : https://alfredjava.wordpress.com/2008/07/08/class-vs-object-vs-instance/"
   ]
  },
  {
   "cell_type": "markdown",
   "metadata": {},
   "source": [
    "* **Creating a class**"
   ]
  },
  {
   "cell_type": "code",
   "execution_count": 35,
   "metadata": {
    "jupyter": {
     "outputs_hidden": false
    }
   },
   "outputs": [],
   "source": [
    "# Make 'Car' class\n",
    "class Car:\n",
    "    # Constructor\n",
    "    def __init__(self, brand, color, year, current_speed):\n",
    "        self.brand = brand\n",
    "        self.year = year\n",
    "        self.current_speed = current_speed\n",
    "    # Method\n",
    "    def accelerate(self):\n",
    "        self.current_speed += 10\n",
    "        return self.current_speed\n"
   ]
  },
  {
   "cell_type": "markdown",
   "metadata": {},
   "source": [
    "---\n",
    "p27"
   ]
  },
  {
   "cell_type": "markdown",
   "metadata": {},
   "source": [
    "* **Creating objects**"
   ]
  },
  {
   "cell_type": "code",
   "execution_count": 36,
   "metadata": {
    "jupyter": {
     "outputs_hidden": false
    }
   },
   "outputs": [],
   "source": [
    "# Make 'car1', 'car2' objects\n",
    "car1 = Car(\"toyota\", \"red\", 1995, 100)\n",
    "car2 = Car(\"hyundai\", \"green\", 2000,120)"
   ]
  },
  {
   "cell_type": "markdown",
   "metadata": {},
   "source": [
    "* **Attributes & methods**"
   ]
  },
  {
   "cell_type": "code",
   "execution_count": 37,
   "metadata": {},
   "outputs": [
    {
     "name": "stdout",
     "output_type": "stream",
     "text": [
      "toyota\n",
      "120\n",
      "130\n"
     ]
    }
   ],
   "source": [
    "# Print attributes, execute the method\n",
    "print(car1.brand)\n",
    "print(car2.current_speed)\n",
    "car2.accelerate()\n",
    "print(car2.current_speed)"
   ]
  },
  {
   "cell_type": "markdown",
   "metadata": {},
   "source": [
    "---"
   ]
  },
  {
   "cell_type": "markdown",
   "metadata": {},
   "source": [
    "---\n",
    "p28"
   ]
  },
  {
   "cell_type": "markdown",
   "metadata": {},
   "source": [
    "# Submit\n",
    "- To make sure if you have completed this practice, **submit your practice file(Week\\*\\*_given_code.ipynb) to e-class**\n",
    "- **Due tomorrow 11:59pm**\n",
    "- Modify your ipynb file name as **“Week\\*\\*_StudentNum_Name.ipynb”**\n",
    "  - Ex) Week02\\_2020123456\\_홍길동.ipynb\n",
    "- You may upload the file without the quiz codes, but it is recommended to solve the quiz as well to prepare for the homeworks and the exam"
   ]
  },
  {
   "cell_type": "markdown",
   "metadata": {},
   "source": [
    "---\n",
    "p29"
   ]
  },
  {
   "cell_type": "markdown",
   "metadata": {},
   "source": [
    "# Quiz"
   ]
  },
  {
   "cell_type": "markdown",
   "metadata": {},
   "source": [
    "### 1. input, while, if\n",
    "- Write a program that continuously inputs numbers(positive integers), and outputs the total counts, sum, and average of the integers.\n",
    "- The program ends when the input is 0."
   ]
  },
  {
   "cell_type": "code",
   "execution_count": 41,
   "metadata": {
    "jupyter": {
     "outputs_hidden": false
    }
   },
   "outputs": [
    {
     "name": "stdout",
     "output_type": "stream",
     "text": [
      "Total =  4\n",
      "Sum =  18\n",
      "Average =  4.5\n"
     ]
    }
   ],
   "source": [
    "sum_all = 0\n",
    "count = 0\n",
    "\n",
    "############ Start of your code ############\n",
    "\n",
    "while True:\n",
    "    n = int(input(\"Enter a number : \"))\n",
    "    if n == 0:\n",
    "        break\n",
    "    sum_all += n\n",
    "    count += 1\n",
    "\n",
    "\n",
    "\n",
    "\n",
    "\n",
    "############# End of your code #############\n",
    "        \n",
    "print(\"Total = \", count)\n",
    "print(\"Sum = \", sum_all)\n",
    "print(\"Average = \", sum_all/count)\n",
    "        "
   ]
  },
  {
   "cell_type": "markdown",
   "metadata": {},
   "source": [
    "---\n",
    "p30"
   ]
  },
  {
   "cell_type": "markdown",
   "metadata": {},
   "source": [
    "### 2. function, for, list\n",
    "- The temperature (temp) and iced americano sales (sale) have the following relation \n",
    "> `sale = 30.08 * temp - 159.47`  \n",
    "- Define a function to compute above equation\n",
    "- For following list of temps predicted for the next 10 days, make the list of sales(integers) for the next 10 days \n",
    "- Print the sales and average of them"
   ]
  },
  {
   "cell_type": "code",
   "execution_count": 43,
   "metadata": {},
   "outputs": [
    {
     "name": "stdout",
     "output_type": "stream",
     "text": [
      "Sales =  [198.482, 267.66599999999994, 297.746, 333.842, 357.90599999999995, 384.97799999999995, 397.01, 424.0819999999999, 505.298, 520.338]\n",
      "Average =  368.7348\n"
     ]
    }
   ],
   "source": [
    "temps = [11.9, 14.2, 15.2, 16.4, 17.2, 18.1, 18.5, 19.4, 22.1, 22.6]\n",
    "\n",
    "############ Start of your code ############\n",
    "\n",
    "\n",
    "def saleFunc(temps):\n",
    "    return [30.08 * temp - 159.47 for temp in temps]\n",
    "\n",
    "sales = saleFunc(temps)\n",
    "\n",
    "\n",
    "\n",
    "############# End of your code #############\n",
    "\n",
    "print('Sales = ', sales)\n",
    "print('Average = ', sum(sales)/len(sales))\n"
   ]
  },
  {
   "cell_type": "markdown",
   "metadata": {},
   "source": [
    "---\n",
    "p31"
   ]
  },
  {
   "cell_type": "markdown",
   "metadata": {},
   "source": [
    "### 3. dictionary  \n",
    "- Change the scores in following dictionary into 'P' (if score >= 70) or 'F' and print the result"
   ]
  },
  {
   "cell_type": "code",
   "execution_count": 48,
   "metadata": {},
   "outputs": [
    {
     "name": "stdout",
     "output_type": "stream",
     "text": [
      "{'Tom': 'F', 'Jane': 'P', 'Bill': 'P', 'Mary': 'F'}\n"
     ]
    }
   ],
   "source": [
    "scores = {\n",
    "    'Tom':60, \n",
    "    'Jane':95, \n",
    "    'Bill':80, \n",
    "    'Mary':55\n",
    "}\n",
    "\n",
    "############ Start of your code ############\n",
    "\n",
    "\n",
    "for key, value in scores.items():\n",
    "    if value >= 70:\n",
    "        scores[key] = \"P\"\n",
    "    else:\n",
    "        scores[key] = \"F\"\n",
    "\n",
    "\n",
    "\n",
    "############# End of your code #############\n",
    "\n",
    "print(scores)       "
   ]
  },
  {
   "cell_type": "markdown",
   "metadata": {},
   "source": [
    "---\n",
    "p32"
   ]
  },
  {
   "cell_type": "markdown",
   "metadata": {},
   "source": [
    "### 4. class \n",
    "- Create a 'Circle' class that has an attribute 'radius', and a method 'area()' that computes the area of the circle\n",
    "- Create a 'Rectangle' class that has attributes 'width' and 'height', and a method 'area()' that computes the area of the rectangle \n",
    "- Create an instance for each class, and print out the area of each instance. \n",
    "- Set 𝜋 to 3.14."
   ]
  },
  {
   "cell_type": "code",
   "execution_count": 1,
   "metadata": {},
   "outputs": [],
   "source": [
    "############ Start of your code ############\n",
    "# make Circle class\n",
    "class Circle:\n",
    "    def __init__(self, radius):\n",
    "        self.radius = radius\n",
    "\n",
    "    def area(self):\n",
    "        return self.radius ** 2 * 3.14\n",
    "\n",
    "\n",
    "\n",
    "# make Rectangle class\n",
    "class Rectangle:\n",
    "    def __init__(self, width, height):\n",
    "        self.width = width\n",
    "        self.height = height\n",
    "\n",
    "    def area(self):\n",
    "        return self.width * self.height\n",
    "\n",
    "\n",
    "\n",
    "\n",
    "\n",
    "\n",
    "############# End of your code #############\n",
    "\n",
    "circle = Circle(10)\n",
    "rectangle = Rectangle(20,30)"
   ]
  },
  {
   "cell_type": "code",
   "execution_count": 2,
   "metadata": {
    "jupyter": {
     "outputs_hidden": false
    }
   },
   "outputs": [
    {
     "output_type": "execute_result",
     "data": {
      "text/plain": [
       "314.0"
      ]
     },
     "metadata": {},
     "execution_count": 2
    }
   ],
   "source": [
    "circle.area()"
   ]
  },
  {
   "cell_type": "code",
   "execution_count": 3,
   "metadata": {
    "jupyter": {
     "outputs_hidden": false
    }
   },
   "outputs": [
    {
     "output_type": "execute_result",
     "data": {
      "text/plain": [
       "600"
      ]
     },
     "metadata": {},
     "execution_count": 3
    }
   ],
   "source": [
    "rectangle.area()"
   ]
  },
  {
   "cell_type": "code",
   "execution_count": null,
   "metadata": {},
   "outputs": [],
   "source": []
  }
 ],
 "metadata": {
  "kernelspec": {
   "display_name": "Python 3",
   "language": "python",
   "name": "python3"
  },
  "language_info": {
   "codemirror_mode": {
    "name": "ipython",
    "version": 3
   },
   "file_extension": ".py",
   "mimetype": "text/x-python",
   "name": "python",
   "nbconvert_exporter": "python",
   "pygments_lexer": "ipython3",
   "version": "3.7.3-final"
  }
 },
 "nbformat": 4,
 "nbformat_minor": 4
}