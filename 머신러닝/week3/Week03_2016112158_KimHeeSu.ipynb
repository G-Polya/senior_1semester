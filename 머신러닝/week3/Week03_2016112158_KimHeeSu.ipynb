{
 "cells": [
  {
   "cell_type": "markdown",
   "metadata": {},
   "source": [
    "# Week03 : Numpy, Pandas, Matplotlib"
   ]
  },
  {
   "cell_type": "markdown",
   "metadata": {},
   "source": [
    "---\n",
    "p2"
   ]
  },
  {
   "cell_type": "markdown",
   "metadata": {},
   "source": [
    "# **Contents**\n",
    "**1. Numpy**  \n",
    "**2. Pandas**  \n",
    "**3. Matplotlib**  \n",
    "**4. Scikit-learn**"
   ]
  },
  {
   "cell_type": "markdown",
   "metadata": {},
   "source": [
    "---\n",
    "p3, 4"
   ]
  },
  {
   "cell_type": "markdown",
   "metadata": {},
   "source": [
    "# 1. Numpy Tutorial"
   ]
  },
  {
   "cell_type": "markdown",
   "metadata": {},
   "source": [
    "## Array Creation"
   ]
  },
  {
   "cell_type": "markdown",
   "metadata": {},
   "source": [
    "* **array()**"
   ]
  },
  {
   "cell_type": "code",
   "execution_count": 102,
   "metadata": {
    "collapsed": true
   },
   "outputs": [],
   "source": [
    "from IPython.core.interactiveshell import InteractiveShell\n",
    "InteractiveShell.ast_node_interactivity = \"all\""
   ]
  },
  {
   "cell_type": "code",
   "execution_count": 103,
   "metadata": {
    "collapsed": true
   },
   "outputs": [
    {
     "output_type": "execute_result",
     "data": {
      "text/plain": [
       "array([[ 0,  1,  2,  3],\n",
       "       [ 5,  6,  7,  8],\n",
       "       [10, 11, 12, 13]])"
      ]
     },
     "metadata": {},
     "execution_count": 103
    },
    {
     "output_type": "execute_result",
     "data": {
      "text/plain": [
       "2"
      ]
     },
     "metadata": {},
     "execution_count": 103
    },
    {
     "output_type": "execute_result",
     "data": {
      "text/plain": [
       "(3, 4)"
      ]
     },
     "metadata": {},
     "execution_count": 103
    }
   ],
   "source": [
    "import numpy as np\n",
    "\n",
    "a = np.array([[0,1,2,3],\n",
    "              [5,6,7,8],\n",
    "              [10,11,12,13]])\n",
    "a\n",
    "\n",
    "a.ndim # 2 dimensions\n",
    "a.shape # 3x4"
   ]
  },
  {
   "cell_type": "markdown",
   "metadata": {},
   "source": [
    "---\n",
    "p5"
   ]
  },
  {
   "cell_type": "markdown",
   "metadata": {},
   "source": [
    "**1. np.arange() & np.reshape()**"
   ]
  },
  {
   "cell_type": "code",
   "execution_count": 104,
   "metadata": {
    "collapsed": true
   },
   "outputs": [
    {
     "output_type": "execute_result",
     "data": {
      "text/plain": [
       "array([0, 1, 2, 3, 4, 5])"
      ]
     },
     "metadata": {},
     "execution_count": 104
    }
   ],
   "source": [
    "a = np.arange(6)\n",
    "a # np.array([0, 1, 2, 3, 4, 5])"
   ]
  },
  {
   "cell_type": "code",
   "execution_count": 105,
   "metadata": {
    "collapsed": true
   },
   "outputs": [
    {
     "output_type": "execute_result",
     "data": {
      "text/plain": [
       "array([[0, 1, 2],\n",
       "       [3, 4, 5]])"
      ]
     },
     "metadata": {},
     "execution_count": 105
    }
   ],
   "source": [
    "b = a.reshape(2,3)\n",
    "b # np.array([[0, 1, 2], [3, 4, 5]])"
   ]
  },
  {
   "cell_type": "markdown",
   "metadata": {},
   "source": [
    "**2. np.zeros()**"
   ]
  },
  {
   "cell_type": "code",
   "execution_count": 106,
   "metadata": {
    "collapsed": true
   },
   "outputs": [
    {
     "output_type": "execute_result",
     "data": {
      "text/plain": [
       "array([[0., 0., 0., 0.],\n",
       "       [0., 0., 0., 0.],\n",
       "       [0., 0., 0., 0.]])"
      ]
     },
     "metadata": {},
     "execution_count": 106
    }
   ],
   "source": [
    "# initialized all 0\n",
    "x = np.zeros((3,4))\n",
    "x"
   ]
  },
  {
   "cell_type": "markdown",
   "metadata": {},
   "source": [
    "**3. np.ones()**"
   ]
  },
  {
   "cell_type": "code",
   "execution_count": 107,
   "metadata": {
    "collapsed": true
   },
   "outputs": [
    {
     "output_type": "execute_result",
     "data": {
      "text/plain": [
       "array([[[1., 1., 1., 1.],\n",
       "        [1., 1., 1., 1.],\n",
       "        [1., 1., 1., 1.]],\n",
       "\n",
       "       [[1., 1., 1., 1.],\n",
       "        [1., 1., 1., 1.],\n",
       "        [1., 1., 1., 1.]]])"
      ]
     },
     "metadata": {},
     "execution_count": 107
    }
   ],
   "source": [
    "# initialized all 1\n",
    "y = np.ones((2,3,4), dtype=np.float64)\n",
    "y"
   ]
  },
  {
   "cell_type": "markdown",
   "metadata": {},
   "source": [
    "---\n",
    "p6"
   ]
  },
  {
   "cell_type": "markdown",
   "metadata": {},
   "source": [
    "**4. np.identity()**"
   ]
  },
  {
   "cell_type": "code",
   "execution_count": 108,
   "metadata": {
    "collapsed": true
   },
   "outputs": [
    {
     "output_type": "execute_result",
     "data": {
      "text/plain": [
       "array([[1., 0., 0.],\n",
       "       [0., 1., 0.],\n",
       "       [0., 0., 1.]])"
      ]
     },
     "metadata": {},
     "execution_count": 108
    }
   ],
   "source": [
    "# identity matrix of size 3 x 3\n",
    "i = np.identity(n=3)\n",
    "i"
   ]
  },
  {
   "cell_type": "markdown",
   "metadata": {},
   "source": [
    "**5. np.random.randn()**"
   ]
  },
  {
   "cell_type": "code",
   "execution_count": 109,
   "metadata": {
    "collapsed": true
   },
   "outputs": [
    {
     "output_type": "execute_result",
     "data": {
      "text/plain": [
       "array([[-0.21389937,  0.22584369,  0.63353581],\n",
       "       [-1.52152957,  0.87287291, -1.21805155],\n",
       "       [-0.74325611, -0.6601601 ,  1.6120512 ]])"
      ]
     },
     "metadata": {},
     "execution_count": 109
    }
   ],
   "source": [
    "# Return samples from the \"standard normal\" distribution.\n",
    "r = np.random.randn(3,3)\n",
    "r"
   ]
  },
  {
   "cell_type": "markdown",
   "metadata": {},
   "source": [
    "---\n",
    "p7"
   ]
  },
  {
   "cell_type": "markdown",
   "metadata": {},
   "source": [
    "## Array Operations"
   ]
  },
  {
   "cell_type": "markdown",
   "metadata": {},
   "source": [
    "- **+, -, *, matrix multiplication, matrix transpose**"
   ]
  },
  {
   "cell_type": "code",
   "execution_count": 110,
   "metadata": {
    "collapsed": true
   },
   "outputs": [
    {
     "output_type": "execute_result",
     "data": {
      "text/plain": [
       "array([[1, 1],\n",
       "       [0, 1]])"
      ]
     },
     "metadata": {},
     "execution_count": 110
    },
    {
     "output_type": "execute_result",
     "data": {
      "text/plain": [
       "array([[2, 0],\n",
       "       [3, 4]])"
      ]
     },
     "metadata": {},
     "execution_count": 110
    },
    {
     "output_type": "execute_result",
     "data": {
      "text/plain": [
       "array([[10, 10],\n",
       "       [ 0, 10]])"
      ]
     },
     "metadata": {},
     "execution_count": 110
    },
    {
     "output_type": "execute_result",
     "data": {
      "text/plain": [
       "array([[3, 1],\n",
       "       [3, 5]])"
      ]
     },
     "metadata": {},
     "execution_count": 110
    },
    {
     "output_type": "execute_result",
     "data": {
      "text/plain": [
       "array([[2, 0],\n",
       "       [0, 4]])"
      ]
     },
     "metadata": {},
     "execution_count": 110
    }
   ],
   "source": [
    "a = np.array([[1, 1], [0, 1]])\n",
    "b = np.array([[2, 0], [3, 4]])\n",
    "\n",
    "a\n",
    "b\n",
    "\n",
    "a * 10      # matrix * scalar\n",
    "a+b      # elementwise addition\n",
    "a*b      # elementwise product"
   ]
  },
  {
   "cell_type": "markdown",
   "metadata": {},
   "source": [
    "---\n",
    "p8"
   ]
  },
  {
   "cell_type": "code",
   "execution_count": 111,
   "metadata": {
    "collapsed": true
   },
   "outputs": [
    {
     "output_type": "execute_result",
     "data": {
      "text/plain": [
       "array([[5, 4],\n",
       "       [3, 4]])"
      ]
     },
     "metadata": {},
     "execution_count": 111
    },
    {
     "output_type": "execute_result",
     "data": {
      "text/plain": [
       "array([[5, 4],\n",
       "       [3, 4]])"
      ]
     },
     "metadata": {},
     "execution_count": 111
    },
    {
     "output_type": "execute_result",
     "data": {
      "text/plain": [
       "array([[1, 0],\n",
       "       [1, 1]])"
      ]
     },
     "metadata": {},
     "execution_count": 111
    }
   ],
   "source": [
    "a @ b       # matrix product\n",
    "a.dot(b)      # matrix product\n",
    "\n",
    "a.T     # matrix transpose"
   ]
  },
  {
   "cell_type": "markdown",
   "metadata": {},
   "source": [
    "---\n",
    "p9"
   ]
  },
  {
   "cell_type": "markdown",
   "metadata": {},
   "source": [
    "## Indexing, Slicing"
   ]
  },
  {
   "cell_type": "markdown",
   "metadata": {},
   "source": [
    "* **Indexing, slicing**"
   ]
  },
  {
   "cell_type": "code",
   "execution_count": 112,
   "metadata": {
    "collapsed": true
   },
   "outputs": [
    {
     "output_type": "execute_result",
     "data": {
      "text/plain": [
       "array([[ 0,  1,  2,  3,  4],\n",
       "       [ 5,  6,  7,  8,  9],\n",
       "       [10, 11, 12, 13, 14],\n",
       "       [15, 16, 17, 18, 19]])"
      ]
     },
     "metadata": {},
     "execution_count": 112
    }
   ],
   "source": [
    "a = np.arange(20).reshape(4, 5)\n",
    "a"
   ]
  },
  {
   "cell_type": "code",
   "execution_count": 113,
   "metadata": {
    "collapsed": true,
    "scrolled": true
   },
   "outputs": [
    {
     "output_type": "execute_result",
     "data": {
      "text/plain": [
       "12"
      ]
     },
     "metadata": {},
     "execution_count": 113
    },
    {
     "output_type": "execute_result",
     "data": {
      "text/plain": [
       "array([[0, 1],\n",
       "       [5, 6]])"
      ]
     },
     "metadata": {},
     "execution_count": 113
    },
    {
     "output_type": "execute_result",
     "data": {
      "text/plain": [
       "array([[0, 1, 2, 3, 4],\n",
       "       [5, 6, 7, 8, 9]])"
      ]
     },
     "metadata": {},
     "execution_count": 113
    },
    {
     "output_type": "execute_result",
     "data": {
      "text/plain": [
       "array([[ 0,  1],\n",
       "       [ 5,  6],\n",
       "       [10, 11],\n",
       "       [15, 16]])"
      ]
     },
     "metadata": {},
     "execution_count": 113
    }
   ],
   "source": [
    "# indexing\n",
    "a[2,2]\n",
    "\n",
    "# slicing\n",
    "a[0:2, 0:2]\n",
    "a[0:2,:]\n",
    "a[:,0:2]"
   ]
  },
  {
   "cell_type": "markdown",
   "metadata": {},
   "source": [
    "---\n",
    "p10"
   ]
  },
  {
   "cell_type": "markdown",
   "metadata": {},
   "source": [
    "## Stacking"
   ]
  },
  {
   "cell_type": "markdown",
   "metadata": {},
   "source": [
    "- **vstack(), hstack()**"
   ]
  },
  {
   "cell_type": "code",
   "execution_count": 114,
   "metadata": {
    "collapsed": true,
    "scrolled": true
   },
   "outputs": [
    {
     "output_type": "execute_result",
     "data": {
      "text/plain": [
       "array([[1, 1],\n",
       "       [0, 1]])"
      ]
     },
     "metadata": {},
     "execution_count": 114
    },
    {
     "output_type": "execute_result",
     "data": {
      "text/plain": [
       "array([[8.42921612, 1.74017829],\n",
       "       [5.01858837, 3.87176027]])"
      ]
     },
     "metadata": {},
     "execution_count": 114
    },
    {
     "output_type": "execute_result",
     "data": {
      "text/plain": [
       "array([[1.        , 1.        ],\n",
       "       [0.        , 1.        ],\n",
       "       [8.42921612, 1.74017829],\n",
       "       [5.01858837, 3.87176027]])"
      ]
     },
     "metadata": {},
     "execution_count": 114
    },
    {
     "output_type": "execute_result",
     "data": {
      "text/plain": [
       "array([[1.        , 1.        , 8.42921612, 1.74017829],\n",
       "       [0.        , 1.        , 5.01858837, 3.87176027]])"
      ]
     },
     "metadata": {},
     "execution_count": 114
    }
   ],
   "source": [
    "a = np.array([[1, 1],[0, 1]])\n",
    "b = np.array(10*np.random.random((2, 2)))\n",
    "a\n",
    "b\n",
    "\n",
    "np.vstack((a,b)) # append row\n",
    "np.hstack((a,b)) # append column"
   ]
  },
  {
   "cell_type": "markdown",
   "metadata": {},
   "source": [
    "---\n",
    "p11"
   ]
  },
  {
   "cell_type": "markdown",
   "metadata": {},
   "source": [
    "## Axis\n",
    "- **For array of shape M x N,**\n",
    "  - axis = 0 : M rows\n",
    "  - axis = 1 : N columns"
   ]
  },
  {
   "cell_type": "code",
   "execution_count": 115,
   "metadata": {
    "collapsed": true
   },
   "outputs": [
    {
     "output_type": "execute_result",
     "data": {
      "text/plain": [
       "array([[0, 1, 2],\n",
       "       [3, 4, 5]])"
      ]
     },
     "metadata": {},
     "execution_count": 115
    },
    {
     "output_type": "execute_result",
     "data": {
      "text/plain": [
       "array([3, 5, 7])"
      ]
     },
     "metadata": {},
     "execution_count": 115
    },
    {
     "output_type": "execute_result",
     "data": {
      "text/plain": [
       "array([ 3, 12])"
      ]
     },
     "metadata": {},
     "execution_count": 115
    }
   ],
   "source": [
    "a = np.arange(6).reshape(2,3)\n",
    "a\n",
    "a.sum(axis=0) # axis = 0, x axis(row)\n",
    "a.sum(axis=1) # axis = 1, y axis(colum)"
   ]
  },
  {
   "cell_type": "code",
   "execution_count": 116,
   "metadata": {
    "collapsed": true,
    "scrolled": true
   },
   "outputs": [
    {
     "output_type": "execute_result",
     "data": {
      "text/plain": [
       "array([[20, 10],\n",
       "       [ 2,  1]])"
      ]
     },
     "metadata": {},
     "execution_count": 116
    },
    {
     "output_type": "execute_result",
     "data": {
      "text/plain": [
       "array([[ 2,  1],\n",
       "       [20, 10]])"
      ]
     },
     "metadata": {},
     "execution_count": 116
    },
    {
     "output_type": "execute_result",
     "data": {
      "text/plain": [
       "array([[10, 20],\n",
       "       [ 1,  2]])"
      ]
     },
     "metadata": {},
     "execution_count": 116
    }
   ],
   "source": [
    "a = np.array([[20, 10], [2, 1]])\n",
    "a\n",
    "np.sort(a, axis=0)\n",
    "np.sort(a, axis=1)"
   ]
  },
  {
   "cell_type": "markdown",
   "metadata": {},
   "source": [
    "---\n",
    "p12"
   ]
  },
  {
   "cell_type": "markdown",
   "metadata": {},
   "source": [
    "## Basic Statistics\n",
    "- **max(), min()**"
   ]
  },
  {
   "cell_type": "code",
   "execution_count": 117,
   "metadata": {
    "collapsed": true
   },
   "outputs": [
    {
     "output_type": "execute_result",
     "data": {
      "text/plain": [
       "array([[1, 2],\n",
       "       [3, 4]])"
      ]
     },
     "metadata": {},
     "execution_count": 117
    },
    {
     "output_type": "execute_result",
     "data": {
      "text/plain": [
       "4"
      ]
     },
     "metadata": {},
     "execution_count": 117
    },
    {
     "output_type": "execute_result",
     "data": {
      "text/plain": [
       "1"
      ]
     },
     "metadata": {},
     "execution_count": 117
    }
   ],
   "source": [
    "a = np.array([[1, 2], [3, 4]])\n",
    "a \n",
    "\n",
    "np.max(a) # max\n",
    "np.min(a) # min"
   ]
  },
  {
   "cell_type": "markdown",
   "metadata": {},
   "source": [
    "- **mean(), std(), var(), ...**"
   ]
  },
  {
   "cell_type": "code",
   "execution_count": 118,
   "metadata": {
    "collapsed": true
   },
   "outputs": [
    {
     "output_type": "execute_result",
     "data": {
      "text/plain": [
       "2.5"
      ]
     },
     "metadata": {},
     "execution_count": 118
    },
    {
     "output_type": "execute_result",
     "data": {
      "text/plain": [
       "array([2., 3.])"
      ]
     },
     "metadata": {},
     "execution_count": 118
    },
    {
     "output_type": "execute_result",
     "data": {
      "text/plain": [
       "array([1.5, 3.5])"
      ]
     },
     "metadata": {},
     "execution_count": 118
    },
    {
     "output_type": "execute_result",
     "data": {
      "text/plain": [
       "1.118033988749895"
      ]
     },
     "metadata": {},
     "execution_count": 118
    },
    {
     "output_type": "execute_result",
     "data": {
      "text/plain": [
       "array([1., 1.])"
      ]
     },
     "metadata": {},
     "execution_count": 118
    },
    {
     "output_type": "execute_result",
     "data": {
      "text/plain": [
       "array([0.5, 0.5])"
      ]
     },
     "metadata": {},
     "execution_count": 118
    },
    {
     "output_type": "execute_result",
     "data": {
      "text/plain": [
       "1.25"
      ]
     },
     "metadata": {},
     "execution_count": 118
    },
    {
     "output_type": "execute_result",
     "data": {
      "text/plain": [
       "array([1., 1.])"
      ]
     },
     "metadata": {},
     "execution_count": 118
    },
    {
     "output_type": "execute_result",
     "data": {
      "text/plain": [
       "array([0.25, 0.25])"
      ]
     },
     "metadata": {},
     "execution_count": 118
    }
   ],
   "source": [
    "np.mean(a) # mean\n",
    "np.mean(a,axis=0)\n",
    "np.mean(a, axis=1)\n",
    "\n",
    "np.std(a) # standard deviation\n",
    "np.std(a, axis=0)\n",
    "np.std(a,axis=1)\n",
    "\n",
    "np.var(a) # variance\n",
    "np.var(a,axis=0)\n",
    "np.var(a, axis=1)"
   ]
  },
  {
   "cell_type": "markdown",
   "metadata": {},
   "source": [
    "---\n",
    "p13, 14"
   ]
  },
  {
   "cell_type": "markdown",
   "metadata": {},
   "source": [
    "# 2. Pandas Tutorial"
   ]
  },
  {
   "cell_type": "markdown",
   "metadata": {},
   "source": [
    "## Object Creation"
   ]
  },
  {
   "cell_type": "markdown",
   "metadata": {},
   "source": [
    "* **Series, DataFrame**"
   ]
  },
  {
   "cell_type": "code",
   "execution_count": 119,
   "metadata": {
    "collapsed": true
   },
   "outputs": [],
   "source": [
    "from IPython.core.interactiveshell import InteractiveShell\n",
    "InteractiveShell.ast_node_interactivity = \"all\""
   ]
  },
  {
   "cell_type": "code",
   "execution_count": 120,
   "metadata": {
    "collapsed": true,
    "jupyter": {
     "outputs_hidden": false
    },
    "scrolled": true
   },
   "outputs": [
    {
     "output_type": "execute_result",
     "data": {
      "text/plain": [
       "0    1\n",
       "1    3\n",
       "2    5\n",
       "3    7\n",
       "4    9\n",
       "dtype: int64"
      ]
     },
     "metadata": {},
     "execution_count": 120
    }
   ],
   "source": [
    "import numpy as np\n",
    "import pandas as pd\n",
    "\n",
    "s = pd.Series([1,3,5,7,9])\n",
    "s"
   ]
  },
  {
   "cell_type": "code",
   "execution_count": 121,
   "metadata": {
    "collapsed": true,
    "jupyter": {
     "outputs_hidden": false
    },
    "scrolled": true
   },
   "outputs": [
    {
     "output_type": "execute_result",
     "data": {
      "text/plain": [
       "   Name  height  weight\n",
       "0  John     172      67\n",
       "1  Bill     168      72\n",
       "2   Tom     185      88"
      ],
      "text/html": "<div>\n<style scoped>\n    .dataframe tbody tr th:only-of-type {\n        vertical-align: middle;\n    }\n\n    .dataframe tbody tr th {\n        vertical-align: top;\n    }\n\n    .dataframe thead th {\n        text-align: right;\n    }\n</style>\n<table border=\"1\" class=\"dataframe\">\n  <thead>\n    <tr style=\"text-align: right;\">\n      <th></th>\n      <th>Name</th>\n      <th>height</th>\n      <th>weight</th>\n    </tr>\n  </thead>\n  <tbody>\n    <tr>\n      <th>0</th>\n      <td>John</td>\n      <td>172</td>\n      <td>67</td>\n    </tr>\n    <tr>\n      <th>1</th>\n      <td>Bill</td>\n      <td>168</td>\n      <td>72</td>\n    </tr>\n    <tr>\n      <th>2</th>\n      <td>Tom</td>\n      <td>185</td>\n      <td>88</td>\n    </tr>\n  </tbody>\n</table>\n</div>"
     },
     "metadata": {},
     "execution_count": 121
    }
   ],
   "source": [
    "data = {\n",
    "    \"Name\":[\"John\", \"Bill\", \"Tom\"],\n",
    "    \"height\": [172, 168,185],\n",
    "    \"weight\":[67,72,88]\n",
    "}\n",
    "\n",
    "\n",
    "\n",
    "\n",
    "df = pd.DataFrame(data)\n",
    "df"
   ]
  },
  {
   "cell_type": "markdown",
   "metadata": {},
   "source": [
    "---\n",
    "p15"
   ]
  },
  {
   "cell_type": "markdown",
   "metadata": {},
   "source": [
    "## Getting Data In\n",
    "- **read_csv()**"
   ]
  },
  {
   "cell_type": "code",
   "execution_count": 122,
   "metadata": {
    "collapsed": true,
    "jupyter": {
     "outputs_hidden": false
    }
   },
   "outputs": [
    {
     "output_type": "execute_result",
     "data": {
      "text/plain": [
       "   angle  distance  car\n",
       "0    1.3      0.43    1\n",
       "1    1.3      0.37    2\n",
       "2    1.3      0.27    3\n",
       "3    4.0      0.84    1\n",
       "4    4.0      0.92    2\n",
       "5    4.0      0.69    3\n",
       "6    2.7      0.58    1\n",
       "7    2.7      0.64    2\n",
       "8    2.7      0.55    3"
      ],
      "text/html": "<div>\n<style scoped>\n    .dataframe tbody tr th:only-of-type {\n        vertical-align: middle;\n    }\n\n    .dataframe tbody tr th {\n        vertical-align: top;\n    }\n\n    .dataframe thead th {\n        text-align: right;\n    }\n</style>\n<table border=\"1\" class=\"dataframe\">\n  <thead>\n    <tr style=\"text-align: right;\">\n      <th></th>\n      <th>angle</th>\n      <th>distance</th>\n      <th>car</th>\n    </tr>\n  </thead>\n  <tbody>\n    <tr>\n      <th>0</th>\n      <td>1.3</td>\n      <td>0.43</td>\n      <td>1</td>\n    </tr>\n    <tr>\n      <th>1</th>\n      <td>1.3</td>\n      <td>0.37</td>\n      <td>2</td>\n    </tr>\n    <tr>\n      <th>2</th>\n      <td>1.3</td>\n      <td>0.27</td>\n      <td>3</td>\n    </tr>\n    <tr>\n      <th>3</th>\n      <td>4.0</td>\n      <td>0.84</td>\n      <td>1</td>\n    </tr>\n    <tr>\n      <th>4</th>\n      <td>4.0</td>\n      <td>0.92</td>\n      <td>2</td>\n    </tr>\n    <tr>\n      <th>5</th>\n      <td>4.0</td>\n      <td>0.69</td>\n      <td>3</td>\n    </tr>\n    <tr>\n      <th>6</th>\n      <td>2.7</td>\n      <td>0.58</td>\n      <td>1</td>\n    </tr>\n    <tr>\n      <th>7</th>\n      <td>2.7</td>\n      <td>0.64</td>\n      <td>2</td>\n    </tr>\n    <tr>\n      <th>8</th>\n      <td>2.7</td>\n      <td>0.55</td>\n      <td>3</td>\n    </tr>\n  </tbody>\n</table>\n</div>"
     },
     "metadata": {},
     "execution_count": 122
    }
   ],
   "source": [
    "# Read data from csv file \n",
    "toycars = pd.read_csv(\"toycars.csv\")\n",
    "toycars"
   ]
  },
  {
   "cell_type": "markdown",
   "metadata": {},
   "source": [
    "---\n",
    "p16"
   ]
  },
  {
   "cell_type": "markdown",
   "metadata": {},
   "source": [
    "## Viewing Data"
   ]
  },
  {
   "cell_type": "markdown",
   "metadata": {},
   "source": [
    "* **head() & tail()**"
   ]
  },
  {
   "cell_type": "code",
   "execution_count": 123,
   "metadata": {
    "collapsed": true,
    "jupyter": {
     "outputs_hidden": false
    }
   },
   "outputs": [
    {
     "output_type": "execute_result",
     "data": {
      "text/plain": [
       "   angle  distance  car\n",
       "0    1.3      0.43    1\n",
       "1    1.3      0.37    2"
      ],
      "text/html": "<div>\n<style scoped>\n    .dataframe tbody tr th:only-of-type {\n        vertical-align: middle;\n    }\n\n    .dataframe tbody tr th {\n        vertical-align: top;\n    }\n\n    .dataframe thead th {\n        text-align: right;\n    }\n</style>\n<table border=\"1\" class=\"dataframe\">\n  <thead>\n    <tr style=\"text-align: right;\">\n      <th></th>\n      <th>angle</th>\n      <th>distance</th>\n      <th>car</th>\n    </tr>\n  </thead>\n  <tbody>\n    <tr>\n      <th>0</th>\n      <td>1.3</td>\n      <td>0.43</td>\n      <td>1</td>\n    </tr>\n    <tr>\n      <th>1</th>\n      <td>1.3</td>\n      <td>0.37</td>\n      <td>2</td>\n    </tr>\n  </tbody>\n</table>\n</div>"
     },
     "metadata": {},
     "execution_count": 123
    },
    {
     "output_type": "execute_result",
     "data": {
      "text/plain": [
       "   angle  distance  car\n",
       "7    2.7      0.64    2\n",
       "8    2.7      0.55    3"
      ],
      "text/html": "<div>\n<style scoped>\n    .dataframe tbody tr th:only-of-type {\n        vertical-align: middle;\n    }\n\n    .dataframe tbody tr th {\n        vertical-align: top;\n    }\n\n    .dataframe thead th {\n        text-align: right;\n    }\n</style>\n<table border=\"1\" class=\"dataframe\">\n  <thead>\n    <tr style=\"text-align: right;\">\n      <th></th>\n      <th>angle</th>\n      <th>distance</th>\n      <th>car</th>\n    </tr>\n  </thead>\n  <tbody>\n    <tr>\n      <th>7</th>\n      <td>2.7</td>\n      <td>0.64</td>\n      <td>2</td>\n    </tr>\n    <tr>\n      <th>8</th>\n      <td>2.7</td>\n      <td>0.55</td>\n      <td>3</td>\n    </tr>\n  </tbody>\n</table>\n</div>"
     },
     "metadata": {},
     "execution_count": 123
    }
   ],
   "source": [
    "# head() & tail()\n",
    "toycars.head(2)\n",
    "toycars.tail(2)"
   ]
  },
  {
   "cell_type": "markdown",
   "metadata": {},
   "source": [
    "* **index & columns**"
   ]
  },
  {
   "cell_type": "code",
   "execution_count": 124,
   "metadata": {
    "collapsed": true,
    "jupyter": {
     "outputs_hidden": false
    },
    "scrolled": false
   },
   "outputs": [
    {
     "output_type": "execute_result",
     "data": {
      "text/plain": [
       "RangeIndex(start=0, stop=9, step=1)"
      ]
     },
     "metadata": {},
     "execution_count": 124
    },
    {
     "output_type": "execute_result",
     "data": {
      "text/plain": [
       "Index(['angle', 'distance', 'car'], dtype='object')"
      ]
     },
     "metadata": {},
     "execution_count": 124
    }
   ],
   "source": [
    "# index & columns\n",
    "toycars.index\n",
    "toycars.columns"
   ]
  },
  {
   "cell_type": "markdown",
   "metadata": {},
   "source": [
    "---\n",
    "p17"
   ]
  },
  {
   "cell_type": "markdown",
   "metadata": {},
   "source": [
    "* **describe()**"
   ]
  },
  {
   "cell_type": "code",
   "execution_count": 125,
   "metadata": {
    "collapsed": true,
    "jupyter": {
     "outputs_hidden": false
    }
   },
   "outputs": [
    {
     "output_type": "execute_result",
     "data": {
      "text/plain": [
       "          angle  distance       car\n",
       "count  9.000000  9.000000  9.000000\n",
       "mean   2.666667  0.587778  2.000000\n",
       "std    1.169402  0.212707  0.866025\n",
       "min    1.300000  0.270000  1.000000\n",
       "25%    1.300000  0.430000  1.000000\n",
       "50%    2.700000  0.580000  2.000000\n",
       "75%    4.000000  0.690000  3.000000\n",
       "max    4.000000  0.920000  3.000000"
      ],
      "text/html": "<div>\n<style scoped>\n    .dataframe tbody tr th:only-of-type {\n        vertical-align: middle;\n    }\n\n    .dataframe tbody tr th {\n        vertical-align: top;\n    }\n\n    .dataframe thead th {\n        text-align: right;\n    }\n</style>\n<table border=\"1\" class=\"dataframe\">\n  <thead>\n    <tr style=\"text-align: right;\">\n      <th></th>\n      <th>angle</th>\n      <th>distance</th>\n      <th>car</th>\n    </tr>\n  </thead>\n  <tbody>\n    <tr>\n      <th>count</th>\n      <td>9.000000</td>\n      <td>9.000000</td>\n      <td>9.000000</td>\n    </tr>\n    <tr>\n      <th>mean</th>\n      <td>2.666667</td>\n      <td>0.587778</td>\n      <td>2.000000</td>\n    </tr>\n    <tr>\n      <th>std</th>\n      <td>1.169402</td>\n      <td>0.212707</td>\n      <td>0.866025</td>\n    </tr>\n    <tr>\n      <th>min</th>\n      <td>1.300000</td>\n      <td>0.270000</td>\n      <td>1.000000</td>\n    </tr>\n    <tr>\n      <th>25%</th>\n      <td>1.300000</td>\n      <td>0.430000</td>\n      <td>1.000000</td>\n    </tr>\n    <tr>\n      <th>50%</th>\n      <td>2.700000</td>\n      <td>0.580000</td>\n      <td>2.000000</td>\n    </tr>\n    <tr>\n      <th>75%</th>\n      <td>4.000000</td>\n      <td>0.690000</td>\n      <td>3.000000</td>\n    </tr>\n    <tr>\n      <th>max</th>\n      <td>4.000000</td>\n      <td>0.920000</td>\n      <td>3.000000</td>\n    </tr>\n  </tbody>\n</table>\n</div>"
     },
     "metadata": {},
     "execution_count": 125
    }
   ],
   "source": [
    "# describe()\n",
    "toycars.describe()"
   ]
  },
  {
   "cell_type": "markdown",
   "metadata": {},
   "source": [
    "---\n",
    "p18"
   ]
  },
  {
   "cell_type": "markdown",
   "metadata": {},
   "source": [
    "## Selection"
   ]
  },
  {
   "cell_type": "markdown",
   "metadata": {},
   "source": [
    "* **by labels**"
   ]
  },
  {
   "cell_type": "code",
   "execution_count": 126,
   "metadata": {
    "collapsed": true,
    "jupyter": {
     "outputs_hidden": false
    }
   },
   "outputs": [
    {
     "output_type": "execute_result",
     "data": {
      "text/plain": [
       "   angle  distance\n",
       "1    1.3      0.37\n",
       "2    1.3      0.27\n",
       "3    4.0      0.84"
      ],
      "text/html": "<div>\n<style scoped>\n    .dataframe tbody tr th:only-of-type {\n        vertical-align: middle;\n    }\n\n    .dataframe tbody tr th {\n        vertical-align: top;\n    }\n\n    .dataframe thead th {\n        text-align: right;\n    }\n</style>\n<table border=\"1\" class=\"dataframe\">\n  <thead>\n    <tr style=\"text-align: right;\">\n      <th></th>\n      <th>angle</th>\n      <th>distance</th>\n    </tr>\n  </thead>\n  <tbody>\n    <tr>\n      <th>1</th>\n      <td>1.3</td>\n      <td>0.37</td>\n    </tr>\n    <tr>\n      <th>2</th>\n      <td>1.3</td>\n      <td>0.27</td>\n    </tr>\n    <tr>\n      <th>3</th>\n      <td>4.0</td>\n      <td>0.84</td>\n    </tr>\n  </tbody>\n</table>\n</div>"
     },
     "metadata": {},
     "execution_count": 126
    }
   ],
   "source": [
    "# 'loc'ation : [row index, [column name]]\n",
    "toycars.loc[1:3, [\"angle\", \"distance\"]]"
   ]
  },
  {
   "cell_type": "markdown",
   "metadata": {},
   "source": [
    "* **by position**"
   ]
  },
  {
   "cell_type": "code",
   "execution_count": 127,
   "metadata": {
    "collapsed": true,
    "jupyter": {
     "outputs_hidden": false
    },
    "scrolled": true
   },
   "outputs": [
    {
     "output_type": "execute_result",
     "data": {
      "text/plain": [
       "   distance  car\n",
       "2      0.27    3\n",
       "4      0.92    2\n",
       "6      0.58    1"
      ],
      "text/html": "<div>\n<style scoped>\n    .dataframe tbody tr th:only-of-type {\n        vertical-align: middle;\n    }\n\n    .dataframe tbody tr th {\n        vertical-align: top;\n    }\n\n    .dataframe thead th {\n        text-align: right;\n    }\n</style>\n<table border=\"1\" class=\"dataframe\">\n  <thead>\n    <tr style=\"text-align: right;\">\n      <th></th>\n      <th>distance</th>\n      <th>car</th>\n    </tr>\n  </thead>\n  <tbody>\n    <tr>\n      <th>2</th>\n      <td>0.27</td>\n      <td>3</td>\n    </tr>\n    <tr>\n      <th>4</th>\n      <td>0.92</td>\n      <td>2</td>\n    </tr>\n    <tr>\n      <th>6</th>\n      <td>0.58</td>\n      <td>1</td>\n    </tr>\n  </tbody>\n</table>\n</div>"
     },
     "metadata": {},
     "execution_count": 127
    }
   ],
   "source": [
    "# 'i'nteger 'loc'ation : select via position, numpy style\n",
    "toycars.iloc[[2,4,6], [1,2]]"
   ]
  },
  {
   "cell_type": "markdown",
   "metadata": {},
   "source": [
    "---\n",
    "p19"
   ]
  },
  {
   "cell_type": "markdown",
   "metadata": {},
   "source": [
    "* **Boolean indexing**"
   ]
  },
  {
   "cell_type": "code",
   "execution_count": 128,
   "metadata": {
    "collapsed": true,
    "scrolled": true
   },
   "outputs": [
    {
     "output_type": "execute_result",
     "data": {
      "text/plain": [
       "   angle  distance  car\n",
       "0    1.3      0.43    1\n",
       "1    1.3      0.37    2\n",
       "2    1.3      0.27    3\n",
       "3    4.0      0.84    1\n",
       "4    4.0      0.92    2\n",
       "5    4.0      0.69    3\n",
       "6    2.7      0.58    1\n",
       "7    2.7      0.64    2\n",
       "8    2.7      0.55    3"
      ],
      "text/html": "<div>\n<style scoped>\n    .dataframe tbody tr th:only-of-type {\n        vertical-align: middle;\n    }\n\n    .dataframe tbody tr th {\n        vertical-align: top;\n    }\n\n    .dataframe thead th {\n        text-align: right;\n    }\n</style>\n<table border=\"1\" class=\"dataframe\">\n  <thead>\n    <tr style=\"text-align: right;\">\n      <th></th>\n      <th>angle</th>\n      <th>distance</th>\n      <th>car</th>\n    </tr>\n  </thead>\n  <tbody>\n    <tr>\n      <th>0</th>\n      <td>1.3</td>\n      <td>0.43</td>\n      <td>1</td>\n    </tr>\n    <tr>\n      <th>1</th>\n      <td>1.3</td>\n      <td>0.37</td>\n      <td>2</td>\n    </tr>\n    <tr>\n      <th>2</th>\n      <td>1.3</td>\n      <td>0.27</td>\n      <td>3</td>\n    </tr>\n    <tr>\n      <th>3</th>\n      <td>4.0</td>\n      <td>0.84</td>\n      <td>1</td>\n    </tr>\n    <tr>\n      <th>4</th>\n      <td>4.0</td>\n      <td>0.92</td>\n      <td>2</td>\n    </tr>\n    <tr>\n      <th>5</th>\n      <td>4.0</td>\n      <td>0.69</td>\n      <td>3</td>\n    </tr>\n    <tr>\n      <th>6</th>\n      <td>2.7</td>\n      <td>0.58</td>\n      <td>1</td>\n    </tr>\n    <tr>\n      <th>7</th>\n      <td>2.7</td>\n      <td>0.64</td>\n      <td>2</td>\n    </tr>\n    <tr>\n      <th>8</th>\n      <td>2.7</td>\n      <td>0.55</td>\n      <td>3</td>\n    </tr>\n  </tbody>\n</table>\n</div>"
     },
     "metadata": {},
     "execution_count": 128
    }
   ],
   "source": [
    "# Select only samples with anlgle value more than 0.6\n",
    "toycars[toycars.angle > 0.6]"
   ]
  },
  {
   "cell_type": "markdown",
   "metadata": {},
   "source": [
    "---\n",
    "p20, 21"
   ]
  },
  {
   "cell_type": "markdown",
   "metadata": {},
   "source": [
    "---"
   ]
  },
  {
   "cell_type": "markdown",
   "metadata": {},
   "source": [
    "# 3. Matplotlib Tutorial"
   ]
  },
  {
   "cell_type": "code",
   "execution_count": 129,
   "metadata": {
    "collapsed": true
   },
   "outputs": [],
   "source": [
    "from IPython.core.interactiveshell import InteractiveShell\n",
    "InteractiveShell.ast_node_interactivity = \"all\""
   ]
  },
  {
   "cell_type": "markdown",
   "metadata": {},
   "source": [
    "## Plot"
   ]
  },
  {
   "cell_type": "markdown",
   "metadata": {},
   "source": [
    "* **plt.plot(x, y)**"
   ]
  },
  {
   "cell_type": "code",
   "execution_count": 130,
   "metadata": {
    "collapsed": true,
    "jupyter": {
     "outputs_hidden": false
    }
   },
   "outputs": [
    {
     "output_type": "stream",
     "name": "stdout",
     "text": [
      "Populating the interactive namespace from numpy and matplotlib\n",
      "C:\\ProgramData\\Anaconda3\\lib\\site-packages\\IPython\\core\\magics\\pylab.py:160: UserWarning: pylab import has clobbered these variables: ['clf']\n",
      "`%matplotlib` prevents importing * from pylab and numpy\n",
      "  \"\\n`%matplotlib` prevents importing * from pylab and numpy\"\n"
     ]
    },
    {
     "output_type": "execute_result",
     "data": {
      "text/plain": [
       "[<matplotlib.lines.Line2D at 0x1f820bc3c50>]"
      ]
     },
     "metadata": {},
     "execution_count": 130
    },
    {
     "output_type": "execute_result",
     "data": {
      "text/plain": [
       "Text(0, 0.5, 'output')"
      ]
     },
     "metadata": {},
     "execution_count": 130
    },
    {
     "output_type": "execute_result",
     "data": {
      "text/plain": [
       "Text(0.5, 0, 'input')"
      ]
     },
     "metadata": {},
     "execution_count": 130
    },
    {
     "output_type": "display_data",
     "data": {
      "text/plain": "<Figure size 432x288 with 1 Axes>",
      "image/svg+xml": "<?xml version=\"1.0\" encoding=\"utf-8\" standalone=\"no\"?>\r\n<!DOCTYPE svg PUBLIC \"-//W3C//DTD SVG 1.1//EN\"\r\n  \"http://www.w3.org/Graphics/SVG/1.1/DTD/svg11.dtd\">\r\n<!-- Created with matplotlib (https://matplotlib.org/) -->\r\n<svg height=\"262.19625pt\" version=\"1.1\" viewBox=\"0 0 388.965625 262.19625\" width=\"388.965625pt\" xmlns=\"http://www.w3.org/2000/svg\" xmlns:xlink=\"http://www.w3.org/1999/xlink\">\r\n <metadata>\r\n  <rdf:RDF xmlns:cc=\"http://creativecommons.org/ns#\" xmlns:dc=\"http://purl.org/dc/elements/1.1/\" xmlns:rdf=\"http://www.w3.org/1999/02/22-rdf-syntax-ns#\">\r\n   <cc:Work>\r\n    <dc:type rdf:resource=\"http://purl.org/dc/dcmitype/StillImage\"/>\r\n    <dc:date>2021-03-18T17:52:56.699889</dc:date>\r\n    <dc:format>image/svg+xml</dc:format>\r\n    <dc:creator>\r\n     <cc:Agent>\r\n      <dc:title>Matplotlib v3.3.2, https://matplotlib.org/</dc:title>\r\n     </cc:Agent>\r\n    </dc:creator>\r\n   </cc:Work>\r\n  </rdf:RDF>\r\n </metadata>\r\n <defs>\r\n  <style type=\"text/css\">*{stroke-linecap:butt;stroke-linejoin:round;}</style>\r\n </defs>\r\n <g id=\"figure_1\">\r\n  <g id=\"patch_1\">\r\n   <path d=\"M 0 262.19625 \r\nL 388.965625 262.19625 \r\nL 388.965625 0 \r\nL 0 0 \r\nz\r\n\" style=\"fill:none;\"/>\r\n  </g>\r\n  <g id=\"axes_1\">\r\n   <g id=\"patch_2\">\r\n    <path d=\"M 46.965625 224.64 \r\nL 381.765625 224.64 \r\nL 381.765625 7.2 \r\nL 46.965625 7.2 \r\nz\r\n\" style=\"fill:#ffffff;\"/>\r\n   </g>\r\n   <g id=\"matplotlib.axis_1\">\r\n    <g id=\"xtick_1\">\r\n     <g id=\"line2d_1\">\r\n      <defs>\r\n       <path d=\"M 0 0 \r\nL 0 3.5 \r\n\" id=\"m57f2a355a6\" style=\"stroke:#000000;stroke-width:0.8;\"/>\r\n      </defs>\r\n      <g>\r\n       <use style=\"stroke:#000000;stroke-width:0.8;\" x=\"62.183807\" xlink:href=\"#m57f2a355a6\" y=\"224.64\"/>\r\n      </g>\r\n     </g>\r\n     <g id=\"text_1\">\r\n      <!-- 1.0 -->\r\n      <g transform=\"translate(54.232244 239.238438)scale(0.1 -0.1)\">\r\n       <defs>\r\n        <path d=\"M 12.40625 8.296875 \r\nL 28.515625 8.296875 \r\nL 28.515625 63.921875 \r\nL 10.984375 60.40625 \r\nL 10.984375 69.390625 \r\nL 28.421875 72.90625 \r\nL 38.28125 72.90625 \r\nL 38.28125 8.296875 \r\nL 54.390625 8.296875 \r\nL 54.390625 0 \r\nL 12.40625 0 \r\nz\r\n\" id=\"DejaVuSans-49\"/>\r\n        <path d=\"M 10.6875 12.40625 \r\nL 21 12.40625 \r\nL 21 0 \r\nL 10.6875 0 \r\nz\r\n\" id=\"DejaVuSans-46\"/>\r\n        <path d=\"M 31.78125 66.40625 \r\nQ 24.171875 66.40625 20.328125 58.90625 \r\nQ 16.5 51.421875 16.5 36.375 \r\nQ 16.5 21.390625 20.328125 13.890625 \r\nQ 24.171875 6.390625 31.78125 6.390625 \r\nQ 39.453125 6.390625 43.28125 13.890625 \r\nQ 47.125 21.390625 47.125 36.375 \r\nQ 47.125 51.421875 43.28125 58.90625 \r\nQ 39.453125 66.40625 31.78125 66.40625 \r\nz\r\nM 31.78125 74.21875 \r\nQ 44.046875 74.21875 50.515625 64.515625 \r\nQ 56.984375 54.828125 56.984375 36.375 \r\nQ 56.984375 17.96875 50.515625 8.265625 \r\nQ 44.046875 -1.421875 31.78125 -1.421875 \r\nQ 19.53125 -1.421875 13.0625 8.265625 \r\nQ 6.59375 17.96875 6.59375 36.375 \r\nQ 6.59375 54.828125 13.0625 64.515625 \r\nQ 19.53125 74.21875 31.78125 74.21875 \r\nz\r\n\" id=\"DejaVuSans-48\"/>\r\n       </defs>\r\n       <use xlink:href=\"#DejaVuSans-49\"/>\r\n       <use x=\"63.623047\" xlink:href=\"#DejaVuSans-46\"/>\r\n       <use x=\"95.410156\" xlink:href=\"#DejaVuSans-48\"/>\r\n      </g>\r\n     </g>\r\n    </g>\r\n    <g id=\"xtick_2\">\r\n     <g id=\"line2d_2\">\r\n      <g>\r\n       <use style=\"stroke:#000000;stroke-width:0.8;\" x=\"100.229261\" xlink:href=\"#m57f2a355a6\" y=\"224.64\"/>\r\n      </g>\r\n     </g>\r\n     <g id=\"text_2\">\r\n      <!-- 1.5 -->\r\n      <g transform=\"translate(92.277699 239.238438)scale(0.1 -0.1)\">\r\n       <defs>\r\n        <path d=\"M 10.796875 72.90625 \r\nL 49.515625 72.90625 \r\nL 49.515625 64.59375 \r\nL 19.828125 64.59375 \r\nL 19.828125 46.734375 \r\nQ 21.96875 47.46875 24.109375 47.828125 \r\nQ 26.265625 48.1875 28.421875 48.1875 \r\nQ 40.625 48.1875 47.75 41.5 \r\nQ 54.890625 34.8125 54.890625 23.390625 \r\nQ 54.890625 11.625 47.5625 5.09375 \r\nQ 40.234375 -1.421875 26.90625 -1.421875 \r\nQ 22.3125 -1.421875 17.546875 -0.640625 \r\nQ 12.796875 0.140625 7.71875 1.703125 \r\nL 7.71875 11.625 \r\nQ 12.109375 9.234375 16.796875 8.0625 \r\nQ 21.484375 6.890625 26.703125 6.890625 \r\nQ 35.15625 6.890625 40.078125 11.328125 \r\nQ 45.015625 15.765625 45.015625 23.390625 \r\nQ 45.015625 31 40.078125 35.4375 \r\nQ 35.15625 39.890625 26.703125 39.890625 \r\nQ 22.75 39.890625 18.8125 39.015625 \r\nQ 14.890625 38.140625 10.796875 36.28125 \r\nz\r\n\" id=\"DejaVuSans-53\"/>\r\n       </defs>\r\n       <use xlink:href=\"#DejaVuSans-49\"/>\r\n       <use x=\"63.623047\" xlink:href=\"#DejaVuSans-46\"/>\r\n       <use x=\"95.410156\" xlink:href=\"#DejaVuSans-53\"/>\r\n      </g>\r\n     </g>\r\n    </g>\r\n    <g id=\"xtick_3\">\r\n     <g id=\"line2d_3\">\r\n      <g>\r\n       <use style=\"stroke:#000000;stroke-width:0.8;\" x=\"138.274716\" xlink:href=\"#m57f2a355a6\" y=\"224.64\"/>\r\n      </g>\r\n     </g>\r\n     <g id=\"text_3\">\r\n      <!-- 2.0 -->\r\n      <g transform=\"translate(130.323153 239.238438)scale(0.1 -0.1)\">\r\n       <defs>\r\n        <path d=\"M 19.1875 8.296875 \r\nL 53.609375 8.296875 \r\nL 53.609375 0 \r\nL 7.328125 0 \r\nL 7.328125 8.296875 \r\nQ 12.9375 14.109375 22.625 23.890625 \r\nQ 32.328125 33.6875 34.8125 36.53125 \r\nQ 39.546875 41.84375 41.421875 45.53125 \r\nQ 43.3125 49.21875 43.3125 52.78125 \r\nQ 43.3125 58.59375 39.234375 62.25 \r\nQ 35.15625 65.921875 28.609375 65.921875 \r\nQ 23.96875 65.921875 18.8125 64.3125 \r\nQ 13.671875 62.703125 7.8125 59.421875 \r\nL 7.8125 69.390625 \r\nQ 13.765625 71.78125 18.9375 73 \r\nQ 24.125 74.21875 28.421875 74.21875 \r\nQ 39.75 74.21875 46.484375 68.546875 \r\nQ 53.21875 62.890625 53.21875 53.421875 \r\nQ 53.21875 48.921875 51.53125 44.890625 \r\nQ 49.859375 40.875 45.40625 35.40625 \r\nQ 44.1875 33.984375 37.640625 27.21875 \r\nQ 31.109375 20.453125 19.1875 8.296875 \r\nz\r\n\" id=\"DejaVuSans-50\"/>\r\n       </defs>\r\n       <use xlink:href=\"#DejaVuSans-50\"/>\r\n       <use x=\"63.623047\" xlink:href=\"#DejaVuSans-46\"/>\r\n       <use x=\"95.410156\" xlink:href=\"#DejaVuSans-48\"/>\r\n      </g>\r\n     </g>\r\n    </g>\r\n    <g id=\"xtick_4\">\r\n     <g id=\"line2d_4\">\r\n      <g>\r\n       <use style=\"stroke:#000000;stroke-width:0.8;\" x=\"176.32017\" xlink:href=\"#m57f2a355a6\" y=\"224.64\"/>\r\n      </g>\r\n     </g>\r\n     <g id=\"text_4\">\r\n      <!-- 2.5 -->\r\n      <g transform=\"translate(168.368608 239.238438)scale(0.1 -0.1)\">\r\n       <use xlink:href=\"#DejaVuSans-50\"/>\r\n       <use x=\"63.623047\" xlink:href=\"#DejaVuSans-46\"/>\r\n       <use x=\"95.410156\" xlink:href=\"#DejaVuSans-53\"/>\r\n      </g>\r\n     </g>\r\n    </g>\r\n    <g id=\"xtick_5\">\r\n     <g id=\"line2d_5\">\r\n      <g>\r\n       <use style=\"stroke:#000000;stroke-width:0.8;\" x=\"214.365625\" xlink:href=\"#m57f2a355a6\" y=\"224.64\"/>\r\n      </g>\r\n     </g>\r\n     <g id=\"text_5\">\r\n      <!-- 3.0 -->\r\n      <g transform=\"translate(206.414063 239.238438)scale(0.1 -0.1)\">\r\n       <defs>\r\n        <path d=\"M 40.578125 39.3125 \r\nQ 47.65625 37.796875 51.625 33 \r\nQ 55.609375 28.21875 55.609375 21.1875 \r\nQ 55.609375 10.40625 48.1875 4.484375 \r\nQ 40.765625 -1.421875 27.09375 -1.421875 \r\nQ 22.515625 -1.421875 17.65625 -0.515625 \r\nQ 12.796875 0.390625 7.625 2.203125 \r\nL 7.625 11.71875 \r\nQ 11.71875 9.328125 16.59375 8.109375 \r\nQ 21.484375 6.890625 26.8125 6.890625 \r\nQ 36.078125 6.890625 40.9375 10.546875 \r\nQ 45.796875 14.203125 45.796875 21.1875 \r\nQ 45.796875 27.640625 41.28125 31.265625 \r\nQ 36.765625 34.90625 28.71875 34.90625 \r\nL 20.21875 34.90625 \r\nL 20.21875 43.015625 \r\nL 29.109375 43.015625 \r\nQ 36.375 43.015625 40.234375 45.921875 \r\nQ 44.09375 48.828125 44.09375 54.296875 \r\nQ 44.09375 59.90625 40.109375 62.90625 \r\nQ 36.140625 65.921875 28.71875 65.921875 \r\nQ 24.65625 65.921875 20.015625 65.03125 \r\nQ 15.375 64.15625 9.8125 62.3125 \r\nL 9.8125 71.09375 \r\nQ 15.4375 72.65625 20.34375 73.4375 \r\nQ 25.25 74.21875 29.59375 74.21875 \r\nQ 40.828125 74.21875 47.359375 69.109375 \r\nQ 53.90625 64.015625 53.90625 55.328125 \r\nQ 53.90625 49.265625 50.4375 45.09375 \r\nQ 46.96875 40.921875 40.578125 39.3125 \r\nz\r\n\" id=\"DejaVuSans-51\"/>\r\n       </defs>\r\n       <use xlink:href=\"#DejaVuSans-51\"/>\r\n       <use x=\"63.623047\" xlink:href=\"#DejaVuSans-46\"/>\r\n       <use x=\"95.410156\" xlink:href=\"#DejaVuSans-48\"/>\r\n      </g>\r\n     </g>\r\n    </g>\r\n    <g id=\"xtick_6\">\r\n     <g id=\"line2d_6\">\r\n      <g>\r\n       <use style=\"stroke:#000000;stroke-width:0.8;\" x=\"252.41108\" xlink:href=\"#m57f2a355a6\" y=\"224.64\"/>\r\n      </g>\r\n     </g>\r\n     <g id=\"text_6\">\r\n      <!-- 3.5 -->\r\n      <g transform=\"translate(244.459517 239.238438)scale(0.1 -0.1)\">\r\n       <use xlink:href=\"#DejaVuSans-51\"/>\r\n       <use x=\"63.623047\" xlink:href=\"#DejaVuSans-46\"/>\r\n       <use x=\"95.410156\" xlink:href=\"#DejaVuSans-53\"/>\r\n      </g>\r\n     </g>\r\n    </g>\r\n    <g id=\"xtick_7\">\r\n     <g id=\"line2d_7\">\r\n      <g>\r\n       <use style=\"stroke:#000000;stroke-width:0.8;\" x=\"290.456534\" xlink:href=\"#m57f2a355a6\" y=\"224.64\"/>\r\n      </g>\r\n     </g>\r\n     <g id=\"text_7\">\r\n      <!-- 4.0 -->\r\n      <g transform=\"translate(282.504972 239.238438)scale(0.1 -0.1)\">\r\n       <defs>\r\n        <path d=\"M 37.796875 64.3125 \r\nL 12.890625 25.390625 \r\nL 37.796875 25.390625 \r\nz\r\nM 35.203125 72.90625 \r\nL 47.609375 72.90625 \r\nL 47.609375 25.390625 \r\nL 58.015625 25.390625 \r\nL 58.015625 17.1875 \r\nL 47.609375 17.1875 \r\nL 47.609375 0 \r\nL 37.796875 0 \r\nL 37.796875 17.1875 \r\nL 4.890625 17.1875 \r\nL 4.890625 26.703125 \r\nz\r\n\" id=\"DejaVuSans-52\"/>\r\n       </defs>\r\n       <use xlink:href=\"#DejaVuSans-52\"/>\r\n       <use x=\"63.623047\" xlink:href=\"#DejaVuSans-46\"/>\r\n       <use x=\"95.410156\" xlink:href=\"#DejaVuSans-48\"/>\r\n      </g>\r\n     </g>\r\n    </g>\r\n    <g id=\"xtick_8\">\r\n     <g id=\"line2d_8\">\r\n      <g>\r\n       <use style=\"stroke:#000000;stroke-width:0.8;\" x=\"328.501989\" xlink:href=\"#m57f2a355a6\" y=\"224.64\"/>\r\n      </g>\r\n     </g>\r\n     <g id=\"text_8\">\r\n      <!-- 4.5 -->\r\n      <g transform=\"translate(320.550426 239.238438)scale(0.1 -0.1)\">\r\n       <use xlink:href=\"#DejaVuSans-52\"/>\r\n       <use x=\"63.623047\" xlink:href=\"#DejaVuSans-46\"/>\r\n       <use x=\"95.410156\" xlink:href=\"#DejaVuSans-53\"/>\r\n      </g>\r\n     </g>\r\n    </g>\r\n    <g id=\"xtick_9\">\r\n     <g id=\"line2d_9\">\r\n      <g>\r\n       <use style=\"stroke:#000000;stroke-width:0.8;\" x=\"366.547443\" xlink:href=\"#m57f2a355a6\" y=\"224.64\"/>\r\n      </g>\r\n     </g>\r\n     <g id=\"text_9\">\r\n      <!-- 5.0 -->\r\n      <g transform=\"translate(358.595881 239.238438)scale(0.1 -0.1)\">\r\n       <use xlink:href=\"#DejaVuSans-53\"/>\r\n       <use x=\"63.623047\" xlink:href=\"#DejaVuSans-46\"/>\r\n       <use x=\"95.410156\" xlink:href=\"#DejaVuSans-48\"/>\r\n      </g>\r\n     </g>\r\n    </g>\r\n    <g id=\"text_10\">\r\n     <!-- input -->\r\n     <g transform=\"translate(201.504688 252.916563)scale(0.1 -0.1)\">\r\n      <defs>\r\n       <path d=\"M 9.421875 54.6875 \r\nL 18.40625 54.6875 \r\nL 18.40625 0 \r\nL 9.421875 0 \r\nz\r\nM 9.421875 75.984375 \r\nL 18.40625 75.984375 \r\nL 18.40625 64.59375 \r\nL 9.421875 64.59375 \r\nz\r\n\" id=\"DejaVuSans-105\"/>\r\n       <path d=\"M 54.890625 33.015625 \r\nL 54.890625 0 \r\nL 45.90625 0 \r\nL 45.90625 32.71875 \r\nQ 45.90625 40.484375 42.875 44.328125 \r\nQ 39.84375 48.1875 33.796875 48.1875 \r\nQ 26.515625 48.1875 22.3125 43.546875 \r\nQ 18.109375 38.921875 18.109375 30.90625 \r\nL 18.109375 0 \r\nL 9.078125 0 \r\nL 9.078125 54.6875 \r\nL 18.109375 54.6875 \r\nL 18.109375 46.1875 \r\nQ 21.34375 51.125 25.703125 53.5625 \r\nQ 30.078125 56 35.796875 56 \r\nQ 45.21875 56 50.046875 50.171875 \r\nQ 54.890625 44.34375 54.890625 33.015625 \r\nz\r\n\" id=\"DejaVuSans-110\"/>\r\n       <path d=\"M 18.109375 8.203125 \r\nL 18.109375 -20.796875 \r\nL 9.078125 -20.796875 \r\nL 9.078125 54.6875 \r\nL 18.109375 54.6875 \r\nL 18.109375 46.390625 \r\nQ 20.953125 51.265625 25.265625 53.625 \r\nQ 29.59375 56 35.59375 56 \r\nQ 45.5625 56 51.78125 48.09375 \r\nQ 58.015625 40.1875 58.015625 27.296875 \r\nQ 58.015625 14.40625 51.78125 6.484375 \r\nQ 45.5625 -1.421875 35.59375 -1.421875 \r\nQ 29.59375 -1.421875 25.265625 0.953125 \r\nQ 20.953125 3.328125 18.109375 8.203125 \r\nz\r\nM 48.6875 27.296875 \r\nQ 48.6875 37.203125 44.609375 42.84375 \r\nQ 40.53125 48.484375 33.40625 48.484375 \r\nQ 26.265625 48.484375 22.1875 42.84375 \r\nQ 18.109375 37.203125 18.109375 27.296875 \r\nQ 18.109375 17.390625 22.1875 11.75 \r\nQ 26.265625 6.109375 33.40625 6.109375 \r\nQ 40.53125 6.109375 44.609375 11.75 \r\nQ 48.6875 17.390625 48.6875 27.296875 \r\nz\r\n\" id=\"DejaVuSans-112\"/>\r\n       <path d=\"M 8.5 21.578125 \r\nL 8.5 54.6875 \r\nL 17.484375 54.6875 \r\nL 17.484375 21.921875 \r\nQ 17.484375 14.15625 20.5 10.265625 \r\nQ 23.53125 6.390625 29.59375 6.390625 \r\nQ 36.859375 6.390625 41.078125 11.03125 \r\nQ 45.3125 15.671875 45.3125 23.6875 \r\nL 45.3125 54.6875 \r\nL 54.296875 54.6875 \r\nL 54.296875 0 \r\nL 45.3125 0 \r\nL 45.3125 8.40625 \r\nQ 42.046875 3.421875 37.71875 1 \r\nQ 33.40625 -1.421875 27.6875 -1.421875 \r\nQ 18.265625 -1.421875 13.375 4.4375 \r\nQ 8.5 10.296875 8.5 21.578125 \r\nz\r\nM 31.109375 56 \r\nz\r\n\" id=\"DejaVuSans-117\"/>\r\n       <path d=\"M 18.3125 70.21875 \r\nL 18.3125 54.6875 \r\nL 36.8125 54.6875 \r\nL 36.8125 47.703125 \r\nL 18.3125 47.703125 \r\nL 18.3125 18.015625 \r\nQ 18.3125 11.328125 20.140625 9.421875 \r\nQ 21.96875 7.515625 27.59375 7.515625 \r\nL 36.8125 7.515625 \r\nL 36.8125 0 \r\nL 27.59375 0 \r\nQ 17.1875 0 13.234375 3.875 \r\nQ 9.28125 7.765625 9.28125 18.015625 \r\nL 9.28125 47.703125 \r\nL 2.6875 47.703125 \r\nL 2.6875 54.6875 \r\nL 9.28125 54.6875 \r\nL 9.28125 70.21875 \r\nz\r\n\" id=\"DejaVuSans-116\"/>\r\n      </defs>\r\n      <use xlink:href=\"#DejaVuSans-105\"/>\r\n      <use x=\"27.783203\" xlink:href=\"#DejaVuSans-110\"/>\r\n      <use x=\"91.162109\" xlink:href=\"#DejaVuSans-112\"/>\r\n      <use x=\"154.638672\" xlink:href=\"#DejaVuSans-117\"/>\r\n      <use x=\"218.017578\" xlink:href=\"#DejaVuSans-116\"/>\r\n     </g>\r\n    </g>\r\n   </g>\r\n   <g id=\"matplotlib.axis_2\">\r\n    <g id=\"ytick_1\">\r\n     <g id=\"line2d_10\">\r\n      <defs>\r\n       <path d=\"M 0 0 \r\nL -3.5 0 \r\n\" id=\"m6ab90d9427\" style=\"stroke:#000000;stroke-width:0.8;\"/>\r\n      </defs>\r\n      <g>\r\n       <use style=\"stroke:#000000;stroke-width:0.8;\" x=\"46.965625\" xlink:href=\"#m6ab90d9427\" y=\"216.350499\"/>\r\n      </g>\r\n     </g>\r\n     <g id=\"text_11\">\r\n      <!-- 0 -->\r\n      <g transform=\"translate(33.603125 220.149717)scale(0.1 -0.1)\">\r\n       <use xlink:href=\"#DejaVuSans-48\"/>\r\n      </g>\r\n     </g>\r\n    </g>\r\n    <g id=\"ytick_2\">\r\n     <g id=\"line2d_11\">\r\n      <g>\r\n       <use style=\"stroke:#000000;stroke-width:0.8;\" x=\"46.965625\" xlink:href=\"#m6ab90d9427\" y=\"184.467801\"/>\r\n      </g>\r\n     </g>\r\n     <g id=\"text_12\">\r\n      <!-- 20 -->\r\n      <g transform=\"translate(27.240625 188.267019)scale(0.1 -0.1)\">\r\n       <use xlink:href=\"#DejaVuSans-50\"/>\r\n       <use x=\"63.623047\" xlink:href=\"#DejaVuSans-48\"/>\r\n      </g>\r\n     </g>\r\n    </g>\r\n    <g id=\"ytick_3\">\r\n     <g id=\"line2d_12\">\r\n      <g>\r\n       <use style=\"stroke:#000000;stroke-width:0.8;\" x=\"46.965625\" xlink:href=\"#m6ab90d9427\" y=\"152.585103\"/>\r\n      </g>\r\n     </g>\r\n     <g id=\"text_13\">\r\n      <!-- 40 -->\r\n      <g transform=\"translate(27.240625 156.384321)scale(0.1 -0.1)\">\r\n       <use xlink:href=\"#DejaVuSans-52\"/>\r\n       <use x=\"63.623047\" xlink:href=\"#DejaVuSans-48\"/>\r\n      </g>\r\n     </g>\r\n    </g>\r\n    <g id=\"ytick_4\">\r\n     <g id=\"line2d_13\">\r\n      <g>\r\n       <use style=\"stroke:#000000;stroke-width:0.8;\" x=\"46.965625\" xlink:href=\"#m6ab90d9427\" y=\"120.702405\"/>\r\n      </g>\r\n     </g>\r\n     <g id=\"text_14\">\r\n      <!-- 60 -->\r\n      <g transform=\"translate(27.240625 124.501623)scale(0.1 -0.1)\">\r\n       <defs>\r\n        <path d=\"M 33.015625 40.375 \r\nQ 26.375 40.375 22.484375 35.828125 \r\nQ 18.609375 31.296875 18.609375 23.390625 \r\nQ 18.609375 15.53125 22.484375 10.953125 \r\nQ 26.375 6.390625 33.015625 6.390625 \r\nQ 39.65625 6.390625 43.53125 10.953125 \r\nQ 47.40625 15.53125 47.40625 23.390625 \r\nQ 47.40625 31.296875 43.53125 35.828125 \r\nQ 39.65625 40.375 33.015625 40.375 \r\nz\r\nM 52.59375 71.296875 \r\nL 52.59375 62.3125 \r\nQ 48.875 64.0625 45.09375 64.984375 \r\nQ 41.3125 65.921875 37.59375 65.921875 \r\nQ 27.828125 65.921875 22.671875 59.328125 \r\nQ 17.53125 52.734375 16.796875 39.40625 \r\nQ 19.671875 43.65625 24.015625 45.921875 \r\nQ 28.375 48.1875 33.59375 48.1875 \r\nQ 44.578125 48.1875 50.953125 41.515625 \r\nQ 57.328125 34.859375 57.328125 23.390625 \r\nQ 57.328125 12.15625 50.6875 5.359375 \r\nQ 44.046875 -1.421875 33.015625 -1.421875 \r\nQ 20.359375 -1.421875 13.671875 8.265625 \r\nQ 6.984375 17.96875 6.984375 36.375 \r\nQ 6.984375 53.65625 15.1875 63.9375 \r\nQ 23.390625 74.21875 37.203125 74.21875 \r\nQ 40.921875 74.21875 44.703125 73.484375 \r\nQ 48.484375 72.75 52.59375 71.296875 \r\nz\r\n\" id=\"DejaVuSans-54\"/>\r\n       </defs>\r\n       <use xlink:href=\"#DejaVuSans-54\"/>\r\n       <use x=\"63.623047\" xlink:href=\"#DejaVuSans-48\"/>\r\n      </g>\r\n     </g>\r\n    </g>\r\n    <g id=\"ytick_5\">\r\n     <g id=\"line2d_14\">\r\n      <g>\r\n       <use style=\"stroke:#000000;stroke-width:0.8;\" x=\"46.965625\" xlink:href=\"#m6ab90d9427\" y=\"88.819707\"/>\r\n      </g>\r\n     </g>\r\n     <g id=\"text_15\">\r\n      <!-- 80 -->\r\n      <g transform=\"translate(27.240625 92.618925)scale(0.1 -0.1)\">\r\n       <defs>\r\n        <path d=\"M 31.78125 34.625 \r\nQ 24.75 34.625 20.71875 30.859375 \r\nQ 16.703125 27.09375 16.703125 20.515625 \r\nQ 16.703125 13.921875 20.71875 10.15625 \r\nQ 24.75 6.390625 31.78125 6.390625 \r\nQ 38.8125 6.390625 42.859375 10.171875 \r\nQ 46.921875 13.96875 46.921875 20.515625 \r\nQ 46.921875 27.09375 42.890625 30.859375 \r\nQ 38.875 34.625 31.78125 34.625 \r\nz\r\nM 21.921875 38.8125 \r\nQ 15.578125 40.375 12.03125 44.71875 \r\nQ 8.5 49.078125 8.5 55.328125 \r\nQ 8.5 64.0625 14.71875 69.140625 \r\nQ 20.953125 74.21875 31.78125 74.21875 \r\nQ 42.671875 74.21875 48.875 69.140625 \r\nQ 55.078125 64.0625 55.078125 55.328125 \r\nQ 55.078125 49.078125 51.53125 44.71875 \r\nQ 48 40.375 41.703125 38.8125 \r\nQ 48.828125 37.15625 52.796875 32.3125 \r\nQ 56.78125 27.484375 56.78125 20.515625 \r\nQ 56.78125 9.90625 50.3125 4.234375 \r\nQ 43.84375 -1.421875 31.78125 -1.421875 \r\nQ 19.734375 -1.421875 13.25 4.234375 \r\nQ 6.78125 9.90625 6.78125 20.515625 \r\nQ 6.78125 27.484375 10.78125 32.3125 \r\nQ 14.796875 37.15625 21.921875 38.8125 \r\nz\r\nM 18.3125 54.390625 \r\nQ 18.3125 48.734375 21.84375 45.5625 \r\nQ 25.390625 42.390625 31.78125 42.390625 \r\nQ 38.140625 42.390625 41.71875 45.5625 \r\nQ 45.3125 48.734375 45.3125 54.390625 \r\nQ 45.3125 60.0625 41.71875 63.234375 \r\nQ 38.140625 66.40625 31.78125 66.40625 \r\nQ 25.390625 66.40625 21.84375 63.234375 \r\nQ 18.3125 60.0625 18.3125 54.390625 \r\nz\r\n\" id=\"DejaVuSans-56\"/>\r\n       </defs>\r\n       <use xlink:href=\"#DejaVuSans-56\"/>\r\n       <use x=\"63.623047\" xlink:href=\"#DejaVuSans-48\"/>\r\n      </g>\r\n     </g>\r\n    </g>\r\n    <g id=\"ytick_6\">\r\n     <g id=\"line2d_15\">\r\n      <g>\r\n       <use style=\"stroke:#000000;stroke-width:0.8;\" x=\"46.965625\" xlink:href=\"#m6ab90d9427\" y=\"56.937009\"/>\r\n      </g>\r\n     </g>\r\n     <g id=\"text_16\">\r\n      <!-- 100 -->\r\n      <g transform=\"translate(20.878125 60.736228)scale(0.1 -0.1)\">\r\n       <use xlink:href=\"#DejaVuSans-49\"/>\r\n       <use x=\"63.623047\" xlink:href=\"#DejaVuSans-48\"/>\r\n       <use x=\"127.246094\" xlink:href=\"#DejaVuSans-48\"/>\r\n      </g>\r\n     </g>\r\n    </g>\r\n    <g id=\"ytick_7\">\r\n     <g id=\"line2d_16\">\r\n      <g>\r\n       <use style=\"stroke:#000000;stroke-width:0.8;\" x=\"46.965625\" xlink:href=\"#m6ab90d9427\" y=\"25.054311\"/>\r\n      </g>\r\n     </g>\r\n     <g id=\"text_17\">\r\n      <!-- 120 -->\r\n      <g transform=\"translate(20.878125 28.85353)scale(0.1 -0.1)\">\r\n       <use xlink:href=\"#DejaVuSans-49\"/>\r\n       <use x=\"63.623047\" xlink:href=\"#DejaVuSans-50\"/>\r\n       <use x=\"127.246094\" xlink:href=\"#DejaVuSans-48\"/>\r\n      </g>\r\n     </g>\r\n    </g>\r\n    <g id=\"text_18\">\r\n     <!-- output -->\r\n     <g transform=\"translate(14.798438 132.411406)rotate(-90)scale(0.1 -0.1)\">\r\n      <defs>\r\n       <path d=\"M 30.609375 48.390625 \r\nQ 23.390625 48.390625 19.1875 42.75 \r\nQ 14.984375 37.109375 14.984375 27.296875 \r\nQ 14.984375 17.484375 19.15625 11.84375 \r\nQ 23.34375 6.203125 30.609375 6.203125 \r\nQ 37.796875 6.203125 41.984375 11.859375 \r\nQ 46.1875 17.53125 46.1875 27.296875 \r\nQ 46.1875 37.015625 41.984375 42.703125 \r\nQ 37.796875 48.390625 30.609375 48.390625 \r\nz\r\nM 30.609375 56 \r\nQ 42.328125 56 49.015625 48.375 \r\nQ 55.71875 40.765625 55.71875 27.296875 \r\nQ 55.71875 13.875 49.015625 6.21875 \r\nQ 42.328125 -1.421875 30.609375 -1.421875 \r\nQ 18.84375 -1.421875 12.171875 6.21875 \r\nQ 5.515625 13.875 5.515625 27.296875 \r\nQ 5.515625 40.765625 12.171875 48.375 \r\nQ 18.84375 56 30.609375 56 \r\nz\r\n\" id=\"DejaVuSans-111\"/>\r\n      </defs>\r\n      <use xlink:href=\"#DejaVuSans-111\"/>\r\n      <use x=\"61.181641\" xlink:href=\"#DejaVuSans-117\"/>\r\n      <use x=\"124.560547\" xlink:href=\"#DejaVuSans-116\"/>\r\n      <use x=\"163.769531\" xlink:href=\"#DejaVuSans-112\"/>\r\n      <use x=\"227.246094\" xlink:href=\"#DejaVuSans-117\"/>\r\n      <use x=\"290.625\" xlink:href=\"#DejaVuSans-116\"/>\r\n     </g>\r\n    </g>\r\n   </g>\r\n   <g id=\"line2d_17\">\r\n    <path clip-path=\"url(#p8bba64e4cf)\" d=\"M 62.183807 214.756364 \r\nL 138.274716 203.597419 \r\nL 214.365625 173.308856 \r\nL 290.456534 114.325865 \r\nL 366.547443 17.083636 \r\n\" style=\"fill:none;stroke:#1f77b4;stroke-linecap:square;stroke-width:1.5;\"/>\r\n   </g>\r\n   <g id=\"patch_3\">\r\n    <path d=\"M 46.965625 224.64 \r\nL 46.965625 7.2 \r\n\" style=\"fill:none;stroke:#000000;stroke-linecap:square;stroke-linejoin:miter;stroke-width:0.8;\"/>\r\n   </g>\r\n   <g id=\"patch_4\">\r\n    <path d=\"M 381.765625 224.64 \r\nL 381.765625 7.2 \r\n\" style=\"fill:none;stroke:#000000;stroke-linecap:square;stroke-linejoin:miter;stroke-width:0.8;\"/>\r\n   </g>\r\n   <g id=\"patch_5\">\r\n    <path d=\"M 46.965625 224.64 \r\nL 381.765625 224.64 \r\n\" style=\"fill:none;stroke:#000000;stroke-linecap:square;stroke-linejoin:miter;stroke-width:0.8;\"/>\r\n   </g>\r\n   <g id=\"patch_6\">\r\n    <path d=\"M 46.965625 7.2 \r\nL 381.765625 7.2 \r\n\" style=\"fill:none;stroke:#000000;stroke-linecap:square;stroke-linejoin:miter;stroke-width:0.8;\"/>\r\n   </g>\r\n  </g>\r\n </g>\r\n <defs>\r\n  <clipPath id=\"p8bba64e4cf\">\r\n   <rect height=\"217.44\" width=\"334.8\" x=\"46.965625\" y=\"7.2\"/>\r\n  </clipPath>\r\n </defs>\r\n</svg>\r\n",
      "image/png": "[encoded data removed]"
     },
     "metadata": {
      "needs_background": "light"
     }
    }
   ],
   "source": [
    "import matplotlib.pyplot as plt\n",
    "import numpy as np\n",
    "%pylab inline\n",
    "%matplotlib inline\n",
    "\n",
    "x = [1, 2, 3, 4, 5]\n",
    "y = [1, 8, 27, 64, 125]\n",
    "\n",
    "plt.plot(x,y)\n",
    "plt.ylabel(\"output\")\n",
    "plt.xlabel(\"input\")\n",
    "plt.show()"
   ]
  },
  {
   "cell_type": "markdown",
   "metadata": {},
   "source": [
    "---\n",
    "p22"
   ]
  },
  {
   "cell_type": "markdown",
   "metadata": {},
   "source": [
    "- **color & shapes**\n",
    "   - Colors(c=)\n",
    "   - Marker Shapes(marker=)\n",
    "   - Line Styles(linestyle=)\n",
    "   - https://python-graph-gallery.com/cheat-sheets/"
   ]
  },
  {
   "cell_type": "code",
   "execution_count": 131,
   "metadata": {
    "collapsed": true,
    "jupyter": {
     "outputs_hidden": false
    }
   },
   "outputs": [
    {
     "output_type": "execute_result",
     "data": {
      "text/plain": [
       "array([0. , 0.2, 0.4, 0.6, 0.8, 1. , 1.2, 1.4, 1.6, 1.8, 2. , 2.2, 2.4,\n",
       "       2.6, 2.8])"
      ]
     },
     "metadata": {},
     "execution_count": 131
    },
    {
     "output_type": "execute_result",
     "data": {
      "text/plain": [
       "[<matplotlib.lines.Line2D at 0x1f820c32470>,\n",
       " <matplotlib.lines.Line2D at 0x1f820c32400>,\n",
       " <matplotlib.lines.Line2D at 0x1f820c325c0>]"
      ]
     },
     "metadata": {},
     "execution_count": 131
    },
    {
     "output_type": "display_data",
     "data": {
      "text/plain": "<Figure size 432x288 with 1 Axes>",
      "image/svg+xml": "<?xml version=\"1.0\" encoding=\"utf-8\" standalone=\"no\"?>\r\n<!DOCTYPE svg PUBLIC \"-//W3C//DTD SVG 1.1//EN\"\r\n  \"http://www.w3.org/Graphics/SVG/1.1/DTD/svg11.dtd\">\r\n<!-- Created with matplotlib (https://matplotlib.org/) -->\r\n<svg height=\"248.518125pt\" version=\"1.1\" viewBox=\"0 0 368.925 248.518125\" width=\"368.925pt\" xmlns=\"http://www.w3.org/2000/svg\" xmlns:xlink=\"http://www.w3.org/1999/xlink\">\r\n <metadata>\r\n  <rdf:RDF xmlns:cc=\"http://creativecommons.org/ns#\" xmlns:dc=\"http://purl.org/dc/elements/1.1/\" xmlns:rdf=\"http://www.w3.org/1999/02/22-rdf-syntax-ns#\">\r\n   <cc:Work>\r\n    <dc:type rdf:resource=\"http://purl.org/dc/dcmitype/StillImage\"/>\r\n    <dc:date>2021-03-18T17:52:56.856889</dc:date>\r\n    <dc:format>image/svg+xml</dc:format>\r\n    <dc:creator>\r\n     <cc:Agent>\r\n      <dc:title>Matplotlib v3.3.2, https://matplotlib.org/</dc:title>\r\n     </cc:Agent>\r\n    </dc:creator>\r\n   </cc:Work>\r\n  </rdf:RDF>\r\n </metadata>\r\n <defs>\r\n  <style type=\"text/css\">*{stroke-linecap:butt;stroke-linejoin:round;}</style>\r\n </defs>\r\n <g id=\"figure_1\">\r\n  <g id=\"patch_1\">\r\n   <path d=\"M -0 248.518125 \r\nL 368.925 248.518125 \r\nL 368.925 0 \r\nL -0 0 \r\nz\r\n\" style=\"fill:none;\"/>\r\n  </g>\r\n  <g id=\"axes_1\">\r\n   <g id=\"patch_2\">\r\n    <path d=\"M 26.925 224.64 \r\nL 361.725 224.64 \r\nL 361.725 7.2 \r\nL 26.925 7.2 \r\nz\r\n\" style=\"fill:#ffffff;\"/>\r\n   </g>\r\n   <g id=\"matplotlib.axis_1\">\r\n    <g id=\"xtick_1\">\r\n     <g id=\"line2d_1\">\r\n      <defs>\r\n       <path d=\"M 0 0 \r\nL 0 3.5 \r\n\" id=\"m879628d74e\" style=\"stroke:#000000;stroke-width:0.8;\"/>\r\n      </defs>\r\n      <g>\r\n       <use style=\"stroke:#000000;stroke-width:0.8;\" x=\"42.143182\" xlink:href=\"#m879628d74e\" y=\"224.64\"/>\r\n      </g>\r\n     </g>\r\n     <g id=\"text_1\">\r\n      <!-- 0.0 -->\r\n      <g transform=\"translate(34.191619 239.238437)scale(0.1 -0.1)\">\r\n       <defs>\r\n        <path d=\"M 31.78125 66.40625 \r\nQ 24.171875 66.40625 20.328125 58.90625 \r\nQ 16.5 51.421875 16.5 36.375 \r\nQ 16.5 21.390625 20.328125 13.890625 \r\nQ 24.171875 6.390625 31.78125 6.390625 \r\nQ 39.453125 6.390625 43.28125 13.890625 \r\nQ 47.125 21.390625 47.125 36.375 \r\nQ 47.125 51.421875 43.28125 58.90625 \r\nQ 39.453125 66.40625 31.78125 66.40625 \r\nz\r\nM 31.78125 74.21875 \r\nQ 44.046875 74.21875 50.515625 64.515625 \r\nQ 56.984375 54.828125 56.984375 36.375 \r\nQ 56.984375 17.96875 50.515625 8.265625 \r\nQ 44.046875 -1.421875 31.78125 -1.421875 \r\nQ 19.53125 -1.421875 13.0625 8.265625 \r\nQ 6.59375 17.96875 6.59375 36.375 \r\nQ 6.59375 54.828125 13.0625 64.515625 \r\nQ 19.53125 74.21875 31.78125 74.21875 \r\nz\r\n\" id=\"DejaVuSans-48\"/>\r\n        <path d=\"M 10.6875 12.40625 \r\nL 21 12.40625 \r\nL 21 0 \r\nL 10.6875 0 \r\nz\r\n\" id=\"DejaVuSans-46\"/>\r\n       </defs>\r\n       <use xlink:href=\"#DejaVuSans-48\"/>\r\n       <use x=\"63.623047\" xlink:href=\"#DejaVuSans-46\"/>\r\n       <use x=\"95.410156\" xlink:href=\"#DejaVuSans-48\"/>\r\n      </g>\r\n     </g>\r\n    </g>\r\n    <g id=\"xtick_2\">\r\n     <g id=\"line2d_2\">\r\n      <g>\r\n       <use style=\"stroke:#000000;stroke-width:0.8;\" x=\"96.493831\" xlink:href=\"#m879628d74e\" y=\"224.64\"/>\r\n      </g>\r\n     </g>\r\n     <g id=\"text_2\">\r\n      <!-- 0.5 -->\r\n      <g transform=\"translate(88.542269 239.238437)scale(0.1 -0.1)\">\r\n       <defs>\r\n        <path d=\"M 10.796875 72.90625 \r\nL 49.515625 72.90625 \r\nL 49.515625 64.59375 \r\nL 19.828125 64.59375 \r\nL 19.828125 46.734375 \r\nQ 21.96875 47.46875 24.109375 47.828125 \r\nQ 26.265625 48.1875 28.421875 48.1875 \r\nQ 40.625 48.1875 47.75 41.5 \r\nQ 54.890625 34.8125 54.890625 23.390625 \r\nQ 54.890625 11.625 47.5625 5.09375 \r\nQ 40.234375 -1.421875 26.90625 -1.421875 \r\nQ 22.3125 -1.421875 17.546875 -0.640625 \r\nQ 12.796875 0.140625 7.71875 1.703125 \r\nL 7.71875 11.625 \r\nQ 12.109375 9.234375 16.796875 8.0625 \r\nQ 21.484375 6.890625 26.703125 6.890625 \r\nQ 35.15625 6.890625 40.078125 11.328125 \r\nQ 45.015625 15.765625 45.015625 23.390625 \r\nQ 45.015625 31 40.078125 35.4375 \r\nQ 35.15625 39.890625 26.703125 39.890625 \r\nQ 22.75 39.890625 18.8125 39.015625 \r\nQ 14.890625 38.140625 10.796875 36.28125 \r\nz\r\n\" id=\"DejaVuSans-53\"/>\r\n       </defs>\r\n       <use xlink:href=\"#DejaVuSans-48\"/>\r\n       <use x=\"63.623047\" xlink:href=\"#DejaVuSans-46\"/>\r\n       <use x=\"95.410156\" xlink:href=\"#DejaVuSans-53\"/>\r\n      </g>\r\n     </g>\r\n    </g>\r\n    <g id=\"xtick_3\">\r\n     <g id=\"line2d_3\">\r\n      <g>\r\n       <use style=\"stroke:#000000;stroke-width:0.8;\" x=\"150.844481\" xlink:href=\"#m879628d74e\" y=\"224.64\"/>\r\n      </g>\r\n     </g>\r\n     <g id=\"text_3\">\r\n      <!-- 1.0 -->\r\n      <g transform=\"translate(142.892918 239.238437)scale(0.1 -0.1)\">\r\n       <defs>\r\n        <path d=\"M 12.40625 8.296875 \r\nL 28.515625 8.296875 \r\nL 28.515625 63.921875 \r\nL 10.984375 60.40625 \r\nL 10.984375 69.390625 \r\nL 28.421875 72.90625 \r\nL 38.28125 72.90625 \r\nL 38.28125 8.296875 \r\nL 54.390625 8.296875 \r\nL 54.390625 0 \r\nL 12.40625 0 \r\nz\r\n\" id=\"DejaVuSans-49\"/>\r\n       </defs>\r\n       <use xlink:href=\"#DejaVuSans-49\"/>\r\n       <use x=\"63.623047\" xlink:href=\"#DejaVuSans-46\"/>\r\n       <use x=\"95.410156\" xlink:href=\"#DejaVuSans-48\"/>\r\n      </g>\r\n     </g>\r\n    </g>\r\n    <g id=\"xtick_4\">\r\n     <g id=\"line2d_4\">\r\n      <g>\r\n       <use style=\"stroke:#000000;stroke-width:0.8;\" x=\"205.19513\" xlink:href=\"#m879628d74e\" y=\"224.64\"/>\r\n      </g>\r\n     </g>\r\n     <g id=\"text_4\">\r\n      <!-- 1.5 -->\r\n      <g transform=\"translate(197.243567 239.238437)scale(0.1 -0.1)\">\r\n       <use xlink:href=\"#DejaVuSans-49\"/>\r\n       <use x=\"63.623047\" xlink:href=\"#DejaVuSans-46\"/>\r\n       <use x=\"95.410156\" xlink:href=\"#DejaVuSans-53\"/>\r\n      </g>\r\n     </g>\r\n    </g>\r\n    <g id=\"xtick_5\">\r\n     <g id=\"line2d_5\">\r\n      <g>\r\n       <use style=\"stroke:#000000;stroke-width:0.8;\" x=\"259.545779\" xlink:href=\"#m879628d74e\" y=\"224.64\"/>\r\n      </g>\r\n     </g>\r\n     <g id=\"text_5\">\r\n      <!-- 2.0 -->\r\n      <g transform=\"translate(251.594217 239.238437)scale(0.1 -0.1)\">\r\n       <defs>\r\n        <path d=\"M 19.1875 8.296875 \r\nL 53.609375 8.296875 \r\nL 53.609375 0 \r\nL 7.328125 0 \r\nL 7.328125 8.296875 \r\nQ 12.9375 14.109375 22.625 23.890625 \r\nQ 32.328125 33.6875 34.8125 36.53125 \r\nQ 39.546875 41.84375 41.421875 45.53125 \r\nQ 43.3125 49.21875 43.3125 52.78125 \r\nQ 43.3125 58.59375 39.234375 62.25 \r\nQ 35.15625 65.921875 28.609375 65.921875 \r\nQ 23.96875 65.921875 18.8125 64.3125 \r\nQ 13.671875 62.703125 7.8125 59.421875 \r\nL 7.8125 69.390625 \r\nQ 13.765625 71.78125 18.9375 73 \r\nQ 24.125 74.21875 28.421875 74.21875 \r\nQ 39.75 74.21875 46.484375 68.546875 \r\nQ 53.21875 62.890625 53.21875 53.421875 \r\nQ 53.21875 48.921875 51.53125 44.890625 \r\nQ 49.859375 40.875 45.40625 35.40625 \r\nQ 44.1875 33.984375 37.640625 27.21875 \r\nQ 31.109375 20.453125 19.1875 8.296875 \r\nz\r\n\" id=\"DejaVuSans-50\"/>\r\n       </defs>\r\n       <use xlink:href=\"#DejaVuSans-50\"/>\r\n       <use x=\"63.623047\" xlink:href=\"#DejaVuSans-46\"/>\r\n       <use x=\"95.410156\" xlink:href=\"#DejaVuSans-48\"/>\r\n      </g>\r\n     </g>\r\n    </g>\r\n    <g id=\"xtick_6\">\r\n     <g id=\"line2d_6\">\r\n      <g>\r\n       <use style=\"stroke:#000000;stroke-width:0.8;\" x=\"313.896429\" xlink:href=\"#m879628d74e\" y=\"224.64\"/>\r\n      </g>\r\n     </g>\r\n     <g id=\"text_6\">\r\n      <!-- 2.5 -->\r\n      <g transform=\"translate(305.944866 239.238437)scale(0.1 -0.1)\">\r\n       <use xlink:href=\"#DejaVuSans-50\"/>\r\n       <use x=\"63.623047\" xlink:href=\"#DejaVuSans-46\"/>\r\n       <use x=\"95.410156\" xlink:href=\"#DejaVuSans-53\"/>\r\n      </g>\r\n     </g>\r\n    </g>\r\n   </g>\r\n   <g id=\"matplotlib.axis_2\">\r\n    <g id=\"ytick_1\">\r\n     <g id=\"line2d_7\">\r\n      <defs>\r\n       <path d=\"M 0 0 \r\nL -3.5 0 \r\n\" id=\"mcb5194b2f0\" style=\"stroke:#000000;stroke-width:0.8;\"/>\r\n      </defs>\r\n      <g>\r\n       <use style=\"stroke:#000000;stroke-width:0.8;\" x=\"26.925\" xlink:href=\"#mcb5194b2f0\" y=\"214.756364\"/>\r\n      </g>\r\n     </g>\r\n     <g id=\"text_7\">\r\n      <!-- 0 -->\r\n      <g transform=\"translate(13.5625 218.555582)scale(0.1 -0.1)\">\r\n       <use xlink:href=\"#DejaVuSans-48\"/>\r\n      </g>\r\n     </g>\r\n    </g>\r\n    <g id=\"ytick_2\">\r\n     <g id=\"line2d_8\">\r\n      <g>\r\n       <use style=\"stroke:#000000;stroke-width:0.8;\" x=\"26.925\" xlink:href=\"#mcb5194b2f0\" y=\"169.73251\"/>\r\n      </g>\r\n     </g>\r\n     <g id=\"text_8\">\r\n      <!-- 5 -->\r\n      <g transform=\"translate(13.5625 173.531729)scale(0.1 -0.1)\">\r\n       <use xlink:href=\"#DejaVuSans-53\"/>\r\n      </g>\r\n     </g>\r\n    </g>\r\n    <g id=\"ytick_3\">\r\n     <g id=\"line2d_9\">\r\n      <g>\r\n       <use style=\"stroke:#000000;stroke-width:0.8;\" x=\"26.925\" xlink:href=\"#mcb5194b2f0\" y=\"124.708656\"/>\r\n      </g>\r\n     </g>\r\n     <g id=\"text_9\">\r\n      <!-- 10 -->\r\n      <g transform=\"translate(7.2 128.507875)scale(0.1 -0.1)\">\r\n       <use xlink:href=\"#DejaVuSans-49\"/>\r\n       <use x=\"63.623047\" xlink:href=\"#DejaVuSans-48\"/>\r\n      </g>\r\n     </g>\r\n    </g>\r\n    <g id=\"ytick_4\">\r\n     <g id=\"line2d_10\">\r\n      <g>\r\n       <use style=\"stroke:#000000;stroke-width:0.8;\" x=\"26.925\" xlink:href=\"#mcb5194b2f0\" y=\"79.684803\"/>\r\n      </g>\r\n     </g>\r\n     <g id=\"text_10\">\r\n      <!-- 15 -->\r\n      <g transform=\"translate(7.2 83.484021)scale(0.1 -0.1)\">\r\n       <use xlink:href=\"#DejaVuSans-49\"/>\r\n       <use x=\"63.623047\" xlink:href=\"#DejaVuSans-53\"/>\r\n      </g>\r\n     </g>\r\n    </g>\r\n    <g id=\"ytick_5\">\r\n     <g id=\"line2d_11\">\r\n      <g>\r\n       <use style=\"stroke:#000000;stroke-width:0.8;\" x=\"26.925\" xlink:href=\"#mcb5194b2f0\" y=\"34.660949\"/>\r\n      </g>\r\n     </g>\r\n     <g id=\"text_11\">\r\n      <!-- 20 -->\r\n      <g transform=\"translate(7.2 38.460168)scale(0.1 -0.1)\">\r\n       <use xlink:href=\"#DejaVuSans-50\"/>\r\n       <use x=\"63.623047\" xlink:href=\"#DejaVuSans-48\"/>\r\n      </g>\r\n     </g>\r\n    </g>\r\n   </g>\r\n   <g id=\"line2d_12\">\r\n    <defs>\r\n     <path d=\"M 0 -3 \r\nL -3 3 \r\nL 3 3 \r\nz\r\n\" id=\"m8f2632fced\" style=\"stroke:#ff0000;stroke-linejoin:miter;\"/>\r\n    </defs>\r\n    <g clip-path=\"url(#pda05b868f4)\">\r\n     <use style=\"fill:#ff0000;stroke:#ff0000;stroke-linejoin:miter;\" x=\"42.143182\" xlink:href=\"#m8f2632fced\" y=\"214.756364\"/>\r\n     <use style=\"fill:#ff0000;stroke:#ff0000;stroke-linejoin:miter;\" x=\"63.883442\" xlink:href=\"#m8f2632fced\" y=\"212.955409\"/>\r\n     <use style=\"fill:#ff0000;stroke:#ff0000;stroke-linejoin:miter;\" x=\"85.623701\" xlink:href=\"#m8f2632fced\" y=\"211.154455\"/>\r\n     <use style=\"fill:#ff0000;stroke:#ff0000;stroke-linejoin:miter;\" x=\"107.363961\" xlink:href=\"#m8f2632fced\" y=\"209.353501\"/>\r\n     <use style=\"fill:#ff0000;stroke:#ff0000;stroke-linejoin:miter;\" x=\"129.104221\" xlink:href=\"#m8f2632fced\" y=\"207.552547\"/>\r\n     <use style=\"fill:#ff0000;stroke:#ff0000;stroke-linejoin:miter;\" x=\"150.844481\" xlink:href=\"#m8f2632fced\" y=\"205.751593\"/>\r\n     <use style=\"fill:#ff0000;stroke:#ff0000;stroke-linejoin:miter;\" x=\"172.58474\" xlink:href=\"#m8f2632fced\" y=\"203.950639\"/>\r\n     <use style=\"fill:#ff0000;stroke:#ff0000;stroke-linejoin:miter;\" x=\"194.325\" xlink:href=\"#m8f2632fced\" y=\"202.149685\"/>\r\n     <use style=\"fill:#ff0000;stroke:#ff0000;stroke-linejoin:miter;\" x=\"216.06526\" xlink:href=\"#m8f2632fced\" y=\"200.34873\"/>\r\n     <use style=\"fill:#ff0000;stroke:#ff0000;stroke-linejoin:miter;\" x=\"237.805519\" xlink:href=\"#m8f2632fced\" y=\"198.547776\"/>\r\n     <use style=\"fill:#ff0000;stroke:#ff0000;stroke-linejoin:miter;\" x=\"259.545779\" xlink:href=\"#m8f2632fced\" y=\"196.746822\"/>\r\n     <use style=\"fill:#ff0000;stroke:#ff0000;stroke-linejoin:miter;\" x=\"281.286039\" xlink:href=\"#m8f2632fced\" y=\"194.945868\"/>\r\n     <use style=\"fill:#ff0000;stroke:#ff0000;stroke-linejoin:miter;\" x=\"303.026299\" xlink:href=\"#m8f2632fced\" y=\"193.144914\"/>\r\n     <use style=\"fill:#ff0000;stroke:#ff0000;stroke-linejoin:miter;\" x=\"324.766558\" xlink:href=\"#m8f2632fced\" y=\"191.34396\"/>\r\n     <use style=\"fill:#ff0000;stroke:#ff0000;stroke-linejoin:miter;\" x=\"346.506818\" xlink:href=\"#m8f2632fced\" y=\"189.543006\"/>\r\n    </g>\r\n   </g>\r\n   <g id=\"line2d_13\">\r\n    <defs>\r\n     <path d=\"M -3 3 \r\nL 3 3 \r\nL 3 -3 \r\nL -3 -3 \r\nz\r\n\" id=\"mb44f523fef\" style=\"stroke:#0000ff;stroke-linejoin:miter;\"/>\r\n    </defs>\r\n    <g clip-path=\"url(#pda05b868f4)\">\r\n     <use style=\"fill:#0000ff;stroke:#0000ff;stroke-linejoin:miter;\" x=\"42.143182\" xlink:href=\"#mb44f523fef\" y=\"214.756364\"/>\r\n     <use style=\"fill:#0000ff;stroke:#0000ff;stroke-linejoin:miter;\" x=\"63.883442\" xlink:href=\"#mb44f523fef\" y=\"214.396173\"/>\r\n     <use style=\"fill:#0000ff;stroke:#0000ff;stroke-linejoin:miter;\" x=\"85.623701\" xlink:href=\"#mb44f523fef\" y=\"213.3156\"/>\r\n     <use style=\"fill:#0000ff;stroke:#0000ff;stroke-linejoin:miter;\" x=\"107.363961\" xlink:href=\"#mb44f523fef\" y=\"211.514646\"/>\r\n     <use style=\"fill:#0000ff;stroke:#0000ff;stroke-linejoin:miter;\" x=\"129.104221\" xlink:href=\"#mb44f523fef\" y=\"208.99331\"/>\r\n     <use style=\"fill:#0000ff;stroke:#0000ff;stroke-linejoin:miter;\" x=\"150.844481\" xlink:href=\"#mb44f523fef\" y=\"205.751593\"/>\r\n     <use style=\"fill:#0000ff;stroke:#0000ff;stroke-linejoin:miter;\" x=\"172.58474\" xlink:href=\"#mb44f523fef\" y=\"201.789494\"/>\r\n     <use style=\"fill:#0000ff;stroke:#0000ff;stroke-linejoin:miter;\" x=\"194.325\" xlink:href=\"#mb44f523fef\" y=\"197.107013\"/>\r\n     <use style=\"fill:#0000ff;stroke:#0000ff;stroke-linejoin:miter;\" x=\"216.06526\" xlink:href=\"#mb44f523fef\" y=\"191.704151\"/>\r\n     <use style=\"fill:#0000ff;stroke:#0000ff;stroke-linejoin:miter;\" x=\"237.805519\" xlink:href=\"#mb44f523fef\" y=\"185.580906\"/>\r\n     <use style=\"fill:#0000ff;stroke:#0000ff;stroke-linejoin:miter;\" x=\"259.545779\" xlink:href=\"#mb44f523fef\" y=\"178.737281\"/>\r\n     <use style=\"fill:#0000ff;stroke:#0000ff;stroke-linejoin:miter;\" x=\"281.286039\" xlink:href=\"#mb44f523fef\" y=\"171.173273\"/>\r\n     <use style=\"fill:#0000ff;stroke:#0000ff;stroke-linejoin:miter;\" x=\"303.026299\" xlink:href=\"#mb44f523fef\" y=\"162.888884\"/>\r\n     <use style=\"fill:#0000ff;stroke:#0000ff;stroke-linejoin:miter;\" x=\"324.766558\" xlink:href=\"#mb44f523fef\" y=\"153.884113\"/>\r\n     <use style=\"fill:#0000ff;stroke:#0000ff;stroke-linejoin:miter;\" x=\"346.506818\" xlink:href=\"#mb44f523fef\" y=\"144.158961\"/>\r\n    </g>\r\n   </g>\r\n   <g id=\"line2d_14\">\r\n    <path clip-path=\"url(#pda05b868f4)\" d=\"M 42.143182 214.756364 \r\nL 63.883442 214.684325 \r\nL 85.623701 214.180058 \r\nL 107.363961 212.811333 \r\nL 129.104221 210.145921 \r\nL 150.844481 205.751593 \r\nL 172.58474 199.19612 \r\nL 194.325 190.047273 \r\nL 216.06526 177.872823 \r\nL 237.805519 162.240541 \r\nL 259.545779 142.718198 \r\nL 281.286039 118.873565 \r\nL 303.026299 90.274413 \r\nL 324.766558 56.488513 \r\nL 346.506818 17.083636 \r\n\" style=\"fill:none;stroke:#008000;stroke-dasharray:5.55,2.4;stroke-dashoffset:0;stroke-width:1.5;\"/>\r\n   </g>\r\n   <g id=\"patch_3\">\r\n    <path d=\"M 26.925 224.64 \r\nL 26.925 7.2 \r\n\" style=\"fill:none;stroke:#000000;stroke-linecap:square;stroke-linejoin:miter;stroke-width:0.8;\"/>\r\n   </g>\r\n   <g id=\"patch_4\">\r\n    <path d=\"M 361.725 224.64 \r\nL 361.725 7.2 \r\n\" style=\"fill:none;stroke:#000000;stroke-linecap:square;stroke-linejoin:miter;stroke-width:0.8;\"/>\r\n   </g>\r\n   <g id=\"patch_5\">\r\n    <path d=\"M 26.925 224.64 \r\nL 361.725 224.64 \r\n\" style=\"fill:none;stroke:#000000;stroke-linecap:square;stroke-linejoin:miter;stroke-width:0.8;\"/>\r\n   </g>\r\n   <g id=\"patch_6\">\r\n    <path d=\"M 26.925 7.2 \r\nL 361.725 7.2 \r\n\" style=\"fill:none;stroke:#000000;stroke-linecap:square;stroke-linejoin:miter;stroke-width:0.8;\"/>\r\n   </g>\r\n  </g>\r\n </g>\r\n <defs>\r\n  <clipPath id=\"pda05b868f4\">\r\n   <rect height=\"217.44\" width=\"334.8\" x=\"26.925\" y=\"7.2\"/>\r\n  </clipPath>\r\n </defs>\r\n</svg>\r\n",
      "image/png": "[encoded data removed]"
     },
     "metadata": {
      "needs_background": "light"
     }
    }
   ],
   "source": [
    "# evenly sampled time at 200ms intervals\n",
    "t = np.arange(0, 3, 0.2)\n",
    "t\n",
    "\n",
    "# red triangles, blue squares and green dashes\n",
    "plt.plot(t,t,\"r^\",t, t**2, \"bs\", t, t **3, \"g--\")\n",
    "plt.show()"
   ]
  },
  {
   "cell_type": "markdown",
   "metadata": {},
   "source": [
    "---\n",
    "p23"
   ]
  },
  {
   "cell_type": "code",
   "execution_count": null,
   "metadata": {},
   "outputs": [],
   "source": []
  },
  {
   "cell_type": "markdown",
   "metadata": {},
   "source": [
    "## Scatter Plot"
   ]
  },
  {
   "cell_type": "markdown",
   "metadata": {},
   "source": [
    "- **plt.scatter(x, y)**"
   ]
  },
  {
   "cell_type": "code",
   "execution_count": 132,
   "metadata": {
    "collapsed": true,
    "jupyter": {
     "outputs_hidden": false
    }
   },
   "outputs": [
    {
     "output_type": "execute_result",
     "data": {
      "text/plain": [
       "<matplotlib.collections.PathCollection at 0x1f820c8cef0>"
      ]
     },
     "metadata": {},
     "execution_count": 132
    },
    {
     "output_type": "display_data",
     "data": {
      "text/plain": "<Figure size 432x288 with 1 Axes>",
      "image/svg+xml": "<?xml version=\"1.0\" encoding=\"utf-8\" standalone=\"no\"?>\r\n<!DOCTYPE svg PUBLIC \"-//W3C//DTD SVG 1.1//EN\"\r\n  \"http://www.w3.org/Graphics/SVG/1.1/DTD/svg11.dtd\">\r\n<!-- Created with matplotlib (https://matplotlib.org/) -->\r\n<svg height=\"248.518125pt\" version=\"1.1\" viewBox=\"0 0 372.103125 248.518125\" width=\"372.103125pt\" xmlns=\"http://www.w3.org/2000/svg\" xmlns:xlink=\"http://www.w3.org/1999/xlink\">\r\n <metadata>\r\n  <rdf:RDF xmlns:cc=\"http://creativecommons.org/ns#\" xmlns:dc=\"http://purl.org/dc/elements/1.1/\" xmlns:rdf=\"http://www.w3.org/1999/02/22-rdf-syntax-ns#\">\r\n   <cc:Work>\r\n    <dc:type rdf:resource=\"http://purl.org/dc/dcmitype/StillImage\"/>\r\n    <dc:date>2021-03-18T17:52:56.990920</dc:date>\r\n    <dc:format>image/svg+xml</dc:format>\r\n    <dc:creator>\r\n     <cc:Agent>\r\n      <dc:title>Matplotlib v3.3.2, https://matplotlib.org/</dc:title>\r\n     </cc:Agent>\r\n    </dc:creator>\r\n   </cc:Work>\r\n  </rdf:RDF>\r\n </metadata>\r\n <defs>\r\n  <style type=\"text/css\">*{stroke-linecap:butt;stroke-linejoin:round;}</style>\r\n </defs>\r\n <g id=\"figure_1\">\r\n  <g id=\"patch_1\">\r\n   <path d=\"M 0 248.518125 \r\nL 372.103125 248.518125 \r\nL 372.103125 0 \r\nL 0 0 \r\nz\r\n\" style=\"fill:none;\"/>\r\n  </g>\r\n  <g id=\"axes_1\">\r\n   <g id=\"patch_2\">\r\n    <path d=\"M 30.103125 224.64 \r\nL 364.903125 224.64 \r\nL 364.903125 7.2 \r\nL 30.103125 7.2 \r\nz\r\n\" style=\"fill:#ffffff;\"/>\r\n   </g>\r\n   <g id=\"PathCollection_1\">\r\n    <defs>\r\n     <path d=\"M -3 3 \r\nL 3 -3 \r\nM -3 -3 \r\nL 3 3 \r\n\" id=\"mbc8fede82a\" style=\"stroke:#ff0000;stroke-width:1.5;\"/>\r\n    </defs>\r\n    <g clip-path=\"url(#pd5a7bbebdd)\">\r\n     <use style=\"fill:#ff0000;stroke:#ff0000;stroke-width:1.5;\" x=\"107.70312\" xlink:href=\"#mbc8fede82a\" y=\"49.650877\"/>\r\n     <use style=\"fill:#ff0000;stroke:#ff0000;stroke-width:1.5;\" x=\"269.805634\" xlink:href=\"#mbc8fede82a\" y=\"164.041183\"/>\r\n     <use style=\"fill:#ff0000;stroke:#ff0000;stroke-width:1.5;\" x=\"94.454692\" xlink:href=\"#mbc8fede82a\" y=\"103.671463\"/>\r\n     <use style=\"fill:#ff0000;stroke:#ff0000;stroke-width:1.5;\" x=\"280.565625\" xlink:href=\"#mbc8fede82a\" y=\"44.639099\"/>\r\n     <use style=\"fill:#ff0000;stroke:#ff0000;stroke-width:1.5;\" x=\"177.046498\" xlink:href=\"#mbc8fede82a\" y=\"130.961436\"/>\r\n     <use style=\"fill:#ff0000;stroke:#ff0000;stroke-width:1.5;\" x=\"132.516979\" xlink:href=\"#mbc8fede82a\" y=\"147.384584\"/>\r\n     <use style=\"fill:#ff0000;stroke:#ff0000;stroke-width:1.5;\" x=\"89.479529\" xlink:href=\"#mbc8fede82a\" y=\"172.422474\"/>\r\n     <use style=\"fill:#ff0000;stroke:#ff0000;stroke-width:1.5;\" x=\"258.601132\" xlink:href=\"#mbc8fede82a\" y=\"116.526988\"/>\r\n     <use style=\"fill:#ff0000;stroke:#ff0000;stroke-width:1.5;\" x=\"210.869135\" xlink:href=\"#mbc8fede82a\" y=\"105.408338\"/>\r\n     <use style=\"fill:#ff0000;stroke:#ff0000;stroke-width:1.5;\" x=\"348.158774\" xlink:href=\"#mbc8fede82a\" y=\"58.496659\"/>\r\n     <use style=\"fill:#ff0000;stroke:#ff0000;stroke-width:1.5;\" x=\"193.698022\" xlink:href=\"#mbc8fede82a\" y=\"208.379117\"/>\r\n     <use style=\"fill:#ff0000;stroke:#ff0000;stroke-width:1.5;\" x=\"289.569039\" xlink:href=\"#mbc8fede82a\" y=\"162.299608\"/>\r\n     <use style=\"fill:#ff0000;stroke:#ff0000;stroke-width:1.5;\" x=\"290.667089\" xlink:href=\"#mbc8fede82a\" y=\"111.427953\"/>\r\n     <use style=\"fill:#ff0000;stroke:#ff0000;stroke-width:1.5;\" x=\"45.321307\" xlink:href=\"#mbc8fede82a\" y=\"149.557008\"/>\r\n     <use style=\"fill:#ff0000;stroke:#ff0000;stroke-width:1.5;\" x=\"340.20383\" xlink:href=\"#mbc8fede82a\" y=\"77.54078\"/>\r\n     <use style=\"fill:#ff0000;stroke:#ff0000;stroke-width:1.5;\" x=\"294.260071\" xlink:href=\"#mbc8fede82a\" y=\"146.883335\"/>\r\n     <use style=\"fill:#ff0000;stroke:#ff0000;stroke-width:1.5;\" x=\"115.085204\" xlink:href=\"#mbc8fede82a\" y=\"93.87296\"/>\r\n     <use style=\"fill:#ff0000;stroke:#ff0000;stroke-width:1.5;\" x=\"87.589681\" xlink:href=\"#mbc8fede82a\" y=\"140.295862\"/>\r\n     <use style=\"fill:#ff0000;stroke:#ff0000;stroke-width:1.5;\" x=\"203.747665\" xlink:href=\"#mbc8fede82a\" y=\"213.179386\"/>\r\n     <use style=\"fill:#ff0000;stroke:#ff0000;stroke-width:1.5;\" x=\"217.162011\" xlink:href=\"#mbc8fede82a\" y=\"82.465495\"/>\r\n     <use style=\"fill:#ff0000;stroke:#ff0000;stroke-width:1.5;\" x=\"103.376553\" xlink:href=\"#mbc8fede82a\" y=\"63.029715\"/>\r\n     <use style=\"fill:#ff0000;stroke:#ff0000;stroke-width:1.5;\" x=\"289.96401\" xlink:href=\"#mbc8fede82a\" y=\"20.414833\"/>\r\n     <use style=\"fill:#ff0000;stroke:#ff0000;stroke-width:1.5;\" x=\"263.836351\" xlink:href=\"#mbc8fede82a\" y=\"153.431044\"/>\r\n     <use style=\"fill:#ff0000;stroke:#ff0000;stroke-width:1.5;\" x=\"241.23216\" xlink:href=\"#mbc8fede82a\" y=\"22.326752\"/>\r\n     <use style=\"fill:#ff0000;stroke:#ff0000;stroke-width:1.5;\" x=\"276.540236\" xlink:href=\"#mbc8fede82a\" y=\"202.007499\"/>\r\n     <use style=\"fill:#ff0000;stroke:#ff0000;stroke-width:1.5;\" x=\"159.157354\" xlink:href=\"#mbc8fede82a\" y=\"158.285548\"/>\r\n     <use style=\"fill:#ff0000;stroke:#ff0000;stroke-width:1.5;\" x=\"68.206513\" xlink:href=\"#mbc8fede82a\" y=\"126.379289\"/>\r\n     <use style=\"fill:#ff0000;stroke:#ff0000;stroke-width:1.5;\" x=\"166.566076\" xlink:href=\"#mbc8fede82a\" y=\"139.372795\"/>\r\n     <use style=\"fill:#ff0000;stroke:#ff0000;stroke-width:1.5;\" x=\"301.329322\" xlink:href=\"#mbc8fede82a\" y=\"181.443129\"/>\r\n     <use style=\"fill:#ff0000;stroke:#ff0000;stroke-width:1.5;\" x=\"58.29815\" xlink:href=\"#mbc8fede82a\" y=\"135.38251\"/>\r\n     <use style=\"fill:#ff0000;stroke:#ff0000;stroke-width:1.5;\" x=\"123.05605\" xlink:href=\"#mbc8fede82a\" y=\"114.930675\"/>\r\n     <use style=\"fill:#ff0000;stroke:#ff0000;stroke-width:1.5;\" x=\"110.320675\" xlink:href=\"#mbc8fede82a\" y=\"68.612815\"/>\r\n     <use style=\"fill:#ff0000;stroke:#ff0000;stroke-width:1.5;\" x=\"111.5139\" xlink:href=\"#mbc8fede82a\" y=\"108.658169\"/>\r\n     <use style=\"fill:#ff0000;stroke:#ff0000;stroke-width:1.5;\" x=\"74.786559\" xlink:href=\"#mbc8fede82a\" y=\"30.173412\"/>\r\n     <use style=\"fill:#ff0000;stroke:#ff0000;stroke-width:1.5;\" x=\"349.684943\" xlink:href=\"#mbc8fede82a\" y=\"53.240654\"/>\r\n     <use style=\"fill:#ff0000;stroke:#ff0000;stroke-width:1.5;\" x=\"132.87838\" xlink:href=\"#mbc8fede82a\" y=\"199.509387\"/>\r\n     <use style=\"fill:#ff0000;stroke:#ff0000;stroke-width:1.5;\" x=\"282.260355\" xlink:href=\"#mbc8fede82a\" y=\"147.103518\"/>\r\n     <use style=\"fill:#ff0000;stroke:#ff0000;stroke-width:1.5;\" x=\"287.172743\" xlink:href=\"#mbc8fede82a\" y=\"173.295254\"/>\r\n     <use style=\"fill:#ff0000;stroke:#ff0000;stroke-width:1.5;\" x=\"197.583197\" xlink:href=\"#mbc8fede82a\" y=\"84.637605\"/>\r\n     <use style=\"fill:#ff0000;stroke:#ff0000;stroke-width:1.5;\" x=\"201.718283\" xlink:href=\"#mbc8fede82a\" y=\"186.683193\"/>\r\n     <use style=\"fill:#ff0000;stroke:#ff0000;stroke-width:1.5;\" x=\"249.822767\" xlink:href=\"#mbc8fede82a\" y=\"153.773353\"/>\r\n     <use style=\"fill:#ff0000;stroke:#ff0000;stroke-width:1.5;\" x=\"255.690206\" xlink:href=\"#mbc8fede82a\" y=\"108.269537\"/>\r\n     <use style=\"fill:#ff0000;stroke:#ff0000;stroke-width:1.5;\" x=\"158.03723\" xlink:href=\"#mbc8fede82a\" y=\"36.422519\"/>\r\n     <use style=\"fill:#ff0000;stroke:#ff0000;stroke-width:1.5;\" x=\"80.179783\" xlink:href=\"#mbc8fede82a\" y=\"50.8484\"/>\r\n     <use style=\"fill:#ff0000;stroke:#ff0000;stroke-width:1.5;\" x=\"121.042861\" xlink:href=\"#mbc8fede82a\" y=\"185.745839\"/>\r\n     <use style=\"fill:#ff0000;stroke:#ff0000;stroke-width:1.5;\" x=\"316.659081\" xlink:href=\"#mbc8fede82a\" y=\"84.907276\"/>\r\n     <use style=\"fill:#ff0000;stroke:#ff0000;stroke-width:1.5;\" x=\"272.423838\" xlink:href=\"#mbc8fede82a\" y=\"94.011408\"/>\r\n     <use style=\"fill:#ff0000;stroke:#ff0000;stroke-width:1.5;\" x=\"271.785018\" xlink:href=\"#mbc8fede82a\" y=\"114.952971\"/>\r\n     <use style=\"fill:#ff0000;stroke:#ff0000;stroke-width:1.5;\" x=\"111.546209\" xlink:href=\"#mbc8fede82a\" y=\"162.220925\"/>\r\n     <use style=\"fill:#ff0000;stroke:#ff0000;stroke-width:1.5;\" x=\"240.85071\" xlink:href=\"#mbc8fede82a\" y=\"18.689768\"/>\r\n     <use style=\"fill:#ff0000;stroke:#ff0000;stroke-width:1.5;\" x=\"268.708602\" xlink:href=\"#mbc8fede82a\" y=\"83.66697\"/>\r\n     <use style=\"fill:#ff0000;stroke:#ff0000;stroke-width:1.5;\" x=\"221.142156\" xlink:href=\"#mbc8fede82a\" y=\"189.377392\"/>\r\n     <use style=\"fill:#ff0000;stroke:#ff0000;stroke-width:1.5;\" x=\"233.482016\" xlink:href=\"#mbc8fede82a\" y=\"39.342603\"/>\r\n     <use style=\"fill:#ff0000;stroke:#ff0000;stroke-width:1.5;\" x=\"230.889225\" xlink:href=\"#mbc8fede82a\" y=\"59.22518\"/>\r\n     <use style=\"fill:#ff0000;stroke:#ff0000;stroke-width:1.5;\" x=\"274.799081\" xlink:href=\"#mbc8fede82a\" y=\"214.756364\"/>\r\n     <use style=\"fill:#ff0000;stroke:#ff0000;stroke-width:1.5;\" x=\"291.373755\" xlink:href=\"#mbc8fede82a\" y=\"108.705769\"/>\r\n     <use style=\"fill:#ff0000;stroke:#ff0000;stroke-width:1.5;\" x=\"136.364914\" xlink:href=\"#mbc8fede82a\" y=\"21.155876\"/>\r\n     <use style=\"fill:#ff0000;stroke:#ff0000;stroke-width:1.5;\" x=\"109.900743\" xlink:href=\"#mbc8fede82a\" y=\"121.110653\"/>\r\n     <use style=\"fill:#ff0000;stroke:#ff0000;stroke-width:1.5;\" x=\"126.264863\" xlink:href=\"#mbc8fede82a\" y=\"26.38295\"/>\r\n     <use style=\"fill:#ff0000;stroke:#ff0000;stroke-width:1.5;\" x=\"157.049386\" xlink:href=\"#mbc8fede82a\" y=\"194.560449\"/>\r\n     <use style=\"fill:#ff0000;stroke:#ff0000;stroke-width:1.5;\" x=\"185.601102\" xlink:href=\"#mbc8fede82a\" y=\"71.232311\"/>\r\n     <use style=\"fill:#ff0000;stroke:#ff0000;stroke-width:1.5;\" x=\"130.866872\" xlink:href=\"#mbc8fede82a\" y=\"185.340891\"/>\r\n     <use style=\"fill:#ff0000;stroke:#ff0000;stroke-width:1.5;\" x=\"244.350952\" xlink:href=\"#mbc8fede82a\" y=\"91.397849\"/>\r\n     <use style=\"fill:#ff0000;stroke:#ff0000;stroke-width:1.5;\" x=\"271.47714\" xlink:href=\"#mbc8fede82a\" y=\"87.458025\"/>\r\n     <use style=\"fill:#ff0000;stroke:#ff0000;stroke-width:1.5;\" x=\"133.282695\" xlink:href=\"#mbc8fede82a\" y=\"72.443216\"/>\r\n     <use style=\"fill:#ff0000;stroke:#ff0000;stroke-width:1.5;\" x=\"199.815781\" xlink:href=\"#mbc8fede82a\" y=\"203.318752\"/>\r\n     <use style=\"fill:#ff0000;stroke:#ff0000;stroke-width:1.5;\" x=\"109.71491\" xlink:href=\"#mbc8fede82a\" y=\"135.59257\"/>\r\n     <use style=\"fill:#ff0000;stroke:#ff0000;stroke-width:1.5;\" x=\"272.891704\" xlink:href=\"#mbc8fede82a\" y=\"77.305736\"/>\r\n     <use style=\"fill:#ff0000;stroke:#ff0000;stroke-width:1.5;\" x=\"87.363646\" xlink:href=\"#mbc8fede82a\" y=\"116.328054\"/>\r\n     <use style=\"fill:#ff0000;stroke:#ff0000;stroke-width:1.5;\" x=\"243.736699\" xlink:href=\"#mbc8fede82a\" y=\"84.302649\"/>\r\n     <use style=\"fill:#ff0000;stroke:#ff0000;stroke-width:1.5;\" x=\"151.214647\" xlink:href=\"#mbc8fede82a\" y=\"70.034143\"/>\r\n     <use style=\"fill:#ff0000;stroke:#ff0000;stroke-width:1.5;\" x=\"153.366151\" xlink:href=\"#mbc8fede82a\" y=\"196.974929\"/>\r\n     <use style=\"fill:#ff0000;stroke:#ff0000;stroke-width:1.5;\" x=\"240.54215\" xlink:href=\"#mbc8fede82a\" y=\"79.320351\"/>\r\n     <use style=\"fill:#ff0000;stroke:#ff0000;stroke-width:1.5;\" x=\"301.301446\" xlink:href=\"#mbc8fede82a\" y=\"132.31473\"/>\r\n     <use style=\"fill:#ff0000;stroke:#ff0000;stroke-width:1.5;\" x=\"307.92657\" xlink:href=\"#mbc8fede82a\" y=\"67.013668\"/>\r\n     <use style=\"fill:#ff0000;stroke:#ff0000;stroke-width:1.5;\" x=\"205.82473\" xlink:href=\"#mbc8fede82a\" y=\"68.21845\"/>\r\n     <use style=\"fill:#ff0000;stroke:#ff0000;stroke-width:1.5;\" x=\"295.440113\" xlink:href=\"#mbc8fede82a\" y=\"194.230484\"/>\r\n     <use style=\"fill:#ff0000;stroke:#ff0000;stroke-width:1.5;\" x=\"317.318043\" xlink:href=\"#mbc8fede82a\" y=\"127.646015\"/>\r\n     <use style=\"fill:#ff0000;stroke:#ff0000;stroke-width:1.5;\" x=\"161.448499\" xlink:href=\"#mbc8fede82a\" y=\"212.888165\"/>\r\n     <use style=\"fill:#ff0000;stroke:#ff0000;stroke-width:1.5;\" x=\"132.099826\" xlink:href=\"#mbc8fede82a\" y=\"21.455066\"/>\r\n     <use style=\"fill:#ff0000;stroke:#ff0000;stroke-width:1.5;\" x=\"296.551902\" xlink:href=\"#mbc8fede82a\" y=\"95.452993\"/>\r\n     <use style=\"fill:#ff0000;stroke:#ff0000;stroke-width:1.5;\" x=\"191.158571\" xlink:href=\"#mbc8fede82a\" y=\"162.719837\"/>\r\n     <use style=\"fill:#ff0000;stroke:#ff0000;stroke-width:1.5;\" x=\"261.248975\" xlink:href=\"#mbc8fede82a\" y=\"101.20884\"/>\r\n     <use style=\"fill:#ff0000;stroke:#ff0000;stroke-width:1.5;\" x=\"286.211087\" xlink:href=\"#mbc8fede82a\" y=\"201.709029\"/>\r\n     <use style=\"fill:#ff0000;stroke:#ff0000;stroke-width:1.5;\" x=\"307.170321\" xlink:href=\"#mbc8fede82a\" y=\"112.942053\"/>\r\n     <use style=\"fill:#ff0000;stroke:#ff0000;stroke-width:1.5;\" x=\"161.017732\" xlink:href=\"#mbc8fede82a\" y=\"93.201276\"/>\r\n     <use style=\"fill:#ff0000;stroke:#ff0000;stroke-width:1.5;\" x=\"149.422977\" xlink:href=\"#mbc8fede82a\" y=\"93.871012\"/>\r\n     <use style=\"fill:#ff0000;stroke:#ff0000;stroke-width:1.5;\" x=\"125.893794\" xlink:href=\"#mbc8fede82a\" y=\"74.043656\"/>\r\n     <use style=\"fill:#ff0000;stroke:#ff0000;stroke-width:1.5;\" x=\"57.562428\" xlink:href=\"#mbc8fede82a\" y=\"89.420836\"/>\r\n     <use style=\"fill:#ff0000;stroke:#ff0000;stroke-width:1.5;\" x=\"258.500781\" xlink:href=\"#mbc8fede82a\" y=\"73.662314\"/>\r\n     <use style=\"fill:#ff0000;stroke:#ff0000;stroke-width:1.5;\" x=\"55.268338\" xlink:href=\"#mbc8fede82a\" y=\"153.017058\"/>\r\n     <use style=\"fill:#ff0000;stroke:#ff0000;stroke-width:1.5;\" x=\"294.250793\" xlink:href=\"#mbc8fede82a\" y=\"168.50135\"/>\r\n     <use style=\"fill:#ff0000;stroke:#ff0000;stroke-width:1.5;\" x=\"151.281698\" xlink:href=\"#mbc8fede82a\" y=\"66.74146\"/>\r\n     <use style=\"fill:#ff0000;stroke:#ff0000;stroke-width:1.5;\" x=\"168.185463\" xlink:href=\"#mbc8fede82a\" y=\"36.989903\"/>\r\n     <use style=\"fill:#ff0000;stroke:#ff0000;stroke-width:1.5;\" x=\"215.47014\" xlink:href=\"#mbc8fede82a\" y=\"167.343116\"/>\r\n     <use style=\"fill:#ff0000;stroke:#ff0000;stroke-width:1.5;\" x=\"307.835684\" xlink:href=\"#mbc8fede82a\" y=\"137.454581\"/>\r\n     <use style=\"fill:#ff0000;stroke:#ff0000;stroke-width:1.5;\" x=\"262.696972\" xlink:href=\"#mbc8fede82a\" y=\"141.615486\"/>\r\n     <use style=\"fill:#ff0000;stroke:#ff0000;stroke-width:1.5;\" x=\"213.71202\" xlink:href=\"#mbc8fede82a\" y=\"160.890522\"/>\r\n     <use style=\"fill:#ff0000;stroke:#ff0000;stroke-width:1.5;\" x=\"221.090109\" xlink:href=\"#mbc8fede82a\" y=\"17.083636\"/>\r\n     <use style=\"fill:#ff0000;stroke:#ff0000;stroke-width:1.5;\" x=\"293.094529\" xlink:href=\"#mbc8fede82a\" y=\"174.036498\"/>\r\n    </g>\r\n   </g>\r\n   <g id=\"matplotlib.axis_1\">\r\n    <g id=\"xtick_1\">\r\n     <g id=\"line2d_1\">\r\n      <defs>\r\n       <path d=\"M 0 0 \r\nL 0 3.5 \r\n\" id=\"me2ef6e9d60\" style=\"stroke:#000000;stroke-width:0.8;\"/>\r\n      </defs>\r\n      <g>\r\n       <use style=\"stroke:#000000;stroke-width:0.8;\" x=\"41.489948\" xlink:href=\"#me2ef6e9d60\" y=\"224.64\"/>\r\n      </g>\r\n     </g>\r\n     <g id=\"text_1\">\r\n      <!-- 0.0 -->\r\n      <g transform=\"translate(33.538386 239.238437)scale(0.1 -0.1)\">\r\n       <defs>\r\n        <path d=\"M 31.78125 66.40625 \r\nQ 24.171875 66.40625 20.328125 58.90625 \r\nQ 16.5 51.421875 16.5 36.375 \r\nQ 16.5 21.390625 20.328125 13.890625 \r\nQ 24.171875 6.390625 31.78125 6.390625 \r\nQ 39.453125 6.390625 43.28125 13.890625 \r\nQ 47.125 21.390625 47.125 36.375 \r\nQ 47.125 51.421875 43.28125 58.90625 \r\nQ 39.453125 66.40625 31.78125 66.40625 \r\nz\r\nM 31.78125 74.21875 \r\nQ 44.046875 74.21875 50.515625 64.515625 \r\nQ 56.984375 54.828125 56.984375 36.375 \r\nQ 56.984375 17.96875 50.515625 8.265625 \r\nQ 44.046875 -1.421875 31.78125 -1.421875 \r\nQ 19.53125 -1.421875 13.0625 8.265625 \r\nQ 6.59375 17.96875 6.59375 36.375 \r\nQ 6.59375 54.828125 13.0625 64.515625 \r\nQ 19.53125 74.21875 31.78125 74.21875 \r\nz\r\n\" id=\"DejaVuSans-48\"/>\r\n        <path d=\"M 10.6875 12.40625 \r\nL 21 12.40625 \r\nL 21 0 \r\nL 10.6875 0 \r\nz\r\n\" id=\"DejaVuSans-46\"/>\r\n       </defs>\r\n       <use xlink:href=\"#DejaVuSans-48\"/>\r\n       <use x=\"63.623047\" xlink:href=\"#DejaVuSans-46\"/>\r\n       <use x=\"95.410156\" xlink:href=\"#DejaVuSans-48\"/>\r\n      </g>\r\n     </g>\r\n    </g>\r\n    <g id=\"xtick_2\">\r\n     <g id=\"line2d_2\">\r\n      <g>\r\n       <use style=\"stroke:#000000;stroke-width:0.8;\" x=\"103.244233\" xlink:href=\"#me2ef6e9d60\" y=\"224.64\"/>\r\n      </g>\r\n     </g>\r\n     <g id=\"text_2\">\r\n      <!-- 0.2 -->\r\n      <g transform=\"translate(95.29267 239.238437)scale(0.1 -0.1)\">\r\n       <defs>\r\n        <path d=\"M 19.1875 8.296875 \r\nL 53.609375 8.296875 \r\nL 53.609375 0 \r\nL 7.328125 0 \r\nL 7.328125 8.296875 \r\nQ 12.9375 14.109375 22.625 23.890625 \r\nQ 32.328125 33.6875 34.8125 36.53125 \r\nQ 39.546875 41.84375 41.421875 45.53125 \r\nQ 43.3125 49.21875 43.3125 52.78125 \r\nQ 43.3125 58.59375 39.234375 62.25 \r\nQ 35.15625 65.921875 28.609375 65.921875 \r\nQ 23.96875 65.921875 18.8125 64.3125 \r\nQ 13.671875 62.703125 7.8125 59.421875 \r\nL 7.8125 69.390625 \r\nQ 13.765625 71.78125 18.9375 73 \r\nQ 24.125 74.21875 28.421875 74.21875 \r\nQ 39.75 74.21875 46.484375 68.546875 \r\nQ 53.21875 62.890625 53.21875 53.421875 \r\nQ 53.21875 48.921875 51.53125 44.890625 \r\nQ 49.859375 40.875 45.40625 35.40625 \r\nQ 44.1875 33.984375 37.640625 27.21875 \r\nQ 31.109375 20.453125 19.1875 8.296875 \r\nz\r\n\" id=\"DejaVuSans-50\"/>\r\n       </defs>\r\n       <use xlink:href=\"#DejaVuSans-48\"/>\r\n       <use x=\"63.623047\" xlink:href=\"#DejaVuSans-46\"/>\r\n       <use x=\"95.410156\" xlink:href=\"#DejaVuSans-50\"/>\r\n      </g>\r\n     </g>\r\n    </g>\r\n    <g id=\"xtick_3\">\r\n     <g id=\"line2d_3\">\r\n      <g>\r\n       <use style=\"stroke:#000000;stroke-width:0.8;\" x=\"164.998517\" xlink:href=\"#me2ef6e9d60\" y=\"224.64\"/>\r\n      </g>\r\n     </g>\r\n     <g id=\"text_3\">\r\n      <!-- 0.4 -->\r\n      <g transform=\"translate(157.046955 239.238437)scale(0.1 -0.1)\">\r\n       <defs>\r\n        <path d=\"M 37.796875 64.3125 \r\nL 12.890625 25.390625 \r\nL 37.796875 25.390625 \r\nz\r\nM 35.203125 72.90625 \r\nL 47.609375 72.90625 \r\nL 47.609375 25.390625 \r\nL 58.015625 25.390625 \r\nL 58.015625 17.1875 \r\nL 47.609375 17.1875 \r\nL 47.609375 0 \r\nL 37.796875 0 \r\nL 37.796875 17.1875 \r\nL 4.890625 17.1875 \r\nL 4.890625 26.703125 \r\nz\r\n\" id=\"DejaVuSans-52\"/>\r\n       </defs>\r\n       <use xlink:href=\"#DejaVuSans-48\"/>\r\n       <use x=\"63.623047\" xlink:href=\"#DejaVuSans-46\"/>\r\n       <use x=\"95.410156\" xlink:href=\"#DejaVuSans-52\"/>\r\n      </g>\r\n     </g>\r\n    </g>\r\n    <g id=\"xtick_4\">\r\n     <g id=\"line2d_4\">\r\n      <g>\r\n       <use style=\"stroke:#000000;stroke-width:0.8;\" x=\"226.752802\" xlink:href=\"#me2ef6e9d60\" y=\"224.64\"/>\r\n      </g>\r\n     </g>\r\n     <g id=\"text_4\">\r\n      <!-- 0.6 -->\r\n      <g transform=\"translate(218.801239 239.238437)scale(0.1 -0.1)\">\r\n       <defs>\r\n        <path d=\"M 33.015625 40.375 \r\nQ 26.375 40.375 22.484375 35.828125 \r\nQ 18.609375 31.296875 18.609375 23.390625 \r\nQ 18.609375 15.53125 22.484375 10.953125 \r\nQ 26.375 6.390625 33.015625 6.390625 \r\nQ 39.65625 6.390625 43.53125 10.953125 \r\nQ 47.40625 15.53125 47.40625 23.390625 \r\nQ 47.40625 31.296875 43.53125 35.828125 \r\nQ 39.65625 40.375 33.015625 40.375 \r\nz\r\nM 52.59375 71.296875 \r\nL 52.59375 62.3125 \r\nQ 48.875 64.0625 45.09375 64.984375 \r\nQ 41.3125 65.921875 37.59375 65.921875 \r\nQ 27.828125 65.921875 22.671875 59.328125 \r\nQ 17.53125 52.734375 16.796875 39.40625 \r\nQ 19.671875 43.65625 24.015625 45.921875 \r\nQ 28.375 48.1875 33.59375 48.1875 \r\nQ 44.578125 48.1875 50.953125 41.515625 \r\nQ 57.328125 34.859375 57.328125 23.390625 \r\nQ 57.328125 12.15625 50.6875 5.359375 \r\nQ 44.046875 -1.421875 33.015625 -1.421875 \r\nQ 20.359375 -1.421875 13.671875 8.265625 \r\nQ 6.984375 17.96875 6.984375 36.375 \r\nQ 6.984375 53.65625 15.1875 63.9375 \r\nQ 23.390625 74.21875 37.203125 74.21875 \r\nQ 40.921875 74.21875 44.703125 73.484375 \r\nQ 48.484375 72.75 52.59375 71.296875 \r\nz\r\n\" id=\"DejaVuSans-54\"/>\r\n       </defs>\r\n       <use xlink:href=\"#DejaVuSans-48\"/>\r\n       <use x=\"63.623047\" xlink:href=\"#DejaVuSans-46\"/>\r\n       <use x=\"95.410156\" xlink:href=\"#DejaVuSans-54\"/>\r\n      </g>\r\n     </g>\r\n    </g>\r\n    <g id=\"xtick_5\">\r\n     <g id=\"line2d_5\">\r\n      <g>\r\n       <use style=\"stroke:#000000;stroke-width:0.8;\" x=\"288.507086\" xlink:href=\"#me2ef6e9d60\" y=\"224.64\"/>\r\n      </g>\r\n     </g>\r\n     <g id=\"text_5\">\r\n      <!-- 0.8 -->\r\n      <g transform=\"translate(280.555524 239.238437)scale(0.1 -0.1)\">\r\n       <defs>\r\n        <path d=\"M 31.78125 34.625 \r\nQ 24.75 34.625 20.71875 30.859375 \r\nQ 16.703125 27.09375 16.703125 20.515625 \r\nQ 16.703125 13.921875 20.71875 10.15625 \r\nQ 24.75 6.390625 31.78125 6.390625 \r\nQ 38.8125 6.390625 42.859375 10.171875 \r\nQ 46.921875 13.96875 46.921875 20.515625 \r\nQ 46.921875 27.09375 42.890625 30.859375 \r\nQ 38.875 34.625 31.78125 34.625 \r\nz\r\nM 21.921875 38.8125 \r\nQ 15.578125 40.375 12.03125 44.71875 \r\nQ 8.5 49.078125 8.5 55.328125 \r\nQ 8.5 64.0625 14.71875 69.140625 \r\nQ 20.953125 74.21875 31.78125 74.21875 \r\nQ 42.671875 74.21875 48.875 69.140625 \r\nQ 55.078125 64.0625 55.078125 55.328125 \r\nQ 55.078125 49.078125 51.53125 44.71875 \r\nQ 48 40.375 41.703125 38.8125 \r\nQ 48.828125 37.15625 52.796875 32.3125 \r\nQ 56.78125 27.484375 56.78125 20.515625 \r\nQ 56.78125 9.90625 50.3125 4.234375 \r\nQ 43.84375 -1.421875 31.78125 -1.421875 \r\nQ 19.734375 -1.421875 13.25 4.234375 \r\nQ 6.78125 9.90625 6.78125 20.515625 \r\nQ 6.78125 27.484375 10.78125 32.3125 \r\nQ 14.796875 37.15625 21.921875 38.8125 \r\nz\r\nM 18.3125 54.390625 \r\nQ 18.3125 48.734375 21.84375 45.5625 \r\nQ 25.390625 42.390625 31.78125 42.390625 \r\nQ 38.140625 42.390625 41.71875 45.5625 \r\nQ 45.3125 48.734375 45.3125 54.390625 \r\nQ 45.3125 60.0625 41.71875 63.234375 \r\nQ 38.140625 66.40625 31.78125 66.40625 \r\nQ 25.390625 66.40625 21.84375 63.234375 \r\nQ 18.3125 60.0625 18.3125 54.390625 \r\nz\r\n\" id=\"DejaVuSans-56\"/>\r\n       </defs>\r\n       <use xlink:href=\"#DejaVuSans-48\"/>\r\n       <use x=\"63.623047\" xlink:href=\"#DejaVuSans-46\"/>\r\n       <use x=\"95.410156\" xlink:href=\"#DejaVuSans-56\"/>\r\n      </g>\r\n     </g>\r\n    </g>\r\n    <g id=\"xtick_6\">\r\n     <g id=\"line2d_6\">\r\n      <g>\r\n       <use style=\"stroke:#000000;stroke-width:0.8;\" x=\"350.261371\" xlink:href=\"#me2ef6e9d60\" y=\"224.64\"/>\r\n      </g>\r\n     </g>\r\n     <g id=\"text_6\">\r\n      <!-- 1.0 -->\r\n      <g transform=\"translate(342.309808 239.238437)scale(0.1 -0.1)\">\r\n       <defs>\r\n        <path d=\"M 12.40625 8.296875 \r\nL 28.515625 8.296875 \r\nL 28.515625 63.921875 \r\nL 10.984375 60.40625 \r\nL 10.984375 69.390625 \r\nL 28.421875 72.90625 \r\nL 38.28125 72.90625 \r\nL 38.28125 8.296875 \r\nL 54.390625 8.296875 \r\nL 54.390625 0 \r\nL 12.40625 0 \r\nz\r\n\" id=\"DejaVuSans-49\"/>\r\n       </defs>\r\n       <use xlink:href=\"#DejaVuSans-49\"/>\r\n       <use x=\"63.623047\" xlink:href=\"#DejaVuSans-46\"/>\r\n       <use x=\"95.410156\" xlink:href=\"#DejaVuSans-48\"/>\r\n      </g>\r\n     </g>\r\n    </g>\r\n   </g>\r\n   <g id=\"matplotlib.axis_2\">\r\n    <g id=\"ytick_1\">\r\n     <g id=\"line2d_7\">\r\n      <defs>\r\n       <path d=\"M 0 0 \r\nL -3.5 0 \r\n\" id=\"mc2d71b52bc\" style=\"stroke:#000000;stroke-width:0.8;\"/>\r\n      </defs>\r\n      <g>\r\n       <use style=\"stroke:#000000;stroke-width:0.8;\" x=\"30.103125\" xlink:href=\"#mc2d71b52bc\" y=\"217.273282\"/>\r\n      </g>\r\n     </g>\r\n     <g id=\"text_7\">\r\n      <!-- 0.0 -->\r\n      <g transform=\"translate(7.2 221.0725)scale(0.1 -0.1)\">\r\n       <use xlink:href=\"#DejaVuSans-48\"/>\r\n       <use x=\"63.623047\" xlink:href=\"#DejaVuSans-46\"/>\r\n       <use x=\"95.410156\" xlink:href=\"#DejaVuSans-48\"/>\r\n      </g>\r\n     </g>\r\n    </g>\r\n    <g id=\"ytick_2\">\r\n     <g id=\"line2d_8\">\r\n      <g>\r\n       <use style=\"stroke:#000000;stroke-width:0.8;\" x=\"30.103125\" xlink:href=\"#mc2d71b52bc\" y=\"176.692772\"/>\r\n      </g>\r\n     </g>\r\n     <g id=\"text_8\">\r\n      <!-- 0.2 -->\r\n      <g transform=\"translate(7.2 180.49199)scale(0.1 -0.1)\">\r\n       <use xlink:href=\"#DejaVuSans-48\"/>\r\n       <use x=\"63.623047\" xlink:href=\"#DejaVuSans-46\"/>\r\n       <use x=\"95.410156\" xlink:href=\"#DejaVuSans-50\"/>\r\n      </g>\r\n     </g>\r\n    </g>\r\n    <g id=\"ytick_3\">\r\n     <g id=\"line2d_9\">\r\n      <g>\r\n       <use style=\"stroke:#000000;stroke-width:0.8;\" x=\"30.103125\" xlink:href=\"#mc2d71b52bc\" y=\"136.112262\"/>\r\n      </g>\r\n     </g>\r\n     <g id=\"text_9\">\r\n      <!-- 0.4 -->\r\n      <g transform=\"translate(7.2 139.911481)scale(0.1 -0.1)\">\r\n       <use xlink:href=\"#DejaVuSans-48\"/>\r\n       <use x=\"63.623047\" xlink:href=\"#DejaVuSans-46\"/>\r\n       <use x=\"95.410156\" xlink:href=\"#DejaVuSans-52\"/>\r\n      </g>\r\n     </g>\r\n    </g>\r\n    <g id=\"ytick_4\">\r\n     <g id=\"line2d_10\">\r\n      <g>\r\n       <use style=\"stroke:#000000;stroke-width:0.8;\" x=\"30.103125\" xlink:href=\"#mc2d71b52bc\" y=\"95.531752\"/>\r\n      </g>\r\n     </g>\r\n     <g id=\"text_10\">\r\n      <!-- 0.6 -->\r\n      <g transform=\"translate(7.2 99.330971)scale(0.1 -0.1)\">\r\n       <use xlink:href=\"#DejaVuSans-48\"/>\r\n       <use x=\"63.623047\" xlink:href=\"#DejaVuSans-46\"/>\r\n       <use x=\"95.410156\" xlink:href=\"#DejaVuSans-54\"/>\r\n      </g>\r\n     </g>\r\n    </g>\r\n    <g id=\"ytick_5\">\r\n     <g id=\"line2d_11\">\r\n      <g>\r\n       <use style=\"stroke:#000000;stroke-width:0.8;\" x=\"30.103125\" xlink:href=\"#mc2d71b52bc\" y=\"54.951242\"/>\r\n      </g>\r\n     </g>\r\n     <g id=\"text_11\">\r\n      <!-- 0.8 -->\r\n      <g transform=\"translate(7.2 58.750461)scale(0.1 -0.1)\">\r\n       <use xlink:href=\"#DejaVuSans-48\"/>\r\n       <use x=\"63.623047\" xlink:href=\"#DejaVuSans-46\"/>\r\n       <use x=\"95.410156\" xlink:href=\"#DejaVuSans-56\"/>\r\n      </g>\r\n     </g>\r\n    </g>\r\n    <g id=\"ytick_6\">\r\n     <g id=\"line2d_12\">\r\n      <g>\r\n       <use style=\"stroke:#000000;stroke-width:0.8;\" x=\"30.103125\" xlink:href=\"#mc2d71b52bc\" y=\"14.370732\"/>\r\n      </g>\r\n     </g>\r\n     <g id=\"text_12\">\r\n      <!-- 1.0 -->\r\n      <g transform=\"translate(7.2 18.169951)scale(0.1 -0.1)\">\r\n       <use xlink:href=\"#DejaVuSans-49\"/>\r\n       <use x=\"63.623047\" xlink:href=\"#DejaVuSans-46\"/>\r\n       <use x=\"95.410156\" xlink:href=\"#DejaVuSans-48\"/>\r\n      </g>\r\n     </g>\r\n    </g>\r\n   </g>\r\n   <g id=\"patch_3\">\r\n    <path d=\"M 30.103125 224.64 \r\nL 30.103125 7.2 \r\n\" style=\"fill:none;stroke:#000000;stroke-linecap:square;stroke-linejoin:miter;stroke-width:0.8;\"/>\r\n   </g>\r\n   <g id=\"patch_4\">\r\n    <path d=\"M 364.903125 224.64 \r\nL 364.903125 7.2 \r\n\" style=\"fill:none;stroke:#000000;stroke-linecap:square;stroke-linejoin:miter;stroke-width:0.8;\"/>\r\n   </g>\r\n   <g id=\"patch_5\">\r\n    <path d=\"M 30.103125 224.64 \r\nL 364.903125 224.64 \r\n\" style=\"fill:none;stroke:#000000;stroke-linecap:square;stroke-linejoin:miter;stroke-width:0.8;\"/>\r\n   </g>\r\n   <g id=\"patch_6\">\r\n    <path d=\"M 30.103125 7.2 \r\nL 364.903125 7.2 \r\n\" style=\"fill:none;stroke:#000000;stroke-linecap:square;stroke-linejoin:miter;stroke-width:0.8;\"/>\r\n   </g>\r\n  </g>\r\n </g>\r\n <defs>\r\n  <clipPath id=\"pd5a7bbebdd\">\r\n   <rect height=\"217.44\" width=\"334.8\" x=\"30.103125\" y=\"7.2\"/>\r\n  </clipPath>\r\n </defs>\r\n</svg>\r\n",
      "image/png": "[encoded data removed]"
     },
     "metadata": {
      "needs_background": "light"
     }
    }
   ],
   "source": [
    "data = np.random.rand(100, 2)\n",
    "\n",
    "plt.scatter(data[:,0], data[:,1], color=\"red\", marker=\"x\")\n",
    "plt.show()"
   ]
  },
  {
   "cell_type": "markdown",
   "metadata": {},
   "source": [
    "---\n",
    "p24"
   ]
  },
  {
   "cell_type": "markdown",
   "metadata": {},
   "source": [
    "## Bar Plot"
   ]
  },
  {
   "cell_type": "markdown",
   "metadata": {},
   "source": [
    "- **plt.bar()**"
   ]
  },
  {
   "cell_type": "code",
   "execution_count": 133,
   "metadata": {
    "collapsed": true,
    "jupyter": {
     "outputs_hidden": false
    },
    "scrolled": true
   },
   "outputs": [
    {
     "output_type": "execute_result",
     "data": {
      "text/plain": [
       "<BarContainer object of 4 artists>"
      ]
     },
     "metadata": {},
     "execution_count": 133
    },
    {
     "output_type": "execute_result",
     "data": {
      "text/plain": [
       "([<matplotlib.axis.XTick at 0x1f820ccf5f8>,\n",
       "  <matplotlib.axis.XTick at 0x1f820ccf1d0>,\n",
       "  <matplotlib.axis.XTick at 0x1f820cc3e48>,\n",
       "  <matplotlib.axis.XTick at 0x1f820cf5f60>],\n",
       " [Text(0, 0, '2015'),\n",
       "  Text(1, 0, '2016'),\n",
       "  Text(2, 0, '2017'),\n",
       "  Text(3, 0, '2018')])"
      ]
     },
     "metadata": {},
     "execution_count": 133
    },
    {
     "output_type": "display_data",
     "data": {
      "text/plain": "<Figure size 432x288 with 1 Axes>",
      "image/svg+xml": "<?xml version=\"1.0\" encoding=\"utf-8\" standalone=\"no\"?>\r\n<!DOCTYPE svg PUBLIC \"-//W3C//DTD SVG 1.1//EN\"\r\n  \"http://www.w3.org/Graphics/SVG/1.1/DTD/svg11.dtd\">\r\n<!-- Created with matplotlib (https://matplotlib.org/) -->\r\n<svg height=\"248.518125pt\" version=\"1.1\" viewBox=\"0 0 368.925 248.518125\" width=\"368.925pt\" xmlns=\"http://www.w3.org/2000/svg\" xmlns:xlink=\"http://www.w3.org/1999/xlink\">\r\n <metadata>\r\n  <rdf:RDF xmlns:cc=\"http://creativecommons.org/ns#\" xmlns:dc=\"http://purl.org/dc/elements/1.1/\" xmlns:rdf=\"http://www.w3.org/1999/02/22-rdf-syntax-ns#\">\r\n   <cc:Work>\r\n    <dc:type rdf:resource=\"http://purl.org/dc/dcmitype/StillImage\"/>\r\n    <dc:date>2021-03-18T17:52:57.125926</dc:date>\r\n    <dc:format>image/svg+xml</dc:format>\r\n    <dc:creator>\r\n     <cc:Agent>\r\n      <dc:title>Matplotlib v3.3.2, https://matplotlib.org/</dc:title>\r\n     </cc:Agent>\r\n    </dc:creator>\r\n   </cc:Work>\r\n  </rdf:RDF>\r\n </metadata>\r\n <defs>\r\n  <style type=\"text/css\">*{stroke-linecap:butt;stroke-linejoin:round;}</style>\r\n </defs>\r\n <g id=\"figure_1\">\r\n  <g id=\"patch_1\">\r\n   <path d=\"M -0 248.518125 \r\nL 368.925 248.518125 \r\nL 368.925 0 \r\nL -0 0 \r\nz\r\n\" style=\"fill:none;\"/>\r\n  </g>\r\n  <g id=\"axes_1\">\r\n   <g id=\"patch_2\">\r\n    <path d=\"M 26.925 224.64 \r\nL 361.725 224.64 \r\nL 361.725 7.2 \r\nL 26.925 7.2 \r\nz\r\n\" style=\"fill:#ffffff;\"/>\r\n   </g>\r\n   <g id=\"patch_3\">\r\n    <path clip-path=\"url(#p7850a09ae6)\" d=\"M 42.143182 224.64 \r\nL 85.623701 224.64 \r\nL 85.623701 141.805714 \r\nL 42.143182 141.805714 \r\nz\r\n\" style=\"fill:#0000ff;\"/>\r\n   </g>\r\n   <g id=\"patch_4\">\r\n    <path clip-path=\"url(#p7850a09ae6)\" d=\"M 129.104221 224.64 \r\nL 172.58474 224.64 \r\nL 172.58474 17.554286 \r\nL 129.104221 17.554286 \r\nz\r\n\" style=\"fill:#0000ff;\"/>\r\n   </g>\r\n   <g id=\"patch_5\">\r\n    <path clip-path=\"url(#p7850a09ae6)\" d=\"M 216.06526 224.64 \r\nL 259.545779 224.64 \r\nL 259.545779 58.971429 \r\nL 216.06526 58.971429 \r\nz\r\n\" style=\"fill:#0000ff;\"/>\r\n   </g>\r\n   <g id=\"patch_6\">\r\n    <path clip-path=\"url(#p7850a09ae6)\" d=\"M 303.026299 224.64 \r\nL 346.506818 224.64 \r\nL 346.506818 100.388571 \r\nL 303.026299 100.388571 \r\nz\r\n\" style=\"fill:#0000ff;\"/>\r\n   </g>\r\n   <g id=\"matplotlib.axis_1\">\r\n    <g id=\"xtick_1\">\r\n     <g id=\"line2d_1\">\r\n      <defs>\r\n       <path d=\"M 0 0 \r\nL 0 3.5 \r\n\" id=\"m11fd6ea814\" style=\"stroke:#000000;stroke-width:0.8;\"/>\r\n      </defs>\r\n      <g>\r\n       <use style=\"stroke:#000000;stroke-width:0.8;\" x=\"63.883442\" xlink:href=\"#m11fd6ea814\" y=\"224.64\"/>\r\n      </g>\r\n     </g>\r\n     <g id=\"text_1\">\r\n      <!-- 2015 -->\r\n      <g transform=\"translate(51.158442 239.238438)scale(0.1 -0.1)\">\r\n       <defs>\r\n        <path d=\"M 19.1875 8.296875 \r\nL 53.609375 8.296875 \r\nL 53.609375 0 \r\nL 7.328125 0 \r\nL 7.328125 8.296875 \r\nQ 12.9375 14.109375 22.625 23.890625 \r\nQ 32.328125 33.6875 34.8125 36.53125 \r\nQ 39.546875 41.84375 41.421875 45.53125 \r\nQ 43.3125 49.21875 43.3125 52.78125 \r\nQ 43.3125 58.59375 39.234375 62.25 \r\nQ 35.15625 65.921875 28.609375 65.921875 \r\nQ 23.96875 65.921875 18.8125 64.3125 \r\nQ 13.671875 62.703125 7.8125 59.421875 \r\nL 7.8125 69.390625 \r\nQ 13.765625 71.78125 18.9375 73 \r\nQ 24.125 74.21875 28.421875 74.21875 \r\nQ 39.75 74.21875 46.484375 68.546875 \r\nQ 53.21875 62.890625 53.21875 53.421875 \r\nQ 53.21875 48.921875 51.53125 44.890625 \r\nQ 49.859375 40.875 45.40625 35.40625 \r\nQ 44.1875 33.984375 37.640625 27.21875 \r\nQ 31.109375 20.453125 19.1875 8.296875 \r\nz\r\n\" id=\"DejaVuSans-50\"/>\r\n        <path d=\"M 31.78125 66.40625 \r\nQ 24.171875 66.40625 20.328125 58.90625 \r\nQ 16.5 51.421875 16.5 36.375 \r\nQ 16.5 21.390625 20.328125 13.890625 \r\nQ 24.171875 6.390625 31.78125 6.390625 \r\nQ 39.453125 6.390625 43.28125 13.890625 \r\nQ 47.125 21.390625 47.125 36.375 \r\nQ 47.125 51.421875 43.28125 58.90625 \r\nQ 39.453125 66.40625 31.78125 66.40625 \r\nz\r\nM 31.78125 74.21875 \r\nQ 44.046875 74.21875 50.515625 64.515625 \r\nQ 56.984375 54.828125 56.984375 36.375 \r\nQ 56.984375 17.96875 50.515625 8.265625 \r\nQ 44.046875 -1.421875 31.78125 -1.421875 \r\nQ 19.53125 -1.421875 13.0625 8.265625 \r\nQ 6.59375 17.96875 6.59375 36.375 \r\nQ 6.59375 54.828125 13.0625 64.515625 \r\nQ 19.53125 74.21875 31.78125 74.21875 \r\nz\r\n\" id=\"DejaVuSans-48\"/>\r\n        <path d=\"M 12.40625 8.296875 \r\nL 28.515625 8.296875 \r\nL 28.515625 63.921875 \r\nL 10.984375 60.40625 \r\nL 10.984375 69.390625 \r\nL 28.421875 72.90625 \r\nL 38.28125 72.90625 \r\nL 38.28125 8.296875 \r\nL 54.390625 8.296875 \r\nL 54.390625 0 \r\nL 12.40625 0 \r\nz\r\n\" id=\"DejaVuSans-49\"/>\r\n        <path d=\"M 10.796875 72.90625 \r\nL 49.515625 72.90625 \r\nL 49.515625 64.59375 \r\nL 19.828125 64.59375 \r\nL 19.828125 46.734375 \r\nQ 21.96875 47.46875 24.109375 47.828125 \r\nQ 26.265625 48.1875 28.421875 48.1875 \r\nQ 40.625 48.1875 47.75 41.5 \r\nQ 54.890625 34.8125 54.890625 23.390625 \r\nQ 54.890625 11.625 47.5625 5.09375 \r\nQ 40.234375 -1.421875 26.90625 -1.421875 \r\nQ 22.3125 -1.421875 17.546875 -0.640625 \r\nQ 12.796875 0.140625 7.71875 1.703125 \r\nL 7.71875 11.625 \r\nQ 12.109375 9.234375 16.796875 8.0625 \r\nQ 21.484375 6.890625 26.703125 6.890625 \r\nQ 35.15625 6.890625 40.078125 11.328125 \r\nQ 45.015625 15.765625 45.015625 23.390625 \r\nQ 45.015625 31 40.078125 35.4375 \r\nQ 35.15625 39.890625 26.703125 39.890625 \r\nQ 22.75 39.890625 18.8125 39.015625 \r\nQ 14.890625 38.140625 10.796875 36.28125 \r\nz\r\n\" id=\"DejaVuSans-53\"/>\r\n       </defs>\r\n       <use xlink:href=\"#DejaVuSans-50\"/>\r\n       <use x=\"63.623047\" xlink:href=\"#DejaVuSans-48\"/>\r\n       <use x=\"127.246094\" xlink:href=\"#DejaVuSans-49\"/>\r\n       <use x=\"190.869141\" xlink:href=\"#DejaVuSans-53\"/>\r\n      </g>\r\n     </g>\r\n    </g>\r\n    <g id=\"xtick_2\">\r\n     <g id=\"line2d_2\">\r\n      <g>\r\n       <use style=\"stroke:#000000;stroke-width:0.8;\" x=\"150.844481\" xlink:href=\"#m11fd6ea814\" y=\"224.64\"/>\r\n      </g>\r\n     </g>\r\n     <g id=\"text_2\">\r\n      <!-- 2016 -->\r\n      <g transform=\"translate(138.119481 239.238438)scale(0.1 -0.1)\">\r\n       <defs>\r\n        <path d=\"M 33.015625 40.375 \r\nQ 26.375 40.375 22.484375 35.828125 \r\nQ 18.609375 31.296875 18.609375 23.390625 \r\nQ 18.609375 15.53125 22.484375 10.953125 \r\nQ 26.375 6.390625 33.015625 6.390625 \r\nQ 39.65625 6.390625 43.53125 10.953125 \r\nQ 47.40625 15.53125 47.40625 23.390625 \r\nQ 47.40625 31.296875 43.53125 35.828125 \r\nQ 39.65625 40.375 33.015625 40.375 \r\nz\r\nM 52.59375 71.296875 \r\nL 52.59375 62.3125 \r\nQ 48.875 64.0625 45.09375 64.984375 \r\nQ 41.3125 65.921875 37.59375 65.921875 \r\nQ 27.828125 65.921875 22.671875 59.328125 \r\nQ 17.53125 52.734375 16.796875 39.40625 \r\nQ 19.671875 43.65625 24.015625 45.921875 \r\nQ 28.375 48.1875 33.59375 48.1875 \r\nQ 44.578125 48.1875 50.953125 41.515625 \r\nQ 57.328125 34.859375 57.328125 23.390625 \r\nQ 57.328125 12.15625 50.6875 5.359375 \r\nQ 44.046875 -1.421875 33.015625 -1.421875 \r\nQ 20.359375 -1.421875 13.671875 8.265625 \r\nQ 6.984375 17.96875 6.984375 36.375 \r\nQ 6.984375 53.65625 15.1875 63.9375 \r\nQ 23.390625 74.21875 37.203125 74.21875 \r\nQ 40.921875 74.21875 44.703125 73.484375 \r\nQ 48.484375 72.75 52.59375 71.296875 \r\nz\r\n\" id=\"DejaVuSans-54\"/>\r\n       </defs>\r\n       <use xlink:href=\"#DejaVuSans-50\"/>\r\n       <use x=\"63.623047\" xlink:href=\"#DejaVuSans-48\"/>\r\n       <use x=\"127.246094\" xlink:href=\"#DejaVuSans-49\"/>\r\n       <use x=\"190.869141\" xlink:href=\"#DejaVuSans-54\"/>\r\n      </g>\r\n     </g>\r\n    </g>\r\n    <g id=\"xtick_3\">\r\n     <g id=\"line2d_3\">\r\n      <g>\r\n       <use style=\"stroke:#000000;stroke-width:0.8;\" x=\"237.805519\" xlink:href=\"#m11fd6ea814\" y=\"224.64\"/>\r\n      </g>\r\n     </g>\r\n     <g id=\"text_3\">\r\n      <!-- 2017 -->\r\n      <g transform=\"translate(225.080519 239.238438)scale(0.1 -0.1)\">\r\n       <defs>\r\n        <path d=\"M 8.203125 72.90625 \r\nL 55.078125 72.90625 \r\nL 55.078125 68.703125 \r\nL 28.609375 0 \r\nL 18.3125 0 \r\nL 43.21875 64.59375 \r\nL 8.203125 64.59375 \r\nz\r\n\" id=\"DejaVuSans-55\"/>\r\n       </defs>\r\n       <use xlink:href=\"#DejaVuSans-50\"/>\r\n       <use x=\"63.623047\" xlink:href=\"#DejaVuSans-48\"/>\r\n       <use x=\"127.246094\" xlink:href=\"#DejaVuSans-49\"/>\r\n       <use x=\"190.869141\" xlink:href=\"#DejaVuSans-55\"/>\r\n      </g>\r\n     </g>\r\n    </g>\r\n    <g id=\"xtick_4\">\r\n     <g id=\"line2d_4\">\r\n      <g>\r\n       <use style=\"stroke:#000000;stroke-width:0.8;\" x=\"324.766558\" xlink:href=\"#m11fd6ea814\" y=\"224.64\"/>\r\n      </g>\r\n     </g>\r\n     <g id=\"text_4\">\r\n      <!-- 2018 -->\r\n      <g transform=\"translate(312.041558 239.238438)scale(0.1 -0.1)\">\r\n       <defs>\r\n        <path d=\"M 31.78125 34.625 \r\nQ 24.75 34.625 20.71875 30.859375 \r\nQ 16.703125 27.09375 16.703125 20.515625 \r\nQ 16.703125 13.921875 20.71875 10.15625 \r\nQ 24.75 6.390625 31.78125 6.390625 \r\nQ 38.8125 6.390625 42.859375 10.171875 \r\nQ 46.921875 13.96875 46.921875 20.515625 \r\nQ 46.921875 27.09375 42.890625 30.859375 \r\nQ 38.875 34.625 31.78125 34.625 \r\nz\r\nM 21.921875 38.8125 \r\nQ 15.578125 40.375 12.03125 44.71875 \r\nQ 8.5 49.078125 8.5 55.328125 \r\nQ 8.5 64.0625 14.71875 69.140625 \r\nQ 20.953125 74.21875 31.78125 74.21875 \r\nQ 42.671875 74.21875 48.875 69.140625 \r\nQ 55.078125 64.0625 55.078125 55.328125 \r\nQ 55.078125 49.078125 51.53125 44.71875 \r\nQ 48 40.375 41.703125 38.8125 \r\nQ 48.828125 37.15625 52.796875 32.3125 \r\nQ 56.78125 27.484375 56.78125 20.515625 \r\nQ 56.78125 9.90625 50.3125 4.234375 \r\nQ 43.84375 -1.421875 31.78125 -1.421875 \r\nQ 19.734375 -1.421875 13.25 4.234375 \r\nQ 6.78125 9.90625 6.78125 20.515625 \r\nQ 6.78125 27.484375 10.78125 32.3125 \r\nQ 14.796875 37.15625 21.921875 38.8125 \r\nz\r\nM 18.3125 54.390625 \r\nQ 18.3125 48.734375 21.84375 45.5625 \r\nQ 25.390625 42.390625 31.78125 42.390625 \r\nQ 38.140625 42.390625 41.71875 45.5625 \r\nQ 45.3125 48.734375 45.3125 54.390625 \r\nQ 45.3125 60.0625 41.71875 63.234375 \r\nQ 38.140625 66.40625 31.78125 66.40625 \r\nQ 25.390625 66.40625 21.84375 63.234375 \r\nQ 18.3125 60.0625 18.3125 54.390625 \r\nz\r\n\" id=\"DejaVuSans-56\"/>\r\n       </defs>\r\n       <use xlink:href=\"#DejaVuSans-50\"/>\r\n       <use x=\"63.623047\" xlink:href=\"#DejaVuSans-48\"/>\r\n       <use x=\"127.246094\" xlink:href=\"#DejaVuSans-49\"/>\r\n       <use x=\"190.869141\" xlink:href=\"#DejaVuSans-56\"/>\r\n      </g>\r\n     </g>\r\n    </g>\r\n   </g>\r\n   <g id=\"matplotlib.axis_2\">\r\n    <g id=\"ytick_1\">\r\n     <g id=\"line2d_5\">\r\n      <defs>\r\n       <path d=\"M 0 0 \r\nL -3.5 0 \r\n\" id=\"m8a98ecfc8c\" style=\"stroke:#000000;stroke-width:0.8;\"/>\r\n      </defs>\r\n      <g>\r\n       <use style=\"stroke:#000000;stroke-width:0.8;\" x=\"26.925\" xlink:href=\"#m8a98ecfc8c\" y=\"224.64\"/>\r\n      </g>\r\n     </g>\r\n     <g id=\"text_5\">\r\n      <!-- 0 -->\r\n      <g transform=\"translate(13.5625 228.439219)scale(0.1 -0.1)\">\r\n       <use xlink:href=\"#DejaVuSans-48\"/>\r\n      </g>\r\n     </g>\r\n    </g>\r\n    <g id=\"ytick_2\">\r\n     <g id=\"line2d_6\">\r\n      <g>\r\n       <use style=\"stroke:#000000;stroke-width:0.8;\" x=\"26.925\" xlink:href=\"#m8a98ecfc8c\" y=\"183.222857\"/>\r\n      </g>\r\n     </g>\r\n     <g id=\"text_6\">\r\n      <!-- 5 -->\r\n      <g transform=\"translate(13.5625 187.022076)scale(0.1 -0.1)\">\r\n       <use xlink:href=\"#DejaVuSans-53\"/>\r\n      </g>\r\n     </g>\r\n    </g>\r\n    <g id=\"ytick_3\">\r\n     <g id=\"line2d_7\">\r\n      <g>\r\n       <use style=\"stroke:#000000;stroke-width:0.8;\" x=\"26.925\" xlink:href=\"#m8a98ecfc8c\" y=\"141.805714\"/>\r\n      </g>\r\n     </g>\r\n     <g id=\"text_7\">\r\n      <!-- 10 -->\r\n      <g transform=\"translate(7.2 145.604933)scale(0.1 -0.1)\">\r\n       <use xlink:href=\"#DejaVuSans-49\"/>\r\n       <use x=\"63.623047\" xlink:href=\"#DejaVuSans-48\"/>\r\n      </g>\r\n     </g>\r\n    </g>\r\n    <g id=\"ytick_4\">\r\n     <g id=\"line2d_8\">\r\n      <g>\r\n       <use style=\"stroke:#000000;stroke-width:0.8;\" x=\"26.925\" xlink:href=\"#m8a98ecfc8c\" y=\"100.388571\"/>\r\n      </g>\r\n     </g>\r\n     <g id=\"text_8\">\r\n      <!-- 15 -->\r\n      <g transform=\"translate(7.2 104.18779)scale(0.1 -0.1)\">\r\n       <use xlink:href=\"#DejaVuSans-49\"/>\r\n       <use x=\"63.623047\" xlink:href=\"#DejaVuSans-53\"/>\r\n      </g>\r\n     </g>\r\n    </g>\r\n    <g id=\"ytick_5\">\r\n     <g id=\"line2d_9\">\r\n      <g>\r\n       <use style=\"stroke:#000000;stroke-width:0.8;\" x=\"26.925\" xlink:href=\"#m8a98ecfc8c\" y=\"58.971429\"/>\r\n      </g>\r\n     </g>\r\n     <g id=\"text_9\">\r\n      <!-- 20 -->\r\n      <g transform=\"translate(7.2 62.770647)scale(0.1 -0.1)\">\r\n       <use xlink:href=\"#DejaVuSans-50\"/>\r\n       <use x=\"63.623047\" xlink:href=\"#DejaVuSans-48\"/>\r\n      </g>\r\n     </g>\r\n    </g>\r\n    <g id=\"ytick_6\">\r\n     <g id=\"line2d_10\">\r\n      <g>\r\n       <use style=\"stroke:#000000;stroke-width:0.8;\" x=\"26.925\" xlink:href=\"#m8a98ecfc8c\" y=\"17.554286\"/>\r\n      </g>\r\n     </g>\r\n     <g id=\"text_10\">\r\n      <!-- 25 -->\r\n      <g transform=\"translate(7.2 21.353504)scale(0.1 -0.1)\">\r\n       <use xlink:href=\"#DejaVuSans-50\"/>\r\n       <use x=\"63.623047\" xlink:href=\"#DejaVuSans-53\"/>\r\n      </g>\r\n     </g>\r\n    </g>\r\n   </g>\r\n   <g id=\"patch_7\">\r\n    <path d=\"M 26.925 224.64 \r\nL 26.925 7.2 \r\n\" style=\"fill:none;stroke:#000000;stroke-linecap:square;stroke-linejoin:miter;stroke-width:0.8;\"/>\r\n   </g>\r\n   <g id=\"patch_8\">\r\n    <path d=\"M 361.725 224.64 \r\nL 361.725 7.2 \r\n\" style=\"fill:none;stroke:#000000;stroke-linecap:square;stroke-linejoin:miter;stroke-width:0.8;\"/>\r\n   </g>\r\n   <g id=\"patch_9\">\r\n    <path d=\"M 26.925 224.64 \r\nL 361.725 224.64 \r\n\" style=\"fill:none;stroke:#000000;stroke-linecap:square;stroke-linejoin:miter;stroke-width:0.8;\"/>\r\n   </g>\r\n   <g id=\"patch_10\">\r\n    <path d=\"M 26.925 7.2 \r\nL 361.725 7.2 \r\n\" style=\"fill:none;stroke:#000000;stroke-linecap:square;stroke-linejoin:miter;stroke-width:0.8;\"/>\r\n   </g>\r\n  </g>\r\n </g>\r\n <defs>\r\n  <clipPath id=\"p7850a09ae6\">\r\n   <rect height=\"217.44\" width=\"334.8\" x=\"26.925\" y=\"7.2\"/>\r\n  </clipPath>\r\n </defs>\r\n</svg>\r\n",
      "image/png": "[encoded data removed]"
     },
     "metadata": {
      "needs_background": "light"
     }
    }
   ],
   "source": [
    "# old version\n",
    "x = range(4)\n",
    "data = [10.0, 25.0, 20.0, 15.0]\n",
    "index = ['2015','2016','2017', '2018']\n",
    "\n",
    "plt.bar(x,data, color=\"b\", width=0.5)\n",
    "plt.xticks(x,index)\n",
    "plt.show()"
   ]
  },
  {
   "cell_type": "code",
   "execution_count": 134,
   "metadata": {
    "collapsed": true,
    "jupyter": {
     "outputs_hidden": false
    },
    "scrolled": true
   },
   "outputs": [
    {
     "output_type": "execute_result",
     "data": {
      "text/plain": [
       "<BarContainer object of 4 artists>"
      ]
     },
     "metadata": {},
     "execution_count": 134
    },
    {
     "output_type": "display_data",
     "data": {
      "text/plain": "<Figure size 432x288 with 1 Axes>",
      "image/svg+xml": "<?xml version=\"1.0\" encoding=\"utf-8\" standalone=\"no\"?>\r\n<!DOCTYPE svg PUBLIC \"-//W3C//DTD SVG 1.1//EN\"\r\n  \"http://www.w3.org/Graphics/SVG/1.1/DTD/svg11.dtd\">\r\n<!-- Created with matplotlib (https://matplotlib.org/) -->\r\n<svg height=\"248.518125pt\" version=\"1.1\" viewBox=\"0 0 368.925 248.518125\" width=\"368.925pt\" xmlns=\"http://www.w3.org/2000/svg\" xmlns:xlink=\"http://www.w3.org/1999/xlink\">\r\n <metadata>\r\n  <rdf:RDF xmlns:cc=\"http://creativecommons.org/ns#\" xmlns:dc=\"http://purl.org/dc/elements/1.1/\" xmlns:rdf=\"http://www.w3.org/1999/02/22-rdf-syntax-ns#\">\r\n   <cc:Work>\r\n    <dc:type rdf:resource=\"http://purl.org/dc/dcmitype/StillImage\"/>\r\n    <dc:date>2021-03-18T17:52:57.241917</dc:date>\r\n    <dc:format>image/svg+xml</dc:format>\r\n    <dc:creator>\r\n     <cc:Agent>\r\n      <dc:title>Matplotlib v3.3.2, https://matplotlib.org/</dc:title>\r\n     </cc:Agent>\r\n    </dc:creator>\r\n   </cc:Work>\r\n  </rdf:RDF>\r\n </metadata>\r\n <defs>\r\n  <style type=\"text/css\">*{stroke-linecap:butt;stroke-linejoin:round;}</style>\r\n </defs>\r\n <g id=\"figure_1\">\r\n  <g id=\"patch_1\">\r\n   <path d=\"M -0 248.518125 \r\nL 368.925 248.518125 \r\nL 368.925 0 \r\nL -0 0 \r\nz\r\n\" style=\"fill:none;\"/>\r\n  </g>\r\n  <g id=\"axes_1\">\r\n   <g id=\"patch_2\">\r\n    <path d=\"M 26.925 224.64 \r\nL 361.725 224.64 \r\nL 361.725 7.2 \r\nL 26.925 7.2 \r\nz\r\n\" style=\"fill:#ffffff;\"/>\r\n   </g>\r\n   <g id=\"patch_3\">\r\n    <path clip-path=\"url(#p06f968fd6d)\" d=\"M 42.143182 224.64 \r\nL 85.623701 224.64 \r\nL 85.623701 141.805714 \r\nL 42.143182 141.805714 \r\nz\r\n\" style=\"fill:#0000ff;\"/>\r\n   </g>\r\n   <g id=\"patch_4\">\r\n    <path clip-path=\"url(#p06f968fd6d)\" d=\"M 129.104221 224.64 \r\nL 172.58474 224.64 \r\nL 172.58474 17.554286 \r\nL 129.104221 17.554286 \r\nz\r\n\" style=\"fill:#0000ff;\"/>\r\n   </g>\r\n   <g id=\"patch_5\">\r\n    <path clip-path=\"url(#p06f968fd6d)\" d=\"M 216.06526 224.64 \r\nL 259.545779 224.64 \r\nL 259.545779 58.971429 \r\nL 216.06526 58.971429 \r\nz\r\n\" style=\"fill:#0000ff;\"/>\r\n   </g>\r\n   <g id=\"patch_6\">\r\n    <path clip-path=\"url(#p06f968fd6d)\" d=\"M 303.026299 224.64 \r\nL 346.506818 224.64 \r\nL 346.506818 100.388571 \r\nL 303.026299 100.388571 \r\nz\r\n\" style=\"fill:#0000ff;\"/>\r\n   </g>\r\n   <g id=\"matplotlib.axis_1\">\r\n    <g id=\"xtick_1\">\r\n     <g id=\"line2d_1\">\r\n      <defs>\r\n       <path d=\"M 0 0 \r\nL 0 3.5 \r\n\" id=\"mc6d5586034\" style=\"stroke:#000000;stroke-width:0.8;\"/>\r\n      </defs>\r\n      <g>\r\n       <use style=\"stroke:#000000;stroke-width:0.8;\" x=\"63.883442\" xlink:href=\"#mc6d5586034\" y=\"224.64\"/>\r\n      </g>\r\n     </g>\r\n     <g id=\"text_1\">\r\n      <!-- 2015 -->\r\n      <g transform=\"translate(51.158442 239.238438)scale(0.1 -0.1)\">\r\n       <defs>\r\n        <path d=\"M 19.1875 8.296875 \r\nL 53.609375 8.296875 \r\nL 53.609375 0 \r\nL 7.328125 0 \r\nL 7.328125 8.296875 \r\nQ 12.9375 14.109375 22.625 23.890625 \r\nQ 32.328125 33.6875 34.8125 36.53125 \r\nQ 39.546875 41.84375 41.421875 45.53125 \r\nQ 43.3125 49.21875 43.3125 52.78125 \r\nQ 43.3125 58.59375 39.234375 62.25 \r\nQ 35.15625 65.921875 28.609375 65.921875 \r\nQ 23.96875 65.921875 18.8125 64.3125 \r\nQ 13.671875 62.703125 7.8125 59.421875 \r\nL 7.8125 69.390625 \r\nQ 13.765625 71.78125 18.9375 73 \r\nQ 24.125 74.21875 28.421875 74.21875 \r\nQ 39.75 74.21875 46.484375 68.546875 \r\nQ 53.21875 62.890625 53.21875 53.421875 \r\nQ 53.21875 48.921875 51.53125 44.890625 \r\nQ 49.859375 40.875 45.40625 35.40625 \r\nQ 44.1875 33.984375 37.640625 27.21875 \r\nQ 31.109375 20.453125 19.1875 8.296875 \r\nz\r\n\" id=\"DejaVuSans-50\"/>\r\n        <path d=\"M 31.78125 66.40625 \r\nQ 24.171875 66.40625 20.328125 58.90625 \r\nQ 16.5 51.421875 16.5 36.375 \r\nQ 16.5 21.390625 20.328125 13.890625 \r\nQ 24.171875 6.390625 31.78125 6.390625 \r\nQ 39.453125 6.390625 43.28125 13.890625 \r\nQ 47.125 21.390625 47.125 36.375 \r\nQ 47.125 51.421875 43.28125 58.90625 \r\nQ 39.453125 66.40625 31.78125 66.40625 \r\nz\r\nM 31.78125 74.21875 \r\nQ 44.046875 74.21875 50.515625 64.515625 \r\nQ 56.984375 54.828125 56.984375 36.375 \r\nQ 56.984375 17.96875 50.515625 8.265625 \r\nQ 44.046875 -1.421875 31.78125 -1.421875 \r\nQ 19.53125 -1.421875 13.0625 8.265625 \r\nQ 6.59375 17.96875 6.59375 36.375 \r\nQ 6.59375 54.828125 13.0625 64.515625 \r\nQ 19.53125 74.21875 31.78125 74.21875 \r\nz\r\n\" id=\"DejaVuSans-48\"/>\r\n        <path d=\"M 12.40625 8.296875 \r\nL 28.515625 8.296875 \r\nL 28.515625 63.921875 \r\nL 10.984375 60.40625 \r\nL 10.984375 69.390625 \r\nL 28.421875 72.90625 \r\nL 38.28125 72.90625 \r\nL 38.28125 8.296875 \r\nL 54.390625 8.296875 \r\nL 54.390625 0 \r\nL 12.40625 0 \r\nz\r\n\" id=\"DejaVuSans-49\"/>\r\n        <path d=\"M 10.796875 72.90625 \r\nL 49.515625 72.90625 \r\nL 49.515625 64.59375 \r\nL 19.828125 64.59375 \r\nL 19.828125 46.734375 \r\nQ 21.96875 47.46875 24.109375 47.828125 \r\nQ 26.265625 48.1875 28.421875 48.1875 \r\nQ 40.625 48.1875 47.75 41.5 \r\nQ 54.890625 34.8125 54.890625 23.390625 \r\nQ 54.890625 11.625 47.5625 5.09375 \r\nQ 40.234375 -1.421875 26.90625 -1.421875 \r\nQ 22.3125 -1.421875 17.546875 -0.640625 \r\nQ 12.796875 0.140625 7.71875 1.703125 \r\nL 7.71875 11.625 \r\nQ 12.109375 9.234375 16.796875 8.0625 \r\nQ 21.484375 6.890625 26.703125 6.890625 \r\nQ 35.15625 6.890625 40.078125 11.328125 \r\nQ 45.015625 15.765625 45.015625 23.390625 \r\nQ 45.015625 31 40.078125 35.4375 \r\nQ 35.15625 39.890625 26.703125 39.890625 \r\nQ 22.75 39.890625 18.8125 39.015625 \r\nQ 14.890625 38.140625 10.796875 36.28125 \r\nz\r\n\" id=\"DejaVuSans-53\"/>\r\n       </defs>\r\n       <use xlink:href=\"#DejaVuSans-50\"/>\r\n       <use x=\"63.623047\" xlink:href=\"#DejaVuSans-48\"/>\r\n       <use x=\"127.246094\" xlink:href=\"#DejaVuSans-49\"/>\r\n       <use x=\"190.869141\" xlink:href=\"#DejaVuSans-53\"/>\r\n      </g>\r\n     </g>\r\n    </g>\r\n    <g id=\"xtick_2\">\r\n     <g id=\"line2d_2\">\r\n      <g>\r\n       <use style=\"stroke:#000000;stroke-width:0.8;\" x=\"150.844481\" xlink:href=\"#mc6d5586034\" y=\"224.64\"/>\r\n      </g>\r\n     </g>\r\n     <g id=\"text_2\">\r\n      <!-- 2016 -->\r\n      <g transform=\"translate(138.119481 239.238438)scale(0.1 -0.1)\">\r\n       <defs>\r\n        <path d=\"M 33.015625 40.375 \r\nQ 26.375 40.375 22.484375 35.828125 \r\nQ 18.609375 31.296875 18.609375 23.390625 \r\nQ 18.609375 15.53125 22.484375 10.953125 \r\nQ 26.375 6.390625 33.015625 6.390625 \r\nQ 39.65625 6.390625 43.53125 10.953125 \r\nQ 47.40625 15.53125 47.40625 23.390625 \r\nQ 47.40625 31.296875 43.53125 35.828125 \r\nQ 39.65625 40.375 33.015625 40.375 \r\nz\r\nM 52.59375 71.296875 \r\nL 52.59375 62.3125 \r\nQ 48.875 64.0625 45.09375 64.984375 \r\nQ 41.3125 65.921875 37.59375 65.921875 \r\nQ 27.828125 65.921875 22.671875 59.328125 \r\nQ 17.53125 52.734375 16.796875 39.40625 \r\nQ 19.671875 43.65625 24.015625 45.921875 \r\nQ 28.375 48.1875 33.59375 48.1875 \r\nQ 44.578125 48.1875 50.953125 41.515625 \r\nQ 57.328125 34.859375 57.328125 23.390625 \r\nQ 57.328125 12.15625 50.6875 5.359375 \r\nQ 44.046875 -1.421875 33.015625 -1.421875 \r\nQ 20.359375 -1.421875 13.671875 8.265625 \r\nQ 6.984375 17.96875 6.984375 36.375 \r\nQ 6.984375 53.65625 15.1875 63.9375 \r\nQ 23.390625 74.21875 37.203125 74.21875 \r\nQ 40.921875 74.21875 44.703125 73.484375 \r\nQ 48.484375 72.75 52.59375 71.296875 \r\nz\r\n\" id=\"DejaVuSans-54\"/>\r\n       </defs>\r\n       <use xlink:href=\"#DejaVuSans-50\"/>\r\n       <use x=\"63.623047\" xlink:href=\"#DejaVuSans-48\"/>\r\n       <use x=\"127.246094\" xlink:href=\"#DejaVuSans-49\"/>\r\n       <use x=\"190.869141\" xlink:href=\"#DejaVuSans-54\"/>\r\n      </g>\r\n     </g>\r\n    </g>\r\n    <g id=\"xtick_3\">\r\n     <g id=\"line2d_3\">\r\n      <g>\r\n       <use style=\"stroke:#000000;stroke-width:0.8;\" x=\"237.805519\" xlink:href=\"#mc6d5586034\" y=\"224.64\"/>\r\n      </g>\r\n     </g>\r\n     <g id=\"text_3\">\r\n      <!-- 2017 -->\r\n      <g transform=\"translate(225.080519 239.238438)scale(0.1 -0.1)\">\r\n       <defs>\r\n        <path d=\"M 8.203125 72.90625 \r\nL 55.078125 72.90625 \r\nL 55.078125 68.703125 \r\nL 28.609375 0 \r\nL 18.3125 0 \r\nL 43.21875 64.59375 \r\nL 8.203125 64.59375 \r\nz\r\n\" id=\"DejaVuSans-55\"/>\r\n       </defs>\r\n       <use xlink:href=\"#DejaVuSans-50\"/>\r\n       <use x=\"63.623047\" xlink:href=\"#DejaVuSans-48\"/>\r\n       <use x=\"127.246094\" xlink:href=\"#DejaVuSans-49\"/>\r\n       <use x=\"190.869141\" xlink:href=\"#DejaVuSans-55\"/>\r\n      </g>\r\n     </g>\r\n    </g>\r\n    <g id=\"xtick_4\">\r\n     <g id=\"line2d_4\">\r\n      <g>\r\n       <use style=\"stroke:#000000;stroke-width:0.8;\" x=\"324.766558\" xlink:href=\"#mc6d5586034\" y=\"224.64\"/>\r\n      </g>\r\n     </g>\r\n     <g id=\"text_4\">\r\n      <!-- 2018 -->\r\n      <g transform=\"translate(312.041558 239.238438)scale(0.1 -0.1)\">\r\n       <defs>\r\n        <path d=\"M 31.78125 34.625 \r\nQ 24.75 34.625 20.71875 30.859375 \r\nQ 16.703125 27.09375 16.703125 20.515625 \r\nQ 16.703125 13.921875 20.71875 10.15625 \r\nQ 24.75 6.390625 31.78125 6.390625 \r\nQ 38.8125 6.390625 42.859375 10.171875 \r\nQ 46.921875 13.96875 46.921875 20.515625 \r\nQ 46.921875 27.09375 42.890625 30.859375 \r\nQ 38.875 34.625 31.78125 34.625 \r\nz\r\nM 21.921875 38.8125 \r\nQ 15.578125 40.375 12.03125 44.71875 \r\nQ 8.5 49.078125 8.5 55.328125 \r\nQ 8.5 64.0625 14.71875 69.140625 \r\nQ 20.953125 74.21875 31.78125 74.21875 \r\nQ 42.671875 74.21875 48.875 69.140625 \r\nQ 55.078125 64.0625 55.078125 55.328125 \r\nQ 55.078125 49.078125 51.53125 44.71875 \r\nQ 48 40.375 41.703125 38.8125 \r\nQ 48.828125 37.15625 52.796875 32.3125 \r\nQ 56.78125 27.484375 56.78125 20.515625 \r\nQ 56.78125 9.90625 50.3125 4.234375 \r\nQ 43.84375 -1.421875 31.78125 -1.421875 \r\nQ 19.734375 -1.421875 13.25 4.234375 \r\nQ 6.78125 9.90625 6.78125 20.515625 \r\nQ 6.78125 27.484375 10.78125 32.3125 \r\nQ 14.796875 37.15625 21.921875 38.8125 \r\nz\r\nM 18.3125 54.390625 \r\nQ 18.3125 48.734375 21.84375 45.5625 \r\nQ 25.390625 42.390625 31.78125 42.390625 \r\nQ 38.140625 42.390625 41.71875 45.5625 \r\nQ 45.3125 48.734375 45.3125 54.390625 \r\nQ 45.3125 60.0625 41.71875 63.234375 \r\nQ 38.140625 66.40625 31.78125 66.40625 \r\nQ 25.390625 66.40625 21.84375 63.234375 \r\nQ 18.3125 60.0625 18.3125 54.390625 \r\nz\r\n\" id=\"DejaVuSans-56\"/>\r\n       </defs>\r\n       <use xlink:href=\"#DejaVuSans-50\"/>\r\n       <use x=\"63.623047\" xlink:href=\"#DejaVuSans-48\"/>\r\n       <use x=\"127.246094\" xlink:href=\"#DejaVuSans-49\"/>\r\n       <use x=\"190.869141\" xlink:href=\"#DejaVuSans-56\"/>\r\n      </g>\r\n     </g>\r\n    </g>\r\n   </g>\r\n   <g id=\"matplotlib.axis_2\">\r\n    <g id=\"ytick_1\">\r\n     <g id=\"line2d_5\">\r\n      <defs>\r\n       <path d=\"M 0 0 \r\nL -3.5 0 \r\n\" id=\"m0f31dd97b9\" style=\"stroke:#000000;stroke-width:0.8;\"/>\r\n      </defs>\r\n      <g>\r\n       <use style=\"stroke:#000000;stroke-width:0.8;\" x=\"26.925\" xlink:href=\"#m0f31dd97b9\" y=\"224.64\"/>\r\n      </g>\r\n     </g>\r\n     <g id=\"text_5\">\r\n      <!-- 0 -->\r\n      <g transform=\"translate(13.5625 228.439219)scale(0.1 -0.1)\">\r\n       <use xlink:href=\"#DejaVuSans-48\"/>\r\n      </g>\r\n     </g>\r\n    </g>\r\n    <g id=\"ytick_2\">\r\n     <g id=\"line2d_6\">\r\n      <g>\r\n       <use style=\"stroke:#000000;stroke-width:0.8;\" x=\"26.925\" xlink:href=\"#m0f31dd97b9\" y=\"183.222857\"/>\r\n      </g>\r\n     </g>\r\n     <g id=\"text_6\">\r\n      <!-- 5 -->\r\n      <g transform=\"translate(13.5625 187.022076)scale(0.1 -0.1)\">\r\n       <use xlink:href=\"#DejaVuSans-53\"/>\r\n      </g>\r\n     </g>\r\n    </g>\r\n    <g id=\"ytick_3\">\r\n     <g id=\"line2d_7\">\r\n      <g>\r\n       <use style=\"stroke:#000000;stroke-width:0.8;\" x=\"26.925\" xlink:href=\"#m0f31dd97b9\" y=\"141.805714\"/>\r\n      </g>\r\n     </g>\r\n     <g id=\"text_7\">\r\n      <!-- 10 -->\r\n      <g transform=\"translate(7.2 145.604933)scale(0.1 -0.1)\">\r\n       <use xlink:href=\"#DejaVuSans-49\"/>\r\n       <use x=\"63.623047\" xlink:href=\"#DejaVuSans-48\"/>\r\n      </g>\r\n     </g>\r\n    </g>\r\n    <g id=\"ytick_4\">\r\n     <g id=\"line2d_8\">\r\n      <g>\r\n       <use style=\"stroke:#000000;stroke-width:0.8;\" x=\"26.925\" xlink:href=\"#m0f31dd97b9\" y=\"100.388571\"/>\r\n      </g>\r\n     </g>\r\n     <g id=\"text_8\">\r\n      <!-- 15 -->\r\n      <g transform=\"translate(7.2 104.18779)scale(0.1 -0.1)\">\r\n       <use xlink:href=\"#DejaVuSans-49\"/>\r\n       <use x=\"63.623047\" xlink:href=\"#DejaVuSans-53\"/>\r\n      </g>\r\n     </g>\r\n    </g>\r\n    <g id=\"ytick_5\">\r\n     <g id=\"line2d_9\">\r\n      <g>\r\n       <use style=\"stroke:#000000;stroke-width:0.8;\" x=\"26.925\" xlink:href=\"#m0f31dd97b9\" y=\"58.971429\"/>\r\n      </g>\r\n     </g>\r\n     <g id=\"text_9\">\r\n      <!-- 20 -->\r\n      <g transform=\"translate(7.2 62.770647)scale(0.1 -0.1)\">\r\n       <use xlink:href=\"#DejaVuSans-50\"/>\r\n       <use x=\"63.623047\" xlink:href=\"#DejaVuSans-48\"/>\r\n      </g>\r\n     </g>\r\n    </g>\r\n    <g id=\"ytick_6\">\r\n     <g id=\"line2d_10\">\r\n      <g>\r\n       <use style=\"stroke:#000000;stroke-width:0.8;\" x=\"26.925\" xlink:href=\"#m0f31dd97b9\" y=\"17.554286\"/>\r\n      </g>\r\n     </g>\r\n     <g id=\"text_10\">\r\n      <!-- 25 -->\r\n      <g transform=\"translate(7.2 21.353504)scale(0.1 -0.1)\">\r\n       <use xlink:href=\"#DejaVuSans-50\"/>\r\n       <use x=\"63.623047\" xlink:href=\"#DejaVuSans-53\"/>\r\n      </g>\r\n     </g>\r\n    </g>\r\n   </g>\r\n   <g id=\"patch_7\">\r\n    <path d=\"M 26.925 224.64 \r\nL 26.925 7.2 \r\n\" style=\"fill:none;stroke:#000000;stroke-linecap:square;stroke-linejoin:miter;stroke-width:0.8;\"/>\r\n   </g>\r\n   <g id=\"patch_8\">\r\n    <path d=\"M 361.725 224.64 \r\nL 361.725 7.2 \r\n\" style=\"fill:none;stroke:#000000;stroke-linecap:square;stroke-linejoin:miter;stroke-width:0.8;\"/>\r\n   </g>\r\n   <g id=\"patch_9\">\r\n    <path d=\"M 26.925 224.64 \r\nL 361.725 224.64 \r\n\" style=\"fill:none;stroke:#000000;stroke-linecap:square;stroke-linejoin:miter;stroke-width:0.8;\"/>\r\n   </g>\r\n   <g id=\"patch_10\">\r\n    <path d=\"M 26.925 7.2 \r\nL 361.725 7.2 \r\n\" style=\"fill:none;stroke:#000000;stroke-linecap:square;stroke-linejoin:miter;stroke-width:0.8;\"/>\r\n   </g>\r\n  </g>\r\n </g>\r\n <defs>\r\n  <clipPath id=\"p06f968fd6d\">\r\n   <rect height=\"217.44\" width=\"334.8\" x=\"26.925\" y=\"7.2\"/>\r\n  </clipPath>\r\n </defs>\r\n</svg>\r\n",
      "image/png": "[encoded data removed]"
     },
     "metadata": {
      "needs_background": "light"
     }
    }
   ],
   "source": [
    "# current version (without xticks)\n",
    "data = [10.0, 25.0, 20.0, 15.0]\n",
    "index = ['2015','2016','2017', '2018']\n",
    "\n",
    "plt.bar(index, data, color='b', width=0.5)\n",
    "plt.show() "
   ]
  },
  {
   "cell_type": "markdown",
   "metadata": {},
   "source": [
    "---\n",
    "p25"
   ]
  },
  {
   "cell_type": "markdown",
   "metadata": {},
   "source": [
    "## Histogram"
   ]
  },
  {
   "cell_type": "markdown",
   "metadata": {},
   "source": [
    "- **plt.hist()**"
   ]
  },
  {
   "cell_type": "code",
   "execution_count": 135,
   "metadata": {
    "collapsed": true,
    "jupyter": {
     "outputs_hidden": false
    }
   },
   "outputs": [
    {
     "output_type": "execute_result",
     "data": {
      "text/plain": [
       "(array([  2.,   1.,   2.,   2.,   3.,   4.,   1.,   8.,   4.,   6.,   5.,\n",
       "         12.,  15.,  19.,  22.,  28.,  28.,  29.,  33.,  50.,  50.,  53.,\n",
       "         61.,  92.,  60.,  98., 113., 132., 141., 136., 174., 157., 167.,\n",
       "        204., 226., 240., 230., 269., 284., 297., 289., 294., 313., 278.,\n",
       "        322., 294., 308., 252., 291., 293., 290., 268., 251., 244., 229.,\n",
       "        229., 271., 176., 157., 138., 182., 147., 142., 121., 101.,  84.,\n",
       "         72.,  85.,  67.,  54.,  44.,  46.,  39.,  28.,  24.,  21.,  20.,\n",
       "         14.,  11.,   4.,  10.,   2.,   7.,   8.,   8.,   3.,   3.,   1.,\n",
       "          1.,   1.,   2.,   0.,   0.,   1.,   0.,   1.,   0.,   0.,   0.,\n",
       "          1.]),\n",
       " array([-3.39971728, -3.32471843, -3.24971958, -3.17472073, -3.09972188,\n",
       "        -3.02472303, -2.94972418, -2.87472533, -2.79972648, -2.72472764,\n",
       "        -2.64972879, -2.57472994, -2.49973109, -2.42473224, -2.34973339,\n",
       "        -2.27473454, -2.19973569, -2.12473684, -2.049738  , -1.97473915,\n",
       "        -1.8997403 , -1.82474145, -1.7497426 , -1.67474375, -1.5997449 ,\n",
       "        -1.52474605, -1.4497472 , -1.37474836, -1.29974951, -1.22475066,\n",
       "        -1.14975181, -1.07475296, -0.99975411, -0.92475526, -0.84975641,\n",
       "        -0.77475756, -0.69975872, -0.62475987, -0.54976102, -0.47476217,\n",
       "        -0.39976332, -0.32476447, -0.24976562, -0.17476677, -0.09976793,\n",
       "        -0.02476908,  0.05022977,  0.12522862,  0.20022747,  0.27522632,\n",
       "         0.35022517,  0.42522402,  0.50022287,  0.57522171,  0.65022056,\n",
       "         0.72521941,  0.80021826,  0.87521711,  0.95021596,  1.02521481,\n",
       "         1.10021366,  1.17521251,  1.25021135,  1.3252102 ,  1.40020905,\n",
       "         1.4752079 ,  1.55020675,  1.6252056 ,  1.70020445,  1.7752033 ,\n",
       "         1.85020215,  1.92520099,  2.00019984,  2.07519869,  2.15019754,\n",
       "         2.22519639,  2.30019524,  2.37519409,  2.45019294,  2.52519178,\n",
       "         2.60019063,  2.67518948,  2.75018833,  2.82518718,  2.90018603,\n",
       "         2.97518488,  3.05018373,  3.12518258,  3.20018142,  3.27518027,\n",
       "         3.35017912,  3.42517797,  3.50017682,  3.57517567,  3.65017452,\n",
       "         3.72517337,  3.80017222,  3.87517106,  3.95016991,  4.02516876,\n",
       "         4.10016761]),\n",
       " <BarContainer object of 100 artists>)"
      ]
     },
     "metadata": {},
     "execution_count": 135
    },
    {
     "output_type": "execute_result",
     "data": {
      "text/plain": [
       "Text(0.5, 1.0, 'Normal Distribution')"
      ]
     },
     "metadata": {},
     "execution_count": 135
    },
    {
     "output_type": "display_data",
     "data": {
      "text/plain": "<Figure size 432x288 with 1 Axes>",
      "image/svg+xml": "<?xml version=\"1.0\" encoding=\"utf-8\" standalone=\"no\"?>\r\n<!DOCTYPE svg PUBLIC \"-//W3C//DTD SVG 1.1//EN\"\r\n  \"http://www.w3.org/Graphics/SVG/1.1/DTD/svg11.dtd\">\r\n<!-- Created with matplotlib (https://matplotlib.org/) -->\r\n<svg height=\"263.63625pt\" version=\"1.1\" viewBox=\"0 0 375.2875 263.63625\" width=\"375.2875pt\" xmlns=\"http://www.w3.org/2000/svg\" xmlns:xlink=\"http://www.w3.org/1999/xlink\">\r\n <metadata>\r\n  <rdf:RDF xmlns:cc=\"http://creativecommons.org/ns#\" xmlns:dc=\"http://purl.org/dc/elements/1.1/\" xmlns:rdf=\"http://www.w3.org/1999/02/22-rdf-syntax-ns#\">\r\n   <cc:Work>\r\n    <dc:type rdf:resource=\"http://purl.org/dc/dcmitype/StillImage\"/>\r\n    <dc:date>2021-03-18T17:52:57.473920</dc:date>\r\n    <dc:format>image/svg+xml</dc:format>\r\n    <dc:creator>\r\n     <cc:Agent>\r\n      <dc:title>Matplotlib v3.3.2, https://matplotlib.org/</dc:title>\r\n     </cc:Agent>\r\n    </dc:creator>\r\n   </cc:Work>\r\n  </rdf:RDF>\r\n </metadata>\r\n <defs>\r\n  <style type=\"text/css\">*{stroke-linecap:butt;stroke-linejoin:round;}</style>\r\n </defs>\r\n <g id=\"figure_1\">\r\n  <g id=\"patch_1\">\r\n   <path d=\"M 0 263.63625 \r\nL 375.2875 263.63625 \r\nL 375.2875 0 \r\nL 0 0 \r\nz\r\n\" style=\"fill:none;\"/>\r\n  </g>\r\n  <g id=\"axes_1\">\r\n   <g id=\"patch_2\">\r\n    <path d=\"M 33.2875 239.758125 \r\nL 368.0875 239.758125 \r\nL 368.0875 22.318125 \r\nL 33.2875 22.318125 \r\nz\r\n\" style=\"fill:#ffffff;\"/>\r\n   </g>\r\n   <g id=\"patch_3\">\r\n    <path clip-path=\"url(#pddbfe18978)\" d=\"M 48.505682 239.758125 \r\nL 51.549318 239.758125 \r\nL 51.549318 238.471878 \r\nL 48.505682 238.471878 \r\nz\r\n\" style=\"fill:#1f77b4;\"/>\r\n   </g>\r\n   <g id=\"patch_4\">\r\n    <path clip-path=\"url(#pddbfe18978)\" d=\"M 51.549318 239.758125 \r\nL 54.592955 239.758125 \r\nL 54.592955 239.115002 \r\nL 51.549318 239.115002 \r\nz\r\n\" style=\"fill:#1f77b4;\"/>\r\n   </g>\r\n   <g id=\"patch_5\">\r\n    <path clip-path=\"url(#pddbfe18978)\" d=\"M 54.592955 239.758125 \r\nL 57.636591 239.758125 \r\nL 57.636591 238.471878 \r\nL 54.592955 238.471878 \r\nz\r\n\" style=\"fill:#1f77b4;\"/>\r\n   </g>\r\n   <g id=\"patch_6\">\r\n    <path clip-path=\"url(#pddbfe18978)\" d=\"M 57.636591 239.758125 \r\nL 60.680227 239.758125 \r\nL 60.680227 238.471878 \r\nL 57.636591 238.471878 \r\nz\r\n\" style=\"fill:#1f77b4;\"/>\r\n   </g>\r\n   <g id=\"patch_7\">\r\n    <path clip-path=\"url(#pddbfe18978)\" d=\"M 60.680227 239.758125 \r\nL 63.723864 239.758125 \r\nL 63.723864 237.828755 \r\nL 60.680227 237.828755 \r\nz\r\n\" style=\"fill:#1f77b4;\"/>\r\n   </g>\r\n   <g id=\"patch_8\">\r\n    <path clip-path=\"url(#pddbfe18978)\" d=\"M 63.723864 239.758125 \r\nL 66.7675 239.758125 \r\nL 66.7675 237.185632 \r\nL 63.723864 237.185632 \r\nz\r\n\" style=\"fill:#1f77b4;\"/>\r\n   </g>\r\n   <g id=\"patch_9\">\r\n    <path clip-path=\"url(#pddbfe18978)\" d=\"M 66.7675 239.758125 \r\nL 69.811136 239.758125 \r\nL 69.811136 239.115002 \r\nL 66.7675 239.115002 \r\nz\r\n\" style=\"fill:#1f77b4;\"/>\r\n   </g>\r\n   <g id=\"patch_10\">\r\n    <path clip-path=\"url(#pddbfe18978)\" d=\"M 69.811136 239.758125 \r\nL 72.854773 239.758125 \r\nL 72.854773 234.613138 \r\nL 69.811136 234.613138 \r\nz\r\n\" style=\"fill:#1f77b4;\"/>\r\n   </g>\r\n   <g id=\"patch_11\">\r\n    <path clip-path=\"url(#pddbfe18978)\" d=\"M 72.854773 239.758125 \r\nL 75.898409 239.758125 \r\nL 75.898409 237.185632 \r\nL 72.854773 237.185632 \r\nz\r\n\" style=\"fill:#1f77b4;\"/>\r\n   </g>\r\n   <g id=\"patch_12\">\r\n    <path clip-path=\"url(#pddbfe18978)\" d=\"M 75.898409 239.758125 \r\nL 78.942045 239.758125 \r\nL 78.942045 235.899385 \r\nL 75.898409 235.899385 \r\nz\r\n\" style=\"fill:#1f77b4;\"/>\r\n   </g>\r\n   <g id=\"patch_13\">\r\n    <path clip-path=\"url(#pddbfe18978)\" d=\"M 78.942045 239.758125 \r\nL 81.985682 239.758125 \r\nL 81.985682 236.542508 \r\nL 78.942045 236.542508 \r\nz\r\n\" style=\"fill:#1f77b4;\"/>\r\n   </g>\r\n   <g id=\"patch_14\">\r\n    <path clip-path=\"url(#pddbfe18978)\" d=\"M 81.985682 239.758125 \r\nL 85.029318 239.758125 \r\nL 85.029318 232.040645 \r\nL 81.985682 232.040645 \r\nz\r\n\" style=\"fill:#1f77b4;\"/>\r\n   </g>\r\n   <g id=\"patch_15\">\r\n    <path clip-path=\"url(#pddbfe18978)\" d=\"M 85.029318 239.758125 \r\nL 88.072955 239.758125 \r\nL 88.072955 230.111275 \r\nL 85.029318 230.111275 \r\nz\r\n\" style=\"fill:#1f77b4;\"/>\r\n   </g>\r\n   <g id=\"patch_16\">\r\n    <path clip-path=\"url(#pddbfe18978)\" d=\"M 88.072955 239.758125 \r\nL 91.116591 239.758125 \r\nL 91.116591 227.538782 \r\nL 88.072955 227.538782 \r\nz\r\n\" style=\"fill:#1f77b4;\"/>\r\n   </g>\r\n   <g id=\"patch_17\">\r\n    <path clip-path=\"url(#pddbfe18978)\" d=\"M 91.116591 239.758125 \r\nL 94.160227 239.758125 \r\nL 94.160227 225.609412 \r\nL 91.116591 225.609412 \r\nz\r\n\" style=\"fill:#1f77b4;\"/>\r\n   </g>\r\n   <g id=\"patch_18\">\r\n    <path clip-path=\"url(#pddbfe18978)\" d=\"M 94.160227 239.758125 \r\nL 97.203864 239.758125 \r\nL 97.203864 221.750672 \r\nL 94.160227 221.750672 \r\nz\r\n\" style=\"fill:#1f77b4;\"/>\r\n   </g>\r\n   <g id=\"patch_19\">\r\n    <path clip-path=\"url(#pddbfe18978)\" d=\"M 97.203864 239.758125 \r\nL 100.2475 239.758125 \r\nL 100.2475 221.750672 \r\nL 97.203864 221.750672 \r\nz\r\n\" style=\"fill:#1f77b4;\"/>\r\n   </g>\r\n   <g id=\"patch_20\">\r\n    <path clip-path=\"url(#pddbfe18978)\" d=\"M 100.2475 239.758125 \r\nL 103.291136 239.758125 \r\nL 103.291136 221.107548 \r\nL 100.2475 221.107548 \r\nz\r\n\" style=\"fill:#1f77b4;\"/>\r\n   </g>\r\n   <g id=\"patch_21\">\r\n    <path clip-path=\"url(#pddbfe18978)\" d=\"M 103.291136 239.758125 \r\nL 106.334773 239.758125 \r\nL 106.334773 218.535055 \r\nL 103.291136 218.535055 \r\nz\r\n\" style=\"fill:#1f77b4;\"/>\r\n   </g>\r\n   <g id=\"patch_22\">\r\n    <path clip-path=\"url(#pddbfe18978)\" d=\"M 106.334773 239.758125 \r\nL 109.378409 239.758125 \r\nL 109.378409 207.601958 \r\nL 106.334773 207.601958 \r\nz\r\n\" style=\"fill:#1f77b4;\"/>\r\n   </g>\r\n   <g id=\"patch_23\">\r\n    <path clip-path=\"url(#pddbfe18978)\" d=\"M 109.378409 239.758125 \r\nL 112.422045 239.758125 \r\nL 112.422045 207.601958 \r\nL 109.378409 207.601958 \r\nz\r\n\" style=\"fill:#1f77b4;\"/>\r\n   </g>\r\n   <g id=\"patch_24\">\r\n    <path clip-path=\"url(#pddbfe18978)\" d=\"M 112.422045 239.758125 \r\nL 115.465682 239.758125 \r\nL 115.465682 205.672588 \r\nL 112.422045 205.672588 \r\nz\r\n\" style=\"fill:#1f77b4;\"/>\r\n   </g>\r\n   <g id=\"patch_25\">\r\n    <path clip-path=\"url(#pddbfe18978)\" d=\"M 115.465682 239.758125 \r\nL 118.509318 239.758125 \r\nL 118.509318 200.527601 \r\nL 115.465682 200.527601 \r\nz\r\n\" style=\"fill:#1f77b4;\"/>\r\n   </g>\r\n   <g id=\"patch_26\">\r\n    <path clip-path=\"url(#pddbfe18978)\" d=\"M 118.509318 239.758125 \r\nL 121.552955 239.758125 \r\nL 121.552955 180.590778 \r\nL 118.509318 180.590778 \r\nz\r\n\" style=\"fill:#1f77b4;\"/>\r\n   </g>\r\n   <g id=\"patch_27\">\r\n    <path clip-path=\"url(#pddbfe18978)\" d=\"M 121.552955 239.758125 \r\nL 124.596591 239.758125 \r\nL 124.596591 201.170725 \r\nL 121.552955 201.170725 \r\nz\r\n\" style=\"fill:#1f77b4;\"/>\r\n   </g>\r\n   <g id=\"patch_28\">\r\n    <path clip-path=\"url(#pddbfe18978)\" d=\"M 124.596591 239.758125 \r\nL 127.640227 239.758125 \r\nL 127.640227 176.732038 \r\nL 124.596591 176.732038 \r\nz\r\n\" style=\"fill:#1f77b4;\"/>\r\n   </g>\r\n   <g id=\"patch_29\">\r\n    <path clip-path=\"url(#pddbfe18978)\" d=\"M 127.640227 239.758125 \r\nL 130.683864 239.758125 \r\nL 130.683864 167.085188 \r\nL 127.640227 167.085188 \r\nz\r\n\" style=\"fill:#1f77b4;\"/>\r\n   </g>\r\n   <g id=\"patch_30\">\r\n    <path clip-path=\"url(#pddbfe18978)\" d=\"M 130.683864 239.758125 \r\nL 133.7275 239.758125 \r\nL 133.7275 154.865845 \r\nL 130.683864 154.865845 \r\nz\r\n\" style=\"fill:#1f77b4;\"/>\r\n   </g>\r\n   <g id=\"patch_31\">\r\n    <path clip-path=\"url(#pddbfe18978)\" d=\"M 133.7275 239.758125 \r\nL 136.771136 239.758125 \r\nL 136.771136 149.077735 \r\nL 133.7275 149.077735 \r\nz\r\n\" style=\"fill:#1f77b4;\"/>\r\n   </g>\r\n   <g id=\"patch_32\">\r\n    <path clip-path=\"url(#pddbfe18978)\" d=\"M 136.771136 239.758125 \r\nL 139.814773 239.758125 \r\nL 139.814773 152.293351 \r\nL 136.771136 152.293351 \r\nz\r\n\" style=\"fill:#1f77b4;\"/>\r\n   </g>\r\n   <g id=\"patch_33\">\r\n    <path clip-path=\"url(#pddbfe18978)\" d=\"M 139.814773 239.758125 \r\nL 142.858409 239.758125 \r\nL 142.858409 127.854664 \r\nL 139.814773 127.854664 \r\nz\r\n\" style=\"fill:#1f77b4;\"/>\r\n   </g>\r\n   <g id=\"patch_34\">\r\n    <path clip-path=\"url(#pddbfe18978)\" d=\"M 142.858409 239.758125 \r\nL 145.902045 239.758125 \r\nL 145.902045 138.787761 \r\nL 142.858409 138.787761 \r\nz\r\n\" style=\"fill:#1f77b4;\"/>\r\n   </g>\r\n   <g id=\"patch_35\">\r\n    <path clip-path=\"url(#pddbfe18978)\" d=\"M 145.902045 239.758125 \r\nL 148.945682 239.758125 \r\nL 148.945682 132.356528 \r\nL 145.902045 132.356528 \r\nz\r\n\" style=\"fill:#1f77b4;\"/>\r\n   </g>\r\n   <g id=\"patch_36\">\r\n    <path clip-path=\"url(#pddbfe18978)\" d=\"M 148.945682 239.758125 \r\nL 151.989318 239.758125 \r\nL 151.989318 108.560964 \r\nL 148.945682 108.560964 \r\nz\r\n\" style=\"fill:#1f77b4;\"/>\r\n   </g>\r\n   <g id=\"patch_37\">\r\n    <path clip-path=\"url(#pddbfe18978)\" d=\"M 151.989318 239.758125 \r\nL 155.032955 239.758125 \r\nL 155.032955 94.412251 \r\nL 151.989318 94.412251 \r\nz\r\n\" style=\"fill:#1f77b4;\"/>\r\n   </g>\r\n   <g id=\"patch_38\">\r\n    <path clip-path=\"url(#pddbfe18978)\" d=\"M 155.032955 239.758125 \r\nL 158.076591 239.758125 \r\nL 158.076591 85.408524 \r\nL 155.032955 85.408524 \r\nz\r\n\" style=\"fill:#1f77b4;\"/>\r\n   </g>\r\n   <g id=\"patch_39\">\r\n    <path clip-path=\"url(#pddbfe18978)\" d=\"M 158.076591 239.758125 \r\nL 161.120227 239.758125 \r\nL 161.120227 91.839758 \r\nL 158.076591 91.839758 \r\nz\r\n\" style=\"fill:#1f77b4;\"/>\r\n   </g>\r\n   <g id=\"patch_40\">\r\n    <path clip-path=\"url(#pddbfe18978)\" d=\"M 161.120227 239.758125 \r\nL 164.163864 239.758125 \r\nL 164.163864 66.757948 \r\nL 161.120227 66.757948 \r\nz\r\n\" style=\"fill:#1f77b4;\"/>\r\n   </g>\r\n   <g id=\"patch_41\">\r\n    <path clip-path=\"url(#pddbfe18978)\" d=\"M 164.163864 239.758125 \r\nL 167.2075 239.758125 \r\nL 167.2075 57.111097 \r\nL 164.163864 57.111097 \r\nz\r\n\" style=\"fill:#1f77b4;\"/>\r\n   </g>\r\n   <g id=\"patch_42\">\r\n    <path clip-path=\"url(#pddbfe18978)\" d=\"M 167.2075 239.758125 \r\nL 170.251136 239.758125 \r\nL 170.251136 48.750494 \r\nL 167.2075 48.750494 \r\nz\r\n\" style=\"fill:#1f77b4;\"/>\r\n   </g>\r\n   <g id=\"patch_43\">\r\n    <path clip-path=\"url(#pddbfe18978)\" d=\"M 170.251136 239.758125 \r\nL 173.294773 239.758125 \r\nL 173.294773 53.895481 \r\nL 170.251136 53.895481 \r\nz\r\n\" style=\"fill:#1f77b4;\"/>\r\n   </g>\r\n   <g id=\"patch_44\">\r\n    <path clip-path=\"url(#pddbfe18978)\" d=\"M 173.294773 239.758125 \r\nL 176.338409 239.758125 \r\nL 176.338409 50.679864 \r\nL 173.294773 50.679864 \r\nz\r\n\" style=\"fill:#1f77b4;\"/>\r\n   </g>\r\n   <g id=\"patch_45\">\r\n    <path clip-path=\"url(#pddbfe18978)\" d=\"M 176.338409 239.758125 \r\nL 179.382045 239.758125 \r\nL 179.382045 38.460521 \r\nL 176.338409 38.460521 \r\nz\r\n\" style=\"fill:#1f77b4;\"/>\r\n   </g>\r\n   <g id=\"patch_46\">\r\n    <path clip-path=\"url(#pddbfe18978)\" d=\"M 179.382045 239.758125 \r\nL 182.425682 239.758125 \r\nL 182.425682 60.969838 \r\nL 179.382045 60.969838 \r\nz\r\n\" style=\"fill:#1f77b4;\"/>\r\n   </g>\r\n   <g id=\"patch_47\">\r\n    <path clip-path=\"url(#pddbfe18978)\" d=\"M 182.425682 239.758125 \r\nL 185.469318 239.758125 \r\nL 185.469318 32.672411 \r\nL 182.425682 32.672411 \r\nz\r\n\" style=\"fill:#1f77b4;\"/>\r\n   </g>\r\n   <g id=\"patch_48\">\r\n    <path clip-path=\"url(#pddbfe18978)\" d=\"M 185.469318 239.758125 \r\nL 188.512955 239.758125 \r\nL 188.512955 50.679864 \r\nL 185.469318 50.679864 \r\nz\r\n\" style=\"fill:#1f77b4;\"/>\r\n   </g>\r\n   <g id=\"patch_49\">\r\n    <path clip-path=\"url(#pddbfe18978)\" d=\"M 188.512955 239.758125 \r\nL 191.556591 239.758125 \r\nL 191.556591 41.676137 \r\nL 188.512955 41.676137 \r\nz\r\n\" style=\"fill:#1f77b4;\"/>\r\n   </g>\r\n   <g id=\"patch_50\">\r\n    <path clip-path=\"url(#pddbfe18978)\" d=\"M 191.556591 239.758125 \r\nL 194.600227 239.758125 \r\nL 194.600227 77.691044 \r\nL 191.556591 77.691044 \r\nz\r\n\" style=\"fill:#1f77b4;\"/>\r\n   </g>\r\n   <g id=\"patch_51\">\r\n    <path clip-path=\"url(#pddbfe18978)\" d=\"M 194.600227 239.758125 \r\nL 197.643864 239.758125 \r\nL 197.643864 52.609234 \r\nL 194.600227 52.609234 \r\nz\r\n\" style=\"fill:#1f77b4;\"/>\r\n   </g>\r\n   <g id=\"patch_52\">\r\n    <path clip-path=\"url(#pddbfe18978)\" d=\"M 197.643864 239.758125 \r\nL 200.6875 239.758125 \r\nL 200.6875 51.322987 \r\nL 197.643864 51.322987 \r\nz\r\n\" style=\"fill:#1f77b4;\"/>\r\n   </g>\r\n   <g id=\"patch_53\">\r\n    <path clip-path=\"url(#pddbfe18978)\" d=\"M 200.6875 239.758125 \r\nL 203.731136 239.758125 \r\nL 203.731136 53.252357 \r\nL 200.6875 53.252357 \r\nz\r\n\" style=\"fill:#1f77b4;\"/>\r\n   </g>\r\n   <g id=\"patch_54\">\r\n    <path clip-path=\"url(#pddbfe18978)\" d=\"M 203.731136 239.758125 \r\nL 206.774773 239.758125 \r\nL 206.774773 67.401071 \r\nL 203.731136 67.401071 \r\nz\r\n\" style=\"fill:#1f77b4;\"/>\r\n   </g>\r\n   <g id=\"patch_55\">\r\n    <path clip-path=\"url(#pddbfe18978)\" d=\"M 206.774773 239.758125 \r\nL 209.818409 239.758125 \r\nL 209.818409 78.334168 \r\nL 206.774773 78.334168 \r\nz\r\n\" style=\"fill:#1f77b4;\"/>\r\n   </g>\r\n   <g id=\"patch_56\">\r\n    <path clip-path=\"url(#pddbfe18978)\" d=\"M 209.818409 239.758125 \r\nL 212.862045 239.758125 \r\nL 212.862045 82.836031 \r\nL 209.818409 82.836031 \r\nz\r\n\" style=\"fill:#1f77b4;\"/>\r\n   </g>\r\n   <g id=\"patch_57\">\r\n    <path clip-path=\"url(#pddbfe18978)\" d=\"M 212.862045 239.758125 \r\nL 215.905682 239.758125 \r\nL 215.905682 92.482881 \r\nL 212.862045 92.482881 \r\nz\r\n\" style=\"fill:#1f77b4;\"/>\r\n   </g>\r\n   <g id=\"patch_58\">\r\n    <path clip-path=\"url(#pddbfe18978)\" d=\"M 215.905682 239.758125 \r\nL 218.949318 239.758125 \r\nL 218.949318 92.482881 \r\nL 215.905682 92.482881 \r\nz\r\n\" style=\"fill:#1f77b4;\"/>\r\n   </g>\r\n   <g id=\"patch_59\">\r\n    <path clip-path=\"url(#pddbfe18978)\" d=\"M 218.949318 239.758125 \r\nL 221.992955 239.758125 \r\nL 221.992955 65.471701 \r\nL 218.949318 65.471701 \r\nz\r\n\" style=\"fill:#1f77b4;\"/>\r\n   </g>\r\n   <g id=\"patch_60\">\r\n    <path clip-path=\"url(#pddbfe18978)\" d=\"M 221.992955 239.758125 \r\nL 225.036591 239.758125 \r\nL 225.036591 126.568418 \r\nL 221.992955 126.568418 \r\nz\r\n\" style=\"fill:#1f77b4;\"/>\r\n   </g>\r\n   <g id=\"patch_61\">\r\n    <path clip-path=\"url(#pddbfe18978)\" d=\"M 225.036591 239.758125 \r\nL 228.080227 239.758125 \r\nL 228.080227 138.787761 \r\nL 225.036591 138.787761 \r\nz\r\n\" style=\"fill:#1f77b4;\"/>\r\n   </g>\r\n   <g id=\"patch_62\">\r\n    <path clip-path=\"url(#pddbfe18978)\" d=\"M 228.080227 239.758125 \r\nL 231.123864 239.758125 \r\nL 231.123864 151.007105 \r\nL 228.080227 151.007105 \r\nz\r\n\" style=\"fill:#1f77b4;\"/>\r\n   </g>\r\n   <g id=\"patch_63\">\r\n    <path clip-path=\"url(#pddbfe18978)\" d=\"M 231.123864 239.758125 \r\nL 234.1675 239.758125 \r\nL 234.1675 122.709678 \r\nL 231.123864 122.709678 \r\nz\r\n\" style=\"fill:#1f77b4;\"/>\r\n   </g>\r\n   <g id=\"patch_64\">\r\n    <path clip-path=\"url(#pddbfe18978)\" d=\"M 234.1675 239.758125 \r\nL 237.211136 239.758125 \r\nL 237.211136 145.218995 \r\nL 234.1675 145.218995 \r\nz\r\n\" style=\"fill:#1f77b4;\"/>\r\n   </g>\r\n   <g id=\"patch_65\">\r\n    <path clip-path=\"url(#pddbfe18978)\" d=\"M 237.211136 239.758125 \r\nL 240.254773 239.758125 \r\nL 240.254773 148.434611 \r\nL 237.211136 148.434611 \r\nz\r\n\" style=\"fill:#1f77b4;\"/>\r\n   </g>\r\n   <g id=\"patch_66\">\r\n    <path clip-path=\"url(#pddbfe18978)\" d=\"M 240.254773 239.758125 \r\nL 243.298409 239.758125 \r\nL 243.298409 161.940201 \r\nL 240.254773 161.940201 \r\nz\r\n\" style=\"fill:#1f77b4;\"/>\r\n   </g>\r\n   <g id=\"patch_67\">\r\n    <path clip-path=\"url(#pddbfe18978)\" d=\"M 243.298409 239.758125 \r\nL 246.342045 239.758125 \r\nL 246.342045 174.802668 \r\nL 243.298409 174.802668 \r\nz\r\n\" style=\"fill:#1f77b4;\"/>\r\n   </g>\r\n   <g id=\"patch_68\">\r\n    <path clip-path=\"url(#pddbfe18978)\" d=\"M 246.342045 239.758125 \r\nL 249.385682 239.758125 \r\nL 249.385682 185.735765 \r\nL 246.342045 185.735765 \r\nz\r\n\" style=\"fill:#1f77b4;\"/>\r\n   </g>\r\n   <g id=\"patch_69\">\r\n    <path clip-path=\"url(#pddbfe18978)\" d=\"M 249.385682 239.758125 \r\nL 252.429318 239.758125 \r\nL 252.429318 193.453245 \r\nL 249.385682 193.453245 \r\nz\r\n\" style=\"fill:#1f77b4;\"/>\r\n   </g>\r\n   <g id=\"patch_70\">\r\n    <path clip-path=\"url(#pddbfe18978)\" d=\"M 252.429318 239.758125 \r\nL 255.472955 239.758125 \r\nL 255.472955 185.092641 \r\nL 252.429318 185.092641 \r\nz\r\n\" style=\"fill:#1f77b4;\"/>\r\n   </g>\r\n   <g id=\"patch_71\">\r\n    <path clip-path=\"url(#pddbfe18978)\" d=\"M 255.472955 239.758125 \r\nL 258.516591 239.758125 \r\nL 258.516591 196.668861 \r\nL 255.472955 196.668861 \r\nz\r\n\" style=\"fill:#1f77b4;\"/>\r\n   </g>\r\n   <g id=\"patch_72\">\r\n    <path clip-path=\"url(#pddbfe18978)\" d=\"M 258.516591 239.758125 \r\nL 261.560227 239.758125 \r\nL 261.560227 205.029465 \r\nL 258.516591 205.029465 \r\nz\r\n\" style=\"fill:#1f77b4;\"/>\r\n   </g>\r\n   <g id=\"patch_73\">\r\n    <path clip-path=\"url(#pddbfe18978)\" d=\"M 261.560227 239.758125 \r\nL 264.603864 239.758125 \r\nL 264.603864 211.460698 \r\nL 261.560227 211.460698 \r\nz\r\n\" style=\"fill:#1f77b4;\"/>\r\n   </g>\r\n   <g id=\"patch_74\">\r\n    <path clip-path=\"url(#pddbfe18978)\" d=\"M 264.603864 239.758125 \r\nL 267.6475 239.758125 \r\nL 267.6475 210.174452 \r\nL 264.603864 210.174452 \r\nz\r\n\" style=\"fill:#1f77b4;\"/>\r\n   </g>\r\n   <g id=\"patch_75\">\r\n    <path clip-path=\"url(#pddbfe18978)\" d=\"M 267.6475 239.758125 \r\nL 270.691136 239.758125 \r\nL 270.691136 214.676315 \r\nL 267.6475 214.676315 \r\nz\r\n\" style=\"fill:#1f77b4;\"/>\r\n   </g>\r\n   <g id=\"patch_76\">\r\n    <path clip-path=\"url(#pddbfe18978)\" d=\"M 270.691136 239.758125 \r\nL 273.734773 239.758125 \r\nL 273.734773 221.750672 \r\nL 270.691136 221.750672 \r\nz\r\n\" style=\"fill:#1f77b4;\"/>\r\n   </g>\r\n   <g id=\"patch_77\">\r\n    <path clip-path=\"url(#pddbfe18978)\" d=\"M 273.734773 239.758125 \r\nL 276.778409 239.758125 \r\nL 276.778409 224.323165 \r\nL 273.734773 224.323165 \r\nz\r\n\" style=\"fill:#1f77b4;\"/>\r\n   </g>\r\n   <g id=\"patch_78\">\r\n    <path clip-path=\"url(#pddbfe18978)\" d=\"M 276.778409 239.758125 \r\nL 279.822045 239.758125 \r\nL 279.822045 226.252535 \r\nL 276.778409 226.252535 \r\nz\r\n\" style=\"fill:#1f77b4;\"/>\r\n   </g>\r\n   <g id=\"patch_79\">\r\n    <path clip-path=\"url(#pddbfe18978)\" d=\"M 279.822045 239.758125 \r\nL 282.865682 239.758125 \r\nL 282.865682 226.895658 \r\nL 279.822045 226.895658 \r\nz\r\n\" style=\"fill:#1f77b4;\"/>\r\n   </g>\r\n   <g id=\"patch_80\">\r\n    <path clip-path=\"url(#pddbfe18978)\" d=\"M 282.865682 239.758125 \r\nL 285.909318 239.758125 \r\nL 285.909318 230.754398 \r\nL 282.865682 230.754398 \r\nz\r\n\" style=\"fill:#1f77b4;\"/>\r\n   </g>\r\n   <g id=\"patch_81\">\r\n    <path clip-path=\"url(#pddbfe18978)\" d=\"M 285.909318 239.758125 \r\nL 288.952955 239.758125 \r\nL 288.952955 232.683768 \r\nL 285.909318 232.683768 \r\nz\r\n\" style=\"fill:#1f77b4;\"/>\r\n   </g>\r\n   <g id=\"patch_82\">\r\n    <path clip-path=\"url(#pddbfe18978)\" d=\"M 288.952955 239.758125 \r\nL 291.996591 239.758125 \r\nL 291.996591 237.185632 \r\nL 288.952955 237.185632 \r\nz\r\n\" style=\"fill:#1f77b4;\"/>\r\n   </g>\r\n   <g id=\"patch_83\">\r\n    <path clip-path=\"url(#pddbfe18978)\" d=\"M 291.996591 239.758125 \r\nL 295.040227 239.758125 \r\nL 295.040227 233.326892 \r\nL 291.996591 233.326892 \r\nz\r\n\" style=\"fill:#1f77b4;\"/>\r\n   </g>\r\n   <g id=\"patch_84\">\r\n    <path clip-path=\"url(#pddbfe18978)\" d=\"M 295.040227 239.758125 \r\nL 298.083864 239.758125 \r\nL 298.083864 238.471878 \r\nL 295.040227 238.471878 \r\nz\r\n\" style=\"fill:#1f77b4;\"/>\r\n   </g>\r\n   <g id=\"patch_85\">\r\n    <path clip-path=\"url(#pddbfe18978)\" d=\"M 298.083864 239.758125 \r\nL 301.1275 239.758125 \r\nL 301.1275 235.256262 \r\nL 298.083864 235.256262 \r\nz\r\n\" style=\"fill:#1f77b4;\"/>\r\n   </g>\r\n   <g id=\"patch_86\">\r\n    <path clip-path=\"url(#pddbfe18978)\" d=\"M 301.1275 239.758125 \r\nL 304.171136 239.758125 \r\nL 304.171136 234.613138 \r\nL 301.1275 234.613138 \r\nz\r\n\" style=\"fill:#1f77b4;\"/>\r\n   </g>\r\n   <g id=\"patch_87\">\r\n    <path clip-path=\"url(#pddbfe18978)\" d=\"M 304.171136 239.758125 \r\nL 307.214773 239.758125 \r\nL 307.214773 234.613138 \r\nL 304.171136 234.613138 \r\nz\r\n\" style=\"fill:#1f77b4;\"/>\r\n   </g>\r\n   <g id=\"patch_88\">\r\n    <path clip-path=\"url(#pddbfe18978)\" d=\"M 307.214773 239.758125 \r\nL 310.258409 239.758125 \r\nL 310.258409 237.828755 \r\nL 307.214773 237.828755 \r\nz\r\n\" style=\"fill:#1f77b4;\"/>\r\n   </g>\r\n   <g id=\"patch_89\">\r\n    <path clip-path=\"url(#pddbfe18978)\" d=\"M 310.258409 239.758125 \r\nL 313.302045 239.758125 \r\nL 313.302045 237.828755 \r\nL 310.258409 237.828755 \r\nz\r\n\" style=\"fill:#1f77b4;\"/>\r\n   </g>\r\n   <g id=\"patch_90\">\r\n    <path clip-path=\"url(#pddbfe18978)\" d=\"M 313.302045 239.758125 \r\nL 316.345682 239.758125 \r\nL 316.345682 239.115002 \r\nL 313.302045 239.115002 \r\nz\r\n\" style=\"fill:#1f77b4;\"/>\r\n   </g>\r\n   <g id=\"patch_91\">\r\n    <path clip-path=\"url(#pddbfe18978)\" d=\"M 316.345682 239.758125 \r\nL 319.389318 239.758125 \r\nL 319.389318 239.115002 \r\nL 316.345682 239.115002 \r\nz\r\n\" style=\"fill:#1f77b4;\"/>\r\n   </g>\r\n   <g id=\"patch_92\">\r\n    <path clip-path=\"url(#pddbfe18978)\" d=\"M 319.389318 239.758125 \r\nL 322.432955 239.758125 \r\nL 322.432955 239.115002 \r\nL 319.389318 239.115002 \r\nz\r\n\" style=\"fill:#1f77b4;\"/>\r\n   </g>\r\n   <g id=\"patch_93\">\r\n    <path clip-path=\"url(#pddbfe18978)\" d=\"M 322.432955 239.758125 \r\nL 325.476591 239.758125 \r\nL 325.476591 238.471878 \r\nL 322.432955 238.471878 \r\nz\r\n\" style=\"fill:#1f77b4;\"/>\r\n   </g>\r\n   <g id=\"patch_94\">\r\n    <path clip-path=\"url(#pddbfe18978)\" d=\"M 325.476591 239.758125 \r\nL 328.520227 239.758125 \r\nL 328.520227 239.758125 \r\nL 325.476591 239.758125 \r\nz\r\n\" style=\"fill:#1f77b4;\"/>\r\n   </g>\r\n   <g id=\"patch_95\">\r\n    <path clip-path=\"url(#pddbfe18978)\" d=\"M 328.520227 239.758125 \r\nL 331.563864 239.758125 \r\nL 331.563864 239.758125 \r\nL 328.520227 239.758125 \r\nz\r\n\" style=\"fill:#1f77b4;\"/>\r\n   </g>\r\n   <g id=\"patch_96\">\r\n    <path clip-path=\"url(#pddbfe18978)\" d=\"M 331.563864 239.758125 \r\nL 334.6075 239.758125 \r\nL 334.6075 239.115002 \r\nL 331.563864 239.115002 \r\nz\r\n\" style=\"fill:#1f77b4;\"/>\r\n   </g>\r\n   <g id=\"patch_97\">\r\n    <path clip-path=\"url(#pddbfe18978)\" d=\"M 334.6075 239.758125 \r\nL 337.651136 239.758125 \r\nL 337.651136 239.758125 \r\nL 334.6075 239.758125 \r\nz\r\n\" style=\"fill:#1f77b4;\"/>\r\n   </g>\r\n   <g id=\"patch_98\">\r\n    <path clip-path=\"url(#pddbfe18978)\" d=\"M 337.651136 239.758125 \r\nL 340.694773 239.758125 \r\nL 340.694773 239.115002 \r\nL 337.651136 239.115002 \r\nz\r\n\" style=\"fill:#1f77b4;\"/>\r\n   </g>\r\n   <g id=\"patch_99\">\r\n    <path clip-path=\"url(#pddbfe18978)\" d=\"M 340.694773 239.758125 \r\nL 343.738409 239.758125 \r\nL 343.738409 239.758125 \r\nL 340.694773 239.758125 \r\nz\r\n\" style=\"fill:#1f77b4;\"/>\r\n   </g>\r\n   <g id=\"patch_100\">\r\n    <path clip-path=\"url(#pddbfe18978)\" d=\"M 343.738409 239.758125 \r\nL 346.782045 239.758125 \r\nL 346.782045 239.758125 \r\nL 343.738409 239.758125 \r\nz\r\n\" style=\"fill:#1f77b4;\"/>\r\n   </g>\r\n   <g id=\"patch_101\">\r\n    <path clip-path=\"url(#pddbfe18978)\" d=\"M 346.782045 239.758125 \r\nL 349.825682 239.758125 \r\nL 349.825682 239.758125 \r\nL 346.782045 239.758125 \r\nz\r\n\" style=\"fill:#1f77b4;\"/>\r\n   </g>\r\n   <g id=\"patch_102\">\r\n    <path clip-path=\"url(#pddbfe18978)\" d=\"M 349.825682 239.758125 \r\nL 352.869318 239.758125 \r\nL 352.869318 239.115002 \r\nL 349.825682 239.115002 \r\nz\r\n\" style=\"fill:#1f77b4;\"/>\r\n   </g>\r\n   <g id=\"matplotlib.axis_1\">\r\n    <g id=\"xtick_1\">\r\n     <g id=\"line2d_1\">\r\n      <defs>\r\n       <path d=\"M 0 0 \r\nL 0 3.5 \r\n\" id=\"mcced38b8d9\" style=\"stroke:#000000;stroke-width:0.8;\"/>\r\n      </defs>\r\n      <g>\r\n       <use style=\"stroke:#000000;stroke-width:0.8;\" x=\"64.727185\" xlink:href=\"#mcced38b8d9\" y=\"239.758125\"/>\r\n      </g>\r\n     </g>\r\n     <g id=\"text_1\">\r\n      <!-- −3 -->\r\n      <g transform=\"translate(57.356091 254.356563)scale(0.1 -0.1)\">\r\n       <defs>\r\n        <path d=\"M 10.59375 35.5 \r\nL 73.1875 35.5 \r\nL 73.1875 27.203125 \r\nL 10.59375 27.203125 \r\nz\r\n\" id=\"DejaVuSans-8722\"/>\r\n        <path d=\"M 40.578125 39.3125 \r\nQ 47.65625 37.796875 51.625 33 \r\nQ 55.609375 28.21875 55.609375 21.1875 \r\nQ 55.609375 10.40625 48.1875 4.484375 \r\nQ 40.765625 -1.421875 27.09375 -1.421875 \r\nQ 22.515625 -1.421875 17.65625 -0.515625 \r\nQ 12.796875 0.390625 7.625 2.203125 \r\nL 7.625 11.71875 \r\nQ 11.71875 9.328125 16.59375 8.109375 \r\nQ 21.484375 6.890625 26.8125 6.890625 \r\nQ 36.078125 6.890625 40.9375 10.546875 \r\nQ 45.796875 14.203125 45.796875 21.1875 \r\nQ 45.796875 27.640625 41.28125 31.265625 \r\nQ 36.765625 34.90625 28.71875 34.90625 \r\nL 20.21875 34.90625 \r\nL 20.21875 43.015625 \r\nL 29.109375 43.015625 \r\nQ 36.375 43.015625 40.234375 45.921875 \r\nQ 44.09375 48.828125 44.09375 54.296875 \r\nQ 44.09375 59.90625 40.109375 62.90625 \r\nQ 36.140625 65.921875 28.71875 65.921875 \r\nQ 24.65625 65.921875 20.015625 65.03125 \r\nQ 15.375 64.15625 9.8125 62.3125 \r\nL 9.8125 71.09375 \r\nQ 15.4375 72.65625 20.34375 73.4375 \r\nQ 25.25 74.21875 29.59375 74.21875 \r\nQ 40.828125 74.21875 47.359375 69.109375 \r\nQ 53.90625 64.015625 53.90625 55.328125 \r\nQ 53.90625 49.265625 50.4375 45.09375 \r\nQ 46.96875 40.921875 40.578125 39.3125 \r\nz\r\n\" id=\"DejaVuSans-51\"/>\r\n       </defs>\r\n       <use xlink:href=\"#DejaVuSans-8722\"/>\r\n       <use x=\"83.789062\" xlink:href=\"#DejaVuSans-51\"/>\r\n      </g>\r\n     </g>\r\n    </g>\r\n    <g id=\"xtick_2\">\r\n     <g id=\"line2d_2\">\r\n      <g>\r\n       <use style=\"stroke:#000000;stroke-width:0.8;\" x=\"105.309626\" xlink:href=\"#mcced38b8d9\" y=\"239.758125\"/>\r\n      </g>\r\n     </g>\r\n     <g id=\"text_2\">\r\n      <!-- −2 -->\r\n      <g transform=\"translate(97.938532 254.356563)scale(0.1 -0.1)\">\r\n       <defs>\r\n        <path d=\"M 19.1875 8.296875 \r\nL 53.609375 8.296875 \r\nL 53.609375 0 \r\nL 7.328125 0 \r\nL 7.328125 8.296875 \r\nQ 12.9375 14.109375 22.625 23.890625 \r\nQ 32.328125 33.6875 34.8125 36.53125 \r\nQ 39.546875 41.84375 41.421875 45.53125 \r\nQ 43.3125 49.21875 43.3125 52.78125 \r\nQ 43.3125 58.59375 39.234375 62.25 \r\nQ 35.15625 65.921875 28.609375 65.921875 \r\nQ 23.96875 65.921875 18.8125 64.3125 \r\nQ 13.671875 62.703125 7.8125 59.421875 \r\nL 7.8125 69.390625 \r\nQ 13.765625 71.78125 18.9375 73 \r\nQ 24.125 74.21875 28.421875 74.21875 \r\nQ 39.75 74.21875 46.484375 68.546875 \r\nQ 53.21875 62.890625 53.21875 53.421875 \r\nQ 53.21875 48.921875 51.53125 44.890625 \r\nQ 49.859375 40.875 45.40625 35.40625 \r\nQ 44.1875 33.984375 37.640625 27.21875 \r\nQ 31.109375 20.453125 19.1875 8.296875 \r\nz\r\n\" id=\"DejaVuSans-50\"/>\r\n       </defs>\r\n       <use xlink:href=\"#DejaVuSans-8722\"/>\r\n       <use x=\"83.789062\" xlink:href=\"#DejaVuSans-50\"/>\r\n      </g>\r\n     </g>\r\n    </g>\r\n    <g id=\"xtick_3\">\r\n     <g id=\"line2d_3\">\r\n      <g>\r\n       <use style=\"stroke:#000000;stroke-width:0.8;\" x=\"145.892067\" xlink:href=\"#mcced38b8d9\" y=\"239.758125\"/>\r\n      </g>\r\n     </g>\r\n     <g id=\"text_3\">\r\n      <!-- −1 -->\r\n      <g transform=\"translate(138.520973 254.356563)scale(0.1 -0.1)\">\r\n       <defs>\r\n        <path d=\"M 12.40625 8.296875 \r\nL 28.515625 8.296875 \r\nL 28.515625 63.921875 \r\nL 10.984375 60.40625 \r\nL 10.984375 69.390625 \r\nL 28.421875 72.90625 \r\nL 38.28125 72.90625 \r\nL 38.28125 8.296875 \r\nL 54.390625 8.296875 \r\nL 54.390625 0 \r\nL 12.40625 0 \r\nz\r\n\" id=\"DejaVuSans-49\"/>\r\n       </defs>\r\n       <use xlink:href=\"#DejaVuSans-8722\"/>\r\n       <use x=\"83.789062\" xlink:href=\"#DejaVuSans-49\"/>\r\n      </g>\r\n     </g>\r\n    </g>\r\n    <g id=\"xtick_4\">\r\n     <g id=\"line2d_4\">\r\n      <g>\r\n       <use style=\"stroke:#000000;stroke-width:0.8;\" x=\"186.474508\" xlink:href=\"#mcced38b8d9\" y=\"239.758125\"/>\r\n      </g>\r\n     </g>\r\n     <g id=\"text_4\">\r\n      <!-- 0 -->\r\n      <g transform=\"translate(183.293258 254.356563)scale(0.1 -0.1)\">\r\n       <defs>\r\n        <path d=\"M 31.78125 66.40625 \r\nQ 24.171875 66.40625 20.328125 58.90625 \r\nQ 16.5 51.421875 16.5 36.375 \r\nQ 16.5 21.390625 20.328125 13.890625 \r\nQ 24.171875 6.390625 31.78125 6.390625 \r\nQ 39.453125 6.390625 43.28125 13.890625 \r\nQ 47.125 21.390625 47.125 36.375 \r\nQ 47.125 51.421875 43.28125 58.90625 \r\nQ 39.453125 66.40625 31.78125 66.40625 \r\nz\r\nM 31.78125 74.21875 \r\nQ 44.046875 74.21875 50.515625 64.515625 \r\nQ 56.984375 54.828125 56.984375 36.375 \r\nQ 56.984375 17.96875 50.515625 8.265625 \r\nQ 44.046875 -1.421875 31.78125 -1.421875 \r\nQ 19.53125 -1.421875 13.0625 8.265625 \r\nQ 6.59375 17.96875 6.59375 36.375 \r\nQ 6.59375 54.828125 13.0625 64.515625 \r\nQ 19.53125 74.21875 31.78125 74.21875 \r\nz\r\n\" id=\"DejaVuSans-48\"/>\r\n       </defs>\r\n       <use xlink:href=\"#DejaVuSans-48\"/>\r\n      </g>\r\n     </g>\r\n    </g>\r\n    <g id=\"xtick_5\">\r\n     <g id=\"line2d_5\">\r\n      <g>\r\n       <use style=\"stroke:#000000;stroke-width:0.8;\" x=\"227.056949\" xlink:href=\"#mcced38b8d9\" y=\"239.758125\"/>\r\n      </g>\r\n     </g>\r\n     <g id=\"text_5\">\r\n      <!-- 1 -->\r\n      <g transform=\"translate(223.875699 254.356563)scale(0.1 -0.1)\">\r\n       <use xlink:href=\"#DejaVuSans-49\"/>\r\n      </g>\r\n     </g>\r\n    </g>\r\n    <g id=\"xtick_6\">\r\n     <g id=\"line2d_6\">\r\n      <g>\r\n       <use style=\"stroke:#000000;stroke-width:0.8;\" x=\"267.63939\" xlink:href=\"#mcced38b8d9\" y=\"239.758125\"/>\r\n      </g>\r\n     </g>\r\n     <g id=\"text_6\">\r\n      <!-- 2 -->\r\n      <g transform=\"translate(264.45814 254.356563)scale(0.1 -0.1)\">\r\n       <use xlink:href=\"#DejaVuSans-50\"/>\r\n      </g>\r\n     </g>\r\n    </g>\r\n    <g id=\"xtick_7\">\r\n     <g id=\"line2d_7\">\r\n      <g>\r\n       <use style=\"stroke:#000000;stroke-width:0.8;\" x=\"308.221831\" xlink:href=\"#mcced38b8d9\" y=\"239.758125\"/>\r\n      </g>\r\n     </g>\r\n     <g id=\"text_7\">\r\n      <!-- 3 -->\r\n      <g transform=\"translate(305.040581 254.356563)scale(0.1 -0.1)\">\r\n       <use xlink:href=\"#DejaVuSans-51\"/>\r\n      </g>\r\n     </g>\r\n    </g>\r\n    <g id=\"xtick_8\">\r\n     <g id=\"line2d_8\">\r\n      <g>\r\n       <use style=\"stroke:#000000;stroke-width:0.8;\" x=\"348.804272\" xlink:href=\"#mcced38b8d9\" y=\"239.758125\"/>\r\n      </g>\r\n     </g>\r\n     <g id=\"text_8\">\r\n      <!-- 4 -->\r\n      <g transform=\"translate(345.623022 254.356563)scale(0.1 -0.1)\">\r\n       <defs>\r\n        <path d=\"M 37.796875 64.3125 \r\nL 12.890625 25.390625 \r\nL 37.796875 25.390625 \r\nz\r\nM 35.203125 72.90625 \r\nL 47.609375 72.90625 \r\nL 47.609375 25.390625 \r\nL 58.015625 25.390625 \r\nL 58.015625 17.1875 \r\nL 47.609375 17.1875 \r\nL 47.609375 0 \r\nL 37.796875 0 \r\nL 37.796875 17.1875 \r\nL 4.890625 17.1875 \r\nL 4.890625 26.703125 \r\nz\r\n\" id=\"DejaVuSans-52\"/>\r\n       </defs>\r\n       <use xlink:href=\"#DejaVuSans-52\"/>\r\n      </g>\r\n     </g>\r\n    </g>\r\n   </g>\r\n   <g id=\"matplotlib.axis_2\">\r\n    <g id=\"ytick_1\">\r\n     <g id=\"line2d_9\">\r\n      <defs>\r\n       <path d=\"M 0 0 \r\nL -3.5 0 \r\n\" id=\"maa1599d60c\" style=\"stroke:#000000;stroke-width:0.8;\"/>\r\n      </defs>\r\n      <g>\r\n       <use style=\"stroke:#000000;stroke-width:0.8;\" x=\"33.2875\" xlink:href=\"#maa1599d60c\" y=\"239.758125\"/>\r\n      </g>\r\n     </g>\r\n     <g id=\"text_9\">\r\n      <!-- 0 -->\r\n      <g transform=\"translate(19.925 243.557344)scale(0.1 -0.1)\">\r\n       <use xlink:href=\"#DejaVuSans-48\"/>\r\n      </g>\r\n     </g>\r\n    </g>\r\n    <g id=\"ytick_2\">\r\n     <g id=\"line2d_10\">\r\n      <g>\r\n       <use style=\"stroke:#000000;stroke-width:0.8;\" x=\"33.2875\" xlink:href=\"#maa1599d60c\" y=\"207.601958\"/>\r\n      </g>\r\n     </g>\r\n     <g id=\"text_10\">\r\n      <!-- 50 -->\r\n      <g transform=\"translate(13.5625 211.401177)scale(0.1 -0.1)\">\r\n       <defs>\r\n        <path d=\"M 10.796875 72.90625 \r\nL 49.515625 72.90625 \r\nL 49.515625 64.59375 \r\nL 19.828125 64.59375 \r\nL 19.828125 46.734375 \r\nQ 21.96875 47.46875 24.109375 47.828125 \r\nQ 26.265625 48.1875 28.421875 48.1875 \r\nQ 40.625 48.1875 47.75 41.5 \r\nQ 54.890625 34.8125 54.890625 23.390625 \r\nQ 54.890625 11.625 47.5625 5.09375 \r\nQ 40.234375 -1.421875 26.90625 -1.421875 \r\nQ 22.3125 -1.421875 17.546875 -0.640625 \r\nQ 12.796875 0.140625 7.71875 1.703125 \r\nL 7.71875 11.625 \r\nQ 12.109375 9.234375 16.796875 8.0625 \r\nQ 21.484375 6.890625 26.703125 6.890625 \r\nQ 35.15625 6.890625 40.078125 11.328125 \r\nQ 45.015625 15.765625 45.015625 23.390625 \r\nQ 45.015625 31 40.078125 35.4375 \r\nQ 35.15625 39.890625 26.703125 39.890625 \r\nQ 22.75 39.890625 18.8125 39.015625 \r\nQ 14.890625 38.140625 10.796875 36.28125 \r\nz\r\n\" id=\"DejaVuSans-53\"/>\r\n       </defs>\r\n       <use xlink:href=\"#DejaVuSans-53\"/>\r\n       <use x=\"63.623047\" xlink:href=\"#DejaVuSans-48\"/>\r\n      </g>\r\n     </g>\r\n    </g>\r\n    <g id=\"ytick_3\">\r\n     <g id=\"line2d_11\">\r\n      <g>\r\n       <use style=\"stroke:#000000;stroke-width:0.8;\" x=\"33.2875\" xlink:href=\"#maa1599d60c\" y=\"175.445791\"/>\r\n      </g>\r\n     </g>\r\n     <g id=\"text_11\">\r\n      <!-- 100 -->\r\n      <g transform=\"translate(7.2 179.24501)scale(0.1 -0.1)\">\r\n       <use xlink:href=\"#DejaVuSans-49\"/>\r\n       <use x=\"63.623047\" xlink:href=\"#DejaVuSans-48\"/>\r\n       <use x=\"127.246094\" xlink:href=\"#DejaVuSans-48\"/>\r\n      </g>\r\n     </g>\r\n    </g>\r\n    <g id=\"ytick_4\">\r\n     <g id=\"line2d_12\">\r\n      <g>\r\n       <use style=\"stroke:#000000;stroke-width:0.8;\" x=\"33.2875\" xlink:href=\"#maa1599d60c\" y=\"143.289625\"/>\r\n      </g>\r\n     </g>\r\n     <g id=\"text_12\">\r\n      <!-- 150 -->\r\n      <g transform=\"translate(7.2 147.088843)scale(0.1 -0.1)\">\r\n       <use xlink:href=\"#DejaVuSans-49\"/>\r\n       <use x=\"63.623047\" xlink:href=\"#DejaVuSans-53\"/>\r\n       <use x=\"127.246094\" xlink:href=\"#DejaVuSans-48\"/>\r\n      </g>\r\n     </g>\r\n    </g>\r\n    <g id=\"ytick_5\">\r\n     <g id=\"line2d_13\">\r\n      <g>\r\n       <use style=\"stroke:#000000;stroke-width:0.8;\" x=\"33.2875\" xlink:href=\"#maa1599d60c\" y=\"111.133458\"/>\r\n      </g>\r\n     </g>\r\n     <g id=\"text_13\">\r\n      <!-- 200 -->\r\n      <g transform=\"translate(7.2 114.932676)scale(0.1 -0.1)\">\r\n       <use xlink:href=\"#DejaVuSans-50\"/>\r\n       <use x=\"63.623047\" xlink:href=\"#DejaVuSans-48\"/>\r\n       <use x=\"127.246094\" xlink:href=\"#DejaVuSans-48\"/>\r\n      </g>\r\n     </g>\r\n    </g>\r\n    <g id=\"ytick_6\">\r\n     <g id=\"line2d_14\">\r\n      <g>\r\n       <use style=\"stroke:#000000;stroke-width:0.8;\" x=\"33.2875\" xlink:href=\"#maa1599d60c\" y=\"78.977291\"/>\r\n      </g>\r\n     </g>\r\n     <g id=\"text_14\">\r\n      <!-- 250 -->\r\n      <g transform=\"translate(7.2 82.77651)scale(0.1 -0.1)\">\r\n       <use xlink:href=\"#DejaVuSans-50\"/>\r\n       <use x=\"63.623047\" xlink:href=\"#DejaVuSans-53\"/>\r\n       <use x=\"127.246094\" xlink:href=\"#DejaVuSans-48\"/>\r\n      </g>\r\n     </g>\r\n    </g>\r\n    <g id=\"ytick_7\">\r\n     <g id=\"line2d_15\">\r\n      <g>\r\n       <use style=\"stroke:#000000;stroke-width:0.8;\" x=\"33.2875\" xlink:href=\"#maa1599d60c\" y=\"46.821124\"/>\r\n      </g>\r\n     </g>\r\n     <g id=\"text_15\">\r\n      <!-- 300 -->\r\n      <g transform=\"translate(7.2 50.620343)scale(0.1 -0.1)\">\r\n       <use xlink:href=\"#DejaVuSans-51\"/>\r\n       <use x=\"63.623047\" xlink:href=\"#DejaVuSans-48\"/>\r\n       <use x=\"127.246094\" xlink:href=\"#DejaVuSans-48\"/>\r\n      </g>\r\n     </g>\r\n    </g>\r\n   </g>\r\n   <g id=\"patch_103\">\r\n    <path d=\"M 33.2875 239.758125 \r\nL 33.2875 22.318125 \r\n\" style=\"fill:none;stroke:#000000;stroke-linecap:square;stroke-linejoin:miter;stroke-width:0.8;\"/>\r\n   </g>\r\n   <g id=\"patch_104\">\r\n    <path d=\"M 368.0875 239.758125 \r\nL 368.0875 22.318125 \r\n\" style=\"fill:none;stroke:#000000;stroke-linecap:square;stroke-linejoin:miter;stroke-width:0.8;\"/>\r\n   </g>\r\n   <g id=\"patch_105\">\r\n    <path d=\"M 33.2875 239.758125 \r\nL 368.0875 239.758125 \r\n\" style=\"fill:none;stroke:#000000;stroke-linecap:square;stroke-linejoin:miter;stroke-width:0.8;\"/>\r\n   </g>\r\n   <g id=\"patch_106\">\r\n    <path d=\"M 33.2875 22.318125 \r\nL 368.0875 22.318125 \r\n\" style=\"fill:none;stroke:#000000;stroke-linecap:square;stroke-linejoin:miter;stroke-width:0.8;\"/>\r\n   </g>\r\n   <g id=\"text_16\">\r\n    <!-- Normal Distribution -->\r\n    <g transform=\"translate(142.068438 16.318125)scale(0.12 -0.12)\">\r\n     <defs>\r\n      <path d=\"M 9.8125 72.90625 \r\nL 23.09375 72.90625 \r\nL 55.421875 11.921875 \r\nL 55.421875 72.90625 \r\nL 64.984375 72.90625 \r\nL 64.984375 0 \r\nL 51.703125 0 \r\nL 19.390625 60.984375 \r\nL 19.390625 0 \r\nL 9.8125 0 \r\nz\r\n\" id=\"DejaVuSans-78\"/>\r\n      <path d=\"M 30.609375 48.390625 \r\nQ 23.390625 48.390625 19.1875 42.75 \r\nQ 14.984375 37.109375 14.984375 27.296875 \r\nQ 14.984375 17.484375 19.15625 11.84375 \r\nQ 23.34375 6.203125 30.609375 6.203125 \r\nQ 37.796875 6.203125 41.984375 11.859375 \r\nQ 46.1875 17.53125 46.1875 27.296875 \r\nQ 46.1875 37.015625 41.984375 42.703125 \r\nQ 37.796875 48.390625 30.609375 48.390625 \r\nz\r\nM 30.609375 56 \r\nQ 42.328125 56 49.015625 48.375 \r\nQ 55.71875 40.765625 55.71875 27.296875 \r\nQ 55.71875 13.875 49.015625 6.21875 \r\nQ 42.328125 -1.421875 30.609375 -1.421875 \r\nQ 18.84375 -1.421875 12.171875 6.21875 \r\nQ 5.515625 13.875 5.515625 27.296875 \r\nQ 5.515625 40.765625 12.171875 48.375 \r\nQ 18.84375 56 30.609375 56 \r\nz\r\n\" id=\"DejaVuSans-111\"/>\r\n      <path d=\"M 41.109375 46.296875 \r\nQ 39.59375 47.171875 37.8125 47.578125 \r\nQ 36.03125 48 33.890625 48 \r\nQ 26.265625 48 22.1875 43.046875 \r\nQ 18.109375 38.09375 18.109375 28.8125 \r\nL 18.109375 0 \r\nL 9.078125 0 \r\nL 9.078125 54.6875 \r\nL 18.109375 54.6875 \r\nL 18.109375 46.1875 \r\nQ 20.953125 51.171875 25.484375 53.578125 \r\nQ 30.03125 56 36.53125 56 \r\nQ 37.453125 56 38.578125 55.875 \r\nQ 39.703125 55.765625 41.0625 55.515625 \r\nz\r\n\" id=\"DejaVuSans-114\"/>\r\n      <path d=\"M 52 44.1875 \r\nQ 55.375 50.25 60.0625 53.125 \r\nQ 64.75 56 71.09375 56 \r\nQ 79.640625 56 84.28125 50.015625 \r\nQ 88.921875 44.046875 88.921875 33.015625 \r\nL 88.921875 0 \r\nL 79.890625 0 \r\nL 79.890625 32.71875 \r\nQ 79.890625 40.578125 77.09375 44.375 \r\nQ 74.3125 48.1875 68.609375 48.1875 \r\nQ 61.625 48.1875 57.5625 43.546875 \r\nQ 53.515625 38.921875 53.515625 30.90625 \r\nL 53.515625 0 \r\nL 44.484375 0 \r\nL 44.484375 32.71875 \r\nQ 44.484375 40.625 41.703125 44.40625 \r\nQ 38.921875 48.1875 33.109375 48.1875 \r\nQ 26.21875 48.1875 22.15625 43.53125 \r\nQ 18.109375 38.875 18.109375 30.90625 \r\nL 18.109375 0 \r\nL 9.078125 0 \r\nL 9.078125 54.6875 \r\nL 18.109375 54.6875 \r\nL 18.109375 46.1875 \r\nQ 21.1875 51.21875 25.484375 53.609375 \r\nQ 29.78125 56 35.6875 56 \r\nQ 41.65625 56 45.828125 52.96875 \r\nQ 50 49.953125 52 44.1875 \r\nz\r\n\" id=\"DejaVuSans-109\"/>\r\n      <path d=\"M 34.28125 27.484375 \r\nQ 23.390625 27.484375 19.1875 25 \r\nQ 14.984375 22.515625 14.984375 16.5 \r\nQ 14.984375 11.71875 18.140625 8.90625 \r\nQ 21.296875 6.109375 26.703125 6.109375 \r\nQ 34.1875 6.109375 38.703125 11.40625 \r\nQ 43.21875 16.703125 43.21875 25.484375 \r\nL 43.21875 27.484375 \r\nz\r\nM 52.203125 31.203125 \r\nL 52.203125 0 \r\nL 43.21875 0 \r\nL 43.21875 8.296875 \r\nQ 40.140625 3.328125 35.546875 0.953125 \r\nQ 30.953125 -1.421875 24.3125 -1.421875 \r\nQ 15.921875 -1.421875 10.953125 3.296875 \r\nQ 6 8.015625 6 15.921875 \r\nQ 6 25.140625 12.171875 29.828125 \r\nQ 18.359375 34.515625 30.609375 34.515625 \r\nL 43.21875 34.515625 \r\nL 43.21875 35.40625 \r\nQ 43.21875 41.609375 39.140625 45 \r\nQ 35.0625 48.390625 27.6875 48.390625 \r\nQ 23 48.390625 18.546875 47.265625 \r\nQ 14.109375 46.140625 10.015625 43.890625 \r\nL 10.015625 52.203125 \r\nQ 14.9375 54.109375 19.578125 55.046875 \r\nQ 24.21875 56 28.609375 56 \r\nQ 40.484375 56 46.34375 49.84375 \r\nQ 52.203125 43.703125 52.203125 31.203125 \r\nz\r\n\" id=\"DejaVuSans-97\"/>\r\n      <path d=\"M 9.421875 75.984375 \r\nL 18.40625 75.984375 \r\nL 18.40625 0 \r\nL 9.421875 0 \r\nz\r\n\" id=\"DejaVuSans-108\"/>\r\n      <path id=\"DejaVuSans-32\"/>\r\n      <path d=\"M 19.671875 64.796875 \r\nL 19.671875 8.109375 \r\nL 31.59375 8.109375 \r\nQ 46.6875 8.109375 53.6875 14.9375 \r\nQ 60.6875 21.78125 60.6875 36.53125 \r\nQ 60.6875 51.171875 53.6875 57.984375 \r\nQ 46.6875 64.796875 31.59375 64.796875 \r\nz\r\nM 9.8125 72.90625 \r\nL 30.078125 72.90625 \r\nQ 51.265625 72.90625 61.171875 64.09375 \r\nQ 71.09375 55.28125 71.09375 36.53125 \r\nQ 71.09375 17.671875 61.125 8.828125 \r\nQ 51.171875 0 30.078125 0 \r\nL 9.8125 0 \r\nz\r\n\" id=\"DejaVuSans-68\"/>\r\n      <path d=\"M 9.421875 54.6875 \r\nL 18.40625 54.6875 \r\nL 18.40625 0 \r\nL 9.421875 0 \r\nz\r\nM 9.421875 75.984375 \r\nL 18.40625 75.984375 \r\nL 18.40625 64.59375 \r\nL 9.421875 64.59375 \r\nz\r\n\" id=\"DejaVuSans-105\"/>\r\n      <path d=\"M 44.28125 53.078125 \r\nL 44.28125 44.578125 \r\nQ 40.484375 46.53125 36.375 47.5 \r\nQ 32.28125 48.484375 27.875 48.484375 \r\nQ 21.1875 48.484375 17.84375 46.4375 \r\nQ 14.5 44.390625 14.5 40.28125 \r\nQ 14.5 37.15625 16.890625 35.375 \r\nQ 19.28125 33.59375 26.515625 31.984375 \r\nL 29.59375 31.296875 \r\nQ 39.15625 29.25 43.1875 25.515625 \r\nQ 47.21875 21.78125 47.21875 15.09375 \r\nQ 47.21875 7.46875 41.1875 3.015625 \r\nQ 35.15625 -1.421875 24.609375 -1.421875 \r\nQ 20.21875 -1.421875 15.453125 -0.5625 \r\nQ 10.6875 0.296875 5.421875 2 \r\nL 5.421875 11.28125 \r\nQ 10.40625 8.6875 15.234375 7.390625 \r\nQ 20.0625 6.109375 24.8125 6.109375 \r\nQ 31.15625 6.109375 34.5625 8.28125 \r\nQ 37.984375 10.453125 37.984375 14.40625 \r\nQ 37.984375 18.0625 35.515625 20.015625 \r\nQ 33.0625 21.96875 24.703125 23.78125 \r\nL 21.578125 24.515625 \r\nQ 13.234375 26.265625 9.515625 29.90625 \r\nQ 5.8125 33.546875 5.8125 39.890625 \r\nQ 5.8125 47.609375 11.28125 51.796875 \r\nQ 16.75 56 26.8125 56 \r\nQ 31.78125 56 36.171875 55.265625 \r\nQ 40.578125 54.546875 44.28125 53.078125 \r\nz\r\n\" id=\"DejaVuSans-115\"/>\r\n      <path d=\"M 18.3125 70.21875 \r\nL 18.3125 54.6875 \r\nL 36.8125 54.6875 \r\nL 36.8125 47.703125 \r\nL 18.3125 47.703125 \r\nL 18.3125 18.015625 \r\nQ 18.3125 11.328125 20.140625 9.421875 \r\nQ 21.96875 7.515625 27.59375 7.515625 \r\nL 36.8125 7.515625 \r\nL 36.8125 0 \r\nL 27.59375 0 \r\nQ 17.1875 0 13.234375 3.875 \r\nQ 9.28125 7.765625 9.28125 18.015625 \r\nL 9.28125 47.703125 \r\nL 2.6875 47.703125 \r\nL 2.6875 54.6875 \r\nL 9.28125 54.6875 \r\nL 9.28125 70.21875 \r\nz\r\n\" id=\"DejaVuSans-116\"/>\r\n      <path d=\"M 48.6875 27.296875 \r\nQ 48.6875 37.203125 44.609375 42.84375 \r\nQ 40.53125 48.484375 33.40625 48.484375 \r\nQ 26.265625 48.484375 22.1875 42.84375 \r\nQ 18.109375 37.203125 18.109375 27.296875 \r\nQ 18.109375 17.390625 22.1875 11.75 \r\nQ 26.265625 6.109375 33.40625 6.109375 \r\nQ 40.53125 6.109375 44.609375 11.75 \r\nQ 48.6875 17.390625 48.6875 27.296875 \r\nz\r\nM 18.109375 46.390625 \r\nQ 20.953125 51.265625 25.265625 53.625 \r\nQ 29.59375 56 35.59375 56 \r\nQ 45.5625 56 51.78125 48.09375 \r\nQ 58.015625 40.1875 58.015625 27.296875 \r\nQ 58.015625 14.40625 51.78125 6.484375 \r\nQ 45.5625 -1.421875 35.59375 -1.421875 \r\nQ 29.59375 -1.421875 25.265625 0.953125 \r\nQ 20.953125 3.328125 18.109375 8.203125 \r\nL 18.109375 0 \r\nL 9.078125 0 \r\nL 9.078125 75.984375 \r\nL 18.109375 75.984375 \r\nz\r\n\" id=\"DejaVuSans-98\"/>\r\n      <path d=\"M 8.5 21.578125 \r\nL 8.5 54.6875 \r\nL 17.484375 54.6875 \r\nL 17.484375 21.921875 \r\nQ 17.484375 14.15625 20.5 10.265625 \r\nQ 23.53125 6.390625 29.59375 6.390625 \r\nQ 36.859375 6.390625 41.078125 11.03125 \r\nQ 45.3125 15.671875 45.3125 23.6875 \r\nL 45.3125 54.6875 \r\nL 54.296875 54.6875 \r\nL 54.296875 0 \r\nL 45.3125 0 \r\nL 45.3125 8.40625 \r\nQ 42.046875 3.421875 37.71875 1 \r\nQ 33.40625 -1.421875 27.6875 -1.421875 \r\nQ 18.265625 -1.421875 13.375 4.4375 \r\nQ 8.5 10.296875 8.5 21.578125 \r\nz\r\nM 31.109375 56 \r\nz\r\n\" id=\"DejaVuSans-117\"/>\r\n      <path d=\"M 54.890625 33.015625 \r\nL 54.890625 0 \r\nL 45.90625 0 \r\nL 45.90625 32.71875 \r\nQ 45.90625 40.484375 42.875 44.328125 \r\nQ 39.84375 48.1875 33.796875 48.1875 \r\nQ 26.515625 48.1875 22.3125 43.546875 \r\nQ 18.109375 38.921875 18.109375 30.90625 \r\nL 18.109375 0 \r\nL 9.078125 0 \r\nL 9.078125 54.6875 \r\nL 18.109375 54.6875 \r\nL 18.109375 46.1875 \r\nQ 21.34375 51.125 25.703125 53.5625 \r\nQ 30.078125 56 35.796875 56 \r\nQ 45.21875 56 50.046875 50.171875 \r\nQ 54.890625 44.34375 54.890625 33.015625 \r\nz\r\n\" id=\"DejaVuSans-110\"/>\r\n     </defs>\r\n     <use xlink:href=\"#DejaVuSans-78\"/>\r\n     <use x=\"74.804688\" xlink:href=\"#DejaVuSans-111\"/>\r\n     <use x=\"135.986328\" xlink:href=\"#DejaVuSans-114\"/>\r\n     <use x=\"175.349609\" xlink:href=\"#DejaVuSans-109\"/>\r\n     <use x=\"272.761719\" xlink:href=\"#DejaVuSans-97\"/>\r\n     <use x=\"334.041016\" xlink:href=\"#DejaVuSans-108\"/>\r\n     <use x=\"361.824219\" xlink:href=\"#DejaVuSans-32\"/>\r\n     <use x=\"393.611328\" xlink:href=\"#DejaVuSans-68\"/>\r\n     <use x=\"470.613281\" xlink:href=\"#DejaVuSans-105\"/>\r\n     <use x=\"498.396484\" xlink:href=\"#DejaVuSans-115\"/>\r\n     <use x=\"550.496094\" xlink:href=\"#DejaVuSans-116\"/>\r\n     <use x=\"589.705078\" xlink:href=\"#DejaVuSans-114\"/>\r\n     <use x=\"630.818359\" xlink:href=\"#DejaVuSans-105\"/>\r\n     <use x=\"658.601562\" xlink:href=\"#DejaVuSans-98\"/>\r\n     <use x=\"722.078125\" xlink:href=\"#DejaVuSans-117\"/>\r\n     <use x=\"785.457031\" xlink:href=\"#DejaVuSans-116\"/>\r\n     <use x=\"824.666016\" xlink:href=\"#DejaVuSans-105\"/>\r\n     <use x=\"852.449219\" xlink:href=\"#DejaVuSans-111\"/>\r\n     <use x=\"913.630859\" xlink:href=\"#DejaVuSans-110\"/>\r\n    </g>\r\n   </g>\r\n  </g>\r\n </g>\r\n <defs>\r\n  <clipPath id=\"pddbfe18978\">\r\n   <rect height=\"217.44\" width=\"334.8\" x=\"33.2875\" y=\"22.318125\"/>\r\n  </clipPath>\r\n </defs>\r\n</svg>\r\n",
      "image/png": "[encoded data removed]"
     },
     "metadata": {
      "needs_background": "light"
     }
    }
   ],
   "source": [
    "x = np.random.randn(10000)\n",
    "\n",
    "plt.hist(x,bins=100)\n",
    "plt.title(\"Normal Distribution\")\n",
    "plt.show()"
   ]
  },
  {
   "cell_type": "markdown",
   "metadata": {},
   "source": [
    "---\n",
    "p27, 28"
   ]
  },
  {
   "cell_type": "markdown",
   "metadata": {},
   "source": [
    "# 4. Scikit-learn Tutorial"
   ]
  },
  {
   "cell_type": "markdown",
   "metadata": {},
   "source": [
    "## Training a Model"
   ]
  },
  {
   "cell_type": "markdown",
   "metadata": {},
   "source": [
    "* **Task**\n",
    "    - Classify x = [x1, x2, x3] to y = 1 or 0  \n",
    "* **Traninig dataset**\n",
    "    - 5 incstances (example data) with known labels"
   ]
  },
  {
   "cell_type": "code",
   "execution_count": 136,
   "metadata": {
    "collapsed": true
   },
   "outputs": [],
   "source": [
    "X = np.array([[0, 1, 1],\n",
    "              [1, 0, 1],\n",
    "              [1, 1, 1],\n",
    "              [0, 1, 1],\n",
    "              [0, 0, 1]])\n",
    "y = np.array([1, 0, 1, 1, 0])"
   ]
  },
  {
   "cell_type": "markdown",
   "metadata": {},
   "source": [
    "---\n",
    "p29"
   ]
  },
  {
   "cell_type": "code",
   "execution_count": 137,
   "metadata": {
    "collapsed": true
   },
   "outputs": [
    {
     "output_type": "execute_result",
     "data": {
      "text/plain": [
       "DecisionTreeClassifier()"
      ]
     },
     "metadata": {},
     "execution_count": 137
    }
   ],
   "source": [
    "from sklearn.tree import DecisionTreeClassifier\n",
    "clf = DecisionTreeClassifier()\n",
    "clf = clf.fit(X,y)\n",
    "clf"
   ]
  },
  {
   "cell_type": "markdown",
   "metadata": {},
   "source": [
    "---\n",
    "p30"
   ]
  },
  {
   "cell_type": "markdown",
   "metadata": {},
   "source": [
    "## Predicting using the Model"
   ]
  },
  {
   "cell_type": "markdown",
   "metadata": {},
   "source": [
    "* **Tset dataset**\n",
    "  - 2 new instances"
   ]
  },
  {
   "cell_type": "code",
   "execution_count": 138,
   "metadata": {
    "collapsed": true
   },
   "outputs": [],
   "source": [
    "X_test = np.array([[0, 0, 0],\n",
    "                   [1, 1, 0]])\n",
    "y_test = np.array([0, 1])"
   ]
  },
  {
   "cell_type": "markdown",
   "metadata": {},
   "source": [
    "---\n",
    "p31"
   ]
  },
  {
   "cell_type": "markdown",
   "metadata": {},
   "source": [
    "* **Predicting labels - predict**\n",
    "    - Predict the label of new x using the learned model"
   ]
  },
  {
   "cell_type": "code",
   "execution_count": 139,
   "metadata": {
    "collapsed": true
   },
   "outputs": [
    {
     "output_type": "execute_result",
     "data": {
      "text/plain": [
       "array([0, 1])"
      ]
     },
     "metadata": {},
     "execution_count": 139
    }
   ],
   "source": [
    "predicted = clf.predict(X_test)\n",
    "predicted"
   ]
  },
  {
   "cell_type": "markdown",
   "metadata": {},
   "source": [
    "* **Evaluation : Accuracy**"
   ]
  },
  {
   "cell_type": "code",
   "execution_count": 140,
   "metadata": {
    "collapsed": true
   },
   "outputs": [
    {
     "output_type": "execute_result",
     "data": {
      "text/plain": [
       "100.0"
      ]
     },
     "metadata": {},
     "execution_count": 140
    }
   ],
   "source": [
    "# Accuracy\n",
    "acc = 100 * np.sum(y_test == predicted) / len(y_test)\n",
    "acc"
   ]
  },
  {
   "cell_type": "markdown",
   "metadata": {},
   "source": [
    "---\n",
    "p32"
   ]
  },
  {
   "cell_type": "markdown",
   "metadata": {},
   "source": [
    "## Visualize the Model"
   ]
  },
  {
   "cell_type": "markdown",
   "metadata": {},
   "source": [
    "* **Visualizing Decision Tree model using graphviz**"
   ]
  },
  {
   "cell_type": "code",
   "execution_count": 141,
   "metadata": {
    "collapsed": true
   },
   "outputs": [],
   "source": [
    "# Install graphviz package\n",
    "# Run this cell!!!\n",
    "try:\n",
    "    import graphviz\n",
    "except:\n",
    "    !pip install graphviz\n",
    "    import graphviz"
   ]
  },
  {
   "cell_type": "code",
   "execution_count": 142,
   "metadata": {
    "collapsed": true,
    "scrolled": true
   },
   "outputs": [
    {
     "output_type": "execute_result",
     "data": {
      "text/plain": [
       "[Text(167.4, 163.07999999999998, 'X[1] <= 0.5\\ngini = 0.48\\nsamples = 5\\nvalue = [2, 3]'),\n",
       " Text(83.7, 54.360000000000014, 'gini = 0.0\\nsamples = 2\\nvalue = [2, 0]'),\n",
       " Text(251.10000000000002, 54.360000000000014, 'gini = 0.0\\nsamples = 3\\nvalue = [0, 3]')]"
      ]
     },
     "metadata": {},
     "execution_count": 142
    },
    {
     "output_type": "display_data",
     "data": {
      "text/plain": "<Figure size 432x288 with 1 Axes>",
      "image/svg+xml": "<?xml version=\"1.0\" encoding=\"utf-8\" standalone=\"no\"?>\r\n<!DOCTYPE svg PUBLIC \"-//W3C//DTD SVG 1.1//EN\"\r\n  \"http://www.w3.org/Graphics/SVG/1.1/DTD/svg11.dtd\">\r\n<!-- Created with matplotlib (https://matplotlib.org/) -->\r\n<svg height=\"231.84pt\" version=\"1.1\" viewBox=\"0 0 349.2 231.84\" width=\"349.2pt\" xmlns=\"http://www.w3.org/2000/svg\" xmlns:xlink=\"http://www.w3.org/1999/xlink\">\r\n <metadata>\r\n  <rdf:RDF xmlns:cc=\"http://creativecommons.org/ns#\" xmlns:dc=\"http://purl.org/dc/elements/1.1/\" xmlns:rdf=\"http://www.w3.org/1999/02/22-rdf-syntax-ns#\">\r\n   <cc:Work>\r\n    <dc:type rdf:resource=\"http://purl.org/dc/dcmitype/StillImage\"/>\r\n    <dc:date>2021-03-18T17:52:57.818431</dc:date>\r\n    <dc:format>image/svg+xml</dc:format>\r\n    <dc:creator>\r\n     <cc:Agent>\r\n      <dc:title>Matplotlib v3.3.2, https://matplotlib.org/</dc:title>\r\n     </cc:Agent>\r\n    </dc:creator>\r\n   </cc:Work>\r\n  </rdf:RDF>\r\n </metadata>\r\n <defs>\r\n  <style type=\"text/css\">*{stroke-linecap:butt;stroke-linejoin:round;}</style>\r\n </defs>\r\n <g id=\"figure_1\">\r\n  <g id=\"patch_1\">\r\n   <path d=\"M 0 231.84 \r\nL 349.2 231.84 \r\nL 349.2 0 \r\nL 0 0 \r\nz\r\n\" style=\"fill:none;\"/>\r\n  </g>\r\n  <g id=\"axes_1\">\r\n   <g id=\"patch_2\">\r\n    <path d=\"M 124.553898 126.566119 \r\nQ 148.625208 95.2993 173.378549 63.146573 \r\n\" style=\"fill:none;stroke:#000000;stroke-linecap:round;\"/>\r\n    <path d=\"M 133.167756 122.393957 \r\nL 124.553898 126.566119 \r\nL 126.384483 117.171736 \r\n\" style=\"fill:none;stroke:#000000;stroke-linecap:round;\"/>\r\n   </g>\r\n   <g id=\"text_1\">\r\n    <g id=\"patch_3\">\r\n     <path d=\"M 17.133119 211.02191 \r\nL 164.666881 211.02191 \r\nQ 171.087354 211.02191 171.087354 204.601438 \r\nL 171.087354 135.958562 \r\nQ 171.087354 129.53809 164.666881 129.53809 \r\nL 17.133119 129.53809 \r\nQ 10.712646 129.53809 10.712646 135.958562 \r\nL 10.712646 204.601438 \r\nQ 10.712646 211.02191 17.133119 211.02191 \r\nz\r\n\" style=\"fill:#e58139;stroke:#000000;stroke-linejoin:miter;\"/>\r\n    </g>\r\n    <!-- gini = 0.0 -->\r\n    <g transform=\"translate(38.593214 152.220415)scale(0.214016 -0.214016)\">\r\n     <defs>\r\n      <path d=\"M 45.40625 27.984375 \r\nQ 45.40625 37.75 41.375 43.109375 \r\nQ 37.359375 48.484375 30.078125 48.484375 \r\nQ 22.859375 48.484375 18.828125 43.109375 \r\nQ 14.796875 37.75 14.796875 27.984375 \r\nQ 14.796875 18.265625 18.828125 12.890625 \r\nQ 22.859375 7.515625 30.078125 7.515625 \r\nQ 37.359375 7.515625 41.375 12.890625 \r\nQ 45.40625 18.265625 45.40625 27.984375 \r\nz\r\nM 54.390625 6.78125 \r\nQ 54.390625 -7.171875 48.1875 -13.984375 \r\nQ 42 -20.796875 29.203125 -20.796875 \r\nQ 24.46875 -20.796875 20.265625 -20.09375 \r\nQ 16.0625 -19.390625 12.109375 -17.921875 \r\nL 12.109375 -9.1875 \r\nQ 16.0625 -11.328125 19.921875 -12.34375 \r\nQ 23.78125 -13.375 27.78125 -13.375 \r\nQ 36.625 -13.375 41.015625 -8.765625 \r\nQ 45.40625 -4.15625 45.40625 5.171875 \r\nL 45.40625 9.625 \r\nQ 42.625 4.78125 38.28125 2.390625 \r\nQ 33.9375 0 27.875 0 \r\nQ 17.828125 0 11.671875 7.65625 \r\nQ 5.515625 15.328125 5.515625 27.984375 \r\nQ 5.515625 40.671875 11.671875 48.328125 \r\nQ 17.828125 56 27.875 56 \r\nQ 33.9375 56 38.28125 53.609375 \r\nQ 42.625 51.21875 45.40625 46.390625 \r\nL 45.40625 54.6875 \r\nL 54.390625 54.6875 \r\nz\r\n\" id=\"DejaVuSans-103\"/>\r\n      <path d=\"M 9.421875 54.6875 \r\nL 18.40625 54.6875 \r\nL 18.40625 0 \r\nL 9.421875 0 \r\nz\r\nM 9.421875 75.984375 \r\nL 18.40625 75.984375 \r\nL 18.40625 64.59375 \r\nL 9.421875 64.59375 \r\nz\r\n\" id=\"DejaVuSans-105\"/>\r\n      <path d=\"M 54.890625 33.015625 \r\nL 54.890625 0 \r\nL 45.90625 0 \r\nL 45.90625 32.71875 \r\nQ 45.90625 40.484375 42.875 44.328125 \r\nQ 39.84375 48.1875 33.796875 48.1875 \r\nQ 26.515625 48.1875 22.3125 43.546875 \r\nQ 18.109375 38.921875 18.109375 30.90625 \r\nL 18.109375 0 \r\nL 9.078125 0 \r\nL 9.078125 54.6875 \r\nL 18.109375 54.6875 \r\nL 18.109375 46.1875 \r\nQ 21.34375 51.125 25.703125 53.5625 \r\nQ 30.078125 56 35.796875 56 \r\nQ 45.21875 56 50.046875 50.171875 \r\nQ 54.890625 44.34375 54.890625 33.015625 \r\nz\r\n\" id=\"DejaVuSans-110\"/>\r\n      <path id=\"DejaVuSans-32\"/>\r\n      <path d=\"M 10.59375 45.40625 \r\nL 73.1875 45.40625 \r\nL 73.1875 37.203125 \r\nL 10.59375 37.203125 \r\nz\r\nM 10.59375 25.484375 \r\nL 73.1875 25.484375 \r\nL 73.1875 17.1875 \r\nL 10.59375 17.1875 \r\nz\r\n\" id=\"DejaVuSans-61\"/>\r\n      <path d=\"M 31.78125 66.40625 \r\nQ 24.171875 66.40625 20.328125 58.90625 \r\nQ 16.5 51.421875 16.5 36.375 \r\nQ 16.5 21.390625 20.328125 13.890625 \r\nQ 24.171875 6.390625 31.78125 6.390625 \r\nQ 39.453125 6.390625 43.28125 13.890625 \r\nQ 47.125 21.390625 47.125 36.375 \r\nQ 47.125 51.421875 43.28125 58.90625 \r\nQ 39.453125 66.40625 31.78125 66.40625 \r\nz\r\nM 31.78125 74.21875 \r\nQ 44.046875 74.21875 50.515625 64.515625 \r\nQ 56.984375 54.828125 56.984375 36.375 \r\nQ 56.984375 17.96875 50.515625 8.265625 \r\nQ 44.046875 -1.421875 31.78125 -1.421875 \r\nQ 19.53125 -1.421875 13.0625 8.265625 \r\nQ 6.59375 17.96875 6.59375 36.375 \r\nQ 6.59375 54.828125 13.0625 64.515625 \r\nQ 19.53125 74.21875 31.78125 74.21875 \r\nz\r\n\" id=\"DejaVuSans-48\"/>\r\n      <path d=\"M 10.6875 12.40625 \r\nL 21 12.40625 \r\nL 21 0 \r\nL 10.6875 0 \r\nz\r\n\" id=\"DejaVuSans-46\"/>\r\n     </defs>\r\n     <use xlink:href=\"#DejaVuSans-103\"/>\r\n     <use x=\"63.476562\" xlink:href=\"#DejaVuSans-105\"/>\r\n     <use x=\"91.259766\" xlink:href=\"#DejaVuSans-110\"/>\r\n     <use x=\"154.638672\" xlink:href=\"#DejaVuSans-105\"/>\r\n     <use x=\"182.421875\" xlink:href=\"#DejaVuSans-32\"/>\r\n     <use x=\"214.208984\" xlink:href=\"#DejaVuSans-61\"/>\r\n     <use x=\"297.998047\" xlink:href=\"#DejaVuSans-32\"/>\r\n     <use x=\"329.785156\" xlink:href=\"#DejaVuSans-48\"/>\r\n     <use x=\"393.408203\" xlink:href=\"#DejaVuSans-46\"/>\r\n     <use x=\"425.195312\" xlink:href=\"#DejaVuSans-48\"/>\r\n    </g>\r\n    <!-- samples = 2 -->\r\n    <g transform=\"translate(23.842847 176.185497)scale(0.214016 -0.214016)\">\r\n     <defs>\r\n      <path d=\"M 44.28125 53.078125 \r\nL 44.28125 44.578125 \r\nQ 40.484375 46.53125 36.375 47.5 \r\nQ 32.28125 48.484375 27.875 48.484375 \r\nQ 21.1875 48.484375 17.84375 46.4375 \r\nQ 14.5 44.390625 14.5 40.28125 \r\nQ 14.5 37.15625 16.890625 35.375 \r\nQ 19.28125 33.59375 26.515625 31.984375 \r\nL 29.59375 31.296875 \r\nQ 39.15625 29.25 43.1875 25.515625 \r\nQ 47.21875 21.78125 47.21875 15.09375 \r\nQ 47.21875 7.46875 41.1875 3.015625 \r\nQ 35.15625 -1.421875 24.609375 -1.421875 \r\nQ 20.21875 -1.421875 15.453125 -0.5625 \r\nQ 10.6875 0.296875 5.421875 2 \r\nL 5.421875 11.28125 \r\nQ 10.40625 8.6875 15.234375 7.390625 \r\nQ 20.0625 6.109375 24.8125 6.109375 \r\nQ 31.15625 6.109375 34.5625 8.28125 \r\nQ 37.984375 10.453125 37.984375 14.40625 \r\nQ 37.984375 18.0625 35.515625 20.015625 \r\nQ 33.0625 21.96875 24.703125 23.78125 \r\nL 21.578125 24.515625 \r\nQ 13.234375 26.265625 9.515625 29.90625 \r\nQ 5.8125 33.546875 5.8125 39.890625 \r\nQ 5.8125 47.609375 11.28125 51.796875 \r\nQ 16.75 56 26.8125 56 \r\nQ 31.78125 56 36.171875 55.265625 \r\nQ 40.578125 54.546875 44.28125 53.078125 \r\nz\r\n\" id=\"DejaVuSans-115\"/>\r\n      <path d=\"M 34.28125 27.484375 \r\nQ 23.390625 27.484375 19.1875 25 \r\nQ 14.984375 22.515625 14.984375 16.5 \r\nQ 14.984375 11.71875 18.140625 8.90625 \r\nQ 21.296875 6.109375 26.703125 6.109375 \r\nQ 34.1875 6.109375 38.703125 11.40625 \r\nQ 43.21875 16.703125 43.21875 25.484375 \r\nL 43.21875 27.484375 \r\nz\r\nM 52.203125 31.203125 \r\nL 52.203125 0 \r\nL 43.21875 0 \r\nL 43.21875 8.296875 \r\nQ 40.140625 3.328125 35.546875 0.953125 \r\nQ 30.953125 -1.421875 24.3125 -1.421875 \r\nQ 15.921875 -1.421875 10.953125 3.296875 \r\nQ 6 8.015625 6 15.921875 \r\nQ 6 25.140625 12.171875 29.828125 \r\nQ 18.359375 34.515625 30.609375 34.515625 \r\nL 43.21875 34.515625 \r\nL 43.21875 35.40625 \r\nQ 43.21875 41.609375 39.140625 45 \r\nQ 35.0625 48.390625 27.6875 48.390625 \r\nQ 23 48.390625 18.546875 47.265625 \r\nQ 14.109375 46.140625 10.015625 43.890625 \r\nL 10.015625 52.203125 \r\nQ 14.9375 54.109375 19.578125 55.046875 \r\nQ 24.21875 56 28.609375 56 \r\nQ 40.484375 56 46.34375 49.84375 \r\nQ 52.203125 43.703125 52.203125 31.203125 \r\nz\r\n\" id=\"DejaVuSans-97\"/>\r\n      <path d=\"M 52 44.1875 \r\nQ 55.375 50.25 60.0625 53.125 \r\nQ 64.75 56 71.09375 56 \r\nQ 79.640625 56 84.28125 50.015625 \r\nQ 88.921875 44.046875 88.921875 33.015625 \r\nL 88.921875 0 \r\nL 79.890625 0 \r\nL 79.890625 32.71875 \r\nQ 79.890625 40.578125 77.09375 44.375 \r\nQ 74.3125 48.1875 68.609375 48.1875 \r\nQ 61.625 48.1875 57.5625 43.546875 \r\nQ 53.515625 38.921875 53.515625 30.90625 \r\nL 53.515625 0 \r\nL 44.484375 0 \r\nL 44.484375 32.71875 \r\nQ 44.484375 40.625 41.703125 44.40625 \r\nQ 38.921875 48.1875 33.109375 48.1875 \r\nQ 26.21875 48.1875 22.15625 43.53125 \r\nQ 18.109375 38.875 18.109375 30.90625 \r\nL 18.109375 0 \r\nL 9.078125 0 \r\nL 9.078125 54.6875 \r\nL 18.109375 54.6875 \r\nL 18.109375 46.1875 \r\nQ 21.1875 51.21875 25.484375 53.609375 \r\nQ 29.78125 56 35.6875 56 \r\nQ 41.65625 56 45.828125 52.96875 \r\nQ 50 49.953125 52 44.1875 \r\nz\r\n\" id=\"DejaVuSans-109\"/>\r\n      <path d=\"M 18.109375 8.203125 \r\nL 18.109375 -20.796875 \r\nL 9.078125 -20.796875 \r\nL 9.078125 54.6875 \r\nL 18.109375 54.6875 \r\nL 18.109375 46.390625 \r\nQ 20.953125 51.265625 25.265625 53.625 \r\nQ 29.59375 56 35.59375 56 \r\nQ 45.5625 56 51.78125 48.09375 \r\nQ 58.015625 40.1875 58.015625 27.296875 \r\nQ 58.015625 14.40625 51.78125 6.484375 \r\nQ 45.5625 -1.421875 35.59375 -1.421875 \r\nQ 29.59375 -1.421875 25.265625 0.953125 \r\nQ 20.953125 3.328125 18.109375 8.203125 \r\nz\r\nM 48.6875 27.296875 \r\nQ 48.6875 37.203125 44.609375 42.84375 \r\nQ 40.53125 48.484375 33.40625 48.484375 \r\nQ 26.265625 48.484375 22.1875 42.84375 \r\nQ 18.109375 37.203125 18.109375 27.296875 \r\nQ 18.109375 17.390625 22.1875 11.75 \r\nQ 26.265625 6.109375 33.40625 6.109375 \r\nQ 40.53125 6.109375 44.609375 11.75 \r\nQ 48.6875 17.390625 48.6875 27.296875 \r\nz\r\n\" id=\"DejaVuSans-112\"/>\r\n      <path d=\"M 9.421875 75.984375 \r\nL 18.40625 75.984375 \r\nL 18.40625 0 \r\nL 9.421875 0 \r\nz\r\n\" id=\"DejaVuSans-108\"/>\r\n      <path d=\"M 56.203125 29.59375 \r\nL 56.203125 25.203125 \r\nL 14.890625 25.203125 \r\nQ 15.484375 15.921875 20.484375 11.0625 \r\nQ 25.484375 6.203125 34.421875 6.203125 \r\nQ 39.59375 6.203125 44.453125 7.46875 \r\nQ 49.3125 8.734375 54.109375 11.28125 \r\nL 54.109375 2.78125 \r\nQ 49.265625 0.734375 44.1875 -0.34375 \r\nQ 39.109375 -1.421875 33.890625 -1.421875 \r\nQ 20.796875 -1.421875 13.15625 6.1875 \r\nQ 5.515625 13.8125 5.515625 26.8125 \r\nQ 5.515625 40.234375 12.765625 48.109375 \r\nQ 20.015625 56 32.328125 56 \r\nQ 43.359375 56 49.78125 48.890625 \r\nQ 56.203125 41.796875 56.203125 29.59375 \r\nz\r\nM 47.21875 32.234375 \r\nQ 47.125 39.59375 43.09375 43.984375 \r\nQ 39.0625 48.390625 32.421875 48.390625 \r\nQ 24.90625 48.390625 20.390625 44.140625 \r\nQ 15.875 39.890625 15.1875 32.171875 \r\nz\r\n\" id=\"DejaVuSans-101\"/>\r\n      <path d=\"M 19.1875 8.296875 \r\nL 53.609375 8.296875 \r\nL 53.609375 0 \r\nL 7.328125 0 \r\nL 7.328125 8.296875 \r\nQ 12.9375 14.109375 22.625 23.890625 \r\nQ 32.328125 33.6875 34.8125 36.53125 \r\nQ 39.546875 41.84375 41.421875 45.53125 \r\nQ 43.3125 49.21875 43.3125 52.78125 \r\nQ 43.3125 58.59375 39.234375 62.25 \r\nQ 35.15625 65.921875 28.609375 65.921875 \r\nQ 23.96875 65.921875 18.8125 64.3125 \r\nQ 13.671875 62.703125 7.8125 59.421875 \r\nL 7.8125 69.390625 \r\nQ 13.765625 71.78125 18.9375 73 \r\nQ 24.125 74.21875 28.421875 74.21875 \r\nQ 39.75 74.21875 46.484375 68.546875 \r\nQ 53.21875 62.890625 53.21875 53.421875 \r\nQ 53.21875 48.921875 51.53125 44.890625 \r\nQ 49.859375 40.875 45.40625 35.40625 \r\nQ 44.1875 33.984375 37.640625 27.21875 \r\nQ 31.109375 20.453125 19.1875 8.296875 \r\nz\r\n\" id=\"DejaVuSans-50\"/>\r\n     </defs>\r\n     <use xlink:href=\"#DejaVuSans-115\"/>\r\n     <use x=\"52.099609\" xlink:href=\"#DejaVuSans-97\"/>\r\n     <use x=\"113.378906\" xlink:href=\"#DejaVuSans-109\"/>\r\n     <use x=\"210.791016\" xlink:href=\"#DejaVuSans-112\"/>\r\n     <use x=\"274.267578\" xlink:href=\"#DejaVuSans-108\"/>\r\n     <use x=\"302.050781\" xlink:href=\"#DejaVuSans-101\"/>\r\n     <use x=\"363.574219\" xlink:href=\"#DejaVuSans-115\"/>\r\n     <use x=\"415.673828\" xlink:href=\"#DejaVuSans-32\"/>\r\n     <use x=\"447.460938\" xlink:href=\"#DejaVuSans-61\"/>\r\n     <use x=\"531.25\" xlink:href=\"#DejaVuSans-32\"/>\r\n     <use x=\"563.037109\" xlink:href=\"#DejaVuSans-50\"/>\r\n    </g>\r\n    <!-- value = [2, 0] -->\r\n    <g transform=\"translate(17.133119 200.150579)scale(0.214016 -0.214016)\">\r\n     <defs>\r\n      <path d=\"M 2.984375 54.6875 \r\nL 12.5 54.6875 \r\nL 29.59375 8.796875 \r\nL 46.6875 54.6875 \r\nL 56.203125 54.6875 \r\nL 35.6875 0 \r\nL 23.484375 0 \r\nz\r\n\" id=\"DejaVuSans-118\"/>\r\n      <path d=\"M 8.5 21.578125 \r\nL 8.5 54.6875 \r\nL 17.484375 54.6875 \r\nL 17.484375 21.921875 \r\nQ 17.484375 14.15625 20.5 10.265625 \r\nQ 23.53125 6.390625 29.59375 6.390625 \r\nQ 36.859375 6.390625 41.078125 11.03125 \r\nQ 45.3125 15.671875 45.3125 23.6875 \r\nL 45.3125 54.6875 \r\nL 54.296875 54.6875 \r\nL 54.296875 0 \r\nL 45.3125 0 \r\nL 45.3125 8.40625 \r\nQ 42.046875 3.421875 37.71875 1 \r\nQ 33.40625 -1.421875 27.6875 -1.421875 \r\nQ 18.265625 -1.421875 13.375 4.4375 \r\nQ 8.5 10.296875 8.5 21.578125 \r\nz\r\nM 31.109375 56 \r\nz\r\n\" id=\"DejaVuSans-117\"/>\r\n      <path d=\"M 8.59375 75.984375 \r\nL 29.296875 75.984375 \r\nL 29.296875 69 \r\nL 17.578125 69 \r\nL 17.578125 -6.203125 \r\nL 29.296875 -6.203125 \r\nL 29.296875 -13.1875 \r\nL 8.59375 -13.1875 \r\nz\r\n\" id=\"DejaVuSans-91\"/>\r\n      <path d=\"M 11.71875 12.40625 \r\nL 22.015625 12.40625 \r\nL 22.015625 4 \r\nL 14.015625 -11.625 \r\nL 7.71875 -11.625 \r\nL 11.71875 4 \r\nz\r\n\" id=\"DejaVuSans-44\"/>\r\n      <path d=\"M 30.421875 75.984375 \r\nL 30.421875 -13.1875 \r\nL 9.71875 -13.1875 \r\nL 9.71875 -6.203125 \r\nL 21.390625 -6.203125 \r\nL 21.390625 69 \r\nL 9.71875 69 \r\nL 9.71875 75.984375 \r\nz\r\n\" id=\"DejaVuSans-93\"/>\r\n     </defs>\r\n     <use xlink:href=\"#DejaVuSans-118\"/>\r\n     <use x=\"59.179688\" xlink:href=\"#DejaVuSans-97\"/>\r\n     <use x=\"120.458984\" xlink:href=\"#DejaVuSans-108\"/>\r\n     <use x=\"148.242188\" xlink:href=\"#DejaVuSans-117\"/>\r\n     <use x=\"211.621094\" xlink:href=\"#DejaVuSans-101\"/>\r\n     <use x=\"273.144531\" xlink:href=\"#DejaVuSans-32\"/>\r\n     <use x=\"304.931641\" xlink:href=\"#DejaVuSans-61\"/>\r\n     <use x=\"388.720703\" xlink:href=\"#DejaVuSans-32\"/>\r\n     <use x=\"420.507812\" xlink:href=\"#DejaVuSans-91\"/>\r\n     <use x=\"459.521484\" xlink:href=\"#DejaVuSans-50\"/>\r\n     <use x=\"523.144531\" xlink:href=\"#DejaVuSans-44\"/>\r\n     <use x=\"554.931641\" xlink:href=\"#DejaVuSans-32\"/>\r\n     <use x=\"586.71875\" xlink:href=\"#DejaVuSans-48\"/>\r\n     <use x=\"650.341797\" xlink:href=\"#DejaVuSans-93\"/>\r\n    </g>\r\n   </g>\r\n   <g id=\"patch_4\">\r\n    <path d=\"M 224.646102 126.566119 \r\nQ 200.574792 95.2993 175.821451 63.146573 \r\n\" style=\"fill:none;stroke:#000000;stroke-linecap:round;\"/>\r\n    <path d=\"M 222.815517 117.171736 \r\nL 224.646102 126.566119 \r\nL 216.032244 122.393957 \r\n\" style=\"fill:none;stroke:#000000;stroke-linecap:round;\"/>\r\n   </g>\r\n   <g id=\"text_2\">\r\n    <g id=\"patch_5\">\r\n     <path d=\"M 184.533119 211.02191 \r\nL 332.066881 211.02191 \r\nQ 338.487354 211.02191 338.487354 204.601438 \r\nL 338.487354 135.958562 \r\nQ 338.487354 129.53809 332.066881 129.53809 \r\nL 184.533119 129.53809 \r\nQ 178.112646 129.53809 178.112646 135.958562 \r\nL 178.112646 204.601438 \r\nQ 178.112646 211.02191 184.533119 211.02191 \r\nz\r\n\" style=\"fill:#399de5;stroke:#000000;stroke-linejoin:miter;\"/>\r\n    </g>\r\n    <!-- gini = 0.0 -->\r\n    <g transform=\"translate(205.993214 152.220415)scale(0.214016 -0.214016)\">\r\n     <use xlink:href=\"#DejaVuSans-103\"/>\r\n     <use x=\"63.476562\" xlink:href=\"#DejaVuSans-105\"/>\r\n     <use x=\"91.259766\" xlink:href=\"#DejaVuSans-110\"/>\r\n     <use x=\"154.638672\" xlink:href=\"#DejaVuSans-105\"/>\r\n     <use x=\"182.421875\" xlink:href=\"#DejaVuSans-32\"/>\r\n     <use x=\"214.208984\" xlink:href=\"#DejaVuSans-61\"/>\r\n     <use x=\"297.998047\" xlink:href=\"#DejaVuSans-32\"/>\r\n     <use x=\"329.785156\" xlink:href=\"#DejaVuSans-48\"/>\r\n     <use x=\"393.408203\" xlink:href=\"#DejaVuSans-46\"/>\r\n     <use x=\"425.195312\" xlink:href=\"#DejaVuSans-48\"/>\r\n    </g>\r\n    <!-- samples = 3 -->\r\n    <g transform=\"translate(191.242847 176.185497)scale(0.214016 -0.214016)\">\r\n     <defs>\r\n      <path d=\"M 40.578125 39.3125 \r\nQ 47.65625 37.796875 51.625 33 \r\nQ 55.609375 28.21875 55.609375 21.1875 \r\nQ 55.609375 10.40625 48.1875 4.484375 \r\nQ 40.765625 -1.421875 27.09375 -1.421875 \r\nQ 22.515625 -1.421875 17.65625 -0.515625 \r\nQ 12.796875 0.390625 7.625 2.203125 \r\nL 7.625 11.71875 \r\nQ 11.71875 9.328125 16.59375 8.109375 \r\nQ 21.484375 6.890625 26.8125 6.890625 \r\nQ 36.078125 6.890625 40.9375 10.546875 \r\nQ 45.796875 14.203125 45.796875 21.1875 \r\nQ 45.796875 27.640625 41.28125 31.265625 \r\nQ 36.765625 34.90625 28.71875 34.90625 \r\nL 20.21875 34.90625 \r\nL 20.21875 43.015625 \r\nL 29.109375 43.015625 \r\nQ 36.375 43.015625 40.234375 45.921875 \r\nQ 44.09375 48.828125 44.09375 54.296875 \r\nQ 44.09375 59.90625 40.109375 62.90625 \r\nQ 36.140625 65.921875 28.71875 65.921875 \r\nQ 24.65625 65.921875 20.015625 65.03125 \r\nQ 15.375 64.15625 9.8125 62.3125 \r\nL 9.8125 71.09375 \r\nQ 15.4375 72.65625 20.34375 73.4375 \r\nQ 25.25 74.21875 29.59375 74.21875 \r\nQ 40.828125 74.21875 47.359375 69.109375 \r\nQ 53.90625 64.015625 53.90625 55.328125 \r\nQ 53.90625 49.265625 50.4375 45.09375 \r\nQ 46.96875 40.921875 40.578125 39.3125 \r\nz\r\n\" id=\"DejaVuSans-51\"/>\r\n     </defs>\r\n     <use xlink:href=\"#DejaVuSans-115\"/>\r\n     <use x=\"52.099609\" xlink:href=\"#DejaVuSans-97\"/>\r\n     <use x=\"113.378906\" xlink:href=\"#DejaVuSans-109\"/>\r\n     <use x=\"210.791016\" xlink:href=\"#DejaVuSans-112\"/>\r\n     <use x=\"274.267578\" xlink:href=\"#DejaVuSans-108\"/>\r\n     <use x=\"302.050781\" xlink:href=\"#DejaVuSans-101\"/>\r\n     <use x=\"363.574219\" xlink:href=\"#DejaVuSans-115\"/>\r\n     <use x=\"415.673828\" xlink:href=\"#DejaVuSans-32\"/>\r\n     <use x=\"447.460938\" xlink:href=\"#DejaVuSans-61\"/>\r\n     <use x=\"531.25\" xlink:href=\"#DejaVuSans-32\"/>\r\n     <use x=\"563.037109\" xlink:href=\"#DejaVuSans-51\"/>\r\n    </g>\r\n    <!-- value = [0, 3] -->\r\n    <g transform=\"translate(184.533119 200.150579)scale(0.214016 -0.214016)\">\r\n     <use xlink:href=\"#DejaVuSans-118\"/>\r\n     <use x=\"59.179688\" xlink:href=\"#DejaVuSans-97\"/>\r\n     <use x=\"120.458984\" xlink:href=\"#DejaVuSans-108\"/>\r\n     <use x=\"148.242188\" xlink:href=\"#DejaVuSans-117\"/>\r\n     <use x=\"211.621094\" xlink:href=\"#DejaVuSans-101\"/>\r\n     <use x=\"273.144531\" xlink:href=\"#DejaVuSans-32\"/>\r\n     <use x=\"304.931641\" xlink:href=\"#DejaVuSans-61\"/>\r\n     <use x=\"388.720703\" xlink:href=\"#DejaVuSans-32\"/>\r\n     <use x=\"420.507812\" xlink:href=\"#DejaVuSans-91\"/>\r\n     <use x=\"459.521484\" xlink:href=\"#DejaVuSans-48\"/>\r\n     <use x=\"523.144531\" xlink:href=\"#DejaVuSans-44\"/>\r\n     <use x=\"554.931641\" xlink:href=\"#DejaVuSans-32\"/>\r\n     <use x=\"586.71875\" xlink:href=\"#DejaVuSans-51\"/>\r\n     <use x=\"650.341797\" xlink:href=\"#DejaVuSans-93\"/>\r\n    </g>\r\n   </g>\r\n   <g id=\"text_3\">\r\n    <g id=\"patch_6\">\r\n     <path d=\"M 100.833119 114.284452 \r\nL 248.366881 114.284452 \r\nQ 254.787354 114.284452 254.787354 107.863979 \r\nL 254.787354 15.256021 \r\nQ 254.787354 8.835548 248.366881 8.835548 \r\nL 100.833119 8.835548 \r\nQ 94.412646 8.835548 94.412646 15.256021 \r\nL 94.412646 107.863979 \r\nQ 94.412646 114.284452 100.833119 114.284452 \r\nz\r\n\" style=\"fill:#bddef6;stroke:#000000;stroke-linejoin:miter;\"/>\r\n    </g>\r\n    <!-- X[1] &lt;= 0.5 -->\r\n    <g transform=\"translate(110.358492 31.517874)scale(0.214016 -0.214016)\">\r\n     <defs>\r\n      <path d=\"M 6.296875 72.90625 \r\nL 16.890625 72.90625 \r\nL 35.015625 45.796875 \r\nL 53.21875 72.90625 \r\nL 63.8125 72.90625 \r\nL 40.375 37.890625 \r\nL 65.375 0 \r\nL 54.78125 0 \r\nL 34.28125 31 \r\nL 13.625 0 \r\nL 2.984375 0 \r\nL 29 38.921875 \r\nz\r\n\" id=\"DejaVuSans-88\"/>\r\n      <path d=\"M 12.40625 8.296875 \r\nL 28.515625 8.296875 \r\nL 28.515625 63.921875 \r\nL 10.984375 60.40625 \r\nL 10.984375 69.390625 \r\nL 28.421875 72.90625 \r\nL 38.28125 72.90625 \r\nL 38.28125 8.296875 \r\nL 54.390625 8.296875 \r\nL 54.390625 0 \r\nL 12.40625 0 \r\nz\r\n\" id=\"DejaVuSans-49\"/>\r\n      <path d=\"M 73.1875 49.21875 \r\nL 22.796875 31.296875 \r\nL 73.1875 13.484375 \r\nL 73.1875 4.59375 \r\nL 10.59375 27.296875 \r\nL 10.59375 35.40625 \r\nL 73.1875 58.109375 \r\nz\r\n\" id=\"DejaVuSans-60\"/>\r\n      <path d=\"M 10.796875 72.90625 \r\nL 49.515625 72.90625 \r\nL 49.515625 64.59375 \r\nL 19.828125 64.59375 \r\nL 19.828125 46.734375 \r\nQ 21.96875 47.46875 24.109375 47.828125 \r\nQ 26.265625 48.1875 28.421875 48.1875 \r\nQ 40.625 48.1875 47.75 41.5 \r\nQ 54.890625 34.8125 54.890625 23.390625 \r\nQ 54.890625 11.625 47.5625 5.09375 \r\nQ 40.234375 -1.421875 26.90625 -1.421875 \r\nQ 22.3125 -1.421875 17.546875 -0.640625 \r\nQ 12.796875 0.140625 7.71875 1.703125 \r\nL 7.71875 11.625 \r\nQ 12.109375 9.234375 16.796875 8.0625 \r\nQ 21.484375 6.890625 26.703125 6.890625 \r\nQ 35.15625 6.890625 40.078125 11.328125 \r\nQ 45.015625 15.765625 45.015625 23.390625 \r\nQ 45.015625 31 40.078125 35.4375 \r\nQ 35.15625 39.890625 26.703125 39.890625 \r\nQ 22.75 39.890625 18.8125 39.015625 \r\nQ 14.890625 38.140625 10.796875 36.28125 \r\nz\r\n\" id=\"DejaVuSans-53\"/>\r\n     </defs>\r\n     <use xlink:href=\"#DejaVuSans-88\"/>\r\n     <use x=\"68.505859\" xlink:href=\"#DejaVuSans-91\"/>\r\n     <use x=\"107.519531\" xlink:href=\"#DejaVuSans-49\"/>\r\n     <use x=\"171.142578\" xlink:href=\"#DejaVuSans-93\"/>\r\n     <use x=\"210.15625\" xlink:href=\"#DejaVuSans-32\"/>\r\n     <use x=\"241.943359\" xlink:href=\"#DejaVuSans-60\"/>\r\n     <use x=\"325.732422\" xlink:href=\"#DejaVuSans-61\"/>\r\n     <use x=\"409.521484\" xlink:href=\"#DejaVuSans-32\"/>\r\n     <use x=\"441.308594\" xlink:href=\"#DejaVuSans-48\"/>\r\n     <use x=\"504.931641\" xlink:href=\"#DejaVuSans-46\"/>\r\n     <use x=\"536.71875\" xlink:href=\"#DejaVuSans-53\"/>\r\n    </g>\r\n    <!-- gini = 0.48 -->\r\n    <g transform=\"translate(115.484838 55.482956)scale(0.214016 -0.214016)\">\r\n     <defs>\r\n      <path d=\"M 37.796875 64.3125 \r\nL 12.890625 25.390625 \r\nL 37.796875 25.390625 \r\nz\r\nM 35.203125 72.90625 \r\nL 47.609375 72.90625 \r\nL 47.609375 25.390625 \r\nL 58.015625 25.390625 \r\nL 58.015625 17.1875 \r\nL 47.609375 17.1875 \r\nL 47.609375 0 \r\nL 37.796875 0 \r\nL 37.796875 17.1875 \r\nL 4.890625 17.1875 \r\nL 4.890625 26.703125 \r\nz\r\n\" id=\"DejaVuSans-52\"/>\r\n      <path d=\"M 31.78125 34.625 \r\nQ 24.75 34.625 20.71875 30.859375 \r\nQ 16.703125 27.09375 16.703125 20.515625 \r\nQ 16.703125 13.921875 20.71875 10.15625 \r\nQ 24.75 6.390625 31.78125 6.390625 \r\nQ 38.8125 6.390625 42.859375 10.171875 \r\nQ 46.921875 13.96875 46.921875 20.515625 \r\nQ 46.921875 27.09375 42.890625 30.859375 \r\nQ 38.875 34.625 31.78125 34.625 \r\nz\r\nM 21.921875 38.8125 \r\nQ 15.578125 40.375 12.03125 44.71875 \r\nQ 8.5 49.078125 8.5 55.328125 \r\nQ 8.5 64.0625 14.71875 69.140625 \r\nQ 20.953125 74.21875 31.78125 74.21875 \r\nQ 42.671875 74.21875 48.875 69.140625 \r\nQ 55.078125 64.0625 55.078125 55.328125 \r\nQ 55.078125 49.078125 51.53125 44.71875 \r\nQ 48 40.375 41.703125 38.8125 \r\nQ 48.828125 37.15625 52.796875 32.3125 \r\nQ 56.78125 27.484375 56.78125 20.515625 \r\nQ 56.78125 9.90625 50.3125 4.234375 \r\nQ 43.84375 -1.421875 31.78125 -1.421875 \r\nQ 19.734375 -1.421875 13.25 4.234375 \r\nQ 6.78125 9.90625 6.78125 20.515625 \r\nQ 6.78125 27.484375 10.78125 32.3125 \r\nQ 14.796875 37.15625 21.921875 38.8125 \r\nz\r\nM 18.3125 54.390625 \r\nQ 18.3125 48.734375 21.84375 45.5625 \r\nQ 25.390625 42.390625 31.78125 42.390625 \r\nQ 38.140625 42.390625 41.71875 45.5625 \r\nQ 45.3125 48.734375 45.3125 54.390625 \r\nQ 45.3125 60.0625 41.71875 63.234375 \r\nQ 38.140625 66.40625 31.78125 66.40625 \r\nQ 25.390625 66.40625 21.84375 63.234375 \r\nQ 18.3125 60.0625 18.3125 54.390625 \r\nz\r\n\" id=\"DejaVuSans-56\"/>\r\n     </defs>\r\n     <use xlink:href=\"#DejaVuSans-103\"/>\r\n     <use x=\"63.476562\" xlink:href=\"#DejaVuSans-105\"/>\r\n     <use x=\"91.259766\" xlink:href=\"#DejaVuSans-110\"/>\r\n     <use x=\"154.638672\" xlink:href=\"#DejaVuSans-105\"/>\r\n     <use x=\"182.421875\" xlink:href=\"#DejaVuSans-32\"/>\r\n     <use x=\"214.208984\" xlink:href=\"#DejaVuSans-61\"/>\r\n     <use x=\"297.998047\" xlink:href=\"#DejaVuSans-32\"/>\r\n     <use x=\"329.785156\" xlink:href=\"#DejaVuSans-48\"/>\r\n     <use x=\"393.408203\" xlink:href=\"#DejaVuSans-46\"/>\r\n     <use x=\"425.195312\" xlink:href=\"#DejaVuSans-52\"/>\r\n     <use x=\"488.818359\" xlink:href=\"#DejaVuSans-56\"/>\r\n    </g>\r\n    <!-- samples = 5 -->\r\n    <g transform=\"translate(107.542847 79.448038)scale(0.214016 -0.214016)\">\r\n     <use xlink:href=\"#DejaVuSans-115\"/>\r\n     <use x=\"52.099609\" xlink:href=\"#DejaVuSans-97\"/>\r\n     <use x=\"113.378906\" xlink:href=\"#DejaVuSans-109\"/>\r\n     <use x=\"210.791016\" xlink:href=\"#DejaVuSans-112\"/>\r\n     <use x=\"274.267578\" xlink:href=\"#DejaVuSans-108\"/>\r\n     <use x=\"302.050781\" xlink:href=\"#DejaVuSans-101\"/>\r\n     <use x=\"363.574219\" xlink:href=\"#DejaVuSans-115\"/>\r\n     <use x=\"415.673828\" xlink:href=\"#DejaVuSans-32\"/>\r\n     <use x=\"447.460938\" xlink:href=\"#DejaVuSans-61\"/>\r\n     <use x=\"531.25\" xlink:href=\"#DejaVuSans-32\"/>\r\n     <use x=\"563.037109\" xlink:href=\"#DejaVuSans-53\"/>\r\n    </g>\r\n    <!-- value = [2, 3] -->\r\n    <g transform=\"translate(100.833119 103.41312)scale(0.214016 -0.214016)\">\r\n     <use xlink:href=\"#DejaVuSans-118\"/>\r\n     <use x=\"59.179688\" xlink:href=\"#DejaVuSans-97\"/>\r\n     <use x=\"120.458984\" xlink:href=\"#DejaVuSans-108\"/>\r\n     <use x=\"148.242188\" xlink:href=\"#DejaVuSans-117\"/>\r\n     <use x=\"211.621094\" xlink:href=\"#DejaVuSans-101\"/>\r\n     <use x=\"273.144531\" xlink:href=\"#DejaVuSans-32\"/>\r\n     <use x=\"304.931641\" xlink:href=\"#DejaVuSans-61\"/>\r\n     <use x=\"388.720703\" xlink:href=\"#DejaVuSans-32\"/>\r\n     <use x=\"420.507812\" xlink:href=\"#DejaVuSans-91\"/>\r\n     <use x=\"459.521484\" xlink:href=\"#DejaVuSans-50\"/>\r\n     <use x=\"523.144531\" xlink:href=\"#DejaVuSans-44\"/>\r\n     <use x=\"554.931641\" xlink:href=\"#DejaVuSans-32\"/>\r\n     <use x=\"586.71875\" xlink:href=\"#DejaVuSans-51\"/>\r\n     <use x=\"650.341797\" xlink:href=\"#DejaVuSans-93\"/>\r\n    </g>\r\n   </g>\r\n  </g>\r\n </g>\r\n</svg>\r\n",
      "image/png": "[encoded data removed]"
     },
     "metadata": {
      "needs_background": "light"
     }
    }
   ],
   "source": [
    "from sklearn.tree import plot_tree\n",
    "plot_tree(clf, filled=True, rounded=True)"
   ]
  },
  {
   "cell_type": "markdown",
   "metadata": {},
   "source": [
    "---"
   ]
  },
  {
   "cell_type": "markdown",
   "metadata": {},
   "source": [
    "---\n",
    "p33"
   ]
  },
  {
   "cell_type": "markdown",
   "metadata": {},
   "source": [
    "# Submit\n",
    "- To make sure if you have completed this practice, Submit your practice file(Week03_givencode.ipynb) to e-class.\n",
    "- **Deadline : tomorrow 11:59pm**\n",
    "- Modify your ipynb file name as **“Week03_StudentNum_Name.ipynb”**  \n",
    "   - Ex) ```Week03_2020123456_홍길동.ipynb```   \n",
    "   \n",
    "   \n",
    "  \n",
    "- You can upload this file without taking the quiz, but **homework is provided like a quiz every three weeks**, so it is recommended to take the quiz as well."
   ]
  },
  {
   "cell_type": "markdown",
   "metadata": {},
   "source": [
    "---\n",
    "p34"
   ]
  },
  {
   "cell_type": "markdown",
   "metadata": {},
   "source": [
    "# Quiz 1"
   ]
  },
  {
   "cell_type": "markdown",
   "metadata": {},
   "source": [
    "### 2D array\n",
    "- Make 10 x 10 matrix A using arange(1,101), and print A\n",
    "- Make 2 x 6 matrix B by slicing 0-1 rows 0-5 columns of A, and print B, B transpose\n",
    "- Compute matrix C = 0.1 (B x B transpose) (x : dot product)"
   ]
  },
  {
   "cell_type": "code",
   "execution_count": 143,
   "metadata": {
    "collapsed": true
   },
   "outputs": [
    {
     "output_type": "stream",
     "name": "stdout",
     "text": [
      "[[  1   2   3   4   5   6   7   8   9  10]\n [ 11  12  13  14  15  16  17  18  19  20]\n [ 21  22  23  24  25  26  27  28  29  30]\n [ 31  32  33  34  35  36  37  38  39  40]\n [ 41  42  43  44  45  46  47  48  49  50]\n [ 51  52  53  54  55  56  57  58  59  60]\n [ 61  62  63  64  65  66  67  68  69  70]\n [ 71  72  73  74  75  76  77  78  79  80]\n [ 81  82  83  84  85  86  87  88  89  90]\n [ 91  92  93  94  95  96  97  98  99 100]]\n[[ 1  2  3  4  5  6]\n [11 12 13 14 15 16]]\n[[ 1 11]\n [ 2 12]\n [ 3 13]\n [ 4 14]\n [ 5 15]\n [ 6 16]]\n[[  9.1  30.1]\n [ 30.1 111.1]]\n"
     ]
    }
   ],
   "source": [
    "import numpy as np\n",
    "\n",
    "# make 10 x 10 array A\n",
    "A = np.arange(1,101).reshape(10,10)\n",
    "print(A)\n",
    "\n",
    "# slice the array to B and transpose\n",
    "B = A[:2, :6]\n",
    "print(B)\n",
    "print(B.T) # print B transpose\n",
    "\n",
    "# compute C = 0.1 (B x B transpose)\n",
    "C = 0.1 * B.dot(B.T)\n",
    "print(C)"
   ]
  },
  {
   "cell_type": "markdown",
   "metadata": {},
   "source": [
    "---\n",
    "p35"
   ]
  },
  {
   "cell_type": "markdown",
   "metadata": {},
   "source": [
    "# Quiz 2"
   ]
  },
  {
   "cell_type": "markdown",
   "metadata": {},
   "source": [
    "### Vector computation\n",
    "- From $\\mathbf{x} = [x1, x2, x3]$ and $w = [w1, w2, w3]$ and $b$, $y$ is computed as follows:  \n",
    ">$$ y = \\mathbf{w \\cdot x} + b = w1x1 + w2x2 + w3x3 +b $$\n",
    "- For following $w$, $b$ and $X$, compute $y$ for each row of $X$"
   ]
  },
  {
   "cell_type": "code",
   "execution_count": 144,
   "metadata": {
    "collapsed": true
   },
   "outputs": [
    {
     "output_type": "stream",
     "name": "stdout",
     "text": [
      "[10.1 20.1 30.1 40.1 50.1]\n"
     ]
    }
   ],
   "source": [
    "# X, w, b\n",
    "X = np.array([[2, 4, 7],\n",
    "              [10, 8, 11],\n",
    "              [20, 10, 15],\n",
    "              [15, 25, 20],\n",
    "              [20, 30, 25]])\n",
    "w = np.array([0.5, 0.5, 1.0])\n",
    "b = 0.1\n",
    "\n",
    "# Y = Xw + b\n",
    "Y = X.dot(w) + b\n",
    "print(Y)"
   ]
  },
  {
   "cell_type": "markdown",
   "metadata": {},
   "source": [
    "---\n",
    "p36"
   ]
  },
  {
   "cell_type": "markdown",
   "metadata": {},
   "source": [
    "# Quiz 3"
   ]
  },
  {
   "cell_type": "markdown",
   "metadata": {},
   "source": [
    "### DataFrame and plot\n",
    "- The temperature (temp) and iced americano sales (sale) have the following relation \n",
    "> `sale = 30.08 * temp - 159.47`  \n",
    "- Make a 1D array X from following 'temps' list\n",
    "- Compute 1D array Y for sales using above equation\n",
    "- Make 2D array C such that fist column is X, second column is Y, using vstack() and transpose\n",
    "- Make a DataFrame from C with column names \"Temp\" and \"Sale\" (use column = [\"Temp\", \"Sale\"])\n",
    "- Bar plot 30 * Temp values, and plot Sale values on it as a red line and marker \"o\" (use color=\"red\", marker=\"o\")"
   ]
  },
  {
   "cell_type": "code",
   "execution_count": 145,
   "metadata": {
    "collapsed": true
   },
   "outputs": [
    {
     "output_type": "execute_result",
     "data": {
      "text/plain": [
       "   Temp     Sale\n",
       "0  11.9  198.482\n",
       "1  14.2  267.666\n",
       "2  15.2  297.746\n",
       "3  16.4  333.842\n",
       "4  17.2  357.906\n",
       "5  18.1  384.978\n",
       "6  18.5  397.010\n",
       "7  19.4  424.082\n",
       "8  22.1  505.298\n",
       "9  22.6  520.338"
      ],
      "text/html": "<div>\n<style scoped>\n    .dataframe tbody tr th:only-of-type {\n        vertical-align: middle;\n    }\n\n    .dataframe tbody tr th {\n        vertical-align: top;\n    }\n\n    .dataframe thead th {\n        text-align: right;\n    }\n</style>\n<table border=\"1\" class=\"dataframe\">\n  <thead>\n    <tr style=\"text-align: right;\">\n      <th></th>\n      <th>Temp</th>\n      <th>Sale</th>\n    </tr>\n  </thead>\n  <tbody>\n    <tr>\n      <th>0</th>\n      <td>11.9</td>\n      <td>198.482</td>\n    </tr>\n    <tr>\n      <th>1</th>\n      <td>14.2</td>\n      <td>267.666</td>\n    </tr>\n    <tr>\n      <th>2</th>\n      <td>15.2</td>\n      <td>297.746</td>\n    </tr>\n    <tr>\n      <th>3</th>\n      <td>16.4</td>\n      <td>333.842</td>\n    </tr>\n    <tr>\n      <th>4</th>\n      <td>17.2</td>\n      <td>357.906</td>\n    </tr>\n    <tr>\n      <th>5</th>\n      <td>18.1</td>\n      <td>384.978</td>\n    </tr>\n    <tr>\n      <th>6</th>\n      <td>18.5</td>\n      <td>397.010</td>\n    </tr>\n    <tr>\n      <th>7</th>\n      <td>19.4</td>\n      <td>424.082</td>\n    </tr>\n    <tr>\n      <th>8</th>\n      <td>22.1</td>\n      <td>505.298</td>\n    </tr>\n    <tr>\n      <th>9</th>\n      <td>22.6</td>\n      <td>520.338</td>\n    </tr>\n  </tbody>\n</table>\n</div>"
     },
     "metadata": {},
     "execution_count": 145
    }
   ],
   "source": [
    "import numpy as np\n",
    "import pandas as pd\n",
    "import matplotlib.pyplot as plt\n",
    "\n",
    "temps = [11.9, 14.2, 15.2, 16.4, 17.2, 18.1, 18.5, 19.4, 22.1, 22.6]\n",
    "\n",
    "# make X, compute Y, make C\n",
    "X = np.array(temps)\n",
    "Y = 30.08 * X - 159.47\n",
    "C = np.vstack((X,Y)).T\n",
    "\n",
    "# make DataFrame from array C\n",
    "df = pd.DataFrame(C, columns=[\"Temp\" ,\"Sale\"])\n",
    "df"
   ]
  },
  {
   "cell_type": "code",
   "execution_count": 146,
   "metadata": {
    "collapsed": true,
    "scrolled": true
   },
   "outputs": [
    {
     "output_type": "execute_result",
     "data": {
      "text/plain": [
       "<BarContainer object of 10 artists>"
      ]
     },
     "metadata": {},
     "execution_count": 146
    },
    {
     "output_type": "execute_result",
     "data": {
      "text/plain": [
       "[<matplotlib.lines.Line2D at 0x1f820f77d30>]"
      ]
     },
     "metadata": {},
     "execution_count": 146
    },
    {
     "output_type": "display_data",
     "data": {
      "text/plain": "<Figure size 432x288 with 1 Axes>",
      "image/svg+xml": "<?xml version=\"1.0\" encoding=\"utf-8\" standalone=\"no\"?>\r\n<!DOCTYPE svg PUBLIC \"-//W3C//DTD SVG 1.1//EN\"\r\n  \"http://www.w3.org/Graphics/SVG/1.1/DTD/svg11.dtd\">\r\n<!-- Created with matplotlib (https://matplotlib.org/) -->\r\n<svg height=\"248.682653pt\" version=\"1.1\" viewBox=\"0 0 375.2875 248.682653\" width=\"375.2875pt\" xmlns=\"http://www.w3.org/2000/svg\" xmlns:xlink=\"http://www.w3.org/1999/xlink\">\r\n <metadata>\r\n  <rdf:RDF xmlns:cc=\"http://creativecommons.org/ns#\" xmlns:dc=\"http://purl.org/dc/elements/1.1/\" xmlns:rdf=\"http://www.w3.org/1999/02/22-rdf-syntax-ns#\">\r\n   <cc:Work>\r\n    <dc:type rdf:resource=\"http://purl.org/dc/dcmitype/StillImage\"/>\r\n    <dc:date>2021-03-18T17:52:58.021430</dc:date>\r\n    <dc:format>image/svg+xml</dc:format>\r\n    <dc:creator>\r\n     <cc:Agent>\r\n      <dc:title>Matplotlib v3.3.2, https://matplotlib.org/</dc:title>\r\n     </cc:Agent>\r\n    </dc:creator>\r\n   </cc:Work>\r\n  </rdf:RDF>\r\n </metadata>\r\n <defs>\r\n  <style type=\"text/css\">*{stroke-linecap:butt;stroke-linejoin:round;}</style>\r\n </defs>\r\n <g id=\"figure_1\">\r\n  <g id=\"patch_1\">\r\n   <path d=\"M 0 248.682653 \r\nL 375.2875 248.682653 \r\nL 375.2875 0 \r\nL 0 0 \r\nz\r\n\" style=\"fill:none;\"/>\r\n  </g>\r\n  <g id=\"axes_1\">\r\n   <g id=\"patch_2\">\r\n    <path d=\"M 33.2875 224.804528 \r\nL 368.0875 224.804528 \r\nL 368.0875 7.364528 \r\nL 33.2875 7.364528 \r\nz\r\n\" style=\"fill:#ffffff;\"/>\r\n   </g>\r\n   <g id=\"patch_3\">\r\n    <path clip-path=\"url(#pd21cde12dc)\" d=\"M 48.505682 224.804528 \r\nL 73.351693 224.804528 \r\nL 73.351693 115.763821 \r\nL 48.505682 115.763821 \r\nz\r\n\" style=\"fill:#1f77b4;\"/>\r\n   </g>\r\n   <g id=\"patch_4\">\r\n    <path clip-path=\"url(#pd21cde12dc)\" d=\"M 79.563196 224.804528 \r\nL 104.409207 224.804528 \r\nL 104.409207 94.688726 \r\nL 79.563196 94.688726 \r\nz\r\n\" style=\"fill:#1f77b4;\"/>\r\n   </g>\r\n   <g id=\"patch_5\">\r\n    <path clip-path=\"url(#pd21cde12dc)\" d=\"M 110.62071 224.804528 \r\nL 135.466721 224.804528 \r\nL 135.466721 85.525641 \r\nL 110.62071 85.525641 \r\nz\r\n\" style=\"fill:#1f77b4;\"/>\r\n   </g>\r\n   <g id=\"patch_6\">\r\n    <path clip-path=\"url(#pd21cde12dc)\" d=\"M 141.678224 224.804528 \r\nL 166.524235 224.804528 \r\nL 166.524235 74.529939 \r\nL 141.678224 74.529939 \r\nz\r\n\" style=\"fill:#1f77b4;\"/>\r\n   </g>\r\n   <g id=\"patch_7\">\r\n    <path clip-path=\"url(#pd21cde12dc)\" d=\"M 172.735737 224.804528 \r\nL 197.581749 224.804528 \r\nL 197.581749 67.199472 \r\nL 172.735737 67.199472 \r\nz\r\n\" style=\"fill:#1f77b4;\"/>\r\n   </g>\r\n   <g id=\"patch_8\">\r\n    <path clip-path=\"url(#pd21cde12dc)\" d=\"M 203.793251 224.804528 \r\nL 228.639263 224.804528 \r\nL 228.639263 58.952695 \r\nL 203.793251 58.952695 \r\nz\r\n\" style=\"fill:#1f77b4;\"/>\r\n   </g>\r\n   <g id=\"patch_9\">\r\n    <path clip-path=\"url(#pd21cde12dc)\" d=\"M 234.850765 224.804528 \r\nL 259.696776 224.804528 \r\nL 259.696776 55.287461 \r\nL 234.850765 55.287461 \r\nz\r\n\" style=\"fill:#1f77b4;\"/>\r\n   </g>\r\n   <g id=\"patch_10\">\r\n    <path clip-path=\"url(#pd21cde12dc)\" d=\"M 265.908279 224.804528 \r\nL 290.75429 224.804528 \r\nL 290.75429 47.040685 \r\nL 265.908279 47.040685 \r\nz\r\n\" style=\"fill:#1f77b4;\"/>\r\n   </g>\r\n   <g id=\"patch_11\">\r\n    <path clip-path=\"url(#pd21cde12dc)\" d=\"M 296.965793 224.804528 \r\nL 321.811804 224.804528 \r\nL 321.811804 22.300357 \r\nL 296.965793 22.300357 \r\nz\r\n\" style=\"fill:#1f77b4;\"/>\r\n   </g>\r\n   <g id=\"patch_12\">\r\n    <path clip-path=\"url(#pd21cde12dc)\" d=\"M 328.023307 224.804528 \r\nL 352.869318 224.804528 \r\nL 352.869318 17.718814 \r\nL 328.023307 17.718814 \r\nz\r\n\" style=\"fill:#1f77b4;\"/>\r\n   </g>\r\n   <g id=\"matplotlib.axis_1\">\r\n    <g id=\"xtick_1\">\r\n     <g id=\"line2d_1\">\r\n      <defs>\r\n       <path d=\"M 0 0 \r\nL 0 3.5 \r\n\" id=\"madd2face37\" style=\"stroke:#000000;stroke-width:0.8;\"/>\r\n      </defs>\r\n      <g>\r\n       <use style=\"stroke:#000000;stroke-width:0.8;\" x=\"60.928687\" xlink:href=\"#madd2face37\" y=\"224.804528\"/>\r\n      </g>\r\n     </g>\r\n     <g id=\"text_1\">\r\n      <!-- 0 -->\r\n      <g transform=\"translate(57.747437 239.402966)scale(0.1 -0.1)\">\r\n       <defs>\r\n        <path d=\"M 31.78125 66.40625 \r\nQ 24.171875 66.40625 20.328125 58.90625 \r\nQ 16.5 51.421875 16.5 36.375 \r\nQ 16.5 21.390625 20.328125 13.890625 \r\nQ 24.171875 6.390625 31.78125 6.390625 \r\nQ 39.453125 6.390625 43.28125 13.890625 \r\nQ 47.125 21.390625 47.125 36.375 \r\nQ 47.125 51.421875 43.28125 58.90625 \r\nQ 39.453125 66.40625 31.78125 66.40625 \r\nz\r\nM 31.78125 74.21875 \r\nQ 44.046875 74.21875 50.515625 64.515625 \r\nQ 56.984375 54.828125 56.984375 36.375 \r\nQ 56.984375 17.96875 50.515625 8.265625 \r\nQ 44.046875 -1.421875 31.78125 -1.421875 \r\nQ 19.53125 -1.421875 13.0625 8.265625 \r\nQ 6.59375 17.96875 6.59375 36.375 \r\nQ 6.59375 54.828125 13.0625 64.515625 \r\nQ 19.53125 74.21875 31.78125 74.21875 \r\nz\r\n\" id=\"DejaVuSans-48\"/>\r\n       </defs>\r\n       <use xlink:href=\"#DejaVuSans-48\"/>\r\n      </g>\r\n     </g>\r\n    </g>\r\n    <g id=\"xtick_2\">\r\n     <g id=\"line2d_2\">\r\n      <g>\r\n       <use style=\"stroke:#000000;stroke-width:0.8;\" x=\"123.043715\" xlink:href=\"#madd2face37\" y=\"224.804528\"/>\r\n      </g>\r\n     </g>\r\n     <g id=\"text_2\">\r\n      <!-- 2 -->\r\n      <g transform=\"translate(119.862465 239.402966)scale(0.1 -0.1)\">\r\n       <defs>\r\n        <path d=\"M 19.1875 8.296875 \r\nL 53.609375 8.296875 \r\nL 53.609375 0 \r\nL 7.328125 0 \r\nL 7.328125 8.296875 \r\nQ 12.9375 14.109375 22.625 23.890625 \r\nQ 32.328125 33.6875 34.8125 36.53125 \r\nQ 39.546875 41.84375 41.421875 45.53125 \r\nQ 43.3125 49.21875 43.3125 52.78125 \r\nQ 43.3125 58.59375 39.234375 62.25 \r\nQ 35.15625 65.921875 28.609375 65.921875 \r\nQ 23.96875 65.921875 18.8125 64.3125 \r\nQ 13.671875 62.703125 7.8125 59.421875 \r\nL 7.8125 69.390625 \r\nQ 13.765625 71.78125 18.9375 73 \r\nQ 24.125 74.21875 28.421875 74.21875 \r\nQ 39.75 74.21875 46.484375 68.546875 \r\nQ 53.21875 62.890625 53.21875 53.421875 \r\nQ 53.21875 48.921875 51.53125 44.890625 \r\nQ 49.859375 40.875 45.40625 35.40625 \r\nQ 44.1875 33.984375 37.640625 27.21875 \r\nQ 31.109375 20.453125 19.1875 8.296875 \r\nz\r\n\" id=\"DejaVuSans-50\"/>\r\n       </defs>\r\n       <use xlink:href=\"#DejaVuSans-50\"/>\r\n      </g>\r\n     </g>\r\n    </g>\r\n    <g id=\"xtick_3\">\r\n     <g id=\"line2d_3\">\r\n      <g>\r\n       <use style=\"stroke:#000000;stroke-width:0.8;\" x=\"185.158743\" xlink:href=\"#madd2face37\" y=\"224.804528\"/>\r\n      </g>\r\n     </g>\r\n     <g id=\"text_3\">\r\n      <!-- 4 -->\r\n      <g transform=\"translate(181.977493 239.402966)scale(0.1 -0.1)\">\r\n       <defs>\r\n        <path d=\"M 37.796875 64.3125 \r\nL 12.890625 25.390625 \r\nL 37.796875 25.390625 \r\nz\r\nM 35.203125 72.90625 \r\nL 47.609375 72.90625 \r\nL 47.609375 25.390625 \r\nL 58.015625 25.390625 \r\nL 58.015625 17.1875 \r\nL 47.609375 17.1875 \r\nL 47.609375 0 \r\nL 37.796875 0 \r\nL 37.796875 17.1875 \r\nL 4.890625 17.1875 \r\nL 4.890625 26.703125 \r\nz\r\n\" id=\"DejaVuSans-52\"/>\r\n       </defs>\r\n       <use xlink:href=\"#DejaVuSans-52\"/>\r\n      </g>\r\n     </g>\r\n    </g>\r\n    <g id=\"xtick_4\">\r\n     <g id=\"line2d_4\">\r\n      <g>\r\n       <use style=\"stroke:#000000;stroke-width:0.8;\" x=\"247.273771\" xlink:href=\"#madd2face37\" y=\"224.804528\"/>\r\n      </g>\r\n     </g>\r\n     <g id=\"text_4\">\r\n      <!-- 6 -->\r\n      <g transform=\"translate(244.092521 239.402966)scale(0.1 -0.1)\">\r\n       <defs>\r\n        <path d=\"M 33.015625 40.375 \r\nQ 26.375 40.375 22.484375 35.828125 \r\nQ 18.609375 31.296875 18.609375 23.390625 \r\nQ 18.609375 15.53125 22.484375 10.953125 \r\nQ 26.375 6.390625 33.015625 6.390625 \r\nQ 39.65625 6.390625 43.53125 10.953125 \r\nQ 47.40625 15.53125 47.40625 23.390625 \r\nQ 47.40625 31.296875 43.53125 35.828125 \r\nQ 39.65625 40.375 33.015625 40.375 \r\nz\r\nM 52.59375 71.296875 \r\nL 52.59375 62.3125 \r\nQ 48.875 64.0625 45.09375 64.984375 \r\nQ 41.3125 65.921875 37.59375 65.921875 \r\nQ 27.828125 65.921875 22.671875 59.328125 \r\nQ 17.53125 52.734375 16.796875 39.40625 \r\nQ 19.671875 43.65625 24.015625 45.921875 \r\nQ 28.375 48.1875 33.59375 48.1875 \r\nQ 44.578125 48.1875 50.953125 41.515625 \r\nQ 57.328125 34.859375 57.328125 23.390625 \r\nQ 57.328125 12.15625 50.6875 5.359375 \r\nQ 44.046875 -1.421875 33.015625 -1.421875 \r\nQ 20.359375 -1.421875 13.671875 8.265625 \r\nQ 6.984375 17.96875 6.984375 36.375 \r\nQ 6.984375 53.65625 15.1875 63.9375 \r\nQ 23.390625 74.21875 37.203125 74.21875 \r\nQ 40.921875 74.21875 44.703125 73.484375 \r\nQ 48.484375 72.75 52.59375 71.296875 \r\nz\r\n\" id=\"DejaVuSans-54\"/>\r\n       </defs>\r\n       <use xlink:href=\"#DejaVuSans-54\"/>\r\n      </g>\r\n     </g>\r\n    </g>\r\n    <g id=\"xtick_5\">\r\n     <g id=\"line2d_5\">\r\n      <g>\r\n       <use style=\"stroke:#000000;stroke-width:0.8;\" x=\"309.388799\" xlink:href=\"#madd2face37\" y=\"224.804528\"/>\r\n      </g>\r\n     </g>\r\n     <g id=\"text_5\">\r\n      <!-- 8 -->\r\n      <g transform=\"translate(306.207549 239.402966)scale(0.1 -0.1)\">\r\n       <defs>\r\n        <path d=\"M 31.78125 34.625 \r\nQ 24.75 34.625 20.71875 30.859375 \r\nQ 16.703125 27.09375 16.703125 20.515625 \r\nQ 16.703125 13.921875 20.71875 10.15625 \r\nQ 24.75 6.390625 31.78125 6.390625 \r\nQ 38.8125 6.390625 42.859375 10.171875 \r\nQ 46.921875 13.96875 46.921875 20.515625 \r\nQ 46.921875 27.09375 42.890625 30.859375 \r\nQ 38.875 34.625 31.78125 34.625 \r\nz\r\nM 21.921875 38.8125 \r\nQ 15.578125 40.375 12.03125 44.71875 \r\nQ 8.5 49.078125 8.5 55.328125 \r\nQ 8.5 64.0625 14.71875 69.140625 \r\nQ 20.953125 74.21875 31.78125 74.21875 \r\nQ 42.671875 74.21875 48.875 69.140625 \r\nQ 55.078125 64.0625 55.078125 55.328125 \r\nQ 55.078125 49.078125 51.53125 44.71875 \r\nQ 48 40.375 41.703125 38.8125 \r\nQ 48.828125 37.15625 52.796875 32.3125 \r\nQ 56.78125 27.484375 56.78125 20.515625 \r\nQ 56.78125 9.90625 50.3125 4.234375 \r\nQ 43.84375 -1.421875 31.78125 -1.421875 \r\nQ 19.734375 -1.421875 13.25 4.234375 \r\nQ 6.78125 9.90625 6.78125 20.515625 \r\nQ 6.78125 27.484375 10.78125 32.3125 \r\nQ 14.796875 37.15625 21.921875 38.8125 \r\nz\r\nM 18.3125 54.390625 \r\nQ 18.3125 48.734375 21.84375 45.5625 \r\nQ 25.390625 42.390625 31.78125 42.390625 \r\nQ 38.140625 42.390625 41.71875 45.5625 \r\nQ 45.3125 48.734375 45.3125 54.390625 \r\nQ 45.3125 60.0625 41.71875 63.234375 \r\nQ 38.140625 66.40625 31.78125 66.40625 \r\nQ 25.390625 66.40625 21.84375 63.234375 \r\nQ 18.3125 60.0625 18.3125 54.390625 \r\nz\r\n\" id=\"DejaVuSans-56\"/>\r\n       </defs>\r\n       <use xlink:href=\"#DejaVuSans-56\"/>\r\n      </g>\r\n     </g>\r\n    </g>\r\n   </g>\r\n   <g id=\"matplotlib.axis_2\">\r\n    <g id=\"ytick_1\">\r\n     <g id=\"line2d_6\">\r\n      <defs>\r\n       <path d=\"M 0 0 \r\nL -3.5 0 \r\n\" id=\"m1d5f47e0fb\" style=\"stroke:#000000;stroke-width:0.8;\"/>\r\n      </defs>\r\n      <g>\r\n       <use style=\"stroke:#000000;stroke-width:0.8;\" x=\"33.2875\" xlink:href=\"#m1d5f47e0fb\" y=\"224.804528\"/>\r\n      </g>\r\n     </g>\r\n     <g id=\"text_6\">\r\n      <!-- 0 -->\r\n      <g transform=\"translate(19.925 228.603747)scale(0.1 -0.1)\">\r\n       <use xlink:href=\"#DejaVuSans-48\"/>\r\n      </g>\r\n     </g>\r\n    </g>\r\n    <g id=\"ytick_2\">\r\n     <g id=\"line2d_7\">\r\n      <g>\r\n       <use style=\"stroke:#000000;stroke-width:0.8;\" x=\"33.2875\" xlink:href=\"#m1d5f47e0fb\" y=\"194.260913\"/>\r\n      </g>\r\n     </g>\r\n     <g id=\"text_7\">\r\n      <!-- 100 -->\r\n      <g transform=\"translate(7.2 198.060132)scale(0.1 -0.1)\">\r\n       <defs>\r\n        <path d=\"M 12.40625 8.296875 \r\nL 28.515625 8.296875 \r\nL 28.515625 63.921875 \r\nL 10.984375 60.40625 \r\nL 10.984375 69.390625 \r\nL 28.421875 72.90625 \r\nL 38.28125 72.90625 \r\nL 38.28125 8.296875 \r\nL 54.390625 8.296875 \r\nL 54.390625 0 \r\nL 12.40625 0 \r\nz\r\n\" id=\"DejaVuSans-49\"/>\r\n       </defs>\r\n       <use xlink:href=\"#DejaVuSans-49\"/>\r\n       <use x=\"63.623047\" xlink:href=\"#DejaVuSans-48\"/>\r\n       <use x=\"127.246094\" xlink:href=\"#DejaVuSans-48\"/>\r\n      </g>\r\n     </g>\r\n    </g>\r\n    <g id=\"ytick_3\">\r\n     <g id=\"line2d_8\">\r\n      <g>\r\n       <use style=\"stroke:#000000;stroke-width:0.8;\" x=\"33.2875\" xlink:href=\"#m1d5f47e0fb\" y=\"163.717297\"/>\r\n      </g>\r\n     </g>\r\n     <g id=\"text_8\">\r\n      <!-- 200 -->\r\n      <g transform=\"translate(7.2 167.516516)scale(0.1 -0.1)\">\r\n       <use xlink:href=\"#DejaVuSans-50\"/>\r\n       <use x=\"63.623047\" xlink:href=\"#DejaVuSans-48\"/>\r\n       <use x=\"127.246094\" xlink:href=\"#DejaVuSans-48\"/>\r\n      </g>\r\n     </g>\r\n    </g>\r\n    <g id=\"ytick_4\">\r\n     <g id=\"line2d_9\">\r\n      <g>\r\n       <use style=\"stroke:#000000;stroke-width:0.8;\" x=\"33.2875\" xlink:href=\"#m1d5f47e0fb\" y=\"133.173681\"/>\r\n      </g>\r\n     </g>\r\n     <g id=\"text_9\">\r\n      <!-- 300 -->\r\n      <g transform=\"translate(7.2 136.9729)scale(0.1 -0.1)\">\r\n       <defs>\r\n        <path d=\"M 40.578125 39.3125 \r\nQ 47.65625 37.796875 51.625 33 \r\nQ 55.609375 28.21875 55.609375 21.1875 \r\nQ 55.609375 10.40625 48.1875 4.484375 \r\nQ 40.765625 -1.421875 27.09375 -1.421875 \r\nQ 22.515625 -1.421875 17.65625 -0.515625 \r\nQ 12.796875 0.390625 7.625 2.203125 \r\nL 7.625 11.71875 \r\nQ 11.71875 9.328125 16.59375 8.109375 \r\nQ 21.484375 6.890625 26.8125 6.890625 \r\nQ 36.078125 6.890625 40.9375 10.546875 \r\nQ 45.796875 14.203125 45.796875 21.1875 \r\nQ 45.796875 27.640625 41.28125 31.265625 \r\nQ 36.765625 34.90625 28.71875 34.90625 \r\nL 20.21875 34.90625 \r\nL 20.21875 43.015625 \r\nL 29.109375 43.015625 \r\nQ 36.375 43.015625 40.234375 45.921875 \r\nQ 44.09375 48.828125 44.09375 54.296875 \r\nQ 44.09375 59.90625 40.109375 62.90625 \r\nQ 36.140625 65.921875 28.71875 65.921875 \r\nQ 24.65625 65.921875 20.015625 65.03125 \r\nQ 15.375 64.15625 9.8125 62.3125 \r\nL 9.8125 71.09375 \r\nQ 15.4375 72.65625 20.34375 73.4375 \r\nQ 25.25 74.21875 29.59375 74.21875 \r\nQ 40.828125 74.21875 47.359375 69.109375 \r\nQ 53.90625 64.015625 53.90625 55.328125 \r\nQ 53.90625 49.265625 50.4375 45.09375 \r\nQ 46.96875 40.921875 40.578125 39.3125 \r\nz\r\n\" id=\"DejaVuSans-51\"/>\r\n       </defs>\r\n       <use xlink:href=\"#DejaVuSans-51\"/>\r\n       <use x=\"63.623047\" xlink:href=\"#DejaVuSans-48\"/>\r\n       <use x=\"127.246094\" xlink:href=\"#DejaVuSans-48\"/>\r\n      </g>\r\n     </g>\r\n    </g>\r\n    <g id=\"ytick_5\">\r\n     <g id=\"line2d_10\">\r\n      <g>\r\n       <use style=\"stroke:#000000;stroke-width:0.8;\" x=\"33.2875\" xlink:href=\"#m1d5f47e0fb\" y=\"102.630066\"/>\r\n      </g>\r\n     </g>\r\n     <g id=\"text_10\">\r\n      <!-- 400 -->\r\n      <g transform=\"translate(7.2 106.429285)scale(0.1 -0.1)\">\r\n       <use xlink:href=\"#DejaVuSans-52\"/>\r\n       <use x=\"63.623047\" xlink:href=\"#DejaVuSans-48\"/>\r\n       <use x=\"127.246094\" xlink:href=\"#DejaVuSans-48\"/>\r\n      </g>\r\n     </g>\r\n    </g>\r\n    <g id=\"ytick_6\">\r\n     <g id=\"line2d_11\">\r\n      <g>\r\n       <use style=\"stroke:#000000;stroke-width:0.8;\" x=\"33.2875\" xlink:href=\"#m1d5f47e0fb\" y=\"72.08645\"/>\r\n      </g>\r\n     </g>\r\n     <g id=\"text_11\">\r\n      <!-- 500 -->\r\n      <g transform=\"translate(7.2 75.885669)scale(0.1 -0.1)\">\r\n       <defs>\r\n        <path d=\"M 10.796875 72.90625 \r\nL 49.515625 72.90625 \r\nL 49.515625 64.59375 \r\nL 19.828125 64.59375 \r\nL 19.828125 46.734375 \r\nQ 21.96875 47.46875 24.109375 47.828125 \r\nQ 26.265625 48.1875 28.421875 48.1875 \r\nQ 40.625 48.1875 47.75 41.5 \r\nQ 54.890625 34.8125 54.890625 23.390625 \r\nQ 54.890625 11.625 47.5625 5.09375 \r\nQ 40.234375 -1.421875 26.90625 -1.421875 \r\nQ 22.3125 -1.421875 17.546875 -0.640625 \r\nQ 12.796875 0.140625 7.71875 1.703125 \r\nL 7.71875 11.625 \r\nQ 12.109375 9.234375 16.796875 8.0625 \r\nQ 21.484375 6.890625 26.703125 6.890625 \r\nQ 35.15625 6.890625 40.078125 11.328125 \r\nQ 45.015625 15.765625 45.015625 23.390625 \r\nQ 45.015625 31 40.078125 35.4375 \r\nQ 35.15625 39.890625 26.703125 39.890625 \r\nQ 22.75 39.890625 18.8125 39.015625 \r\nQ 14.890625 38.140625 10.796875 36.28125 \r\nz\r\n\" id=\"DejaVuSans-53\"/>\r\n       </defs>\r\n       <use xlink:href=\"#DejaVuSans-53\"/>\r\n       <use x=\"63.623047\" xlink:href=\"#DejaVuSans-48\"/>\r\n       <use x=\"127.246094\" xlink:href=\"#DejaVuSans-48\"/>\r\n      </g>\r\n     </g>\r\n    </g>\r\n    <g id=\"ytick_7\">\r\n     <g id=\"line2d_12\">\r\n      <g>\r\n       <use style=\"stroke:#000000;stroke-width:0.8;\" x=\"33.2875\" xlink:href=\"#m1d5f47e0fb\" y=\"41.542834\"/>\r\n      </g>\r\n     </g>\r\n     <g id=\"text_12\">\r\n      <!-- 600 -->\r\n      <g transform=\"translate(7.2 45.342053)scale(0.1 -0.1)\">\r\n       <use xlink:href=\"#DejaVuSans-54\"/>\r\n       <use x=\"63.623047\" xlink:href=\"#DejaVuSans-48\"/>\r\n       <use x=\"127.246094\" xlink:href=\"#DejaVuSans-48\"/>\r\n      </g>\r\n     </g>\r\n    </g>\r\n    <g id=\"ytick_8\">\r\n     <g id=\"line2d_13\">\r\n      <g>\r\n       <use style=\"stroke:#000000;stroke-width:0.8;\" x=\"33.2875\" xlink:href=\"#m1d5f47e0fb\" y=\"10.999219\"/>\r\n      </g>\r\n     </g>\r\n     <g id=\"text_13\">\r\n      <!-- 700 -->\r\n      <g transform=\"translate(7.2 14.798437)scale(0.1 -0.1)\">\r\n       <defs>\r\n        <path d=\"M 8.203125 72.90625 \r\nL 55.078125 72.90625 \r\nL 55.078125 68.703125 \r\nL 28.609375 0 \r\nL 18.3125 0 \r\nL 43.21875 64.59375 \r\nL 8.203125 64.59375 \r\nz\r\n\" id=\"DejaVuSans-55\"/>\r\n       </defs>\r\n       <use xlink:href=\"#DejaVuSans-55\"/>\r\n       <use x=\"63.623047\" xlink:href=\"#DejaVuSans-48\"/>\r\n       <use x=\"127.246094\" xlink:href=\"#DejaVuSans-48\"/>\r\n      </g>\r\n     </g>\r\n    </g>\r\n   </g>\r\n   <g id=\"line2d_14\">\r\n    <path clip-path=\"url(#pd21cde12dc)\" d=\"M 60.928687 164.180949 \r\nL 91.986201 143.049654 \r\nL 123.043715 133.862135 \r\nL 154.101229 122.837111 \r\nL 185.158743 115.487095 \r\nL 216.216257 107.218328 \r\nL 247.273771 103.54332 \r\nL 278.331285 95.274552 \r\nL 309.388799 70.468249 \r\nL 340.446313 65.87449 \r\n\" style=\"fill:none;stroke:#ff0000;stroke-linecap:square;stroke-width:1.5;\"/>\r\n    <defs>\r\n     <path d=\"M 0 3 \r\nC 0.795609 3 1.55874 2.683901 2.12132 2.12132 \r\nC 2.683901 1.55874 3 0.795609 3 0 \r\nC 3 -0.795609 2.683901 -1.55874 2.12132 -2.12132 \r\nC 1.55874 -2.683901 0.795609 -3 0 -3 \r\nC -0.795609 -3 -1.55874 -2.683901 -2.12132 -2.12132 \r\nC -2.683901 -1.55874 -3 -0.795609 -3 0 \r\nC -3 0.795609 -2.683901 1.55874 -2.12132 2.12132 \r\nC -1.55874 2.683901 -0.795609 3 0 3 \r\nz\r\n\" id=\"m4b2f3a8353\" style=\"stroke:#ff0000;\"/>\r\n    </defs>\r\n    <g clip-path=\"url(#pd21cde12dc)\">\r\n     <use style=\"fill:#ff0000;stroke:#ff0000;\" x=\"60.928687\" xlink:href=\"#m4b2f3a8353\" y=\"164.180949\"/>\r\n     <use style=\"fill:#ff0000;stroke:#ff0000;\" x=\"91.986201\" xlink:href=\"#m4b2f3a8353\" y=\"143.049654\"/>\r\n     <use style=\"fill:#ff0000;stroke:#ff0000;\" x=\"123.043715\" xlink:href=\"#m4b2f3a8353\" y=\"133.862135\"/>\r\n     <use style=\"fill:#ff0000;stroke:#ff0000;\" x=\"154.101229\" xlink:href=\"#m4b2f3a8353\" y=\"122.837111\"/>\r\n     <use style=\"fill:#ff0000;stroke:#ff0000;\" x=\"185.158743\" xlink:href=\"#m4b2f3a8353\" y=\"115.487095\"/>\r\n     <use style=\"fill:#ff0000;stroke:#ff0000;\" x=\"216.216257\" xlink:href=\"#m4b2f3a8353\" y=\"107.218328\"/>\r\n     <use style=\"fill:#ff0000;stroke:#ff0000;\" x=\"247.273771\" xlink:href=\"#m4b2f3a8353\" y=\"103.54332\"/>\r\n     <use style=\"fill:#ff0000;stroke:#ff0000;\" x=\"278.331285\" xlink:href=\"#m4b2f3a8353\" y=\"95.274552\"/>\r\n     <use style=\"fill:#ff0000;stroke:#ff0000;\" x=\"309.388799\" xlink:href=\"#m4b2f3a8353\" y=\"70.468249\"/>\r\n     <use style=\"fill:#ff0000;stroke:#ff0000;\" x=\"340.446313\" xlink:href=\"#m4b2f3a8353\" y=\"65.87449\"/>\r\n    </g>\r\n   </g>\r\n   <g id=\"patch_13\">\r\n    <path d=\"M 33.2875 224.804528 \r\nL 33.2875 7.364528 \r\n\" style=\"fill:none;stroke:#000000;stroke-linecap:square;stroke-linejoin:miter;stroke-width:0.8;\"/>\r\n   </g>\r\n   <g id=\"patch_14\">\r\n    <path d=\"M 368.0875 224.804528 \r\nL 368.0875 7.364528 \r\n\" style=\"fill:none;stroke:#000000;stroke-linecap:square;stroke-linejoin:miter;stroke-width:0.8;\"/>\r\n   </g>\r\n   <g id=\"patch_15\">\r\n    <path d=\"M 33.2875 224.804528 \r\nL 368.0875 224.804528 \r\n\" style=\"fill:none;stroke:#000000;stroke-linecap:square;stroke-linejoin:miter;stroke-width:0.8;\"/>\r\n   </g>\r\n   <g id=\"patch_16\">\r\n    <path d=\"M 33.2875 7.364528 \r\nL 368.0875 7.364528 \r\n\" style=\"fill:none;stroke:#000000;stroke-linecap:square;stroke-linejoin:miter;stroke-width:0.8;\"/>\r\n   </g>\r\n  </g>\r\n </g>\r\n <defs>\r\n  <clipPath id=\"pd21cde12dc\">\r\n   <rect height=\"217.44\" width=\"334.8\" x=\"33.2875\" y=\"7.364528\"/>\r\n  </clipPath>\r\n </defs>\r\n</svg>\r\n",
      "image/png": "[encoded data removed]"
     },
     "metadata": {
      "needs_background": "light"
     }
    }
   ],
   "source": [
    "# plot \"Temp\" and \"Sale\" values\n",
    "plt.bar(df.index, 30*df[\"Temp\"])\n",
    "plt.plot(df[\"Sale\"], color=\"red\", marker=\"o\")\n",
    "plt.show()"
   ]
  },
  {
   "cell_type": "markdown",
   "metadata": {},
   "source": [
    "---\n",
    "p37"
   ]
  },
  {
   "cell_type": "markdown",
   "metadata": {},
   "source": [
    "# Quiz 4"
   ]
  },
  {
   "cell_type": "markdown",
   "metadata": {},
   "source": [
    "### Visualizing Boston Housing Price Dataset\n",
    "- Load the dataset as a DataFrame (given)\n",
    "- Visualize the relationship between two variables using scatter plot\n",
    "  - RM and MEDV\n",
    "  - CRIM and MEDV"
   ]
  },
  {
   "cell_type": "code",
   "execution_count": 147,
   "metadata": {
    "collapsed": true,
    "jupyter": {
     "outputs_hidden": false
    }
   },
   "outputs": [
    {
     "output_type": "execute_result",
     "data": {
      "text/plain": [
       "      CRIM    ZN  INDUS  CHAS    NOX     RM   AGE     DIS  RAD    TAX  \\\n",
       "0  0.00632  18.0   2.31     0  0.538  6.575  65.2  4.0900    1  296.0   \n",
       "1  0.02731   0.0   7.07     0  0.469  6.421  78.9  4.9671    2  242.0   \n",
       "2  0.02729   0.0   7.07     0  0.469  7.185  61.1  4.9671    2  242.0   \n",
       "3  0.03237   0.0   2.18     0  0.458  6.998  45.8  6.0622    3  222.0   \n",
       "4  0.06905   0.0   2.18     0  0.458  7.147  54.2  6.0622    3  222.0   \n",
       "\n",
       "   PTRATIO       B  LSTAT  MEDV  \n",
       "0     15.3  396.90   4.98  24.0  \n",
       "1     17.8  396.90   9.14  21.6  \n",
       "2     17.8  392.83   4.03  34.7  \n",
       "3     18.7  394.63   2.94  33.4  \n",
       "4     18.7  396.90   5.33  36.2  "
      ],
      "text/html": "<div>\n<style scoped>\n    .dataframe tbody tr th:only-of-type {\n        vertical-align: middle;\n    }\n\n    .dataframe tbody tr th {\n        vertical-align: top;\n    }\n\n    .dataframe thead th {\n        text-align: right;\n    }\n</style>\n<table border=\"1\" class=\"dataframe\">\n  <thead>\n    <tr style=\"text-align: right;\">\n      <th></th>\n      <th>CRIM</th>\n      <th>ZN</th>\n      <th>INDUS</th>\n      <th>CHAS</th>\n      <th>NOX</th>\n      <th>RM</th>\n      <th>AGE</th>\n      <th>DIS</th>\n      <th>RAD</th>\n      <th>TAX</th>\n      <th>PTRATIO</th>\n      <th>B</th>\n      <th>LSTAT</th>\n      <th>MEDV</th>\n    </tr>\n  </thead>\n  <tbody>\n    <tr>\n      <th>0</th>\n      <td>0.00632</td>\n      <td>18.0</td>\n      <td>2.31</td>\n      <td>0</td>\n      <td>0.538</td>\n      <td>6.575</td>\n      <td>65.2</td>\n      <td>4.0900</td>\n      <td>1</td>\n      <td>296.0</td>\n      <td>15.3</td>\n      <td>396.90</td>\n      <td>4.98</td>\n      <td>24.0</td>\n    </tr>\n    <tr>\n      <th>1</th>\n      <td>0.02731</td>\n      <td>0.0</td>\n      <td>7.07</td>\n      <td>0</td>\n      <td>0.469</td>\n      <td>6.421</td>\n      <td>78.9</td>\n      <td>4.9671</td>\n      <td>2</td>\n      <td>242.0</td>\n      <td>17.8</td>\n      <td>396.90</td>\n      <td>9.14</td>\n      <td>21.6</td>\n    </tr>\n    <tr>\n      <th>2</th>\n      <td>0.02729</td>\n      <td>0.0</td>\n      <td>7.07</td>\n      <td>0</td>\n      <td>0.469</td>\n      <td>7.185</td>\n      <td>61.1</td>\n      <td>4.9671</td>\n      <td>2</td>\n      <td>242.0</td>\n      <td>17.8</td>\n      <td>392.83</td>\n      <td>4.03</td>\n      <td>34.7</td>\n    </tr>\n    <tr>\n      <th>3</th>\n      <td>0.03237</td>\n      <td>0.0</td>\n      <td>2.18</td>\n      <td>0</td>\n      <td>0.458</td>\n      <td>6.998</td>\n      <td>45.8</td>\n      <td>6.0622</td>\n      <td>3</td>\n      <td>222.0</td>\n      <td>18.7</td>\n      <td>394.63</td>\n      <td>2.94</td>\n      <td>33.4</td>\n    </tr>\n    <tr>\n      <th>4</th>\n      <td>0.06905</td>\n      <td>0.0</td>\n      <td>2.18</td>\n      <td>0</td>\n      <td>0.458</td>\n      <td>7.147</td>\n      <td>54.2</td>\n      <td>6.0622</td>\n      <td>3</td>\n      <td>222.0</td>\n      <td>18.7</td>\n      <td>396.90</td>\n      <td>5.33</td>\n      <td>36.2</td>\n    </tr>\n  </tbody>\n</table>\n</div>"
     },
     "metadata": {},
     "execution_count": 147
    }
   ],
   "source": [
    "# Loading dataset\n",
    "data_url = 'https://archive.ics.uci.edu/ml/machine-learning-databases/housing/housing.data'\n",
    "df_data = pd.read_csv(data_url, sep='\\s+', header=None)\n",
    "df_data.columns = ['CRIM', 'ZN', 'INDUS', 'CHAS', 'NOX', 'RM', 'AGE', 'DIS', \n",
    "'RAD', 'TAX', 'PTRATIO', 'B', 'LSTAT', 'MEDV']\n",
    "\n",
    "df_data.head()"
   ]
  },
  {
   "cell_type": "code",
   "execution_count": 148,
   "metadata": {
    "collapsed": true,
    "jupyter": {
     "outputs_hidden": false
    }
   },
   "outputs": [
    {
     "output_type": "execute_result",
     "data": {
      "text/plain": [
       "<matplotlib.collections.PathCollection at 0x1f820ff57f0>"
      ]
     },
     "metadata": {},
     "execution_count": 148
    },
    {
     "output_type": "execute_result",
     "data": {
      "text/plain": [
       "Text(0.5, 0, 'RM')"
      ]
     },
     "metadata": {},
     "execution_count": 148
    },
    {
     "output_type": "execute_result",
     "data": {
      "text/plain": [
       "Text(0, 0.5, 'MEDV')"
      ]
     },
     "metadata": {},
     "execution_count": 148
    },
    {
     "output_type": "display_data",
     "data": {
      "text/plain": "<Figure size 432x288 with 1 Axes>",
      "image/svg+xml": "<?xml version=\"1.0\" encoding=\"utf-8\" standalone=\"no\"?>\r\n<!DOCTYPE svg PUBLIC \"-//W3C//DTD SVG 1.1//EN\"\r\n  \"http://www.w3.org/Graphics/SVG/1.1/DTD/svg11.dtd\">\r\n<!-- Created with matplotlib (https://matplotlib.org/) -->\r\n<svg height=\"262.19625pt\" version=\"1.1\" viewBox=\"0 0 383.396237 262.19625\" width=\"383.396237pt\" xmlns=\"http://www.w3.org/2000/svg\" xmlns:xlink=\"http://www.w3.org/1999/xlink\">\r\n <metadata>\r\n  <rdf:RDF xmlns:cc=\"http://creativecommons.org/ns#\" xmlns:dc=\"http://purl.org/dc/elements/1.1/\" xmlns:rdf=\"http://www.w3.org/1999/02/22-rdf-syntax-ns#\">\r\n   <cc:Work>\r\n    <dc:type rdf:resource=\"http://purl.org/dc/dcmitype/StillImage\"/>\r\n    <dc:date>2021-03-18T17:52:59.068535</dc:date>\r\n    <dc:format>image/svg+xml</dc:format>\r\n    <dc:creator>\r\n     <cc:Agent>\r\n      <dc:title>Matplotlib v3.3.2, https://matplotlib.org/</dc:title>\r\n     </cc:Agent>\r\n    </dc:creator>\r\n   </cc:Work>\r\n  </rdf:RDF>\r\n </metadata>\r\n <defs>\r\n  <style type=\"text/css\">*{stroke-linecap:butt;stroke-linejoin:round;}</style>\r\n </defs>\r\n <g id=\"figure_1\">\r\n  <g id=\"patch_1\">\r\n   <path d=\"M 0 262.19625 \r\nL 383.396237 262.19625 \r\nL 383.396237 0 \r\nL 0 0 \r\nz\r\n\" style=\"fill:none;\"/>\r\n  </g>\r\n  <g id=\"axes_1\">\r\n   <g id=\"patch_2\">\r\n    <path d=\"M 40.603125 224.64 \r\nL 375.403125 224.64 \r\nL 375.403125 7.2 \r\nL 40.603125 7.2 \r\nz\r\n\" style=\"fill:#ffffff;\"/>\r\n   </g>\r\n   <g id=\"PathCollection_1\">\r\n    <defs>\r\n     <path d=\"M 0 3 \r\nC 0.795609 3 1.55874 2.683901 2.12132 2.12132 \r\nC 2.683901 1.55874 3 0.795609 3 0 \r\nC 3 -0.795609 2.683901 -1.55874 2.12132 -2.12132 \r\nC 1.55874 -2.683901 0.795609 -3 0 -3 \r\nC -0.795609 -3 -1.55874 -2.683901 -2.12132 -2.12132 \r\nC -2.683901 -1.55874 -3 -0.795609 -3 0 \r\nC -3 0.795609 -2.683901 1.55874 -2.12132 2.12132 \r\nC -1.55874 2.683901 -0.795609 3 0 3 \r\nz\r\n\" id=\"m820297d2fc\" style=\"stroke:#1f77b4;\"/>\r\n    </defs>\r\n    <g clip-path=\"url(#p756bf98a7f)\">\r\n     <use style=\"fill:#1f77b4;stroke:#1f77b4;\" x=\"231.592911\" xlink:href=\"#m820297d2fc\" y=\"131.294545\"/>\r\n     <use style=\"fill:#1f77b4;stroke:#1f77b4;\" x=\"222.61188\" xlink:href=\"#m820297d2fc\" y=\"141.837091\"/>\r\n     <use style=\"fill:#1f77b4;stroke:#1f77b4;\" x=\"267.167124\" xlink:href=\"#m820297d2fc\" y=\"84.292364\"/>\r\n     <use style=\"fill:#1f77b4;stroke:#1f77b4;\" x=\"256.261586\" xlink:href=\"#m820297d2fc\" y=\"90.002909\"/>\r\n     <use style=\"fill:#1f77b4;stroke:#1f77b4;\" x=\"264.951025\" xlink:href=\"#m820297d2fc\" y=\"77.703273\"/>\r\n     <use style=\"fill:#1f77b4;stroke:#1f77b4;\" x=\"223.136745\" xlink:href=\"#m820297d2fc\" y=\"110.648727\"/>\r\n     <use style=\"fill:#1f77b4;stroke:#1f77b4;\" x=\"198.759661\" xlink:href=\"#m820297d2fc\" y=\"136.126545\"/>\r\n     <use style=\"fill:#1f77b4;stroke:#1f77b4;\" x=\"208.090603\" xlink:href=\"#m820297d2fc\" y=\"117.677091\"/>\r\n     <use style=\"fill:#1f77b4;stroke:#1f77b4;\" x=\"176.540358\" xlink:href=\"#m820297d2fc\" y=\"164.24\"/>\r\n     <use style=\"fill:#1f77b4;stroke:#1f77b4;\" x=\"198.293114\" xlink:href=\"#m820297d2fc\" y=\"153.697455\"/>\r\n     <use style=\"fill:#1f77b4;stroke:#1f77b4;\" x=\"220.045871\" xlink:href=\"#m820297d2fc\" y=\"170.829091\"/>\r\n     <use style=\"fill:#1f77b4;stroke:#1f77b4;\" x=\"198.584706\" xlink:href=\"#m820297d2fc\" y=\"153.697455\"/>\r\n     <use style=\"fill:#1f77b4;stroke:#1f77b4;\" x=\"191.5865\" xlink:href=\"#m820297d2fc\" y=\"141.397818\"/>\r\n     <use style=\"fill:#1f77b4;stroke:#1f77b4;\" x=\"195.085603\" xlink:href=\"#m820297d2fc\" y=\"147.108364\"/>\r\n     <use style=\"fill:#1f77b4;stroke:#1f77b4;\" x=\"203.658406\" xlink:href=\"#m820297d2fc\" y=\"156.772364\"/>\r\n     <use style=\"fill:#1f77b4;stroke:#1f77b4;\" x=\"188.378989\" xlink:href=\"#m820297d2fc\" y=\"149.304727\"/>\r\n     <use style=\"fill:#1f77b4;stroke:#1f77b4;\" x=\"194.269146\" xlink:href=\"#m820297d2fc\" y=\"135.248\"/>\r\n     <use style=\"fill:#1f77b4;stroke:#1f77b4;\" x=\"197.476657\" xlink:href=\"#m820297d2fc\" y=\"159.847273\"/>\r\n     <use style=\"fill:#1f77b4;stroke:#1f77b4;\" x=\"166.334641\" xlink:href=\"#m820297d2fc\" y=\"147.986909\"/>\r\n     <use style=\"fill:#1f77b4;stroke:#1f77b4;\" x=\"182.138923\" xlink:href=\"#m820297d2fc\" y=\"156.772364\"/>\r\n     <use style=\"fill:#1f77b4;stroke:#1f77b4;\" x=\"172.982937\" xlink:href=\"#m820297d2fc\" y=\"176.978909\"/>\r\n     <use style=\"fill:#1f77b4;stroke:#1f77b4;\" x=\"196.018697\" xlink:href=\"#m820297d2fc\" y=\"150.622545\"/>\r\n     <use style=\"fill:#1f77b4;stroke:#1f77b4;\" x=\"206.341051\" xlink:href=\"#m820297d2fc\" y=\"169.950545\"/>\r\n     <use style=\"fill:#1f77b4;stroke:#1f77b4;\" x=\"187.154303\" xlink:href=\"#m820297d2fc\" y=\"173.025455\"/>\r\n     <use style=\"fill:#1f77b4;stroke:#1f77b4;\" x=\"193.627644\" xlink:href=\"#m820297d2fc\" y=\"168.193455\"/>\r\n     <use style=\"fill:#1f77b4;stroke:#1f77b4;\" x=\"174.67417\" xlink:href=\"#m820297d2fc\" y=\"175.661091\"/>\r\n     <use style=\"fill:#1f77b4;stroke:#1f77b4;\" x=\"187.154303\" xlink:href=\"#m820297d2fc\" y=\"163.800727\"/>\r\n     <use style=\"fill:#1f77b4;stroke:#1f77b4;\" x=\"200.800805\" xlink:href=\"#m820297d2fc\" y=\"171.707636\"/>\r\n     <use style=\"fill:#1f77b4;stroke:#1f77b4;\" x=\"226.92744\" xlink:href=\"#m820297d2fc\" y=\"155.893818\"/>\r\n     <use style=\"fill:#1f77b4;stroke:#1f77b4;\" x=\"237.36643\" xlink:href=\"#m820297d2fc\" y=\"144.472727\"/>\r\n     <use style=\"fill:#1f77b4;stroke:#1f77b4;\" x=\"181.322465\" xlink:href=\"#m820297d2fc\" y=\"180.932364\"/>\r\n     <use style=\"fill:#1f77b4;stroke:#1f77b4;\" x=\"202.258764\" xlink:href=\"#m820297d2fc\" y=\"173.025455\"/>\r\n     <use style=\"fill:#1f77b4;stroke:#1f77b4;\" x=\"195.143922\" xlink:href=\"#m820297d2fc\" y=\"178.736\"/>\r\n     <use style=\"fill:#1f77b4;stroke:#1f77b4;\" x=\"180.622645\" xlink:href=\"#m820297d2fc\" y=\"179.175273\"/>\r\n     <use style=\"fill:#1f77b4;stroke:#1f77b4;\" x=\"203.658406\" xlink:href=\"#m820297d2fc\" y=\"177.418182\"/>\r\n     <use style=\"fill:#1f77b4;stroke:#1f77b4;\" x=\"194.152509\" xlink:href=\"#m820297d2fc\" y=\"153.697455\"/>\r\n     <use style=\"fill:#1f77b4;stroke:#1f77b4;\" x=\"188.787218\" xlink:href=\"#m820297d2fc\" y=\"148.865455\"/>\r\n     <use style=\"fill:#1f77b4;stroke:#1f77b4;\" x=\"189.312084\" xlink:href=\"#m820297d2fc\" y=\"144.472727\"/>\r\n     <use style=\"fill:#1f77b4;stroke:#1f77b4;\" x=\"196.077016\" xlink:href=\"#m820297d2fc\" y=\"128.219636\"/>\r\n     <use style=\"fill:#1f77b4;stroke:#1f77b4;\" x=\"232.759278\" xlink:href=\"#m820297d2fc\" y=\"101.424\"/>\r\n     <use style=\"fill:#1f77b4;stroke:#1f77b4;\" x=\"257.777864\" xlink:href=\"#m820297d2fc\" y=\"83.413818\"/>\r\n     <use style=\"fill:#1f77b4;stroke:#1f77b4;\" x=\"242.964995\" xlink:href=\"#m820297d2fc\" y=\"119.873455\"/>\r\n     <use style=\"fill:#1f77b4;stroke:#1f77b4;\" x=\"207.915647\" xlink:href=\"#m820297d2fc\" y=\"125.584\"/>\r\n     <use style=\"fill:#1f77b4;stroke:#1f77b4;\" x=\"210.365019\" xlink:href=\"#m820297d2fc\" y=\"128.219636\"/>\r\n     <use style=\"fill:#1f77b4;stroke:#1f77b4;\" x=\"202.083809\" xlink:href=\"#m820297d2fc\" y=\"143.594182\"/>\r\n     <use style=\"fill:#1f77b4;stroke:#1f77b4;\" x=\"179.514595\" xlink:href=\"#m820297d2fc\" y=\"151.940364\"/>\r\n     <use style=\"fill:#1f77b4;stroke:#1f77b4;\" x=\"185.579707\" xlink:href=\"#m820297d2fc\" y=\"148.865455\"/>\r\n     <use style=\"fill:#1f77b4;stroke:#1f77b4;\" x=\"199.809392\" xlink:href=\"#m820297d2fc\" y=\"163.800727\"/>\r\n     <use style=\"fill:#1f77b4;stroke:#1f77b4;\" x=\"163.010493\" xlink:href=\"#m820297d2fc\" y=\"173.464727\"/>\r\n     <use style=\"fill:#1f77b4;stroke:#1f77b4;\" x=\"174.849125\" xlink:href=\"#m820297d2fc\" y=\"151.501091\"/>\r\n     <use style=\"fill:#1f77b4;stroke:#1f77b4;\" x=\"195.902061\" xlink:href=\"#m820297d2fc\" y=\"150.183273\"/>\r\n     <use style=\"fill:#1f77b4;stroke:#1f77b4;\" x=\"204.766455\" xlink:href=\"#m820297d2fc\" y=\"146.669091\"/>\r\n     <use style=\"fill:#1f77b4;stroke:#1f77b4;\" x=\"227.860534\" xlink:href=\"#m820297d2fc\" y=\"126.901818\"/>\r\n     <use style=\"fill:#1f77b4;stroke:#1f77b4;\" x=\"197.943204\" xlink:href=\"#m820297d2fc\" y=\"133.930182\"/>\r\n     <use style=\"fill:#1f77b4;stroke:#1f77b4;\" x=\"191.528182\" xlink:href=\"#m820297d2fc\" y=\"153.697455\"/>\r\n     <use style=\"fill:#1f77b4;stroke:#1f77b4;\" x=\"270.8995\" xlink:href=\"#m820297d2fc\" y=\"81.217455\"/>\r\n     <use style=\"fill:#1f77b4;stroke:#1f77b4;\" x=\"220.395781\" xlink:href=\"#m820297d2fc\" y=\"128.219636\"/>\r\n     <use style=\"fill:#1f77b4;stroke:#1f77b4;\" x=\"245.647641\" xlink:href=\"#m820297d2fc\" y=\"97.909818\"/>\r\n     <use style=\"fill:#1f77b4;stroke:#1f77b4;\" x=\"206.516006\" xlink:href=\"#m820297d2fc\" y=\"134.369455\"/>\r\n     <use style=\"fill:#1f77b4;stroke:#1f77b4;\" x=\"193.802599\" xlink:href=\"#m820297d2fc\" y=\"150.622545\"/>\r\n     <use style=\"fill:#1f77b4;stroke:#1f77b4;\" x=\"182.95538\" xlink:href=\"#m820297d2fc\" y=\"154.576\"/>\r\n     <use style=\"fill:#1f77b4;stroke:#1f77b4;\" x=\"196.077016\" xlink:href=\"#m820297d2fc\" y=\"166.436364\"/>\r\n     <use style=\"fill:#1f77b4;stroke:#1f77b4;\" x=\"224.653023\" xlink:href=\"#m820297d2fc\" y=\"139.201455\"/>\r\n     <use style=\"fill:#1f77b4;stroke:#1f77b4;\" x=\"242.498448\" xlink:href=\"#m820297d2fc\" y=\"126.901818\"/>\r\n     <use style=\"fill:#1f77b4;stroke:#1f77b4;\" x=\"262.443335\" xlink:href=\"#m820297d2fc\" y=\"91.76\"/>\r\n     <use style=\"fill:#1f77b4;stroke:#1f77b4;\" x=\"214.972172\" xlink:href=\"#m820297d2fc\" y=\"133.490909\"/>\r\n     <use style=\"fill:#1f77b4;stroke:#1f77b4;\" x=\"185.638025\" xlink:href=\"#m820297d2fc\" y=\"151.501091\"/>\r\n     <use style=\"fill:#1f77b4;stroke:#1f77b4;\" x=\"190.944998\" xlink:href=\"#m820297d2fc\" y=\"140.08\"/>\r\n     <use style=\"fill:#1f77b4;stroke:#1f77b4;\" x=\"174.382578\" xlink:href=\"#m820297d2fc\" y=\"160.286545\"/>\r\n     <use style=\"fill:#1f77b4;stroke:#1f77b4;\" x=\"191.353227\" xlink:href=\"#m820297d2fc\" y=\"144.912\"/>\r\n     <use style=\"fill:#1f77b4;stroke:#1f77b4;\" x=\"222.378606\" xlink:href=\"#m820297d2fc\" y=\"130.416\"/>\r\n     <use style=\"fill:#1f77b4;stroke:#1f77b4;\" x=\"195.785424\" xlink:href=\"#m820297d2fc\" y=\"141.397818\"/>\r\n     <use style=\"fill:#1f77b4;stroke:#1f77b4;\" x=\"201.850536\" xlink:href=\"#m820297d2fc\" y=\"136.565818\"/>\r\n     <use style=\"fill:#1f77b4;stroke:#1f77b4;\" x=\"212.347844\" xlink:href=\"#m820297d2fc\" y=\"133.930182\"/>\r\n     <use style=\"fill:#1f77b4;stroke:#1f77b4;\" x=\"213.980759\" xlink:href=\"#m820297d2fc\" y=\"130.855273\"/>\r\n     <use style=\"fill:#1f77b4;stroke:#1f77b4;\" x=\"214.738898\" xlink:href=\"#m820297d2fc\" y=\"142.715636\"/>\r\n     <use style=\"fill:#1f77b4;stroke:#1f77b4;\" x=\"214.330669\" xlink:href=\"#m820297d2fc\" y=\"148.865455\"/>\r\n     <use style=\"fill:#1f77b4;stroke:#1f77b4;\" x=\"206.224414\" xlink:href=\"#m820297d2fc\" y=\"145.351273\"/>\r\n     <use style=\"fill:#1f77b4;stroke:#1f77b4;\" x=\"211.589706\" xlink:href=\"#m820297d2fc\" y=\"143.594182\"/>\r\n     <use style=\"fill:#1f77b4;stroke:#1f77b4;\" x=\"190.711725\" xlink:href=\"#m820297d2fc\" y=\"147.547636\"/>\r\n     <use style=\"fill:#1f77b4;stroke:#1f77b4;\" x=\"240.457305\" xlink:href=\"#m820297d2fc\" y=\"113.723636\"/>\r\n     <use style=\"fill:#1f77b4;stroke:#1f77b4;\" x=\"234.158919\" xlink:href=\"#m820297d2fc\" y=\"131.733818\"/>\r\n     <use style=\"fill:#1f77b4;stroke:#1f77b4;\" x=\"215.671992\" xlink:href=\"#m820297d2fc\" y=\"127.780364\"/>\r\n     <use style=\"fill:#1f77b4;stroke:#1f77b4;\" x=\"207.799011\" xlink:href=\"#m820297d2fc\" y=\"136.126545\"/>\r\n     <use style=\"fill:#1f77b4;stroke:#1f77b4;\" x=\"220.745691\" xlink:href=\"#m820297d2fc\" y=\"131.733818\"/>\r\n     <use style=\"fill:#1f77b4;stroke:#1f77b4;\" x=\"234.800422\" xlink:href=\"#m820297d2fc\" y=\"119.873455\"/>\r\n     <use style=\"fill:#1f77b4;stroke:#1f77b4;\" x=\"198.934617\" xlink:href=\"#m820297d2fc\" y=\"137.883636\"/>\r\n     <use style=\"fill:#1f77b4;stroke:#1f77b4;\" x=\"205.116365\" xlink:href=\"#m820297d2fc\" y=\"139.201455\"/>\r\n     <use style=\"fill:#1f77b4;stroke:#1f77b4;\" x=\"256.786452\" xlink:href=\"#m820297d2fc\" y=\"133.051636\"/>\r\n     <use style=\"fill:#1f77b4;stroke:#1f77b4;\" x=\"260.985375\" xlink:href=\"#m820297d2fc\" y=\"110.648727\"/>\r\n     <use style=\"fill:#1f77b4;stroke:#1f77b4;\" x=\"222.378606\" xlink:href=\"#m820297d2fc\" y=\"137.444364\"/>\r\n     <use style=\"fill:#1f77b4;stroke:#1f77b4;\" x=\"221.678786\" xlink:href=\"#m820297d2fc\" y=\"140.08\"/>\r\n     <use style=\"fill:#1f77b4;stroke:#1f77b4;\" x=\"223.836566\" xlink:href=\"#m820297d2fc\" y=\"136.126545\"/>\r\n     <use style=\"fill:#1f77b4;stroke:#1f77b4;\" x=\"210.365019\" xlink:href=\"#m820297d2fc\" y=\"126.901818\"/>\r\n     <use style=\"fill:#1f77b4;stroke:#1f77b4;\" x=\"212.581118\" xlink:href=\"#m820297d2fc\" y=\"146.229818\"/>\r\n     <use style=\"fill:#1f77b4;stroke:#1f77b4;\" x=\"234.50883\" xlink:href=\"#m820297d2fc\" y=\"111.966545\"/>\r\n     <use style=\"fill:#1f77b4;stroke:#1f77b4;\" x=\"207.565737\" xlink:href=\"#m820297d2fc\" y=\"142.715636\"/>\r\n     <use style=\"fill:#1f77b4;stroke:#1f77b4;\" x=\"318.720573\" xlink:href=\"#m820297d2fc\" y=\"66.721455\"/>\r\n     <use style=\"fill:#1f77b4;stroke:#1f77b4;\" x=\"304.199296\" xlink:href=\"#m820297d2fc\" y=\"44.318545\"/>\r\n     <use style=\"fill:#1f77b4;stroke:#1f77b4;\" x=\"280.63867\" xlink:href=\"#m820297d2fc\" y=\"90.881455\"/>\r\n     <use style=\"fill:#1f77b4;stroke:#1f77b4;\" x=\"240.457305\" xlink:href=\"#m820297d2fc\" y=\"115.92\"/>\r\n     <use style=\"fill:#1f77b4;stroke:#1f77b4;\" x=\"243.606497\" xlink:href=\"#m820297d2fc\" y=\"120.312727\"/>\r\n     <use style=\"fill:#1f77b4;stroke:#1f77b4;\" x=\"221.678786\" xlink:href=\"#m820297d2fc\" y=\"155.015273\"/>\r\n     <use style=\"fill:#1f77b4;stroke:#1f77b4;\" x=\"206.049459\" xlink:href=\"#m820297d2fc\" y=\"151.940364\"/>\r\n     <use style=\"fill:#1f77b4;stroke:#1f77b4;\" x=\"207.799011\" xlink:href=\"#m820297d2fc\" y=\"148.426182\"/>\r\n     <use style=\"fill:#1f77b4;stroke:#1f77b4;\" x=\"189.370402\" xlink:href=\"#m820297d2fc\" y=\"151.061818\"/>\r\n     <use style=\"fill:#1f77b4;stroke:#1f77b4;\" x=\"188.495626\" xlink:href=\"#m820297d2fc\" y=\"151.061818\"/>\r\n     <use style=\"fill:#1f77b4;stroke:#1f77b4;\" x=\"205.466275\" xlink:href=\"#m820297d2fc\" y=\"147.108364\"/>\r\n     <use style=\"fill:#1f77b4;stroke:#1f77b4;\" x=\"225.702754\" xlink:href=\"#m820297d2fc\" y=\"149.744\"/>\r\n     <use style=\"fill:#1f77b4;stroke:#1f77b4;\" x=\"211.41475\" xlink:href=\"#m820297d2fc\" y=\"151.501091\"/>\r\n     <use style=\"fill:#1f77b4;stroke:#1f77b4;\" x=\"209.431925\" xlink:href=\"#m820297d2fc\" y=\"141.397818\"/>\r\n     <use style=\"fill:#1f77b4;stroke:#1f77b4;\" x=\"239.757484\" xlink:href=\"#m820297d2fc\" y=\"136.565818\"/>\r\n     <use style=\"fill:#1f77b4;stroke:#1f77b4;\" x=\"192.986142\" xlink:href=\"#m820297d2fc\" y=\"154.136727\"/>\r\n     <use style=\"fill:#1f77b4;stroke:#1f77b4;\" x=\"203.425132\" xlink:href=\"#m820297d2fc\" y=\"154.576\"/>\r\n     <use style=\"fill:#1f77b4;stroke:#1f77b4;\" x=\"212.87271\" xlink:href=\"#m820297d2fc\" y=\"155.454545\"/>\r\n     <use style=\"fill:#1f77b4;stroke:#1f77b4;\" x=\"193.860917\" xlink:href=\"#m820297d2fc\" y=\"156.333091\"/>\r\n     <use style=\"fill:#1f77b4;stroke:#1f77b4;\" x=\"208.323876\" xlink:href=\"#m820297d2fc\" y=\"143.594182\"/>\r\n     <use style=\"fill:#1f77b4;stroke:#1f77b4;\" x=\"199.284527\" xlink:href=\"#m820297d2fc\" y=\"152.379636\"/>\r\n     <use style=\"fill:#1f77b4;stroke:#1f77b4;\" x=\"190.595088\" xlink:href=\"#m820297d2fc\" y=\"147.108364\"/>\r\n     <use style=\"fill:#1f77b4;stroke:#1f77b4;\" x=\"182.372196\" xlink:href=\"#m820297d2fc\" y=\"151.940364\"/>\r\n     <use style=\"fill:#1f77b4;stroke:#1f77b4;\" x=\"190.478451\" xlink:href=\"#m820297d2fc\" y=\"140.08\"/>\r\n     <use style=\"fill:#1f77b4;stroke:#1f77b4;\" x=\"198.293114\" xlink:href=\"#m820297d2fc\" y=\"147.547636\"/>\r\n     <use style=\"fill:#1f77b4;stroke:#1f77b4;\" x=\"195.785424\" xlink:href=\"#m820297d2fc\" y=\"146.669091\"/>\r\n     <use style=\"fill:#1f77b4;stroke:#1f77b4;\" x=\"189.661994\" xlink:href=\"#m820297d2fc\" y=\"160.725818\"/>\r\n     <use style=\"fill:#1f77b4;stroke:#1f77b4;\" x=\"191.003317\" xlink:href=\"#m820297d2fc\" y=\"154.136727\"/>\r\n     <use style=\"fill:#1f77b4;stroke:#1f77b4;\" x=\"197.243383\" xlink:href=\"#m820297d2fc\" y=\"142.715636\"/>\r\n     <use style=\"fill:#1f77b4;stroke:#1f77b4;\" x=\"175.490627\" xlink:href=\"#m820297d2fc\" y=\"167.754182\"/>\r\n     <use style=\"fill:#1f77b4;stroke:#1f77b4;\" x=\"180.156098\" xlink:href=\"#m820297d2fc\" y=\"165.557818\"/>\r\n     <use style=\"fill:#1f77b4;stroke:#1f77b4;\" x=\"223.195064\" xlink:href=\"#m820297d2fc\" y=\"157.650909\"/>\r\n     <use style=\"fill:#1f77b4;stroke:#1f77b4;\" x=\"176.890268\" xlink:href=\"#m820297d2fc\" y=\"173.904\"/>\r\n     <use style=\"fill:#1f77b4;stroke:#1f77b4;\" x=\"224.76966\" xlink:href=\"#m820297d2fc\" y=\"152.379636\"/>\r\n     <use style=\"fill:#1f77b4;stroke:#1f77b4;\" x=\"217.071633\" xlink:href=\"#m820297d2fc\" y=\"150.622545\"/>\r\n     <use style=\"fill:#1f77b4;stroke:#1f77b4;\" x=\"219.754279\" xlink:href=\"#m820297d2fc\" y=\"135.687273\"/>\r\n     <use style=\"fill:#1f77b4;stroke:#1f77b4;\" x=\"187.679169\" xlink:href=\"#m820297d2fc\" y=\"155.893818\"/>\r\n     <use style=\"fill:#1f77b4;stroke:#1f77b4;\" x=\"183.888474\" xlink:href=\"#m820297d2fc\" y=\"168.193455\"/>\r\n     <use style=\"fill:#1f77b4;stroke:#1f77b4;\" x=\"217.596499\" xlink:href=\"#m820297d2fc\" y=\"157.211636\"/>\r\n     <use style=\"fill:#1f77b4;stroke:#1f77b4;\" x=\"194.677375\" xlink:href=\"#m820297d2fc\" y=\"160.286545\"/>\r\n     <use style=\"fill:#1f77b4;stroke:#1f77b4;\" x=\"224.536386\" xlink:href=\"#m820297d2fc\" y=\"161.604364\"/>\r\n     <use style=\"fill:#1f77b4;stroke:#1f77b4;\" x=\"189.720312\" xlink:href=\"#m820297d2fc\" y=\"178.296727\"/>\r\n     <use style=\"fill:#1f77b4;stroke:#1f77b4;\" x=\"206.865917\" xlink:href=\"#m820297d2fc\" y=\"158.529455\"/>\r\n     <use style=\"fill:#1f77b4;stroke:#1f77b4;\" x=\"208.207239\" xlink:href=\"#m820297d2fc\" y=\"175.221818\"/>\r\n     <use style=\"fill:#1f77b4;stroke:#1f77b4;\" x=\"140.849508\" xlink:href=\"#m820297d2fc\" y=\"173.464727\"/>\r\n     <use style=\"fill:#1f77b4;stroke:#1f77b4;\" x=\"163.243767\" xlink:href=\"#m820297d2fc\" y=\"177.857455\"/>\r\n     <use style=\"fill:#1f77b4;stroke:#1f77b4;\" x=\"167.034462\" xlink:href=\"#m820297d2fc\" y=\"168.193455\"/>\r\n     <use style=\"fill:#1f77b4;stroke:#1f77b4;\" x=\"134.084576\" xlink:href=\"#m820297d2fc\" y=\"184.885818\"/>\r\n     <use style=\"fill:#1f77b4;stroke:#1f77b4;\" x=\"205.641231\" xlink:href=\"#m820297d2fc\" y=\"176.100364\"/>\r\n     <use style=\"fill:#1f77b4;stroke:#1f77b4;\" x=\"176.365403\" xlink:href=\"#m820297d2fc\" y=\"168.193455\"/>\r\n     <use style=\"fill:#1f77b4;stroke:#1f77b4;\" x=\"135.425898\" xlink:href=\"#m820297d2fc\" y=\"172.586182\"/>\r\n     <use style=\"fill:#1f77b4;stroke:#1f77b4;\" x=\"150.588678\" xlink:href=\"#m820297d2fc\" y=\"158.529455\"/>\r\n     <use style=\"fill:#1f77b4;stroke:#1f77b4;\" x=\"174.557533\" xlink:href=\"#m820297d2fc\" y=\"169.072\"/>\r\n     <use style=\"fill:#1f77b4;stroke:#1f77b4;\" x=\"205.174683\" xlink:href=\"#m820297d2fc\" y=\"142.276364\"/>\r\n     <use style=\"fill:#1f77b4;stroke:#1f77b4;\" x=\"163.302085\" xlink:href=\"#m820297d2fc\" y=\"150.622545\"/>\r\n     <use style=\"fill:#1f77b4;stroke:#1f77b4;\" x=\"140.441279\" xlink:href=\"#m820297d2fc\" y=\"169.511273\"/>\r\n     <use style=\"fill:#1f77b4;stroke:#1f77b4;\" x=\"181.089192\" xlink:href=\"#m820297d2fc\" y=\"151.501091\"/>\r\n     <use style=\"fill:#1f77b4;stroke:#1f77b4;\" x=\"205.582912\" xlink:href=\"#m820297d2fc\" y=\"162.043636\"/>\r\n     <use style=\"fill:#1f77b4;stroke:#1f77b4;\" x=\"206.924235\" xlink:href=\"#m820297d2fc\" y=\"168.193455\"/>\r\n     <use style=\"fill:#1f77b4;stroke:#1f77b4;\" x=\"155.604059\" xlink:href=\"#m820297d2fc\" y=\"179.175273\"/>\r\n     <use style=\"fill:#1f77b4;stroke:#1f77b4;\" x=\"253.054075\" xlink:href=\"#m820297d2fc\" y=\"55.300364\"/>\r\n     <use style=\"fill:#1f77b4;stroke:#1f77b4;\" x=\"201.908854\" xlink:href=\"#m820297d2fc\" y=\"129.976727\"/>\r\n     <use style=\"fill:#1f77b4;stroke:#1f77b4;\" x=\"227.802216\" xlink:href=\"#m820297d2fc\" y=\"134.369455\"/>\r\n     <use style=\"fill:#1f77b4;stroke:#1f77b4;\" x=\"212.639436\" xlink:href=\"#m820297d2fc\" y=\"118.116364\"/>\r\n     <use style=\"fill:#1f77b4;stroke:#1f77b4;\" x=\"284.895912\" xlink:href=\"#m820297d2fc\" y=\"17.083636\"/>\r\n     <use style=\"fill:#1f77b4;stroke:#1f77b4;\" x=\"303.149565\" xlink:href=\"#m820297d2fc\" y=\"17.083636\"/>\r\n     <use style=\"fill:#1f77b4;stroke:#1f77b4;\" x=\"336.565998\" xlink:href=\"#m820297d2fc\" y=\"17.083636\"/>\r\n     <use style=\"fill:#1f77b4;stroke:#1f77b4;\" x=\"189.545357\" xlink:href=\"#m820297d2fc\" y=\"137.005091\"/>\r\n     <use style=\"fill:#1f77b4;stroke:#1f77b4;\" x=\"203.949997\" xlink:href=\"#m820297d2fc\" y=\"126.901818\"/>\r\n     <use style=\"fill:#1f77b4;stroke:#1f77b4;\" x=\"310.556\" xlink:href=\"#m820297d2fc\" y=\"17.083636\"/>\r\n     <use style=\"fill:#1f77b4;stroke:#1f77b4;\" x=\"190.88668\" xlink:href=\"#m820297d2fc\" y=\"132.173091\"/>\r\n     <use style=\"fill:#1f77b4;stroke:#1f77b4;\" x=\"216.663405\" xlink:href=\"#m820297d2fc\" y=\"132.173091\"/>\r\n     <use style=\"fill:#1f77b4;stroke:#1f77b4;\" x=\"221.50383\" xlink:href=\"#m820297d2fc\" y=\"138.762182\"/>\r\n     <use style=\"fill:#1f77b4;stroke:#1f77b4;\" x=\"190.770043\" xlink:href=\"#m820297d2fc\" y=\"160.286545\"/>\r\n     <use style=\"fill:#1f77b4;stroke:#1f77b4;\" x=\"191.061635\" xlink:href=\"#m820297d2fc\" y=\"152.818909\"/>\r\n     <use style=\"fill:#1f77b4;stroke:#1f77b4;\" x=\"173.099573\" xlink:href=\"#m820297d2fc\" y=\"135.248\"/>\r\n     <use style=\"fill:#1f77b4;stroke:#1f77b4;\" x=\"222.320288\" xlink:href=\"#m820297d2fc\" y=\"133.051636\"/>\r\n     <use style=\"fill:#1f77b4;stroke:#1f77b4;\" x=\"189.836949\" xlink:href=\"#m820297d2fc\" y=\"137.444364\"/>\r\n     <use style=\"fill:#1f77b4;stroke:#1f77b4;\" x=\"229.901677\" xlink:href=\"#m820297d2fc\" y=\"107.573818\"/>\r\n     <use style=\"fill:#1f77b4;stroke:#1f77b4;\" x=\"199.226208\" xlink:href=\"#m820297d2fc\" y=\"134.808727\"/>\r\n     <use style=\"fill:#1f77b4;stroke:#1f77b4;\" x=\"216.430131\" xlink:href=\"#m820297d2fc\" y=\"128.658909\"/>\r\n     <use style=\"fill:#1f77b4;stroke:#1f77b4;\" x=\"248.213649\" xlink:href=\"#m820297d2fc\" y=\"105.377455\"/>\r\n     <use style=\"fill:#1f77b4;stroke:#1f77b4;\" x=\"255.211855\" xlink:href=\"#m820297d2fc\" y=\"73.310545\"/>\r\n     <use style=\"fill:#1f77b4;stroke:#1f77b4;\" x=\"300.991785\" xlink:href=\"#m820297d2fc\" y=\"61.889455\"/>\r\n     <use style=\"fill:#1f77b4;stroke:#1f77b4;\" x=\"206.457688\" xlink:href=\"#m820297d2fc\" y=\"77.703273\"/>\r\n     <use style=\"fill:#1f77b4;stroke:#1f77b4;\" x=\"265.417572\" xlink:href=\"#m820297d2fc\" y=\"70.235636\"/>\r\n     <use style=\"fill:#1f77b4;stroke:#1f77b4;\" x=\"230.89309\" xlink:href=\"#m820297d2fc\" y=\"93.956364\"/>\r\n     <use style=\"fill:#1f77b4;stroke:#1f77b4;\" x=\"174.965762\" xlink:href=\"#m820297d2fc\" y=\"120.752\"/>\r\n     <use style=\"fill:#1f77b4;stroke:#1f77b4;\" x=\"206.982553\" xlink:href=\"#m820297d2fc\" y=\"106.695273\"/>\r\n     <use style=\"fill:#1f77b4;stroke:#1f77b4;\" x=\"304.840799\" xlink:href=\"#m820297d2fc\" y=\"17.083636\"/>\r\n     <use style=\"fill:#1f77b4;stroke:#1f77b4;\" x=\"243.664816\" xlink:href=\"#m820297d2fc\" y=\"96.152727\"/>\r\n     <use style=\"fill:#1f77b4;stroke:#1f77b4;\" x=\"230.484861\" xlink:href=\"#m820297d2fc\" y=\"105.816727\"/>\r\n     <use style=\"fill:#1f77b4;stroke:#1f77b4;\" x=\"267.167124\" xlink:href=\"#m820297d2fc\" y=\"83.413818\"/>\r\n     <use style=\"fill:#1f77b4;stroke:#1f77b4;\" x=\"253.520622\" xlink:href=\"#m820297d2fc\" y=\"74.189091\"/>\r\n     <use style=\"fill:#1f77b4;stroke:#1f77b4;\" x=\"241.157125\" xlink:href=\"#m820297d2fc\" y=\"102.741818\"/>\r\n     <use style=\"fill:#1f77b4;stroke:#1f77b4;\" x=\"266.758895\" xlink:href=\"#m820297d2fc\" y=\"76.824727\"/>\r\n     <use style=\"fill:#1f77b4;stroke:#1f77b4;\" x=\"244.714547\" xlink:href=\"#m820297d2fc\" y=\"100.106182\"/>\r\n     <use style=\"fill:#1f77b4;stroke:#1f77b4;\" x=\"233.284144\" xlink:href=\"#m820297d2fc\" y=\"108.891636\"/>\r\n     <use style=\"fill:#1f77b4;stroke:#1f77b4;\" x=\"307.406807\" xlink:href=\"#m820297d2fc\" y=\"17.083636\"/>\r\n     <use style=\"fill:#1f77b4;stroke:#1f77b4;\" x=\"273.115599\" xlink:href=\"#m820297d2fc\" y=\"90.442182\"/>\r\n     <use style=\"fill:#1f77b4;stroke:#1f77b4;\" x=\"262.61829\" xlink:href=\"#m820297d2fc\" y=\"103.620364\"/>\r\n     <use style=\"fill:#1f77b4;stroke:#1f77b4;\" x=\"272.35746\" xlink:href=\"#m820297d2fc\" y=\"84.731636\"/>\r\n     <use style=\"fill:#1f77b4;stroke:#1f77b4;\" x=\"254.920263\" xlink:href=\"#m820297d2fc\" y=\"83.413818\"/>\r\n     <use style=\"fill:#1f77b4;stroke:#1f77b4;\" x=\"264.251205\" xlink:href=\"#m820297d2fc\" y=\"92.199273\"/>\r\n     <use style=\"fill:#1f77b4;stroke:#1f77b4;\" x=\"207.507419\" xlink:href=\"#m820297d2fc\" y=\"130.855273\"/>\r\n     <use style=\"fill:#1f77b4;stroke:#1f77b4;\" x=\"291.952436\" xlink:href=\"#m820297d2fc\" y=\"50.907636\"/>\r\n     <use style=\"fill:#1f77b4;stroke:#1f77b4;\" x=\"306.123803\" xlink:href=\"#m820297d2fc\" y=\"23.672727\"/>\r\n     <use style=\"fill:#1f77b4;stroke:#1f77b4;\" x=\"316.67943\" xlink:href=\"#m820297d2fc\" y=\"17.083636\"/>\r\n     <use style=\"fill:#1f77b4;stroke:#1f77b4;\" x=\"191.703137\" xlink:href=\"#m820297d2fc\" y=\"137.444364\"/>\r\n     <use style=\"fill:#1f77b4;stroke:#1f77b4;\" x=\"217.071633\" xlink:href=\"#m820297d2fc\" y=\"129.537455\"/>\r\n     <use style=\"fill:#1f77b4;stroke:#1f77b4;\" x=\"185.404752\" xlink:href=\"#m820297d2fc\" y=\"137.883636\"/>\r\n     <use style=\"fill:#1f77b4;stroke:#1f77b4;\" x=\"201.792217\" xlink:href=\"#m820297d2fc\" y=\"129.537455\"/>\r\n     <use style=\"fill:#1f77b4;stroke:#1f77b4;\" x=\"159.802982\" xlink:href=\"#m820297d2fc\" y=\"148.865455\"/>\r\n     <use style=\"fill:#1f77b4;stroke:#1f77b4;\" x=\"195.727106\" xlink:href=\"#m820297d2fc\" y=\"141.397818\"/>\r\n     <use style=\"fill:#1f77b4;stroke:#1f77b4;\" x=\"163.302085\" xlink:href=\"#m820297d2fc\" y=\"151.940364\"/>\r\n     <use style=\"fill:#1f77b4;stroke:#1f77b4;\" x=\"186.804393\" xlink:href=\"#m820297d2fc\" y=\"138.322909\"/>\r\n     <use style=\"fill:#1f77b4;stroke:#1f77b4;\" x=\"219.929234\" xlink:href=\"#m820297d2fc\" y=\"113.284364\"/>\r\n     <use style=\"fill:#1f77b4;stroke:#1f77b4;\" x=\"163.768632\" xlink:href=\"#m820297d2fc\" y=\"132.612364\"/>\r\n     <use style=\"fill:#1f77b4;stroke:#1f77b4;\" x=\"208.673786\" xlink:href=\"#m820297d2fc\" y=\"126.901818\"/>\r\n     <use style=\"fill:#1f77b4;stroke:#1f77b4;\" x=\"191.528182\" xlink:href=\"#m820297d2fc\" y=\"134.369455\"/>\r\n     <use style=\"fill:#1f77b4;stroke:#1f77b4;\" x=\"235.500242\" xlink:href=\"#m820297d2fc\" y=\"110.648727\"/>\r\n     <use style=\"fill:#1f77b4;stroke:#1f77b4;\" x=\"195.20224\" xlink:href=\"#m820297d2fc\" y=\"142.276364\"/>\r\n     <use style=\"fill:#1f77b4;stroke:#1f77b4;\" x=\"219.812597\" xlink:href=\"#m820297d2fc\" y=\"135.687273\"/>\r\n     <use style=\"fill:#1f77b4;stroke:#1f77b4;\" x=\"253.520622\" xlink:href=\"#m820297d2fc\" y=\"119.434182\"/>\r\n     <use style=\"fill:#1f77b4;stroke:#1f77b4;\" x=\"207.624056\" xlink:href=\"#m820297d2fc\" y=\"141.397818\"/>\r\n     <use style=\"fill:#1f77b4;stroke:#1f77b4;\" x=\"249.321699\" xlink:href=\"#m820297d2fc\" y=\"115.92\"/>\r\n     <use style=\"fill:#1f77b4;stroke:#1f77b4;\" x=\"234.100601\" xlink:href=\"#m820297d2fc\" y=\"104.498909\"/>\r\n     <use style=\"fill:#1f77b4;stroke:#1f77b4;\" x=\"330.209295\" xlink:href=\"#m820297d2fc\" y=\"39.925818\"/>\r\n     <use style=\"fill:#1f77b4;stroke:#1f77b4;\" x=\"356.977432\" xlink:href=\"#m820297d2fc\" y=\"17.083636\"/>\r\n     <use style=\"fill:#1f77b4;stroke:#1f77b4;\" x=\"317.02934\" xlink:href=\"#m820297d2fc\" y=\"71.553455\"/>\r\n     <use style=\"fill:#1f77b4;stroke:#1f77b4;\" x=\"265.884119\" xlink:href=\"#m820297d2fc\" y=\"97.909818\"/>\r\n     <use style=\"fill:#1f77b4;stroke:#1f77b4;\" x=\"296.384633\" xlink:href=\"#m820297d2fc\" y=\"31.579636\"/>\r\n     <use style=\"fill:#1f77b4;stroke:#1f77b4;\" x=\"230.251588\" xlink:href=\"#m820297d2fc\" y=\"98.349091\"/>\r\n     <use style=\"fill:#1f77b4;stroke:#1f77b4;\" x=\"196.951792\" xlink:href=\"#m820297d2fc\" y=\"129.976727\"/>\r\n     <use style=\"fill:#1f77b4;stroke:#1f77b4;\" x=\"280.405396\" xlink:href=\"#m820297d2fc\" y=\"97.470545\"/>\r\n     <use style=\"fill:#1f77b4;stroke:#1f77b4;\" x=\"334.3499\" xlink:href=\"#m820297d2fc\" y=\"53.543273\"/>\r\n     <use style=\"fill:#1f77b4;stroke:#1f77b4;\" x=\"329.101246\" xlink:href=\"#m820297d2fc\" y=\"24.551273\"/>\r\n     <use style=\"fill:#1f77b4;stroke:#1f77b4;\" x=\"240.398986\" xlink:href=\"#m820297d2fc\" y=\"109.330909\"/>\r\n     <use style=\"fill:#1f77b4;stroke:#1f77b4;\" x=\"203.075222\" xlink:href=\"#m820297d2fc\" y=\"131.294545\"/>\r\n     <use style=\"fill:#1f77b4;stroke:#1f77b4;\" x=\"234.85874\" xlink:href=\"#m820297d2fc\" y=\"126.462545\"/>\r\n     <use style=\"fill:#1f77b4;stroke:#1f77b4;\" x=\"277.256204\" xlink:href=\"#m820297d2fc\" y=\"98.349091\"/>\r\n     <use style=\"fill:#1f77b4;stroke:#1f77b4;\" x=\"226.110983\" xlink:href=\"#m820297d2fc\" y=\"132.612364\"/>\r\n     <use style=\"fill:#1f77b4;stroke:#1f77b4;\" x=\"233.40078\" xlink:href=\"#m820297d2fc\" y=\"134.369455\"/>\r\n     <use style=\"fill:#1f77b4;stroke:#1f77b4;\" x=\"250.37143\" xlink:href=\"#m820297d2fc\" y=\"140.08\"/>\r\n     <use style=\"fill:#1f77b4;stroke:#1f77b4;\" x=\"203.600087\" xlink:href=\"#m820297d2fc\" y=\"148.426182\"/>\r\n     <use style=\"fill:#1f77b4;stroke:#1f77b4;\" x=\"218.937822\" xlink:href=\"#m820297d2fc\" y=\"139.201455\"/>\r\n     <use style=\"fill:#1f77b4;stroke:#1f77b4;\" x=\"220.978965\" xlink:href=\"#m820297d2fc\" y=\"132.612364\"/>\r\n     <use style=\"fill:#1f77b4;stroke:#1f77b4;\" x=\"174.324259\" xlink:href=\"#m820297d2fc\" y=\"159.408\"/>\r\n     <use style=\"fill:#1f77b4;stroke:#1f77b4;\" x=\"175.02408\" xlink:href=\"#m820297d2fc\" y=\"155.454545\"/>\r\n     <use style=\"fill:#1f77b4;stroke:#1f77b4;\" x=\"204.358226\" xlink:href=\"#m820297d2fc\" y=\"129.976727\"/>\r\n     <use style=\"fill:#1f77b4;stroke:#1f77b4;\" x=\"211.239795\" xlink:href=\"#m820297d2fc\" y=\"146.669091\"/>\r\n     <use style=\"fill:#1f77b4;stroke:#1f77b4;\" x=\"223.3117\" xlink:href=\"#m820297d2fc\" y=\"129.098182\"/>\r\n     <use style=\"fill:#1f77b4;stroke:#1f77b4;\" x=\"239.932439\" xlink:href=\"#m820297d2fc\" y=\"121.630545\"/>\r\n     <use style=\"fill:#1f77b4;stroke:#1f77b4;\" x=\"226.460893\" xlink:href=\"#m820297d2fc\" y=\"129.537455\"/>\r\n     <use style=\"fill:#1f77b4;stroke:#1f77b4;\" x=\"223.603292\" xlink:href=\"#m820297d2fc\" y=\"127.780364\"/>\r\n     <use style=\"fill:#1f77b4;stroke:#1f77b4;\" x=\"253.870533\" xlink:href=\"#m820297d2fc\" y=\"106.695273\"/>\r\n     <use style=\"fill:#1f77b4;stroke:#1f77b4;\" x=\"329.801066\" xlink:href=\"#m820297d2fc\" y=\"48.711273\"/>\r\n     <use style=\"fill:#1f77b4;stroke:#1f77b4;\" x=\"204.358226\" xlink:href=\"#m820297d2fc\" y=\"140.519273\"/>\r\n     <use style=\"fill:#1f77b4;stroke:#1f77b4;\" x=\"190.828361\" xlink:href=\"#m820297d2fc\" y=\"144.912\"/>\r\n     <use style=\"fill:#1f77b4;stroke:#1f77b4;\" x=\"282.854768\" xlink:href=\"#m820297d2fc\" y=\"43.44\"/>\r\n     <use style=\"fill:#1f77b4;stroke:#1f77b4;\" x=\"355.752746\" xlink:href=\"#m820297d2fc\" y=\"17.083636\"/>\r\n     <use style=\"fill:#1f77b4;stroke:#1f77b4;\" x=\"275.798244\" xlink:href=\"#m820297d2fc\" y=\"78.581818\"/>\r\n     <use style=\"fill:#1f77b4;stroke:#1f77b4;\" x=\"247.163919\" xlink:href=\"#m820297d2fc\" y=\"104.498909\"/>\r\n     <use style=\"fill:#1f77b4;stroke:#1f77b4;\" x=\"268.216855\" xlink:href=\"#m820297d2fc\" y=\"88.245818\"/>\r\n     <use style=\"fill:#1f77b4;stroke:#1f77b4;\" x=\"286.703782\" xlink:href=\"#m820297d2fc\" y=\"47.393455\"/>\r\n     <use style=\"fill:#1f77b4;stroke:#1f77b4;\" x=\"337.907321\" xlink:href=\"#m820297d2fc\" y=\"22.354909\"/>\r\n     <use style=\"fill:#1f77b4;stroke:#1f77b4;\" x=\"275.448334\" xlink:href=\"#m820297d2fc\" y=\"100.545455\"/>\r\n     <use style=\"fill:#1f77b4;stroke:#1f77b4;\" x=\"268.39181\" xlink:href=\"#m820297d2fc\" y=\"76.385455\"/>\r\n     <use style=\"fill:#1f77b4;stroke:#1f77b4;\" x=\"172.399753\" xlink:href=\"#m820297d2fc\" y=\"136.565818\"/>\r\n     <use style=\"fill:#1f77b4;stroke:#1f77b4;\" x=\"257.19468\" xlink:href=\"#m820297d2fc\" y=\"101.863273\"/>\r\n     <use style=\"fill:#1f77b4;stroke:#1f77b4;\" x=\"332.017165\" xlink:href=\"#m820297d2fc\" y=\"17.083636\"/>\r\n     <use style=\"fill:#1f77b4;stroke:#1f77b4;\" x=\"283.787863\" xlink:href=\"#m820297d2fc\" y=\"45.636364\"/>\r\n     <use style=\"fill:#1f77b4;stroke:#1f77b4;\" x=\"193.39437\" xlink:href=\"#m820297d2fc\" y=\"145.790545\"/>\r\n     <use style=\"fill:#1f77b4;stroke:#1f77b4;\" x=\"189.661994\" xlink:href=\"#m820297d2fc\" y=\"144.033455\"/>\r\n     <use style=\"fill:#1f77b4;stroke:#1f77b4;\" x=\"212.056253\" xlink:href=\"#m820297d2fc\" y=\"126.023273\"/>\r\n     <use style=\"fill:#1f77b4;stroke:#1f77b4;\" x=\"229.43513\" xlink:href=\"#m820297d2fc\" y=\"129.537455\"/>\r\n     <use style=\"fill:#1f77b4;stroke:#1f77b4;\" x=\"296.676225\" xlink:href=\"#m820297d2fc\" y=\"82.096\"/>\r\n     <use style=\"fill:#1f77b4;stroke:#1f77b4;\" x=\"242.265175\" xlink:href=\"#m820297d2fc\" y=\"94.395636\"/>\r\n     <use style=\"fill:#1f77b4;stroke:#1f77b4;\" x=\"247.863739\" xlink:href=\"#m820297d2fc\" y=\"96.152727\"/>\r\n     <use style=\"fill:#1f77b4;stroke:#1f77b4;\" x=\"271.949231\" xlink:href=\"#m820297d2fc\" y=\"90.881455\"/>\r\n     <use style=\"fill:#1f77b4;stroke:#1f77b4;\" x=\"246.230824\" xlink:href=\"#m820297d2fc\" y=\"91.320727\"/>\r\n     <use style=\"fill:#1f77b4;stroke:#1f77b4;\" x=\"226.169301\" xlink:href=\"#m820297d2fc\" y=\"108.891636\"/>\r\n     <use style=\"fill:#1f77b4;stroke:#1f77b4;\" x=\"245.414367\" xlink:href=\"#m820297d2fc\" y=\"82.535273\"/>\r\n     <use style=\"fill:#1f77b4;stroke:#1f77b4;\" x=\"304.199296\" xlink:href=\"#m820297d2fc\" y=\"37.290182\"/>\r\n     <use style=\"fill:#1f77b4;stroke:#1f77b4;\" x=\"254.512035\" xlink:href=\"#m820297d2fc\" y=\"81.217455\"/>\r\n     <use style=\"fill:#1f77b4;stroke:#1f77b4;\" x=\"293.993579\" xlink:href=\"#m820297d2fc\" y=\"34.654545\"/>\r\n     <use style=\"fill:#1f77b4;stroke:#1f77b4;\" x=\"310.20609\" xlink:href=\"#m820297d2fc\" y=\"17.083636\"/>\r\n     <use style=\"fill:#1f77b4;stroke:#1f77b4;\" x=\"261.510241\" xlink:href=\"#m820297d2fc\" y=\"95.274182\"/>\r\n     <use style=\"fill:#1f77b4;stroke:#1f77b4;\" x=\"224.478068\" xlink:href=\"#m820297d2fc\" y=\"140.08\"/>\r\n     <use style=\"fill:#1f77b4;stroke:#1f77b4;\" x=\"211.473069\" xlink:href=\"#m820297d2fc\" y=\"148.426182\"/>\r\n     <use style=\"fill:#1f77b4;stroke:#1f77b4;\" x=\"210.248383\" xlink:href=\"#m820297d2fc\" y=\"134.808727\"/>\r\n     <use style=\"fill:#1f77b4;stroke:#1f77b4;\" x=\"216.430131\" xlink:href=\"#m820297d2fc\" y=\"138.762182\"/>\r\n     <use style=\"fill:#1f77b4;stroke:#1f77b4;\" x=\"231.009727\" xlink:href=\"#m820297d2fc\" y=\"127.780364\"/>\r\n     <use style=\"fill:#1f77b4;stroke:#1f77b4;\" x=\"248.271968\" xlink:href=\"#m820297d2fc\" y=\"111.527273\"/>\r\n     <use style=\"fill:#1f77b4;stroke:#1f77b4;\" x=\"265.009344\" xlink:href=\"#m820297d2fc\" y=\"72.871273\"/>\r\n     <use style=\"fill:#1f77b4;stroke:#1f77b4;\" x=\"234.800422\" xlink:href=\"#m820297d2fc\" y=\"114.162909\"/>\r\n     <use style=\"fill:#1f77b4;stroke:#1f77b4;\" x=\"205.466275\" xlink:href=\"#m820297d2fc\" y=\"131.733818\"/>\r\n     <use style=\"fill:#1f77b4;stroke:#1f77b4;\" x=\"198.584706\" xlink:href=\"#m820297d2fc\" y=\"141.397818\"/>\r\n     <use style=\"fill:#1f77b4;stroke:#1f77b4;\" x=\"237.599704\" xlink:href=\"#m820297d2fc\" y=\"111.088\"/>\r\n     <use style=\"fill:#1f77b4;stroke:#1f77b4;\" x=\"230.076633\" xlink:href=\"#m820297d2fc\" y=\"117.677091\"/>\r\n     <use style=\"fill:#1f77b4;stroke:#1f77b4;\" x=\"185.812981\" xlink:href=\"#m820297d2fc\" y=\"147.547636\"/>\r\n     <use style=\"fill:#1f77b4;stroke:#1f77b4;\" x=\"218.179683\" xlink:href=\"#m820297d2fc\" y=\"137.883636\"/>\r\n     <use style=\"fill:#1f77b4;stroke:#1f77b4;\" x=\"258.769277\" xlink:href=\"#m820297d2fc\" y=\"109.330909\"/>\r\n     <use style=\"fill:#1f77b4;stroke:#1f77b4;\" x=\"248.855152\" xlink:href=\"#m820297d2fc\" y=\"127.780364\"/>\r\n     <use style=\"fill:#1f77b4;stroke:#1f77b4;\" x=\"232.467686\" xlink:href=\"#m820297d2fc\" y=\"140.08\"/>\r\n     <use style=\"fill:#1f77b4;stroke:#1f77b4;\" x=\"226.92744\" xlink:href=\"#m820297d2fc\" y=\"120.752\"/>\r\n     <use style=\"fill:#1f77b4;stroke:#1f77b4;\" x=\"255.328492\" xlink:href=\"#m820297d2fc\" y=\"91.320727\"/>\r\n     <use style=\"fill:#1f77b4;stroke:#1f77b4;\" x=\"270.141361\" xlink:href=\"#m820297d2fc\" y=\"78.142545\"/>\r\n     <use style=\"fill:#1f77b4;stroke:#1f77b4;\" x=\"233.983964\" xlink:href=\"#m820297d2fc\" y=\"111.966545\"/>\r\n     <use style=\"fill:#1f77b4;stroke:#1f77b4;\" x=\"280.871943\" xlink:href=\"#m820297d2fc\" y=\"90.002909\"/>\r\n     <use style=\"fill:#1f77b4;stroke:#1f77b4;\" x=\"247.572147\" xlink:href=\"#m820297d2fc\" y=\"112.845091\"/>\r\n     <use style=\"fill:#1f77b4;stroke:#1f77b4;\" x=\"235.092014\" xlink:href=\"#m820297d2fc\" y=\"136.565818\"/>\r\n     <use style=\"fill:#1f77b4;stroke:#1f77b4;\" x=\"196.426926\" xlink:href=\"#m820297d2fc\" y=\"147.547636\"/>\r\n     <use style=\"fill:#1f77b4;stroke:#1f77b4;\" x=\"138.166862\" xlink:href=\"#m820297d2fc\" y=\"165.997091\"/>\r\n     <use style=\"fill:#1f77b4;stroke:#1f77b4;\" x=\"205.174683\" xlink:href=\"#m820297d2fc\" y=\"139.640727\"/>\r\n     <use style=\"fill:#1f77b4;stroke:#1f77b4;\" x=\"199.401164\" xlink:href=\"#m820297d2fc\" y=\"151.501091\"/>\r\n     <use style=\"fill:#1f77b4;stroke:#1f77b4;\" x=\"213.57253\" xlink:href=\"#m820297d2fc\" y=\"141.837091\"/>\r\n     <use style=\"fill:#1f77b4;stroke:#1f77b4;\" x=\"231.126364\" xlink:href=\"#m820297d2fc\" y=\"132.173091\"/>\r\n     <use style=\"fill:#1f77b4;stroke:#1f77b4;\" x=\"180.855918\" xlink:href=\"#m820297d2fc\" y=\"165.557818\"/>\r\n     <use style=\"fill:#1f77b4;stroke:#1f77b4;\" x=\"193.04446\" xlink:href=\"#m820297d2fc\" y=\"158.529455\"/>\r\n     <use style=\"fill:#1f77b4;stroke:#1f77b4;\" x=\"185.346434\" xlink:href=\"#m820297d2fc\" y=\"149.744\"/>\r\n     <use style=\"fill:#1f77b4;stroke:#1f77b4;\" x=\"220.337463\" xlink:href=\"#m820297d2fc\" y=\"135.248\"/>\r\n     <use style=\"fill:#1f77b4;stroke:#1f77b4;\" x=\"204.649818\" xlink:href=\"#m820297d2fc\" y=\"144.472727\"/>\r\n     <use style=\"fill:#1f77b4;stroke:#1f77b4;\" x=\"222.903472\" xlink:href=\"#m820297d2fc\" y=\"132.173091\"/>\r\n     <use style=\"fill:#1f77b4;stroke:#1f77b4;\" x=\"219.987553\" xlink:href=\"#m820297d2fc\" y=\"135.248\"/>\r\n     <use style=\"fill:#1f77b4;stroke:#1f77b4;\" x=\"200.450895\" xlink:href=\"#m820297d2fc\" y=\"147.108364\"/>\r\n     <use style=\"fill:#1f77b4;stroke:#1f77b4;\" x=\"181.030873\" xlink:href=\"#m820297d2fc\" y=\"155.454545\"/>\r\n     <use style=\"fill:#1f77b4;stroke:#1f77b4;\" x=\"222.261969\" xlink:href=\"#m820297d2fc\" y=\"126.901818\"/>\r\n     <use style=\"fill:#1f77b4;stroke:#1f77b4;\" x=\"223.195064\" xlink:href=\"#m820297d2fc\" y=\"128.658909\"/>\r\n     <use style=\"fill:#1f77b4;stroke:#1f77b4;\" x=\"216.255176\" xlink:href=\"#m820297d2fc\" y=\"135.687273\"/>\r\n     <use style=\"fill:#1f77b4;stroke:#1f77b4;\" x=\"202.900267\" xlink:href=\"#m820297d2fc\" y=\"139.201455\"/>\r\n     <use style=\"fill:#1f77b4;stroke:#1f77b4;\" x=\"190.361814\" xlink:href=\"#m820297d2fc\" y=\"151.940364\"/>\r\n     <use style=\"fill:#1f77b4;stroke:#1f77b4;\" x=\"217.479862\" xlink:href=\"#m820297d2fc\" y=\"137.444364\"/>\r\n     <use style=\"fill:#1f77b4;stroke:#1f77b4;\" x=\"206.457688\" xlink:href=\"#m820297d2fc\" y=\"149.744\"/>\r\n     <use style=\"fill:#1f77b4;stroke:#1f77b4;\" x=\"180.914236\" xlink:href=\"#m820297d2fc\" y=\"161.604364\"/>\r\n     <use style=\"fill:#1f77b4;stroke:#1f77b4;\" x=\"199.867711\" xlink:href=\"#m820297d2fc\" y=\"151.501091\"/>\r\n     <use style=\"fill:#1f77b4;stroke:#1f77b4;\" x=\"216.48845\" xlink:href=\"#m820297d2fc\" y=\"139.201455\"/>\r\n     <use style=\"fill:#1f77b4;stroke:#1f77b4;\" x=\"216.138539\" xlink:href=\"#m820297d2fc\" y=\"145.790545\"/>\r\n     <use style=\"fill:#1f77b4;stroke:#1f77b4;\" x=\"200.217621\" xlink:href=\"#m820297d2fc\" y=\"144.033455\"/>\r\n     <use style=\"fill:#1f77b4;stroke:#1f77b4;\" x=\"190.420133\" xlink:href=\"#m820297d2fc\" y=\"151.061818\"/>\r\n     <use style=\"fill:#1f77b4;stroke:#1f77b4;\" x=\"191.936411\" xlink:href=\"#m820297d2fc\" y=\"155.454545\"/>\r\n     <use style=\"fill:#1f77b4;stroke:#1f77b4;\" x=\"201.500625\" xlink:href=\"#m820297d2fc\" y=\"146.229818\"/>\r\n     <use style=\"fill:#1f77b4;stroke:#1f77b4;\" x=\"197.185065\" xlink:href=\"#m820297d2fc\" y=\"153.258182\"/>\r\n     <use style=\"fill:#1f77b4;stroke:#1f77b4;\" x=\"196.193653\" xlink:href=\"#m820297d2fc\" y=\"154.576\"/>\r\n     <use style=\"fill:#1f77b4;stroke:#1f77b4;\" x=\"270.432953\" xlink:href=\"#m820297d2fc\" y=\"93.077818\"/>\r\n     <use style=\"fill:#1f77b4;stroke:#1f77b4;\" x=\"229.551767\" xlink:href=\"#m820297d2fc\" y=\"164.24\"/>\r\n     <use style=\"fill:#1f77b4;stroke:#1f77b4;\" x=\"238.649435\" xlink:href=\"#m820297d2fc\" y=\"131.733818\"/>\r\n     <use style=\"fill:#1f77b4;stroke:#1f77b4;\" x=\"249.030107\" xlink:href=\"#m820297d2fc\" y=\"99.666909\"/>\r\n     <use style=\"fill:#1f77b4;stroke:#1f77b4;\" x=\"198.876298\" xlink:href=\"#m820297d2fc\" y=\"159.847273\"/>\r\n     <use style=\"fill:#1f77b4;stroke:#1f77b4;\" x=\"192.111366\" xlink:href=\"#m820297d2fc\" y=\"161.165091\"/>\r\n     <use style=\"fill:#1f77b4;stroke:#1f77b4;\" x=\"228.152126\" xlink:href=\"#m820297d2fc\" y=\"135.248\"/>\r\n     <use style=\"fill:#1f77b4;stroke:#1f77b4;\" x=\"235.092014\" xlink:href=\"#m820297d2fc\" y=\"129.098182\"/>\r\n     <use style=\"fill:#1f77b4;stroke:#1f77b4;\" x=\"252.820802\" xlink:href=\"#m820297d2fc\" y=\"119.873455\"/>\r\n     <use style=\"fill:#1f77b4;stroke:#1f77b4;\" x=\"226.635848\" xlink:href=\"#m820297d2fc\" y=\"136.126545\"/>\r\n     <use style=\"fill:#1f77b4;stroke:#1f77b4;\" x=\"231.826184\" xlink:href=\"#m820297d2fc\" y=\"130.855273\"/>\r\n     <use style=\"fill:#1f77b4;stroke:#1f77b4;\" x=\"191.294909\" xlink:href=\"#m820297d2fc\" y=\"155.015273\"/>\r\n     <use style=\"fill:#1f77b4;stroke:#1f77b4;\" x=\"240.515623\" xlink:href=\"#m820297d2fc\" y=\"104.498909\"/>\r\n     <use style=\"fill:#1f77b4;stroke:#1f77b4;\" x=\"178.406546\" xlink:href=\"#m820297d2fc\" y=\"156.772364\"/>\r\n     <use style=\"fill:#1f77b4;stroke:#1f77b4;\" x=\"194.327464\" xlink:href=\"#m820297d2fc\" y=\"146.229818\"/>\r\n     <use style=\"fill:#1f77b4;stroke:#1f77b4;\" x=\"210.423338\" xlink:href=\"#m820297d2fc\" y=\"158.529455\"/>\r\n     <use style=\"fill:#1f77b4;stroke:#1f77b4;\" x=\"221.095602\" xlink:href=\"#m820297d2fc\" y=\"141.397818\"/>\r\n     <use style=\"fill:#1f77b4;stroke:#1f77b4;\" x=\"205.466275\" xlink:href=\"#m820297d2fc\" y=\"137.005091\"/>\r\n     <use style=\"fill:#1f77b4;stroke:#1f77b4;\" x=\"204.5915\" xlink:href=\"#m820297d2fc\" y=\"137.444364\"/>\r\n     <use style=\"fill:#1f77b4;stroke:#1f77b4;\" x=\"221.270557\" xlink:href=\"#m820297d2fc\" y=\"126.901818\"/>\r\n     <use style=\"fill:#1f77b4;stroke:#1f77b4;\" x=\"212.697755\" xlink:href=\"#m820297d2fc\" y=\"149.304727\"/>\r\n     <use style=\"fill:#1f77b4;stroke:#1f77b4;\" x=\"160.852713\" xlink:href=\"#m820297d2fc\" y=\"145.351273\"/>\r\n     <use style=\"fill:#1f77b4;stroke:#1f77b4;\" x=\"186.57112\" xlink:href=\"#m820297d2fc\" y=\"162.922182\"/>\r\n     <use style=\"fill:#1f77b4;stroke:#1f77b4;\" x=\"360.184943\" xlink:href=\"#m820297d2fc\" y=\"140.519273\"/>\r\n     <use style=\"fill:#1f77b4;stroke:#1f77b4;\" x=\"55.821307\" xlink:href=\"#m820297d2fc\" y=\"115.92\"/>\r\n     <use style=\"fill:#1f77b4;stroke:#1f77b4;\" x=\"137.583679\" xlink:href=\"#m820297d2fc\" y=\"140.519273\"/>\r\n     <use style=\"fill:#1f77b4;stroke:#1f77b4;\" x=\"73.433458\" xlink:href=\"#m820297d2fc\" y=\"135.248\"/>\r\n     <use style=\"fill:#1f77b4;stroke:#1f77b4;\" x=\"137.991907\" xlink:href=\"#m820297d2fc\" y=\"17.083636\"/>\r\n     <use style=\"fill:#1f77b4;stroke:#1f77b4;\" x=\"237.891296\" xlink:href=\"#m820297d2fc\" y=\"17.083636\"/>\r\n     <use style=\"fill:#1f77b4;stroke:#1f77b4;\" x=\"257.311317\" xlink:href=\"#m820297d2fc\" y=\"17.083636\"/>\r\n     <use style=\"fill:#1f77b4;stroke:#1f77b4;\" x=\"210.656611\" xlink:href=\"#m820297d2fc\" y=\"17.083636\"/>\r\n     <use style=\"fill:#1f77b4;stroke:#1f77b4;\" x=\"190.770043\" xlink:href=\"#m820297d2fc\" y=\"17.083636\"/>\r\n     <use style=\"fill:#1f77b4;stroke:#1f77b4;\" x=\"134.259531\" xlink:href=\"#m820297d2fc\" y=\"176.100364\"/>\r\n     <use style=\"fill:#1f77b4;stroke:#1f77b4;\" x=\"89.471013\" xlink:href=\"#m820297d2fc\" y=\"176.100364\"/>\r\n     <use style=\"fill:#1f77b4;stroke:#1f77b4;\" x=\"274.631877\" xlink:href=\"#m820297d2fc\" y=\"170.829091\"/>\r\n     <use style=\"fill:#1f77b4;stroke:#1f77b4;\" x=\"235.908471\" xlink:href=\"#m820297d2fc\" y=\"175.661091\"/>\r\n     <use style=\"fill:#1f77b4;stroke:#1f77b4;\" x=\"244.364636\" xlink:href=\"#m820297d2fc\" y=\"178.296727\"/>\r\n     <use style=\"fill:#1f77b4;stroke:#1f77b4;\" x=\"220.220826\" xlink:href=\"#m820297d2fc\" y=\"179.175273\"/>\r\n     <use style=\"fill:#1f77b4;stroke:#1f77b4;\" x=\"211.06484\" xlink:href=\"#m820297d2fc\" y=\"191.914182\"/>\r\n     <use style=\"fill:#1f77b4;stroke:#1f77b4;\" x=\"254.512035\" xlink:href=\"#m820297d2fc\" y=\"191.035636\"/>\r\n     <use style=\"fill:#1f77b4;stroke:#1f77b4;\" x=\"229.843359\" xlink:href=\"#m820297d2fc\" y=\"188.839273\"/>\r\n     <use style=\"fill:#1f77b4;stroke:#1f77b4;\" x=\"171.000112\" xlink:href=\"#m820297d2fc\" y=\"187.082182\"/>\r\n     <use style=\"fill:#1f77b4;stroke:#1f77b4;\" x=\"170.067017\" xlink:href=\"#m820297d2fc\" y=\"182.689455\"/>\r\n     <use style=\"fill:#1f77b4;stroke:#1f77b4;\" x=\"102.884241\" xlink:href=\"#m820297d2fc\" y=\"198.064\"/>\r\n     <use style=\"fill:#1f77b4;stroke:#1f77b4;\" x=\"155.895651\" xlink:href=\"#m820297d2fc\" y=\"205.092364\"/>\r\n     <use style=\"fill:#1f77b4;stroke:#1f77b4;\" x=\"119.446662\" xlink:href=\"#m820297d2fc\" y=\"190.596364\"/>\r\n     <use style=\"fill:#1f77b4;stroke:#1f77b4;\" x=\"139.741459\" xlink:href=\"#m820297d2fc\" y=\"204.213818\"/>\r\n     <use style=\"fill:#1f77b4;stroke:#1f77b4;\" x=\"132.743253\" xlink:href=\"#m820297d2fc\" y=\"191.914182\"/>\r\n     <use style=\"fill:#1f77b4;stroke:#1f77b4;\" x=\"162.485628\" xlink:href=\"#m820297d2fc\" y=\"186.203636\"/>\r\n     <use style=\"fill:#1f77b4;stroke:#1f77b4;\" x=\"181.322465\" xlink:href=\"#m820297d2fc\" y=\"170.389818\"/>\r\n     <use style=\"fill:#1f77b4;stroke:#1f77b4;\" x=\"201.034078\" xlink:href=\"#m820297d2fc\" y=\"134.808727\"/>\r\n     <use style=\"fill:#1f77b4;stroke:#1f77b4;\" x=\"141.84092\" xlink:href=\"#m820297d2fc\" y=\"194.110545\"/>\r\n     <use style=\"fill:#1f77b4;stroke:#1f77b4;\" x=\"209.315289\" xlink:href=\"#m820297d2fc\" y=\"176.100364\"/>\r\n     <use style=\"fill:#1f77b4;stroke:#1f77b4;\" x=\"191.469864\" xlink:href=\"#m820297d2fc\" y=\"180.932364\"/>\r\n     <use style=\"fill:#1f77b4;stroke:#1f77b4;\" x=\"225.527799\" xlink:href=\"#m820297d2fc\" y=\"179.175273\"/>\r\n     <use style=\"fill:#1f77b4;stroke:#1f77b4;\" x=\"221.678786\" xlink:href=\"#m820297d2fc\" y=\"181.810909\"/>\r\n     <use style=\"fill:#1f77b4;stroke:#1f77b4;\" x=\"183.30529\" xlink:href=\"#m820297d2fc\" y=\"199.381818\"/>\r\n     <use style=\"fill:#1f77b4;stroke:#1f77b4;\" x=\"166.159686\" xlink:href=\"#m820297d2fc\" y=\"214.756364\"/>\r\n     <use style=\"fill:#1f77b4;stroke:#1f77b4;\" x=\"189.42872\" xlink:href=\"#m820297d2fc\" y=\"209.045818\"/>\r\n     <use style=\"fill:#1f77b4;stroke:#1f77b4;\" x=\"197.301702\" xlink:href=\"#m820297d2fc\" y=\"212.120727\"/>\r\n     <use style=\"fill:#1f77b4;stroke:#1f77b4;\" x=\"218.063046\" xlink:href=\"#m820297d2fc\" y=\"205.092364\"/>\r\n     <use style=\"fill:#1f77b4;stroke:#1f77b4;\" x=\"221.620467\" xlink:href=\"#m820297d2fc\" y=\"183.568\"/>\r\n     <use style=\"fill:#1f77b4;stroke:#1f77b4;\" x=\"160.094574\" xlink:href=\"#m820297d2fc\" y=\"200.260364\"/>\r\n     <use style=\"fill:#1f77b4;stroke:#1f77b4;\" x=\"170.70852\" xlink:href=\"#m820297d2fc\" y=\"199.381818\"/>\r\n     <use style=\"fill:#1f77b4;stroke:#1f77b4;\" x=\"179.572914\" xlink:href=\"#m820297d2fc\" y=\"214.756364\"/>\r\n     <use style=\"fill:#1f77b4;stroke:#1f77b4;\" x=\"89.471013\" xlink:href=\"#m820297d2fc\" y=\"184.446545\"/>\r\n     <use style=\"fill:#1f77b4;stroke:#1f77b4;\" x=\"175.199035\" xlink:href=\"#m820297d2fc\" y=\"114.162909\"/>\r\n     <use style=\"fill:#1f77b4;stroke:#1f77b4;\" x=\"175.7239\" xlink:href=\"#m820297d2fc\" y=\"161.165091\"/>\r\n     <use style=\"fill:#1f77b4;stroke:#1f77b4;\" x=\"247.747102\" xlink:href=\"#m820297d2fc\" y=\"115.92\"/>\r\n     <use style=\"fill:#1f77b4;stroke:#1f77b4;\" x=\"183.888474\" xlink:href=\"#m820297d2fc\" y=\"170.829091\"/>\r\n     <use style=\"fill:#1f77b4;stroke:#1f77b4;\" x=\"236.375018\" xlink:href=\"#m820297d2fc\" y=\"161.165091\"/>\r\n     <use style=\"fill:#1f77b4;stroke:#1f77b4;\" x=\"118.047021\" xlink:href=\"#m820297d2fc\" y=\"158.090182\"/>\r\n     <use style=\"fill:#1f77b4;stroke:#1f77b4;\" x=\"148.780808\" xlink:href=\"#m820297d2fc\" y=\"165.118545\"/>\r\n     <use style=\"fill:#1f77b4;stroke:#1f77b4;\" x=\"111.690317\" xlink:href=\"#m820297d2fc\" y=\"205.970909\"/>\r\n     <use style=\"fill:#1f77b4;stroke:#1f77b4;\" x=\"223.370019\" xlink:href=\"#m820297d2fc\" y=\"205.092364\"/>\r\n     <use style=\"fill:#1f77b4;stroke:#1f77b4;\" x=\"243.664816\" xlink:href=\"#m820297d2fc\" y=\"203.774545\"/>\r\n     <use style=\"fill:#1f77b4;stroke:#1f77b4;\" x=\"157.470247\" xlink:href=\"#m820297d2fc\" y=\"191.035636\"/>\r\n     <use style=\"fill:#1f77b4;stroke:#1f77b4;\" x=\"195.55215\" xlink:href=\"#m820297d2fc\" y=\"198.064\"/>\r\n     <use style=\"fill:#1f77b4;stroke:#1f77b4;\" x=\"246.114188\" xlink:href=\"#m820297d2fc\" y=\"199.821091\"/>\r\n     <use style=\"fill:#1f77b4;stroke:#1f77b4;\" x=\"222.028696\" xlink:href=\"#m820297d2fc\" y=\"163.361455\"/>\r\n     <use style=\"fill:#1f77b4;stroke:#1f77b4;\" x=\"198.409751\" xlink:href=\"#m820297d2fc\" y=\"174.343273\"/>\r\n     <use style=\"fill:#1f77b4;stroke:#1f77b4;\" x=\"177.53177\" xlink:href=\"#m820297d2fc\" y=\"145.351273\"/>\r\n     <use style=\"fill:#1f77b4;stroke:#1f77b4;\" x=\"204.066634\" xlink:href=\"#m820297d2fc\" y=\"177.857455\"/>\r\n     <use style=\"fill:#1f77b4;stroke:#1f77b4;\" x=\"172.691345\" xlink:href=\"#m820297d2fc\" y=\"185.325091\"/>\r\n     <use style=\"fill:#1f77b4;stroke:#1f77b4;\" x=\"191.994729\" xlink:href=\"#m820297d2fc\" y=\"200.260364\"/>\r\n     <use style=\"fill:#1f77b4;stroke:#1f77b4;\" x=\"188.553945\" xlink:href=\"#m820297d2fc\" y=\"191.914182\"/>\r\n     <use style=\"fill:#1f77b4;stroke:#1f77b4;\" x=\"209.840154\" xlink:href=\"#m820297d2fc\" y=\"188.839273\"/>\r\n     <use style=\"fill:#1f77b4;stroke:#1f77b4;\" x=\"209.315289\" xlink:href=\"#m820297d2fc\" y=\"188.4\"/>\r\n     <use style=\"fill:#1f77b4;stroke:#1f77b4;\" x=\"220.220826\" xlink:href=\"#m820297d2fc\" y=\"194.989091\"/>\r\n     <use style=\"fill:#1f77b4;stroke:#1f77b4;\" x=\"218.354638\" xlink:href=\"#m820297d2fc\" y=\"173.025455\"/>\r\n     <use style=\"fill:#1f77b4;stroke:#1f77b4;\" x=\"246.639053\" xlink:href=\"#m820297d2fc\" y=\"174.782545\"/>\r\n     <use style=\"fill:#1f77b4;stroke:#1f77b4;\" x=\"222.845153\" xlink:href=\"#m820297d2fc\" y=\"165.997091\"/>\r\n     <use style=\"fill:#1f77b4;stroke:#1f77b4;\" x=\"223.486655\" xlink:href=\"#m820297d2fc\" y=\"173.904\"/>\r\n     <use style=\"fill:#1f77b4;stroke:#1f77b4;\" x=\"210.190064\" xlink:href=\"#m820297d2fc\" y=\"185.325091\"/>\r\n     <use style=\"fill:#1f77b4;stroke:#1f77b4;\" x=\"234.742103\" xlink:href=\"#m820297d2fc\" y=\"177.857455\"/>\r\n     <use style=\"fill:#1f77b4;stroke:#1f77b4;\" x=\"224.944615\" xlink:href=\"#m820297d2fc\" y=\"194.549818\"/>\r\n     <use style=\"fill:#1f77b4;stroke:#1f77b4;\" x=\"206.924235\" xlink:href=\"#m820297d2fc\" y=\"198.503273\"/>\r\n     <use style=\"fill:#1f77b4;stroke:#1f77b4;\" x=\"194.269146\" xlink:href=\"#m820297d2fc\" y=\"199.821091\"/>\r\n     <use style=\"fill:#1f77b4;stroke:#1f77b4;\" x=\"176.307084\" xlink:href=\"#m820297d2fc\" y=\"180.493091\"/>\r\n     <use style=\"fill:#1f77b4;stroke:#1f77b4;\" x=\"187.445895\" xlink:href=\"#m820297d2fc\" y=\"190.596364\"/>\r\n     <use style=\"fill:#1f77b4;stroke:#1f77b4;\" x=\"221.737104\" xlink:href=\"#m820297d2fc\" y=\"161.604364\"/>\r\n     <use style=\"fill:#1f77b4;stroke:#1f77b4;\" x=\"210.831567\" xlink:href=\"#m820297d2fc\" y=\"155.893818\"/>\r\n     <use style=\"fill:#1f77b4;stroke:#1f77b4;\" x=\"226.344256\" xlink:href=\"#m820297d2fc\" y=\"169.072\"/>\r\n     <use style=\"fill:#1f77b4;stroke:#1f77b4;\" x=\"189.545357\" xlink:href=\"#m820297d2fc\" y=\"189.278545\"/>\r\n     <use style=\"fill:#1f77b4;stroke:#1f77b4;\" x=\"224.827978\" xlink:href=\"#m820297d2fc\" y=\"184.885818\"/>\r\n     <use style=\"fill:#1f77b4;stroke:#1f77b4;\" x=\"217.946409\" xlink:href=\"#m820297d2fc\" y=\"171.268364\"/>\r\n     <use style=\"fill:#1f77b4;stroke:#1f77b4;\" x=\"212.697755\" xlink:href=\"#m820297d2fc\" y=\"181.371636\"/>\r\n     <use style=\"fill:#1f77b4;stroke:#1f77b4;\" x=\"208.848742\" xlink:href=\"#m820297d2fc\" y=\"174.782545\"/>\r\n     <use style=\"fill:#1f77b4;stroke:#1f77b4;\" x=\"222.378606\" xlink:href=\"#m820297d2fc\" y=\"179.614545\"/>\r\n     <use style=\"fill:#1f77b4;stroke:#1f77b4;\" x=\"241.740309\" xlink:href=\"#m820297d2fc\" y=\"177.857455\"/>\r\n     <use style=\"fill:#1f77b4;stroke:#1f77b4;\" x=\"236.258381\" xlink:href=\"#m820297d2fc\" y=\"169.950545\"/>\r\n     <use style=\"fill:#1f77b4;stroke:#1f77b4;\" x=\"215.3804\" xlink:href=\"#m820297d2fc\" y=\"165.997091\"/>\r\n     <use style=\"fill:#1f77b4;stroke:#1f77b4;\" x=\"279.297347\" xlink:href=\"#m820297d2fc\" y=\"158.529455\"/>\r\n     <use style=\"fill:#1f77b4;stroke:#1f77b4;\" x=\"240.515623\" xlink:href=\"#m820297d2fc\" y=\"171.268364\"/>\r\n     <use style=\"fill:#1f77b4;stroke:#1f77b4;\" x=\"228.676991\" xlink:href=\"#m820297d2fc\" y=\"174.782545\"/>\r\n     <use style=\"fill:#1f77b4;stroke:#1f77b4;\" x=\"196.6602\" xlink:href=\"#m820297d2fc\" y=\"180.932364\"/>\r\n     <use style=\"fill:#1f77b4;stroke:#1f77b4;\" x=\"194.327464\" xlink:href=\"#m820297d2fc\" y=\"177.418182\"/>\r\n     <use style=\"fill:#1f77b4;stroke:#1f77b4;\" x=\"215.613674\" xlink:href=\"#m820297d2fc\" y=\"171.268364\"/>\r\n     <use style=\"fill:#1f77b4;stroke:#1f77b4;\" x=\"202.78363\" xlink:href=\"#m820297d2fc\" y=\"148.865455\"/>\r\n     <use style=\"fill:#1f77b4;stroke:#1f77b4;\" x=\"238.941027\" xlink:href=\"#m820297d2fc\" y=\"164.679273\"/>\r\n     <use style=\"fill:#1f77b4;stroke:#1f77b4;\" x=\"219.987553\" xlink:href=\"#m820297d2fc\" y=\"158.968727\"/>\r\n     <use style=\"fill:#1f77b4;stroke:#1f77b4;\" x=\"216.546768\" xlink:href=\"#m820297d2fc\" y=\"151.061818\"/>\r\n     <use style=\"fill:#1f77b4;stroke:#1f77b4;\" x=\"227.977171\" xlink:href=\"#m820297d2fc\" y=\"147.986909\"/>\r\n     <use style=\"fill:#1f77b4;stroke:#1f77b4;\" x=\"210.248383\" xlink:href=\"#m820297d2fc\" y=\"142.715636\"/>\r\n     <use style=\"fill:#1f77b4;stroke:#1f77b4;\" x=\"184.005111\" xlink:href=\"#m820297d2fc\" y=\"149.304727\"/>\r\n     <use style=\"fill:#1f77b4;stroke:#1f77b4;\" x=\"195.260559\" xlink:href=\"#m820297d2fc\" y=\"153.258182\"/>\r\n     <use style=\"fill:#1f77b4;stroke:#1f77b4;\" x=\"198.234796\" xlink:href=\"#m820297d2fc\" y=\"152.818909\"/>\r\n     <use style=\"fill:#1f77b4;stroke:#1f77b4;\" x=\"193.744281\" xlink:href=\"#m820297d2fc\" y=\"152.818909\"/>\r\n     <use style=\"fill:#1f77b4;stroke:#1f77b4;\" x=\"181.322465\" xlink:href=\"#m820297d2fc\" y=\"148.426182\"/>\r\n     <use style=\"fill:#1f77b4;stroke:#1f77b4;\" x=\"207.799011\" xlink:href=\"#m820297d2fc\" y=\"149.304727\"/>\r\n     <use style=\"fill:#1f77b4;stroke:#1f77b4;\" x=\"211.41475\" xlink:href=\"#m820297d2fc\" y=\"150.622545\"/>\r\n     <use style=\"fill:#1f77b4;stroke:#1f77b4;\" x=\"223.544974\" xlink:href=\"#m820297d2fc\" y=\"134.808727\"/>\r\n     <use style=\"fill:#1f77b4;stroke:#1f77b4;\" x=\"255.211855\" xlink:href=\"#m820297d2fc\" y=\"105.816727\"/>\r\n     <use style=\"fill:#1f77b4;stroke:#1f77b4;\" x=\"164.643408\" xlink:href=\"#m820297d2fc\" y=\"176.100364\"/>\r\n     <use style=\"fill:#1f77b4;stroke:#1f77b4;\" x=\"207.507419\" xlink:href=\"#m820297d2fc\" y=\"178.296727\"/>\r\n     <use style=\"fill:#1f77b4;stroke:#1f77b4;\" x=\"226.285938\" xlink:href=\"#m820297d2fc\" y=\"163.361455\"/>\r\n     <use style=\"fill:#1f77b4;stroke:#1f77b4;\" x=\"157.470247\" xlink:href=\"#m820297d2fc\" y=\"184.007273\"/>\r\n     <use style=\"fill:#1f77b4;stroke:#1f77b4;\" x=\"208.848742\" xlink:href=\"#m820297d2fc\" y=\"172.586182\"/>\r\n     <use style=\"fill:#1f77b4;stroke:#1f77b4;\" x=\"211.41475\" xlink:href=\"#m820297d2fc\" y=\"142.715636\"/>\r\n     <use style=\"fill:#1f77b4;stroke:#1f77b4;\" x=\"212.172889\" xlink:href=\"#m820297d2fc\" y=\"135.687273\"/>\r\n     <use style=\"fill:#1f77b4;stroke:#1f77b4;\" x=\"241.798627\" xlink:href=\"#m820297d2fc\" y=\"132.612364\"/>\r\n     <use style=\"fill:#1f77b4;stroke:#1f77b4;\" x=\"259.935644\" xlink:href=\"#m820297d2fc\" y=\"126.901818\"/>\r\n     <use style=\"fill:#1f77b4;stroke:#1f77b4;\" x=\"184.180066\" xlink:href=\"#m820297d2fc\" y=\"140.958545\"/>\r\n     <use style=\"fill:#1f77b4;stroke:#1f77b4;\" x=\"190.53677\" xlink:href=\"#m820297d2fc\" y=\"146.229818\"/>\r\n     <use style=\"fill:#1f77b4;stroke:#1f77b4;\" x=\"216.255176\" xlink:href=\"#m820297d2fc\" y=\"143.594182\"/>\r\n     <use style=\"fill:#1f77b4;stroke:#1f77b4;\" x=\"204.708136\" xlink:href=\"#m820297d2fc\" y=\"152.818909\"/>\r\n     <use style=\"fill:#1f77b4;stroke:#1f77b4;\" x=\"192.519595\" xlink:href=\"#m820297d2fc\" y=\"146.229818\"/>\r\n     <use style=\"fill:#1f77b4;stroke:#1f77b4;\" x=\"166.218004\" xlink:href=\"#m820297d2fc\" y=\"169.950545\"/>\r\n     <use style=\"fill:#1f77b4;stroke:#1f77b4;\" x=\"163.885269\" xlink:href=\"#m820297d2fc\" y=\"205.970909\"/>\r\n     <use style=\"fill:#1f77b4;stroke:#1f77b4;\" x=\"145.165068\" xlink:href=\"#m820297d2fc\" y=\"201.138909\"/>\r\n     <use style=\"fill:#1f77b4;stroke:#1f77b4;\" x=\"197.068428\" xlink:href=\"#m820297d2fc\" y=\"176.978909\"/>\r\n     <use style=\"fill:#1f77b4;stroke:#1f77b4;\" x=\"197.068428\" xlink:href=\"#m820297d2fc\" y=\"148.426182\"/>\r\n     <use style=\"fill:#1f77b4;stroke:#1f77b4;\" x=\"180.972555\" xlink:href=\"#m820297d2fc\" y=\"140.958545\"/>\r\n     <use style=\"fill:#1f77b4;stroke:#1f77b4;\" x=\"193.744281\" xlink:href=\"#m820297d2fc\" y=\"129.098182\"/>\r\n     <use style=\"fill:#1f77b4;stroke:#1f77b4;\" x=\"178.814775\" xlink:href=\"#m820297d2fc\" y=\"135.248\"/>\r\n     <use style=\"fill:#1f77b4;stroke:#1f77b4;\" x=\"162.485628\" xlink:href=\"#m820297d2fc\" y=\"150.183273\"/>\r\n     <use style=\"fill:#1f77b4;stroke:#1f77b4;\" x=\"186.046254\" xlink:href=\"#m820297d2fc\" y=\"156.333091\"/>\r\n     <use style=\"fill:#1f77b4;stroke:#1f77b4;\" x=\"199.16789\" xlink:href=\"#m820297d2fc\" y=\"143.594182\"/>\r\n     <use style=\"fill:#1f77b4;stroke:#1f77b4;\" x=\"172.924618\" xlink:href=\"#m820297d2fc\" y=\"159.847273\"/>\r\n     <use style=\"fill:#1f77b4;stroke:#1f77b4;\" x=\"199.634437\" xlink:href=\"#m820297d2fc\" y=\"162.922182\"/>\r\n     <use style=\"fill:#1f77b4;stroke:#1f77b4;\" x=\"232.642641\" xlink:href=\"#m820297d2fc\" y=\"138.322909\"/>\r\n     <use style=\"fill:#1f77b4;stroke:#1f77b4;\" x=\"205.058047\" xlink:href=\"#m820297d2fc\" y=\"146.229818\"/>\r\n     <use style=\"fill:#1f77b4;stroke:#1f77b4;\" x=\"254.978582\" xlink:href=\"#m820297d2fc\" y=\"131.733818\"/>\r\n     <use style=\"fill:#1f77b4;stroke:#1f77b4;\" x=\"244.364636\" xlink:href=\"#m820297d2fc\" y=\"140.08\"/>\r\n     <use style=\"fill:#1f77b4;stroke:#1f77b4;\" x=\"199.809392\" xlink:href=\"#m820297d2fc\" y=\"184.446545\"/>\r\n    </g>\r\n   </g>\r\n   <g id=\"matplotlib.axis_1\">\r\n    <g id=\"xtick_1\">\r\n     <g id=\"line2d_1\">\r\n      <defs>\r\n       <path d=\"M 0 0 \r\nL 0 3.5 \r\n\" id=\"m621b92f3bf\" style=\"stroke:#000000;stroke-width:0.8;\"/>\r\n      </defs>\r\n      <g>\r\n       <use style=\"stroke:#000000;stroke-width:0.8;\" x=\"81.423077\" xlink:href=\"#m621b92f3bf\" y=\"224.64\"/>\r\n      </g>\r\n     </g>\r\n     <g id=\"text_1\">\r\n      <!-- 4 -->\r\n      <g transform=\"translate(78.241827 239.238438)scale(0.1 -0.1)\">\r\n       <defs>\r\n        <path d=\"M 37.796875 64.3125 \r\nL 12.890625 25.390625 \r\nL 37.796875 25.390625 \r\nz\r\nM 35.203125 72.90625 \r\nL 47.609375 72.90625 \r\nL 47.609375 25.390625 \r\nL 58.015625 25.390625 \r\nL 58.015625 17.1875 \r\nL 47.609375 17.1875 \r\nL 47.609375 0 \r\nL 37.796875 0 \r\nL 37.796875 17.1875 \r\nL 4.890625 17.1875 \r\nL 4.890625 26.703125 \r\nz\r\n\" id=\"DejaVuSans-52\"/>\r\n       </defs>\r\n       <use xlink:href=\"#DejaVuSans-52\"/>\r\n      </g>\r\n     </g>\r\n    </g>\r\n    <g id=\"xtick_2\">\r\n     <g id=\"line2d_2\">\r\n      <g>\r\n       <use style=\"stroke:#000000;stroke-width:0.8;\" x=\"139.741459\" xlink:href=\"#m621b92f3bf\" y=\"224.64\"/>\r\n      </g>\r\n     </g>\r\n     <g id=\"text_2\">\r\n      <!-- 5 -->\r\n      <g transform=\"translate(136.560209 239.238438)scale(0.1 -0.1)\">\r\n       <defs>\r\n        <path d=\"M 10.796875 72.90625 \r\nL 49.515625 72.90625 \r\nL 49.515625 64.59375 \r\nL 19.828125 64.59375 \r\nL 19.828125 46.734375 \r\nQ 21.96875 47.46875 24.109375 47.828125 \r\nQ 26.265625 48.1875 28.421875 48.1875 \r\nQ 40.625 48.1875 47.75 41.5 \r\nQ 54.890625 34.8125 54.890625 23.390625 \r\nQ 54.890625 11.625 47.5625 5.09375 \r\nQ 40.234375 -1.421875 26.90625 -1.421875 \r\nQ 22.3125 -1.421875 17.546875 -0.640625 \r\nQ 12.796875 0.140625 7.71875 1.703125 \r\nL 7.71875 11.625 \r\nQ 12.109375 9.234375 16.796875 8.0625 \r\nQ 21.484375 6.890625 26.703125 6.890625 \r\nQ 35.15625 6.890625 40.078125 11.328125 \r\nQ 45.015625 15.765625 45.015625 23.390625 \r\nQ 45.015625 31 40.078125 35.4375 \r\nQ 35.15625 39.890625 26.703125 39.890625 \r\nQ 22.75 39.890625 18.8125 39.015625 \r\nQ 14.890625 38.140625 10.796875 36.28125 \r\nz\r\n\" id=\"DejaVuSans-53\"/>\r\n       </defs>\r\n       <use xlink:href=\"#DejaVuSans-53\"/>\r\n      </g>\r\n     </g>\r\n    </g>\r\n    <g id=\"xtick_3\">\r\n     <g id=\"line2d_3\">\r\n      <g>\r\n       <use style=\"stroke:#000000;stroke-width:0.8;\" x=\"198.059841\" xlink:href=\"#m621b92f3bf\" y=\"224.64\"/>\r\n      </g>\r\n     </g>\r\n     <g id=\"text_3\">\r\n      <!-- 6 -->\r\n      <g transform=\"translate(194.878591 239.238438)scale(0.1 -0.1)\">\r\n       <defs>\r\n        <path d=\"M 33.015625 40.375 \r\nQ 26.375 40.375 22.484375 35.828125 \r\nQ 18.609375 31.296875 18.609375 23.390625 \r\nQ 18.609375 15.53125 22.484375 10.953125 \r\nQ 26.375 6.390625 33.015625 6.390625 \r\nQ 39.65625 6.390625 43.53125 10.953125 \r\nQ 47.40625 15.53125 47.40625 23.390625 \r\nQ 47.40625 31.296875 43.53125 35.828125 \r\nQ 39.65625 40.375 33.015625 40.375 \r\nz\r\nM 52.59375 71.296875 \r\nL 52.59375 62.3125 \r\nQ 48.875 64.0625 45.09375 64.984375 \r\nQ 41.3125 65.921875 37.59375 65.921875 \r\nQ 27.828125 65.921875 22.671875 59.328125 \r\nQ 17.53125 52.734375 16.796875 39.40625 \r\nQ 19.671875 43.65625 24.015625 45.921875 \r\nQ 28.375 48.1875 33.59375 48.1875 \r\nQ 44.578125 48.1875 50.953125 41.515625 \r\nQ 57.328125 34.859375 57.328125 23.390625 \r\nQ 57.328125 12.15625 50.6875 5.359375 \r\nQ 44.046875 -1.421875 33.015625 -1.421875 \r\nQ 20.359375 -1.421875 13.671875 8.265625 \r\nQ 6.984375 17.96875 6.984375 36.375 \r\nQ 6.984375 53.65625 15.1875 63.9375 \r\nQ 23.390625 74.21875 37.203125 74.21875 \r\nQ 40.921875 74.21875 44.703125 73.484375 \r\nQ 48.484375 72.75 52.59375 71.296875 \r\nz\r\n\" id=\"DejaVuSans-54\"/>\r\n       </defs>\r\n       <use xlink:href=\"#DejaVuSans-54\"/>\r\n      </g>\r\n     </g>\r\n    </g>\r\n    <g id=\"xtick_4\">\r\n     <g id=\"line2d_4\">\r\n      <g>\r\n       <use style=\"stroke:#000000;stroke-width:0.8;\" x=\"256.378223\" xlink:href=\"#m621b92f3bf\" y=\"224.64\"/>\r\n      </g>\r\n     </g>\r\n     <g id=\"text_4\">\r\n      <!-- 7 -->\r\n      <g transform=\"translate(253.196973 239.238438)scale(0.1 -0.1)\">\r\n       <defs>\r\n        <path d=\"M 8.203125 72.90625 \r\nL 55.078125 72.90625 \r\nL 55.078125 68.703125 \r\nL 28.609375 0 \r\nL 18.3125 0 \r\nL 43.21875 64.59375 \r\nL 8.203125 64.59375 \r\nz\r\n\" id=\"DejaVuSans-55\"/>\r\n       </defs>\r\n       <use xlink:href=\"#DejaVuSans-55\"/>\r\n      </g>\r\n     </g>\r\n    </g>\r\n    <g id=\"xtick_5\">\r\n     <g id=\"line2d_5\">\r\n      <g>\r\n       <use style=\"stroke:#000000;stroke-width:0.8;\" x=\"314.696605\" xlink:href=\"#m621b92f3bf\" y=\"224.64\"/>\r\n      </g>\r\n     </g>\r\n     <g id=\"text_5\">\r\n      <!-- 8 -->\r\n      <g transform=\"translate(311.515355 239.238438)scale(0.1 -0.1)\">\r\n       <defs>\r\n        <path d=\"M 31.78125 34.625 \r\nQ 24.75 34.625 20.71875 30.859375 \r\nQ 16.703125 27.09375 16.703125 20.515625 \r\nQ 16.703125 13.921875 20.71875 10.15625 \r\nQ 24.75 6.390625 31.78125 6.390625 \r\nQ 38.8125 6.390625 42.859375 10.171875 \r\nQ 46.921875 13.96875 46.921875 20.515625 \r\nQ 46.921875 27.09375 42.890625 30.859375 \r\nQ 38.875 34.625 31.78125 34.625 \r\nz\r\nM 21.921875 38.8125 \r\nQ 15.578125 40.375 12.03125 44.71875 \r\nQ 8.5 49.078125 8.5 55.328125 \r\nQ 8.5 64.0625 14.71875 69.140625 \r\nQ 20.953125 74.21875 31.78125 74.21875 \r\nQ 42.671875 74.21875 48.875 69.140625 \r\nQ 55.078125 64.0625 55.078125 55.328125 \r\nQ 55.078125 49.078125 51.53125 44.71875 \r\nQ 48 40.375 41.703125 38.8125 \r\nQ 48.828125 37.15625 52.796875 32.3125 \r\nQ 56.78125 27.484375 56.78125 20.515625 \r\nQ 56.78125 9.90625 50.3125 4.234375 \r\nQ 43.84375 -1.421875 31.78125 -1.421875 \r\nQ 19.734375 -1.421875 13.25 4.234375 \r\nQ 6.78125 9.90625 6.78125 20.515625 \r\nQ 6.78125 27.484375 10.78125 32.3125 \r\nQ 14.796875 37.15625 21.921875 38.8125 \r\nz\r\nM 18.3125 54.390625 \r\nQ 18.3125 48.734375 21.84375 45.5625 \r\nQ 25.390625 42.390625 31.78125 42.390625 \r\nQ 38.140625 42.390625 41.71875 45.5625 \r\nQ 45.3125 48.734375 45.3125 54.390625 \r\nQ 45.3125 60.0625 41.71875 63.234375 \r\nQ 38.140625 66.40625 31.78125 66.40625 \r\nQ 25.390625 66.40625 21.84375 63.234375 \r\nQ 18.3125 60.0625 18.3125 54.390625 \r\nz\r\n\" id=\"DejaVuSans-56\"/>\r\n       </defs>\r\n       <use xlink:href=\"#DejaVuSans-56\"/>\r\n      </g>\r\n     </g>\r\n    </g>\r\n    <g id=\"xtick_6\">\r\n     <g id=\"line2d_6\">\r\n      <g>\r\n       <use style=\"stroke:#000000;stroke-width:0.8;\" x=\"373.014987\" xlink:href=\"#m621b92f3bf\" y=\"224.64\"/>\r\n      </g>\r\n     </g>\r\n     <g id=\"text_6\">\r\n      <!-- 9 -->\r\n      <g transform=\"translate(369.833737 239.238438)scale(0.1 -0.1)\">\r\n       <defs>\r\n        <path d=\"M 10.984375 1.515625 \r\nL 10.984375 10.5 \r\nQ 14.703125 8.734375 18.5 7.8125 \r\nQ 22.3125 6.890625 25.984375 6.890625 \r\nQ 35.75 6.890625 40.890625 13.453125 \r\nQ 46.046875 20.015625 46.78125 33.40625 \r\nQ 43.953125 29.203125 39.59375 26.953125 \r\nQ 35.25 24.703125 29.984375 24.703125 \r\nQ 19.046875 24.703125 12.671875 31.3125 \r\nQ 6.296875 37.9375 6.296875 49.421875 \r\nQ 6.296875 60.640625 12.9375 67.421875 \r\nQ 19.578125 74.21875 30.609375 74.21875 \r\nQ 43.265625 74.21875 49.921875 64.515625 \r\nQ 56.59375 54.828125 56.59375 36.375 \r\nQ 56.59375 19.140625 48.40625 8.859375 \r\nQ 40.234375 -1.421875 26.421875 -1.421875 \r\nQ 22.703125 -1.421875 18.890625 -0.6875 \r\nQ 15.09375 0.046875 10.984375 1.515625 \r\nz\r\nM 30.609375 32.421875 \r\nQ 37.25 32.421875 41.125 36.953125 \r\nQ 45.015625 41.5 45.015625 49.421875 \r\nQ 45.015625 57.28125 41.125 61.84375 \r\nQ 37.25 66.40625 30.609375 66.40625 \r\nQ 23.96875 66.40625 20.09375 61.84375 \r\nQ 16.21875 57.28125 16.21875 49.421875 \r\nQ 16.21875 41.5 20.09375 36.953125 \r\nQ 23.96875 32.421875 30.609375 32.421875 \r\nz\r\n\" id=\"DejaVuSans-57\"/>\r\n       </defs>\r\n       <use xlink:href=\"#DejaVuSans-57\"/>\r\n      </g>\r\n     </g>\r\n    </g>\r\n    <g id=\"text_7\">\r\n     <!-- RM -->\r\n     <g transform=\"translate(200.214844 252.916563)scale(0.1 -0.1)\">\r\n      <defs>\r\n       <path d=\"M 44.390625 34.1875 \r\nQ 47.5625 33.109375 50.5625 29.59375 \r\nQ 53.5625 26.078125 56.59375 19.921875 \r\nL 66.609375 0 \r\nL 56 0 \r\nL 46.6875 18.703125 \r\nQ 43.0625 26.03125 39.671875 28.421875 \r\nQ 36.28125 30.8125 30.421875 30.8125 \r\nL 19.671875 30.8125 \r\nL 19.671875 0 \r\nL 9.8125 0 \r\nL 9.8125 72.90625 \r\nL 32.078125 72.90625 \r\nQ 44.578125 72.90625 50.734375 67.671875 \r\nQ 56.890625 62.453125 56.890625 51.90625 \r\nQ 56.890625 45.015625 53.6875 40.46875 \r\nQ 50.484375 35.9375 44.390625 34.1875 \r\nz\r\nM 19.671875 64.796875 \r\nL 19.671875 38.921875 \r\nL 32.078125 38.921875 \r\nQ 39.203125 38.921875 42.84375 42.21875 \r\nQ 46.484375 45.515625 46.484375 51.90625 \r\nQ 46.484375 58.296875 42.84375 61.546875 \r\nQ 39.203125 64.796875 32.078125 64.796875 \r\nz\r\n\" id=\"DejaVuSans-82\"/>\r\n       <path d=\"M 9.8125 72.90625 \r\nL 24.515625 72.90625 \r\nL 43.109375 23.296875 \r\nL 61.8125 72.90625 \r\nL 76.515625 72.90625 \r\nL 76.515625 0 \r\nL 66.890625 0 \r\nL 66.890625 64.015625 \r\nL 48.09375 14.015625 \r\nL 38.1875 14.015625 \r\nL 19.390625 64.015625 \r\nL 19.390625 0 \r\nL 9.8125 0 \r\nz\r\n\" id=\"DejaVuSans-77\"/>\r\n      </defs>\r\n      <use xlink:href=\"#DejaVuSans-82\"/>\r\n      <use x=\"69.482422\" xlink:href=\"#DejaVuSans-77\"/>\r\n     </g>\r\n    </g>\r\n   </g>\r\n   <g id=\"matplotlib.axis_2\">\r\n    <g id=\"ytick_1\">\r\n     <g id=\"line2d_7\">\r\n      <defs>\r\n       <path d=\"M 0 0 \r\nL -3.5 0 \r\n\" id=\"m7ccdf82c40\" style=\"stroke:#000000;stroke-width:0.8;\"/>\r\n      </defs>\r\n      <g>\r\n       <use style=\"stroke:#000000;stroke-width:0.8;\" x=\"40.603125\" xlink:href=\"#m7ccdf82c40\" y=\"192.792727\"/>\r\n      </g>\r\n     </g>\r\n     <g id=\"text_8\">\r\n      <!-- 10 -->\r\n      <g transform=\"translate(20.878125 196.591946)scale(0.1 -0.1)\">\r\n       <defs>\r\n        <path d=\"M 12.40625 8.296875 \r\nL 28.515625 8.296875 \r\nL 28.515625 63.921875 \r\nL 10.984375 60.40625 \r\nL 10.984375 69.390625 \r\nL 28.421875 72.90625 \r\nL 38.28125 72.90625 \r\nL 38.28125 8.296875 \r\nL 54.390625 8.296875 \r\nL 54.390625 0 \r\nL 12.40625 0 \r\nz\r\n\" id=\"DejaVuSans-49\"/>\r\n        <path d=\"M 31.78125 66.40625 \r\nQ 24.171875 66.40625 20.328125 58.90625 \r\nQ 16.5 51.421875 16.5 36.375 \r\nQ 16.5 21.390625 20.328125 13.890625 \r\nQ 24.171875 6.390625 31.78125 6.390625 \r\nQ 39.453125 6.390625 43.28125 13.890625 \r\nQ 47.125 21.390625 47.125 36.375 \r\nQ 47.125 51.421875 43.28125 58.90625 \r\nQ 39.453125 66.40625 31.78125 66.40625 \r\nz\r\nM 31.78125 74.21875 \r\nQ 44.046875 74.21875 50.515625 64.515625 \r\nQ 56.984375 54.828125 56.984375 36.375 \r\nQ 56.984375 17.96875 50.515625 8.265625 \r\nQ 44.046875 -1.421875 31.78125 -1.421875 \r\nQ 19.53125 -1.421875 13.0625 8.265625 \r\nQ 6.59375 17.96875 6.59375 36.375 \r\nQ 6.59375 54.828125 13.0625 64.515625 \r\nQ 19.53125 74.21875 31.78125 74.21875 \r\nz\r\n\" id=\"DejaVuSans-48\"/>\r\n       </defs>\r\n       <use xlink:href=\"#DejaVuSans-49\"/>\r\n       <use x=\"63.623047\" xlink:href=\"#DejaVuSans-48\"/>\r\n      </g>\r\n     </g>\r\n    </g>\r\n    <g id=\"ytick_2\">\r\n     <g id=\"line2d_8\">\r\n      <g>\r\n       <use style=\"stroke:#000000;stroke-width:0.8;\" x=\"40.603125\" xlink:href=\"#m7ccdf82c40\" y=\"148.865455\"/>\r\n      </g>\r\n     </g>\r\n     <g id=\"text_9\">\r\n      <!-- 20 -->\r\n      <g transform=\"translate(20.878125 152.664673)scale(0.1 -0.1)\">\r\n       <defs>\r\n        <path d=\"M 19.1875 8.296875 \r\nL 53.609375 8.296875 \r\nL 53.609375 0 \r\nL 7.328125 0 \r\nL 7.328125 8.296875 \r\nQ 12.9375 14.109375 22.625 23.890625 \r\nQ 32.328125 33.6875 34.8125 36.53125 \r\nQ 39.546875 41.84375 41.421875 45.53125 \r\nQ 43.3125 49.21875 43.3125 52.78125 \r\nQ 43.3125 58.59375 39.234375 62.25 \r\nQ 35.15625 65.921875 28.609375 65.921875 \r\nQ 23.96875 65.921875 18.8125 64.3125 \r\nQ 13.671875 62.703125 7.8125 59.421875 \r\nL 7.8125 69.390625 \r\nQ 13.765625 71.78125 18.9375 73 \r\nQ 24.125 74.21875 28.421875 74.21875 \r\nQ 39.75 74.21875 46.484375 68.546875 \r\nQ 53.21875 62.890625 53.21875 53.421875 \r\nQ 53.21875 48.921875 51.53125 44.890625 \r\nQ 49.859375 40.875 45.40625 35.40625 \r\nQ 44.1875 33.984375 37.640625 27.21875 \r\nQ 31.109375 20.453125 19.1875 8.296875 \r\nz\r\n\" id=\"DejaVuSans-50\"/>\r\n       </defs>\r\n       <use xlink:href=\"#DejaVuSans-50\"/>\r\n       <use x=\"63.623047\" xlink:href=\"#DejaVuSans-48\"/>\r\n      </g>\r\n     </g>\r\n    </g>\r\n    <g id=\"ytick_3\">\r\n     <g id=\"line2d_9\">\r\n      <g>\r\n       <use style=\"stroke:#000000;stroke-width:0.8;\" x=\"40.603125\" xlink:href=\"#m7ccdf82c40\" y=\"104.938182\"/>\r\n      </g>\r\n     </g>\r\n     <g id=\"text_10\">\r\n      <!-- 30 -->\r\n      <g transform=\"translate(20.878125 108.737401)scale(0.1 -0.1)\">\r\n       <defs>\r\n        <path d=\"M 40.578125 39.3125 \r\nQ 47.65625 37.796875 51.625 33 \r\nQ 55.609375 28.21875 55.609375 21.1875 \r\nQ 55.609375 10.40625 48.1875 4.484375 \r\nQ 40.765625 -1.421875 27.09375 -1.421875 \r\nQ 22.515625 -1.421875 17.65625 -0.515625 \r\nQ 12.796875 0.390625 7.625 2.203125 \r\nL 7.625 11.71875 \r\nQ 11.71875 9.328125 16.59375 8.109375 \r\nQ 21.484375 6.890625 26.8125 6.890625 \r\nQ 36.078125 6.890625 40.9375 10.546875 \r\nQ 45.796875 14.203125 45.796875 21.1875 \r\nQ 45.796875 27.640625 41.28125 31.265625 \r\nQ 36.765625 34.90625 28.71875 34.90625 \r\nL 20.21875 34.90625 \r\nL 20.21875 43.015625 \r\nL 29.109375 43.015625 \r\nQ 36.375 43.015625 40.234375 45.921875 \r\nQ 44.09375 48.828125 44.09375 54.296875 \r\nQ 44.09375 59.90625 40.109375 62.90625 \r\nQ 36.140625 65.921875 28.71875 65.921875 \r\nQ 24.65625 65.921875 20.015625 65.03125 \r\nQ 15.375 64.15625 9.8125 62.3125 \r\nL 9.8125 71.09375 \r\nQ 15.4375 72.65625 20.34375 73.4375 \r\nQ 25.25 74.21875 29.59375 74.21875 \r\nQ 40.828125 74.21875 47.359375 69.109375 \r\nQ 53.90625 64.015625 53.90625 55.328125 \r\nQ 53.90625 49.265625 50.4375 45.09375 \r\nQ 46.96875 40.921875 40.578125 39.3125 \r\nz\r\n\" id=\"DejaVuSans-51\"/>\r\n       </defs>\r\n       <use xlink:href=\"#DejaVuSans-51\"/>\r\n       <use x=\"63.623047\" xlink:href=\"#DejaVuSans-48\"/>\r\n      </g>\r\n     </g>\r\n    </g>\r\n    <g id=\"ytick_4\">\r\n     <g id=\"line2d_10\">\r\n      <g>\r\n       <use style=\"stroke:#000000;stroke-width:0.8;\" x=\"40.603125\" xlink:href=\"#m7ccdf82c40\" y=\"61.010909\"/>\r\n      </g>\r\n     </g>\r\n     <g id=\"text_11\">\r\n      <!-- 40 -->\r\n      <g transform=\"translate(20.878125 64.810128)scale(0.1 -0.1)\">\r\n       <use xlink:href=\"#DejaVuSans-52\"/>\r\n       <use x=\"63.623047\" xlink:href=\"#DejaVuSans-48\"/>\r\n      </g>\r\n     </g>\r\n    </g>\r\n    <g id=\"ytick_5\">\r\n     <g id=\"line2d_11\">\r\n      <g>\r\n       <use style=\"stroke:#000000;stroke-width:0.8;\" x=\"40.603125\" xlink:href=\"#m7ccdf82c40\" y=\"17.083636\"/>\r\n      </g>\r\n     </g>\r\n     <g id=\"text_12\">\r\n      <!-- 50 -->\r\n      <g transform=\"translate(20.878125 20.882855)scale(0.1 -0.1)\">\r\n       <use xlink:href=\"#DejaVuSans-53\"/>\r\n       <use x=\"63.623047\" xlink:href=\"#DejaVuSans-48\"/>\r\n      </g>\r\n     </g>\r\n    </g>\r\n    <g id=\"text_13\">\r\n     <!-- MEDV -->\r\n     <g transform=\"translate(14.798438 130.57625)rotate(-90)scale(0.1 -0.1)\">\r\n      <defs>\r\n       <path d=\"M 9.8125 72.90625 \r\nL 55.90625 72.90625 \r\nL 55.90625 64.59375 \r\nL 19.671875 64.59375 \r\nL 19.671875 43.015625 \r\nL 54.390625 43.015625 \r\nL 54.390625 34.71875 \r\nL 19.671875 34.71875 \r\nL 19.671875 8.296875 \r\nL 56.78125 8.296875 \r\nL 56.78125 0 \r\nL 9.8125 0 \r\nz\r\n\" id=\"DejaVuSans-69\"/>\r\n       <path d=\"M 19.671875 64.796875 \r\nL 19.671875 8.109375 \r\nL 31.59375 8.109375 \r\nQ 46.6875 8.109375 53.6875 14.9375 \r\nQ 60.6875 21.78125 60.6875 36.53125 \r\nQ 60.6875 51.171875 53.6875 57.984375 \r\nQ 46.6875 64.796875 31.59375 64.796875 \r\nz\r\nM 9.8125 72.90625 \r\nL 30.078125 72.90625 \r\nQ 51.265625 72.90625 61.171875 64.09375 \r\nQ 71.09375 55.28125 71.09375 36.53125 \r\nQ 71.09375 17.671875 61.125 8.828125 \r\nQ 51.171875 0 30.078125 0 \r\nL 9.8125 0 \r\nz\r\n\" id=\"DejaVuSans-68\"/>\r\n       <path d=\"M 28.609375 0 \r\nL 0.78125 72.90625 \r\nL 11.078125 72.90625 \r\nL 34.1875 11.53125 \r\nL 57.328125 72.90625 \r\nL 67.578125 72.90625 \r\nL 39.796875 0 \r\nz\r\n\" id=\"DejaVuSans-86\"/>\r\n      </defs>\r\n      <use xlink:href=\"#DejaVuSans-77\"/>\r\n      <use x=\"86.279297\" xlink:href=\"#DejaVuSans-69\"/>\r\n      <use x=\"149.462891\" xlink:href=\"#DejaVuSans-68\"/>\r\n      <use x=\"224.714844\" xlink:href=\"#DejaVuSans-86\"/>\r\n     </g>\r\n    </g>\r\n   </g>\r\n   <g id=\"patch_3\">\r\n    <path d=\"M 40.603125 224.64 \r\nL 40.603125 7.2 \r\n\" style=\"fill:none;stroke:#000000;stroke-linecap:square;stroke-linejoin:miter;stroke-width:0.8;\"/>\r\n   </g>\r\n   <g id=\"patch_4\">\r\n    <path d=\"M 375.403125 224.64 \r\nL 375.403125 7.2 \r\n\" style=\"fill:none;stroke:#000000;stroke-linecap:square;stroke-linejoin:miter;stroke-width:0.8;\"/>\r\n   </g>\r\n   <g id=\"patch_5\">\r\n    <path d=\"M 40.603125 224.64 \r\nL 375.403125 224.64 \r\n\" style=\"fill:none;stroke:#000000;stroke-linecap:square;stroke-linejoin:miter;stroke-width:0.8;\"/>\r\n   </g>\r\n   <g id=\"patch_6\">\r\n    <path d=\"M 40.603125 7.2 \r\nL 375.403125 7.2 \r\n\" style=\"fill:none;stroke:#000000;stroke-linecap:square;stroke-linejoin:miter;stroke-width:0.8;\"/>\r\n   </g>\r\n  </g>\r\n </g>\r\n <defs>\r\n  <clipPath id=\"p756bf98a7f\">\r\n   <rect height=\"217.44\" width=\"334.8\" x=\"40.603125\" y=\"7.2\"/>\r\n  </clipPath>\r\n </defs>\r\n</svg>\r\n",
      "image/png": "[encoded data removed]"
     },
     "metadata": {
      "needs_background": "light"
     }
    }
   ],
   "source": [
    "# visualizing the relations between \"RM\" and \"MEDV\"\n",
    "plt.scatter(df_data[\"RM\"], df_data[\"MEDV\"]) # scatter plot\n",
    "plt.xlabel(\"RM\") # xlabel\n",
    "plt.ylabel(\"MEDV\") # ylabel\n",
    "plt.show()"
   ]
  },
  {
   "cell_type": "code",
   "execution_count": 149,
   "metadata": {
    "collapsed": true,
    "jupyter": {
     "outputs_hidden": false
    }
   },
   "outputs": [
    {
     "output_type": "execute_result",
     "data": {
      "text/plain": [
       "<matplotlib.collections.PathCollection at 0x1f822028128>"
      ]
     },
     "metadata": {},
     "execution_count": 149
    },
    {
     "output_type": "execute_result",
     "data": {
      "text/plain": [
       "Text(0.5, 0, 'CRIM')"
      ]
     },
     "metadata": {},
     "execution_count": 149
    },
    {
     "output_type": "execute_result",
     "data": {
      "text/plain": [
       "Text(0, 0.5, 'MEDV')"
      ]
     },
     "metadata": {},
     "execution_count": 149
    },
    {
     "output_type": "display_data",
     "data": {
      "text/plain": "<Figure size 432x288 with 1 Axes>",
      "image/svg+xml": "<?xml version=\"1.0\" encoding=\"utf-8\" standalone=\"no\"?>\r\n<!DOCTYPE svg PUBLIC \"-//W3C//DTD SVG 1.1//EN\"\r\n  \"http://www.w3.org/Graphics/SVG/1.1/DTD/svg11.dtd\">\r\n<!-- Created with matplotlib (https://matplotlib.org/) -->\r\n<svg height=\"262.19625pt\" version=\"1.1\" viewBox=\"0 0 382.603125 262.19625\" width=\"382.603125pt\" xmlns=\"http://www.w3.org/2000/svg\" xmlns:xlink=\"http://www.w3.org/1999/xlink\">\r\n <metadata>\r\n  <rdf:RDF xmlns:cc=\"http://creativecommons.org/ns#\" xmlns:dc=\"http://purl.org/dc/elements/1.1/\" xmlns:rdf=\"http://www.w3.org/1999/02/22-rdf-syntax-ns#\">\r\n   <cc:Work>\r\n    <dc:type rdf:resource=\"http://purl.org/dc/dcmitype/StillImage\"/>\r\n    <dc:date>2021-03-18T17:52:59.232533</dc:date>\r\n    <dc:format>image/svg+xml</dc:format>\r\n    <dc:creator>\r\n     <cc:Agent>\r\n      <dc:title>Matplotlib v3.3.2, https://matplotlib.org/</dc:title>\r\n     </cc:Agent>\r\n    </dc:creator>\r\n   </cc:Work>\r\n  </rdf:RDF>\r\n </metadata>\r\n <defs>\r\n  <style type=\"text/css\">*{stroke-linecap:butt;stroke-linejoin:round;}</style>\r\n </defs>\r\n <g id=\"figure_1\">\r\n  <g id=\"patch_1\">\r\n   <path d=\"M 0 262.19625 \r\nL 382.603125 262.19625 \r\nL 382.603125 0 \r\nL 0 0 \r\nz\r\n\" style=\"fill:none;\"/>\r\n  </g>\r\n  <g id=\"axes_1\">\r\n   <g id=\"patch_2\">\r\n    <path d=\"M 40.603125 224.64 \r\nL 375.403125 224.64 \r\nL 375.403125 7.2 \r\nL 40.603125 7.2 \r\nz\r\n\" style=\"fill:#ffffff;\"/>\r\n   </g>\r\n   <g id=\"PathCollection_1\">\r\n    <defs>\r\n     <path d=\"M 0 3 \r\nC 0.795609 3 1.55874 2.683901 2.12132 2.12132 \r\nC 2.683901 1.55874 3 0.795609 3 0 \r\nC 3 -0.795609 2.683901 -1.55874 2.12132 -2.12132 \r\nC 1.55874 -2.683901 0.795609 -3 0 -3 \r\nC -0.795609 -3 -1.55874 -2.683901 -2.12132 -2.12132 \r\nC -2.683901 -1.55874 -3 -0.795609 -3 0 \r\nC -3 0.795609 -2.683901 1.55874 -2.12132 2.12132 \r\nC -1.55874 2.683901 -0.795609 3 0 3 \r\nz\r\n\" id=\"mb3f9094f80\" style=\"stroke:#1f77b4;\"/>\r\n    </defs>\r\n    <g clip-path=\"url(#p5b260c2ab9)\">\r\n     <use style=\"fill:#1f77b4;stroke:#1f77b4;\" x=\"55.821307\" xlink:href=\"#mb3f9094f80\" y=\"131.294545\"/>\r\n     <use style=\"fill:#1f77b4;stroke:#1f77b4;\" x=\"55.893113\" xlink:href=\"#mb3f9094f80\" y=\"141.837091\"/>\r\n     <use style=\"fill:#1f77b4;stroke:#1f77b4;\" x=\"55.893045\" xlink:href=\"#mb3f9094f80\" y=\"84.292364\"/>\r\n     <use style=\"fill:#1f77b4;stroke:#1f77b4;\" x=\"55.910423\" xlink:href=\"#mb3f9094f80\" y=\"90.002909\"/>\r\n     <use style=\"fill:#1f77b4;stroke:#1f77b4;\" x=\"56.035905\" xlink:href=\"#mb3f9094f80\" y=\"77.703273\"/>\r\n     <use style=\"fill:#1f77b4;stroke:#1f77b4;\" x=\"55.901802\" xlink:href=\"#mb3f9094f80\" y=\"110.648727\"/>\r\n     <use style=\"fill:#1f77b4;stroke:#1f77b4;\" x=\"56.101724\" xlink:href=\"#mb3f9094f80\" y=\"136.126545\"/>\r\n     <use style=\"fill:#1f77b4;stroke:#1f77b4;\" x=\"56.294188\" xlink:href=\"#mb3f9094f80\" y=\"117.677091\"/>\r\n     <use style=\"fill:#1f77b4;stroke:#1f77b4;\" x=\"56.522333\" xlink:href=\"#mb3f9094f80\" y=\"164.24\"/>\r\n     <use style=\"fill:#1f77b4;stroke:#1f77b4;\" x=\"56.381389\" xlink:href=\"#mb3f9094f80\" y=\"153.697455\"/>\r\n     <use style=\"fill:#1f77b4;stroke:#1f77b4;\" x=\"56.569029\" xlink:href=\"#mb3f9094f80\" y=\"170.829091\"/>\r\n     <use style=\"fill:#1f77b4;stroke:#1f77b4;\" x=\"56.201548\" xlink:href=\"#mb3f9094f80\" y=\"153.697455\"/>\r\n     <use style=\"fill:#1f77b4;stroke:#1f77b4;\" x=\"56.120505\" xlink:href=\"#mb3f9094f80\" y=\"141.397818\"/>\r\n     <use style=\"fill:#1f77b4;stroke:#1f77b4;\" x=\"57.954079\" xlink:href=\"#mb3f9094f80\" y=\"147.108364\"/>\r\n     <use style=\"fill:#1f77b4;stroke:#1f77b4;\" x=\"57.982131\" xlink:href=\"#mb3f9094f80\" y=\"156.772364\"/>\r\n     <use style=\"fill:#1f77b4;stroke:#1f77b4;\" x=\"57.945971\" xlink:href=\"#mb3f9094f80\" y=\"149.304727\"/>\r\n     <use style=\"fill:#1f77b4;stroke:#1f77b4;\" x=\"59.405153\" xlink:href=\"#mb3f9094f80\" y=\"135.248\"/>\r\n     <use style=\"fill:#1f77b4;stroke:#1f77b4;\" x=\"58.482414\" xlink:href=\"#mb3f9094f80\" y=\"159.847273\"/>\r\n     <use style=\"fill:#1f77b4;stroke:#1f77b4;\" x=\"58.545736\" xlink:href=\"#mb3f9094f80\" y=\"147.986909\"/>\r\n     <use style=\"fill:#1f77b4;stroke:#1f77b4;\" x=\"58.282629\" xlink:href=\"#mb3f9094f80\" y=\"156.772364\"/>\r\n     <use style=\"fill:#1f77b4;stroke:#1f77b4;\" x=\"60.082027\" xlink:href=\"#mb3f9094f80\" y=\"176.978909\"/>\r\n     <use style=\"fill:#1f77b4;stroke:#1f77b4;\" x=\"58.714493\" xlink:href=\"#mb3f9094f80\" y=\"150.622545\"/>\r\n     <use style=\"fill:#1f77b4;stroke:#1f77b4;\" x=\"60.015934\" xlink:href=\"#mb3f9094f80\" y=\"169.950545\"/>\r\n     <use style=\"fill:#1f77b4;stroke:#1f77b4;\" x=\"59.181079\" xlink:href=\"#mb3f9094f80\" y=\"173.025455\"/>\r\n     <use style=\"fill:#1f77b4;stroke:#1f77b4;\" x=\"58.366306\" xlink:href=\"#mb3f9094f80\" y=\"168.193455\"/>\r\n     <use style=\"fill:#1f77b4;stroke:#1f77b4;\" x=\"58.675152\" xlink:href=\"#mb3f9094f80\" y=\"175.661091\"/>\r\n     <use style=\"fill:#1f77b4;stroke:#1f77b4;\" x=\"58.098273\" xlink:href=\"#mb3f9094f80\" y=\"163.800727\"/>\r\n     <use style=\"fill:#1f77b4;stroke:#1f77b4;\" x=\"59.06935\" xlink:href=\"#mb3f9094f80\" y=\"171.707636\"/>\r\n     <use style=\"fill:#1f77b4;stroke:#1f77b4;\" x=\"58.444065\" xlink:href=\"#mb3f9094f80\" y=\"155.893818\"/>\r\n     <use style=\"fill:#1f77b4;stroke:#1f77b4;\" x=\"59.229042\" xlink:href=\"#mb3f9094f80\" y=\"144.472727\"/>\r\n     <use style=\"fill:#1f77b4;stroke:#1f77b4;\" x=\"59.668158\" xlink:href=\"#mb3f9094f80\" y=\"180.932364\"/>\r\n     <use style=\"fill:#1f77b4;stroke:#1f77b4;\" x=\"60.434148\" xlink:href=\"#mb3f9094f80\" y=\"173.025455\"/>\r\n     <use style=\"fill:#1f77b4;stroke:#1f77b4;\" x=\"60.547964\" xlink:href=\"#mb3f9094f80\" y=\"178.736\"/>\r\n     <use style=\"fill:#1f77b4;stroke:#1f77b4;\" x=\"59.73969\" xlink:href=\"#mb3f9094f80\" y=\"179.175273\"/>\r\n     <use style=\"fill:#1f77b4;stroke:#1f77b4;\" x=\"61.317101\" xlink:href=\"#mb3f9094f80\" y=\"177.418182\"/>\r\n     <use style=\"fill:#1f77b4;stroke:#1f77b4;\" x=\"56.01921\" xlink:href=\"#mb3f9094f80\" y=\"153.697455\"/>\r\n     <use style=\"fill:#1f77b4;stroke:#1f77b4;\" x=\"56.133026\" xlink:href=\"#mb3f9094f80\" y=\"148.865455\"/>\r\n     <use style=\"fill:#1f77b4;stroke:#1f77b4;\" x=\"56.073843\" xlink:href=\"#mb3f9094f80\" y=\"144.472727\"/>\r\n     <use style=\"fill:#1f77b4;stroke:#1f77b4;\" x=\"56.398528\" xlink:href=\"#mb3f9094f80\" y=\"128.219636\"/>\r\n     <use style=\"fill:#1f77b4;stroke:#1f77b4;\" x=\"55.894208\" xlink:href=\"#mb3f9094f80\" y=\"101.424\"/>\r\n     <use style=\"fill:#1f77b4;stroke:#1f77b4;\" x=\"55.914597\" xlink:href=\"#mb3f9094f80\" y=\"83.413818\"/>\r\n     <use style=\"fill:#1f77b4;stroke:#1f77b4;\" x=\"56.235655\" xlink:href=\"#mb3f9094f80\" y=\"119.873455\"/>\r\n     <use style=\"fill:#1f77b4;stroke:#1f77b4;\" x=\"56.283754\" xlink:href=\"#mb3f9094f80\" y=\"125.584\"/>\r\n     <use style=\"fill:#1f77b4;stroke:#1f77b4;\" x=\"56.344853\" xlink:href=\"#mb3f9094f80\" y=\"128.219636\"/>\r\n     <use style=\"fill:#1f77b4;stroke:#1f77b4;\" x=\"56.219406\" xlink:href=\"#mb3f9094f80\" y=\"143.594182\"/>\r\n     <use style=\"fill:#1f77b4;stroke:#1f77b4;\" x=\"56.38611\" xlink:href=\"#mb3f9094f80\" y=\"151.940364\"/>\r\n     <use style=\"fill:#1f77b4;stroke:#1f77b4;\" x=\"56.444061\" xlink:href=\"#mb3f9094f80\" y=\"148.865455\"/>\r\n     <use style=\"fill:#1f77b4;stroke:#1f77b4;\" x=\"56.584013\" xlink:href=\"#mb3f9094f80\" y=\"163.800727\"/>\r\n     <use style=\"fill:#1f77b4;stroke:#1f77b4;\" x=\"56.668169\" xlink:href=\"#mb3f9094f80\" y=\"173.464727\"/>\r\n     <use style=\"fill:#1f77b4;stroke:#1f77b4;\" x=\"56.551514\" xlink:href=\"#mb3f9094f80\" y=\"151.501091\"/>\r\n     <use style=\"fill:#1f77b4;stroke:#1f77b4;\" x=\"56.103229\" xlink:href=\"#mb3f9094f80\" y=\"150.183273\"/>\r\n     <use style=\"fill:#1f77b4;stroke:#1f77b4;\" x=\"55.948054\" xlink:href=\"#mb3f9094f80\" y=\"146.669091\"/>\r\n     <use style=\"fill:#1f77b4;stroke:#1f77b4;\" x=\"55.98305\" xlink:href=\"#mb3f9094f80\" y=\"126.901818\"/>\r\n     <use style=\"fill:#1f77b4;stroke:#1f77b4;\" x=\"55.970085\" xlink:href=\"#mb3f9094f80\" y=\"133.930182\"/>\r\n     <use style=\"fill:#1f77b4;stroke:#1f77b4;\" x=\"55.846212\" xlink:href=\"#mb3f9094f80\" y=\"153.697455\"/>\r\n     <use style=\"fill:#1f77b4;stroke:#1f77b4;\" x=\"55.844535\" xlink:href=\"#mb3f9094f80\" y=\"81.217455\"/>\r\n     <use style=\"fill:#1f77b4;stroke:#1f77b4;\" x=\"55.869987\" xlink:href=\"#mb3f9094f80\" y=\"128.219636\"/>\r\n     <use style=\"fill:#1f77b4;stroke:#1f77b4;\" x=\"55.848675\" xlink:href=\"#mb3f9094f80\" y=\"97.909818\"/>\r\n     <use style=\"fill:#1f77b4;stroke:#1f77b4;\" x=\"56.328056\" xlink:href=\"#mb3f9094f80\" y=\"134.369455\"/>\r\n     <use style=\"fill:#1f77b4;stroke:#1f77b4;\" x=\"56.153004\" xlink:href=\"#mb3f9094f80\" y=\"150.622545\"/>\r\n     <use style=\"fill:#1f77b4;stroke:#1f77b4;\" x=\"56.310506\" xlink:href=\"#mb3f9094f80\" y=\"154.576\"/>\r\n     <use style=\"fill:#1f77b4;stroke:#1f77b4;\" x=\"56.387102\" xlink:href=\"#mb3f9094f80\" y=\"166.436364\"/>\r\n     <use style=\"fill:#1f77b4;stroke:#1f77b4;\" x=\"56.176917\" xlink:href=\"#mb3f9094f80\" y=\"139.201455\"/>\r\n     <use style=\"fill:#1f77b4;stroke:#1f77b4;\" x=\"56.232439\" xlink:href=\"#mb3f9094f80\" y=\"126.901818\"/>\r\n     <use style=\"fill:#1f77b4;stroke:#1f77b4;\" x=\"55.866429\" xlink:href=\"#mb3f9094f80\" y=\"91.76\"/>\r\n     <use style=\"fill:#1f77b4;stroke:#1f77b4;\" x=\"55.922294\" xlink:href=\"#mb3f9094f80\" y=\"133.490909\"/>\r\n     <use style=\"fill:#1f77b4;stroke:#1f77b4;\" x=\"55.949491\" xlink:href=\"#mb3f9094f80\" y=\"151.501091\"/>\r\n     <use style=\"fill:#1f77b4;stroke:#1f77b4;\" x=\"55.997726\" xlink:href=\"#mb3f9094f80\" y=\"140.08\"/>\r\n     <use style=\"fill:#1f77b4;stroke:#1f77b4;\" x=\"56.263365\" xlink:href=\"#mb3f9094f80\" y=\"160.286545\"/>\r\n     <use style=\"fill:#1f77b4;stroke:#1f77b4;\" x=\"56.238118\" xlink:href=\"#mb3f9094f80\" y=\"144.912\"/>\r\n     <use style=\"fill:#1f77b4;stroke:#1f77b4;\" x=\"56.101621\" xlink:href=\"#mb3f9094f80\" y=\"130.416\"/>\r\n     <use style=\"fill:#1f77b4;stroke:#1f77b4;\" x=\"56.3428\" xlink:href=\"#mb3f9094f80\" y=\"141.397818\"/>\r\n     <use style=\"fill:#1f77b4;stroke:#1f77b4;\" x=\"56.113184\" xlink:href=\"#mb3f9094f80\" y=\"136.565818\"/>\r\n     <use style=\"fill:#1f77b4;stroke:#1f77b4;\" x=\"56.46811\" xlink:href=\"#mb3f9094f80\" y=\"133.930182\"/>\r\n     <use style=\"fill:#1f77b4;stroke:#1f77b4;\" x=\"56.069806\" xlink:href=\"#mb3f9094f80\" y=\"130.855273\"/>\r\n     <use style=\"fill:#1f77b4;stroke:#1f77b4;\" x=\"56.125089\" xlink:href=\"#mb3f9094f80\" y=\"142.715636\"/>\r\n     <use style=\"fill:#1f77b4;stroke:#1f77b4;\" x=\"56.147018\" xlink:href=\"#mb3f9094f80\" y=\"148.865455\"/>\r\n     <use style=\"fill:#1f77b4;stroke:#1f77b4;\" x=\"56.09755\" xlink:href=\"#mb3f9094f80\" y=\"145.351273\"/>\r\n     <use style=\"fill:#1f77b4;stroke:#1f77b4;\" x=\"55.992834\" xlink:href=\"#mb3f9094f80\" y=\"143.594182\"/>\r\n     <use style=\"fill:#1f77b4;stroke:#1f77b4;\" x=\"56.086603\" xlink:href=\"#mb3f9094f80\" y=\"147.547636\"/>\r\n     <use style=\"fill:#1f77b4;stroke:#1f77b4;\" x=\"55.940391\" xlink:href=\"#mb3f9094f80\" y=\"113.723636\"/>\r\n     <use style=\"fill:#1f77b4;stroke:#1f77b4;\" x=\"55.95233\" xlink:href=\"#mb3f9094f80\" y=\"131.733818\"/>\r\n     <use style=\"fill:#1f77b4;stroke:#1f77b4;\" x=\"55.92486\" xlink:href=\"#mb3f9094f80\" y=\"127.780364\"/>\r\n     <use style=\"fill:#1f77b4;stroke:#1f77b4;\" x=\"55.921165\" xlink:href=\"#mb3f9094f80\" y=\"136.126545\"/>\r\n     <use style=\"fill:#1f77b4;stroke:#1f77b4;\" x=\"55.972753\" xlink:href=\"#mb3f9094f80\" y=\"131.733818\"/>\r\n     <use style=\"fill:#1f77b4;stroke:#1f77b4;\" x=\"55.995879\" xlink:href=\"#mb3f9094f80\" y=\"119.873455\"/>\r\n     <use style=\"fill:#1f77b4;stroke:#1f77b4;\" x=\"55.977166\" xlink:href=\"#mb3f9094f80\" y=\"137.883636\"/>\r\n     <use style=\"fill:#1f77b4;stroke:#1f77b4;\" x=\"56.04432\" xlink:href=\"#mb3f9094f80\" y=\"139.201455\"/>\r\n     <use style=\"fill:#1f77b4;stroke:#1f77b4;\" x=\"55.993313\" xlink:href=\"#mb3f9094f80\" y=\"133.051636\"/>\r\n     <use style=\"fill:#1f77b4;stroke:#1f77b4;\" x=\"55.981066\" xlink:href=\"#mb3f9094f80\" y=\"110.648727\"/>\r\n     <use style=\"fill:#1f77b4;stroke:#1f77b4;\" x=\"55.959925\" xlink:href=\"#mb3f9094f80\" y=\"137.444364\"/>\r\n     <use style=\"fill:#1f77b4;stroke:#1f77b4;\" x=\"55.934199\" xlink:href=\"#mb3f9094f80\" y=\"140.08\"/>\r\n     <use style=\"fill:#1f77b4;stroke:#1f77b4;\" x=\"55.94347\" xlink:href=\"#mb3f9094f80\" y=\"136.126545\"/>\r\n     <use style=\"fill:#1f77b4;stroke:#1f77b4;\" x=\"55.898039\" xlink:href=\"#mb3f9094f80\" y=\"126.901818\"/>\r\n     <use style=\"fill:#1f77b4;stroke:#1f77b4;\" x=\"55.946583\" xlink:href=\"#mb3f9094f80\" y=\"146.229818\"/>\r\n     <use style=\"fill:#1f77b4;stroke:#1f77b4;\" x=\"56.217182\" xlink:href=\"#mb3f9094f80\" y=\"111.966545\"/>\r\n     <use style=\"fill:#1f77b4;stroke:#1f77b4;\" x=\"56.193235\" xlink:href=\"#mb3f9094f80\" y=\"142.715636\"/>\r\n     <use style=\"fill:#1f77b4;stroke:#1f77b4;\" x=\"56.213043\" xlink:href=\"#mb3f9094f80\" y=\"66.721455\"/>\r\n     <use style=\"fill:#1f77b4;stroke:#1f77b4;\" x=\"56.079761\" xlink:href=\"#mb3f9094f80\" y=\"44.318545\"/>\r\n     <use style=\"fill:#1f77b4;stroke:#1f77b4;\" x=\"56.034365\" xlink:href=\"#mb3f9094f80\" y=\"90.881455\"/>\r\n     <use style=\"fill:#1f77b4;stroke:#1f77b4;\" x=\"56.308248\" xlink:href=\"#mb3f9094f80\" y=\"115.92\"/>\r\n     <use style=\"fill:#1f77b4;stroke:#1f77b4;\" x=\"56.190772\" xlink:href=\"#mb3f9094f80\" y=\"120.312727\"/>\r\n     <use style=\"fill:#1f77b4;stroke:#1f77b4;\" x=\"56.582268\" xlink:href=\"#mb3f9094f80\" y=\"155.015273\"/>\r\n     <use style=\"fill:#1f77b4;stroke:#1f77b4;\" x=\"56.523599\" xlink:href=\"#mb3f9094f80\" y=\"151.940364\"/>\r\n     <use style=\"fill:#1f77b4;stroke:#1f77b4;\" x=\"56.277254\" xlink:href=\"#mb3f9094f80\" y=\"148.426182\"/>\r\n     <use style=\"fill:#1f77b4;stroke:#1f77b4;\" x=\"56.253376\" xlink:href=\"#mb3f9094f80\" y=\"151.061818\"/>\r\n     <use style=\"fill:#1f77b4;stroke:#1f77b4;\" x=\"56.385357\" xlink:href=\"#mb3f9094f80\" y=\"151.061818\"/>\r\n     <use style=\"fill:#1f77b4;stroke:#1f77b4;\" x=\"56.248415\" xlink:href=\"#mb3f9094f80\" y=\"147.108364\"/>\r\n     <use style=\"fill:#1f77b4;stroke:#1f77b4;\" x=\"56.237639\" xlink:href=\"#mb3f9094f80\" y=\"149.744\"/>\r\n     <use style=\"fill:#1f77b4;stroke:#1f77b4;\" x=\"56.701558\" xlink:href=\"#mb3f9094f80\" y=\"151.501091\"/>\r\n     <use style=\"fill:#1f77b4;stroke:#1f77b4;\" x=\"56.168912\" xlink:href=\"#mb3f9094f80\" y=\"141.397818\"/>\r\n     <use style=\"fill:#1f77b4;stroke:#1f77b4;\" x=\"56.144657\" xlink:href=\"#mb3f9094f80\" y=\"136.565818\"/>\r\n     <use style=\"fill:#1f77b4;stroke:#1f77b4;\" x=\"56.221458\" xlink:href=\"#mb3f9094f80\" y=\"154.136727\"/>\r\n     <use style=\"fill:#1f77b4;stroke:#1f77b4;\" x=\"56.559553\" xlink:href=\"#mb3f9094f80\" y=\"154.576\"/>\r\n     <use style=\"fill:#1f77b4;stroke:#1f77b4;\" x=\"56.286525\" xlink:href=\"#mb3f9094f80\" y=\"155.454545\"/>\r\n     <use style=\"fill:#1f77b4;stroke:#1f77b4;\" x=\"56.385836\" xlink:href=\"#mb3f9094f80\" y=\"156.333091\"/>\r\n     <use style=\"fill:#1f77b4;stroke:#1f77b4;\" x=\"56.249818\" xlink:href=\"#mb3f9094f80\" y=\"143.594182\"/>\r\n     <use style=\"fill:#1f77b4;stroke:#1f77b4;\" x=\"56.316185\" xlink:href=\"#mb3f9094f80\" y=\"152.379636\"/>\r\n     <use style=\"fill:#1f77b4;stroke:#1f77b4;\" x=\"56.246397\" xlink:href=\"#mb3f9094f80\" y=\"147.108364\"/>\r\n     <use style=\"fill:#1f77b4;stroke:#1f77b4;\" x=\"56.294906\" xlink:href=\"#mb3f9094f80\" y=\"151.940364\"/>\r\n     <use style=\"fill:#1f77b4;stroke:#1f77b4;\" x=\"56.035699\" xlink:href=\"#mb3f9094f80\" y=\"140.08\"/>\r\n     <use style=\"fill:#1f77b4;stroke:#1f77b4;\" x=\"56.044799\" xlink:href=\"#mb3f9094f80\" y=\"147.547636\"/>\r\n     <use style=\"fill:#1f77b4;stroke:#1f77b4;\" x=\"56.117803\" xlink:href=\"#mb3f9094f80\" y=\"146.669091\"/>\r\n     <use style=\"fill:#1f77b4;stroke:#1f77b4;\" x=\"56.314132\" xlink:href=\"#mb3f9094f80\" y=\"160.725818\"/>\r\n     <use style=\"fill:#1f77b4;stroke:#1f77b4;\" x=\"56.136618\" xlink:href=\"#mb3f9094f80\" y=\"154.136727\"/>\r\n     <use style=\"fill:#1f77b4;stroke:#1f77b4;\" x=\"56.377899\" xlink:href=\"#mb3f9094f80\" y=\"142.715636\"/>\r\n     <use style=\"fill:#1f77b4;stroke:#1f77b4;\" x=\"57.1248\" xlink:href=\"#mb3f9094f80\" y=\"167.754182\"/>\r\n     <use style=\"fill:#1f77b4;stroke:#1f77b4;\" x=\"56.686232\" xlink:href=\"#mb3f9094f80\" y=\"165.557818\"/>\r\n     <use style=\"fill:#1f77b4;stroke:#1f77b4;\" x=\"56.912974\" xlink:href=\"#mb3f9094f80\" y=\"157.650909\"/>\r\n     <use style=\"fill:#1f77b4;stroke:#1f77b4;\" x=\"58.81442\" xlink:href=\"#mb3f9094f80\" y=\"173.904\"/>\r\n     <use style=\"fill:#1f77b4;stroke:#1f77b4;\" x=\"56.963023\" xlink:href=\"#mb3f9094f80\" y=\"152.379636\"/>\r\n     <use style=\"fill:#1f77b4;stroke:#1f77b4;\" x=\"59.880703\" xlink:href=\"#mb3f9094f80\" y=\"150.622545\"/>\r\n     <use style=\"fill:#1f77b4;stroke:#1f77b4;\" x=\"57.818232\" xlink:href=\"#mb3f9094f80\" y=\"135.687273\"/>\r\n     <use style=\"fill:#1f77b4;stroke:#1f77b4;\" x=\"56.927992\" xlink:href=\"#mb3f9094f80\" y=\"155.893818\"/>\r\n     <use style=\"fill:#1f77b4;stroke:#1f77b4;\" x=\"59.139138\" xlink:href=\"#mb3f9094f80\" y=\"168.193455\"/>\r\n     <use style=\"fill:#1f77b4;stroke:#1f77b4;\" x=\"57.707837\" xlink:href=\"#mb3f9094f80\" y=\"157.211636\"/>\r\n     <use style=\"fill:#1f77b4;stroke:#1f77b4;\" x=\"56.903429\" xlink:href=\"#mb3f9094f80\" y=\"160.286545\"/>\r\n     <use style=\"fill:#1f77b4;stroke:#1f77b4;\" x=\"57.004998\" xlink:href=\"#mb3f9094f80\" y=\"161.604364\"/>\r\n     <use style=\"fill:#1f77b4;stroke:#1f77b4;\" x=\"56.654246\" xlink:href=\"#mb3f9094f80\" y=\"178.296727\"/>\r\n     <use style=\"fill:#1f77b4;stroke:#1f77b4;\" x=\"57.662475\" xlink:href=\"#mb3f9094f80\" y=\"158.529455\"/>\r\n     <use style=\"fill:#1f77b4;stroke:#1f77b4;\" x=\"56.794848\" xlink:href=\"#mb3f9094f80\" y=\"175.221818\"/>\r\n     <use style=\"fill:#1f77b4;stroke:#1f77b4;\" x=\"61.371221\" xlink:href=\"#mb3f9094f80\" y=\"173.464727\"/>\r\n     <use style=\"fill:#1f77b4;stroke:#1f77b4;\" x=\"67.160912\" xlink:href=\"#mb3f9094f80\" y=\"177.857455\"/>\r\n     <use style=\"fill:#1f77b4;stroke:#1f77b4;\" x=\"69.816785\" xlink:href=\"#mb3f9094f80\" y=\"168.193455\"/>\r\n     <use style=\"fill:#1f77b4;stroke:#1f77b4;\" x=\"65.309104\" xlink:href=\"#mb3f9094f80\" y=\"184.885818\"/>\r\n     <use style=\"fill:#1f77b4;stroke:#1f77b4;\" x=\"63.939346\" xlink:href=\"#mb3f9094f80\" y=\"176.100364\"/>\r\n     <use style=\"fill:#1f77b4;stroke:#1f77b4;\" x=\"63.172056\" xlink:href=\"#mb3f9094f80\" y=\"168.193455\"/>\r\n     <use style=\"fill:#1f77b4;stroke:#1f77b4;\" x=\"63.902673\" xlink:href=\"#mb3f9094f80\" y=\"172.586182\"/>\r\n     <use style=\"fill:#1f77b4;stroke:#1f77b4;\" x=\"63.773942\" xlink:href=\"#mb3f9094f80\" y=\"158.529455\"/>\r\n     <use style=\"fill:#1f77b4;stroke:#1f77b4;\" x=\"65.152526\" xlink:href=\"#mb3f9094f80\" y=\"169.072\"/>\r\n     <use style=\"fill:#1f77b4;stroke:#1f77b4;\" x=\"61.466872\" xlink:href=\"#mb3f9094f80\" y=\"142.276364\"/>\r\n     <use style=\"fill:#1f77b4;stroke:#1f77b4;\" x=\"60.918558\" xlink:href=\"#mb3f9094f80\" y=\"150.622545\"/>\r\n     <use style=\"fill:#1f77b4;stroke:#1f77b4;\" x=\"59.653687\" xlink:href=\"#mb3f9094f80\" y=\"169.511273\"/>\r\n     <use style=\"fill:#1f77b4;stroke:#1f77b4;\" x=\"63.151975\" xlink:href=\"#mb3f9094f80\" y=\"151.501091\"/>\r\n     <use style=\"fill:#1f77b4;stroke:#1f77b4;\" x=\"60.63643\" xlink:href=\"#mb3f9094f80\" y=\"162.043636\"/>\r\n     <use style=\"fill:#1f77b4;stroke:#1f77b4;\" x=\"67.892863\" xlink:href=\"#mb3f9094f80\" y=\"168.193455\"/>\r\n     <use style=\"fill:#1f77b4;stroke:#1f77b4;\" x=\"64.169715\" xlink:href=\"#mb3f9094f80\" y=\"179.175273\"/>\r\n     <use style=\"fill:#1f77b4;stroke:#1f77b4;\" x=\"59.985521\" xlink:href=\"#mb3f9094f80\" y=\"55.300364\"/>\r\n     <use style=\"fill:#1f77b4;stroke:#1f77b4;\" x=\"60.393507\" xlink:href=\"#mb3f9094f80\" y=\"129.976727\"/>\r\n     <use style=\"fill:#1f77b4;stroke:#1f77b4;\" x=\"60.674642\" xlink:href=\"#mb3f9094f80\" y=\"134.369455\"/>\r\n     <use style=\"fill:#1f77b4;stroke:#1f77b4;\" x=\"60.15616\" xlink:href=\"#mb3f9094f80\" y=\"118.116364\"/>\r\n     <use style=\"fill:#1f77b4;stroke:#1f77b4;\" x=\"60.805803\" xlink:href=\"#mb3f9094f80\" y=\"17.083636\"/>\r\n     <use style=\"fill:#1f77b4;stroke:#1f77b4;\" x=\"62.072966\" xlink:href=\"#mb3f9094f80\" y=\"17.083636\"/>\r\n     <use style=\"fill:#1f77b4;stroke:#1f77b4;\" x=\"60.996214\" xlink:href=\"#mb3f9094f80\" y=\"17.083636\"/>\r\n     <use style=\"fill:#1f77b4;stroke:#1f77b4;\" x=\"63.470741\" xlink:href=\"#mb3f9094f80\" y=\"137.005091\"/>\r\n     <use style=\"fill:#1f77b4;stroke:#1f77b4;\" x=\"65.802614\" xlink:href=\"#mb3f9094f80\" y=\"126.901818\"/>\r\n     <use style=\"fill:#1f77b4;stroke:#1f77b4;\" x=\"62.676494\" xlink:href=\"#mb3f9094f80\" y=\"17.083636\"/>\r\n     <use style=\"fill:#1f77b4;stroke:#1f77b4;\" x=\"61.958397\" xlink:href=\"#mb3f9094f80\" y=\"132.173091\"/>\r\n     <use style=\"fill:#1f77b4;stroke:#1f77b4;\" x=\"63.669295\" xlink:href=\"#mb3f9094f80\" y=\"132.173091\"/>\r\n     <use style=\"fill:#1f77b4;stroke:#1f77b4;\" x=\"64.179464\" xlink:href=\"#mb3f9094f80\" y=\"138.762182\"/>\r\n     <use style=\"fill:#1f77b4;stroke:#1f77b4;\" x=\"59.930239\" xlink:href=\"#mb3f9094f80\" y=\"160.286545\"/>\r\n     <use style=\"fill:#1f77b4;stroke:#1f77b4;\" x=\"63.715478\" xlink:href=\"#mb3f9094f80\" y=\"152.818909\"/>\r\n     <use style=\"fill:#1f77b4;stroke:#1f77b4;\" x=\"56.275681\" xlink:href=\"#mb3f9094f80\" y=\"135.248\"/>\r\n     <use style=\"fill:#1f77b4;stroke:#1f77b4;\" x=\"56.113663\" xlink:href=\"#mb3f9094f80\" y=\"133.051636\"/>\r\n     <use style=\"fill:#1f77b4;stroke:#1f77b4;\" x=\"56.088656\" xlink:href=\"#mb3f9094f80\" y=\"137.444364\"/>\r\n     <use style=\"fill:#1f77b4;stroke:#1f77b4;\" x=\"56.02766\" xlink:href=\"#mb3f9094f80\" y=\"107.573818\"/>\r\n     <use style=\"fill:#1f77b4;stroke:#1f77b4;\" x=\"56.039907\" xlink:href=\"#mb3f9094f80\" y=\"134.808727\"/>\r\n     <use style=\"fill:#1f77b4;stroke:#1f77b4;\" x=\"55.985274\" xlink:href=\"#mb3f9094f80\" y=\"128.658909\"/>\r\n     <use style=\"fill:#1f77b4;stroke:#1f77b4;\" x=\"56.026907\" xlink:href=\"#mb3f9094f80\" y=\"105.377455\"/>\r\n     <use style=\"fill:#1f77b4;stroke:#1f77b4;\" x=\"55.997419\" xlink:href=\"#mb3f9094f80\" y=\"73.310545\"/>\r\n     <use style=\"fill:#1f77b4;stroke:#1f77b4;\" x=\"56.02506\" xlink:href=\"#mb3f9094f80\" y=\"61.889455\"/>\r\n     <use style=\"fill:#1f77b4;stroke:#1f77b4;\" x=\"56.035323\" xlink:href=\"#mb3f9094f80\" y=\"77.703273\"/>\r\n     <use style=\"fill:#1f77b4;stroke:#1f77b4;\" x=\"56.111098\" xlink:href=\"#mb3f9094f80\" y=\"70.235636\"/>\r\n     <use style=\"fill:#1f77b4;stroke:#1f77b4;\" x=\"56.142057\" xlink:href=\"#mb3f9094f80\" y=\"93.956364\"/>\r\n     <use style=\"fill:#1f77b4;stroke:#1f77b4;\" x=\"56.083901\" xlink:href=\"#mb3f9094f80\" y=\"120.752\"/>\r\n     <use style=\"fill:#1f77b4;stroke:#1f77b4;\" x=\"56.006553\" xlink:href=\"#mb3f9094f80\" y=\"106.695273\"/>\r\n     <use style=\"fill:#1f77b4;stroke:#1f77b4;\" x=\"55.991329\" xlink:href=\"#mb3f9094f80\" y=\"17.083636\"/>\r\n     <use style=\"fill:#1f77b4;stroke:#1f77b4;\" x=\"56.069088\" xlink:href=\"#mb3f9094f80\" y=\"96.152727\"/>\r\n     <use style=\"fill:#1f77b4;stroke:#1f77b4;\" x=\"56.230011\" xlink:href=\"#mb3f9094f80\" y=\"105.816727\"/>\r\n     <use style=\"fill:#1f77b4;stroke:#1f77b4;\" x=\"56.086022\" xlink:href=\"#mb3f9094f80\" y=\"83.413818\"/>\r\n     <use style=\"fill:#1f77b4;stroke:#1f77b4;\" x=\"56.1099\" xlink:href=\"#mb3f9094f80\" y=\"74.189091\"/>\r\n     <use style=\"fill:#1f77b4;stroke:#1f77b4;\" x=\"56.03611\" xlink:href=\"#mb3f9094f80\" y=\"102.741818\"/>\r\n     <use style=\"fill:#1f77b4;stroke:#1f77b4;\" x=\"56.096079\" xlink:href=\"#mb3f9094f80\" y=\"76.824727\"/>\r\n     <use style=\"fill:#1f77b4;stroke:#1f77b4;\" x=\"55.874503\" xlink:href=\"#mb3f9094f80\" y=\"100.106182\"/>\r\n     <use style=\"fill:#1f77b4;stroke:#1f77b4;\" x=\"55.848914\" xlink:href=\"#mb3f9094f80\" y=\"108.891636\"/>\r\n     <use style=\"fill:#1f77b4;stroke:#1f77b4;\" x=\"55.84693\" xlink:href=\"#mb3f9094f80\" y=\"17.083636\"/>\r\n     <use style=\"fill:#1f77b4;stroke:#1f77b4;\" x=\"55.936902\" xlink:href=\"#mb3f9094f80\" y=\"90.442182\"/>\r\n     <use style=\"fill:#1f77b4;stroke:#1f77b4;\" x=\"55.959309\" xlink:href=\"#mb3f9094f80\" y=\"103.620364\"/>\r\n     <use style=\"fill:#1f77b4;stroke:#1f77b4;\" x=\"55.928589\" xlink:href=\"#mb3f9094f80\" y=\"84.731636\"/>\r\n     <use style=\"fill:#1f77b4;stroke:#1f77b4;\" x=\"55.907447\" xlink:href=\"#mb3f9094f80\" y=\"83.413818\"/>\r\n     <use style=\"fill:#1f77b4;stroke:#1f77b4;\" x=\"55.860511\" xlink:href=\"#mb3f9094f80\" y=\"92.199273\"/>\r\n     <use style=\"fill:#1f77b4;stroke:#1f77b4;\" x=\"55.917539\" xlink:href=\"#mb3f9094f80\" y=\"130.855273\"/>\r\n     <use style=\"fill:#1f77b4;stroke:#1f77b4;\" x=\"55.874161\" xlink:href=\"#mb3f9094f80\" y=\"50.907636\"/>\r\n     <use style=\"fill:#1f77b4;stroke:#1f77b4;\" x=\"55.919762\" xlink:href=\"#mb3f9094f80\" y=\"23.672727\"/>\r\n     <use style=\"fill:#1f77b4;stroke:#1f77b4;\" x=\"55.868414\" xlink:href=\"#mb3f9094f80\" y=\"17.083636\"/>\r\n     <use style=\"fill:#1f77b4;stroke:#1f77b4;\" x=\"56.266376\" xlink:href=\"#mb3f9094f80\" y=\"137.444364\"/>\r\n     <use style=\"fill:#1f77b4;stroke:#1f77b4;\" x=\"56.58545\" xlink:href=\"#mb3f9094f80\" y=\"129.537455\"/>\r\n     <use style=\"fill:#1f77b4;stroke:#1f77b4;\" x=\"56.661737\" xlink:href=\"#mb3f9094f80\" y=\"137.883636\"/>\r\n     <use style=\"fill:#1f77b4;stroke:#1f77b4;\" x=\"56.264494\" xlink:href=\"#mb3f9094f80\" y=\"129.537455\"/>\r\n     <use style=\"fill:#1f77b4;stroke:#1f77b4;\" x=\"57.290239\" xlink:href=\"#mb3f9094f80\" y=\"148.865455\"/>\r\n     <use style=\"fill:#1f77b4;stroke:#1f77b4;\" x=\"56.396509\" xlink:href=\"#mb3f9094f80\" y=\"141.397818\"/>\r\n     <use style=\"fill:#1f77b4;stroke:#1f77b4;\" x=\"57.08522\" xlink:href=\"#mb3f9094f80\" y=\"151.940364\"/>\r\n     <use style=\"fill:#1f77b4;stroke:#1f77b4;\" x=\"56.542688\" xlink:href=\"#mb3f9094f80\" y=\"138.322909\"/>\r\n     <use style=\"fill:#1f77b4;stroke:#1f77b4;\" x=\"56.280402\" xlink:href=\"#mb3f9094f80\" y=\"113.284364\"/>\r\n     <use style=\"fill:#1f77b4;stroke:#1f77b4;\" x=\"56.790229\" xlink:href=\"#mb3f9094f80\" y=\"132.612364\"/>\r\n     <use style=\"fill:#1f77b4;stroke:#1f77b4;\" x=\"56.477108\" xlink:href=\"#mb3f9094f80\" y=\"126.901818\"/>\r\n     <use style=\"fill:#1f77b4;stroke:#1f77b4;\" x=\"55.955683\" xlink:href=\"#mb3f9094f80\" y=\"134.369455\"/>\r\n     <use style=\"fill:#1f77b4;stroke:#1f77b4;\" x=\"56.039599\" xlink:href=\"#mb3f9094f80\" y=\"110.648727\"/>\r\n     <use style=\"fill:#1f77b4;stroke:#1f77b4;\" x=\"56.178354\" xlink:href=\"#mb3f9094f80\" y=\"142.276364\"/>\r\n     <use style=\"fill:#1f77b4;stroke:#1f77b4;\" x=\"56.190533\" xlink:href=\"#mb3f9094f80\" y=\"135.687273\"/>\r\n     <use style=\"fill:#1f77b4;stroke:#1f77b4;\" x=\"57.024703\" xlink:href=\"#mb3f9094f80\" y=\"119.434182\"/>\r\n     <use style=\"fill:#1f77b4;stroke:#1f77b4;\" x=\"57.194452\" xlink:href=\"#mb3f9094f80\" y=\"141.397818\"/>\r\n     <use style=\"fill:#1f77b4;stroke:#1f77b4;\" x=\"57.932869\" xlink:href=\"#mb3f9094f80\" y=\"115.92\"/>\r\n     <use style=\"fill:#1f77b4;stroke:#1f77b4;\" x=\"57.902559\" xlink:href=\"#mb3f9094f80\" y=\"104.498909\"/>\r\n     <use style=\"fill:#1f77b4;stroke:#1f77b4;\" x=\"56.878422\" xlink:href=\"#mb3f9094f80\" y=\"39.925818\"/>\r\n     <use style=\"fill:#1f77b4;stroke:#1f77b4;\" x=\"57.6023\" xlink:href=\"#mb3f9094f80\" y=\"17.083636\"/>\r\n     <use style=\"fill:#1f77b4;stroke:#1f77b4;\" x=\"57.106977\" xlink:href=\"#mb3f9094f80\" y=\"71.553455\"/>\r\n     <use style=\"fill:#1f77b4;stroke:#1f77b4;\" x=\"57.210427\" xlink:href=\"#mb3f9094f80\" y=\"97.909818\"/>\r\n     <use style=\"fill:#1f77b4;stroke:#1f77b4;\" x=\"56.819786\" xlink:href=\"#mb3f9094f80\" y=\"31.579636\"/>\r\n     <use style=\"fill:#1f77b4;stroke:#1f77b4;\" x=\"57.311004\" xlink:href=\"#mb3f9094f80\" y=\"98.349091\"/>\r\n     <use style=\"fill:#1f77b4;stroke:#1f77b4;\" x=\"57.636749\" xlink:href=\"#mb3f9094f80\" y=\"129.976727\"/>\r\n     <use style=\"fill:#1f77b4;stroke:#1f77b4;\" x=\"57.38346\" xlink:href=\"#mb3f9094f80\" y=\"97.470545\"/>\r\n     <use style=\"fill:#1f77b4;stroke:#1f77b4;\" x=\"57.767738\" xlink:href=\"#mb3f9094f80\" y=\"53.543273\"/>\r\n     <use style=\"fill:#1f77b4;stroke:#1f77b4;\" x=\"56.933636\" xlink:href=\"#mb3f9094f80\" y=\"24.551273\"/>\r\n     <use style=\"fill:#1f77b4;stroke:#1f77b4;\" x=\"57.331975\" xlink:href=\"#mb3f9094f80\" y=\"109.330909\"/>\r\n     <use style=\"fill:#1f77b4;stroke:#1f77b4;\" x=\"56.930147\" xlink:href=\"#mb3f9094f80\" y=\"131.294545\"/>\r\n     <use style=\"fill:#1f77b4;stroke:#1f77b4;\" x=\"57.580577\" xlink:href=\"#mb3f9094f80\" y=\"126.462545\"/>\r\n     <use style=\"fill:#1f77b4;stroke:#1f77b4;\" x=\"57.550643\" xlink:href=\"#mb3f9094f80\" y=\"98.349091\"/>\r\n     <use style=\"fill:#1f77b4;stroke:#1f77b4;\" x=\"56.081711\" xlink:href=\"#mb3f9094f80\" y=\"132.612364\"/>\r\n     <use style=\"fill:#1f77b4;stroke:#1f77b4;\" x=\"56.116195\" xlink:href=\"#mb3f9094f80\" y=\"134.369455\"/>\r\n     <use style=\"fill:#1f77b4;stroke:#1f77b4;\" x=\"56.187248\" xlink:href=\"#mb3f9094f80\" y=\"140.08\"/>\r\n     <use style=\"fill:#1f77b4;stroke:#1f77b4;\" x=\"56.16272\" xlink:href=\"#mb3f9094f80\" y=\"148.426182\"/>\r\n     <use style=\"fill:#1f77b4;stroke:#1f77b4;\" x=\"56.151704\" xlink:href=\"#mb3f9094f80\" y=\"139.201455\"/>\r\n     <use style=\"fill:#1f77b4;stroke:#1f77b4;\" x=\"56.2361\" xlink:href=\"#mb3f9094f80\" y=\"132.612364\"/>\r\n     <use style=\"fill:#1f77b4;stroke:#1f77b4;\" x=\"56.504681\" xlink:href=\"#mb3f9094f80\" y=\"159.408\"/>\r\n     <use style=\"fill:#1f77b4;stroke:#1f77b4;\" x=\"56.454221\" xlink:href=\"#mb3f9094f80\" y=\"155.454545\"/>\r\n     <use style=\"fill:#1f77b4;stroke:#1f77b4;\" x=\"56.962236\" xlink:href=\"#mb3f9094f80\" y=\"129.976727\"/>\r\n     <use style=\"fill:#1f77b4;stroke:#1f77b4;\" x=\"56.472147\" xlink:href=\"#mb3f9094f80\" y=\"146.669091\"/>\r\n     <use style=\"fill:#1f77b4;stroke:#1f77b4;\" x=\"56.36206\" xlink:href=\"#mb3f9094f80\" y=\"129.098182\"/>\r\n     <use style=\"fill:#1f77b4;stroke:#1f77b4;\" x=\"56.452169\" xlink:href=\"#mb3f9094f80\" y=\"121.630545\"/>\r\n     <use style=\"fill:#1f77b4;stroke:#1f77b4;\" x=\"56.279649\" xlink:href=\"#mb3f9094f80\" y=\"129.537455\"/>\r\n     <use style=\"fill:#1f77b4;stroke:#1f77b4;\" x=\"56.532083\" xlink:href=\"#mb3f9094f80\" y=\"127.780364\"/>\r\n     <use style=\"fill:#1f77b4;stroke:#1f77b4;\" x=\"56.080925\" xlink:href=\"#mb3f9094f80\" y=\"106.695273\"/>\r\n     <use style=\"fill:#1f77b4;stroke:#1f77b4;\" x=\"57.06182\" xlink:href=\"#mb3f9094f80\" y=\"48.711273\"/>\r\n     <use style=\"fill:#1f77b4;stroke:#1f77b4;\" x=\"55.964543\" xlink:href=\"#mb3f9094f80\" y=\"140.519273\"/>\r\n     <use style=\"fill:#1f77b4;stroke:#1f77b4;\" x=\"55.921062\" xlink:href=\"#mb3f9094f80\" y=\"144.912\"/>\r\n     <use style=\"fill:#1f77b4;stroke:#1f77b4;\" x=\"55.852301\" xlink:href=\"#mb3f9094f80\" y=\"43.44\"/>\r\n     <use style=\"fill:#1f77b4;stroke:#1f77b4;\" x=\"57.891749\" xlink:href=\"#mb3f9094f80\" y=\"17.083636\"/>\r\n     <use style=\"fill:#1f77b4;stroke:#1f77b4;\" x=\"58.069537\" xlink:href=\"#mb3f9094f80\" y=\"78.581818\"/>\r\n     <use style=\"fill:#1f77b4;stroke:#1f77b4;\" x=\"58.046069\" xlink:href=\"#mb3f9094f80\" y=\"104.498909\"/>\r\n     <use style=\"fill:#1f77b4;stroke:#1f77b4;\" x=\"57.647388\" xlink:href=\"#mb3f9094f80\" y=\"88.245818\"/>\r\n     <use style=\"fill:#1f77b4;stroke:#1f77b4;\" x=\"57.626897\" xlink:href=\"#mb3f9094f80\" y=\"47.393455\"/>\r\n     <use style=\"fill:#1f77b4;stroke:#1f77b4;\" x=\"57.579072\" xlink:href=\"#mb3f9094f80\" y=\"22.354909\"/>\r\n     <use style=\"fill:#1f77b4;stroke:#1f77b4;\" x=\"58.622879\" xlink:href=\"#mb3f9094f80\" y=\"100.545455\"/>\r\n     <use style=\"fill:#1f77b4;stroke:#1f77b4;\" x=\"57.681461\" xlink:href=\"#mb3f9094f80\" y=\"76.385455\"/>\r\n     <use style=\"fill:#1f77b4;stroke:#1f77b4;\" x=\"58.405168\" xlink:href=\"#mb3f9094f80\" y=\"136.565818\"/>\r\n     <use style=\"fill:#1f77b4;stroke:#1f77b4;\" x=\"58.487545\" xlink:href=\"#mb3f9094f80\" y=\"101.863273\"/>\r\n     <use style=\"fill:#1f77b4;stroke:#1f77b4;\" x=\"57.778172\" xlink:href=\"#mb3f9094f80\" y=\"17.083636\"/>\r\n     <use style=\"fill:#1f77b4;stroke:#1f77b4;\" x=\"57.648723\" xlink:href=\"#mb3f9094f80\" y=\"45.636364\"/>\r\n     <use style=\"fill:#1f77b4;stroke:#1f77b4;\" x=\"56.109798\" xlink:href=\"#mb3f9094f80\" y=\"145.790545\"/>\r\n     <use style=\"fill:#1f77b4;stroke:#1f77b4;\" x=\"56.823105\" xlink:href=\"#mb3f9094f80\" y=\"144.033455\"/>\r\n     <use style=\"fill:#1f77b4;stroke:#1f77b4;\" x=\"56.35426\" xlink:href=\"#mb3f9094f80\" y=\"126.023273\"/>\r\n     <use style=\"fill:#1f77b4;stroke:#1f77b4;\" x=\"56.19173\" xlink:href=\"#mb3f9094f80\" y=\"129.537455\"/>\r\n     <use style=\"fill:#1f77b4;stroke:#1f77b4;\" x=\"56.558732\" xlink:href=\"#mb3f9094f80\" y=\"82.096\"/>\r\n     <use style=\"fill:#1f77b4;stroke:#1f77b4;\" x=\"55.992766\" xlink:href=\"#mb3f9094f80\" y=\"94.395636\"/>\r\n     <use style=\"fill:#1f77b4;stroke:#1f77b4;\" x=\"56.128237\" xlink:href=\"#mb3f9094f80\" y=\"96.152727\"/>\r\n     <use style=\"fill:#1f77b4;stroke:#1f77b4;\" x=\"56.157828\" xlink:href=\"#mb3f9094f80\" y=\"90.881455\"/>\r\n     <use style=\"fill:#1f77b4;stroke:#1f77b4;\" x=\"56.009289\" xlink:href=\"#mb3f9094f80\" y=\"91.320727\"/>\r\n     <use style=\"fill:#1f77b4;stroke:#1f77b4;\" x=\"56.072612\" xlink:href=\"#mb3f9094f80\" y=\"108.891636\"/>\r\n     <use style=\"fill:#1f77b4;stroke:#1f77b4;\" x=\"56.519391\" xlink:href=\"#mb3f9094f80\" y=\"82.535273\"/>\r\n     <use style=\"fill:#1f77b4;stroke:#1f77b4;\" x=\"55.922089\" xlink:href=\"#mb3f9094f80\" y=\"37.290182\"/>\r\n     <use style=\"fill:#1f77b4;stroke:#1f77b4;\" x=\"55.926433\" xlink:href=\"#mb3f9094f80\" y=\"81.217455\"/>\r\n     <use style=\"fill:#1f77b4;stroke:#1f77b4;\" x=\"56.009358\" xlink:href=\"#mb3f9094f80\" y=\"34.654545\"/>\r\n     <use style=\"fill:#1f77b4;stroke:#1f77b4;\" x=\"55.851035\" xlink:href=\"#mb3f9094f80\" y=\"17.083636\"/>\r\n     <use style=\"fill:#1f77b4;stroke:#1f77b4;\" x=\"55.83068\" xlink:href=\"#mb3f9094f80\" y=\"95.274182\"/>\r\n     <use style=\"fill:#1f77b4;stroke:#1f77b4;\" x=\"55.83718\" xlink:href=\"#mb3f9094f80\" y=\"140.08\"/>\r\n     <use style=\"fill:#1f77b4;stroke:#1f77b4;\" x=\"55.866908\" xlink:href=\"#mb3f9094f80\" y=\"148.426182\"/>\r\n     <use style=\"fill:#1f77b4;stroke:#1f77b4;\" x=\"55.932112\" xlink:href=\"#mb3f9094f80\" y=\"134.808727\"/>\r\n     <use style=\"fill:#1f77b4;stroke:#1f77b4;\" x=\"55.956709\" xlink:href=\"#mb3f9094f80\" y=\"138.762182\"/>\r\n     <use style=\"fill:#1f77b4;stroke:#1f77b4;\" x=\"55.946686\" xlink:href=\"#mb3f9094f80\" y=\"127.780364\"/>\r\n     <use style=\"fill:#1f77b4;stroke:#1f77b4;\" x=\"55.919489\" xlink:href=\"#mb3f9094f80\" y=\"111.527273\"/>\r\n     <use style=\"fill:#1f77b4;stroke:#1f77b4;\" x=\"56.069464\" xlink:href=\"#mb3f9094f80\" y=\"72.871273\"/>\r\n     <use style=\"fill:#1f77b4;stroke:#1f77b4;\" x=\"55.923354\" xlink:href=\"#mb3f9094f80\" y=\"114.162909\"/>\r\n     <use style=\"fill:#1f77b4;stroke:#1f77b4;\" x=\"56.08243\" xlink:href=\"#mb3f9094f80\" y=\"131.733818\"/>\r\n     <use style=\"fill:#1f77b4;stroke:#1f77b4;\" x=\"56.080172\" xlink:href=\"#mb3f9094f80\" y=\"141.397818\"/>\r\n     <use style=\"fill:#1f77b4;stroke:#1f77b4;\" x=\"56.242087\" xlink:href=\"#mb3f9094f80\" y=\"111.088\"/>\r\n     <use style=\"fill:#1f77b4;stroke:#1f77b4;\" x=\"55.983461\" xlink:href=\"#mb3f9094f80\" y=\"117.677091\"/>\r\n     <use style=\"fill:#1f77b4;stroke:#1f77b4;\" x=\"56.282146\" xlink:href=\"#mb3f9094f80\" y=\"147.547636\"/>\r\n     <use style=\"fill:#1f77b4;stroke:#1f77b4;\" x=\"56.020886\" xlink:href=\"#mb3f9094f80\" y=\"137.883636\"/>\r\n     <use style=\"fill:#1f77b4;stroke:#1f77b4;\" x=\"55.989927\" xlink:href=\"#mb3f9094f80\" y=\"109.330909\"/>\r\n     <use style=\"fill:#1f77b4;stroke:#1f77b4;\" x=\"55.950791\" xlink:href=\"#mb3f9094f80\" y=\"127.780364\"/>\r\n     <use style=\"fill:#1f77b4;stroke:#1f77b4;\" x=\"55.920686\" xlink:href=\"#mb3f9094f80\" y=\"140.08\"/>\r\n     <use style=\"fill:#1f77b4;stroke:#1f77b4;\" x=\"56.116674\" xlink:href=\"#mb3f9094f80\" y=\"120.752\"/>\r\n     <use style=\"fill:#1f77b4;stroke:#1f77b4;\" x=\"56.141784\" xlink:href=\"#mb3f9094f80\" y=\"91.320727\"/>\r\n     <use style=\"fill:#1f77b4;stroke:#1f77b4;\" x=\"55.988353\" xlink:href=\"#mb3f9094f80\" y=\"78.142545\"/>\r\n     <use style=\"fill:#1f77b4;stroke:#1f77b4;\" x=\"55.987121\" xlink:href=\"#mb3f9094f80\" y=\"111.966545\"/>\r\n     <use style=\"fill:#1f77b4;stroke:#1f77b4;\" x=\"56.056362\" xlink:href=\"#mb3f9094f80\" y=\"90.002909\"/>\r\n     <use style=\"fill:#1f77b4;stroke:#1f77b4;\" x=\"55.968409\" xlink:href=\"#mb3f9094f80\" y=\"112.845091\"/>\r\n     <use style=\"fill:#1f77b4;stroke:#1f77b4;\" x=\"57.486158\" xlink:href=\"#mb3f9094f80\" y=\"136.565818\"/>\r\n     <use style=\"fill:#1f77b4;stroke:#1f77b4;\" x=\"56.994975\" xlink:href=\"#mb3f9094f80\" y=\"147.547636\"/>\r\n     <use style=\"fill:#1f77b4;stroke:#1f77b4;\" x=\"64.815595\" xlink:href=\"#mb3f9094f80\" y=\"165.997091\"/>\r\n     <use style=\"fill:#1f77b4;stroke:#1f77b4;\" x=\"58.503658\" xlink:href=\"#mb3f9094f80\" y=\"139.640727\"/>\r\n     <use style=\"fill:#1f77b4;stroke:#1f77b4;\" x=\"56.694921\" xlink:href=\"#mb3f9094f80\" y=\"151.501091\"/>\r\n     <use style=\"fill:#1f77b4;stroke:#1f77b4;\" x=\"56.721228\" xlink:href=\"#mb3f9094f80\" y=\"141.837091\"/>\r\n     <use style=\"fill:#1f77b4;stroke:#1f77b4;\" x=\"57.06271\" xlink:href=\"#mb3f9094f80\" y=\"132.173091\"/>\r\n     <use style=\"fill:#1f77b4;stroke:#1f77b4;\" x=\"56.667108\" xlink:href=\"#mb3f9094f80\" y=\"165.557818\"/>\r\n     <use style=\"fill:#1f77b4;stroke:#1f77b4;\" x=\"56.88848\" xlink:href=\"#mb3f9094f80\" y=\"158.529455\"/>\r\n     <use style=\"fill:#1f77b4;stroke:#1f77b4;\" x=\"56.638577\" xlink:href=\"#mb3f9094f80\" y=\"149.744\"/>\r\n     <use style=\"fill:#1f77b4;stroke:#1f77b4;\" x=\"57.174986\" xlink:href=\"#mb3f9094f80\" y=\"135.248\"/>\r\n     <use style=\"fill:#1f77b4;stroke:#1f77b4;\" x=\"57.426257\" xlink:href=\"#mb3f9094f80\" y=\"144.472727\"/>\r\n     <use style=\"fill:#1f77b4;stroke:#1f77b4;\" x=\"56.373041\" xlink:href=\"#mb3f9094f80\" y=\"132.173091\"/>\r\n     <use style=\"fill:#1f77b4;stroke:#1f77b4;\" x=\"56.420901\" xlink:href=\"#mb3f9094f80\" y=\"135.248\"/>\r\n     <use style=\"fill:#1f77b4;stroke:#1f77b4;\" x=\"57.000927\" xlink:href=\"#mb3f9094f80\" y=\"147.108364\"/>\r\n     <use style=\"fill:#1f77b4;stroke:#1f77b4;\" x=\"56.770969\" xlink:href=\"#mb3f9094f80\" y=\"155.454545\"/>\r\n     <use style=\"fill:#1f77b4;stroke:#1f77b4;\" x=\"56.966546\" xlink:href=\"#mb3f9094f80\" y=\"126.901818\"/>\r\n     <use style=\"fill:#1f77b4;stroke:#1f77b4;\" x=\"56.456034\" xlink:href=\"#mb3f9094f80\" y=\"128.658909\"/>\r\n     <use style=\"fill:#1f77b4;stroke:#1f77b4;\" x=\"56.837849\" xlink:href=\"#mb3f9094f80\" y=\"135.687273\"/>\r\n     <use style=\"fill:#1f77b4;stroke:#1f77b4;\" x=\"56.624244\" xlink:href=\"#mb3f9094f80\" y=\"139.201455\"/>\r\n     <use style=\"fill:#1f77b4;stroke:#1f77b4;\" x=\"56.026052\" xlink:href=\"#mb3f9094f80\" y=\"151.940364\"/>\r\n     <use style=\"fill:#1f77b4;stroke:#1f77b4;\" x=\"56.029713\" xlink:href=\"#mb3f9094f80\" y=\"137.444364\"/>\r\n     <use style=\"fill:#1f77b4;stroke:#1f77b4;\" x=\"55.955135\" xlink:href=\"#mb3f9094f80\" y=\"149.744\"/>\r\n     <use style=\"fill:#1f77b4;stroke:#1f77b4;\" x=\"55.971522\" xlink:href=\"#mb3f9094f80\" y=\"161.604364\"/>\r\n     <use style=\"fill:#1f77b4;stroke:#1f77b4;\" x=\"55.918257\" xlink:href=\"#mb3f9094f80\" y=\"151.501091\"/>\r\n     <use style=\"fill:#1f77b4;stroke:#1f77b4;\" x=\"55.973574\" xlink:href=\"#mb3f9094f80\" y=\"139.201455\"/>\r\n     <use style=\"fill:#1f77b4;stroke:#1f77b4;\" x=\"55.927562\" xlink:href=\"#mb3f9094f80\" y=\"145.790545\"/>\r\n     <use style=\"fill:#1f77b4;stroke:#1f77b4;\" x=\"55.935191\" xlink:href=\"#mb3f9094f80\" y=\"144.033455\"/>\r\n     <use style=\"fill:#1f77b4;stroke:#1f77b4;\" x=\"55.916923\" xlink:href=\"#mb3f9094f80\" y=\"151.061818\"/>\r\n     <use style=\"fill:#1f77b4;stroke:#1f77b4;\" x=\"55.903718\" xlink:href=\"#mb3f9094f80\" y=\"155.454545\"/>\r\n     <use style=\"fill:#1f77b4;stroke:#1f77b4;\" x=\"55.912784\" xlink:href=\"#mb3f9094f80\" y=\"146.229818\"/>\r\n     <use style=\"fill:#1f77b4;stroke:#1f77b4;\" x=\"55.987737\" xlink:href=\"#mb3f9094f80\" y=\"153.258182\"/>\r\n     <use style=\"fill:#1f77b4;stroke:#1f77b4;\" x=\"56.01011\" xlink:href=\"#mb3f9094f80\" y=\"154.576\"/>\r\n     <use style=\"fill:#1f77b4;stroke:#1f77b4;\" x=\"55.844193\" xlink:href=\"#mb3f9094f80\" y=\"93.077818\"/>\r\n     <use style=\"fill:#1f77b4;stroke:#1f77b4;\" x=\"55.885142\" xlink:href=\"#mb3f9094f80\" y=\"164.24\"/>\r\n     <use style=\"fill:#1f77b4;stroke:#1f77b4;\" x=\"55.886682\" xlink:href=\"#mb3f9094f80\" y=\"131.733818\"/>\r\n     <use style=\"fill:#1f77b4;stroke:#1f77b4;\" x=\"55.903992\" xlink:href=\"#mb3f9094f80\" y=\"99.666909\"/>\r\n     <use style=\"fill:#1f77b4;stroke:#1f77b4;\" x=\"55.906181\" xlink:href=\"#mb3f9094f80\" y=\"159.847273\"/>\r\n     <use style=\"fill:#1f77b4;stroke:#1f77b4;\" x=\"56.010487\" xlink:href=\"#mb3f9094f80\" y=\"161.165091\"/>\r\n     <use style=\"fill:#1f77b4;stroke:#1f77b4;\" x=\"55.863658\" xlink:href=\"#mb3f9094f80\" y=\"135.248\"/>\r\n     <use style=\"fill:#1f77b4;stroke:#1f77b4;\" x=\"55.851035\" xlink:href=\"#mb3f9094f80\" y=\"129.098182\"/>\r\n     <use style=\"fill:#1f77b4;stroke:#1f77b4;\" x=\"55.89886\" xlink:href=\"#mb3f9094f80\" y=\"119.873455\"/>\r\n     <use style=\"fill:#1f77b4;stroke:#1f77b4;\" x=\"56.012163\" xlink:href=\"#mb3f9094f80\" y=\"136.126545\"/>\r\n     <use style=\"fill:#1f77b4;stroke:#1f77b4;\" x=\"56.071654\" xlink:href=\"#mb3f9094f80\" y=\"130.855273\"/>\r\n     <use style=\"fill:#1f77b4;stroke:#1f77b4;\" x=\"56.047502\" xlink:href=\"#mb3f9094f80\" y=\"155.015273\"/>\r\n     <use style=\"fill:#1f77b4;stroke:#1f77b4;\" x=\"55.858151\" xlink:href=\"#mb3f9094f80\" y=\"104.498909\"/>\r\n     <use style=\"fill:#1f77b4;stroke:#1f77b4;\" x=\"55.946822\" xlink:href=\"#mb3f9094f80\" y=\"156.772364\"/>\r\n     <use style=\"fill:#1f77b4;stroke:#1f77b4;\" x=\"56.164328\" xlink:href=\"#mb3f9094f80\" y=\"146.229818\"/>\r\n     <use style=\"fill:#1f77b4;stroke:#1f77b4;\" x=\"86.530158\" xlink:href=\"#mb3f9094f80\" y=\"158.529455\"/>\r\n     <use style=\"fill:#1f77b4;stroke:#1f77b4;\" x=\"68.969409\" xlink:href=\"#mb3f9094f80\" y=\"141.397818\"/>\r\n     <use style=\"fill:#1f77b4;stroke:#1f77b4;\" x=\"73.594806\" xlink:href=\"#mb3f9094f80\" y=\"137.005091\"/>\r\n     <use style=\"fill:#1f77b4;stroke:#1f77b4;\" x=\"70.377517\" xlink:href=\"#mb3f9094f80\" y=\"137.444364\"/>\r\n     <use style=\"fill:#1f77b4;stroke:#1f77b4;\" x=\"71.337476\" xlink:href=\"#mb3f9094f80\" y=\"126.901818\"/>\r\n     <use style=\"fill:#1f77b4;stroke:#1f77b4;\" x=\"68.925416\" xlink:href=\"#mb3f9094f80\" y=\"149.304727\"/>\r\n     <use style=\"fill:#1f77b4;stroke:#1f77b4;\" x=\"68.382781\" xlink:href=\"#mb3f9094f80\" y=\"145.351273\"/>\r\n     <use style=\"fill:#1f77b4;stroke:#1f77b4;\" x=\"70.244372\" xlink:href=\"#mb3f9094f80\" y=\"162.922182\"/>\r\n     <use style=\"fill:#1f77b4;stroke:#1f77b4;\" x=\"67.685107\" xlink:href=\"#mb3f9094f80\" y=\"140.519273\"/>\r\n     <use style=\"fill:#1f77b4;stroke:#1f77b4;\" x=\"71.385199\" xlink:href=\"#mb3f9094f80\" y=\"115.92\"/>\r\n     <use style=\"fill:#1f77b4;stroke:#1f77b4;\" x=\"68.446856\" xlink:href=\"#mb3f9094f80\" y=\"140.519273\"/>\r\n     <use style=\"fill:#1f77b4;stroke:#1f77b4;\" x=\"102.058779\" xlink:href=\"#mb3f9094f80\" y=\"135.248\"/>\r\n     <use style=\"fill:#1f77b4;stroke:#1f77b4;\" x=\"72.556369\" xlink:href=\"#mb3f9094f80\" y=\"17.083636\"/>\r\n     <use style=\"fill:#1f77b4;stroke:#1f77b4;\" x=\"75.19654\" xlink:href=\"#mb3f9094f80\" y=\"17.083636\"/>\r\n     <use style=\"fill:#1f77b4;stroke:#1f77b4;\" x=\"78.168613\" xlink:href=\"#mb3f9094f80\" y=\"17.083636\"/>\r\n     <use style=\"fill:#1f77b4;stroke:#1f77b4;\" x=\"87.383143\" xlink:href=\"#mb3f9094f80\" y=\"17.083636\"/>\r\n     <use style=\"fill:#1f77b4;stroke:#1f77b4;\" x=\"84.081733\" xlink:href=\"#mb3f9094f80\" y=\"17.083636\"/>\r\n     <use style=\"fill:#1f77b4;stroke:#1f77b4;\" x=\"93.800206\" xlink:href=\"#mb3f9094f80\" y=\"176.100364\"/>\r\n     <use style=\"fill:#1f77b4;stroke:#1f77b4;\" x=\"119.081545\" xlink:href=\"#mb3f9094f80\" y=\"176.100364\"/>\r\n     <use style=\"fill:#1f77b4;stroke:#1f77b4;\" x=\"122.881905\" xlink:href=\"#mb3f9094f80\" y=\"170.829091\"/>\r\n     <use style=\"fill:#1f77b4;stroke:#1f77b4;\" x=\"108.099535\" xlink:href=\"#mb3f9094f80\" y=\"175.661091\"/>\r\n     <use style=\"fill:#1f77b4;stroke:#1f77b4;\" x=\"89.405589\" xlink:href=\"#mb3f9094f80\" y=\"178.296727\"/>\r\n     <use style=\"fill:#1f77b4;stroke:#1f77b4;\" x=\"136.699561\" xlink:href=\"#mb3f9094f80\" y=\"179.175273\"/>\r\n     <use style=\"fill:#1f77b4;stroke:#1f77b4;\" x=\"116.9212\" xlink:href=\"#mb3f9094f80\" y=\"191.914182\"/>\r\n     <use style=\"fill:#1f77b4;stroke:#1f77b4;\" x=\"360.184943\" xlink:href=\"#mb3f9094f80\" y=\"191.035636\"/>\r\n     <use style=\"fill:#1f77b4;stroke:#1f77b4;\" x=\"110.105594\" xlink:href=\"#mb3f9094f80\" y=\"188.839273\"/>\r\n     <use style=\"fill:#1f77b4;stroke:#1f77b4;\" x=\"87.228242\" xlink:href=\"#mb3f9094f80\" y=\"187.082182\"/>\r\n     <use style=\"fill:#1f77b4;stroke:#1f77b4;\" x=\"83.141752\" xlink:href=\"#mb3f9094f80\" y=\"182.689455\"/>\r\n     <use style=\"fill:#1f77b4;stroke:#1f77b4;\" x=\"124.509605\" xlink:href=\"#mb3f9094f80\" y=\"198.064\"/>\r\n     <use style=\"fill:#1f77b4;stroke:#1f77b4;\" x=\"113.312415\" xlink:href=\"#mb3f9094f80\" y=\"205.092364\"/>\r\n     <use style=\"fill:#1f77b4;stroke:#1f77b4;\" x=\"139.250239\" xlink:href=\"#mb3f9094f80\" y=\"190.596364\"/>\r\n     <use style=\"fill:#1f77b4;stroke:#1f77b4;\" x=\"133.103775\" xlink:href=\"#mb3f9094f80\" y=\"204.213818\"/>\r\n     <use style=\"fill:#1f77b4;stroke:#1f77b4;\" x=\"104.8349\" xlink:href=\"#mb3f9094f80\" y=\"191.914182\"/>\r\n     <use style=\"fill:#1f77b4;stroke:#1f77b4;\" x=\"83.686576\" xlink:href=\"#mb3f9094f80\" y=\"186.203636\"/>\r\n     <use style=\"fill:#1f77b4;stroke:#1f77b4;\" x=\"79.61702\" xlink:href=\"#mb3f9094f80\" y=\"170.389818\"/>\r\n     <use style=\"fill:#1f77b4;stroke:#1f77b4;\" x=\"73.907072\" xlink:href=\"#mb3f9094f80\" y=\"134.808727\"/>\r\n     <use style=\"fill:#1f77b4;stroke:#1f77b4;\" x=\"95.40738\" xlink:href=\"#mb3f9094f80\" y=\"194.110545\"/>\r\n     <use style=\"fill:#1f77b4;stroke:#1f77b4;\" x=\"85.373184\" xlink:href=\"#mb3f9094f80\" y=\"176.100364\"/>\r\n     <use style=\"fill:#1f77b4;stroke:#1f77b4;\" x=\"101.503213\" xlink:href=\"#mb3f9094f80\" y=\"180.932364\"/>\r\n     <use style=\"fill:#1f77b4;stroke:#1f77b4;\" x=\"85.61946\" xlink:href=\"#mb3f9094f80\" y=\"179.175273\"/>\r\n     <use style=\"fill:#1f77b4;stroke:#1f77b4;\" x=\"75.887816\" xlink:href=\"#mb3f9094f80\" y=\"181.810909\"/>\r\n     <use style=\"fill:#1f77b4;stroke:#1f77b4;\" x=\"82.045466\" xlink:href=\"#mb3f9094f80\" y=\"199.381818\"/>\r\n     <use style=\"fill:#1f77b4;stroke:#1f77b4;\" x=\"187.000193\" xlink:href=\"#mb3f9094f80\" y=\"214.756364\"/>\r\n     <use style=\"fill:#1f77b4;stroke:#1f77b4;\" x=\"89.723945\" xlink:href=\"#mb3f9094f80\" y=\"209.045818\"/>\r\n     <use style=\"fill:#1f77b4;stroke:#1f77b4;\" x=\"141.48174\" xlink:href=\"#mb3f9094f80\" y=\"212.120727\"/>\r\n     <use style=\"fill:#1f77b4;stroke:#1f77b4;\" x=\"104.501355\" xlink:href=\"#mb3f9094f80\" y=\"205.092364\"/>\r\n     <use style=\"fill:#1f77b4;stroke:#1f77b4;\" x=\"88.62636\" xlink:href=\"#mb3f9094f80\" y=\"183.568\"/>\r\n     <use style=\"fill:#1f77b4;stroke:#1f77b4;\" x=\"140.645654\" xlink:href=\"#mb3f9094f80\" y=\"200.260364\"/>\r\n     <use style=\"fill:#1f77b4;stroke:#1f77b4;\" x=\"197.869995\" xlink:href=\"#mb3f9094f80\" y=\"199.381818\"/>\r\n     <use style=\"fill:#1f77b4;stroke:#1f77b4;\" x=\"288.15497\" xlink:href=\"#mb3f9094f80\" y=\"214.756364\"/>\r\n     <use style=\"fill:#1f77b4;stroke:#1f77b4;\" x=\"126.669266\" xlink:href=\"#mb3f9094f80\" y=\"184.446545\"/>\r\n     <use style=\"fill:#1f77b4;stroke:#1f77b4;\" x=\"96.684087\" xlink:href=\"#mb3f9094f80\" y=\"114.162909\"/>\r\n     <use style=\"fill:#1f77b4;stroke:#1f77b4;\" x=\"81.128201\" xlink:href=\"#mb3f9094f80\" y=\"161.165091\"/>\r\n     <use style=\"fill:#1f77b4;stroke:#1f77b4;\" x=\"105.192734\" xlink:href=\"#mb3f9094f80\" y=\"115.92\"/>\r\n     <use style=\"fill:#1f77b4;stroke:#1f77b4;\" x=\"230.733923\" xlink:href=\"#mb3f9094f80\" y=\"170.829091\"/>\r\n     <use style=\"fill:#1f77b4;stroke:#1f77b4;\" x=\"103.866764\" xlink:href=\"#mb3f9094f80\" y=\"161.165091\"/>\r\n     <use style=\"fill:#1f77b4;stroke:#1f77b4;\" x=\"120.151626\" xlink:href=\"#mb3f9094f80\" y=\"158.090182\"/>\r\n     <use style=\"fill:#1f77b4;stroke:#1f77b4;\" x=\"153.83043\" xlink:href=\"#mb3f9094f80\" y=\"165.118545\"/>\r\n     <use style=\"fill:#1f77b4;stroke:#1f77b4;\" x=\"212.2959\" xlink:href=\"#mb3f9094f80\" y=\"205.970909\"/>\r\n     <use style=\"fill:#1f77b4;stroke:#1f77b4;\" x=\"117.666631\" xlink:href=\"#mb3f9094f80\" y=\"205.092364\"/>\r\n     <use style=\"fill:#1f77b4;stroke:#1f77b4;\" x=\"92.863202\" xlink:href=\"#mb3f9094f80\" y=\"203.774545\"/>\r\n     <use style=\"fill:#1f77b4;stroke:#1f77b4;\" x=\"144.541802\" xlink:href=\"#mb3f9094f80\" y=\"191.035636\"/>\r\n     <use style=\"fill:#1f77b4;stroke:#1f77b4;\" x=\"307.357922\" xlink:href=\"#mb3f9094f80\" y=\"198.064\"/>\r\n     <use style=\"fill:#1f77b4;stroke:#1f77b4;\" x=\"96.209256\" xlink:href=\"#mb3f9094f80\" y=\"199.821091\"/>\r\n     <use style=\"fill:#1f77b4;stroke:#1f77b4;\" x=\"93.729392\" xlink:href=\"#mb3f9094f80\" y=\"163.361455\"/>\r\n     <use style=\"fill:#1f77b4;stroke:#1f77b4;\" x=\"79.823783\" xlink:href=\"#mb3f9094f80\" y=\"174.343273\"/>\r\n     <use style=\"fill:#1f77b4;stroke:#1f77b4;\" x=\"97.016264\" xlink:href=\"#mb3f9094f80\" y=\"145.351273\"/>\r\n     <use style=\"fill:#1f77b4;stroke:#1f77b4;\" x=\"79.918989\" xlink:href=\"#mb3f9094f80\" y=\"177.857455\"/>\r\n     <use style=\"fill:#1f77b4;stroke:#1f77b4;\" x=\"85.877299\" xlink:href=\"#mb3f9094f80\" y=\"185.325091\"/>\r\n     <use style=\"fill:#1f77b4;stroke:#1f77b4;\" x=\"110.057358\" xlink:href=\"#mb3f9094f80\" y=\"200.260364\"/>\r\n     <use style=\"fill:#1f77b4;stroke:#1f77b4;\" x=\"97.697038\" xlink:href=\"#mb3f9094f80\" y=\"191.914182\"/>\r\n     <use style=\"fill:#1f77b4;stroke:#1f77b4;\" x=\"184.640063\" xlink:href=\"#mb3f9094f80\" y=\"188.839273\"/>\r\n     <use style=\"fill:#1f77b4;stroke:#1f77b4;\" x=\"81.002377\" xlink:href=\"#mb3f9094f80\" y=\"188.4\"/>\r\n     <use style=\"fill:#1f77b4;stroke:#1f77b4;\" x=\"87.747785\" xlink:href=\"#mb3f9094f80\" y=\"194.989091\"/>\r\n     <use style=\"fill:#1f77b4;stroke:#1f77b4;\" x=\"84.851041\" xlink:href=\"#mb3f9094f80\" y=\"173.025455\"/>\r\n     <use style=\"fill:#1f77b4;stroke:#1f77b4;\" x=\"90.222552\" xlink:href=\"#mb3f9094f80\" y=\"174.782545\"/>\r\n     <use style=\"fill:#1f77b4;stroke:#1f77b4;\" x=\"77.844613\" xlink:href=\"#mb3f9094f80\" y=\"165.997091\"/>\r\n     <use style=\"fill:#1f77b4;stroke:#1f77b4;\" x=\"74.892381\" xlink:href=\"#mb3f9094f80\" y=\"173.904\"/>\r\n     <use style=\"fill:#1f77b4;stroke:#1f77b4;\" x=\"103.397064\" xlink:href=\"#mb3f9094f80\" y=\"185.325091\"/>\r\n     <use style=\"fill:#1f77b4;stroke:#1f77b4;\" x=\"93.979123\" xlink:href=\"#mb3f9094f80\" y=\"177.857455\"/>\r\n     <use style=\"fill:#1f77b4;stroke:#1f77b4;\" x=\"105.132867\" xlink:href=\"#mb3f9094f80\" y=\"194.549818\"/>\r\n     <use style=\"fill:#1f77b4;stroke:#1f77b4;\" x=\"107.720491\" xlink:href=\"#mb3f9094f80\" y=\"198.503273\"/>\r\n     <use style=\"fill:#1f77b4;stroke:#1f77b4;\" x=\"102.592109\" xlink:href=\"#mb3f9094f80\" y=\"199.821091\"/>\r\n     <use style=\"fill:#1f77b4;stroke:#1f77b4;\" x=\"87.924786\" xlink:href=\"#mb3f9094f80\" y=\"180.493091\"/>\r\n     <use style=\"fill:#1f77b4;stroke:#1f77b4;\" x=\"131.235924\" xlink:href=\"#mb3f9094f80\" y=\"190.596364\"/>\r\n     <use style=\"fill:#1f77b4;stroke:#1f77b4;\" x=\"89.065852\" xlink:href=\"#mb3f9094f80\" y=\"161.604364\"/>\r\n     <use style=\"fill:#1f77b4;stroke:#1f77b4;\" x=\"75.18419\" xlink:href=\"#mb3f9094f80\" y=\"155.893818\"/>\r\n     <use style=\"fill:#1f77b4;stroke:#1f77b4;\" x=\"89.894959\" xlink:href=\"#mb3f9094f80\" y=\"169.072\"/>\r\n     <use style=\"fill:#1f77b4;stroke:#1f77b4;\" x=\"99.59602\" xlink:href=\"#mb3f9094f80\" y=\"189.278545\"/>\r\n     <use style=\"fill:#1f77b4;stroke:#1f77b4;\" x=\"92.307635\" xlink:href=\"#mb3f9094f80\" y=\"184.885818\"/>\r\n     <use style=\"fill:#1f77b4;stroke:#1f77b4;\" x=\"77.31101\" xlink:href=\"#mb3f9094f80\" y=\"171.268364\"/>\r\n     <use style=\"fill:#1f77b4;stroke:#1f77b4;\" x=\"89.752339\" xlink:href=\"#mb3f9094f80\" y=\"181.371636\"/>\r\n     <use style=\"fill:#1f77b4;stroke:#1f77b4;\" x=\"87.71426\" xlink:href=\"#mb3f9094f80\" y=\"174.782545\"/>\r\n     <use style=\"fill:#1f77b4;stroke:#1f77b4;\" x=\"81.54597\" xlink:href=\"#mb3f9094f80\" y=\"179.614545\"/>\r\n     <use style=\"fill:#1f77b4;stroke:#1f77b4;\" x=\"78.780831\" xlink:href=\"#mb3f9094f80\" y=\"177.857455\"/>\r\n     <use style=\"fill:#1f77b4;stroke:#1f77b4;\" x=\"74.413684\" xlink:href=\"#mb3f9094f80\" y=\"169.950545\"/>\r\n     <use style=\"fill:#1f77b4;stroke:#1f77b4;\" x=\"73.213025\" xlink:href=\"#mb3f9094f80\" y=\"165.997091\"/>\r\n     <use style=\"fill:#1f77b4;stroke:#1f77b4;\" x=\"84.016187\" xlink:href=\"#mb3f9094f80\" y=\"158.529455\"/>\r\n     <use style=\"fill:#1f77b4;stroke:#1f77b4;\" x=\"88.345566\" xlink:href=\"#mb3f9094f80\" y=\"171.268364\"/>\r\n     <use style=\"fill:#1f77b4;stroke:#1f77b4;\" x=\"72.05742\" xlink:href=\"#mb3f9094f80\" y=\"174.782545\"/>\r\n     <use style=\"fill:#1f77b4;stroke:#1f77b4;\" x=\"71.771632\" xlink:href=\"#mb3f9094f80\" y=\"180.932364\"/>\r\n     <use style=\"fill:#1f77b4;stroke:#1f77b4;\" x=\"83.853656\" xlink:href=\"#mb3f9094f80\" y=\"177.418182\"/>\r\n     <use style=\"fill:#1f77b4;stroke:#1f77b4;\" x=\"82.319863\" xlink:href=\"#mb3f9094f80\" y=\"171.268364\"/>\r\n     <use style=\"fill:#1f77b4;stroke:#1f77b4;\" x=\"79.066311\" xlink:href=\"#mb3f9094f80\" y=\"148.865455\"/>\r\n     <use style=\"fill:#1f77b4;stroke:#1f77b4;\" x=\"72.261857\" xlink:href=\"#mb3f9094f80\" y=\"164.679273\"/>\r\n     <use style=\"fill:#1f77b4;stroke:#1f77b4;\" x=\"68.433719\" xlink:href=\"#mb3f9094f80\" y=\"158.968727\"/>\r\n     <use style=\"fill:#1f77b4;stroke:#1f77b4;\" x=\"78.565994\" xlink:href=\"#mb3f9094f80\" y=\"151.061818\"/>\r\n     <use style=\"fill:#1f77b4;stroke:#1f77b4;\" x=\"75.713688\" xlink:href=\"#mb3f9094f80\" y=\"147.986909\"/>\r\n     <use style=\"fill:#1f77b4;stroke:#1f77b4;\" x=\"82.617795\" xlink:href=\"#mb3f9094f80\" y=\"142.715636\"/>\r\n     <use style=\"fill:#1f77b4;stroke:#1f77b4;\" x=\"66.622279\" xlink:href=\"#mb3f9094f80\" y=\"149.304727\"/>\r\n     <use style=\"fill:#1f77b4;stroke:#1f77b4;\" x=\"68.713794\" xlink:href=\"#mb3f9094f80\" y=\"153.258182\"/>\r\n     <use style=\"fill:#1f77b4;stroke:#1f77b4;\" x=\"70.928191\" xlink:href=\"#mb3f9094f80\" y=\"152.818909\"/>\r\n     <use style=\"fill:#1f77b4;stroke:#1f77b4;\" x=\"109.083749\" xlink:href=\"#mb3f9094f80\" y=\"152.818909\"/>\r\n     <use style=\"fill:#1f77b4;stroke:#1f77b4;\" x=\"100.529262\" xlink:href=\"#mb3f9094f80\" y=\"148.426182\"/>\r\n     <use style=\"fill:#1f77b4;stroke:#1f77b4;\" x=\"70.676783\" xlink:href=\"#mb3f9094f80\" y=\"149.304727\"/>\r\n     <use style=\"fill:#1f77b4;stroke:#1f77b4;\" x=\"69.614981\" xlink:href=\"#mb3f9094f80\" y=\"150.622545\"/>\r\n     <use style=\"fill:#1f77b4;stroke:#1f77b4;\" x=\"68.008047\" xlink:href=\"#mb3f9094f80\" y=\"134.808727\"/>\r\n     <use style=\"fill:#1f77b4;stroke:#1f77b4;\" x=\"71.696576\" xlink:href=\"#mb3f9094f80\" y=\"105.816727\"/>\r\n     <use style=\"fill:#1f77b4;stroke:#1f77b4;\" x=\"83.358334\" xlink:href=\"#mb3f9094f80\" y=\"176.100364\"/>\r\n     <use style=\"fill:#1f77b4;stroke:#1f77b4;\" x=\"77.670383\" xlink:href=\"#mb3f9094f80\" y=\"178.296727\"/>\r\n     <use style=\"fill:#1f77b4;stroke:#1f77b4;\" x=\"72.464653\" xlink:href=\"#mb3f9094f80\" y=\"163.361455\"/>\r\n     <use style=\"fill:#1f77b4;stroke:#1f77b4;\" x=\"107.194345\" xlink:href=\"#mb3f9094f80\" y=\"184.007273\"/>\r\n     <use style=\"fill:#1f77b4;stroke:#1f77b4;\" x=\"90.806512\" xlink:href=\"#mb3f9094f80\" y=\"172.586182\"/>\r\n     <use style=\"fill:#1f77b4;stroke:#1f77b4;\" x=\"104.8349\" xlink:href=\"#mb3f9094f80\" y=\"142.715636\"/>\r\n     <use style=\"fill:#1f77b4;stroke:#1f77b4;\" x=\"75.723472\" xlink:href=\"#mb3f9094f80\" y=\"135.687273\"/>\r\n     <use style=\"fill:#1f77b4;stroke:#1f77b4;\" x=\"75.327221\" xlink:href=\"#mb3f9094f80\" y=\"132.612364\"/>\r\n     <use style=\"fill:#1f77b4;stroke:#1f77b4;\" x=\"75.405835\" xlink:href=\"#mb3f9094f80\" y=\"126.901818\"/>\r\n     <use style=\"fill:#1f77b4;stroke:#1f77b4;\" x=\"65.441291\" xlink:href=\"#mb3f9094f80\" y=\"140.958545\"/>\r\n     <use style=\"fill:#1f77b4;stroke:#1f77b4;\" x=\"63.936712\" xlink:href=\"#mb3f9094f80\" y=\"146.229818\"/>\r\n     <use style=\"fill:#1f77b4;stroke:#1f77b4;\" x=\"68.367215\" xlink:href=\"#mb3f9094f80\" y=\"143.594182\"/>\r\n     <use style=\"fill:#1f77b4;stroke:#1f77b4;\" x=\"75.271014\" xlink:href=\"#mb3f9094f80\" y=\"152.818909\"/>\r\n     <use style=\"fill:#1f77b4;stroke:#1f77b4;\" x=\"72.342387\" xlink:href=\"#mb3f9094f80\" y=\"146.229818\"/>\r\n     <use style=\"fill:#1f77b4;stroke:#1f77b4;\" x=\"56.315774\" xlink:href=\"#mb3f9094f80\" y=\"169.950545\"/>\r\n     <use style=\"fill:#1f77b4;stroke:#1f77b4;\" x=\"56.42699\" xlink:href=\"#mb3f9094f80\" y=\"205.970909\"/>\r\n     <use style=\"fill:#1f77b4;stroke:#1f77b4;\" x=\"56.509402\" xlink:href=\"#mb3f9094f80\" y=\"201.138909\"/>\r\n     <use style=\"fill:#1f77b4;stroke:#1f77b4;\" x=\"56.16142\" xlink:href=\"#mb3f9094f80\" y=\"176.978909\"/>\r\n     <use style=\"fill:#1f77b4;stroke:#1f77b4;\" x=\"56.180509\" xlink:href=\"#mb3f9094f80\" y=\"148.426182\"/>\r\n     <use style=\"fill:#1f77b4;stroke:#1f77b4;\" x=\"56.392575\" xlink:href=\"#mb3f9094f80\" y=\"140.958545\"/>\r\n     <use style=\"fill:#1f77b4;stroke:#1f77b4;\" x=\"56.756088\" xlink:href=\"#mb3f9094f80\" y=\"129.098182\"/>\r\n     <use style=\"fill:#1f77b4;stroke:#1f77b4;\" x=\"56.412006\" xlink:href=\"#mb3f9094f80\" y=\"135.248\"/>\r\n     <use style=\"fill:#1f77b4;stroke:#1f77b4;\" x=\"56.7904\" xlink:href=\"#mb3f9094f80\" y=\"150.183273\"/>\r\n     <use style=\"fill:#1f77b4;stroke:#1f77b4;\" x=\"56.717807\" xlink:href=\"#mb3f9094f80\" y=\"156.333091\"/>\r\n     <use style=\"fill:#1f77b4;stroke:#1f77b4;\" x=\"56.61771\" xlink:href=\"#mb3f9094f80\" y=\"143.594182\"/>\r\n     <use style=\"fill:#1f77b4;stroke:#1f77b4;\" x=\"56.408038\" xlink:href=\"#mb3f9094f80\" y=\"159.847273\"/>\r\n     <use style=\"fill:#1f77b4;stroke:#1f77b4;\" x=\"56.567284\" xlink:href=\"#mb3f9094f80\" y=\"162.922182\"/>\r\n     <use style=\"fill:#1f77b4;stroke:#1f77b4;\" x=\"56.013942\" xlink:href=\"#mb3f9094f80\" y=\"138.322909\"/>\r\n     <use style=\"fill:#1f77b4;stroke:#1f77b4;\" x=\"55.954554\" xlink:href=\"#mb3f9094f80\" y=\"146.229818\"/>\r\n     <use style=\"fill:#1f77b4;stroke:#1f77b4;\" x=\"56.007545\" xlink:href=\"#mb3f9094f80\" y=\"131.733818\"/>\r\n     <use style=\"fill:#1f77b4;stroke:#1f77b4;\" x=\"56.174591\" xlink:href=\"#mb3f9094f80\" y=\"140.08\"/>\r\n     <use style=\"fill:#1f77b4;stroke:#1f77b4;\" x=\"55.961875\" xlink:href=\"#mb3f9094f80\" y=\"184.446545\"/>\r\n    </g>\r\n   </g>\r\n   <g id=\"matplotlib.axis_1\">\r\n    <g id=\"xtick_1\">\r\n     <g id=\"line2d_1\">\r\n      <defs>\r\n       <path d=\"M 0 0 \r\nL 0 3.5 \r\n\" id=\"m25212a92c6\" style=\"stroke:#000000;stroke-width:0.8;\"/>\r\n      </defs>\r\n      <g>\r\n       <use style=\"stroke:#000000;stroke-width:0.8;\" x=\"55.799686\" xlink:href=\"#m25212a92c6\" y=\"224.64\"/>\r\n      </g>\r\n     </g>\r\n     <g id=\"text_1\">\r\n      <!-- 0 -->\r\n      <g transform=\"translate(52.618436 239.238438)scale(0.1 -0.1)\">\r\n       <defs>\r\n        <path d=\"M 31.78125 66.40625 \r\nQ 24.171875 66.40625 20.328125 58.90625 \r\nQ 16.5 51.421875 16.5 36.375 \r\nQ 16.5 21.390625 20.328125 13.890625 \r\nQ 24.171875 6.390625 31.78125 6.390625 \r\nQ 39.453125 6.390625 43.28125 13.890625 \r\nQ 47.125 21.390625 47.125 36.375 \r\nQ 47.125 51.421875 43.28125 58.90625 \r\nQ 39.453125 66.40625 31.78125 66.40625 \r\nz\r\nM 31.78125 74.21875 \r\nQ 44.046875 74.21875 50.515625 64.515625 \r\nQ 56.984375 54.828125 56.984375 36.375 \r\nQ 56.984375 17.96875 50.515625 8.265625 \r\nQ 44.046875 -1.421875 31.78125 -1.421875 \r\nQ 19.53125 -1.421875 13.0625 8.265625 \r\nQ 6.59375 17.96875 6.59375 36.375 \r\nQ 6.59375 54.828125 13.0625 64.515625 \r\nQ 19.53125 74.21875 31.78125 74.21875 \r\nz\r\n\" id=\"DejaVuSans-48\"/>\r\n       </defs>\r\n       <use xlink:href=\"#DejaVuSans-48\"/>\r\n      </g>\r\n     </g>\r\n    </g>\r\n    <g id=\"xtick_2\">\r\n     <g id=\"line2d_2\">\r\n      <g>\r\n       <use style=\"stroke:#000000;stroke-width:0.8;\" x=\"124.219164\" xlink:href=\"#m25212a92c6\" y=\"224.64\"/>\r\n      </g>\r\n     </g>\r\n     <g id=\"text_2\">\r\n      <!-- 20 -->\r\n      <g transform=\"translate(117.856664 239.238438)scale(0.1 -0.1)\">\r\n       <defs>\r\n        <path d=\"M 19.1875 8.296875 \r\nL 53.609375 8.296875 \r\nL 53.609375 0 \r\nL 7.328125 0 \r\nL 7.328125 8.296875 \r\nQ 12.9375 14.109375 22.625 23.890625 \r\nQ 32.328125 33.6875 34.8125 36.53125 \r\nQ 39.546875 41.84375 41.421875 45.53125 \r\nQ 43.3125 49.21875 43.3125 52.78125 \r\nQ 43.3125 58.59375 39.234375 62.25 \r\nQ 35.15625 65.921875 28.609375 65.921875 \r\nQ 23.96875 65.921875 18.8125 64.3125 \r\nQ 13.671875 62.703125 7.8125 59.421875 \r\nL 7.8125 69.390625 \r\nQ 13.765625 71.78125 18.9375 73 \r\nQ 24.125 74.21875 28.421875 74.21875 \r\nQ 39.75 74.21875 46.484375 68.546875 \r\nQ 53.21875 62.890625 53.21875 53.421875 \r\nQ 53.21875 48.921875 51.53125 44.890625 \r\nQ 49.859375 40.875 45.40625 35.40625 \r\nQ 44.1875 33.984375 37.640625 27.21875 \r\nQ 31.109375 20.453125 19.1875 8.296875 \r\nz\r\n\" id=\"DejaVuSans-50\"/>\r\n       </defs>\r\n       <use xlink:href=\"#DejaVuSans-50\"/>\r\n       <use x=\"63.623047\" xlink:href=\"#DejaVuSans-48\"/>\r\n      </g>\r\n     </g>\r\n    </g>\r\n    <g id=\"xtick_3\">\r\n     <g id=\"line2d_3\">\r\n      <g>\r\n       <use style=\"stroke:#000000;stroke-width:0.8;\" x=\"192.638642\" xlink:href=\"#m25212a92c6\" y=\"224.64\"/>\r\n      </g>\r\n     </g>\r\n     <g id=\"text_3\">\r\n      <!-- 40 -->\r\n      <g transform=\"translate(186.276142 239.238438)scale(0.1 -0.1)\">\r\n       <defs>\r\n        <path d=\"M 37.796875 64.3125 \r\nL 12.890625 25.390625 \r\nL 37.796875 25.390625 \r\nz\r\nM 35.203125 72.90625 \r\nL 47.609375 72.90625 \r\nL 47.609375 25.390625 \r\nL 58.015625 25.390625 \r\nL 58.015625 17.1875 \r\nL 47.609375 17.1875 \r\nL 47.609375 0 \r\nL 37.796875 0 \r\nL 37.796875 17.1875 \r\nL 4.890625 17.1875 \r\nL 4.890625 26.703125 \r\nz\r\n\" id=\"DejaVuSans-52\"/>\r\n       </defs>\r\n       <use xlink:href=\"#DejaVuSans-52\"/>\r\n       <use x=\"63.623047\" xlink:href=\"#DejaVuSans-48\"/>\r\n      </g>\r\n     </g>\r\n    </g>\r\n    <g id=\"xtick_4\">\r\n     <g id=\"line2d_4\">\r\n      <g>\r\n       <use style=\"stroke:#000000;stroke-width:0.8;\" x=\"261.05812\" xlink:href=\"#m25212a92c6\" y=\"224.64\"/>\r\n      </g>\r\n     </g>\r\n     <g id=\"text_4\">\r\n      <!-- 60 -->\r\n      <g transform=\"translate(254.69562 239.238438)scale(0.1 -0.1)\">\r\n       <defs>\r\n        <path d=\"M 33.015625 40.375 \r\nQ 26.375 40.375 22.484375 35.828125 \r\nQ 18.609375 31.296875 18.609375 23.390625 \r\nQ 18.609375 15.53125 22.484375 10.953125 \r\nQ 26.375 6.390625 33.015625 6.390625 \r\nQ 39.65625 6.390625 43.53125 10.953125 \r\nQ 47.40625 15.53125 47.40625 23.390625 \r\nQ 47.40625 31.296875 43.53125 35.828125 \r\nQ 39.65625 40.375 33.015625 40.375 \r\nz\r\nM 52.59375 71.296875 \r\nL 52.59375 62.3125 \r\nQ 48.875 64.0625 45.09375 64.984375 \r\nQ 41.3125 65.921875 37.59375 65.921875 \r\nQ 27.828125 65.921875 22.671875 59.328125 \r\nQ 17.53125 52.734375 16.796875 39.40625 \r\nQ 19.671875 43.65625 24.015625 45.921875 \r\nQ 28.375 48.1875 33.59375 48.1875 \r\nQ 44.578125 48.1875 50.953125 41.515625 \r\nQ 57.328125 34.859375 57.328125 23.390625 \r\nQ 57.328125 12.15625 50.6875 5.359375 \r\nQ 44.046875 -1.421875 33.015625 -1.421875 \r\nQ 20.359375 -1.421875 13.671875 8.265625 \r\nQ 6.984375 17.96875 6.984375 36.375 \r\nQ 6.984375 53.65625 15.1875 63.9375 \r\nQ 23.390625 74.21875 37.203125 74.21875 \r\nQ 40.921875 74.21875 44.703125 73.484375 \r\nQ 48.484375 72.75 52.59375 71.296875 \r\nz\r\n\" id=\"DejaVuSans-54\"/>\r\n       </defs>\r\n       <use xlink:href=\"#DejaVuSans-54\"/>\r\n       <use x=\"63.623047\" xlink:href=\"#DejaVuSans-48\"/>\r\n      </g>\r\n     </g>\r\n    </g>\r\n    <g id=\"xtick_5\">\r\n     <g id=\"line2d_5\">\r\n      <g>\r\n       <use style=\"stroke:#000000;stroke-width:0.8;\" x=\"329.477597\" xlink:href=\"#m25212a92c6\" y=\"224.64\"/>\r\n      </g>\r\n     </g>\r\n     <g id=\"text_5\">\r\n      <!-- 80 -->\r\n      <g transform=\"translate(323.115097 239.238438)scale(0.1 -0.1)\">\r\n       <defs>\r\n        <path d=\"M 31.78125 34.625 \r\nQ 24.75 34.625 20.71875 30.859375 \r\nQ 16.703125 27.09375 16.703125 20.515625 \r\nQ 16.703125 13.921875 20.71875 10.15625 \r\nQ 24.75 6.390625 31.78125 6.390625 \r\nQ 38.8125 6.390625 42.859375 10.171875 \r\nQ 46.921875 13.96875 46.921875 20.515625 \r\nQ 46.921875 27.09375 42.890625 30.859375 \r\nQ 38.875 34.625 31.78125 34.625 \r\nz\r\nM 21.921875 38.8125 \r\nQ 15.578125 40.375 12.03125 44.71875 \r\nQ 8.5 49.078125 8.5 55.328125 \r\nQ 8.5 64.0625 14.71875 69.140625 \r\nQ 20.953125 74.21875 31.78125 74.21875 \r\nQ 42.671875 74.21875 48.875 69.140625 \r\nQ 55.078125 64.0625 55.078125 55.328125 \r\nQ 55.078125 49.078125 51.53125 44.71875 \r\nQ 48 40.375 41.703125 38.8125 \r\nQ 48.828125 37.15625 52.796875 32.3125 \r\nQ 56.78125 27.484375 56.78125 20.515625 \r\nQ 56.78125 9.90625 50.3125 4.234375 \r\nQ 43.84375 -1.421875 31.78125 -1.421875 \r\nQ 19.734375 -1.421875 13.25 4.234375 \r\nQ 6.78125 9.90625 6.78125 20.515625 \r\nQ 6.78125 27.484375 10.78125 32.3125 \r\nQ 14.796875 37.15625 21.921875 38.8125 \r\nz\r\nM 18.3125 54.390625 \r\nQ 18.3125 48.734375 21.84375 45.5625 \r\nQ 25.390625 42.390625 31.78125 42.390625 \r\nQ 38.140625 42.390625 41.71875 45.5625 \r\nQ 45.3125 48.734375 45.3125 54.390625 \r\nQ 45.3125 60.0625 41.71875 63.234375 \r\nQ 38.140625 66.40625 31.78125 66.40625 \r\nQ 25.390625 66.40625 21.84375 63.234375 \r\nQ 18.3125 60.0625 18.3125 54.390625 \r\nz\r\n\" id=\"DejaVuSans-56\"/>\r\n       </defs>\r\n       <use xlink:href=\"#DejaVuSans-56\"/>\r\n       <use x=\"63.623047\" xlink:href=\"#DejaVuSans-48\"/>\r\n      </g>\r\n     </g>\r\n    </g>\r\n    <g id=\"text_6\">\r\n     <!-- CRIM -->\r\n     <g transform=\"translate(195.248437 252.916563)scale(0.1 -0.1)\">\r\n      <defs>\r\n       <path d=\"M 64.40625 67.28125 \r\nL 64.40625 56.890625 \r\nQ 59.421875 61.53125 53.78125 63.8125 \r\nQ 48.140625 66.109375 41.796875 66.109375 \r\nQ 29.296875 66.109375 22.65625 58.46875 \r\nQ 16.015625 50.828125 16.015625 36.375 \r\nQ 16.015625 21.96875 22.65625 14.328125 \r\nQ 29.296875 6.6875 41.796875 6.6875 \r\nQ 48.140625 6.6875 53.78125 8.984375 \r\nQ 59.421875 11.28125 64.40625 15.921875 \r\nL 64.40625 5.609375 \r\nQ 59.234375 2.09375 53.4375 0.328125 \r\nQ 47.65625 -1.421875 41.21875 -1.421875 \r\nQ 24.65625 -1.421875 15.125 8.703125 \r\nQ 5.609375 18.84375 5.609375 36.375 \r\nQ 5.609375 53.953125 15.125 64.078125 \r\nQ 24.65625 74.21875 41.21875 74.21875 \r\nQ 47.75 74.21875 53.53125 72.484375 \r\nQ 59.328125 70.75 64.40625 67.28125 \r\nz\r\n\" id=\"DejaVuSans-67\"/>\r\n       <path d=\"M 44.390625 34.1875 \r\nQ 47.5625 33.109375 50.5625 29.59375 \r\nQ 53.5625 26.078125 56.59375 19.921875 \r\nL 66.609375 0 \r\nL 56 0 \r\nL 46.6875 18.703125 \r\nQ 43.0625 26.03125 39.671875 28.421875 \r\nQ 36.28125 30.8125 30.421875 30.8125 \r\nL 19.671875 30.8125 \r\nL 19.671875 0 \r\nL 9.8125 0 \r\nL 9.8125 72.90625 \r\nL 32.078125 72.90625 \r\nQ 44.578125 72.90625 50.734375 67.671875 \r\nQ 56.890625 62.453125 56.890625 51.90625 \r\nQ 56.890625 45.015625 53.6875 40.46875 \r\nQ 50.484375 35.9375 44.390625 34.1875 \r\nz\r\nM 19.671875 64.796875 \r\nL 19.671875 38.921875 \r\nL 32.078125 38.921875 \r\nQ 39.203125 38.921875 42.84375 42.21875 \r\nQ 46.484375 45.515625 46.484375 51.90625 \r\nQ 46.484375 58.296875 42.84375 61.546875 \r\nQ 39.203125 64.796875 32.078125 64.796875 \r\nz\r\n\" id=\"DejaVuSans-82\"/>\r\n       <path d=\"M 9.8125 72.90625 \r\nL 19.671875 72.90625 \r\nL 19.671875 0 \r\nL 9.8125 0 \r\nz\r\n\" id=\"DejaVuSans-73\"/>\r\n       <path d=\"M 9.8125 72.90625 \r\nL 24.515625 72.90625 \r\nL 43.109375 23.296875 \r\nL 61.8125 72.90625 \r\nL 76.515625 72.90625 \r\nL 76.515625 0 \r\nL 66.890625 0 \r\nL 66.890625 64.015625 \r\nL 48.09375 14.015625 \r\nL 38.1875 14.015625 \r\nL 19.390625 64.015625 \r\nL 19.390625 0 \r\nL 9.8125 0 \r\nz\r\n\" id=\"DejaVuSans-77\"/>\r\n      </defs>\r\n      <use xlink:href=\"#DejaVuSans-67\"/>\r\n      <use x=\"69.824219\" xlink:href=\"#DejaVuSans-82\"/>\r\n      <use x=\"139.306641\" xlink:href=\"#DejaVuSans-73\"/>\r\n      <use x=\"168.798828\" xlink:href=\"#DejaVuSans-77\"/>\r\n     </g>\r\n    </g>\r\n   </g>\r\n   <g id=\"matplotlib.axis_2\">\r\n    <g id=\"ytick_1\">\r\n     <g id=\"line2d_6\">\r\n      <defs>\r\n       <path d=\"M 0 0 \r\nL -3.5 0 \r\n\" id=\"m85debd650e\" style=\"stroke:#000000;stroke-width:0.8;\"/>\r\n      </defs>\r\n      <g>\r\n       <use style=\"stroke:#000000;stroke-width:0.8;\" x=\"40.603125\" xlink:href=\"#m85debd650e\" y=\"192.792727\"/>\r\n      </g>\r\n     </g>\r\n     <g id=\"text_7\">\r\n      <!-- 10 -->\r\n      <g transform=\"translate(20.878125 196.591946)scale(0.1 -0.1)\">\r\n       <defs>\r\n        <path d=\"M 12.40625 8.296875 \r\nL 28.515625 8.296875 \r\nL 28.515625 63.921875 \r\nL 10.984375 60.40625 \r\nL 10.984375 69.390625 \r\nL 28.421875 72.90625 \r\nL 38.28125 72.90625 \r\nL 38.28125 8.296875 \r\nL 54.390625 8.296875 \r\nL 54.390625 0 \r\nL 12.40625 0 \r\nz\r\n\" id=\"DejaVuSans-49\"/>\r\n       </defs>\r\n       <use xlink:href=\"#DejaVuSans-49\"/>\r\n       <use x=\"63.623047\" xlink:href=\"#DejaVuSans-48\"/>\r\n      </g>\r\n     </g>\r\n    </g>\r\n    <g id=\"ytick_2\">\r\n     <g id=\"line2d_7\">\r\n      <g>\r\n       <use style=\"stroke:#000000;stroke-width:0.8;\" x=\"40.603125\" xlink:href=\"#m85debd650e\" y=\"148.865455\"/>\r\n      </g>\r\n     </g>\r\n     <g id=\"text_8\">\r\n      <!-- 20 -->\r\n      <g transform=\"translate(20.878125 152.664673)scale(0.1 -0.1)\">\r\n       <use xlink:href=\"#DejaVuSans-50\"/>\r\n       <use x=\"63.623047\" xlink:href=\"#DejaVuSans-48\"/>\r\n      </g>\r\n     </g>\r\n    </g>\r\n    <g id=\"ytick_3\">\r\n     <g id=\"line2d_8\">\r\n      <g>\r\n       <use style=\"stroke:#000000;stroke-width:0.8;\" x=\"40.603125\" xlink:href=\"#m85debd650e\" y=\"104.938182\"/>\r\n      </g>\r\n     </g>\r\n     <g id=\"text_9\">\r\n      <!-- 30 -->\r\n      <g transform=\"translate(20.878125 108.737401)scale(0.1 -0.1)\">\r\n       <defs>\r\n        <path d=\"M 40.578125 39.3125 \r\nQ 47.65625 37.796875 51.625 33 \r\nQ 55.609375 28.21875 55.609375 21.1875 \r\nQ 55.609375 10.40625 48.1875 4.484375 \r\nQ 40.765625 -1.421875 27.09375 -1.421875 \r\nQ 22.515625 -1.421875 17.65625 -0.515625 \r\nQ 12.796875 0.390625 7.625 2.203125 \r\nL 7.625 11.71875 \r\nQ 11.71875 9.328125 16.59375 8.109375 \r\nQ 21.484375 6.890625 26.8125 6.890625 \r\nQ 36.078125 6.890625 40.9375 10.546875 \r\nQ 45.796875 14.203125 45.796875 21.1875 \r\nQ 45.796875 27.640625 41.28125 31.265625 \r\nQ 36.765625 34.90625 28.71875 34.90625 \r\nL 20.21875 34.90625 \r\nL 20.21875 43.015625 \r\nL 29.109375 43.015625 \r\nQ 36.375 43.015625 40.234375 45.921875 \r\nQ 44.09375 48.828125 44.09375 54.296875 \r\nQ 44.09375 59.90625 40.109375 62.90625 \r\nQ 36.140625 65.921875 28.71875 65.921875 \r\nQ 24.65625 65.921875 20.015625 65.03125 \r\nQ 15.375 64.15625 9.8125 62.3125 \r\nL 9.8125 71.09375 \r\nQ 15.4375 72.65625 20.34375 73.4375 \r\nQ 25.25 74.21875 29.59375 74.21875 \r\nQ 40.828125 74.21875 47.359375 69.109375 \r\nQ 53.90625 64.015625 53.90625 55.328125 \r\nQ 53.90625 49.265625 50.4375 45.09375 \r\nQ 46.96875 40.921875 40.578125 39.3125 \r\nz\r\n\" id=\"DejaVuSans-51\"/>\r\n       </defs>\r\n       <use xlink:href=\"#DejaVuSans-51\"/>\r\n       <use x=\"63.623047\" xlink:href=\"#DejaVuSans-48\"/>\r\n      </g>\r\n     </g>\r\n    </g>\r\n    <g id=\"ytick_4\">\r\n     <g id=\"line2d_9\">\r\n      <g>\r\n       <use style=\"stroke:#000000;stroke-width:0.8;\" x=\"40.603125\" xlink:href=\"#m85debd650e\" y=\"61.010909\"/>\r\n      </g>\r\n     </g>\r\n     <g id=\"text_10\">\r\n      <!-- 40 -->\r\n      <g transform=\"translate(20.878125 64.810128)scale(0.1 -0.1)\">\r\n       <use xlink:href=\"#DejaVuSans-52\"/>\r\n       <use x=\"63.623047\" xlink:href=\"#DejaVuSans-48\"/>\r\n      </g>\r\n     </g>\r\n    </g>\r\n    <g id=\"ytick_5\">\r\n     <g id=\"line2d_10\">\r\n      <g>\r\n       <use style=\"stroke:#000000;stroke-width:0.8;\" x=\"40.603125\" xlink:href=\"#m85debd650e\" y=\"17.083636\"/>\r\n      </g>\r\n     </g>\r\n     <g id=\"text_11\">\r\n      <!-- 50 -->\r\n      <g transform=\"translate(20.878125 20.882855)scale(0.1 -0.1)\">\r\n       <defs>\r\n        <path d=\"M 10.796875 72.90625 \r\nL 49.515625 72.90625 \r\nL 49.515625 64.59375 \r\nL 19.828125 64.59375 \r\nL 19.828125 46.734375 \r\nQ 21.96875 47.46875 24.109375 47.828125 \r\nQ 26.265625 48.1875 28.421875 48.1875 \r\nQ 40.625 48.1875 47.75 41.5 \r\nQ 54.890625 34.8125 54.890625 23.390625 \r\nQ 54.890625 11.625 47.5625 5.09375 \r\nQ 40.234375 -1.421875 26.90625 -1.421875 \r\nQ 22.3125 -1.421875 17.546875 -0.640625 \r\nQ 12.796875 0.140625 7.71875 1.703125 \r\nL 7.71875 11.625 \r\nQ 12.109375 9.234375 16.796875 8.0625 \r\nQ 21.484375 6.890625 26.703125 6.890625 \r\nQ 35.15625 6.890625 40.078125 11.328125 \r\nQ 45.015625 15.765625 45.015625 23.390625 \r\nQ 45.015625 31 40.078125 35.4375 \r\nQ 35.15625 39.890625 26.703125 39.890625 \r\nQ 22.75 39.890625 18.8125 39.015625 \r\nQ 14.890625 38.140625 10.796875 36.28125 \r\nz\r\n\" id=\"DejaVuSans-53\"/>\r\n       </defs>\r\n       <use xlink:href=\"#DejaVuSans-53\"/>\r\n       <use x=\"63.623047\" xlink:href=\"#DejaVuSans-48\"/>\r\n      </g>\r\n     </g>\r\n    </g>\r\n    <g id=\"text_12\">\r\n     <!-- MEDV -->\r\n     <g transform=\"translate(14.798438 130.57625)rotate(-90)scale(0.1 -0.1)\">\r\n      <defs>\r\n       <path d=\"M 9.8125 72.90625 \r\nL 55.90625 72.90625 \r\nL 55.90625 64.59375 \r\nL 19.671875 64.59375 \r\nL 19.671875 43.015625 \r\nL 54.390625 43.015625 \r\nL 54.390625 34.71875 \r\nL 19.671875 34.71875 \r\nL 19.671875 8.296875 \r\nL 56.78125 8.296875 \r\nL 56.78125 0 \r\nL 9.8125 0 \r\nz\r\n\" id=\"DejaVuSans-69\"/>\r\n       <path d=\"M 19.671875 64.796875 \r\nL 19.671875 8.109375 \r\nL 31.59375 8.109375 \r\nQ 46.6875 8.109375 53.6875 14.9375 \r\nQ 60.6875 21.78125 60.6875 36.53125 \r\nQ 60.6875 51.171875 53.6875 57.984375 \r\nQ 46.6875 64.796875 31.59375 64.796875 \r\nz\r\nM 9.8125 72.90625 \r\nL 30.078125 72.90625 \r\nQ 51.265625 72.90625 61.171875 64.09375 \r\nQ 71.09375 55.28125 71.09375 36.53125 \r\nQ 71.09375 17.671875 61.125 8.828125 \r\nQ 51.171875 0 30.078125 0 \r\nL 9.8125 0 \r\nz\r\n\" id=\"DejaVuSans-68\"/>\r\n       <path d=\"M 28.609375 0 \r\nL 0.78125 72.90625 \r\nL 11.078125 72.90625 \r\nL 34.1875 11.53125 \r\nL 57.328125 72.90625 \r\nL 67.578125 72.90625 \r\nL 39.796875 0 \r\nz\r\n\" id=\"DejaVuSans-86\"/>\r\n      </defs>\r\n      <use xlink:href=\"#DejaVuSans-77\"/>\r\n      <use x=\"86.279297\" xlink:href=\"#DejaVuSans-69\"/>\r\n      <use x=\"149.462891\" xlink:href=\"#DejaVuSans-68\"/>\r\n      <use x=\"224.714844\" xlink:href=\"#DejaVuSans-86\"/>\r\n     </g>\r\n    </g>\r\n   </g>\r\n   <g id=\"patch_3\">\r\n    <path d=\"M 40.603125 224.64 \r\nL 40.603125 7.2 \r\n\" style=\"fill:none;stroke:#000000;stroke-linecap:square;stroke-linejoin:miter;stroke-width:0.8;\"/>\r\n   </g>\r\n   <g id=\"patch_4\">\r\n    <path d=\"M 375.403125 224.64 \r\nL 375.403125 7.2 \r\n\" style=\"fill:none;stroke:#000000;stroke-linecap:square;stroke-linejoin:miter;stroke-width:0.8;\"/>\r\n   </g>\r\n   <g id=\"patch_5\">\r\n    <path d=\"M 40.603125 224.64 \r\nL 375.403125 224.64 \r\n\" style=\"fill:none;stroke:#000000;stroke-linecap:square;stroke-linejoin:miter;stroke-width:0.8;\"/>\r\n   </g>\r\n   <g id=\"patch_6\">\r\n    <path d=\"M 40.603125 7.2 \r\nL 375.403125 7.2 \r\n\" style=\"fill:none;stroke:#000000;stroke-linecap:square;stroke-linejoin:miter;stroke-width:0.8;\"/>\r\n   </g>\r\n  </g>\r\n </g>\r\n <defs>\r\n  <clipPath id=\"p5b260c2ab9\">\r\n   <rect height=\"217.44\" width=\"334.8\" x=\"40.603125\" y=\"7.2\"/>\r\n  </clipPath>\r\n </defs>\r\n</svg>\r\n",
      "image/png": "[encoded data removed]"
     },
     "metadata": {
      "needs_background": "light"
     }
    }
   ],
   "source": [
    "# visualizing the relations between \"CRIM\" and \"MEDV\"\n",
    "plt.scatter(df_data[\"CRIM\"], df_data[\"MEDV\"]) # scatter plot\n",
    "plt.xlabel(\"CRIM\") # xlabel\n",
    "plt.ylabel(\"MEDV\") # ylabel\n",
    "plt.show()"
   ]
  },
  {
   "cell_type": "code",
   "execution_count": null,
   "metadata": {},
   "outputs": [],
   "source": []
  }
 ],
 "metadata": {
  "kernelspec": {
   "display_name": "Python 3",
   "language": "python",
   "name": "python3"
  },
  "language_info": {
   "codemirror_mode": {
    "name": "ipython",
    "version": 3
   },
   "file_extension": ".py",
   "mimetype": "text/x-python",
   "name": "python",
   "nbconvert_exporter": "python",
   "pygments_lexer": "ipython3",
   "version": "3.7.3-final"
  }
 },
 "nbformat": 4,
 "nbformat_minor": 4
}