{
 "metadata": {
  "language_info": {
   "codemirror_mode": {
    "name": "ipython",
    "version": 3
   },
   "file_extension": ".py",
   "mimetype": "text/x-python",
   "name": "python",
   "nbconvert_exporter": "python",
   "pygments_lexer": "ipython3",
   "version": "3.7.3-final"
  },
  "orig_nbformat": 2,
  "kernelspec": {
   "name": "pycharm-3f214e47",
   "display_name": "Python 3.7.3 64-bit (conda)"
  }
 },
 "nbformat": 4,
 "nbformat_minor": 2,
 "cells": [
  {
   "cell_type": "code",
   "execution_count": 2,
   "metadata": {},
   "outputs": [],
   "source": [
    "from sklearn.datasets import fetch_olivetti_faces\n",
    "\n",
    "faces = fetch_olivetti_faces()\n",
    "\n",
    "X = faces.data\n",
    "y = faces.target"
   ]
  },
  {
   "cell_type": "code",
   "execution_count": 3,
   "metadata": {},
   "outputs": [],
   "source": [
    "from sklearn.model_selection import train_test_split\n",
    "X_train, X_test, y_train, y_test = train_test_split(X,y, test_size=0.2, random_state=1)"
   ]
  },
  {
   "cell_type": "code",
   "execution_count": 9,
   "metadata": {},
   "outputs": [],
   "source": [
    "from sklearn.neural_network import MLPClassifier\n",
    "from sklearn.preprocessing import StandardScaler\n",
    "scaler = StandardScaler()\n",
    "scaler.fit(X_train)\n",
    "X_train_std = scaler.transform(X_train)\n",
    "X_test_std = scaler.transform(X_test)\n",
    "\n"
   ]
  },
  {
   "cell_type": "code",
   "execution_count": 10,
   "metadata": {},
   "outputs": [
    {
     "output_type": "execute_result",
     "data": {
      "text/plain": [
       "(4096,)"
      ]
     },
     "metadata": {},
     "execution_count": 10
    }
   ],
   "source": [
    "X[0].shape"
   ]
  },
  {
   "cell_type": "code",
   "execution_count": 29,
   "metadata": {},
   "outputs": [],
   "source": [
    "mlp = MLPClassifier(hidden_layer_sizes=(100,100), max_iter=100, alpha=1e-5, solver=\"sgd\", learning_rate_init=0.01,verbose=1)\n"
   ]
  },
  {
   "cell_type": "code",
   "execution_count": 30,
   "metadata": {
    "tags": []
   },
   "outputs": [
    {
     "output_type": "stream",
     "name": "stdout",
     "text": [
      "Iteration 1, loss = 3.95580504\n",
      "Iteration 2, loss = 3.35319361\n",
      "Iteration 3, loss = 2.79782094\n",
      "Iteration 4, loss = 2.27160493\n",
      "Iteration 5, loss = 1.76834170\n",
      "Iteration 6, loss = 1.32600953\n",
      "Iteration 7, loss = 0.93602665\n",
      "Iteration 8, loss = 0.63078348\n",
      "Iteration 9, loss = 0.42347859\n",
      "Iteration 10, loss = 0.28666802\n",
      "Iteration 11, loss = 0.19122428\n",
      "Iteration 12, loss = 0.12945968\n",
      "Iteration 13, loss = 0.09044987\n",
      "Iteration 14, loss = 0.06558619\n",
      "Iteration 15, loss = 0.04815037\n",
      "Iteration 16, loss = 0.03741631\n",
      "Iteration 17, loss = 0.02943800\n",
      "Iteration 18, loss = 0.02381729\n",
      "Iteration 19, loss = 0.01966397\n",
      "Iteration 20, loss = 0.01672808\n",
      "Iteration 21, loss = 0.01463826\n",
      "Iteration 22, loss = 0.01293742\n",
      "Iteration 23, loss = 0.01169483\n",
      "Iteration 24, loss = 0.01068693\n",
      "Iteration 25, loss = 0.00989622\n",
      "Iteration 26, loss = 0.00922373\n",
      "Iteration 27, loss = 0.00866940\n",
      "Iteration 28, loss = 0.00820683\n",
      "Iteration 29, loss = 0.00783062\n",
      "Iteration 30, loss = 0.00748402\n",
      "Iteration 31, loss = 0.00718408\n",
      "Iteration 32, loss = 0.00693102\n",
      "Iteration 33, loss = 0.00669123\n",
      "Iteration 34, loss = 0.00648269\n",
      "Iteration 35, loss = 0.00630003\n",
      "Iteration 36, loss = 0.00612576\n",
      "Iteration 37, loss = 0.00596665\n",
      "Iteration 38, loss = 0.00582611\n",
      "Iteration 39, loss = 0.00569288\n",
      "Iteration 40, loss = 0.00556787\n",
      "Iteration 41, loss = 0.00545209\n",
      "Iteration 42, loss = 0.00534541\n",
      "Iteration 43, loss = 0.00524018\n",
      "Iteration 44, loss = 0.00514605\n",
      "Iteration 45, loss = 0.00505125\n",
      "Iteration 46, loss = 0.00496151\n",
      "Iteration 47, loss = 0.00488014\n",
      "Iteration 48, loss = 0.00479777\n",
      "Iteration 49, loss = 0.00472228\n",
      "Iteration 50, loss = 0.00464765\n",
      "Iteration 51, loss = 0.00457716\n",
      "Iteration 52, loss = 0.00450577\n",
      "Iteration 53, loss = 0.00443862\n",
      "Iteration 54, loss = 0.00437501\n",
      "Training loss did not improve more than tol=0.000100 for 10 consecutive epochs. Stopping.\n"
     ]
    },
    {
     "output_type": "execute_result",
     "data": {
      "text/plain": [
       "MLPClassifier(alpha=1e-05, hidden_layer_sizes=(100, 100),\n",
       "              learning_rate_init=0.01, max_iter=100, solver='sgd', verbose=1)"
      ]
     },
     "metadata": {},
     "execution_count": 30
    }
   ],
   "source": [
    "mlp.fit(X_train_std, y_train)"
   ]
  },
  {
   "cell_type": "code",
   "execution_count": 31,
   "metadata": {},
   "outputs": [
    {
     "output_type": "stream",
     "name": "stdout",
     "text": [
      "Training set score: 1.000000\nTest set score: 0.900000\n"
     ]
    }
   ],
   "source": [
    "print(\"Training set score: %f\" % mlp.score(X_train_std, y_train))\n",
    "print(\"Test set score: %f\" % mlp.score(X_test_std, y_test))\n"
   ]
  },
  {
   "cell_type": "code",
   "execution_count": null,
   "metadata": {},
   "outputs": [],
   "source": []
  },
  {
   "cell_type": "code",
   "execution_count": null,
   "metadata": {},
   "outputs": [],
   "source": []
  }
 ]
}