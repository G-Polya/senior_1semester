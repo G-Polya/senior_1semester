{
 "metadata": {
  "language_info": {
   "codemirror_mode": {
    "name": "ipython",
    "version": 3
   },
   "file_extension": ".py",
   "mimetype": "text/x-python",
   "name": "python",
   "nbconvert_exporter": "python",
   "pygments_lexer": "ipython3",
   "version": "3.7.3"
  },
  "orig_nbformat": 2,
  "kernelspec": {
   "name": "python373jvsc74a57bd0b3ba2566441a7c06988d0923437866b63cedc61552a5af99d1f4fb67d367b25f",
   "display_name": "Python 3.7.3 64-bit ('base': conda)"
  }
 },
 "nbformat": 4,
 "nbformat_minor": 2,
 "cells": [
  {
   "cell_type": "code",
   "execution_count": 1,
   "metadata": {},
   "outputs": [],
   "source": [
    "import tensorflow as tf"
   ]
  },
  {
   "cell_type": "code",
   "execution_count": 11,
   "metadata": {},
   "outputs": [],
   "source": [
    "layers = tf.keras.layers\n",
    "model = tf.keras.models.Sequential([\n",
    "    layers.Conv2D(8,kernel_size=(3,3),strides=1,input_shape=(32,32,3),activation=\"relu\"),\n",
    "    layers.MaxPool2D(pool_size=2),\n",
    "    layers.Conv2D(16,kernel_size=(3,3),activation=\"relu\"),\n",
    "    layers.MaxPool2D(pool_size=2),\n",
    "    layers.Dense(10,activation=\"softmax\")\n",
    "])"
   ]
  },
  {
   "cell_type": "code",
   "execution_count": 12,
   "metadata": {},
   "outputs": [
    {
     "output_type": "stream",
     "name": "stdout",
     "text": [
      "Model: \"sequential_4\"\n_________________________________________________________________\nLayer (type)                 Output Shape              Param #   \n=================================================================\nconv2d_5 (Conv2D)            (None, 30, 30, 8)         224       \n_________________________________________________________________\nmax_pooling2d_3 (MaxPooling2 (None, 15, 15, 8)         0         \n_________________________________________________________________\nconv2d_6 (Conv2D)            (None, 13, 13, 16)        1168      \n_________________________________________________________________\nmax_pooling2d_4 (MaxPooling2 (None, 6, 6, 16)          0         \n_________________________________________________________________\ndense_1 (Dense)              (None, 6, 6, 10)          170       \n=================================================================\nTotal params: 1,562\nTrainable params: 1,562\nNon-trainable params: 0\n_________________________________________________________________\n"
     ]
    }
   ],
   "source": [
    "model.summary()"
   ]
  },
  {
   "cell_type": "code",
   "execution_count": null,
   "metadata": {},
   "outputs": [],
   "source": []
  },
  {
   "cell_type": "code",
   "execution_count": null,
   "metadata": {},
   "outputs": [],
   "source": []
  }
 ]
}